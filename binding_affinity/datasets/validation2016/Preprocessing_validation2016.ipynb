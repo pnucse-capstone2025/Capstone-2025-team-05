{
 "cells": [
  {
   "cell_type": "code",
   "execution_count": 1,
   "id": "c74b78a5-70d1-48c4-81f9-5ace93d55918",
   "metadata": {},
   "outputs": [],
   "source": [
    "from glob import glob\n",
    "import pandas as pd\n",
    "import numpy as np\n",
    "from Bio import PDB\n",
    "import os\n",
    "os.environ[\"PATH\"] += os.pathsep + \"/opt/conda/envs/team05/bin\"\n",
    "os.environ[\"CUDA_VISIBLE_DEVICES\"] = \"1\"\n",
    "from rdkit import Chem\n",
    "from rdkit.Chem import MolToSmiles, MolFromMol2File\n",
    "from rdkit.Chem.rdmolfiles import MolFromSmiles, MolToSmiles\n",
    "from Bio.PDB import Select, PDBIO\n",
    "from Bio.PDB.PDBParser import PDBParser"
   ]
  },
  {
   "cell_type": "code",
   "execution_count": 2,
   "id": "31c6dc5b-f3c6-488e-9e61-13be29887ac0",
   "metadata": {},
   "outputs": [],
   "source": [
    "pdb_path = os.path.abspath(\"/workspace/datasets/PDBbind2016/refined\")\n",
    "info_path = os.path.abspath(\"/workspace/datasets/PDBbind/\")"
   ]
  },
  {
   "cell_type": "code",
   "execution_count": 3,
   "id": "8a120069-cd7d-40c8-8c36-7847e2ca935d",
   "metadata": {},
   "outputs": [],
   "source": [
    "complex_list = [\n",
    "    f for f in os.listdir(pdb_path)\n",
    "    if os.path.isdir(os.path.join(pdb_path, f)) and len(f) == 4\n",
    "]"
   ]
  },
  {
   "cell_type": "code",
   "execution_count": 4,
   "id": "2acb2cd0-b40d-4a54-8307-265fb8612951",
   "metadata": {},
   "outputs": [],
   "source": [
    "# import random\n",
    "\n",
    "# # 재현성을 위해 시드 고정\n",
    "# random.seed(42)\n",
    "\n",
    "# # complex_list에서 1000개 샘플링\n",
    "# val_list = random.sample(complex_list, 1000)\n",
    "\n",
    "# print(\"총 complex_list 개수:\", len(complex_list))\n",
    "# print(\"Validation용 val_list 개수:\", len(val_list))\n",
    "# print(\"샘플 10개:\", val_list[:10])"
   ]
  },
  {
   "cell_type": "code",
   "execution_count": 5,
   "id": "1fbad9e9-9311-4dd9-9cc0-6b82407b65a4",
   "metadata": {},
   "outputs": [],
   "source": [
    "from Bio.PDB import PDBParser, PDBIO, Select\n",
    "import os\n",
    "\n",
    "def remove_HETATM_PDBbind(input_list, pdb_path):\n",
    "\n",
    "    class NonHetSelect(Select):\n",
    "        def accept_residue(self, residue):\n",
    "            return 1 if residue.id[0] == \" \" else 0\n",
    "    \n",
    "    for pdb in input_list:\n",
    "        src_file = f\"{pdb_path}/{pdb}/{pdb}_protein.pdb\"\n",
    "        des_file = f\"{pdb_path}/{pdb}/{pdb}_remove_HEATM_protein.pdb\"\n",
    "\n",
    "        if os.path.exists(des_file):\n",
    "            print(f\"[SKIP] {des_file} already exists\")\n",
    "            continue\n",
    "\n",
    "        if not os.path.exists(src_file):\n",
    "            print(f\"[WARN] source file not found: {src_file}\")\n",
    "            continue\n",
    "\n",
    "        structure = PDBParser().get_structure(pdb, src_file)\n",
    "        io = PDBIO()\n",
    "        io.set_structure(structure)\n",
    "        io.save(des_file, NonHetSelect())\n",
    "        print(f\"[OK] saved: {des_file}\")\n"
   ]
  },
  {
   "cell_type": "code",
   "execution_count": 6,
   "id": "fbb75d36-a5df-4dd8-b3fa-4e787b9b3567",
   "metadata": {},
   "outputs": [],
   "source": [
    "# import os\n",
    "# import glob\n",
    "\n",
    "# def delete_remove_HETATM_files(pdb_path):\n",
    "#     pattern = os.path.join(pdb_path, \"*\", \"*_remove_HEATM_protein.pdb\")\n",
    "#     targets = glob.glob(pattern)\n",
    "#     for file in targets:\n",
    "#         try:\n",
    "#             os.remove(file)\n",
    "#             print(f\"삭제됨: {file}\")\n",
    "#         except Exception as e:\n",
    "#             print(f\"삭제 실패: {file} → {e}\")\n",
    "\n",
    "# # 사용\n",
    "# delete_remove_HETATM_files(pdb_path)\n"
   ]
  },
  {
   "cell_type": "code",
   "execution_count": 7,
   "id": "8b58aecc-3930-4d3a-ba4c-e999ac796dfa",
   "metadata": {
    "scrolled": true
   },
   "outputs": [
    {
     "name": "stderr",
     "output_type": "stream",
     "text": [
      "/opt/conda/envs/team05/lib/python3.10/site-packages/Bio/PDB/PDBParser.py:388: PDBConstructionWarning: Ignoring unrecognized record 'TER' at line 5914\n",
      "  warnings.warn(\n",
      "/opt/conda/envs/team05/lib/python3.10/site-packages/Bio/PDB/PDBParser.py:388: PDBConstructionWarning: Ignoring unrecognized record 'TER' at line 11673\n",
      "  warnings.warn(\n",
      "/opt/conda/envs/team05/lib/python3.10/site-packages/Bio/PDB/PDBParser.py:388: PDBConstructionWarning: Ignoring unrecognized record 'TER' at line 17432\n",
      "  warnings.warn(\n",
      "/opt/conda/envs/team05/lib/python3.10/site-packages/Bio/PDB/PDBParser.py:388: PDBConstructionWarning: Ignoring unrecognized record 'TER' at line 23191\n",
      "  warnings.warn(\n"
     ]
    },
    {
     "name": "stdout",
     "output_type": "stream",
     "text": [
      "[OK] saved: /workspace/datasets/PDBbind2016/refined/3cl0/3cl0_remove_HEATM_protein.pdb\n",
      "[OK] saved: /workspace/datasets/PDBbind2016/refined/4u73/4u73_remove_HEATM_protein.pdb\n"
     ]
    },
    {
     "name": "stderr",
     "output_type": "stream",
     "text": [
      "/opt/conda/envs/team05/lib/python3.10/site-packages/Bio/PDB/PDBParser.py:388: PDBConstructionWarning: Ignoring unrecognized record 'TER' at line 2939\n",
      "  warnings.warn(\n",
      "/opt/conda/envs/team05/lib/python3.10/site-packages/Bio/PDB/PDBParser.py:388: PDBConstructionWarning: Ignoring unrecognized record 'TER' at line 1402\n",
      "  warnings.warn(\n",
      "/opt/conda/envs/team05/lib/python3.10/site-packages/Bio/PDB/PDBParser.py:388: PDBConstructionWarning: Ignoring unrecognized record 'TER' at line 5321\n",
      "  warnings.warn(\n",
      "/opt/conda/envs/team05/lib/python3.10/site-packages/Bio/PDB/PDBParser.py:388: PDBConstructionWarning: Ignoring unrecognized record 'TER' at line 7688\n",
      "  warnings.warn(\n"
     ]
    },
    {
     "name": "stdout",
     "output_type": "stream",
     "text": [
      "[OK] saved: /workspace/datasets/PDBbind2016/refined/2b7d/2b7d_remove_HEATM_protein.pdb\n",
      "[OK] saved: /workspace/datasets/PDBbind2016/refined/5am6/5am6_remove_HEATM_protein.pdb\n"
     ]
    },
    {
     "name": "stderr",
     "output_type": "stream",
     "text": [
      "/opt/conda/envs/team05/lib/python3.10/site-packages/Bio/PDB/PDBParser.py:388: PDBConstructionWarning: Ignoring unrecognized record 'TER' at line 2895\n",
      "  warnings.warn(\n",
      "/opt/conda/envs/team05/lib/python3.10/site-packages/Bio/PDB/PDBParser.py:388: PDBConstructionWarning: Ignoring unrecognized record 'END' at line 3055\n",
      "  warnings.warn(\n",
      "/opt/conda/envs/team05/lib/python3.10/site-packages/Bio/PDB/PDBParser.py:388: PDBConstructionWarning: Ignoring unrecognized record 'TER' at line 1652\n",
      "  warnings.warn(\n",
      "/opt/conda/envs/team05/lib/python3.10/site-packages/Bio/PDB/PDBParser.py:388: PDBConstructionWarning: Ignoring unrecognized record 'END' at line 1696\n",
      "  warnings.warn(\n",
      "/opt/conda/envs/team05/lib/python3.10/site-packages/Bio/PDB/PDBParser.py:388: PDBConstructionWarning: Ignoring unrecognized record 'TER' at line 3536\n",
      "  warnings.warn(\n"
     ]
    },
    {
     "name": "stdout",
     "output_type": "stream",
     "text": [
      "[OK] saved: /workspace/datasets/PDBbind2016/refined/4pop/4pop_remove_HEATM_protein.pdb\n",
      "[OK] saved: /workspace/datasets/PDBbind2016/refined/2cbz/2cbz_remove_HEATM_protein.pdb\n"
     ]
    },
    {
     "name": "stderr",
     "output_type": "stream",
     "text": [
      "/opt/conda/envs/team05/lib/python3.10/site-packages/Bio/PDB/PDBParser.py:388: PDBConstructionWarning: Ignoring unrecognized record 'TER' at line 5435\n",
      "  warnings.warn(\n",
      "/opt/conda/envs/team05/lib/python3.10/site-packages/Bio/PDB/PDBParser.py:388: PDBConstructionWarning: Ignoring unrecognized record 'TER' at line 10813\n",
      "  warnings.warn(\n"
     ]
    },
    {
     "name": "stdout",
     "output_type": "stream",
     "text": [
      "[OK] saved: /workspace/datasets/PDBbind2016/refined/4ipj/4ipj_remove_HEATM_protein.pdb\n",
      "[OK] saved: /workspace/datasets/PDBbind2016/refined/2hnc/2hnc_remove_HEATM_protein.pdb\n"
     ]
    },
    {
     "name": "stderr",
     "output_type": "stream",
     "text": [
      "/opt/conda/envs/team05/lib/python3.10/site-packages/Bio/PDB/PDBParser.py:388: PDBConstructionWarning: Ignoring unrecognized record 'TER' at line 4067\n",
      "  warnings.warn(\n",
      "/opt/conda/envs/team05/lib/python3.10/site-packages/Bio/PDB/PDBParser.py:388: PDBConstructionWarning: Ignoring unrecognized record 'TER' at line 2454\n",
      "  warnings.warn(\n",
      "/opt/conda/envs/team05/lib/python3.10/site-packages/Bio/PDB/PDBParser.py:388: PDBConstructionWarning: Ignoring unrecognized record 'TER' at line 4930\n",
      "  warnings.warn(\n"
     ]
    },
    {
     "name": "stdout",
     "output_type": "stream",
     "text": [
      "[OK] saved: /workspace/datasets/PDBbind2016/refined/1dhi/1dhi_remove_HEATM_protein.pdb\n"
     ]
    },
    {
     "name": "stderr",
     "output_type": "stream",
     "text": [
      "/opt/conda/envs/team05/lib/python3.10/site-packages/Bio/PDB/PDBParser.py:388: PDBConstructionWarning: Ignoring unrecognized record 'TER' at line 5048\n",
      "  warnings.warn(\n",
      "/opt/conda/envs/team05/lib/python3.10/site-packages/Bio/PDB/PDBParser.py:388: PDBConstructionWarning: Ignoring unrecognized record 'TER' at line 10039\n",
      "  warnings.warn(\n"
     ]
    },
    {
     "name": "stdout",
     "output_type": "stream",
     "text": [
      "[OK] saved: /workspace/datasets/PDBbind2016/refined/4i74/4i74_remove_HEATM_protein.pdb\n"
     ]
    },
    {
     "name": "stderr",
     "output_type": "stream",
     "text": [
      "/opt/conda/envs/team05/lib/python3.10/site-packages/Bio/PDB/PDBParser.py:388: PDBConstructionWarning: Ignoring unrecognized record 'TER' at line 2441\n",
      "  warnings.warn(\n",
      "/opt/conda/envs/team05/lib/python3.10/site-packages/Bio/PDB/PDBParser.py:388: PDBConstructionWarning: Ignoring unrecognized record 'TER' at line 4855\n",
      "  warnings.warn(\n",
      "/opt/conda/envs/team05/lib/python3.10/site-packages/Bio/PDB/PDBParser.py:388: PDBConstructionWarning: Ignoring unrecognized record 'TER' at line 2013\n",
      "  warnings.warn(\n",
      "/opt/conda/envs/team05/lib/python3.10/site-packages/Bio/PDB/PDBParser.py:388: PDBConstructionWarning: Ignoring unrecognized record 'END' at line 2169\n",
      "  warnings.warn(\n",
      "/opt/conda/envs/team05/lib/python3.10/site-packages/Bio/PDB/PDBParser.py:388: PDBConstructionWarning: Ignoring unrecognized record 'TER' at line 4768\n",
      "  warnings.warn(\n"
     ]
    },
    {
     "name": "stdout",
     "output_type": "stream",
     "text": [
      "[OK] saved: /workspace/datasets/PDBbind2016/refined/2fqt/2fqt_remove_HEATM_protein.pdb\n",
      "[OK] saved: /workspace/datasets/PDBbind2016/refined/4xit/4xit_remove_HEATM_protein.pdb\n"
     ]
    },
    {
     "name": "stderr",
     "output_type": "stream",
     "text": [
      "/opt/conda/envs/team05/lib/python3.10/site-packages/Bio/PDB/PDBParser.py:388: PDBConstructionWarning: Ignoring unrecognized record 'TER' at line 9602\n",
      "  warnings.warn(\n",
      "/opt/conda/envs/team05/lib/python3.10/site-packages/Bio/PDB/PDBParser.py:388: PDBConstructionWarning: Ignoring unrecognized record 'END' at line 9967\n",
      "  warnings.warn(\n",
      "/opt/conda/envs/team05/lib/python3.10/site-packages/Bio/PDB/PDBParser.py:388: PDBConstructionWarning: Ignoring unrecognized record 'TER' at line 3685\n",
      "  warnings.warn(\n"
     ]
    },
    {
     "name": "stdout",
     "output_type": "stream",
     "text": [
      "[OK] saved: /workspace/datasets/PDBbind2016/refined/1e2k/1e2k_remove_HEATM_protein.pdb\n",
      "[OK] saved: /workspace/datasets/PDBbind2016/refined/1lpz/1lpz_remove_HEATM_protein.pdb\n"
     ]
    },
    {
     "name": "stderr",
     "output_type": "stream",
     "text": [
      "/opt/conda/envs/team05/lib/python3.10/site-packages/Bio/PDB/PDBParser.py:388: PDBConstructionWarning: Ignoring unrecognized record 'TER' at line 4423\n",
      "  warnings.warn(\n",
      "/opt/conda/envs/team05/lib/python3.10/site-packages/Bio/PDB/PDBParser.py:388: PDBConstructionWarning: Ignoring unrecognized record 'TER' at line 1581\n",
      "  warnings.warn(\n",
      "/opt/conda/envs/team05/lib/python3.10/site-packages/Bio/PDB/PDBParser.py:388: PDBConstructionWarning: Ignoring unrecognized record 'TER' at line 3143\n",
      "  warnings.warn(\n",
      "/opt/conda/envs/team05/lib/python3.10/site-packages/Bio/PDB/PDBParser.py:388: PDBConstructionWarning: Ignoring unrecognized record 'END' at line 3266\n",
      "  warnings.warn(\n",
      "/opt/conda/envs/team05/lib/python3.10/site-packages/Bio/PDB/PDBParser.py:388: PDBConstructionWarning: Ignoring unrecognized record 'TER' at line 4724\n",
      "  warnings.warn(\n"
     ]
    },
    {
     "name": "stdout",
     "output_type": "stream",
     "text": [
      "[OK] saved: /workspace/datasets/PDBbind2016/refined/2xj2/2xj2_remove_HEATM_protein.pdb\n",
      "[OK] saved: /workspace/datasets/PDBbind2016/refined/1w5x/1w5x_remove_HEATM_protein.pdb\n",
      "[OK] saved: /workspace/datasets/PDBbind2016/refined/1fh7/1fh7_remove_HEATM_protein.pdb\n",
      "[OK] saved: /workspace/datasets/PDBbind2016/refined/2i3h/2i3h_remove_HEATM_protein.pdb\n"
     ]
    },
    {
     "name": "stderr",
     "output_type": "stream",
     "text": [
      "/opt/conda/envs/team05/lib/python3.10/site-packages/Bio/PDB/PDBParser.py:388: PDBConstructionWarning: Ignoring unrecognized record 'TER' at line 1410\n",
      "  warnings.warn(\n",
      "/opt/conda/envs/team05/lib/python3.10/site-packages/Bio/PDB/PDBParser.py:388: PDBConstructionWarning: Ignoring unrecognized record 'TER' at line 7700\n",
      "  warnings.warn(\n"
     ]
    },
    {
     "name": "stdout",
     "output_type": "stream",
     "text": [
      "[OK] saved: /workspace/datasets/PDBbind2016/refined/1xd0/1xd0_remove_HEATM_protein.pdb\n",
      "[OK] saved: /workspace/datasets/PDBbind2016/refined/2rfh/2rfh_remove_HEATM_protein.pdb\n"
     ]
    },
    {
     "name": "stderr",
     "output_type": "stream",
     "text": [
      "/opt/conda/envs/team05/lib/python3.10/site-packages/Bio/PDB/PDBParser.py:388: PDBConstructionWarning: Ignoring unrecognized record 'TER' at line 4803\n",
      "  warnings.warn(\n",
      "/opt/conda/envs/team05/lib/python3.10/site-packages/Bio/PDB/PDBParser.py:388: PDBConstructionWarning: Ignoring unrecognized record 'TER' at line 3817\n",
      "  warnings.warn(\n",
      "/opt/conda/envs/team05/lib/python3.10/site-packages/Bio/PDB/PDBParser.py:388: PDBConstructionWarning: Ignoring unrecognized record 'TER' at line 7593\n",
      "  warnings.warn(\n",
      "/opt/conda/envs/team05/lib/python3.10/site-packages/Bio/PDB/PDBParser.py:388: PDBConstructionWarning: Ignoring unrecognized record 'END' at line 7619\n",
      "  warnings.warn(\n",
      "/opt/conda/envs/team05/lib/python3.10/site-packages/Bio/PDB/PDBParser.py:388: PDBConstructionWarning: Ignoring unrecognized record 'TER' at line 3209\n",
      "  warnings.warn(\n",
      "/opt/conda/envs/team05/lib/python3.10/site-packages/Bio/PDB/PDBParser.py:388: PDBConstructionWarning: Ignoring unrecognized record 'TER' at line 6379\n",
      "  warnings.warn(\n"
     ]
    },
    {
     "name": "stdout",
     "output_type": "stream",
     "text": [
      "[OK] saved: /workspace/datasets/PDBbind2016/refined/2ypi/2ypi_remove_HEATM_protein.pdb\n",
      "[OK] saved: /workspace/datasets/PDBbind2016/refined/1atl/1atl_remove_HEATM_protein.pdb\n"
     ]
    },
    {
     "name": "stderr",
     "output_type": "stream",
     "text": [
      "/opt/conda/envs/team05/lib/python3.10/site-packages/Bio/PDB/PDBParser.py:388: PDBConstructionWarning: Ignoring unrecognized record 'TER' at line 8146\n",
      "  warnings.warn(\n",
      "/opt/conda/envs/team05/lib/python3.10/site-packages/Bio/PDB/PDBParser.py:388: PDBConstructionWarning: Ignoring unrecognized record 'END' at line 8556\n",
      "  warnings.warn(\n",
      "/opt/conda/envs/team05/lib/python3.10/site-packages/Bio/PDB/PDBParser.py:388: PDBConstructionWarning: Ignoring unrecognized record 'TER' at line 2437\n",
      "  warnings.warn(\n",
      "/opt/conda/envs/team05/lib/python3.10/site-packages/Bio/PDB/PDBParser.py:388: PDBConstructionWarning: Ignoring unrecognized record 'END' at line 2718\n",
      "  warnings.warn(\n"
     ]
    },
    {
     "name": "stdout",
     "output_type": "stream",
     "text": [
      "[OK] saved: /workspace/datasets/PDBbind2016/refined/4bqh/4bqh_remove_HEATM_protein.pdb\n",
      "[OK] saved: /workspace/datasets/PDBbind2016/refined/4xu2/4xu2_remove_HEATM_protein.pdb\n"
     ]
    },
    {
     "name": "stderr",
     "output_type": "stream",
     "text": [
      "/opt/conda/envs/team05/lib/python3.10/site-packages/Bio/PDB/PDBParser.py:388: PDBConstructionWarning: Ignoring unrecognized record 'TER' at line 5407\n",
      "  warnings.warn(\n",
      "/opt/conda/envs/team05/lib/python3.10/site-packages/Bio/PDB/PDBParser.py:388: PDBConstructionWarning: Ignoring unrecognized record 'TER' at line 10757\n",
      "  warnings.warn(\n"
     ]
    },
    {
     "name": "stdout",
     "output_type": "stream",
     "text": [
      "[OK] saved: /workspace/datasets/PDBbind2016/refined/2wqp/2wqp_remove_HEATM_protein.pdb\n",
      "[OK] saved: /workspace/datasets/PDBbind2016/refined/1k6v/1k6v_remove_HEATM_protein.pdb\n",
      "[OK] saved: /workspace/datasets/PDBbind2016/refined/3cm2/3cm2_remove_HEATM_protein.pdb\n"
     ]
    },
    {
     "name": "stderr",
     "output_type": "stream",
     "text": [
      "/opt/conda/envs/team05/lib/python3.10/site-packages/Bio/PDB/PDBParser.py:388: PDBConstructionWarning: Ignoring unrecognized record 'TER' at line 1566\n",
      "  warnings.warn(\n",
      "/opt/conda/envs/team05/lib/python3.10/site-packages/Bio/PDB/PDBParser.py:388: PDBConstructionWarning: Ignoring unrecognized record 'TER' at line 3113\n",
      "  warnings.warn(\n",
      "/opt/conda/envs/team05/lib/python3.10/site-packages/Bio/PDB/PDBParser.py:388: PDBConstructionWarning: Ignoring unrecognized record 'END' at line 3272\n",
      "  warnings.warn(\n",
      "/opt/conda/envs/team05/lib/python3.10/site-packages/Bio/PDB/PDBParser.py:388: PDBConstructionWarning: Ignoring unrecognized record 'TER' at line 1628\n",
      "  warnings.warn(\n",
      "/opt/conda/envs/team05/lib/python3.10/site-packages/Bio/PDB/PDBParser.py:388: PDBConstructionWarning: Ignoring unrecognized record 'TER' at line 8253\n",
      "  warnings.warn(\n"
     ]
    },
    {
     "name": "stdout",
     "output_type": "stream",
     "text": [
      "[OK] saved: /workspace/datasets/PDBbind2016/refined/1b05/1b05_remove_HEATM_protein.pdb\n"
     ]
    },
    {
     "name": "stderr",
     "output_type": "stream",
     "text": [
      "/opt/conda/envs/team05/lib/python3.10/site-packages/Bio/PDB/PDBParser.py:388: PDBConstructionWarning: Ignoring unrecognized record 'TER' at line 7825\n",
      "  warnings.warn(\n",
      "/opt/conda/envs/team05/lib/python3.10/site-packages/Bio/PDB/PDBParser.py:388: PDBConstructionWarning: Ignoring unrecognized record 'END' at line 8038\n",
      "  warnings.warn(\n",
      "/opt/conda/envs/team05/lib/python3.10/site-packages/Bio/PDB/PDBParser.py:388: PDBConstructionWarning: Ignoring unrecognized record 'TER' at line 1511\n",
      "  warnings.warn(\n",
      "/opt/conda/envs/team05/lib/python3.10/site-packages/Bio/PDB/PDBParser.py:388: PDBConstructionWarning: Ignoring unrecognized record 'TER' at line 2825\n",
      "  warnings.warn(\n"
     ]
    },
    {
     "name": "stdout",
     "output_type": "stream",
     "text": [
      "[OK] saved: /workspace/datasets/PDBbind2016/refined/4bc5/4bc5_remove_HEATM_protein.pdb\n"
     ]
    },
    {
     "name": "stderr",
     "output_type": "stream",
     "text": [
      "/opt/conda/envs/team05/lib/python3.10/site-packages/Bio/PDB/PDBParser.py:388: PDBConstructionWarning: Ignoring unrecognized record 'TER' at line 4285\n",
      "  warnings.warn(\n",
      "/opt/conda/envs/team05/lib/python3.10/site-packages/Bio/PDB/PDBParser.py:388: PDBConstructionWarning: Ignoring unrecognized record 'TER' at line 5599\n",
      "  warnings.warn(\n",
      "/opt/conda/envs/team05/lib/python3.10/site-packages/Bio/PDB/PDBParser.py:388: PDBConstructionWarning: Ignoring unrecognized record 'END' at line 6089\n",
      "  warnings.warn(\n",
      "/opt/conda/envs/team05/lib/python3.10/site-packages/Bio/PDB/PDBParser.py:388: PDBConstructionWarning: Ignoring unrecognized record 'TER' at line 1870\n",
      "  warnings.warn(\n"
     ]
    },
    {
     "name": "stdout",
     "output_type": "stream",
     "text": [
      "[OK] saved: /workspace/datasets/PDBbind2016/refined/4rlt/4rlt_remove_HEATM_protein.pdb\n",
      "[OK] saved: /workspace/datasets/PDBbind2016/refined/4g8v/4g8v_remove_HEATM_protein.pdb\n"
     ]
    },
    {
     "name": "stderr",
     "output_type": "stream",
     "text": [
      "/opt/conda/envs/team05/lib/python3.10/site-packages/Bio/PDB/PDBParser.py:388: PDBConstructionWarning: Ignoring unrecognized record 'TER' at line 9160\n",
      "  warnings.warn(\n",
      "/opt/conda/envs/team05/lib/python3.10/site-packages/Bio/PDB/PDBParser.py:388: PDBConstructionWarning: Ignoring unrecognized record 'TER' at line 18225\n",
      "  warnings.warn(\n"
     ]
    },
    {
     "name": "stdout",
     "output_type": "stream",
     "text": [
      "[OK] saved: /workspace/datasets/PDBbind2016/refined/3nsn/3nsn_remove_HEATM_protein.pdb\n",
      "[OK] saved: /workspace/datasets/PDBbind2016/refined/1a4w/1a4w_remove_HEATM_protein.pdb\n"
     ]
    },
    {
     "name": "stderr",
     "output_type": "stream",
     "text": [
      "/opt/conda/envs/team05/lib/python3.10/site-packages/Bio/PDB/PDBParser.py:388: PDBConstructionWarning: Ignoring unrecognized record 'TER' at line 426\n",
      "  warnings.warn(\n",
      "/opt/conda/envs/team05/lib/python3.10/site-packages/Bio/PDB/PDBParser.py:388: PDBConstructionWarning: Ignoring unrecognized record 'TER' at line 4320\n",
      "  warnings.warn(\n",
      "/opt/conda/envs/team05/lib/python3.10/site-packages/Bio/PDB/PDBParser.py:388: PDBConstructionWarning: Ignoring unrecognized record 'TER' at line 1885\n",
      "  warnings.warn(\n",
      "/opt/conda/envs/team05/lib/python3.10/site-packages/Bio/PDB/PDBParser.py:388: PDBConstructionWarning: Ignoring unrecognized record 'TER' at line 3701\n",
      "  warnings.warn(\n",
      "/opt/conda/envs/team05/lib/python3.10/site-packages/Bio/PDB/PDBParser.py:388: PDBConstructionWarning: Ignoring unrecognized record 'END' at line 3745\n",
      "  warnings.warn(\n",
      "/opt/conda/envs/team05/lib/python3.10/site-packages/Bio/PDB/PDBParser.py:388: PDBConstructionWarning: Ignoring unrecognized record 'TER' at line 2759\n",
      "  warnings.warn(\n",
      "/opt/conda/envs/team05/lib/python3.10/site-packages/Bio/PDB/PDBParser.py:388: PDBConstructionWarning: Ignoring unrecognized record 'END' at line 2906\n",
      "  warnings.warn(\n",
      "/opt/conda/envs/team05/lib/python3.10/site-packages/Bio/PDB/PDBParser.py:388: PDBConstructionWarning: Ignoring unrecognized record 'TER' at line 3448\n",
      "  warnings.warn(\n"
     ]
    },
    {
     "name": "stdout",
     "output_type": "stream",
     "text": [
      "[OK] saved: /workspace/datasets/PDBbind2016/refined/3f8f/3f8f_remove_HEATM_protein.pdb\n",
      "[OK] saved: /workspace/datasets/PDBbind2016/refined/4pmm/4pmm_remove_HEATM_protein.pdb\n"
     ]
    },
    {
     "name": "stderr",
     "output_type": "stream",
     "text": [
      "/opt/conda/envs/team05/lib/python3.10/site-packages/Bio/PDB/PDBParser.py:388: PDBConstructionWarning: Ignoring unrecognized record 'TER' at line 6859\n",
      "  warnings.warn(\n",
      "/opt/conda/envs/team05/lib/python3.10/site-packages/Bio/PDB/PDBParser.py:388: PDBConstructionWarning: Ignoring unrecognized record 'END' at line 7048\n",
      "  warnings.warn(\n"
     ]
    },
    {
     "name": "stdout",
     "output_type": "stream",
     "text": [
      "[OK] saved: /workspace/datasets/PDBbind2016/refined/1bgq/1bgq_remove_HEATM_protein.pdb\n"
     ]
    },
    {
     "name": "stderr",
     "output_type": "stream",
     "text": [
      "/opt/conda/envs/team05/lib/python3.10/site-packages/Bio/PDB/PDBParser.py:388: PDBConstructionWarning: Ignoring unrecognized record 'TER' at line 9586\n",
      "  warnings.warn(\n",
      "/opt/conda/envs/team05/lib/python3.10/site-packages/Bio/PDB/PDBParser.py:388: PDBConstructionWarning: Ignoring unrecognized record 'TER' at line 1334\n",
      "  warnings.warn(\n",
      "/opt/conda/envs/team05/lib/python3.10/site-packages/Bio/PDB/PDBParser.py:388: PDBConstructionWarning: Ignoring unrecognized record 'TER' at line 2644\n",
      "  warnings.warn(\n",
      "/opt/conda/envs/team05/lib/python3.10/site-packages/Bio/PDB/PDBParser.py:388: PDBConstructionWarning: Ignoring unrecognized record 'TER' at line 3954\n",
      "  warnings.warn(\n"
     ]
    },
    {
     "name": "stdout",
     "output_type": "stream",
     "text": [
      "[OK] saved: /workspace/datasets/PDBbind2016/refined/2x8z/2x8z_remove_HEATM_protein.pdb\n",
      "[OK] saved: /workspace/datasets/PDBbind2016/refined/3zi8/3zi8_remove_HEATM_protein.pdb\n"
     ]
    },
    {
     "name": "stderr",
     "output_type": "stream",
     "text": [
      "/opt/conda/envs/team05/lib/python3.10/site-packages/Bio/PDB/PDBParser.py:388: PDBConstructionWarning: Ignoring unrecognized record 'TER' at line 3548\n",
      "  warnings.warn(\n",
      "/opt/conda/envs/team05/lib/python3.10/site-packages/Bio/PDB/PDBParser.py:388: PDBConstructionWarning: Ignoring unrecognized record 'TER' at line 7966\n",
      "  warnings.warn(\n",
      "/opt/conda/envs/team05/lib/python3.10/site-packages/Bio/PDB/PDBParser.py:388: PDBConstructionWarning: Ignoring unrecognized record 'TER' at line 8224\n",
      "  warnings.warn(\n",
      "/opt/conda/envs/team05/lib/python3.10/site-packages/Bio/PDB/PDBParser.py:388: PDBConstructionWarning: Ignoring unrecognized record 'END' at line 8356\n",
      "  warnings.warn(\n"
     ]
    },
    {
     "name": "stdout",
     "output_type": "stream",
     "text": [
      "[OK] saved: /workspace/datasets/PDBbind2016/refined/1fm9/1fm9_remove_HEATM_protein.pdb\n"
     ]
    },
    {
     "name": "stderr",
     "output_type": "stream",
     "text": [
      "/opt/conda/envs/team05/lib/python3.10/site-packages/Bio/PDB/PDBParser.py:388: PDBConstructionWarning: Ignoring unrecognized record 'TER' at line 12630\n",
      "  warnings.warn(\n",
      "/opt/conda/envs/team05/lib/python3.10/site-packages/Bio/PDB/PDBParser.py:388: PDBConstructionWarning: Ignoring unrecognized record 'TER' at line 25133\n",
      "  warnings.warn(\n"
     ]
    },
    {
     "name": "stdout",
     "output_type": "stream",
     "text": [
      "[OK] saved: /workspace/datasets/PDBbind2016/refined/3lq2/3lq2_remove_HEATM_protein.pdb\n"
     ]
    },
    {
     "name": "stderr",
     "output_type": "stream",
     "text": [
      "/opt/conda/envs/team05/lib/python3.10/site-packages/Bio/PDB/PDBParser.py:388: PDBConstructionWarning: Ignoring unrecognized record 'TER' at line 7127\n",
      "  warnings.warn(\n",
      "/opt/conda/envs/team05/lib/python3.10/site-packages/Bio/PDB/PDBParser.py:388: PDBConstructionWarning: Ignoring unrecognized record 'TER' at line 14106\n",
      "  warnings.warn(\n",
      "/opt/conda/envs/team05/lib/python3.10/site-packages/Bio/PDB/PDBParser.py:388: PDBConstructionWarning: Ignoring unrecognized record 'TER' at line 21086\n",
      "  warnings.warn(\n",
      "/opt/conda/envs/team05/lib/python3.10/site-packages/Bio/PDB/PDBParser.py:388: PDBConstructionWarning: Ignoring unrecognized record 'TER' at line 28065\n",
      "  warnings.warn(\n"
     ]
    },
    {
     "name": "stdout",
     "output_type": "stream",
     "text": [
      "[OK] saved: /workspace/datasets/PDBbind2016/refined/2ypo/2ypo_remove_HEATM_protein.pdb\n",
      "[OK] saved: /workspace/datasets/PDBbind2016/refined/2y5f/2y5f_remove_HEATM_protein.pdb\n"
     ]
    },
    {
     "name": "stderr",
     "output_type": "stream",
     "text": [
      "/opt/conda/envs/team05/lib/python3.10/site-packages/Bio/PDB/PDBParser.py:388: PDBConstructionWarning: Ignoring unrecognized record 'TER' at line 3674\n",
      "  warnings.warn(\n",
      "/opt/conda/envs/team05/lib/python3.10/site-packages/Bio/PDB/PDBParser.py:388: PDBConstructionWarning: Ignoring unrecognized record 'TER' at line 4459\n",
      "  warnings.warn(\n",
      "/opt/conda/envs/team05/lib/python3.10/site-packages/Bio/PDB/PDBParser.py:388: PDBConstructionWarning: Ignoring unrecognized record 'TER' at line 4423\n",
      "  warnings.warn(\n"
     ]
    },
    {
     "name": "stdout",
     "output_type": "stream",
     "text": [
      "[OK] saved: /workspace/datasets/PDBbind2016/refined/2xj1/2xj1_remove_HEATM_protein.pdb\n"
     ]
    },
    {
     "name": "stderr",
     "output_type": "stream",
     "text": [
      "/opt/conda/envs/team05/lib/python3.10/site-packages/Bio/PDB/PDBParser.py:388: PDBConstructionWarning: Ignoring unrecognized record 'TER' at line 4045\n",
      "  warnings.warn(\n",
      "/opt/conda/envs/team05/lib/python3.10/site-packages/Bio/PDB/PDBParser.py:388: PDBConstructionWarning: Ignoring unrecognized record 'TER' at line 4494\n",
      "  warnings.warn(\n"
     ]
    },
    {
     "name": "stdout",
     "output_type": "stream",
     "text": [
      "[OK] saved: /workspace/datasets/PDBbind2016/refined/1vzq/1vzq_remove_HEATM_protein.pdb\n",
      "[OK] saved: /workspace/datasets/PDBbind2016/refined/4xiq/4xiq_remove_HEATM_protein.pdb\n",
      "[OK] saved: /workspace/datasets/PDBbind2016/refined/3t5u/3t5u_remove_HEATM_protein.pdb\n"
     ]
    },
    {
     "name": "stderr",
     "output_type": "stream",
     "text": [
      "/opt/conda/envs/team05/lib/python3.10/site-packages/Bio/PDB/PDBParser.py:388: PDBConstructionWarning: Ignoring unrecognized record 'TER' at line 2027\n",
      "  warnings.warn(\n",
      "/opt/conda/envs/team05/lib/python3.10/site-packages/Bio/PDB/PDBParser.py:388: PDBConstructionWarning: Ignoring unrecognized record 'END' at line 2190\n",
      "  warnings.warn(\n",
      "/opt/conda/envs/team05/lib/python3.10/site-packages/Bio/PDB/PDBParser.py:388: PDBConstructionWarning: Ignoring unrecognized record 'TER' at line 4048\n",
      "  warnings.warn(\n",
      "/opt/conda/envs/team05/lib/python3.10/site-packages/Bio/PDB/PDBParser.py:388: PDBConstructionWarning: Ignoring unrecognized record 'TER' at line 1765\n",
      "  warnings.warn(\n",
      "/opt/conda/envs/team05/lib/python3.10/site-packages/Bio/PDB/PDBParser.py:388: PDBConstructionWarning: Ignoring unrecognized record 'TER' at line 3368\n",
      "  warnings.warn(\n",
      "/opt/conda/envs/team05/lib/python3.10/site-packages/Bio/PDB/PDBParser.py:388: PDBConstructionWarning: Ignoring unrecognized record 'TER' at line 5175\n",
      "  warnings.warn(\n",
      "/opt/conda/envs/team05/lib/python3.10/site-packages/Bio/PDB/PDBParser.py:388: PDBConstructionWarning: Ignoring unrecognized record 'END' at line 5251\n",
      "  warnings.warn(\n",
      "/opt/conda/envs/team05/lib/python3.10/site-packages/Bio/PDB/PDBParser.py:388: PDBConstructionWarning: Ignoring unrecognized record 'TER' at line 1433\n",
      "  warnings.warn(\n",
      "/opt/conda/envs/team05/lib/python3.10/site-packages/Bio/PDB/PDBParser.py:388: PDBConstructionWarning: Ignoring unrecognized record 'TER' at line 2731\n",
      "  warnings.warn(\n",
      "/opt/conda/envs/team05/lib/python3.10/site-packages/Bio/PDB/PDBParser.py:388: PDBConstructionWarning: Ignoring unrecognized record 'TER' at line 4029\n",
      "  warnings.warn(\n"
     ]
    },
    {
     "name": "stdout",
     "output_type": "stream",
     "text": [
      "[OK] saved: /workspace/datasets/PDBbind2016/refined/3ta1/3ta1_remove_HEATM_protein.pdb\n"
     ]
    },
    {
     "name": "stderr",
     "output_type": "stream",
     "text": [
      "/opt/conda/envs/team05/lib/python3.10/site-packages/Bio/PDB/PDBParser.py:388: PDBConstructionWarning: Ignoring unrecognized record 'TER' at line 5340\n",
      "  warnings.warn(\n",
      "/opt/conda/envs/team05/lib/python3.10/site-packages/Bio/PDB/PDBParser.py:388: PDBConstructionWarning: Ignoring unrecognized record 'TER' at line 6638\n",
      "  warnings.warn(\n",
      "/opt/conda/envs/team05/lib/python3.10/site-packages/Bio/PDB/PDBParser.py:388: PDBConstructionWarning: Ignoring unrecognized record 'TER' at line 7936\n",
      "  warnings.warn(\n",
      "/opt/conda/envs/team05/lib/python3.10/site-packages/Bio/PDB/PDBParser.py:388: PDBConstructionWarning: Ignoring unrecognized record 'TER' at line 9234\n",
      "  warnings.warn(\n",
      "/opt/conda/envs/team05/lib/python3.10/site-packages/Bio/PDB/PDBParser.py:388: PDBConstructionWarning: Ignoring unrecognized record 'TER' at line 10532\n",
      "  warnings.warn(\n",
      "/opt/conda/envs/team05/lib/python3.10/site-packages/Bio/PDB/PDBParser.py:388: PDBConstructionWarning: Ignoring unrecognized record 'TER' at line 11830\n",
      "  warnings.warn(\n",
      "/opt/conda/envs/team05/lib/python3.10/site-packages/Bio/PDB/PDBParser.py:388: PDBConstructionWarning: Ignoring unrecognized record 'TER' at line 13128\n",
      "  warnings.warn(\n",
      "/opt/conda/envs/team05/lib/python3.10/site-packages/Bio/PDB/PDBParser.py:388: PDBConstructionWarning: Ignoring unrecognized record 'TER' at line 14415\n",
      "  warnings.warn(\n",
      "/opt/conda/envs/team05/lib/python3.10/site-packages/Bio/PDB/PDBParser.py:388: PDBConstructionWarning: Ignoring unrecognized record 'TER' at line 15713\n",
      "  warnings.warn(\n",
      "/opt/conda/envs/team05/lib/python3.10/site-packages/Bio/PDB/PDBParser.py:388: PDBConstructionWarning: Ignoring unrecognized record 'END' at line 16151\n",
      "  warnings.warn(\n"
     ]
    },
    {
     "name": "stdout",
     "output_type": "stream",
     "text": [
      "[OK] saved: /workspace/datasets/PDBbind2016/refined/4kiu/4kiu_remove_HEATM_protein.pdb\n"
     ]
    },
    {
     "name": "stderr",
     "output_type": "stream",
     "text": [
      "/opt/conda/envs/team05/lib/python3.10/site-packages/Bio/PDB/PDBParser.py:388: PDBConstructionWarning: Ignoring unrecognized record 'TER' at line 2929\n",
      "  warnings.warn(\n",
      "/opt/conda/envs/team05/lib/python3.10/site-packages/Bio/PDB/PDBParser.py:388: PDBConstructionWarning: Ignoring unrecognized record 'TER' at line 5812\n",
      "  warnings.warn(\n",
      "/opt/conda/envs/team05/lib/python3.10/site-packages/Bio/PDB/PDBParser.py:388: PDBConstructionWarning: Ignoring unrecognized record 'TER' at line 8659\n",
      "  warnings.warn(\n"
     ]
    },
    {
     "name": "stdout",
     "output_type": "stream",
     "text": [
      "[OK] saved: /workspace/datasets/PDBbind2016/refined/3qnd/3qnd_remove_HEATM_protein.pdb\n",
      "[OK] saved: /workspace/datasets/PDBbind2016/refined/4m8e/4m8e_remove_HEATM_protein.pdb\n",
      "[OK] saved: /workspace/datasets/PDBbind2016/refined/4q46/4q46_remove_HEATM_protein.pdb\n"
     ]
    },
    {
     "name": "stderr",
     "output_type": "stream",
     "text": [
      "/opt/conda/envs/team05/lib/python3.10/site-packages/Bio/PDB/PDBParser.py:388: PDBConstructionWarning: Ignoring unrecognized record 'TER' at line 2056\n",
      "  warnings.warn(\n",
      "/opt/conda/envs/team05/lib/python3.10/site-packages/Bio/PDB/PDBParser.py:388: PDBConstructionWarning: Ignoring unrecognized record 'END' at line 2187\n",
      "  warnings.warn(\n",
      "/opt/conda/envs/team05/lib/python3.10/site-packages/Bio/PDB/PDBParser.py:388: PDBConstructionWarning: Ignoring unrecognized record 'TER' at line 1681\n",
      "  warnings.warn(\n",
      "/opt/conda/envs/team05/lib/python3.10/site-packages/Bio/PDB/PDBParser.py:388: PDBConstructionWarning: Ignoring unrecognized record 'END' at line 1894\n",
      "  warnings.warn(\n",
      "/opt/conda/envs/team05/lib/python3.10/site-packages/Bio/PDB/PDBParser.py:388: PDBConstructionWarning: Ignoring unrecognized record 'TER' at line 13285\n",
      "  warnings.warn(\n",
      "/opt/conda/envs/team05/lib/python3.10/site-packages/Bio/PDB/PDBParser.py:388: PDBConstructionWarning: Ignoring unrecognized record 'TER' at line 26441\n",
      "  warnings.warn(\n"
     ]
    },
    {
     "name": "stdout",
     "output_type": "stream",
     "text": [
      "[OK] saved: /workspace/datasets/PDBbind2016/refined/3l7a/3l7a_remove_HEATM_protein.pdb\n",
      "[OK] saved: /workspace/datasets/PDBbind2016/refined/4jc1/4jc1_remove_HEATM_protein.pdb\n"
     ]
    },
    {
     "name": "stderr",
     "output_type": "stream",
     "text": [
      "/opt/conda/envs/team05/lib/python3.10/site-packages/Bio/PDB/PDBParser.py:388: PDBConstructionWarning: Ignoring unrecognized record 'TER' at line 2241\n",
      "  warnings.warn(\n",
      "/opt/conda/envs/team05/lib/python3.10/site-packages/Bio/PDB/PDBParser.py:388: PDBConstructionWarning: Ignoring unrecognized record 'END' at line 2377\n",
      "  warnings.warn(\n",
      "/opt/conda/envs/team05/lib/python3.10/site-packages/Bio/PDB/PDBParser.py:388: PDBConstructionWarning: Ignoring unrecognized record 'TER' at line 3449\n",
      "  warnings.warn(\n",
      "/opt/conda/envs/team05/lib/python3.10/site-packages/Bio/PDB/PDBParser.py:388: PDBConstructionWarning: Ignoring unrecognized record 'TER' at line 7075\n",
      "  warnings.warn(\n",
      "/opt/conda/envs/team05/lib/python3.10/site-packages/Bio/PDB/PDBParser.py:388: PDBConstructionWarning: Ignoring unrecognized record 'END' at line 7485\n",
      "  warnings.warn(\n"
     ]
    },
    {
     "name": "stdout",
     "output_type": "stream",
     "text": [
      "[OK] saved: /workspace/datasets/PDBbind2016/refined/1ydk/1ydk_remove_HEATM_protein.pdb\n"
     ]
    },
    {
     "name": "stderr",
     "output_type": "stream",
     "text": [
      "/opt/conda/envs/team05/lib/python3.10/site-packages/Bio/PDB/PDBParser.py:388: PDBConstructionWarning: Ignoring unrecognized record 'TER' at line 5907\n",
      "  warnings.warn(\n",
      "/opt/conda/envs/team05/lib/python3.10/site-packages/Bio/PDB/PDBParser.py:388: PDBConstructionWarning: Ignoring unrecognized record 'END' at line 6039\n",
      "  warnings.warn(\n",
      "/opt/conda/envs/team05/lib/python3.10/site-packages/Bio/PDB/PDBParser.py:388: PDBConstructionWarning: Ignoring unrecognized record 'TER' at line 4149\n",
      "  warnings.warn(\n",
      "/opt/conda/envs/team05/lib/python3.10/site-packages/Bio/PDB/PDBParser.py:388: PDBConstructionWarning: Ignoring unrecognized record 'TER' at line 5678\n",
      "  warnings.warn(\n"
     ]
    },
    {
     "name": "stdout",
     "output_type": "stream",
     "text": [
      "[OK] saved: /workspace/datasets/PDBbind2016/refined/3ldp/3ldp_remove_HEATM_protein.pdb\n",
      "[OK] saved: /workspace/datasets/PDBbind2016/refined/3g08/3g08_remove_HEATM_protein.pdb\n"
     ]
    },
    {
     "name": "stderr",
     "output_type": "stream",
     "text": [
      "/opt/conda/envs/team05/lib/python3.10/site-packages/Bio/PDB/PDBParser.py:388: PDBConstructionWarning: Ignoring unrecognized record 'TER' at line 6565\n",
      "  warnings.warn(\n",
      "/opt/conda/envs/team05/lib/python3.10/site-packages/Bio/PDB/PDBParser.py:388: PDBConstructionWarning: Ignoring unrecognized record 'END' at line 6857\n",
      "  warnings.warn(\n",
      "/opt/conda/envs/team05/lib/python3.10/site-packages/Bio/PDB/PDBParser.py:388: PDBConstructionWarning: Ignoring unrecognized record 'TER' at line 3947\n",
      "  warnings.warn(\n",
      "/opt/conda/envs/team05/lib/python3.10/site-packages/Bio/PDB/PDBParser.py:388: PDBConstructionWarning: Ignoring unrecognized record 'END' at line 4111\n",
      "  warnings.warn(\n"
     ]
    },
    {
     "name": "stdout",
     "output_type": "stream",
     "text": [
      "[OK] saved: /workspace/datasets/PDBbind2016/refined/1zc9/1zc9_remove_HEATM_protein.pdb\n",
      "[OK] saved: /workspace/datasets/PDBbind2016/refined/1xt8/1xt8_remove_HEATM_protein.pdb\n"
     ]
    },
    {
     "name": "stderr",
     "output_type": "stream",
     "text": [
      "/opt/conda/envs/team05/lib/python3.10/site-packages/Bio/PDB/PDBParser.py:388: PDBConstructionWarning: Ignoring unrecognized record 'TER' at line 4174\n",
      "  warnings.warn(\n"
     ]
    },
    {
     "name": "stdout",
     "output_type": "stream",
     "text": [
      "[OK] saved: /workspace/datasets/PDBbind2016/refined/2uy4/2uy4_remove_HEATM_protein.pdb\n"
     ]
    },
    {
     "name": "stderr",
     "output_type": "stream",
     "text": [
      "/opt/conda/envs/team05/lib/python3.10/site-packages/Bio/PDB/PDBParser.py:388: PDBConstructionWarning: Ignoring unrecognized record 'TER' at line 5149\n",
      "  warnings.warn(\n",
      "/opt/conda/envs/team05/lib/python3.10/site-packages/Bio/PDB/PDBParser.py:388: PDBConstructionWarning: Ignoring unrecognized record 'END' at line 5686\n",
      "  warnings.warn(\n",
      "/opt/conda/envs/team05/lib/python3.10/site-packages/Bio/PDB/PDBParser.py:388: PDBConstructionWarning: Ignoring unrecognized record 'TER' at line 2687\n",
      "  warnings.warn(\n",
      "/opt/conda/envs/team05/lib/python3.10/site-packages/Bio/PDB/PDBParser.py:388: PDBConstructionWarning: Ignoring unrecognized record 'TER' at line 5355\n",
      "  warnings.warn(\n",
      "/opt/conda/envs/team05/lib/python3.10/site-packages/Bio/PDB/PDBParser.py:388: PDBConstructionWarning: Ignoring unrecognized record 'END' at line 5607\n",
      "  warnings.warn(\n"
     ]
    },
    {
     "name": "stdout",
     "output_type": "stream",
     "text": [
      "[OK] saved: /workspace/datasets/PDBbind2016/refined/3ip6/3ip6_remove_HEATM_protein.pdb\n",
      "[OK] saved: /workspace/datasets/PDBbind2016/refined/3guz/3guz_remove_HEATM_protein.pdb\n"
     ]
    },
    {
     "name": "stderr",
     "output_type": "stream",
     "text": [
      "/opt/conda/envs/team05/lib/python3.10/site-packages/Bio/PDB/PDBParser.py:388: PDBConstructionWarning: Ignoring unrecognized record 'TER' at line 4104\n",
      "  warnings.warn(\n",
      "/opt/conda/envs/team05/lib/python3.10/site-packages/Bio/PDB/PDBParser.py:388: PDBConstructionWarning: Ignoring unrecognized record 'TER' at line 8175\n",
      "  warnings.warn(\n",
      "/opt/conda/envs/team05/lib/python3.10/site-packages/Bio/PDB/PDBParser.py:388: PDBConstructionWarning: Ignoring unrecognized record 'TER' at line 12194\n",
      "  warnings.warn(\n",
      "/opt/conda/envs/team05/lib/python3.10/site-packages/Bio/PDB/PDBParser.py:388: PDBConstructionWarning: Ignoring unrecognized record 'TER' at line 16265\n",
      "  warnings.warn(\n",
      "/opt/conda/envs/team05/lib/python3.10/site-packages/Bio/PDB/PDBParser.py:388: PDBConstructionWarning: Ignoring unrecognized record 'TER' at line 1581\n",
      "  warnings.warn(\n"
     ]
    },
    {
     "name": "stdout",
     "output_type": "stream",
     "text": [
      "[OK] saved: /workspace/datasets/PDBbind2016/refined/4e0x/4e0x_remove_HEATM_protein.pdb\n",
      "[OK] saved: /workspace/datasets/PDBbind2016/refined/1m0b/1m0b_remove_HEATM_protein.pdb\n"
     ]
    },
    {
     "name": "stderr",
     "output_type": "stream",
     "text": [
      "/opt/conda/envs/team05/lib/python3.10/site-packages/Bio/PDB/PDBParser.py:388: PDBConstructionWarning: Ignoring unrecognized record 'TER' at line 3143\n",
      "  warnings.warn(\n",
      "/opt/conda/envs/team05/lib/python3.10/site-packages/Bio/PDB/PDBParser.py:388: PDBConstructionWarning: Ignoring unrecognized record 'END' at line 3297\n",
      "  warnings.warn(\n",
      "/opt/conda/envs/team05/lib/python3.10/site-packages/Bio/PDB/PDBParser.py:388: PDBConstructionWarning: Ignoring unrecognized record 'TER' at line 4267\n",
      "  warnings.warn(\n",
      "/opt/conda/envs/team05/lib/python3.10/site-packages/Bio/PDB/PDBParser.py:388: PDBConstructionWarning: Ignoring unrecognized record 'END' at line 4412\n",
      "  warnings.warn(\n"
     ]
    },
    {
     "name": "stdout",
     "output_type": "stream",
     "text": [
      "[OK] saved: /workspace/datasets/PDBbind2016/refined/1nw5/1nw5_remove_HEATM_protein.pdb\n",
      "[OK] saved: /workspace/datasets/PDBbind2016/refined/3daz/3daz_remove_HEATM_protein.pdb\n"
     ]
    },
    {
     "name": "stderr",
     "output_type": "stream",
     "text": [
      "/opt/conda/envs/team05/lib/python3.10/site-packages/Bio/PDB/PDBParser.py:388: PDBConstructionWarning: Ignoring unrecognized record 'TER' at line 4066\n",
      "  warnings.warn(\n",
      "/opt/conda/envs/team05/lib/python3.10/site-packages/Bio/PDB/PDBParser.py:388: PDBConstructionWarning: Ignoring unrecognized record 'TER' at line 1291\n",
      "  warnings.warn(\n",
      "/opt/conda/envs/team05/lib/python3.10/site-packages/Bio/PDB/PDBParser.py:388: PDBConstructionWarning: Ignoring unrecognized record 'TER' at line 2743\n",
      "  warnings.warn(\n",
      "/opt/conda/envs/team05/lib/python3.10/site-packages/Bio/PDB/PDBParser.py:388: PDBConstructionWarning: Ignoring unrecognized record 'TER' at line 4195\n",
      "  warnings.warn(\n",
      "/opt/conda/envs/team05/lib/python3.10/site-packages/Bio/PDB/PDBParser.py:388: PDBConstructionWarning: Ignoring unrecognized record 'TER' at line 5415\n",
      "  warnings.warn(\n",
      "/opt/conda/envs/team05/lib/python3.10/site-packages/Bio/PDB/PDBParser.py:388: PDBConstructionWarning: Ignoring unrecognized record 'TER' at line 6867\n",
      "  warnings.warn(\n",
      "/opt/conda/envs/team05/lib/python3.10/site-packages/Bio/PDB/PDBParser.py:388: PDBConstructionWarning: Ignoring unrecognized record 'TER' at line 8319\n",
      "  warnings.warn(\n",
      "/opt/conda/envs/team05/lib/python3.10/site-packages/Bio/PDB/PDBParser.py:388: PDBConstructionWarning: Ignoring unrecognized record 'END' at line 9160\n",
      "  warnings.warn(\n",
      "/opt/conda/envs/team05/lib/python3.10/site-packages/Bio/PDB/PDBParser.py:388: PDBConstructionWarning: Ignoring unrecognized record 'TER' at line 4839\n",
      "  warnings.warn(\n",
      "/opt/conda/envs/team05/lib/python3.10/site-packages/Bio/PDB/PDBParser.py:388: PDBConstructionWarning: Ignoring unrecognized record 'END' at line 5115\n",
      "  warnings.warn(\n"
     ]
    },
    {
     "name": "stdout",
     "output_type": "stream",
     "text": [
      "[OK] saved: /workspace/datasets/PDBbind2016/refined/4uoh/4uoh_remove_HEATM_protein.pdb\n",
      "[OK] saved: /workspace/datasets/PDBbind2016/refined/4zeb/4zeb_remove_HEATM_protein.pdb\n"
     ]
    },
    {
     "name": "stderr",
     "output_type": "stream",
     "text": [
      "/opt/conda/envs/team05/lib/python3.10/site-packages/Bio/PDB/PDBParser.py:388: PDBConstructionWarning: Ignoring unrecognized record 'TER' at line 2500\n",
      "  warnings.warn(\n",
      "/opt/conda/envs/team05/lib/python3.10/site-packages/Bio/PDB/PDBParser.py:388: PDBConstructionWarning: Ignoring unrecognized record 'TER' at line 2627\n",
      "  warnings.warn(\n",
      "/opt/conda/envs/team05/lib/python3.10/site-packages/Bio/PDB/PDBParser.py:388: PDBConstructionWarning: Ignoring unrecognized record 'END' at line 2784\n",
      "  warnings.warn(\n",
      "/opt/conda/envs/team05/lib/python3.10/site-packages/Bio/PDB/PDBParser.py:388: PDBConstructionWarning: Ignoring unrecognized record 'TER' at line 1516\n",
      "  warnings.warn(\n",
      "/opt/conda/envs/team05/lib/python3.10/site-packages/Bio/PDB/PDBParser.py:388: PDBConstructionWarning: Ignoring unrecognized record 'END' at line 1654\n",
      "  warnings.warn(\n"
     ]
    },
    {
     "name": "stdout",
     "output_type": "stream",
     "text": [
      "[OK] saved: /workspace/datasets/PDBbind2016/refined/4zwz/4zwz_remove_HEATM_protein.pdb\n",
      "[OK] saved: /workspace/datasets/PDBbind2016/refined/5cep/5cep_remove_HEATM_protein.pdb\n",
      "[OK] saved: /workspace/datasets/PDBbind2016/refined/4rdn/4rdn_remove_HEATM_protein.pdb\n"
     ]
    },
    {
     "name": "stderr",
     "output_type": "stream",
     "text": [
      "/opt/conda/envs/team05/lib/python3.10/site-packages/Bio/PDB/PDBParser.py:388: PDBConstructionWarning: Ignoring unrecognized record 'TER' at line 2840\n",
      "  warnings.warn(\n",
      "/opt/conda/envs/team05/lib/python3.10/site-packages/Bio/PDB/PDBParser.py:388: PDBConstructionWarning: Ignoring unrecognized record 'END' at line 3054\n",
      "  warnings.warn(\n",
      "/opt/conda/envs/team05/lib/python3.10/site-packages/Bio/PDB/PDBParser.py:388: PDBConstructionWarning: Ignoring unrecognized record 'TER' at line 7634\n",
      "  warnings.warn(\n"
     ]
    },
    {
     "name": "stdout",
     "output_type": "stream",
     "text": [
      "[OK] saved: /workspace/datasets/PDBbind2016/refined/4cmo/4cmo_remove_HEATM_protein.pdb\n",
      "[OK] saved: /workspace/datasets/PDBbind2016/refined/1ppi/1ppi_remove_HEATM_protein.pdb\n"
     ]
    },
    {
     "name": "stderr",
     "output_type": "stream",
     "text": [
      "/opt/conda/envs/team05/lib/python3.10/site-packages/Bio/PDB/PDBParser.py:388: PDBConstructionWarning: Ignoring unrecognized record 'TER' at line 3226\n",
      "  warnings.warn(\n",
      "/opt/conda/envs/team05/lib/python3.10/site-packages/Bio/PDB/PDBParser.py:388: PDBConstructionWarning: Ignoring unrecognized record 'TER' at line 3545\n",
      "  warnings.warn(\n",
      "/opt/conda/envs/team05/lib/python3.10/site-packages/Bio/PDB/PDBParser.py:388: PDBConstructionWarning: Ignoring unrecognized record 'TER' at line 7029\n",
      "  warnings.warn(\n"
     ]
    },
    {
     "name": "stdout",
     "output_type": "stream",
     "text": [
      "[OK] saved: /workspace/datasets/PDBbind2016/refined/2zdl/2zdl_remove_HEATM_protein.pdb\n",
      "[OK] saved: /workspace/datasets/PDBbind2016/refined/4lbu/4lbu_remove_HEATM_protein.pdb\n",
      "[OK] saved: /workspace/datasets/PDBbind2016/refined/2hah/2hah_remove_HEATM_protein.pdb\n"
     ]
    },
    {
     "name": "stderr",
     "output_type": "stream",
     "text": [
      "/opt/conda/envs/team05/lib/python3.10/site-packages/Bio/PDB/PDBParser.py:388: PDBConstructionWarning: Ignoring unrecognized record 'TER' at line 1822\n",
      "  warnings.warn(\n",
      "/opt/conda/envs/team05/lib/python3.10/site-packages/Bio/PDB/PDBParser.py:388: PDBConstructionWarning: Ignoring unrecognized record 'TER' at line 3623\n",
      "  warnings.warn(\n",
      "/opt/conda/envs/team05/lib/python3.10/site-packages/Bio/PDB/PDBParser.py:388: PDBConstructionWarning: Ignoring unrecognized record 'END' at line 3863\n",
      "  warnings.warn(\n",
      "/opt/conda/envs/team05/lib/python3.10/site-packages/Bio/PDB/PDBParser.py:388: PDBConstructionWarning: Ignoring unrecognized record 'TER' at line 4676\n",
      "  warnings.warn(\n",
      "/opt/conda/envs/team05/lib/python3.10/site-packages/Bio/PDB/PDBParser.py:388: PDBConstructionWarning: Ignoring unrecognized record 'TER' at line 9246\n",
      "  warnings.warn(\n",
      "/opt/conda/envs/team05/lib/python3.10/site-packages/Bio/PDB/PDBParser.py:388: PDBConstructionWarning: Ignoring unrecognized record 'TER' at line 13823\n",
      "  warnings.warn(\n",
      "/opt/conda/envs/team05/lib/python3.10/site-packages/Bio/PDB/PDBParser.py:388: PDBConstructionWarning: Ignoring unrecognized record 'TER' at line 18393\n",
      "  warnings.warn(\n"
     ]
    },
    {
     "name": "stdout",
     "output_type": "stream",
     "text": [
      "[OK] saved: /workspace/datasets/PDBbind2016/refined/3umo/3umo_remove_HEATM_protein.pdb\n",
      "[OK] saved: /workspace/datasets/PDBbind2016/refined/2ewa/2ewa_remove_HEATM_protein.pdb\n"
     ]
    },
    {
     "name": "stderr",
     "output_type": "stream",
     "text": [
      "/opt/conda/envs/team05/lib/python3.10/site-packages/Bio/PDB/PDBParser.py:388: PDBConstructionWarning: Ignoring unrecognized record 'TER' at line 5347\n",
      "  warnings.warn(\n",
      "/opt/conda/envs/team05/lib/python3.10/site-packages/Bio/PDB/PDBParser.py:388: PDBConstructionWarning: Ignoring unrecognized record 'END' at line 5421\n",
      "  warnings.warn(\n",
      "/opt/conda/envs/team05/lib/python3.10/site-packages/Bio/PDB/PDBParser.py:388: PDBConstructionWarning: Ignoring unrecognized record 'TER' at line 1923\n",
      "  warnings.warn(\n",
      "/opt/conda/envs/team05/lib/python3.10/site-packages/Bio/PDB/PDBParser.py:388: PDBConstructionWarning: Ignoring unrecognized record 'TER' at line 3799\n",
      "  warnings.warn(\n",
      "/opt/conda/envs/team05/lib/python3.10/site-packages/Bio/PDB/PDBParser.py:388: PDBConstructionWarning: Ignoring unrecognized record 'TER' at line 5675\n",
      "  warnings.warn(\n",
      "/opt/conda/envs/team05/lib/python3.10/site-packages/Bio/PDB/PDBParser.py:388: PDBConstructionWarning: Ignoring unrecognized record 'TER' at line 7551\n",
      "  warnings.warn(\n"
     ]
    },
    {
     "name": "stdout",
     "output_type": "stream",
     "text": [
      "[OK] saved: /workspace/datasets/PDBbind2016/refined/2a8g/2a8g_remove_HEATM_protein.pdb\n"
     ]
    },
    {
     "name": "stderr",
     "output_type": "stream",
     "text": [
      "/opt/conda/envs/team05/lib/python3.10/site-packages/Bio/PDB/PDBParser.py:388: PDBConstructionWarning: Ignoring unrecognized record 'TER' at line 3949\n",
      "  warnings.warn(\n",
      "/opt/conda/envs/team05/lib/python3.10/site-packages/Bio/PDB/PDBParser.py:388: PDBConstructionWarning: Ignoring unrecognized record 'TER' at line 7920\n",
      "  warnings.warn(\n",
      "/opt/conda/envs/team05/lib/python3.10/site-packages/Bio/PDB/PDBParser.py:388: PDBConstructionWarning: Ignoring unrecognized record 'END' at line 7979\n",
      "  warnings.warn(\n",
      "/opt/conda/envs/team05/lib/python3.10/site-packages/Bio/PDB/PDBParser.py:388: PDBConstructionWarning: Ignoring unrecognized record 'TER' at line 1790\n",
      "  warnings.warn(\n",
      "/opt/conda/envs/team05/lib/python3.10/site-packages/Bio/PDB/PDBParser.py:388: PDBConstructionWarning: Ignoring unrecognized record 'TER' at line 3541\n",
      "  warnings.warn(\n"
     ]
    },
    {
     "name": "stdout",
     "output_type": "stream",
     "text": [
      "[OK] saved: /workspace/datasets/PDBbind2016/refined/2yb0/2yb0_remove_HEATM_protein.pdb\n",
      "[OK] saved: /workspace/datasets/PDBbind2016/refined/3kgu/3kgu_remove_HEATM_protein.pdb\n"
     ]
    },
    {
     "name": "stderr",
     "output_type": "stream",
     "text": [
      "/opt/conda/envs/team05/lib/python3.10/site-packages/Bio/PDB/PDBParser.py:388: PDBConstructionWarning: Ignoring unrecognized record 'TER' at line 5292\n",
      "  warnings.warn(\n",
      "/opt/conda/envs/team05/lib/python3.10/site-packages/Bio/PDB/PDBParser.py:388: PDBConstructionWarning: Ignoring unrecognized record 'TER' at line 7043\n",
      "  warnings.warn(\n",
      "/opt/conda/envs/team05/lib/python3.10/site-packages/Bio/PDB/PDBParser.py:388: PDBConstructionWarning: Ignoring unrecognized record 'END' at line 7332\n",
      "  warnings.warn(\n",
      "/opt/conda/envs/team05/lib/python3.10/site-packages/Bio/PDB/PDBParser.py:388: PDBConstructionWarning: Ignoring unrecognized record 'TER' at line 2314\n",
      "  warnings.warn(\n",
      "/opt/conda/envs/team05/lib/python3.10/site-packages/Bio/PDB/PDBParser.py:388: PDBConstructionWarning: Ignoring unrecognized record 'END' at line 2497\n",
      "  warnings.warn(\n"
     ]
    },
    {
     "name": "stdout",
     "output_type": "stream",
     "text": [
      "[OK] saved: /workspace/datasets/PDBbind2016/refined/1h6h/1h6h_remove_HEATM_protein.pdb\n"
     ]
    },
    {
     "name": "stderr",
     "output_type": "stream",
     "text": [
      "/opt/conda/envs/team05/lib/python3.10/site-packages/Bio/PDB/PDBParser.py:388: PDBConstructionWarning: Ignoring unrecognized record 'TER' at line 9616\n",
      "  warnings.warn(\n"
     ]
    },
    {
     "name": "stdout",
     "output_type": "stream",
     "text": [
      "[OK] saved: /workspace/datasets/PDBbind2016/refined/2rke/2rke_remove_HEATM_protein.pdb\n"
     ]
    },
    {
     "name": "stderr",
     "output_type": "stream",
     "text": [
      "/opt/conda/envs/team05/lib/python3.10/site-packages/Bio/PDB/PDBParser.py:388: PDBConstructionWarning: Ignoring unrecognized record 'TER' at line 5779\n",
      "  warnings.warn(\n",
      "/opt/conda/envs/team05/lib/python3.10/site-packages/Bio/PDB/PDBParser.py:388: PDBConstructionWarning: Ignoring unrecognized record 'TER' at line 4781\n",
      "  warnings.warn(\n"
     ]
    },
    {
     "name": "stdout",
     "output_type": "stream",
     "text": [
      "[OK] saved: /workspace/datasets/PDBbind2016/refined/3bra/3bra_remove_HEATM_protein.pdb\n",
      "[OK] saved: /workspace/datasets/PDBbind2016/refined/4euo/4euo_remove_HEATM_protein.pdb\n"
     ]
    },
    {
     "name": "stderr",
     "output_type": "stream",
     "text": [
      "/opt/conda/envs/team05/lib/python3.10/site-packages/Bio/PDB/PDBParser.py:388: PDBConstructionWarning: Ignoring unrecognized record 'TER' at line 5941\n",
      "  warnings.warn(\n",
      "/opt/conda/envs/team05/lib/python3.10/site-packages/Bio/PDB/PDBParser.py:388: PDBConstructionWarning: Ignoring unrecognized record 'TER' at line 1498\n",
      "  warnings.warn(\n",
      "/opt/conda/envs/team05/lib/python3.10/site-packages/Bio/PDB/PDBParser.py:388: PDBConstructionWarning: Ignoring unrecognized record 'TER' at line 2969\n",
      "  warnings.warn(\n",
      "/opt/conda/envs/team05/lib/python3.10/site-packages/Bio/PDB/PDBParser.py:388: PDBConstructionWarning: Ignoring unrecognized record 'END' at line 3039\n",
      "  warnings.warn(\n"
     ]
    },
    {
     "name": "stdout",
     "output_type": "stream",
     "text": [
      "[OK] saved: /workspace/datasets/PDBbind2016/refined/4c1u/4c1u_remove_HEATM_protein.pdb\n",
      "[OK] saved: /workspace/datasets/PDBbind2016/refined/3lzs/3lzs_remove_HEATM_protein.pdb\n"
     ]
    },
    {
     "name": "stderr",
     "output_type": "stream",
     "text": [
      "/opt/conda/envs/team05/lib/python3.10/site-packages/Bio/PDB/PDBParser.py:388: PDBConstructionWarning: Ignoring unrecognized record 'TER' at line 7700\n",
      "  warnings.warn(\n",
      "/opt/conda/envs/team05/lib/python3.10/site-packages/Bio/PDB/PDBParser.py:388: PDBConstructionWarning: Ignoring unrecognized record 'TER' at line 2741\n",
      "  warnings.warn(\n"
     ]
    },
    {
     "name": "stdout",
     "output_type": "stream",
     "text": [
      "[OK] saved: /workspace/datasets/PDBbind2016/refined/4gqr/4gqr_remove_HEATM_protein.pdb\n",
      "[OK] saved: /workspace/datasets/PDBbind2016/refined/4i7l/4i7l_remove_HEATM_protein.pdb\n",
      "[OK] saved: /workspace/datasets/PDBbind2016/refined/4llk/4llk_remove_HEATM_protein.pdb\n"
     ]
    },
    {
     "name": "stderr",
     "output_type": "stream",
     "text": [
      "/opt/conda/envs/team05/lib/python3.10/site-packages/Bio/PDB/PDBParser.py:388: PDBConstructionWarning: Ignoring unrecognized record 'TER' at line 3208\n",
      "  warnings.warn(\n",
      "/opt/conda/envs/team05/lib/python3.10/site-packages/Bio/PDB/PDBParser.py:388: PDBConstructionWarning: Ignoring unrecognized record 'TER' at line 3097\n",
      "  warnings.warn(\n",
      "/opt/conda/envs/team05/lib/python3.10/site-packages/Bio/PDB/PDBParser.py:388: PDBConstructionWarning: Ignoring unrecognized record 'END' at line 3184\n",
      "  warnings.warn(\n"
     ]
    },
    {
     "name": "stdout",
     "output_type": "stream",
     "text": [
      "[OK] saved: /workspace/datasets/PDBbind2016/refined/3kyq/3kyq_remove_HEATM_protein.pdb\n",
      "[OK] saved: /workspace/datasets/PDBbind2016/refined/1sqt/1sqt_remove_HEATM_protein.pdb\n"
     ]
    },
    {
     "name": "stderr",
     "output_type": "stream",
     "text": [
      "/opt/conda/envs/team05/lib/python3.10/site-packages/Bio/PDB/PDBParser.py:388: PDBConstructionWarning: Ignoring unrecognized record 'TER' at line 3832\n",
      "  warnings.warn(\n",
      "/opt/conda/envs/team05/lib/python3.10/site-packages/Bio/PDB/PDBParser.py:388: PDBConstructionWarning: Ignoring unrecognized record 'TER' at line 5427\n",
      "  warnings.warn(\n",
      "/opt/conda/envs/team05/lib/python3.10/site-packages/Bio/PDB/PDBParser.py:388: PDBConstructionWarning: Ignoring unrecognized record 'END' at line 5715\n",
      "  warnings.warn(\n"
     ]
    },
    {
     "name": "stdout",
     "output_type": "stream",
     "text": [
      "[OK] saved: /workspace/datasets/PDBbind2016/refined/3o8p/3o8p_remove_HEATM_protein.pdb\n",
      "[OK] saved: /workspace/datasets/PDBbind2016/refined/4xu3/4xu3_remove_HEATM_protein.pdb\n",
      "[OK] saved: /workspace/datasets/PDBbind2016/refined/3pn4/3pn4_remove_HEATM_protein.pdb\n"
     ]
    },
    {
     "name": "stderr",
     "output_type": "stream",
     "text": [
      "/opt/conda/envs/team05/lib/python3.10/site-packages/Bio/PDB/PDBParser.py:388: PDBConstructionWarning: Ignoring unrecognized record 'TER' at line 2445\n",
      "  warnings.warn(\n",
      "/opt/conda/envs/team05/lib/python3.10/site-packages/Bio/PDB/PDBParser.py:388: PDBConstructionWarning: Ignoring unrecognized record 'END' at line 2545\n",
      "  warnings.warn(\n",
      "/opt/conda/envs/team05/lib/python3.10/site-packages/Bio/PDB/PDBParser.py:388: PDBConstructionWarning: Ignoring unrecognized record 'TER' at line 2789\n",
      "  warnings.warn(\n",
      "/opt/conda/envs/team05/lib/python3.10/site-packages/Bio/PDB/PDBParser.py:388: PDBConstructionWarning: Ignoring unrecognized record 'TER' at line 1600\n",
      "  warnings.warn(\n",
      "/opt/conda/envs/team05/lib/python3.10/site-packages/Bio/PDB/PDBParser.py:388: PDBConstructionWarning: Ignoring unrecognized record 'TER' at line 3193\n",
      "  warnings.warn(\n",
      "/opt/conda/envs/team05/lib/python3.10/site-packages/Bio/PDB/PDBParser.py:388: PDBConstructionWarning: Ignoring unrecognized record 'END' at line 3327\n",
      "  warnings.warn(\n"
     ]
    },
    {
     "name": "stdout",
     "output_type": "stream",
     "text": [
      "[OK] saved: /workspace/datasets/PDBbind2016/refined/4cl6/4cl6_remove_HEATM_protein.pdb\n"
     ]
    },
    {
     "name": "stderr",
     "output_type": "stream",
     "text": [
      "/opt/conda/envs/team05/lib/python3.10/site-packages/Bio/PDB/PDBParser.py:388: PDBConstructionWarning: Ignoring unrecognized record 'TER' at line 5509\n",
      "  warnings.warn(\n",
      "/opt/conda/envs/team05/lib/python3.10/site-packages/Bio/PDB/PDBParser.py:388: PDBConstructionWarning: Ignoring unrecognized record 'TER' at line 10993\n",
      "  warnings.warn(\n"
     ]
    },
    {
     "name": "stdout",
     "output_type": "stream",
     "text": [
      "[OK] saved: /workspace/datasets/PDBbind2016/refined/3pwk/3pwk_remove_HEATM_protein.pdb\n",
      "[OK] saved: /workspace/datasets/PDBbind2016/refined/2xyf/2xyf_remove_HEATM_protein.pdb\n"
     ]
    },
    {
     "name": "stderr",
     "output_type": "stream",
     "text": [
      "/opt/conda/envs/team05/lib/python3.10/site-packages/Bio/PDB/PDBParser.py:388: PDBConstructionWarning: Ignoring unrecognized record 'TER' at line 1571\n",
      "  warnings.warn(\n",
      "/opt/conda/envs/team05/lib/python3.10/site-packages/Bio/PDB/PDBParser.py:388: PDBConstructionWarning: Ignoring unrecognized record 'TER' at line 3123\n",
      "  warnings.warn(\n",
      "/opt/conda/envs/team05/lib/python3.10/site-packages/Bio/PDB/PDBParser.py:388: PDBConstructionWarning: Ignoring unrecognized record 'END' at line 3266\n",
      "  warnings.warn(\n",
      "/opt/conda/envs/team05/lib/python3.10/site-packages/Bio/PDB/PDBParser.py:388: PDBConstructionWarning: Ignoring unrecognized record 'TER' at line 2384\n",
      "  warnings.warn(\n",
      "/opt/conda/envs/team05/lib/python3.10/site-packages/Bio/PDB/PDBParser.py:388: PDBConstructionWarning: Ignoring unrecognized record 'TER' at line 4739\n",
      "  warnings.warn(\n",
      "/opt/conda/envs/team05/lib/python3.10/site-packages/Bio/PDB/PDBParser.py:388: PDBConstructionWarning: Ignoring unrecognized record 'END' at line 4850\n",
      "  warnings.warn(\n"
     ]
    },
    {
     "name": "stdout",
     "output_type": "stream",
     "text": [
      "[OK] saved: /workspace/datasets/PDBbind2016/refined/3m3o/3m3o_remove_HEATM_protein.pdb\n",
      "[OK] saved: /workspace/datasets/PDBbind2016/refined/4zae/4zae_remove_HEATM_protein.pdb\n"
     ]
    },
    {
     "name": "stderr",
     "output_type": "stream",
     "text": [
      "/opt/conda/envs/team05/lib/python3.10/site-packages/Bio/PDB/PDBParser.py:388: PDBConstructionWarning: Ignoring unrecognized record 'TER' at line 2258\n",
      "  warnings.warn(\n",
      "/opt/conda/envs/team05/lib/python3.10/site-packages/Bio/PDB/PDBParser.py:388: PDBConstructionWarning: Ignoring unrecognized record 'TER' at line 2774\n",
      "  warnings.warn(\n",
      "/opt/conda/envs/team05/lib/python3.10/site-packages/Bio/PDB/PDBParser.py:388: PDBConstructionWarning: Ignoring unrecognized record 'TER' at line 1028\n",
      "  warnings.warn(\n",
      "/opt/conda/envs/team05/lib/python3.10/site-packages/Bio/PDB/PDBParser.py:388: PDBConstructionWarning: Ignoring unrecognized record 'TER' at line 1993\n",
      "  warnings.warn(\n",
      "/opt/conda/envs/team05/lib/python3.10/site-packages/Bio/PDB/PDBParser.py:388: PDBConstructionWarning: Ignoring unrecognized record 'TER' at line 2958\n",
      "  warnings.warn(\n",
      "/opt/conda/envs/team05/lib/python3.10/site-packages/Bio/PDB/PDBParser.py:388: PDBConstructionWarning: Ignoring unrecognized record 'TER' at line 3923\n",
      "  warnings.warn(\n",
      "/opt/conda/envs/team05/lib/python3.10/site-packages/Bio/PDB/PDBParser.py:388: PDBConstructionWarning: Ignoring unrecognized record 'TER' at line 4888\n",
      "  warnings.warn(\n",
      "/opt/conda/envs/team05/lib/python3.10/site-packages/Bio/PDB/PDBParser.py:388: PDBConstructionWarning: Ignoring unrecognized record 'TER' at line 5853\n",
      "  warnings.warn(\n",
      "/opt/conda/envs/team05/lib/python3.10/site-packages/Bio/PDB/PDBParser.py:388: PDBConstructionWarning: Ignoring unrecognized record 'TER' at line 6818\n",
      "  warnings.warn(\n",
      "/opt/conda/envs/team05/lib/python3.10/site-packages/Bio/PDB/PDBParser.py:388: PDBConstructionWarning: Ignoring unrecognized record 'TER' at line 7783\n",
      "  warnings.warn(\n",
      "/opt/conda/envs/team05/lib/python3.10/site-packages/Bio/PDB/PDBParser.py:388: PDBConstructionWarning: Ignoring unrecognized record 'TER' at line 8748\n",
      "  warnings.warn(\n",
      "/opt/conda/envs/team05/lib/python3.10/site-packages/Bio/PDB/PDBParser.py:388: PDBConstructionWarning: Ignoring unrecognized record 'TER' at line 9713\n",
      "  warnings.warn(\n",
      "/opt/conda/envs/team05/lib/python3.10/site-packages/Bio/PDB/PDBParser.py:388: PDBConstructionWarning: Ignoring unrecognized record 'TER' at line 10678\n",
      "  warnings.warn(\n",
      "/opt/conda/envs/team05/lib/python3.10/site-packages/Bio/PDB/PDBParser.py:388: PDBConstructionWarning: Ignoring unrecognized record 'TER' at line 11643\n",
      "  warnings.warn(\n"
     ]
    },
    {
     "name": "stdout",
     "output_type": "stream",
     "text": [
      "[OK] saved: /workspace/datasets/PDBbind2016/refined/2cc7/2cc7_remove_HEATM_protein.pdb\n",
      "[OK] saved: /workspace/datasets/PDBbind2016/refined/2weo/2weo_remove_HEATM_protein.pdb\n"
     ]
    },
    {
     "name": "stderr",
     "output_type": "stream",
     "text": [
      "/opt/conda/envs/team05/lib/python3.10/site-packages/Bio/PDB/PDBParser.py:388: PDBConstructionWarning: Ignoring unrecognized record 'TER' at line 4066\n",
      "  warnings.warn(\n",
      "/opt/conda/envs/team05/lib/python3.10/site-packages/Bio/PDB/PDBParser.py:388: PDBConstructionWarning: Ignoring unrecognized record 'TER' at line 4067\n",
      "  warnings.warn(\n"
     ]
    },
    {
     "name": "stdout",
     "output_type": "stream",
     "text": [
      "[OK] saved: /workspace/datasets/PDBbind2016/refined/3hkn/3hkn_remove_HEATM_protein.pdb\n"
     ]
    },
    {
     "name": "stderr",
     "output_type": "stream",
     "text": [
      "/opt/conda/envs/team05/lib/python3.10/site-packages/Bio/PDB/PDBParser.py:388: PDBConstructionWarning: Ignoring unrecognized record 'TER' at line 4778\n",
      "  warnings.warn(\n",
      "/opt/conda/envs/team05/lib/python3.10/site-packages/Bio/PDB/PDBParser.py:388: PDBConstructionWarning: Ignoring unrecognized record 'TER' at line 9401\n",
      "  warnings.warn(\n",
      "/opt/conda/envs/team05/lib/python3.10/site-packages/Bio/PDB/PDBParser.py:388: PDBConstructionWarning: Ignoring unrecognized record 'TER' at line 14024\n",
      "  warnings.warn(\n",
      "/opt/conda/envs/team05/lib/python3.10/site-packages/Bio/PDB/PDBParser.py:388: PDBConstructionWarning: Ignoring unrecognized record 'TER' at line 18647\n",
      "  warnings.warn(\n"
     ]
    },
    {
     "name": "stdout",
     "output_type": "stream",
     "text": [
      "[OK] saved: /workspace/datasets/PDBbind2016/refined/4kwf/4kwf_remove_HEATM_protein.pdb\n"
     ]
    },
    {
     "name": "stderr",
     "output_type": "stream",
     "text": [
      "/opt/conda/envs/team05/lib/python3.10/site-packages/Bio/PDB/PDBParser.py:388: PDBConstructionWarning: Ignoring unrecognized record 'TER' at line 3931\n",
      "  warnings.warn(\n",
      "/opt/conda/envs/team05/lib/python3.10/site-packages/Bio/PDB/PDBParser.py:388: PDBConstructionWarning: Ignoring unrecognized record 'TER' at line 6299\n",
      "  warnings.warn(\n",
      "/opt/conda/envs/team05/lib/python3.10/site-packages/Bio/PDB/PDBParser.py:388: PDBConstructionWarning: Ignoring unrecognized record 'TER' at line 10157\n",
      "  warnings.warn(\n",
      "/opt/conda/envs/team05/lib/python3.10/site-packages/Bio/PDB/PDBParser.py:388: PDBConstructionWarning: Ignoring unrecognized record 'TER' at line 12525\n",
      "  warnings.warn(\n"
     ]
    },
    {
     "name": "stdout",
     "output_type": "stream",
     "text": [
      "[OK] saved: /workspace/datasets/PDBbind2016/refined/1wht/1wht_remove_HEATM_protein.pdb\n",
      "[OK] saved: /workspace/datasets/PDBbind2016/refined/3s3v/3s3v_remove_HEATM_protein.pdb\n"
     ]
    },
    {
     "name": "stderr",
     "output_type": "stream",
     "text": [
      "/opt/conda/envs/team05/lib/python3.10/site-packages/Bio/PDB/PDBParser.py:388: PDBConstructionWarning: Ignoring unrecognized record 'TER' at line 3040\n",
      "  warnings.warn(\n",
      "/opt/conda/envs/team05/lib/python3.10/site-packages/Bio/PDB/PDBParser.py:388: PDBConstructionWarning: Ignoring unrecognized record 'END' at line 3192\n",
      "  warnings.warn(\n",
      "/opt/conda/envs/team05/lib/python3.10/site-packages/Bio/PDB/PDBParser.py:388: PDBConstructionWarning: Ignoring unrecognized record 'TER' at line 4601\n",
      "  warnings.warn(\n",
      "/opt/conda/envs/team05/lib/python3.10/site-packages/Bio/PDB/PDBParser.py:388: PDBConstructionWarning: Ignoring unrecognized record 'TER' at line 9139\n",
      "  warnings.warn(\n",
      "/opt/conda/envs/team05/lib/python3.10/site-packages/Bio/PDB/PDBParser.py:388: PDBConstructionWarning: Ignoring unrecognized record 'TER' at line 3576\n",
      "  warnings.warn(\n",
      "/opt/conda/envs/team05/lib/python3.10/site-packages/Bio/PDB/PDBParser.py:388: PDBConstructionWarning: Ignoring unrecognized record 'END' at line 3749\n",
      "  warnings.warn(\n"
     ]
    },
    {
     "name": "stdout",
     "output_type": "stream",
     "text": [
      "[OK] saved: /workspace/datasets/PDBbind2016/refined/2e2p/2e2p_remove_HEATM_protein.pdb\n",
      "[OK] saved: /workspace/datasets/PDBbind2016/refined/2p7g/2p7g_remove_HEATM_protein.pdb\n",
      "[OK] saved: /workspace/datasets/PDBbind2016/refined/1g36/1g36_remove_HEATM_protein.pdb\n"
     ]
    },
    {
     "name": "stderr",
     "output_type": "stream",
     "text": [
      "/opt/conda/envs/team05/lib/python3.10/site-packages/Bio/PDB/PDBParser.py:388: PDBConstructionWarning: Ignoring unrecognized record 'TER' at line 3245\n",
      "  warnings.warn(\n",
      "/opt/conda/envs/team05/lib/python3.10/site-packages/Bio/PDB/PDBParser.py:388: PDBConstructionWarning: Ignoring unrecognized record 'TER' at line 2934\n",
      "  warnings.warn(\n",
      "/opt/conda/envs/team05/lib/python3.10/site-packages/Bio/PDB/PDBParser.py:388: PDBConstructionWarning: Ignoring unrecognized record 'TER' at line 1583\n",
      "  warnings.warn(\n"
     ]
    },
    {
     "name": "stdout",
     "output_type": "stream",
     "text": [
      "[OK] saved: /workspace/datasets/PDBbind2016/refined/3njq/3njq_remove_HEATM_protein.pdb\n",
      "[OK] saved: /workspace/datasets/PDBbind2016/refined/4hdp/4hdp_remove_HEATM_protein.pdb\n"
     ]
    },
    {
     "name": "stderr",
     "output_type": "stream",
     "text": [
      "/opt/conda/envs/team05/lib/python3.10/site-packages/Bio/PDB/PDBParser.py:388: PDBConstructionWarning: Ignoring unrecognized record 'TER' at line 3147\n",
      "  warnings.warn(\n",
      "/opt/conda/envs/team05/lib/python3.10/site-packages/Bio/PDB/PDBParser.py:388: PDBConstructionWarning: Ignoring unrecognized record 'TER' at line 7970\n",
      "  warnings.warn(\n",
      "/opt/conda/envs/team05/lib/python3.10/site-packages/Bio/PDB/PDBParser.py:388: PDBConstructionWarning: Ignoring unrecognized record 'TER' at line 15773\n",
      "  warnings.warn(\n",
      "/opt/conda/envs/team05/lib/python3.10/site-packages/Bio/PDB/PDBParser.py:388: PDBConstructionWarning: Ignoring unrecognized record 'TER' at line 23576\n",
      "  warnings.warn(\n",
      "/opt/conda/envs/team05/lib/python3.10/site-packages/Bio/PDB/PDBParser.py:388: PDBConstructionWarning: Ignoring unrecognized record 'TER' at line 31379\n",
      "  warnings.warn(\n"
     ]
    },
    {
     "name": "stdout",
     "output_type": "stream",
     "text": [
      "[OK] saved: /workspace/datasets/PDBbind2016/refined/3f6e/3f6e_remove_HEATM_protein.pdb\n",
      "[OK] saved: /workspace/datasets/PDBbind2016/refined/5fl4/5fl4_remove_HEATM_protein.pdb\n"
     ]
    },
    {
     "name": "stderr",
     "output_type": "stream",
     "text": [
      "/opt/conda/envs/team05/lib/python3.10/site-packages/Bio/PDB/PDBParser.py:388: PDBConstructionWarning: Ignoring unrecognized record 'TER' at line 2363\n",
      "  warnings.warn(\n",
      "/opt/conda/envs/team05/lib/python3.10/site-packages/Bio/PDB/PDBParser.py:388: PDBConstructionWarning: Ignoring unrecognized record 'TER' at line 4639\n",
      "  warnings.warn(\n",
      "/opt/conda/envs/team05/lib/python3.10/site-packages/Bio/PDB/PDBParser.py:388: PDBConstructionWarning: Ignoring unrecognized record 'TER' at line 9146\n",
      "  warnings.warn(\n",
      "/opt/conda/envs/team05/lib/python3.10/site-packages/Bio/PDB/PDBParser.py:388: PDBConstructionWarning: Ignoring unrecognized record 'TER' at line 13690\n",
      "  warnings.warn(\n",
      "/opt/conda/envs/team05/lib/python3.10/site-packages/Bio/PDB/PDBParser.py:388: PDBConstructionWarning: Ignoring unrecognized record 'TER' at line 18197\n",
      "  warnings.warn(\n"
     ]
    },
    {
     "name": "stdout",
     "output_type": "stream",
     "text": [
      "[OK] saved: /workspace/datasets/PDBbind2016/refined/1m1b/1m1b_remove_HEATM_protein.pdb\n",
      "[OK] saved: /workspace/datasets/PDBbind2016/refined/4p6c/4p6c_remove_HEATM_protein.pdb\n"
     ]
    },
    {
     "name": "stderr",
     "output_type": "stream",
     "text": [
      "/opt/conda/envs/team05/lib/python3.10/site-packages/Bio/PDB/PDBParser.py:388: PDBConstructionWarning: Ignoring unrecognized record 'TER' at line 2036\n",
      "  warnings.warn(\n",
      "/opt/conda/envs/team05/lib/python3.10/site-packages/Bio/PDB/PDBParser.py:388: PDBConstructionWarning: Ignoring unrecognized record 'TER' at line 3995\n",
      "  warnings.warn(\n",
      "/opt/conda/envs/team05/lib/python3.10/site-packages/Bio/PDB/PDBParser.py:388: PDBConstructionWarning: Ignoring unrecognized record 'END' at line 4340\n",
      "  warnings.warn(\n",
      "/opt/conda/envs/team05/lib/python3.10/site-packages/Bio/PDB/PDBParser.py:388: PDBConstructionWarning: Ignoring unrecognized record 'TER' at line 5434\n",
      "  warnings.warn(\n",
      "/opt/conda/envs/team05/lib/python3.10/site-packages/Bio/PDB/PDBParser.py:388: PDBConstructionWarning: Ignoring unrecognized record 'END' at line 5514\n",
      "  warnings.warn(\n",
      "/opt/conda/envs/team05/lib/python3.10/site-packages/Bio/PDB/PDBParser.py:388: PDBConstructionWarning: Ignoring unrecognized record 'TER' at line 6122\n",
      "  warnings.warn(\n"
     ]
    },
    {
     "name": "stdout",
     "output_type": "stream",
     "text": [
      "[OK] saved: /workspace/datasets/PDBbind2016/refined/2oxd/2oxd_remove_HEATM_protein.pdb\n"
     ]
    },
    {
     "name": "stderr",
     "output_type": "stream",
     "text": [
      "/opt/conda/envs/team05/lib/python3.10/site-packages/Bio/PDB/PDBParser.py:388: PDBConstructionWarning: Ignoring unrecognized record 'TER' at line 12181\n",
      "  warnings.warn(\n",
      "/opt/conda/envs/team05/lib/python3.10/site-packages/Bio/PDB/PDBParser.py:388: PDBConstructionWarning: Ignoring unrecognized record 'END' at line 12636\n",
      "  warnings.warn(\n",
      "/opt/conda/envs/team05/lib/python3.10/site-packages/Bio/PDB/PDBParser.py:388: PDBConstructionWarning: Ignoring unrecognized record 'TER' at line 4787\n",
      "  warnings.warn(\n",
      "/opt/conda/envs/team05/lib/python3.10/site-packages/Bio/PDB/PDBParser.py:388: PDBConstructionWarning: Ignoring unrecognized record 'END' at line 5114\n",
      "  warnings.warn(\n"
     ]
    },
    {
     "name": "stdout",
     "output_type": "stream",
     "text": [
      "[OK] saved: /workspace/datasets/PDBbind2016/refined/3g0i/3g0i_remove_HEATM_protein.pdb\n",
      "[OK] saved: /workspace/datasets/PDBbind2016/refined/4ag8/4ag8_remove_HEATM_protein.pdb\n"
     ]
    },
    {
     "name": "stderr",
     "output_type": "stream",
     "text": [
      "/opt/conda/envs/team05/lib/python3.10/site-packages/Bio/PDB/PDBParser.py:388: PDBConstructionWarning: Ignoring unrecognized record 'TER' at line 1586\n",
      "  warnings.warn(\n",
      "/opt/conda/envs/team05/lib/python3.10/site-packages/Bio/PDB/PDBParser.py:388: PDBConstructionWarning: Ignoring unrecognized record 'TER' at line 3153\n",
      "  warnings.warn(\n",
      "/opt/conda/envs/team05/lib/python3.10/site-packages/Bio/PDB/PDBParser.py:388: PDBConstructionWarning: Ignoring unrecognized record 'END' at line 3319\n",
      "  warnings.warn(\n",
      "/opt/conda/envs/team05/lib/python3.10/site-packages/Bio/PDB/PDBParser.py:388: PDBConstructionWarning: Ignoring unrecognized record 'TER' at line 3306\n",
      "  warnings.warn(\n",
      "/opt/conda/envs/team05/lib/python3.10/site-packages/Bio/PDB/PDBParser.py:388: PDBConstructionWarning: Ignoring unrecognized record 'TER' at line 6514\n",
      "  warnings.warn(\n"
     ]
    },
    {
     "name": "stdout",
     "output_type": "stream",
     "text": [
      "[OK] saved: /workspace/datasets/PDBbind2016/refined/2qci/2qci_remove_HEATM_protein.pdb\n",
      "[OK] saved: /workspace/datasets/PDBbind2016/refined/1c5c/1c5c_remove_HEATM_protein.pdb\n"
     ]
    },
    {
     "name": "stderr",
     "output_type": "stream",
     "text": [
      "/opt/conda/envs/team05/lib/python3.10/site-packages/Bio/PDB/PDBParser.py:388: PDBConstructionWarning: Ignoring unrecognized record 'TER' at line 5374\n",
      "  warnings.warn(\n",
      "/opt/conda/envs/team05/lib/python3.10/site-packages/Bio/PDB/PDBParser.py:388: PDBConstructionWarning: Ignoring unrecognized record 'TER' at line 5946\n",
      "  warnings.warn(\n",
      "/opt/conda/envs/team05/lib/python3.10/site-packages/Bio/PDB/PDBParser.py:388: PDBConstructionWarning: Ignoring unrecognized record 'TER' at line 3245\n",
      "  warnings.warn(\n"
     ]
    },
    {
     "name": "stdout",
     "output_type": "stream",
     "text": [
      "[OK] saved: /workspace/datasets/PDBbind2016/refined/2xn5/2xn5_remove_HEATM_protein.pdb\n",
      "[OK] saved: /workspace/datasets/PDBbind2016/refined/1utn/1utn_remove_HEATM_protein.pdb\n"
     ]
    },
    {
     "name": "stderr",
     "output_type": "stream",
     "text": [
      "/opt/conda/envs/team05/lib/python3.10/site-packages/Bio/PDB/PDBParser.py:388: PDBConstructionWarning: Ignoring unrecognized record 'TER' at line 11179\n",
      "  warnings.warn(\n",
      "/opt/conda/envs/team05/lib/python3.10/site-packages/Bio/PDB/PDBParser.py:388: PDBConstructionWarning: Ignoring unrecognized record 'TER' at line 22174\n",
      "  warnings.warn(\n"
     ]
    },
    {
     "name": "stdout",
     "output_type": "stream",
     "text": [
      "[OK] saved: /workspace/datasets/PDBbind2016/refined/3hig/3hig_remove_HEATM_protein.pdb\n",
      "[OK] saved: /workspace/datasets/PDBbind2016/refined/4qfl/4qfl_remove_HEATM_protein.pdb\n",
      "[OK] saved: /workspace/datasets/PDBbind2016/refined/1izi/1izi_remove_HEATM_protein.pdb\n"
     ]
    },
    {
     "name": "stderr",
     "output_type": "stream",
     "text": [
      "/opt/conda/envs/team05/lib/python3.10/site-packages/Bio/PDB/PDBParser.py:388: PDBConstructionWarning: Ignoring unrecognized record 'TER' at line 5009\n",
      "  warnings.warn(\n",
      "/opt/conda/envs/team05/lib/python3.10/site-packages/Bio/PDB/PDBParser.py:388: PDBConstructionWarning: Ignoring unrecognized record 'TER' at line 1516\n",
      "  warnings.warn(\n",
      "/opt/conda/envs/team05/lib/python3.10/site-packages/Bio/PDB/PDBParser.py:388: PDBConstructionWarning: Ignoring unrecognized record 'TER' at line 3019\n",
      "  warnings.warn(\n",
      "/opt/conda/envs/team05/lib/python3.10/site-packages/Bio/PDB/PDBParser.py:388: PDBConstructionWarning: Ignoring unrecognized record 'END' at line 3061\n",
      "  warnings.warn(\n",
      "/opt/conda/envs/team05/lib/python3.10/site-packages/Bio/PDB/PDBParser.py:388: PDBConstructionWarning: Ignoring unrecognized record 'TER' at line 5138\n",
      "  warnings.warn(\n",
      "/opt/conda/envs/team05/lib/python3.10/site-packages/Bio/PDB/PDBParser.py:388: PDBConstructionWarning: Ignoring unrecognized record 'TER' at line 10221\n",
      "  warnings.warn(\n",
      "/opt/conda/envs/team05/lib/python3.10/site-packages/Bio/PDB/PDBParser.py:388: PDBConstructionWarning: Ignoring unrecognized record 'END' at line 10699\n",
      "  warnings.warn(\n"
     ]
    },
    {
     "name": "stdout",
     "output_type": "stream",
     "text": [
      "[OK] saved: /workspace/datasets/PDBbind2016/refined/2ce9/2ce9_remove_HEATM_protein.pdb\n",
      "[OK] saved: /workspace/datasets/PDBbind2016/refined/4e7r/4e7r_remove_HEATM_protein.pdb\n"
     ]
    },
    {
     "name": "stderr",
     "output_type": "stream",
     "text": [
      "/opt/conda/envs/team05/lib/python3.10/site-packages/Bio/PDB/PDBParser.py:388: PDBConstructionWarning: Ignoring unrecognized record 'TER' at line 459\n",
      "  warnings.warn(\n",
      "/opt/conda/envs/team05/lib/python3.10/site-packages/Bio/PDB/PDBParser.py:388: PDBConstructionWarning: Ignoring unrecognized record 'TER' at line 4422\n",
      "  warnings.warn(\n",
      "/opt/conda/envs/team05/lib/python3.10/site-packages/Bio/PDB/PDBParser.py:388: PDBConstructionWarning: Ignoring unrecognized record 'TER' at line 4055\n",
      "  warnings.warn(\n"
     ]
    },
    {
     "name": "stdout",
     "output_type": "stream",
     "text": [
      "[OK] saved: /workspace/datasets/PDBbind2016/refined/1bn4/1bn4_remove_HEATM_protein.pdb\n",
      "[OK] saved: /workspace/datasets/PDBbind2016/refined/2pyn/2pyn_remove_HEATM_protein.pdb\n"
     ]
    },
    {
     "name": "stderr",
     "output_type": "stream",
     "text": [
      "/opt/conda/envs/team05/lib/python3.10/site-packages/Bio/PDB/PDBParser.py:388: PDBConstructionWarning: Ignoring unrecognized record 'TER' at line 1575\n",
      "  warnings.warn(\n",
      "/opt/conda/envs/team05/lib/python3.10/site-packages/Bio/PDB/PDBParser.py:388: PDBConstructionWarning: Ignoring unrecognized record 'TER' at line 3131\n",
      "  warnings.warn(\n",
      "/opt/conda/envs/team05/lib/python3.10/site-packages/Bio/PDB/PDBParser.py:388: PDBConstructionWarning: Ignoring unrecognized record 'END' at line 3279\n",
      "  warnings.warn(\n",
      "/opt/conda/envs/team05/lib/python3.10/site-packages/Bio/PDB/PDBParser.py:388: PDBConstructionWarning: Ignoring unrecognized record 'TER' at line 5421\n",
      "  warnings.warn(\n",
      "/opt/conda/envs/team05/lib/python3.10/site-packages/Bio/PDB/PDBParser.py:388: PDBConstructionWarning: Ignoring unrecognized record 'END' at line 5503\n",
      "  warnings.warn(\n",
      "/opt/conda/envs/team05/lib/python3.10/site-packages/Bio/PDB/PDBParser.py:388: PDBConstructionWarning: Ignoring unrecognized record 'TER' at line 8329\n",
      "  warnings.warn(\n"
     ]
    },
    {
     "name": "stdout",
     "output_type": "stream",
     "text": [
      "[OK] saved: /workspace/datasets/PDBbind2016/refined/2bak/2bak_remove_HEATM_protein.pdb\n"
     ]
    },
    {
     "name": "stderr",
     "output_type": "stream",
     "text": [
      "/opt/conda/envs/team05/lib/python3.10/site-packages/Bio/PDB/PDBParser.py:388: PDBConstructionWarning: Ignoring unrecognized record 'TER' at line 16533\n",
      "  warnings.warn(\n"
     ]
    },
    {
     "name": "stdout",
     "output_type": "stream",
     "text": [
      "[OK] saved: /workspace/datasets/PDBbind2016/refined/2ha5/2ha5_remove_HEATM_protein.pdb\n"
     ]
    },
    {
     "name": "stderr",
     "output_type": "stream",
     "text": [
      "/opt/conda/envs/team05/lib/python3.10/site-packages/Bio/PDB/PDBParser.py:388: PDBConstructionWarning: Ignoring unrecognized record 'TER' at line 4324\n",
      "  warnings.warn(\n",
      "/opt/conda/envs/team05/lib/python3.10/site-packages/Bio/PDB/PDBParser.py:388: PDBConstructionWarning: Ignoring unrecognized record 'TER' at line 8357\n",
      "  warnings.warn(\n",
      "/opt/conda/envs/team05/lib/python3.10/site-packages/Bio/PDB/PDBParser.py:388: PDBConstructionWarning: Ignoring unrecognized record 'TER' at line 12517\n",
      "  warnings.warn(\n",
      "/opt/conda/envs/team05/lib/python3.10/site-packages/Bio/PDB/PDBParser.py:388: PDBConstructionWarning: Ignoring unrecognized record 'TER' at line 16536\n",
      "  warnings.warn(\n",
      "/opt/conda/envs/team05/lib/python3.10/site-packages/Bio/PDB/PDBParser.py:388: PDBConstructionWarning: Ignoring unrecognized record 'TER' at line 17781\n",
      "  warnings.warn(\n",
      "/opt/conda/envs/team05/lib/python3.10/site-packages/Bio/PDB/PDBParser.py:388: PDBConstructionWarning: Ignoring unrecognized record 'TER' at line 20962\n",
      "  warnings.warn(\n"
     ]
    },
    {
     "name": "stdout",
     "output_type": "stream",
     "text": [
      "[OK] saved: /workspace/datasets/PDBbind2016/refined/4o2b/4o2b_remove_HEATM_protein.pdb\n",
      "[OK] saved: /workspace/datasets/PDBbind2016/refined/4z1e/4z1e_remove_HEATM_protein.pdb\n"
     ]
    },
    {
     "name": "stderr",
     "output_type": "stream",
     "text": [
      "/opt/conda/envs/team05/lib/python3.10/site-packages/Bio/PDB/PDBParser.py:388: PDBConstructionWarning: Ignoring unrecognized record 'TER' at line 2487\n",
      "  warnings.warn(\n",
      "/opt/conda/envs/team05/lib/python3.10/site-packages/Bio/PDB/PDBParser.py:388: PDBConstructionWarning: Ignoring unrecognized record 'TER' at line 4578\n",
      "  warnings.warn(\n"
     ]
    },
    {
     "name": "stdout",
     "output_type": "stream",
     "text": [
      "[OK] saved: /workspace/datasets/PDBbind2016/refined/3rwp/3rwp_remove_HEATM_protein.pdb\n"
     ]
    },
    {
     "name": "stderr",
     "output_type": "stream",
     "text": [
      "/opt/conda/envs/team05/lib/python3.10/site-packages/Bio/PDB/PDBParser.py:388: PDBConstructionWarning: Ignoring unrecognized record 'TER' at line 16112\n",
      "  warnings.warn(\n",
      "/opt/conda/envs/team05/lib/python3.10/site-packages/Bio/PDB/PDBParser.py:388: PDBConstructionWarning: Ignoring unrecognized record 'TER' at line 31909\n",
      "  warnings.warn(\n",
      "/opt/conda/envs/team05/lib/python3.10/site-packages/Bio/PDB/PDBParser.py:388: PDBConstructionWarning: Ignoring unrecognized record 'TER' at line 47706\n",
      "  warnings.warn(\n",
      "/opt/conda/envs/team05/lib/python3.10/site-packages/Bio/PDB/PDBParser.py:388: PDBConstructionWarning: Ignoring unrecognized record 'TER' at line 63503\n",
      "  warnings.warn(\n"
     ]
    },
    {
     "name": "stdout",
     "output_type": "stream",
     "text": [
      "[OK] saved: /workspace/datasets/PDBbind2016/refined/3mv0/3mv0_remove_HEATM_protein.pdb\n",
      "[OK] saved: /workspace/datasets/PDBbind2016/refined/1z6s/1z6s_remove_HEATM_protein.pdb\n",
      "[OK] saved: /workspace/datasets/PDBbind2016/refined/1rnm/1rnm_remove_HEATM_protein.pdb\n",
      "[OK] saved: /workspace/datasets/PDBbind2016/refined/4x8v/4x8v_remove_HEATM_protein.pdb\n"
     ]
    },
    {
     "name": "stderr",
     "output_type": "stream",
     "text": [
      "/opt/conda/envs/team05/lib/python3.10/site-packages/Bio/PDB/PDBParser.py:388: PDBConstructionWarning: Ignoring unrecognized record 'TER' at line 1870\n",
      "  warnings.warn(\n",
      "/opt/conda/envs/team05/lib/python3.10/site-packages/Bio/PDB/PDBParser.py:388: PDBConstructionWarning: Ignoring unrecognized record 'TER' at line 1878\n",
      "  warnings.warn(\n",
      "/opt/conda/envs/team05/lib/python3.10/site-packages/Bio/PDB/PDBParser.py:388: PDBConstructionWarning: Ignoring unrecognized record 'TER' at line 2408\n",
      "  warnings.warn(\n",
      "/opt/conda/envs/team05/lib/python3.10/site-packages/Bio/PDB/PDBParser.py:388: PDBConstructionWarning: Ignoring unrecognized record 'TER' at line 2909\n",
      "  warnings.warn(\n",
      "/opt/conda/envs/team05/lib/python3.10/site-packages/Bio/PDB/PDBParser.py:388: PDBConstructionWarning: Ignoring unrecognized record 'TER' at line 1338\n",
      "  warnings.warn(\n",
      "/opt/conda/envs/team05/lib/python3.10/site-packages/Bio/PDB/PDBParser.py:388: PDBConstructionWarning: Ignoring unrecognized record 'END' at line 1543\n",
      "  warnings.warn(\n"
     ]
    },
    {
     "name": "stdout",
     "output_type": "stream",
     "text": [
      "[OK] saved: /workspace/datasets/PDBbind2016/refined/5a81/5a81_remove_HEATM_protein.pdb\n"
     ]
    },
    {
     "name": "stderr",
     "output_type": "stream",
     "text": [
      "/opt/conda/envs/team05/lib/python3.10/site-packages/Bio/PDB/PDBParser.py:388: PDBConstructionWarning: Ignoring unrecognized record 'TER' at line 4724\n",
      "  warnings.warn(\n",
      "/opt/conda/envs/team05/lib/python3.10/site-packages/Bio/PDB/PDBParser.py:388: PDBConstructionWarning: Ignoring unrecognized record 'TER' at line 2563\n",
      "  warnings.warn(\n",
      "/opt/conda/envs/team05/lib/python3.10/site-packages/Bio/PDB/PDBParser.py:388: PDBConstructionWarning: Ignoring unrecognized record 'TER' at line 5094\n",
      "  warnings.warn(\n",
      "/opt/conda/envs/team05/lib/python3.10/site-packages/Bio/PDB/PDBParser.py:388: PDBConstructionWarning: Ignoring unrecognized record 'END' at line 5301\n",
      "  warnings.warn(\n"
     ]
    },
    {
     "name": "stdout",
     "output_type": "stream",
     "text": [
      "[OK] saved: /workspace/datasets/PDBbind2016/refined/1fhd/1fhd_remove_HEATM_protein.pdb\n",
      "[OK] saved: /workspace/datasets/PDBbind2016/refined/3jup/3jup_remove_HEATM_protein.pdb\n"
     ]
    },
    {
     "name": "stderr",
     "output_type": "stream",
     "text": [
      "/opt/conda/envs/team05/lib/python3.10/site-packages/Bio/PDB/PDBParser.py:388: PDBConstructionWarning: Ignoring unrecognized record 'TER' at line 4666\n",
      "  warnings.warn(\n",
      "/opt/conda/envs/team05/lib/python3.10/site-packages/Bio/PDB/PDBParser.py:388: PDBConstructionWarning: Ignoring unrecognized record 'END' at line 5038\n",
      "  warnings.warn(\n",
      "/opt/conda/envs/team05/lib/python3.10/site-packages/Bio/PDB/PDBParser.py:388: PDBConstructionWarning: Ignoring unrecognized record 'TER' at line 1343\n",
      "  warnings.warn(\n"
     ]
    },
    {
     "name": "stdout",
     "output_type": "stream",
     "text": [
      "[OK] saved: /workspace/datasets/PDBbind2016/refined/4aoi/4aoi_remove_HEATM_protein.pdb\n",
      "[OK] saved: /workspace/datasets/PDBbind2016/refined/4tz2/4tz2_remove_HEATM_protein.pdb\n"
     ]
    },
    {
     "name": "stderr",
     "output_type": "stream",
     "text": [
      "/opt/conda/envs/team05/lib/python3.10/site-packages/Bio/PDB/PDBParser.py:388: PDBConstructionWarning: Ignoring unrecognized record 'TER' at line 4827\n",
      "  warnings.warn(\n",
      "/opt/conda/envs/team05/lib/python3.10/site-packages/Bio/PDB/PDBParser.py:388: PDBConstructionWarning: Ignoring unrecognized record 'END' at line 5013\n",
      "  warnings.warn(\n",
      "/opt/conda/envs/team05/lib/python3.10/site-packages/Bio/PDB/PDBParser.py:388: PDBConstructionWarning: Ignoring unrecognized record 'TER' at line 2820\n",
      "  warnings.warn(\n",
      "/opt/conda/envs/team05/lib/python3.10/site-packages/Bio/PDB/PDBParser.py:388: PDBConstructionWarning: Ignoring unrecognized record 'TER' at line 5599\n",
      "  warnings.warn(\n",
      "/opt/conda/envs/team05/lib/python3.10/site-packages/Bio/PDB/PDBParser.py:388: PDBConstructionWarning: Ignoring unrecognized record 'END' at line 6294\n",
      "  warnings.warn(\n"
     ]
    },
    {
     "name": "stdout",
     "output_type": "stream",
     "text": [
      "[OK] saved: /workspace/datasets/PDBbind2016/refined/1bzj/1bzj_remove_HEATM_protein.pdb\n",
      "[OK] saved: /workspace/datasets/PDBbind2016/refined/4ysl/4ysl_remove_HEATM_protein.pdb\n"
     ]
    },
    {
     "name": "stderr",
     "output_type": "stream",
     "text": [
      "/opt/conda/envs/team05/lib/python3.10/site-packages/Bio/PDB/PDBParser.py:388: PDBConstructionWarning: Ignoring unrecognized record 'TER' at line 4403\n",
      "  warnings.warn(\n",
      "/opt/conda/envs/team05/lib/python3.10/site-packages/Bio/PDB/PDBParser.py:388: PDBConstructionWarning: Ignoring unrecognized record 'TER' at line 8737\n",
      "  warnings.warn(\n",
      "/opt/conda/envs/team05/lib/python3.10/site-packages/Bio/PDB/PDBParser.py:388: PDBConstructionWarning: Ignoring unrecognized record 'TER' at line 13071\n",
      "  warnings.warn(\n",
      "/opt/conda/envs/team05/lib/python3.10/site-packages/Bio/PDB/PDBParser.py:388: PDBConstructionWarning: Ignoring unrecognized record 'END' at line 13237\n",
      "  warnings.warn(\n"
     ]
    },
    {
     "name": "stdout",
     "output_type": "stream",
     "text": [
      "[OK] saved: /workspace/datasets/PDBbind2016/refined/1a9q/1a9q_remove_HEATM_protein.pdb\n",
      "[OK] saved: /workspace/datasets/PDBbind2016/refined/4cjp/4cjp_remove_HEATM_protein.pdb\n"
     ]
    },
    {
     "name": "stderr",
     "output_type": "stream",
     "text": [
      "/opt/conda/envs/team05/lib/python3.10/site-packages/Bio/PDB/PDBParser.py:388: PDBConstructionWarning: Ignoring unrecognized record 'TER' at line 1428\n",
      "  warnings.warn(\n",
      "/opt/conda/envs/team05/lib/python3.10/site-packages/Bio/PDB/PDBParser.py:388: PDBConstructionWarning: Ignoring unrecognized record 'TER' at line 2829\n",
      "  warnings.warn(\n",
      "/opt/conda/envs/team05/lib/python3.10/site-packages/Bio/PDB/PDBParser.py:388: PDBConstructionWarning: Ignoring unrecognized record 'END' at line 2919\n",
      "  warnings.warn(\n",
      "/opt/conda/envs/team05/lib/python3.10/site-packages/Bio/PDB/PDBParser.py:388: PDBConstructionWarning: Ignoring unrecognized record 'TER' at line 2416\n",
      "  warnings.warn(\n"
     ]
    },
    {
     "name": "stdout",
     "output_type": "stream",
     "text": [
      "[OK] saved: /workspace/datasets/PDBbind2016/refined/3n2u/3n2u_remove_HEATM_protein.pdb\n",
      "[OK] saved: /workspace/datasets/PDBbind2016/refined/3g2y/3g2y_remove_HEATM_protein.pdb\n",
      "[OK] saved: /workspace/datasets/PDBbind2016/refined/4z1k/4z1k_remove_HEATM_protein.pdb\n"
     ]
    },
    {
     "name": "stderr",
     "output_type": "stream",
     "text": [
      "/opt/conda/envs/team05/lib/python3.10/site-packages/Bio/PDB/PDBParser.py:388: PDBConstructionWarning: Ignoring unrecognized record 'TER' at line 3959\n",
      "  warnings.warn(\n",
      "/opt/conda/envs/team05/lib/python3.10/site-packages/Bio/PDB/PDBParser.py:388: PDBConstructionWarning: Ignoring unrecognized record 'TER' at line 2477\n",
      "  warnings.warn(\n",
      "/opt/conda/envs/team05/lib/python3.10/site-packages/Bio/PDB/PDBParser.py:388: PDBConstructionWarning: Ignoring unrecognized record 'TER' at line 8367\n",
      "  warnings.warn(\n",
      "/opt/conda/envs/team05/lib/python3.10/site-packages/Bio/PDB/PDBParser.py:388: PDBConstructionWarning: Ignoring unrecognized record 'TER' at line 16586\n",
      "  warnings.warn(\n"
     ]
    },
    {
     "name": "stdout",
     "output_type": "stream",
     "text": [
      "[OK] saved: /workspace/datasets/PDBbind2016/refined/2ha3/2ha3_remove_HEATM_protein.pdb\n"
     ]
    },
    {
     "name": "stderr",
     "output_type": "stream",
     "text": [
      "/opt/conda/envs/team05/lib/python3.10/site-packages/Bio/PDB/PDBParser.py:388: PDBConstructionWarning: Ignoring unrecognized record 'TER' at line 8275\n",
      "  warnings.warn(\n",
      "/opt/conda/envs/team05/lib/python3.10/site-packages/Bio/PDB/PDBParser.py:388: PDBConstructionWarning: Ignoring unrecognized record 'TER' at line 2441\n",
      "  warnings.warn(\n",
      "/opt/conda/envs/team05/lib/python3.10/site-packages/Bio/PDB/PDBParser.py:388: PDBConstructionWarning: Ignoring unrecognized record 'TER' at line 4906\n",
      "  warnings.warn(\n"
     ]
    },
    {
     "name": "stdout",
     "output_type": "stream",
     "text": [
      "[OK] saved: /workspace/datasets/PDBbind2016/refined/2olb/2olb_remove_HEATM_protein.pdb\n",
      "[OK] saved: /workspace/datasets/PDBbind2016/refined/4xmr/4xmr_remove_HEATM_protein.pdb\n"
     ]
    },
    {
     "name": "stderr",
     "output_type": "stream",
     "text": [
      "/opt/conda/envs/team05/lib/python3.10/site-packages/Bio/PDB/PDBParser.py:388: PDBConstructionWarning: Ignoring unrecognized record 'TER' at line 5184\n",
      "  warnings.warn(\n",
      "/opt/conda/envs/team05/lib/python3.10/site-packages/Bio/PDB/PDBParser.py:388: PDBConstructionWarning: Ignoring unrecognized record 'TER' at line 10307\n",
      "  warnings.warn(\n",
      "/opt/conda/envs/team05/lib/python3.10/site-packages/Bio/PDB/PDBParser.py:388: PDBConstructionWarning: Ignoring unrecognized record 'TER' at line 15391\n",
      "  warnings.warn(\n",
      "/opt/conda/envs/team05/lib/python3.10/site-packages/Bio/PDB/PDBParser.py:388: PDBConstructionWarning: Ignoring unrecognized record 'TER' at line 20479\n",
      "  warnings.warn(\n",
      "/opt/conda/envs/team05/lib/python3.10/site-packages/Bio/PDB/PDBParser.py:388: PDBConstructionWarning: Ignoring unrecognized record 'END' at line 21375\n",
      "  warnings.warn(\n"
     ]
    },
    {
     "name": "stdout",
     "output_type": "stream",
     "text": [
      "[OK] saved: /workspace/datasets/PDBbind2016/refined/4aj4/4aj4_remove_HEATM_protein.pdb\n",
      "[OK] saved: /workspace/datasets/PDBbind2016/refined/1gnm/1gnm_remove_HEATM_protein.pdb\n"
     ]
    },
    {
     "name": "stderr",
     "output_type": "stream",
     "text": [
      "/opt/conda/envs/team05/lib/python3.10/site-packages/Bio/PDB/PDBParser.py:388: PDBConstructionWarning: Ignoring unrecognized record 'TER' at line 1577\n",
      "  warnings.warn(\n",
      "/opt/conda/envs/team05/lib/python3.10/site-packages/Bio/PDB/PDBParser.py:388: PDBConstructionWarning: Ignoring unrecognized record 'TER' at line 3135\n",
      "  warnings.warn(\n",
      "/opt/conda/envs/team05/lib/python3.10/site-packages/Bio/PDB/PDBParser.py:388: PDBConstructionWarning: Ignoring unrecognized record 'END' at line 3236\n",
      "  warnings.warn(\n",
      "/opt/conda/envs/team05/lib/python3.10/site-packages/Bio/PDB/PDBParser.py:388: PDBConstructionWarning: Ignoring unrecognized record 'TER' at line 5624\n",
      "  warnings.warn(\n",
      "/opt/conda/envs/team05/lib/python3.10/site-packages/Bio/PDB/PDBParser.py:388: PDBConstructionWarning: Ignoring unrecognized record 'TER' at line 11155\n",
      "  warnings.warn(\n",
      "/opt/conda/envs/team05/lib/python3.10/site-packages/Bio/PDB/PDBParser.py:388: PDBConstructionWarning: Ignoring unrecognized record 'END' at line 11529\n",
      "  warnings.warn(\n"
     ]
    },
    {
     "name": "stdout",
     "output_type": "stream",
     "text": [
      "[OK] saved: /workspace/datasets/PDBbind2016/refined/1q5k/1q5k_remove_HEATM_protein.pdb\n"
     ]
    },
    {
     "name": "stderr",
     "output_type": "stream",
     "text": [
      "/opt/conda/envs/team05/lib/python3.10/site-packages/Bio/PDB/PDBParser.py:388: PDBConstructionWarning: Ignoring unrecognized record 'TER' at line 3638\n",
      "  warnings.warn(\n",
      "/opt/conda/envs/team05/lib/python3.10/site-packages/Bio/PDB/PDBParser.py:388: PDBConstructionWarning: Ignoring unrecognized record 'TER' at line 7217\n",
      "  warnings.warn(\n",
      "/opt/conda/envs/team05/lib/python3.10/site-packages/Bio/PDB/PDBParser.py:388: PDBConstructionWarning: Ignoring unrecognized record 'END' at line 7487\n",
      "  warnings.warn(\n",
      "/opt/conda/envs/team05/lib/python3.10/site-packages/Bio/PDB/PDBParser.py:388: PDBConstructionWarning: Ignoring unrecognized record 'TER' at line 4081\n",
      "  warnings.warn(\n",
      "/opt/conda/envs/team05/lib/python3.10/site-packages/Bio/PDB/PDBParser.py:388: PDBConstructionWarning: Ignoring unrecognized record 'TER' at line 8132\n",
      "  warnings.warn(\n",
      "/opt/conda/envs/team05/lib/python3.10/site-packages/Bio/PDB/PDBParser.py:388: PDBConstructionWarning: Ignoring unrecognized record 'END' at line 8418\n",
      "  warnings.warn(\n"
     ]
    },
    {
     "name": "stdout",
     "output_type": "stream",
     "text": [
      "[OK] saved: /workspace/datasets/PDBbind2016/refined/5afv/5afv_remove_HEATM_protein.pdb\n",
      "[OK] saved: /workspace/datasets/PDBbind2016/refined/1sr7/1sr7_remove_HEATM_protein.pdb\n"
     ]
    },
    {
     "name": "stderr",
     "output_type": "stream",
     "text": [
      "/opt/conda/envs/team05/lib/python3.10/site-packages/Bio/PDB/PDBParser.py:388: PDBConstructionWarning: Ignoring unrecognized record 'TER' at line 2295\n",
      "  warnings.warn(\n",
      "/opt/conda/envs/team05/lib/python3.10/site-packages/Bio/PDB/PDBParser.py:388: PDBConstructionWarning: Ignoring unrecognized record 'END' at line 2322\n",
      "  warnings.warn(\n",
      "/opt/conda/envs/team05/lib/python3.10/site-packages/Bio/PDB/PDBParser.py:388: PDBConstructionWarning: Ignoring unrecognized record 'TER' at line 3412\n",
      "  warnings.warn(\n",
      "/opt/conda/envs/team05/lib/python3.10/site-packages/Bio/PDB/PDBParser.py:388: PDBConstructionWarning: Ignoring unrecognized record 'END' at line 3531\n",
      "  warnings.warn(\n"
     ]
    },
    {
     "name": "stdout",
     "output_type": "stream",
     "text": [
      "[OK] saved: /workspace/datasets/PDBbind2016/refined/3zk6/3zk6_remove_HEATM_protein.pdb\n",
      "[OK] saved: /workspace/datasets/PDBbind2016/refined/5cqu/5cqu_remove_HEATM_protein.pdb\n"
     ]
    },
    {
     "name": "stderr",
     "output_type": "stream",
     "text": [
      "/opt/conda/envs/team05/lib/python3.10/site-packages/Bio/PDB/PDBParser.py:388: PDBConstructionWarning: Ignoring unrecognized record 'TER' at line 3245\n",
      "  warnings.warn(\n",
      "/opt/conda/envs/team05/lib/python3.10/site-packages/Bio/PDB/PDBParser.py:388: PDBConstructionWarning: Ignoring unrecognized record 'TER' at line 4145\n",
      "  warnings.warn(\n",
      "/opt/conda/envs/team05/lib/python3.10/site-packages/Bio/PDB/PDBParser.py:388: PDBConstructionWarning: Ignoring unrecognized record 'TER' at line 8243\n",
      "  warnings.warn(\n"
     ]
    },
    {
     "name": "stdout",
     "output_type": "stream",
     "text": [
      "[OK] saved: /workspace/datasets/PDBbind2016/refined/3aau/3aau_remove_HEATM_protein.pdb\n",
      "[OK] saved: /workspace/datasets/PDBbind2016/refined/4n07/4n07_remove_HEATM_protein.pdb\n"
     ]
    },
    {
     "name": "stderr",
     "output_type": "stream",
     "text": [
      "/opt/conda/envs/team05/lib/python3.10/site-packages/Bio/PDB/PDBParser.py:388: PDBConstructionWarning: Ignoring unrecognized record 'TER' at line 4067\n",
      "  warnings.warn(\n",
      "/opt/conda/envs/team05/lib/python3.10/site-packages/Bio/PDB/PDBParser.py:388: PDBConstructionWarning: Ignoring unrecognized record 'TER' at line 2513\n",
      "  warnings.warn(\n",
      "/opt/conda/envs/team05/lib/python3.10/site-packages/Bio/PDB/PDBParser.py:388: PDBConstructionWarning: Ignoring unrecognized record 'TER' at line 3592\n",
      "  warnings.warn(\n"
     ]
    },
    {
     "name": "stdout",
     "output_type": "stream",
     "text": [
      "[OK] saved: /workspace/datasets/PDBbind2016/refined/3mna/3mna_remove_HEATM_protein.pdb\n",
      "[OK] saved: /workspace/datasets/PDBbind2016/refined/4z0q/4z0q_remove_HEATM_protein.pdb\n",
      "[OK] saved: /workspace/datasets/PDBbind2016/refined/1lst/1lst_remove_HEATM_protein.pdb\n"
     ]
    },
    {
     "name": "stderr",
     "output_type": "stream",
     "text": [
      "/opt/conda/envs/team05/lib/python3.10/site-packages/Bio/PDB/PDBParser.py:388: PDBConstructionWarning: Ignoring unrecognized record 'TER' at line 2942\n",
      "  warnings.warn(\n"
     ]
    },
    {
     "name": "stdout",
     "output_type": "stream",
     "text": [
      "[OK] saved: /workspace/datasets/PDBbind2016/refined/4u1b/4u1b_remove_HEATM_protein.pdb\n"
     ]
    },
    {
     "name": "stderr",
     "output_type": "stream",
     "text": [
      "/opt/conda/envs/team05/lib/python3.10/site-packages/Bio/PDB/PDBParser.py:388: PDBConstructionWarning: Ignoring unrecognized record 'TER' at line 4828\n",
      "  warnings.warn(\n",
      "/opt/conda/envs/team05/lib/python3.10/site-packages/Bio/PDB/PDBParser.py:388: PDBConstructionWarning: Ignoring unrecognized record 'END' at line 4927\n",
      "  warnings.warn(\n",
      "/opt/conda/envs/team05/lib/python3.10/site-packages/Bio/PDB/PDBParser.py:388: PDBConstructionWarning: Ignoring unrecognized record 'TER' at line 2708\n",
      "  warnings.warn(\n",
      "/opt/conda/envs/team05/lib/python3.10/site-packages/Bio/PDB/PDBParser.py:388: PDBConstructionWarning: Ignoring unrecognized record 'TER' at line 942\n",
      "  warnings.warn(\n",
      "/opt/conda/envs/team05/lib/python3.10/site-packages/Bio/PDB/PDBParser.py:388: PDBConstructionWarning: Ignoring unrecognized record 'TER' at line 1865\n",
      "  warnings.warn(\n",
      "/opt/conda/envs/team05/lib/python3.10/site-packages/Bio/PDB/PDBParser.py:388: PDBConstructionWarning: Ignoring unrecognized record 'END' at line 2042\n",
      "  warnings.warn(\n",
      "/opt/conda/envs/team05/lib/python3.10/site-packages/Bio/PDB/PDBParser.py:388: PDBConstructionWarning: Ignoring unrecognized record 'TER' at line 1833\n",
      "  warnings.warn(\n"
     ]
    },
    {
     "name": "stdout",
     "output_type": "stream",
     "text": [
      "[OK] saved: /workspace/datasets/PDBbind2016/refined/2h4g/2h4g_remove_HEATM_protein.pdb\n",
      "[OK] saved: /workspace/datasets/PDBbind2016/refined/3u90/3u90_remove_HEATM_protein.pdb\n",
      "[OK] saved: /workspace/datasets/PDBbind2016/refined/4ye3/4ye3_remove_HEATM_protein.pdb\n"
     ]
    },
    {
     "name": "stderr",
     "output_type": "stream",
     "text": [
      "/opt/conda/envs/team05/lib/python3.10/site-packages/Bio/PDB/PDBParser.py:388: PDBConstructionWarning: Ignoring unrecognized record 'TER' at line 3641\n",
      "  warnings.warn(\n",
      "/opt/conda/envs/team05/lib/python3.10/site-packages/Bio/PDB/PDBParser.py:388: PDBConstructionWarning: Ignoring unrecognized record 'TER' at line 5457\n",
      "  warnings.warn(\n"
     ]
    },
    {
     "name": "stdout",
     "output_type": "stream",
     "text": [
      "[OK] saved: /workspace/datasets/PDBbind2016/refined/3rf5/3rf5_remove_HEATM_protein.pdb\n",
      "[OK] saved: /workspace/datasets/PDBbind2016/refined/4elh/4elh_remove_HEATM_protein.pdb\n"
     ]
    },
    {
     "name": "stderr",
     "output_type": "stream",
     "text": [
      "/opt/conda/envs/team05/lib/python3.10/site-packages/Bio/PDB/PDBParser.py:388: PDBConstructionWarning: Ignoring unrecognized record 'TER' at line 2737\n",
      "  warnings.warn(\n",
      "/opt/conda/envs/team05/lib/python3.10/site-packages/Bio/PDB/PDBParser.py:388: PDBConstructionWarning: Ignoring unrecognized record 'TER' at line 7631\n",
      "  warnings.warn(\n",
      "/opt/conda/envs/team05/lib/python3.10/site-packages/Bio/PDB/PDBParser.py:388: PDBConstructionWarning: Ignoring unrecognized record 'TER' at line 15002\n",
      "  warnings.warn(\n"
     ]
    },
    {
     "name": "stdout",
     "output_type": "stream",
     "text": [
      "[OK] saved: /workspace/datasets/PDBbind2016/refined/3odu/3odu_remove_HEATM_protein.pdb\n",
      "[OK] saved: /workspace/datasets/PDBbind2016/refined/3ewc/3ewc_remove_HEATM_protein.pdb\n"
     ]
    },
    {
     "name": "stderr",
     "output_type": "stream",
     "text": [
      "/opt/conda/envs/team05/lib/python3.10/site-packages/Bio/PDB/PDBParser.py:388: PDBConstructionWarning: Ignoring unrecognized record 'TER' at line 5797\n",
      "  warnings.warn(\n",
      "/opt/conda/envs/team05/lib/python3.10/site-packages/Bio/PDB/PDBParser.py:388: PDBConstructionWarning: Ignoring unrecognized record 'TER' at line 8780\n",
      "  warnings.warn(\n",
      "/opt/conda/envs/team05/lib/python3.10/site-packages/Bio/PDB/PDBParser.py:388: PDBConstructionWarning: Ignoring unrecognized record 'TER' at line 17471\n",
      "  warnings.warn(\n",
      "/opt/conda/envs/team05/lib/python3.10/site-packages/Bio/PDB/PDBParser.py:388: PDBConstructionWarning: Ignoring unrecognized record 'END' at line 18103\n",
      "  warnings.warn(\n"
     ]
    },
    {
     "name": "stdout",
     "output_type": "stream",
     "text": [
      "[OK] saved: /workspace/datasets/PDBbind2016/refined/3mf5/3mf5_remove_HEATM_protein.pdb\n",
      "[OK] saved: /workspace/datasets/PDBbind2016/refined/1nfu/1nfu_remove_HEATM_protein.pdb\n"
     ]
    },
    {
     "name": "stderr",
     "output_type": "stream",
     "text": [
      "/opt/conda/envs/team05/lib/python3.10/site-packages/Bio/PDB/PDBParser.py:388: PDBConstructionWarning: Ignoring unrecognized record 'TER' at line 3692\n",
      "  warnings.warn(\n",
      "/opt/conda/envs/team05/lib/python3.10/site-packages/Bio/PDB/PDBParser.py:388: PDBConstructionWarning: Ignoring unrecognized record 'TER' at line 4437\n",
      "  warnings.warn(\n",
      "/opt/conda/envs/team05/lib/python3.10/site-packages/Bio/PDB/PDBParser.py:388: PDBConstructionWarning: Ignoring unrecognized record 'TER' at line 4234\n",
      "  warnings.warn(\n",
      "/opt/conda/envs/team05/lib/python3.10/site-packages/Bio/PDB/PDBParser.py:388: PDBConstructionWarning: Ignoring unrecognized record 'END' at line 4315\n",
      "  warnings.warn(\n",
      "/opt/conda/envs/team05/lib/python3.10/site-packages/Bio/PDB/PDBParser.py:388: PDBConstructionWarning: Ignoring unrecognized record 'TER' at line 1814\n",
      "  warnings.warn(\n"
     ]
    },
    {
     "name": "stdout",
     "output_type": "stream",
     "text": [
      "[OK] saved: /workspace/datasets/PDBbind2016/refined/3hmo/3hmo_remove_HEATM_protein.pdb\n"
     ]
    },
    {
     "name": "stderr",
     "output_type": "stream",
     "text": [
      "/opt/conda/envs/team05/lib/python3.10/site-packages/Bio/PDB/PDBParser.py:388: PDBConstructionWarning: Ignoring unrecognized record 'TER' at line 3565\n",
      "  warnings.warn(\n",
      "/opt/conda/envs/team05/lib/python3.10/site-packages/Bio/PDB/PDBParser.py:388: PDBConstructionWarning: Ignoring unrecognized record 'TER' at line 5340\n",
      "  warnings.warn(\n",
      "/opt/conda/envs/team05/lib/python3.10/site-packages/Bio/PDB/PDBParser.py:388: PDBConstructionWarning: Ignoring unrecognized record 'TER' at line 7091\n",
      "  warnings.warn(\n",
      "/opt/conda/envs/team05/lib/python3.10/site-packages/Bio/PDB/PDBParser.py:388: PDBConstructionWarning: Ignoring unrecognized record 'END' at line 7501\n",
      "  warnings.warn(\n",
      "/opt/conda/envs/team05/lib/python3.10/site-packages/Bio/PDB/PDBParser.py:388: PDBConstructionWarning: Ignoring unrecognized record 'TER' at line 4384\n",
      "  warnings.warn(\n"
     ]
    },
    {
     "name": "stdout",
     "output_type": "stream",
     "text": [
      "[OK] saved: /workspace/datasets/PDBbind2016/refined/4deu/4deu_remove_HEATM_protein.pdb\n",
      "[OK] saved: /workspace/datasets/PDBbind2016/refined/1fzo/1fzo_remove_HEATM_protein.pdb\n"
     ]
    },
    {
     "name": "stderr",
     "output_type": "stream",
     "text": [
      "/opt/conda/envs/team05/lib/python3.10/site-packages/Bio/PDB/PDBParser.py:388: PDBConstructionWarning: Ignoring unrecognized record 'TER' at line 5997\n",
      "  warnings.warn(\n",
      "/opt/conda/envs/team05/lib/python3.10/site-packages/Bio/PDB/PDBParser.py:388: PDBConstructionWarning: Ignoring unrecognized record 'TER' at line 2511\n",
      "  warnings.warn(\n"
     ]
    },
    {
     "name": "stdout",
     "output_type": "stream",
     "text": [
      "[OK] saved: /workspace/datasets/PDBbind2016/refined/4riu/4riu_remove_HEATM_protein.pdb\n"
     ]
    },
    {
     "name": "stderr",
     "output_type": "stream",
     "text": [
      "/opt/conda/envs/team05/lib/python3.10/site-packages/Bio/PDB/PDBParser.py:388: PDBConstructionWarning: Ignoring unrecognized record 'TER' at line 8197\n",
      "  warnings.warn(\n",
      "/opt/conda/envs/team05/lib/python3.10/site-packages/Bio/PDB/PDBParser.py:388: PDBConstructionWarning: Ignoring unrecognized record 'TER' at line 1077\n",
      "  warnings.warn(\n",
      "/opt/conda/envs/team05/lib/python3.10/site-packages/Bio/PDB/PDBParser.py:388: PDBConstructionWarning: Ignoring unrecognized record 'TER' at line 2128\n",
      "  warnings.warn(\n",
      "/opt/conda/envs/team05/lib/python3.10/site-packages/Bio/PDB/PDBParser.py:388: PDBConstructionWarning: Ignoring unrecognized record 'TER' at line 3177\n",
      "  warnings.warn(\n",
      "/opt/conda/envs/team05/lib/python3.10/site-packages/Bio/PDB/PDBParser.py:388: PDBConstructionWarning: Ignoring unrecognized record 'END' at line 3440\n",
      "  warnings.warn(\n"
     ]
    },
    {
     "name": "stdout",
     "output_type": "stream",
     "text": [
      "[OK] saved: /workspace/datasets/PDBbind2016/refined/3tcg/3tcg_remove_HEATM_protein.pdb\n",
      "[OK] saved: /workspace/datasets/PDBbind2016/refined/4wrb/4wrb_remove_HEATM_protein.pdb\n"
     ]
    },
    {
     "name": "stderr",
     "output_type": "stream",
     "text": [
      "/opt/conda/envs/team05/lib/python3.10/site-packages/Bio/PDB/PDBParser.py:388: PDBConstructionWarning: Ignoring unrecognized record 'TER' at line 2560\n",
      "  warnings.warn(\n",
      "/opt/conda/envs/team05/lib/python3.10/site-packages/Bio/PDB/PDBParser.py:388: PDBConstructionWarning: Ignoring unrecognized record 'TER' at line 7729\n",
      "  warnings.warn(\n",
      "/opt/conda/envs/team05/lib/python3.10/site-packages/Bio/PDB/PDBParser.py:388: PDBConstructionWarning: Ignoring unrecognized record 'END' at line 8490\n",
      "  warnings.warn(\n"
     ]
    },
    {
     "name": "stdout",
     "output_type": "stream",
     "text": [
      "[OK] saved: /workspace/datasets/PDBbind2016/refined/2usn/2usn_remove_HEATM_protein.pdb\n",
      "[OK] saved: /workspace/datasets/PDBbind2016/refined/3suv/3suv_remove_HEATM_protein.pdb\n",
      "[OK] saved: /workspace/datasets/PDBbind2016/refined/4d3h/4d3h_remove_HEATM_protein.pdb\n"
     ]
    },
    {
     "name": "stderr",
     "output_type": "stream",
     "text": [
      "/opt/conda/envs/team05/lib/python3.10/site-packages/Bio/PDB/PDBParser.py:388: PDBConstructionWarning: Ignoring unrecognized record 'TER' at line 987\n",
      "  warnings.warn(\n",
      "/opt/conda/envs/team05/lib/python3.10/site-packages/Bio/PDB/PDBParser.py:388: PDBConstructionWarning: Ignoring unrecognized record 'TER' at line 1955\n",
      "  warnings.warn(\n",
      "/opt/conda/envs/team05/lib/python3.10/site-packages/Bio/PDB/PDBParser.py:388: PDBConstructionWarning: Ignoring unrecognized record 'TER' at line 2897\n",
      "  warnings.warn(\n",
      "/opt/conda/envs/team05/lib/python3.10/site-packages/Bio/PDB/PDBParser.py:388: PDBConstructionWarning: Ignoring unrecognized record 'END' at line 3067\n",
      "  warnings.warn(\n",
      "/opt/conda/envs/team05/lib/python3.10/site-packages/Bio/PDB/PDBParser.py:388: PDBConstructionWarning: Ignoring unrecognized record 'TER' at line 3954\n",
      "  warnings.warn(\n",
      "/opt/conda/envs/team05/lib/python3.10/site-packages/Bio/PDB/PDBParser.py:388: PDBConstructionWarning: Ignoring unrecognized record 'TER' at line 7865\n",
      "  warnings.warn(\n",
      "/opt/conda/envs/team05/lib/python3.10/site-packages/Bio/PDB/PDBParser.py:388: PDBConstructionWarning: Ignoring unrecognized record 'END' at line 8244\n",
      "  warnings.warn(\n",
      "/opt/conda/envs/team05/lib/python3.10/site-packages/Bio/PDB/PDBParser.py:388: PDBConstructionWarning: Ignoring unrecognized record 'TER' at line 1028\n",
      "  warnings.warn(\n",
      "/opt/conda/envs/team05/lib/python3.10/site-packages/Bio/PDB/PDBParser.py:388: PDBConstructionWarning: Ignoring unrecognized record 'TER' at line 1993\n",
      "  warnings.warn(\n",
      "/opt/conda/envs/team05/lib/python3.10/site-packages/Bio/PDB/PDBParser.py:388: PDBConstructionWarning: Ignoring unrecognized record 'TER' at line 2958\n",
      "  warnings.warn(\n",
      "/opt/conda/envs/team05/lib/python3.10/site-packages/Bio/PDB/PDBParser.py:388: PDBConstructionWarning: Ignoring unrecognized record 'TER' at line 3923\n",
      "  warnings.warn(\n",
      "/opt/conda/envs/team05/lib/python3.10/site-packages/Bio/PDB/PDBParser.py:388: PDBConstructionWarning: Ignoring unrecognized record 'TER' at line 4888\n",
      "  warnings.warn(\n",
      "/opt/conda/envs/team05/lib/python3.10/site-packages/Bio/PDB/PDBParser.py:388: PDBConstructionWarning: Ignoring unrecognized record 'TER' at line 5853\n",
      "  warnings.warn(\n",
      "/opt/conda/envs/team05/lib/python3.10/site-packages/Bio/PDB/PDBParser.py:388: PDBConstructionWarning: Ignoring unrecognized record 'TER' at line 6818\n",
      "  warnings.warn(\n"
     ]
    },
    {
     "name": "stdout",
     "output_type": "stream",
     "text": [
      "[OK] saved: /workspace/datasets/PDBbind2016/refined/4bi7/4bi7_remove_HEATM_protein.pdb\n"
     ]
    },
    {
     "name": "stderr",
     "output_type": "stream",
     "text": [
      "/opt/conda/envs/team05/lib/python3.10/site-packages/Bio/PDB/PDBParser.py:388: PDBConstructionWarning: Ignoring unrecognized record 'TER' at line 7783\n",
      "  warnings.warn(\n",
      "/opt/conda/envs/team05/lib/python3.10/site-packages/Bio/PDB/PDBParser.py:388: PDBConstructionWarning: Ignoring unrecognized record 'TER' at line 8748\n",
      "  warnings.warn(\n",
      "/opt/conda/envs/team05/lib/python3.10/site-packages/Bio/PDB/PDBParser.py:388: PDBConstructionWarning: Ignoring unrecognized record 'TER' at line 9713\n",
      "  warnings.warn(\n",
      "/opt/conda/envs/team05/lib/python3.10/site-packages/Bio/PDB/PDBParser.py:388: PDBConstructionWarning: Ignoring unrecognized record 'TER' at line 10678\n",
      "  warnings.warn(\n",
      "/opt/conda/envs/team05/lib/python3.10/site-packages/Bio/PDB/PDBParser.py:388: PDBConstructionWarning: Ignoring unrecognized record 'TER' at line 11643\n",
      "  warnings.warn(\n",
      "/opt/conda/envs/team05/lib/python3.10/site-packages/Bio/PDB/PDBParser.py:388: PDBConstructionWarning: Ignoring unrecognized record 'TER' at line 2697\n",
      "  warnings.warn(\n"
     ]
    },
    {
     "name": "stdout",
     "output_type": "stream",
     "text": [
      "[OK] saved: /workspace/datasets/PDBbind2016/refined/2ccc/2ccc_remove_HEATM_protein.pdb\n"
     ]
    },
    {
     "name": "stderr",
     "output_type": "stream",
     "text": [
      "/opt/conda/envs/team05/lib/python3.10/site-packages/Bio/PDB/PDBParser.py:388: PDBConstructionWarning: Ignoring unrecognized record 'TER' at line 5323\n",
      "  warnings.warn(\n",
      "/opt/conda/envs/team05/lib/python3.10/site-packages/Bio/PDB/PDBParser.py:388: PDBConstructionWarning: Ignoring unrecognized record 'TER' at line 7949\n",
      "  warnings.warn(\n",
      "/opt/conda/envs/team05/lib/python3.10/site-packages/Bio/PDB/PDBParser.py:388: PDBConstructionWarning: Ignoring unrecognized record 'TER' at line 10574\n",
      "  warnings.warn(\n"
     ]
    },
    {
     "name": "stdout",
     "output_type": "stream",
     "text": [
      "[OK] saved: /workspace/datasets/PDBbind2016/refined/3usx/3usx_remove_HEATM_protein.pdb\n",
      "[OK] saved: /workspace/datasets/PDBbind2016/refined/1f0s/1f0s_remove_HEATM_protein.pdb\n",
      "[OK] saved: /workspace/datasets/PDBbind2016/refined/1o0m/1o0m_remove_HEATM_protein.pdb\n"
     ]
    },
    {
     "name": "stderr",
     "output_type": "stream",
     "text": [
      "/opt/conda/envs/team05/lib/python3.10/site-packages/Bio/PDB/PDBParser.py:388: PDBConstructionWarning: Ignoring unrecognized record 'TER' at line 3692\n",
      "  warnings.warn(\n",
      "/opt/conda/envs/team05/lib/python3.10/site-packages/Bio/PDB/PDBParser.py:388: PDBConstructionWarning: Ignoring unrecognized record 'TER' at line 4406\n",
      "  warnings.warn(\n",
      "/opt/conda/envs/team05/lib/python3.10/site-packages/Bio/PDB/PDBParser.py:388: PDBConstructionWarning: Ignoring unrecognized record 'TER' at line 1870\n",
      "  warnings.warn(\n",
      "/opt/conda/envs/team05/lib/python3.10/site-packages/Bio/PDB/PDBParser.py:388: PDBConstructionWarning: Ignoring unrecognized record 'TER' at line 1183\n",
      "  warnings.warn(\n"
     ]
    },
    {
     "name": "stdout",
     "output_type": "stream",
     "text": [
      "[OK] saved: /workspace/datasets/PDBbind2016/refined/4qf8/4qf8_remove_HEATM_protein.pdb\n"
     ]
    },
    {
     "name": "stderr",
     "output_type": "stream",
     "text": [
      "/opt/conda/envs/team05/lib/python3.10/site-packages/Bio/PDB/PDBParser.py:388: PDBConstructionWarning: Ignoring unrecognized record 'TER' at line 5906\n",
      "  warnings.warn(\n",
      "/opt/conda/envs/team05/lib/python3.10/site-packages/Bio/PDB/PDBParser.py:388: PDBConstructionWarning: Ignoring unrecognized record 'TER' at line 11692\n",
      "  warnings.warn(\n",
      "/opt/conda/envs/team05/lib/python3.10/site-packages/Bio/PDB/PDBParser.py:388: PDBConstructionWarning: Ignoring unrecognized record 'END' at line 11874\n",
      "  warnings.warn(\n"
     ]
    },
    {
     "name": "stdout",
     "output_type": "stream",
     "text": [
      "[OK] saved: /workspace/datasets/PDBbind2016/refined/4br3/4br3_remove_HEATM_protein.pdb\n",
      "[OK] saved: /workspace/datasets/PDBbind2016/refined/4omc/4omc_remove_HEATM_protein.pdb\n"
     ]
    },
    {
     "name": "stderr",
     "output_type": "stream",
     "text": [
      "/opt/conda/envs/team05/lib/python3.10/site-packages/Bio/PDB/PDBParser.py:388: PDBConstructionWarning: Ignoring unrecognized record 'TER' at line 4399\n",
      "  warnings.warn(\n",
      "/opt/conda/envs/team05/lib/python3.10/site-packages/Bio/PDB/PDBParser.py:388: PDBConstructionWarning: Ignoring unrecognized record 'TER' at line 6117\n",
      "  warnings.warn(\n",
      "/opt/conda/envs/team05/lib/python3.10/site-packages/Bio/PDB/PDBParser.py:388: PDBConstructionWarning: Ignoring unrecognized record 'TER' at line 12075\n",
      "  warnings.warn(\n",
      "/opt/conda/envs/team05/lib/python3.10/site-packages/Bio/PDB/PDBParser.py:388: PDBConstructionWarning: Ignoring unrecognized record 'TER' at line 18033\n",
      "  warnings.warn(\n",
      "/opt/conda/envs/team05/lib/python3.10/site-packages/Bio/PDB/PDBParser.py:388: PDBConstructionWarning: Ignoring unrecognized record 'TER' at line 23991\n",
      "  warnings.warn(\n"
     ]
    },
    {
     "name": "stdout",
     "output_type": "stream",
     "text": [
      "[OK] saved: /workspace/datasets/PDBbind2016/refined/2qwb/2qwb_remove_HEATM_protein.pdb\n",
      "[OK] saved: /workspace/datasets/PDBbind2016/refined/1hbv/1hbv_remove_HEATM_protein.pdb\n"
     ]
    },
    {
     "name": "stderr",
     "output_type": "stream",
     "text": [
      "/opt/conda/envs/team05/lib/python3.10/site-packages/Bio/PDB/PDBParser.py:388: PDBConstructionWarning: Ignoring unrecognized record 'TER' at line 1581\n",
      "  warnings.warn(\n",
      "/opt/conda/envs/team05/lib/python3.10/site-packages/Bio/PDB/PDBParser.py:388: PDBConstructionWarning: Ignoring unrecognized record 'TER' at line 3143\n",
      "  warnings.warn(\n",
      "/opt/conda/envs/team05/lib/python3.10/site-packages/Bio/PDB/PDBParser.py:388: PDBConstructionWarning: Ignoring unrecognized record 'END' at line 3177\n",
      "  warnings.warn(\n",
      "/opt/conda/envs/team05/lib/python3.10/site-packages/Bio/PDB/PDBParser.py:388: PDBConstructionWarning: Ignoring unrecognized record 'TER' at line 15563\n",
      "  warnings.warn(\n"
     ]
    },
    {
     "name": "stdout",
     "output_type": "stream",
     "text": [
      "[OK] saved: /workspace/datasets/PDBbind2016/refined/3w5n/3w5n_remove_HEATM_protein.pdb\n",
      "[OK] saved: /workspace/datasets/PDBbind2016/refined/4aba/4aba_remove_HEATM_protein.pdb\n"
     ]
    },
    {
     "name": "stderr",
     "output_type": "stream",
     "text": [
      "/opt/conda/envs/team05/lib/python3.10/site-packages/Bio/PDB/PDBParser.py:388: PDBConstructionWarning: Ignoring unrecognized record 'TER' at line 3257\n",
      "  warnings.warn(\n",
      "/opt/conda/envs/team05/lib/python3.10/site-packages/Bio/PDB/PDBParser.py:388: PDBConstructionWarning: Ignoring unrecognized record 'TER' at line 2914\n",
      "  warnings.warn(\n",
      "/opt/conda/envs/team05/lib/python3.10/site-packages/Bio/PDB/PDBParser.py:388: PDBConstructionWarning: Ignoring unrecognized record 'TER' at line 2512\n",
      "  warnings.warn(\n"
     ]
    },
    {
     "name": "stdout",
     "output_type": "stream",
     "text": [
      "[OK] saved: /workspace/datasets/PDBbind2016/refined/3wz6/3wz6_remove_HEATM_protein.pdb\n",
      "[OK] saved: /workspace/datasets/PDBbind2016/refined/4qiz/4qiz_remove_HEATM_protein.pdb\n",
      "[OK] saved: /workspace/datasets/PDBbind2016/refined/4p6w/4p6w_remove_HEATM_protein.pdb\n"
     ]
    },
    {
     "name": "stderr",
     "output_type": "stream",
     "text": [
      "/opt/conda/envs/team05/lib/python3.10/site-packages/Bio/PDB/PDBParser.py:388: PDBConstructionWarning: Ignoring unrecognized record 'TER' at line 2510\n",
      "  warnings.warn(\n",
      "/opt/conda/envs/team05/lib/python3.10/site-packages/Bio/PDB/PDBParser.py:388: PDBConstructionWarning: Ignoring unrecognized record 'END' at line 2641\n",
      "  warnings.warn(\n",
      "/opt/conda/envs/team05/lib/python3.10/site-packages/Bio/PDB/PDBParser.py:388: PDBConstructionWarning: Ignoring unrecognized record 'TER' at line 6029\n",
      "  warnings.warn(\n",
      "/opt/conda/envs/team05/lib/python3.10/site-packages/Bio/PDB/PDBParser.py:388: PDBConstructionWarning: Ignoring unrecognized record 'TER' at line 11899\n",
      "  warnings.warn(\n",
      "/opt/conda/envs/team05/lib/python3.10/site-packages/Bio/PDB/PDBParser.py:388: PDBConstructionWarning: Ignoring unrecognized record 'TER' at line 17769\n",
      "  warnings.warn(\n",
      "/opt/conda/envs/team05/lib/python3.10/site-packages/Bio/PDB/PDBParser.py:388: PDBConstructionWarning: Ignoring unrecognized record 'TER' at line 23639\n",
      "  warnings.warn(\n"
     ]
    },
    {
     "name": "stdout",
     "output_type": "stream",
     "text": [
      "[OK] saved: /workspace/datasets/PDBbind2016/refined/4gzx/4gzx_remove_HEATM_protein.pdb\n",
      "[OK] saved: /workspace/datasets/PDBbind2016/refined/4qfo/4qfo_remove_HEATM_protein.pdb\n"
     ]
    },
    {
     "name": "stderr",
     "output_type": "stream",
     "text": [
      "/opt/conda/envs/team05/lib/python3.10/site-packages/Bio/PDB/PDBParser.py:388: PDBConstructionWarning: Ignoring unrecognized record 'TER' at line 5009\n",
      "  warnings.warn(\n",
      "/opt/conda/envs/team05/lib/python3.10/site-packages/Bio/PDB/PDBParser.py:388: PDBConstructionWarning: Ignoring unrecognized record 'TER' at line 1521\n",
      "  warnings.warn(\n",
      "/opt/conda/envs/team05/lib/python3.10/site-packages/Bio/PDB/PDBParser.py:388: PDBConstructionWarning: Ignoring unrecognized record 'TER' at line 3034\n",
      "  warnings.warn(\n",
      "/opt/conda/envs/team05/lib/python3.10/site-packages/Bio/PDB/PDBParser.py:388: PDBConstructionWarning: Ignoring unrecognized record 'END' at line 3129\n",
      "  warnings.warn(\n"
     ]
    },
    {
     "name": "stdout",
     "output_type": "stream",
     "text": [
      "[OK] saved: /workspace/datasets/PDBbind2016/refined/3o9d/3o9d_remove_HEATM_protein.pdb\n"
     ]
    },
    {
     "name": "stderr",
     "output_type": "stream",
     "text": [
      "/opt/conda/envs/team05/lib/python3.10/site-packages/Bio/PDB/PDBParser.py:388: PDBConstructionWarning: Ignoring unrecognized record 'TER' at line 2629\n",
      "  warnings.warn(\n",
      "/opt/conda/envs/team05/lib/python3.10/site-packages/Bio/PDB/PDBParser.py:388: PDBConstructionWarning: Ignoring unrecognized record 'END' at line 2792\n",
      "  warnings.warn(\n"
     ]
    },
    {
     "name": "stdout",
     "output_type": "stream",
     "text": [
      "[OK] saved: /workspace/datasets/PDBbind2016/refined/4v01/4v01_remove_HEATM_protein.pdb\n"
     ]
    },
    {
     "name": "stderr",
     "output_type": "stream",
     "text": [
      "/opt/conda/envs/team05/lib/python3.10/site-packages/Bio/PDB/PDBParser.py:388: PDBConstructionWarning: Ignoring unrecognized record 'TER' at line 10433\n",
      "  warnings.warn(\n",
      "/opt/conda/envs/team05/lib/python3.10/site-packages/Bio/PDB/PDBParser.py:388: PDBConstructionWarning: Ignoring unrecognized record 'TER' at line 20757\n",
      "  warnings.warn(\n"
     ]
    },
    {
     "name": "stdout",
     "output_type": "stream",
     "text": [
      "[OK] saved: /workspace/datasets/PDBbind2016/refined/1tkb/1tkb_remove_HEATM_protein.pdb\n",
      "[OK] saved: /workspace/datasets/PDBbind2016/refined/3qox/3qox_remove_HEATM_protein.pdb\n"
     ]
    },
    {
     "name": "stderr",
     "output_type": "stream",
     "text": [
      "/opt/conda/envs/team05/lib/python3.10/site-packages/Bio/PDB/PDBParser.py:388: PDBConstructionWarning: Ignoring unrecognized record 'TER' at line 5204\n",
      "  warnings.warn(\n",
      "/opt/conda/envs/team05/lib/python3.10/site-packages/Bio/PDB/PDBParser.py:388: PDBConstructionWarning: Ignoring unrecognized record 'END' at line 5307\n",
      "  warnings.warn(\n",
      "/opt/conda/envs/team05/lib/python3.10/site-packages/Bio/PDB/PDBParser.py:388: PDBConstructionWarning: Ignoring unrecognized record 'TER' at line 2341\n",
      "  warnings.warn(\n",
      "/opt/conda/envs/team05/lib/python3.10/site-packages/Bio/PDB/PDBParser.py:388: PDBConstructionWarning: Ignoring unrecognized record 'TER' at line 4600\n",
      "  warnings.warn(\n",
      "/opt/conda/envs/team05/lib/python3.10/site-packages/Bio/PDB/PDBParser.py:388: PDBConstructionWarning: Ignoring unrecognized record 'END' at line 5140\n",
      "  warnings.warn(\n"
     ]
    },
    {
     "name": "stdout",
     "output_type": "stream",
     "text": [
      "[OK] saved: /workspace/datasets/PDBbind2016/refined/4ymh/4ymh_remove_HEATM_protein.pdb\n",
      "[OK] saved: /workspace/datasets/PDBbind2016/refined/4zba/4zba_remove_HEATM_protein.pdb\n"
     ]
    },
    {
     "name": "stderr",
     "output_type": "stream",
     "text": [
      "/opt/conda/envs/team05/lib/python3.10/site-packages/Bio/PDB/PDBParser.py:388: PDBConstructionWarning: Ignoring unrecognized record 'TER' at line 2275\n",
      "  warnings.warn(\n",
      "/opt/conda/envs/team05/lib/python3.10/site-packages/Bio/PDB/PDBParser.py:388: PDBConstructionWarning: Ignoring unrecognized record 'TER' at line 4506\n",
      "  warnings.warn(\n",
      "/opt/conda/envs/team05/lib/python3.10/site-packages/Bio/PDB/PDBParser.py:388: PDBConstructionWarning: Ignoring unrecognized record 'END' at line 5272\n",
      "  warnings.warn(\n",
      "/opt/conda/envs/team05/lib/python3.10/site-packages/Bio/PDB/PDBParser.py:388: PDBConstructionWarning: Ignoring unrecognized record 'TER' at line 4858\n",
      "  warnings.warn(\n",
      "/opt/conda/envs/team05/lib/python3.10/site-packages/Bio/PDB/PDBParser.py:388: PDBConstructionWarning: Ignoring unrecognized record 'TER' at line 9638\n",
      "  warnings.warn(\n",
      "/opt/conda/envs/team05/lib/python3.10/site-packages/Bio/PDB/PDBParser.py:388: PDBConstructionWarning: Ignoring unrecognized record 'TER' at line 14418\n",
      "  warnings.warn(\n"
     ]
    },
    {
     "name": "stdout",
     "output_type": "stream",
     "text": [
      "[OK] saved: /workspace/datasets/PDBbind2016/refined/3fx6/3fx6_remove_HEATM_protein.pdb\n",
      "[OK] saved: /workspace/datasets/PDBbind2016/refined/2j2u/2j2u_remove_HEATM_protein.pdb\n"
     ]
    },
    {
     "name": "stderr",
     "output_type": "stream",
     "text": [
      "/opt/conda/envs/team05/lib/python3.10/site-packages/Bio/PDB/PDBParser.py:388: PDBConstructionWarning: Ignoring unrecognized record 'TER' at line 3636\n",
      "  warnings.warn(\n",
      "/opt/conda/envs/team05/lib/python3.10/site-packages/Bio/PDB/PDBParser.py:388: PDBConstructionWarning: Ignoring unrecognized record 'TER' at line 4353\n",
      "  warnings.warn(\n",
      "/opt/conda/envs/team05/lib/python3.10/site-packages/Bio/PDB/PDBParser.py:388: PDBConstructionWarning: Ignoring unrecognized record 'TER' at line 6487\n",
      "  warnings.warn(\n",
      "/opt/conda/envs/team05/lib/python3.10/site-packages/Bio/PDB/PDBParser.py:388: PDBConstructionWarning: Ignoring unrecognized record 'TER' at line 3691\n",
      "  warnings.warn(\n",
      "/opt/conda/envs/team05/lib/python3.10/site-packages/Bio/PDB/PDBParser.py:388: PDBConstructionWarning: Ignoring unrecognized record 'TER' at line 4408\n",
      "  warnings.warn(\n"
     ]
    },
    {
     "name": "stdout",
     "output_type": "stream",
     "text": [
      "[OK] saved: /workspace/datasets/PDBbind2016/refined/1tq4/1tq4_remove_HEATM_protein.pdb\n",
      "[OK] saved: /workspace/datasets/PDBbind2016/refined/2uwp/2uwp_remove_HEATM_protein.pdb\n"
     ]
    },
    {
     "name": "stderr",
     "output_type": "stream",
     "text": [
      "/opt/conda/envs/team05/lib/python3.10/site-packages/Bio/PDB/PDBParser.py:388: PDBConstructionWarning: Ignoring unrecognized record 'TER' at line 4382\n",
      "  warnings.warn(\n",
      "/opt/conda/envs/team05/lib/python3.10/site-packages/Bio/PDB/PDBParser.py:388: PDBConstructionWarning: Ignoring unrecognized record 'END' at line 4665\n",
      "  warnings.warn(\n",
      "/opt/conda/envs/team05/lib/python3.10/site-packages/Bio/PDB/PDBParser.py:388: PDBConstructionWarning: Ignoring unrecognized record 'TER' at line 2697\n",
      "  warnings.warn(\n",
      "/opt/conda/envs/team05/lib/python3.10/site-packages/Bio/PDB/PDBParser.py:388: PDBConstructionWarning: Ignoring unrecognized record 'TER' at line 5323\n",
      "  warnings.warn(\n",
      "/opt/conda/envs/team05/lib/python3.10/site-packages/Bio/PDB/PDBParser.py:388: PDBConstructionWarning: Ignoring unrecognized record 'TER' at line 7949\n",
      "  warnings.warn(\n"
     ]
    },
    {
     "name": "stdout",
     "output_type": "stream",
     "text": [
      "[OK] saved: /workspace/datasets/PDBbind2016/refined/2e9u/2e9u_remove_HEATM_protein.pdb\n"
     ]
    },
    {
     "name": "stderr",
     "output_type": "stream",
     "text": [
      "/opt/conda/envs/team05/lib/python3.10/site-packages/Bio/PDB/PDBParser.py:388: PDBConstructionWarning: Ignoring unrecognized record 'TER' at line 10574\n",
      "  warnings.warn(\n",
      "/opt/conda/envs/team05/lib/python3.10/site-packages/Bio/PDB/PDBParser.py:388: PDBConstructionWarning: Ignoring unrecognized record 'TER' at line 3385\n",
      "  warnings.warn(\n"
     ]
    },
    {
     "name": "stdout",
     "output_type": "stream",
     "text": [
      "[OK] saved: /workspace/datasets/PDBbind2016/refined/3uil/3uil_remove_HEATM_protein.pdb\n"
     ]
    },
    {
     "name": "stderr",
     "output_type": "stream",
     "text": [
      "/opt/conda/envs/team05/lib/python3.10/site-packages/Bio/PDB/PDBParser.py:388: PDBConstructionWarning: Ignoring unrecognized record 'TER' at line 6727\n",
      "  warnings.warn(\n",
      "/opt/conda/envs/team05/lib/python3.10/site-packages/Bio/PDB/PDBParser.py:388: PDBConstructionWarning: Ignoring unrecognized record 'TER' at line 4028\n",
      "  warnings.warn(\n",
      "/opt/conda/envs/team05/lib/python3.10/site-packages/Bio/PDB/PDBParser.py:388: PDBConstructionWarning: Ignoring unrecognized record 'TER' at line 1871\n",
      "  warnings.warn(\n"
     ]
    },
    {
     "name": "stdout",
     "output_type": "stream",
     "text": [
      "[OK] saved: /workspace/datasets/PDBbind2016/refined/3hzk/3hzk_remove_HEATM_protein.pdb\n",
      "[OK] saved: /workspace/datasets/PDBbind2016/refined/1ydb/1ydb_remove_HEATM_protein.pdb\n",
      "[OK] saved: /workspace/datasets/PDBbind2016/refined/1fv0/1fv0_remove_HEATM_protein.pdb\n"
     ]
    },
    {
     "name": "stderr",
     "output_type": "stream",
     "text": [
      "/opt/conda/envs/team05/lib/python3.10/site-packages/Bio/PDB/PDBParser.py:388: PDBConstructionWarning: Ignoring unrecognized record 'TER' at line 4051\n",
      "  warnings.warn(\n"
     ]
    },
    {
     "name": "stdout",
     "output_type": "stream",
     "text": [
      "[OK] saved: /workspace/datasets/PDBbind2016/refined/1ydd/1ydd_remove_HEATM_protein.pdb\n"
     ]
    },
    {
     "name": "stderr",
     "output_type": "stream",
     "text": [
      "/opt/conda/envs/team05/lib/python3.10/site-packages/Bio/PDB/PDBParser.py:388: PDBConstructionWarning: Ignoring unrecognized record 'TER' at line 8275\n",
      "  warnings.warn(\n",
      "/opt/conda/envs/team05/lib/python3.10/site-packages/Bio/PDB/PDBParser.py:388: PDBConstructionWarning: Ignoring unrecognized record 'TER' at line 1532\n",
      "  warnings.warn(\n",
      "/opt/conda/envs/team05/lib/python3.10/site-packages/Bio/PDB/PDBParser.py:388: PDBConstructionWarning: Ignoring unrecognized record 'TER' at line 3084\n",
      "  warnings.warn(\n",
      "/opt/conda/envs/team05/lib/python3.10/site-packages/Bio/PDB/PDBParser.py:388: PDBConstructionWarning: Ignoring unrecognized record 'END' at line 3258\n",
      "  warnings.warn(\n"
     ]
    },
    {
     "name": "stdout",
     "output_type": "stream",
     "text": [
      "[OK] saved: /workspace/datasets/PDBbind2016/refined/1b0h/1b0h_remove_HEATM_protein.pdb\n",
      "[OK] saved: /workspace/datasets/PDBbind2016/refined/3gi5/3gi5_remove_HEATM_protein.pdb\n"
     ]
    },
    {
     "name": "stderr",
     "output_type": "stream",
     "text": [
      "/opt/conda/envs/team05/lib/python3.10/site-packages/Bio/PDB/PDBParser.py:388: PDBConstructionWarning: Ignoring unrecognized record 'TER' at line 5171\n",
      "  warnings.warn(\n",
      "/opt/conda/envs/team05/lib/python3.10/site-packages/Bio/PDB/PDBParser.py:388: PDBConstructionWarning: Ignoring unrecognized record 'TER' at line 10359\n",
      "  warnings.warn(\n",
      "/opt/conda/envs/team05/lib/python3.10/site-packages/Bio/PDB/PDBParser.py:388: PDBConstructionWarning: Ignoring unrecognized record 'TER' at line 15547\n",
      "  warnings.warn(\n",
      "/opt/conda/envs/team05/lib/python3.10/site-packages/Bio/PDB/PDBParser.py:388: PDBConstructionWarning: Ignoring unrecognized record 'TER' at line 20735\n",
      "  warnings.warn(\n",
      "/opt/conda/envs/team05/lib/python3.10/site-packages/Bio/PDB/PDBParser.py:388: PDBConstructionWarning: Ignoring unrecognized record 'END' at line 20879\n",
      "  warnings.warn(\n"
     ]
    },
    {
     "name": "stdout",
     "output_type": "stream",
     "text": [
      "[OK] saved: /workspace/datasets/PDBbind2016/refined/4i9u/4i9u_remove_HEATM_protein.pdb\n"
     ]
    },
    {
     "name": "stderr",
     "output_type": "stream",
     "text": [
      "/opt/conda/envs/team05/lib/python3.10/site-packages/Bio/PDB/PDBParser.py:388: PDBConstructionWarning: Ignoring unrecognized record 'TER' at line 6310\n",
      "  warnings.warn(\n",
      "/opt/conda/envs/team05/lib/python3.10/site-packages/Bio/PDB/PDBParser.py:388: PDBConstructionWarning: Ignoring unrecognized record 'TER' at line 12493\n",
      "  warnings.warn(\n",
      "/opt/conda/envs/team05/lib/python3.10/site-packages/Bio/PDB/PDBParser.py:388: PDBConstructionWarning: Ignoring unrecognized record 'TER' at line 18676\n",
      "  warnings.warn(\n",
      "/opt/conda/envs/team05/lib/python3.10/site-packages/Bio/PDB/PDBParser.py:388: PDBConstructionWarning: Ignoring unrecognized record 'TER' at line 24859\n",
      "  warnings.warn(\n"
     ]
    },
    {
     "name": "stdout",
     "output_type": "stream",
     "text": [
      "[OK] saved: /workspace/datasets/PDBbind2016/refined/1d2e/1d2e_remove_HEATM_protein.pdb\n",
      "[OK] saved: /workspace/datasets/PDBbind2016/refined/3fl5/3fl5_remove_HEATM_protein.pdb\n"
     ]
    },
    {
     "name": "stderr",
     "output_type": "stream",
     "text": [
      "/opt/conda/envs/team05/lib/python3.10/site-packages/Bio/PDB/PDBParser.py:388: PDBConstructionWarning: Ignoring unrecognized record 'TER' at line 5435\n",
      "  warnings.warn(\n",
      "/opt/conda/envs/team05/lib/python3.10/site-packages/Bio/PDB/PDBParser.py:388: PDBConstructionWarning: Ignoring unrecognized record 'TER' at line 7729\n",
      "  warnings.warn(\n",
      "/opt/conda/envs/team05/lib/python3.10/site-packages/Bio/PDB/PDBParser.py:388: PDBConstructionWarning: Ignoring unrecognized record 'END' at line 8312\n",
      "  warnings.warn(\n",
      "/opt/conda/envs/team05/lib/python3.10/site-packages/Bio/PDB/PDBParser.py:388: PDBConstructionWarning: Ignoring unrecognized record 'TER' at line 4714\n",
      "  warnings.warn(\n"
     ]
    },
    {
     "name": "stdout",
     "output_type": "stream",
     "text": [
      "[OK] saved: /workspace/datasets/PDBbind2016/refined/3suw/3suw_remove_HEATM_protein.pdb\n"
     ]
    },
    {
     "name": "stderr",
     "output_type": "stream",
     "text": [
      "/opt/conda/envs/team05/lib/python3.10/site-packages/Bio/PDB/PDBParser.py:388: PDBConstructionWarning: Ignoring unrecognized record 'TER' at line 9333\n",
      "  warnings.warn(\n",
      "/opt/conda/envs/team05/lib/python3.10/site-packages/Bio/PDB/PDBParser.py:388: PDBConstructionWarning: Ignoring unrecognized record 'TER' at line 13952\n",
      "  warnings.warn(\n",
      "/opt/conda/envs/team05/lib/python3.10/site-packages/Bio/PDB/PDBParser.py:388: PDBConstructionWarning: Ignoring unrecognized record 'TER' at line 18571\n",
      "  warnings.warn(\n",
      "/opt/conda/envs/team05/lib/python3.10/site-packages/Bio/PDB/PDBParser.py:388: PDBConstructionWarning: Ignoring unrecognized record 'END' at line 20262\n",
      "  warnings.warn(\n"
     ]
    },
    {
     "name": "stdout",
     "output_type": "stream",
     "text": [
      "[OK] saved: /workspace/datasets/PDBbind2016/refined/1f74/1f74_remove_HEATM_protein.pdb\n",
      "[OK] saved: /workspace/datasets/PDBbind2016/refined/3pb8/3pb8_remove_HEATM_protein.pdb\n"
     ]
    },
    {
     "name": "stderr",
     "output_type": "stream",
     "text": [
      "/opt/conda/envs/team05/lib/python3.10/site-packages/Bio/PDB/PDBParser.py:388: PDBConstructionWarning: Ignoring unrecognized record 'TER' at line 4991\n",
      "  warnings.warn(\n",
      "/opt/conda/envs/team05/lib/python3.10/site-packages/Bio/PDB/PDBParser.py:388: PDBConstructionWarning: Ignoring unrecognized record 'TER' at line 4400\n",
      "  warnings.warn(\n"
     ]
    },
    {
     "name": "stdout",
     "output_type": "stream",
     "text": [
      "[OK] saved: /workspace/datasets/PDBbind2016/refined/3bgq/3bgq_remove_HEATM_protein.pdb\n",
      "[OK] saved: /workspace/datasets/PDBbind2016/refined/3s45/3s45_remove_HEATM_protein.pdb\n"
     ]
    },
    {
     "name": "stderr",
     "output_type": "stream",
     "text": [
      "/opt/conda/envs/team05/lib/python3.10/site-packages/Bio/PDB/PDBParser.py:388: PDBConstructionWarning: Ignoring unrecognized record 'TER' at line 1553\n",
      "  warnings.warn(\n",
      "/opt/conda/envs/team05/lib/python3.10/site-packages/Bio/PDB/PDBParser.py:388: PDBConstructionWarning: Ignoring unrecognized record 'TER' at line 3087\n",
      "  warnings.warn(\n",
      "/opt/conda/envs/team05/lib/python3.10/site-packages/Bio/PDB/PDBParser.py:388: PDBConstructionWarning: Ignoring unrecognized record 'TER' at line 2092\n",
      "  warnings.warn(\n"
     ]
    },
    {
     "name": "stdout",
     "output_type": "stream",
     "text": [
      "[OK] saved: /workspace/datasets/PDBbind2016/refined/3bu1/3bu1_remove_HEATM_protein.pdb\n",
      "[OK] saved: /workspace/datasets/PDBbind2016/refined/2vk6/2vk6_remove_HEATM_protein.pdb\n"
     ]
    },
    {
     "name": "stderr",
     "output_type": "stream",
     "text": [
      "/opt/conda/envs/team05/lib/python3.10/site-packages/Bio/PDB/PDBParser.py:388: PDBConstructionWarning: Ignoring unrecognized record 'TER' at line 6973\n",
      "  warnings.warn(\n",
      "/opt/conda/envs/team05/lib/python3.10/site-packages/Bio/PDB/PDBParser.py:388: PDBConstructionWarning: Ignoring unrecognized record 'TER' at line 2400\n",
      "  warnings.warn(\n",
      "/opt/conda/envs/team05/lib/python3.10/site-packages/Bio/PDB/PDBParser.py:388: PDBConstructionWarning: Ignoring unrecognized record 'TER' at line 4758\n",
      "  warnings.warn(\n",
      "/opt/conda/envs/team05/lib/python3.10/site-packages/Bio/PDB/PDBParser.py:388: PDBConstructionWarning: Ignoring unrecognized record 'TER' at line 7116\n",
      "  warnings.warn(\n",
      "/opt/conda/envs/team05/lib/python3.10/site-packages/Bio/PDB/PDBParser.py:388: PDBConstructionWarning: Ignoring unrecognized record 'TER' at line 3251\n",
      "  warnings.warn(\n"
     ]
    },
    {
     "name": "stdout",
     "output_type": "stream",
     "text": [
      "[OK] saved: /workspace/datasets/PDBbind2016/refined/3elc/3elc_remove_HEATM_protein.pdb\n",
      "[OK] saved: /workspace/datasets/PDBbind2016/refined/3m35/3m35_remove_HEATM_protein.pdb\n",
      "[OK] saved: /workspace/datasets/PDBbind2016/refined/2xht/2xht_remove_HEATM_protein.pdb\n"
     ]
    },
    {
     "name": "stderr",
     "output_type": "stream",
     "text": [
      "/opt/conda/envs/team05/lib/python3.10/site-packages/Bio/PDB/PDBParser.py:388: PDBConstructionWarning: Ignoring unrecognized record 'TER' at line 3355\n",
      "  warnings.warn(\n",
      "/opt/conda/envs/team05/lib/python3.10/site-packages/Bio/PDB/PDBParser.py:388: PDBConstructionWarning: Ignoring unrecognized record 'END' at line 3479\n",
      "  warnings.warn(\n",
      "/opt/conda/envs/team05/lib/python3.10/site-packages/Bio/PDB/PDBParser.py:388: PDBConstructionWarning: Ignoring unrecognized record 'TER' at line 1667\n",
      "  warnings.warn(\n",
      "/opt/conda/envs/team05/lib/python3.10/site-packages/Bio/PDB/PDBParser.py:388: PDBConstructionWarning: Ignoring unrecognized record 'TER' at line 3295\n",
      "  warnings.warn(\n",
      "/opt/conda/envs/team05/lib/python3.10/site-packages/Bio/PDB/PDBParser.py:388: PDBConstructionWarning: Ignoring unrecognized record 'TER' at line 4923\n",
      "  warnings.warn(\n",
      "/opt/conda/envs/team05/lib/python3.10/site-packages/Bio/PDB/PDBParser.py:388: PDBConstructionWarning: Ignoring unrecognized record 'TER' at line 6551\n",
      "  warnings.warn(\n",
      "/opt/conda/envs/team05/lib/python3.10/site-packages/Bio/PDB/PDBParser.py:388: PDBConstructionWarning: Ignoring unrecognized record 'TER' at line 4070\n",
      "  warnings.warn(\n",
      "/opt/conda/envs/team05/lib/python3.10/site-packages/Bio/PDB/PDBParser.py:388: PDBConstructionWarning: Ignoring unrecognized record 'END' at line 4255\n",
      "  warnings.warn(\n"
     ]
    },
    {
     "name": "stdout",
     "output_type": "stream",
     "text": [
      "[OK] saved: /workspace/datasets/PDBbind2016/refined/2boj/2boj_remove_HEATM_protein.pdb\n",
      "[OK] saved: /workspace/datasets/PDBbind2016/refined/1s19/1s19_remove_HEATM_protein.pdb\n",
      "[OK] saved: /workspace/datasets/PDBbind2016/refined/3eeb/3eeb_remove_HEATM_protein.pdb\n"
     ]
    },
    {
     "name": "stderr",
     "output_type": "stream",
     "text": [
      "/opt/conda/envs/team05/lib/python3.10/site-packages/Bio/PDB/PDBParser.py:388: PDBConstructionWarning: Ignoring unrecognized record 'TER' at line 3098\n",
      "  warnings.warn(\n",
      "/opt/conda/envs/team05/lib/python3.10/site-packages/Bio/PDB/PDBParser.py:388: PDBConstructionWarning: Ignoring unrecognized record 'END' at line 3204\n",
      "  warnings.warn(\n",
      "/opt/conda/envs/team05/lib/python3.10/site-packages/Bio/PDB/PDBParser.py:388: PDBConstructionWarning: Ignoring unrecognized record 'TER' at line 3667\n",
      "  warnings.warn(\n"
     ]
    },
    {
     "name": "stdout",
     "output_type": "stream",
     "text": [
      "[OK] saved: /workspace/datasets/PDBbind2016/refined/2gv7/2gv7_remove_HEATM_protein.pdb\n"
     ]
    },
    {
     "name": "stderr",
     "output_type": "stream",
     "text": [
      "/opt/conda/envs/team05/lib/python3.10/site-packages/Bio/PDB/PDBParser.py:388: PDBConstructionWarning: Ignoring unrecognized record 'TER' at line 4751\n",
      "  warnings.warn(\n",
      "/opt/conda/envs/team05/lib/python3.10/site-packages/Bio/PDB/PDBParser.py:388: PDBConstructionWarning: Ignoring unrecognized record 'TER' at line 2942\n",
      "  warnings.warn(\n"
     ]
    },
    {
     "name": "stdout",
     "output_type": "stream",
     "text": [
      "[OK] saved: /workspace/datasets/PDBbind2016/refined/1e1v/1e1v_remove_HEATM_protein.pdb\n",
      "[OK] saved: /workspace/datasets/PDBbind2016/refined/4u69/4u69_remove_HEATM_protein.pdb\n"
     ]
    },
    {
     "name": "stderr",
     "output_type": "stream",
     "text": [
      "/opt/conda/envs/team05/lib/python3.10/site-packages/Bio/PDB/PDBParser.py:388: PDBConstructionWarning: Ignoring unrecognized record 'TER' at line 4341\n",
      "  warnings.warn(\n",
      "/opt/conda/envs/team05/lib/python3.10/site-packages/Bio/PDB/PDBParser.py:388: PDBConstructionWarning: Ignoring unrecognized record 'TER' at line 8460\n",
      "  warnings.warn(\n",
      "/opt/conda/envs/team05/lib/python3.10/site-packages/Bio/PDB/PDBParser.py:388: PDBConstructionWarning: Ignoring unrecognized record 'END' at line 8859\n",
      "  warnings.warn(\n"
     ]
    },
    {
     "name": "stdout",
     "output_type": "stream",
     "text": [
      "[OK] saved: /workspace/datasets/PDBbind2016/refined/4de5/4de5_remove_HEATM_protein.pdb\n"
     ]
    },
    {
     "name": "stderr",
     "output_type": "stream",
     "text": [
      "/opt/conda/envs/team05/lib/python3.10/site-packages/Bio/PDB/PDBParser.py:388: PDBConstructionWarning: Ignoring unrecognized record 'TER' at line 6430\n",
      "  warnings.warn(\n",
      "/opt/conda/envs/team05/lib/python3.10/site-packages/Bio/PDB/PDBParser.py:388: PDBConstructionWarning: Ignoring unrecognized record 'TER' at line 12728\n",
      "  warnings.warn(\n",
      "/opt/conda/envs/team05/lib/python3.10/site-packages/Bio/PDB/PDBParser.py:388: PDBConstructionWarning: Ignoring unrecognized record 'TER' at line 18926\n",
      "  warnings.warn(\n",
      "/opt/conda/envs/team05/lib/python3.10/site-packages/Bio/PDB/PDBParser.py:388: PDBConstructionWarning: Ignoring unrecognized record 'TER' at line 24828\n",
      "  warnings.warn(\n",
      "/opt/conda/envs/team05/lib/python3.10/site-packages/Bio/PDB/PDBParser.py:388: PDBConstructionWarning: Ignoring unrecognized record 'END' at line 25462\n",
      "  warnings.warn(\n"
     ]
    },
    {
     "name": "stdout",
     "output_type": "stream",
     "text": [
      "[OK] saved: /workspace/datasets/PDBbind2016/refined/3cdb/3cdb_remove_HEATM_protein.pdb\n",
      "[OK] saved: /workspace/datasets/PDBbind2016/refined/5egm/5egm_remove_HEATM_protein.pdb\n",
      "[OK] saved: /workspace/datasets/PDBbind2016/refined/4o05/4o05_remove_HEATM_protein.pdb\n"
     ]
    },
    {
     "name": "stderr",
     "output_type": "stream",
     "text": [
      "/opt/conda/envs/team05/lib/python3.10/site-packages/Bio/PDB/PDBParser.py:388: PDBConstructionWarning: Ignoring unrecognized record 'TER' at line 2268\n",
      "  warnings.warn(\n",
      "/opt/conda/envs/team05/lib/python3.10/site-packages/Bio/PDB/PDBParser.py:388: PDBConstructionWarning: Ignoring unrecognized record 'TER' at line 2779\n",
      "  warnings.warn(\n",
      "/opt/conda/envs/team05/lib/python3.10/site-packages/Bio/PDB/PDBParser.py:388: PDBConstructionWarning: Ignoring unrecognized record 'TER' at line 2027\n",
      "  warnings.warn(\n",
      "/opt/conda/envs/team05/lib/python3.10/site-packages/Bio/PDB/PDBParser.py:388: PDBConstructionWarning: Ignoring unrecognized record 'END' at line 2214\n",
      "  warnings.warn(\n",
      "/opt/conda/envs/team05/lib/python3.10/site-packages/Bio/PDB/PDBParser.py:388: PDBConstructionWarning: Ignoring unrecognized record 'TER' at line 3245\n",
      "  warnings.warn(\n",
      "/opt/conda/envs/team05/lib/python3.10/site-packages/Bio/PDB/PDBParser.py:388: PDBConstructionWarning: Ignoring unrecognized record 'TER' at line 9749\n",
      "  warnings.warn(\n"
     ]
    },
    {
     "name": "stdout",
     "output_type": "stream",
     "text": [
      "[OK] saved: /workspace/datasets/PDBbind2016/refined/1o2w/1o2w_remove_HEATM_protein.pdb\n",
      "[OK] saved: /workspace/datasets/PDBbind2016/refined/3b7u/3b7u_remove_HEATM_protein.pdb\n"
     ]
    },
    {
     "name": "stderr",
     "output_type": "stream",
     "text": [
      "/opt/conda/envs/team05/lib/python3.10/site-packages/Bio/PDB/PDBParser.py:388: PDBConstructionWarning: Ignoring unrecognized record 'TER' at line 5457\n",
      "  warnings.warn(\n",
      "/opt/conda/envs/team05/lib/python3.10/site-packages/Bio/PDB/PDBParser.py:388: PDBConstructionWarning: Ignoring unrecognized record 'TER' at line 10814\n",
      "  warnings.warn(\n",
      "/opt/conda/envs/team05/lib/python3.10/site-packages/Bio/PDB/PDBParser.py:388: PDBConstructionWarning: Ignoring unrecognized record 'TER' at line 16154\n",
      "  warnings.warn(\n"
     ]
    },
    {
     "name": "stdout",
     "output_type": "stream",
     "text": [
      "[OK] saved: /workspace/datasets/PDBbind2016/refined/3vjc/3vjc_remove_HEATM_protein.pdb\n",
      "[OK] saved: /workspace/datasets/PDBbind2016/refined/4x5p/4x5p_remove_HEATM_protein.pdb\n",
      "[OK] saved: /workspace/datasets/PDBbind2016/refined/4gu9/4gu9_remove_HEATM_protein.pdb\n"
     ]
    },
    {
     "name": "stderr",
     "output_type": "stream",
     "text": [
      "/opt/conda/envs/team05/lib/python3.10/site-packages/Bio/PDB/PDBParser.py:388: PDBConstructionWarning: Ignoring unrecognized record 'TER' at line 1473\n",
      "  warnings.warn(\n",
      "/opt/conda/envs/team05/lib/python3.10/site-packages/Bio/PDB/PDBParser.py:388: PDBConstructionWarning: Ignoring unrecognized record 'TER' at line 4094\n",
      "  warnings.warn(\n",
      "/opt/conda/envs/team05/lib/python3.10/site-packages/Bio/PDB/PDBParser.py:388: PDBConstructionWarning: Ignoring unrecognized record 'TER' at line 6102\n",
      "  warnings.warn(\n",
      "/opt/conda/envs/team05/lib/python3.10/site-packages/Bio/PDB/PDBParser.py:388: PDBConstructionWarning: Ignoring unrecognized record 'TER' at line 12116\n",
      "  warnings.warn(\n"
     ]
    },
    {
     "name": "stdout",
     "output_type": "stream",
     "text": [
      "[OK] saved: /workspace/datasets/PDBbind2016/refined/4fs4/4fs4_remove_HEATM_protein.pdb\n",
      "[OK] saved: /workspace/datasets/PDBbind2016/refined/2vsl/2vsl_remove_HEATM_protein.pdb\n",
      "[OK] saved: /workspace/datasets/PDBbind2016/refined/4u8w/4u8w_remove_HEATM_protein.pdb\n"
     ]
    },
    {
     "name": "stderr",
     "output_type": "stream",
     "text": [
      "/opt/conda/envs/team05/lib/python3.10/site-packages/Bio/PDB/PDBParser.py:388: PDBConstructionWarning: Ignoring unrecognized record 'TER' at line 1528\n",
      "  warnings.warn(\n",
      "/opt/conda/envs/team05/lib/python3.10/site-packages/Bio/PDB/PDBParser.py:388: PDBConstructionWarning: Ignoring unrecognized record 'TER' at line 940\n",
      "  warnings.warn(\n",
      "/opt/conda/envs/team05/lib/python3.10/site-packages/Bio/PDB/PDBParser.py:388: PDBConstructionWarning: Ignoring unrecognized record 'TER' at line 1861\n",
      "  warnings.warn(\n",
      "/opt/conda/envs/team05/lib/python3.10/site-packages/Bio/PDB/PDBParser.py:388: PDBConstructionWarning: Ignoring unrecognized record 'TER' at line 5136\n",
      "  warnings.warn(\n",
      "/opt/conda/envs/team05/lib/python3.10/site-packages/Bio/PDB/PDBParser.py:388: PDBConstructionWarning: Ignoring unrecognized record 'TER' at line 10110\n",
      "  warnings.warn(\n",
      "/opt/conda/envs/team05/lib/python3.10/site-packages/Bio/PDB/PDBParser.py:388: PDBConstructionWarning: Ignoring unrecognized record 'END' at line 10423\n",
      "  warnings.warn(\n"
     ]
    },
    {
     "name": "stdout",
     "output_type": "stream",
     "text": [
      "[OK] saved: /workspace/datasets/PDBbind2016/refined/3qt6/3qt6_remove_HEATM_protein.pdb\n"
     ]
    },
    {
     "name": "stderr",
     "output_type": "stream",
     "text": [
      "/opt/conda/envs/team05/lib/python3.10/site-packages/Bio/PDB/PDBParser.py:388: PDBConstructionWarning: Ignoring unrecognized record 'TER' at line 4602\n",
      "  warnings.warn(\n",
      "/opt/conda/envs/team05/lib/python3.10/site-packages/Bio/PDB/PDBParser.py:388: PDBConstructionWarning: Ignoring unrecognized record 'END' at line 4779\n",
      "  warnings.warn(\n",
      "/opt/conda/envs/team05/lib/python3.10/site-packages/Bio/PDB/PDBParser.py:388: PDBConstructionWarning: Ignoring unrecognized record 'TER' at line 3132\n",
      "  warnings.warn(\n",
      "/opt/conda/envs/team05/lib/python3.10/site-packages/Bio/PDB/PDBParser.py:388: PDBConstructionWarning: Ignoring unrecognized record 'TER' at line 6231\n",
      "  warnings.warn(\n"
     ]
    },
    {
     "name": "stdout",
     "output_type": "stream",
     "text": [
      "[OK] saved: /workspace/datasets/PDBbind2016/refined/2qu6/2qu6_remove_HEATM_protein.pdb\n",
      "[OK] saved: /workspace/datasets/PDBbind2016/refined/2qtn/2qtn_remove_HEATM_protein.pdb\n"
     ]
    },
    {
     "name": "stderr",
     "output_type": "stream",
     "text": [
      "/opt/conda/envs/team05/lib/python3.10/site-packages/Bio/PDB/PDBParser.py:388: PDBConstructionWarning: Ignoring unrecognized record 'TER' at line 1532\n",
      "  warnings.warn(\n",
      "/opt/conda/envs/team05/lib/python3.10/site-packages/Bio/PDB/PDBParser.py:388: PDBConstructionWarning: Ignoring unrecognized record 'TER' at line 3071\n",
      "  warnings.warn(\n",
      "/opt/conda/envs/team05/lib/python3.10/site-packages/Bio/PDB/PDBParser.py:388: PDBConstructionWarning: Ignoring unrecognized record 'END' at line 3245\n",
      "  warnings.warn(\n",
      "/opt/conda/envs/team05/lib/python3.10/site-packages/Bio/PDB/PDBParser.py:388: PDBConstructionWarning: Ignoring unrecognized record 'TER' at line 1577\n",
      "  warnings.warn(\n",
      "/opt/conda/envs/team05/lib/python3.10/site-packages/Bio/PDB/PDBParser.py:388: PDBConstructionWarning: Ignoring unrecognized record 'TER' at line 3135\n",
      "  warnings.warn(\n",
      "/opt/conda/envs/team05/lib/python3.10/site-packages/Bio/PDB/PDBParser.py:388: PDBConstructionWarning: Ignoring unrecognized record 'END' at line 3136\n",
      "  warnings.warn(\n"
     ]
    },
    {
     "name": "stdout",
     "output_type": "stream",
     "text": [
      "[OK] saved: /workspace/datasets/PDBbind2016/refined/2i0a/2i0a_remove_HEATM_protein.pdb\n",
      "[OK] saved: /workspace/datasets/PDBbind2016/refined/1qbr/1qbr_remove_HEATM_protein.pdb\n"
     ]
    },
    {
     "name": "stderr",
     "output_type": "stream",
     "text": [
      "/opt/conda/envs/team05/lib/python3.10/site-packages/Bio/PDB/PDBParser.py:388: PDBConstructionWarning: Ignoring unrecognized record 'TER' at line 3528\n",
      "  warnings.warn(\n",
      "/opt/conda/envs/team05/lib/python3.10/site-packages/Bio/PDB/PDBParser.py:388: PDBConstructionWarning: Ignoring unrecognized record 'TER' at line 7016\n",
      "  warnings.warn(\n",
      "/opt/conda/envs/team05/lib/python3.10/site-packages/Bio/PDB/PDBParser.py:388: PDBConstructionWarning: Ignoring unrecognized record 'END' at line 7307\n",
      "  warnings.warn(\n",
      "/opt/conda/envs/team05/lib/python3.10/site-packages/Bio/PDB/PDBParser.py:388: PDBConstructionWarning: Ignoring unrecognized record 'TER' at line 4096\n",
      "  warnings.warn(\n"
     ]
    },
    {
     "name": "stdout",
     "output_type": "stream",
     "text": [
      "[OK] saved: /workspace/datasets/PDBbind2016/refined/3tmk/3tmk_remove_HEATM_protein.pdb\n"
     ]
    },
    {
     "name": "stderr",
     "output_type": "stream",
     "text": [
      "/opt/conda/envs/team05/lib/python3.10/site-packages/Bio/PDB/PDBParser.py:388: PDBConstructionWarning: Ignoring unrecognized record 'TER' at line 8147\n",
      "  warnings.warn(\n",
      "/opt/conda/envs/team05/lib/python3.10/site-packages/Bio/PDB/PDBParser.py:388: PDBConstructionWarning: Ignoring unrecognized record 'TER' at line 5779\n",
      "  warnings.warn(\n"
     ]
    },
    {
     "name": "stdout",
     "output_type": "stream",
     "text": [
      "[OK] saved: /workspace/datasets/PDBbind2016/refined/3s9e/3s9e_remove_HEATM_protein.pdb\n",
      "[OK] saved: /workspace/datasets/PDBbind2016/refined/1f3e/1f3e_remove_HEATM_protein.pdb\n"
     ]
    },
    {
     "name": "stderr",
     "output_type": "stream",
     "text": [
      "/opt/conda/envs/team05/lib/python3.10/site-packages/Bio/PDB/PDBParser.py:388: PDBConstructionWarning: Ignoring unrecognized record 'TER' at line 4155\n",
      "  warnings.warn(\n",
      "/opt/conda/envs/team05/lib/python3.10/site-packages/Bio/PDB/PDBParser.py:388: PDBConstructionWarning: Ignoring unrecognized record 'TER' at line 8263\n",
      "  warnings.warn(\n"
     ]
    },
    {
     "name": "stdout",
     "output_type": "stream",
     "text": [
      "[OK] saved: /workspace/datasets/PDBbind2016/refined/3bfu/3bfu_remove_HEATM_protein.pdb\n"
     ]
    },
    {
     "name": "stderr",
     "output_type": "stream",
     "text": [
      "/opt/conda/envs/team05/lib/python3.10/site-packages/Bio/PDB/PDBParser.py:388: PDBConstructionWarning: Ignoring unrecognized record 'TER' at line 3682\n",
      "  warnings.warn(\n",
      "/opt/conda/envs/team05/lib/python3.10/site-packages/Bio/PDB/PDBParser.py:388: PDBConstructionWarning: Ignoring unrecognized record 'TER' at line 7237\n",
      "  warnings.warn(\n",
      "/opt/conda/envs/team05/lib/python3.10/site-packages/Bio/PDB/PDBParser.py:388: PDBConstructionWarning: Ignoring unrecognized record 'END' at line 7338\n",
      "  warnings.warn(\n"
     ]
    },
    {
     "name": "stdout",
     "output_type": "stream",
     "text": [
      "[OK] saved: /workspace/datasets/PDBbind2016/refined/3e6y/3e6y_remove_HEATM_protein.pdb\n"
     ]
    },
    {
     "name": "stderr",
     "output_type": "stream",
     "text": [
      "/opt/conda/envs/team05/lib/python3.10/site-packages/Bio/PDB/PDBParser.py:388: PDBConstructionWarning: Ignoring unrecognized record 'TER' at line 16202\n",
      "  warnings.warn(\n",
      "/opt/conda/envs/team05/lib/python3.10/site-packages/Bio/PDB/PDBParser.py:388: PDBConstructionWarning: Ignoring unrecognized record 'TER' at line 32085\n",
      "  warnings.warn(\n",
      "/opt/conda/envs/team05/lib/python3.10/site-packages/Bio/PDB/PDBParser.py:388: PDBConstructionWarning: Ignoring unrecognized record 'TER' at line 47968\n",
      "  warnings.warn(\n",
      "/opt/conda/envs/team05/lib/python3.10/site-packages/Bio/PDB/PDBParser.py:388: PDBConstructionWarning: Ignoring unrecognized record 'TER' at line 63851\n",
      "  warnings.warn(\n"
     ]
    },
    {
     "name": "stdout",
     "output_type": "stream",
     "text": [
      "[OK] saved: /workspace/datasets/PDBbind2016/refined/3t0d/3t0d_remove_HEATM_protein.pdb\n"
     ]
    },
    {
     "name": "stderr",
     "output_type": "stream",
     "text": [
      "/opt/conda/envs/team05/lib/python3.10/site-packages/Bio/PDB/PDBParser.py:388: PDBConstructionWarning: Ignoring unrecognized record 'TER' at line 4811\n",
      "  warnings.warn(\n",
      "/opt/conda/envs/team05/lib/python3.10/site-packages/Bio/PDB/PDBParser.py:388: PDBConstructionWarning: Ignoring unrecognized record 'TER' at line 7054\n",
      "  warnings.warn(\n"
     ]
    },
    {
     "name": "stdout",
     "output_type": "stream",
     "text": [
      "[OK] saved: /workspace/datasets/PDBbind2016/refined/1hee/1hee_remove_HEATM_protein.pdb\n"
     ]
    },
    {
     "name": "stderr",
     "output_type": "stream",
     "text": [
      "/opt/conda/envs/team05/lib/python3.10/site-packages/Bio/PDB/PDBParser.py:388: PDBConstructionWarning: Ignoring unrecognized record 'TER' at line 13969\n",
      "  warnings.warn(\n",
      "/opt/conda/envs/team05/lib/python3.10/site-packages/Bio/PDB/PDBParser.py:388: PDBConstructionWarning: Ignoring unrecognized record 'TER' at line 20884\n",
      "  warnings.warn(\n",
      "/opt/conda/envs/team05/lib/python3.10/site-packages/Bio/PDB/PDBParser.py:388: PDBConstructionWarning: Ignoring unrecognized record 'TER' at line 27799\n",
      "  warnings.warn(\n"
     ]
    },
    {
     "name": "stdout",
     "output_type": "stream",
     "text": [
      "[OK] saved: /workspace/datasets/PDBbind2016/refined/1n51/1n51_remove_HEATM_protein.pdb\n",
      "[OK] saved: /workspace/datasets/PDBbind2016/refined/4xu1/4xu1_remove_HEATM_protein.pdb\n"
     ]
    },
    {
     "name": "stderr",
     "output_type": "stream",
     "text": [
      "/opt/conda/envs/team05/lib/python3.10/site-packages/Bio/PDB/PDBParser.py:388: PDBConstructionWarning: Ignoring unrecognized record 'TER' at line 2432\n",
      "  warnings.warn(\n",
      "/opt/conda/envs/team05/lib/python3.10/site-packages/Bio/PDB/PDBParser.py:388: PDBConstructionWarning: Ignoring unrecognized record 'END' at line 2752\n",
      "  warnings.warn(\n",
      "/opt/conda/envs/team05/lib/python3.10/site-packages/Bio/PDB/PDBParser.py:388: PDBConstructionWarning: Ignoring unrecognized record 'TER' at line 13263\n",
      "  warnings.warn(\n",
      "/opt/conda/envs/team05/lib/python3.10/site-packages/Bio/PDB/PDBParser.py:388: PDBConstructionWarning: Ignoring unrecognized record 'TER' at line 26397\n",
      "  warnings.warn(\n"
     ]
    },
    {
     "name": "stdout",
     "output_type": "stream",
     "text": [
      "[OK] saved: /workspace/datasets/PDBbind2016/refined/2qrh/2qrh_remove_HEATM_protein.pdb\n"
     ]
    },
    {
     "name": "stderr",
     "output_type": "stream",
     "text": [
      "/opt/conda/envs/team05/lib/python3.10/site-packages/Bio/PDB/PDBParser.py:388: PDBConstructionWarning: Ignoring unrecognized record 'TER' at line 8216\n",
      "  warnings.warn(\n",
      "/opt/conda/envs/team05/lib/python3.10/site-packages/Bio/PDB/PDBParser.py:388: PDBConstructionWarning: Ignoring unrecognized record 'TER' at line 9156\n",
      "  warnings.warn(\n"
     ]
    },
    {
     "name": "stdout",
     "output_type": "stream",
     "text": [
      "[OK] saved: /workspace/datasets/PDBbind2016/refined/2whp/2whp_remove_HEATM_protein.pdb\n"
     ]
    },
    {
     "name": "stderr",
     "output_type": "stream",
     "text": [
      "/opt/conda/envs/team05/lib/python3.10/site-packages/Bio/PDB/PDBParser.py:388: PDBConstructionWarning: Ignoring unrecognized record 'TER' at line 18217\n",
      "  warnings.warn(\n",
      "/opt/conda/envs/team05/lib/python3.10/site-packages/Bio/PDB/PDBParser.py:388: PDBConstructionWarning: Ignoring unrecognized record 'END' at line 18596\n",
      "  warnings.warn(\n"
     ]
    },
    {
     "name": "stdout",
     "output_type": "stream",
     "text": [
      "[OK] saved: /workspace/datasets/PDBbind2016/refined/1oz0/1oz0_remove_HEATM_protein.pdb\n",
      "[OK] saved: /workspace/datasets/PDBbind2016/refined/4jz1/4jz1_remove_HEATM_protein.pdb\n"
     ]
    },
    {
     "name": "stderr",
     "output_type": "stream",
     "text": [
      "/opt/conda/envs/team05/lib/python3.10/site-packages/Bio/PDB/PDBParser.py:388: PDBConstructionWarning: Ignoring unrecognized record 'TER' at line 2273\n",
      "  warnings.warn(\n",
      "/opt/conda/envs/team05/lib/python3.10/site-packages/Bio/PDB/PDBParser.py:388: PDBConstructionWarning: Ignoring unrecognized record 'TER' at line 5046\n",
      "  warnings.warn(\n",
      "/opt/conda/envs/team05/lib/python3.10/site-packages/Bio/PDB/PDBParser.py:388: PDBConstructionWarning: Ignoring unrecognized record 'TER' at line 7467\n",
      "  warnings.warn(\n",
      "/opt/conda/envs/team05/lib/python3.10/site-packages/Bio/PDB/PDBParser.py:388: PDBConstructionWarning: Ignoring unrecognized record 'TER' at line 12294\n",
      "  warnings.warn(\n",
      "/opt/conda/envs/team05/lib/python3.10/site-packages/Bio/PDB/PDBParser.py:388: PDBConstructionWarning: Ignoring unrecognized record 'TER' at line 14715\n",
      "  warnings.warn(\n",
      "/opt/conda/envs/team05/lib/python3.10/site-packages/Bio/PDB/PDBParser.py:388: PDBConstructionWarning: Ignoring unrecognized record 'TER' at line 19542\n",
      "  warnings.warn(\n",
      "/opt/conda/envs/team05/lib/python3.10/site-packages/Bio/PDB/PDBParser.py:388: PDBConstructionWarning: Ignoring unrecognized record 'TER' at line 21963\n",
      "  warnings.warn(\n",
      "/opt/conda/envs/team05/lib/python3.10/site-packages/Bio/PDB/PDBParser.py:388: PDBConstructionWarning: Ignoring unrecognized record 'TER' at line 26790\n",
      "  warnings.warn(\n",
      "/opt/conda/envs/team05/lib/python3.10/site-packages/Bio/PDB/PDBParser.py:388: PDBConstructionWarning: Ignoring unrecognized record 'TER' at line 29211\n",
      "  warnings.warn(\n",
      "/opt/conda/envs/team05/lib/python3.10/site-packages/Bio/PDB/PDBParser.py:388: PDBConstructionWarning: Ignoring unrecognized record 'TER' at line 34038\n",
      "  warnings.warn(\n",
      "/opt/conda/envs/team05/lib/python3.10/site-packages/Bio/PDB/PDBParser.py:388: PDBConstructionWarning: Ignoring unrecognized record 'TER' at line 36459\n",
      "  warnings.warn(\n",
      "/opt/conda/envs/team05/lib/python3.10/site-packages/Bio/PDB/PDBParser.py:388: PDBConstructionWarning: Ignoring unrecognized record 'TER' at line 41286\n",
      "  warnings.warn(\n",
      "/opt/conda/envs/team05/lib/python3.10/site-packages/Bio/PDB/PDBParser.py:388: PDBConstructionWarning: Ignoring unrecognized record 'TER' at line 43707\n",
      "  warnings.warn(\n"
     ]
    },
    {
     "name": "stdout",
     "output_type": "stream",
     "text": [
      "[OK] saved: /workspace/datasets/PDBbind2016/refined/1d09/1d09_remove_HEATM_protein.pdb\n"
     ]
    },
    {
     "name": "stderr",
     "output_type": "stream",
     "text": [
      "/opt/conda/envs/team05/lib/python3.10/site-packages/Bio/PDB/PDBParser.py:388: PDBConstructionWarning: Ignoring unrecognized record 'TER' at line 5966\n",
      "  warnings.warn(\n",
      "/opt/conda/envs/team05/lib/python3.10/site-packages/Bio/PDB/PDBParser.py:388: PDBConstructionWarning: Ignoring unrecognized record 'TER' at line 11966\n",
      "  warnings.warn(\n",
      "/opt/conda/envs/team05/lib/python3.10/site-packages/Bio/PDB/PDBParser.py:388: PDBConstructionWarning: Ignoring unrecognized record 'TER' at line 18173\n",
      "  warnings.warn(\n",
      "/opt/conda/envs/team05/lib/python3.10/site-packages/Bio/PDB/PDBParser.py:388: PDBConstructionWarning: Ignoring unrecognized record 'TER' at line 24052\n",
      "  warnings.warn(\n",
      "/opt/conda/envs/team05/lib/python3.10/site-packages/Bio/PDB/PDBParser.py:388: PDBConstructionWarning: Ignoring unrecognized record 'END' at line 24538\n",
      "  warnings.warn(\n"
     ]
    },
    {
     "name": "stdout",
     "output_type": "stream",
     "text": [
      "[OK] saved: /workspace/datasets/PDBbind2016/refined/3cd7/3cd7_remove_HEATM_protein.pdb\n",
      "[OK] saved: /workspace/datasets/PDBbind2016/refined/1gcz/1gcz_remove_HEATM_protein.pdb\n"
     ]
    },
    {
     "name": "stderr",
     "output_type": "stream",
     "text": [
      "/opt/conda/envs/team05/lib/python3.10/site-packages/Bio/PDB/PDBParser.py:388: PDBConstructionWarning: Ignoring unrecognized record 'TER' at line 1819\n",
      "  warnings.warn(\n",
      "/opt/conda/envs/team05/lib/python3.10/site-packages/Bio/PDB/PDBParser.py:388: PDBConstructionWarning: Ignoring unrecognized record 'TER' at line 3540\n",
      "  warnings.warn(\n",
      "/opt/conda/envs/team05/lib/python3.10/site-packages/Bio/PDB/PDBParser.py:388: PDBConstructionWarning: Ignoring unrecognized record 'TER' at line 5327\n",
      "  warnings.warn(\n",
      "/opt/conda/envs/team05/lib/python3.10/site-packages/Bio/PDB/PDBParser.py:388: PDBConstructionWarning: Ignoring unrecognized record 'END' at line 5465\n",
      "  warnings.warn(\n",
      "/opt/conda/envs/team05/lib/python3.10/site-packages/Bio/PDB/PDBParser.py:388: PDBConstructionWarning: Ignoring unrecognized record 'TER' at line 1198\n",
      "  warnings.warn(\n",
      "/opt/conda/envs/team05/lib/python3.10/site-packages/Bio/PDB/PDBParser.py:388: PDBConstructionWarning: Ignoring unrecognized record 'TER' at line 2389\n",
      "  warnings.warn(\n",
      "/opt/conda/envs/team05/lib/python3.10/site-packages/Bio/PDB/PDBParser.py:388: PDBConstructionWarning: Ignoring unrecognized record 'END' at line 2673\n",
      "  warnings.warn(\n"
     ]
    },
    {
     "name": "stdout",
     "output_type": "stream",
     "text": [
      "[OK] saved: /workspace/datasets/PDBbind2016/refined/1gyy/1gyy_remove_HEATM_protein.pdb\n"
     ]
    },
    {
     "name": "stderr",
     "output_type": "stream",
     "text": [
      "/opt/conda/envs/team05/lib/python3.10/site-packages/Bio/PDB/PDBParser.py:388: PDBConstructionWarning: Ignoring unrecognized record 'TER' at line 4602\n",
      "  warnings.warn(\n",
      "/opt/conda/envs/team05/lib/python3.10/site-packages/Bio/PDB/PDBParser.py:388: PDBConstructionWarning: Ignoring unrecognized record 'TER' at line 9149\n",
      "  warnings.warn(\n"
     ]
    },
    {
     "name": "stdout",
     "output_type": "stream",
     "text": [
      "[OK] saved: /workspace/datasets/PDBbind2016/refined/2wec/2wec_remove_HEATM_protein.pdb\n"
     ]
    },
    {
     "name": "stderr",
     "output_type": "stream",
     "text": [
      "/opt/conda/envs/team05/lib/python3.10/site-packages/Bio/PDB/PDBParser.py:388: PDBConstructionWarning: Ignoring unrecognized record 'TER' at line 11519\n",
      "  warnings.warn(\n",
      "/opt/conda/envs/team05/lib/python3.10/site-packages/Bio/PDB/PDBParser.py:388: PDBConstructionWarning: Ignoring unrecognized record 'TER' at line 13862\n",
      "  warnings.warn(\n",
      "/opt/conda/envs/team05/lib/python3.10/site-packages/Bio/PDB/PDBParser.py:388: PDBConstructionWarning: Ignoring unrecognized record 'END' at line 14228\n",
      "  warnings.warn(\n",
      "/opt/conda/envs/team05/lib/python3.10/site-packages/Bio/PDB/PDBParser.py:388: PDBConstructionWarning: Ignoring unrecognized record 'TER' at line 1640\n",
      "  warnings.warn(\n"
     ]
    },
    {
     "name": "stdout",
     "output_type": "stream",
     "text": [
      "[OK] saved: /workspace/datasets/PDBbind2016/refined/1h2t/1h2t_remove_HEATM_protein.pdb\n"
     ]
    },
    {
     "name": "stderr",
     "output_type": "stream",
     "text": [
      "/opt/conda/envs/team05/lib/python3.10/site-packages/Bio/PDB/PDBParser.py:388: PDBConstructionWarning: Ignoring unrecognized record 'TER' at line 3358\n",
      "  warnings.warn(\n",
      "/opt/conda/envs/team05/lib/python3.10/site-packages/Bio/PDB/PDBParser.py:388: PDBConstructionWarning: Ignoring unrecognized record 'TER' at line 8852\n",
      "  warnings.warn(\n",
      "/opt/conda/envs/team05/lib/python3.10/site-packages/Bio/PDB/PDBParser.py:388: PDBConstructionWarning: Ignoring unrecognized record 'TER' at line 14356\n",
      "  warnings.warn(\n",
      "/opt/conda/envs/team05/lib/python3.10/site-packages/Bio/PDB/PDBParser.py:388: PDBConstructionWarning: Ignoring unrecognized record 'TER' at line 1807\n",
      "  warnings.warn(\n",
      "/opt/conda/envs/team05/lib/python3.10/site-packages/Bio/PDB/PDBParser.py:388: PDBConstructionWarning: Ignoring unrecognized record 'TER' at line 3549\n",
      "  warnings.warn(\n"
     ]
    },
    {
     "name": "stdout",
     "output_type": "stream",
     "text": [
      "[OK] saved: /workspace/datasets/PDBbind2016/refined/2q7q/2q7q_remove_HEATM_protein.pdb\n",
      "[OK] saved: /workspace/datasets/PDBbind2016/refined/2izl/2izl_remove_HEATM_protein.pdb\n"
     ]
    },
    {
     "name": "stderr",
     "output_type": "stream",
     "text": [
      "/opt/conda/envs/team05/lib/python3.10/site-packages/Bio/PDB/PDBParser.py:388: PDBConstructionWarning: Ignoring unrecognized record 'TER' at line 5313\n",
      "  warnings.warn(\n",
      "/opt/conda/envs/team05/lib/python3.10/site-packages/Bio/PDB/PDBParser.py:388: PDBConstructionWarning: Ignoring unrecognized record 'TER' at line 7055\n",
      "  warnings.warn(\n",
      "/opt/conda/envs/team05/lib/python3.10/site-packages/Bio/PDB/PDBParser.py:388: PDBConstructionWarning: Ignoring unrecognized record 'END' at line 7420\n",
      "  warnings.warn(\n",
      "/opt/conda/envs/team05/lib/python3.10/site-packages/Bio/PDB/PDBParser.py:388: PDBConstructionWarning: Ignoring unrecognized record 'TER' at line 6249\n",
      "  warnings.warn(\n",
      "/opt/conda/envs/team05/lib/python3.10/site-packages/Bio/PDB/PDBParser.py:388: PDBConstructionWarning: Ignoring unrecognized record 'TER' at line 3383\n",
      "  warnings.warn(\n",
      "/opt/conda/envs/team05/lib/python3.10/site-packages/Bio/PDB/PDBParser.py:388: PDBConstructionWarning: Ignoring unrecognized record 'TER' at line 1574\n",
      "  warnings.warn(\n",
      "/opt/conda/envs/team05/lib/python3.10/site-packages/Bio/PDB/PDBParser.py:388: PDBConstructionWarning: Ignoring unrecognized record 'TER' at line 3129\n",
      "  warnings.warn(\n"
     ]
    },
    {
     "name": "stdout",
     "output_type": "stream",
     "text": [
      "[OK] saved: /workspace/datasets/PDBbind2016/refined/4ufi/4ufi_remove_HEATM_protein.pdb\n",
      "[OK] saved: /workspace/datasets/PDBbind2016/refined/3hvk/3hvk_remove_HEATM_protein.pdb\n",
      "[OK] saved: /workspace/datasets/PDBbind2016/refined/1bv9/1bv9_remove_HEATM_protein.pdb\n"
     ]
    },
    {
     "name": "stderr",
     "output_type": "stream",
     "text": [
      "/opt/conda/envs/team05/lib/python3.10/site-packages/Bio/PDB/PDBParser.py:388: PDBConstructionWarning: Ignoring unrecognized record 'END' at line 3220\n",
      "  warnings.warn(\n",
      "/opt/conda/envs/team05/lib/python3.10/site-packages/Bio/PDB/PDBParser.py:388: PDBConstructionWarning: Ignoring unrecognized record 'TER' at line 1588\n",
      "  warnings.warn(\n",
      "/opt/conda/envs/team05/lib/python3.10/site-packages/Bio/PDB/PDBParser.py:388: PDBConstructionWarning: Ignoring unrecognized record 'TER' at line 3157\n",
      "  warnings.warn(\n"
     ]
    },
    {
     "name": "stdout",
     "output_type": "stream",
     "text": [
      "[OK] saved: /workspace/datasets/PDBbind2016/refined/4hdb/4hdb_remove_HEATM_protein.pdb\n"
     ]
    },
    {
     "name": "stderr",
     "output_type": "stream",
     "text": [
      "/opt/conda/envs/team05/lib/python3.10/site-packages/Bio/PDB/PDBParser.py:388: PDBConstructionWarning: Ignoring unrecognized record 'TER' at line 3959\n",
      "  warnings.warn(\n",
      "/opt/conda/envs/team05/lib/python3.10/site-packages/Bio/PDB/PDBParser.py:388: PDBConstructionWarning: Ignoring unrecognized record 'TER' at line 3027\n",
      "  warnings.warn(\n",
      "/opt/conda/envs/team05/lib/python3.10/site-packages/Bio/PDB/PDBParser.py:388: PDBConstructionWarning: Ignoring unrecognized record 'TER' at line 6014\n",
      "  warnings.warn(\n"
     ]
    },
    {
     "name": "stdout",
     "output_type": "stream",
     "text": [
      "[OK] saved: /workspace/datasets/PDBbind2016/refined/4de0/4de0_remove_HEATM_protein.pdb\n",
      "[OK] saved: /workspace/datasets/PDBbind2016/refined/4c1y/4c1y_remove_HEATM_protein.pdb\n"
     ]
    },
    {
     "name": "stderr",
     "output_type": "stream",
     "text": [
      "/opt/conda/envs/team05/lib/python3.10/site-packages/Bio/PDB/PDBParser.py:388: PDBConstructionWarning: Ignoring unrecognized record 'TER' at line 2292\n",
      "  warnings.warn(\n",
      "/opt/conda/envs/team05/lib/python3.10/site-packages/Bio/PDB/PDBParser.py:388: PDBConstructionWarning: Ignoring unrecognized record 'TER' at line 3078\n",
      "  warnings.warn(\n"
     ]
    },
    {
     "name": "stdout",
     "output_type": "stream",
     "text": [
      "[OK] saved: /workspace/datasets/PDBbind2016/refined/5e2o/5e2o_remove_HEATM_protein.pdb\n",
      "[OK] saved: /workspace/datasets/PDBbind2016/refined/4ge1/4ge1_remove_HEATM_protein.pdb\n"
     ]
    },
    {
     "name": "stderr",
     "output_type": "stream",
     "text": [
      "/opt/conda/envs/team05/lib/python3.10/site-packages/Bio/PDB/PDBParser.py:388: PDBConstructionWarning: Ignoring unrecognized record 'TER' at line 6945\n",
      "  warnings.warn(\n",
      "/opt/conda/envs/team05/lib/python3.10/site-packages/Bio/PDB/PDBParser.py:388: PDBConstructionWarning: Ignoring unrecognized record 'TER' at line 13817\n",
      "  warnings.warn(\n"
     ]
    },
    {
     "name": "stdout",
     "output_type": "stream",
     "text": [
      "[OK] saved: /workspace/datasets/PDBbind2016/refined/3rv4/3rv4_remove_HEATM_protein.pdb\n",
      "[OK] saved: /workspace/datasets/PDBbind2016/refined/1td7/1td7_remove_HEATM_protein.pdb\n",
      "[OK] saved: /workspace/datasets/PDBbind2016/refined/5caq/5caq_remove_HEATM_protein.pdb\n"
     ]
    },
    {
     "name": "stderr",
     "output_type": "stream",
     "text": [
      "/opt/conda/envs/team05/lib/python3.10/site-packages/Bio/PDB/PDBParser.py:388: PDBConstructionWarning: Ignoring unrecognized record 'TER' at line 1750\n",
      "  warnings.warn(\n",
      "/opt/conda/envs/team05/lib/python3.10/site-packages/Bio/PDB/PDBParser.py:388: PDBConstructionWarning: Ignoring unrecognized record 'TER' at line 2960\n",
      "  warnings.warn(\n",
      "/opt/conda/envs/team05/lib/python3.10/site-packages/Bio/PDB/PDBParser.py:388: PDBConstructionWarning: Ignoring unrecognized record 'END' at line 3040\n",
      "  warnings.warn(\n",
      "/opt/conda/envs/team05/lib/python3.10/site-packages/Bio/PDB/PDBParser.py:388: PDBConstructionWarning: Ignoring unrecognized record 'TER' at line 5596\n",
      "  warnings.warn(\n",
      "/opt/conda/envs/team05/lib/python3.10/site-packages/Bio/PDB/PDBParser.py:388: PDBConstructionWarning: Ignoring unrecognized record 'TER' at line 11133\n",
      "  warnings.warn(\n",
      "/opt/conda/envs/team05/lib/python3.10/site-packages/Bio/PDB/PDBParser.py:388: PDBConstructionWarning: Ignoring unrecognized record 'TER' at line 2269\n",
      "  warnings.warn(\n",
      "/opt/conda/envs/team05/lib/python3.10/site-packages/Bio/PDB/PDBParser.py:388: PDBConstructionWarning: Ignoring unrecognized record 'TER' at line 2807\n",
      "  warnings.warn(\n"
     ]
    },
    {
     "name": "stdout",
     "output_type": "stream",
     "text": [
      "[OK] saved: /workspace/datasets/PDBbind2016/refined/2z1w/2z1w_remove_HEATM_protein.pdb\n",
      "[OK] saved: /workspace/datasets/PDBbind2016/refined/4yzu/4yzu_remove_HEATM_protein.pdb\n",
      "[OK] saved: /workspace/datasets/PDBbind2016/refined/3hvh/3hvh_remove_HEATM_protein.pdb\n"
     ]
    },
    {
     "name": "stderr",
     "output_type": "stream",
     "text": [
      "/opt/conda/envs/team05/lib/python3.10/site-packages/Bio/PDB/PDBParser.py:388: PDBConstructionWarning: Ignoring unrecognized record 'TER' at line 3383\n",
      "  warnings.warn(\n",
      "/opt/conda/envs/team05/lib/python3.10/site-packages/Bio/PDB/PDBParser.py:388: PDBConstructionWarning: Ignoring unrecognized record 'TER' at line 6665\n",
      "  warnings.warn(\n",
      "/opt/conda/envs/team05/lib/python3.10/site-packages/Bio/PDB/PDBParser.py:388: PDBConstructionWarning: Ignoring unrecognized record 'TER' at line 13259\n",
      "  warnings.warn(\n"
     ]
    },
    {
     "name": "stdout",
     "output_type": "stream",
     "text": [
      "[OK] saved: /workspace/datasets/PDBbind2016/refined/1pdz/1pdz_remove_HEATM_protein.pdb\n"
     ]
    },
    {
     "name": "stderr",
     "output_type": "stream",
     "text": [
      "/opt/conda/envs/team05/lib/python3.10/site-packages/Bio/PDB/PDBParser.py:388: PDBConstructionWarning: Ignoring unrecognized record 'TER' at line 7639\n",
      "  warnings.warn(\n",
      "/opt/conda/envs/team05/lib/python3.10/site-packages/Bio/PDB/PDBParser.py:388: PDBConstructionWarning: Ignoring unrecognized record 'TER' at line 15047\n",
      "  warnings.warn(\n",
      "/opt/conda/envs/team05/lib/python3.10/site-packages/Bio/PDB/PDBParser.py:388: PDBConstructionWarning: Ignoring unrecognized record 'TER' at line 22455\n",
      "  warnings.warn(\n",
      "/opt/conda/envs/team05/lib/python3.10/site-packages/Bio/PDB/PDBParser.py:388: PDBConstructionWarning: Ignoring unrecognized record 'TER' at line 29863\n",
      "  warnings.warn(\n",
      "/opt/conda/envs/team05/lib/python3.10/site-packages/Bio/PDB/PDBParser.py:388: PDBConstructionWarning: Ignoring unrecognized record 'TER' at line 37271\n",
      "  warnings.warn(\n",
      "/opt/conda/envs/team05/lib/python3.10/site-packages/Bio/PDB/PDBParser.py:388: PDBConstructionWarning: Ignoring unrecognized record 'TER' at line 44679\n",
      "  warnings.warn(\n"
     ]
    },
    {
     "name": "stdout",
     "output_type": "stream",
     "text": [
      "[OK] saved: /workspace/datasets/PDBbind2016/refined/2ewb/2ewb_remove_HEATM_protein.pdb\n"
     ]
    },
    {
     "name": "stderr",
     "output_type": "stream",
     "text": [
      "/opt/conda/envs/team05/lib/python3.10/site-packages/Bio/PDB/PDBParser.py:388: PDBConstructionWarning: Ignoring unrecognized record 'TER' at line 2945\n",
      "  warnings.warn(\n",
      "/opt/conda/envs/team05/lib/python3.10/site-packages/Bio/PDB/PDBParser.py:388: PDBConstructionWarning: Ignoring unrecognized record 'TER' at line 5857\n",
      "  warnings.warn(\n",
      "/opt/conda/envs/team05/lib/python3.10/site-packages/Bio/PDB/PDBParser.py:388: PDBConstructionWarning: Ignoring unrecognized record 'END' at line 5916\n",
      "  warnings.warn(\n",
      "/opt/conda/envs/team05/lib/python3.10/site-packages/Bio/PDB/PDBParser.py:388: PDBConstructionWarning: Ignoring unrecognized record 'TER' at line 5590\n",
      "  warnings.warn(\n",
      "/opt/conda/envs/team05/lib/python3.10/site-packages/Bio/PDB/PDBParser.py:388: PDBConstructionWarning: Ignoring unrecognized record 'END' at line 5927\n",
      "  warnings.warn(\n"
     ]
    },
    {
     "name": "stdout",
     "output_type": "stream",
     "text": [
      "[OK] saved: /workspace/datasets/PDBbind2016/refined/3vw1/3vw1_remove_HEATM_protein.pdb\n",
      "[OK] saved: /workspace/datasets/PDBbind2016/refined/2r9x/2r9x_remove_HEATM_protein.pdb\n"
     ]
    },
    {
     "name": "stderr",
     "output_type": "stream",
     "text": [
      "/opt/conda/envs/team05/lib/python3.10/site-packages/Bio/PDB/PDBParser.py:388: PDBConstructionWarning: Ignoring unrecognized record 'TER' at line 3363\n",
      "  warnings.warn(\n",
      "/opt/conda/envs/team05/lib/python3.10/site-packages/Bio/PDB/PDBParser.py:388: PDBConstructionWarning: Ignoring unrecognized record 'TER' at line 6701\n",
      "  warnings.warn(\n",
      "/opt/conda/envs/team05/lib/python3.10/site-packages/Bio/PDB/PDBParser.py:388: PDBConstructionWarning: Ignoring unrecognized record 'TER' at line 4129\n",
      "  warnings.warn(\n",
      "/opt/conda/envs/team05/lib/python3.10/site-packages/Bio/PDB/PDBParser.py:388: PDBConstructionWarning: Ignoring unrecognized record 'END' at line 4236\n",
      "  warnings.warn(\n"
     ]
    },
    {
     "name": "stdout",
     "output_type": "stream",
     "text": [
      "[OK] saved: /workspace/datasets/PDBbind2016/refined/2r23/2r23_remove_HEATM_protein.pdb\n",
      "[OK] saved: /workspace/datasets/PDBbind2016/refined/2w8y/2w8y_remove_HEATM_protein.pdb\n"
     ]
    },
    {
     "name": "stderr",
     "output_type": "stream",
     "text": [
      "/opt/conda/envs/team05/lib/python3.10/site-packages/Bio/PDB/PDBParser.py:388: PDBConstructionWarning: Ignoring unrecognized record 'TER' at line 5589\n",
      "  warnings.warn(\n",
      "/opt/conda/envs/team05/lib/python3.10/site-packages/Bio/PDB/PDBParser.py:388: PDBConstructionWarning: Ignoring unrecognized record 'TER' at line 7090\n",
      "  warnings.warn(\n",
      "/opt/conda/envs/team05/lib/python3.10/site-packages/Bio/PDB/PDBParser.py:388: PDBConstructionWarning: Ignoring unrecognized record 'END' at line 7360\n",
      "  warnings.warn(\n"
     ]
    },
    {
     "name": "stdout",
     "output_type": "stream",
     "text": [
      "[OK] saved: /workspace/datasets/PDBbind2016/refined/3dne/3dne_remove_HEATM_protein.pdb\n",
      "[OK] saved: /workspace/datasets/PDBbind2016/refined/2ces/2ces_remove_HEATM_protein.pdb\n"
     ]
    },
    {
     "name": "stderr",
     "output_type": "stream",
     "text": [
      "/opt/conda/envs/team05/lib/python3.10/site-packages/Bio/PDB/PDBParser.py:388: PDBConstructionWarning: Ignoring unrecognized record 'TER' at line 5858\n",
      "  warnings.warn(\n",
      "/opt/conda/envs/team05/lib/python3.10/site-packages/Bio/PDB/PDBParser.py:388: PDBConstructionWarning: Ignoring unrecognized record 'TER' at line 1410\n",
      "  warnings.warn(\n",
      "/opt/conda/envs/team05/lib/python3.10/site-packages/Bio/PDB/PDBParser.py:388: PDBConstructionWarning: Ignoring unrecognized record 'TER' at line 5557\n",
      "  warnings.warn(\n"
     ]
    },
    {
     "name": "stdout",
     "output_type": "stream",
     "text": [
      "[OK] saved: /workspace/datasets/PDBbind2016/refined/4lxz/4lxz_remove_HEATM_protein.pdb\n",
      "[OK] saved: /workspace/datasets/PDBbind2016/refined/3f7h/3f7h_remove_HEATM_protein.pdb\n",
      "[OK] saved: /workspace/datasets/PDBbind2016/refined/1qxl/1qxl_remove_HEATM_protein.pdb\n"
     ]
    },
    {
     "name": "stderr",
     "output_type": "stream",
     "text": [
      "/opt/conda/envs/team05/lib/python3.10/site-packages/Bio/PDB/PDBParser.py:388: PDBConstructionWarning: Ignoring unrecognized record 'TER' at line 5693\n",
      "  warnings.warn(\n"
     ]
    },
    {
     "name": "stdout",
     "output_type": "stream",
     "text": [
      "[OK] saved: /workspace/datasets/PDBbind2016/refined/3ru1/3ru1_remove_HEATM_protein.pdb\n"
     ]
    },
    {
     "name": "stderr",
     "output_type": "stream",
     "text": [
      "/opt/conda/envs/team05/lib/python3.10/site-packages/Bio/PDB/PDBParser.py:388: PDBConstructionWarning: Ignoring unrecognized record 'TER' at line 7033\n",
      "  warnings.warn(\n",
      "/opt/conda/envs/team05/lib/python3.10/site-packages/Bio/PDB/PDBParser.py:388: PDBConstructionWarning: Ignoring unrecognized record 'TER' at line 1870\n",
      "  warnings.warn(\n",
      "/opt/conda/envs/team05/lib/python3.10/site-packages/Bio/PDB/PDBParser.py:388: PDBConstructionWarning: Ignoring unrecognized record 'TER' at line 3438\n",
      "  warnings.warn(\n",
      "/opt/conda/envs/team05/lib/python3.10/site-packages/Bio/PDB/PDBParser.py:388: PDBConstructionWarning: Ignoring unrecognized record 'END' at line 3614\n",
      "  warnings.warn(\n"
     ]
    },
    {
     "name": "stdout",
     "output_type": "stream",
     "text": [
      "[OK] saved: /workspace/datasets/PDBbind2016/refined/2vrj/2vrj_remove_HEATM_protein.pdb\n",
      "[OK] saved: /workspace/datasets/PDBbind2016/refined/1w4p/1w4p_remove_HEATM_protein.pdb\n",
      "[OK] saved: /workspace/datasets/PDBbind2016/refined/3eko/3eko_remove_HEATM_protein.pdb\n"
     ]
    },
    {
     "name": "stderr",
     "output_type": "stream",
     "text": [
      "/opt/conda/envs/team05/lib/python3.10/site-packages/Bio/PDB/PDBParser.py:388: PDBConstructionWarning: Ignoring unrecognized record 'TER' at line 3455\n",
      "  warnings.warn(\n",
      "/opt/conda/envs/team05/lib/python3.10/site-packages/Bio/PDB/PDBParser.py:388: PDBConstructionWarning: Ignoring unrecognized record 'END' at line 3886\n",
      "  warnings.warn(\n",
      "/opt/conda/envs/team05/lib/python3.10/site-packages/Bio/PDB/PDBParser.py:388: PDBConstructionWarning: Ignoring unrecognized record 'TER' at line 5608\n",
      "  warnings.warn(\n"
     ]
    },
    {
     "name": "stdout",
     "output_type": "stream",
     "text": [
      "[OK] saved: /workspace/datasets/PDBbind2016/refined/4v27/4v27_remove_HEATM_protein.pdb\n"
     ]
    },
    {
     "name": "stderr",
     "output_type": "stream",
     "text": [
      "/opt/conda/envs/team05/lib/python3.10/site-packages/Bio/PDB/PDBParser.py:388: PDBConstructionWarning: Ignoring unrecognized record 'END' at line 5995\n",
      "  warnings.warn(\n",
      "/opt/conda/envs/team05/lib/python3.10/site-packages/Bio/PDB/PDBParser.py:388: PDBConstructionWarning: Ignoring unrecognized record 'TER' at line 1584\n",
      "  warnings.warn(\n",
      "/opt/conda/envs/team05/lib/python3.10/site-packages/Bio/PDB/PDBParser.py:388: PDBConstructionWarning: Ignoring unrecognized record 'TER' at line 3149\n",
      "  warnings.warn(\n",
      "/opt/conda/envs/team05/lib/python3.10/site-packages/Bio/PDB/PDBParser.py:388: PDBConstructionWarning: Ignoring unrecognized record 'END' at line 3319\n",
      "  warnings.warn(\n",
      "/opt/conda/envs/team05/lib/python3.10/site-packages/Bio/PDB/PDBParser.py:388: PDBConstructionWarning: Ignoring unrecognized record 'TER' at line 4236\n",
      "  warnings.warn(\n",
      "/opt/conda/envs/team05/lib/python3.10/site-packages/Bio/PDB/PDBParser.py:388: PDBConstructionWarning: Ignoring unrecognized record 'END' at line 4278\n",
      "  warnings.warn(\n"
     ]
    },
    {
     "name": "stdout",
     "output_type": "stream",
     "text": [
      "[OK] saved: /workspace/datasets/PDBbind2016/refined/3gtc/3gtc_remove_HEATM_protein.pdb\n",
      "[OK] saved: /workspace/datasets/PDBbind2016/refined/1sdt/1sdt_remove_HEATM_protein.pdb\n",
      "[OK] saved: /workspace/datasets/PDBbind2016/refined/1br6/1br6_remove_HEATM_protein.pdb\n"
     ]
    },
    {
     "name": "stderr",
     "output_type": "stream",
     "text": [
      "/opt/conda/envs/team05/lib/python3.10/site-packages/Bio/PDB/PDBParser.py:388: PDBConstructionWarning: Ignoring unrecognized record 'TER' at line 3760\n",
      "  warnings.warn(\n",
      "/opt/conda/envs/team05/lib/python3.10/site-packages/Bio/PDB/PDBParser.py:388: PDBConstructionWarning: Ignoring unrecognized record 'TER' at line 7508\n",
      "  warnings.warn(\n",
      "/opt/conda/envs/team05/lib/python3.10/site-packages/Bio/PDB/PDBParser.py:388: PDBConstructionWarning: Ignoring unrecognized record 'TER' at line 4429\n",
      "  warnings.warn(\n"
     ]
    },
    {
     "name": "stdout",
     "output_type": "stream",
     "text": [
      "[OK] saved: /workspace/datasets/PDBbind2016/refined/3tif/3tif_remove_HEATM_protein.pdb\n",
      "[OK] saved: /workspace/datasets/PDBbind2016/refined/4og3/4og3_remove_HEATM_protein.pdb\n"
     ]
    },
    {
     "name": "stderr",
     "output_type": "stream",
     "text": [
      "/opt/conda/envs/team05/lib/python3.10/site-packages/Bio/PDB/PDBParser.py:388: PDBConstructionWarning: Ignoring unrecognized record 'END' at line 4752\n",
      "  warnings.warn(\n",
      "/opt/conda/envs/team05/lib/python3.10/site-packages/Bio/PDB/PDBParser.py:388: PDBConstructionWarning: Ignoring unrecognized record 'TER' at line 11647\n",
      "  warnings.warn(\n",
      "/opt/conda/envs/team05/lib/python3.10/site-packages/Bio/PDB/PDBParser.py:388: PDBConstructionWarning: Ignoring unrecognized record 'TER' at line 2382\n",
      "  warnings.warn(\n",
      "/opt/conda/envs/team05/lib/python3.10/site-packages/Bio/PDB/PDBParser.py:388: PDBConstructionWarning: Ignoring unrecognized record 'TER' at line 4725\n",
      "  warnings.warn(\n"
     ]
    },
    {
     "name": "stdout",
     "output_type": "stream",
     "text": [
      "[OK] saved: /workspace/datasets/PDBbind2016/refined/2wzs/2wzs_remove_HEATM_protein.pdb\n",
      "[OK] saved: /workspace/datasets/PDBbind2016/refined/2amt/2amt_remove_HEATM_protein.pdb\n"
     ]
    },
    {
     "name": "stderr",
     "output_type": "stream",
     "text": [
      "/opt/conda/envs/team05/lib/python3.10/site-packages/Bio/PDB/PDBParser.py:388: PDBConstructionWarning: Ignoring unrecognized record 'TER' at line 7068\n",
      "  warnings.warn(\n",
      "/opt/conda/envs/team05/lib/python3.10/site-packages/Bio/PDB/PDBParser.py:388: PDBConstructionWarning: Ignoring unrecognized record 'TER' at line 3257\n",
      "  warnings.warn(\n"
     ]
    },
    {
     "name": "stdout",
     "output_type": "stream",
     "text": [
      "[OK] saved: /workspace/datasets/PDBbind2016/refined/1bty/1bty_remove_HEATM_protein.pdb\n"
     ]
    },
    {
     "name": "stderr",
     "output_type": "stream",
     "text": [
      "/opt/conda/envs/team05/lib/python3.10/site-packages/Bio/PDB/PDBParser.py:388: PDBConstructionWarning: Ignoring unrecognized record 'TER' at line 11701\n",
      "  warnings.warn(\n",
      "/opt/conda/envs/team05/lib/python3.10/site-packages/Bio/PDB/PDBParser.py:388: PDBConstructionWarning: Ignoring unrecognized record 'TER' at line 23269\n",
      "  warnings.warn(\n"
     ]
    },
    {
     "name": "stdout",
     "output_type": "stream",
     "text": [
      "[OK] saved: /workspace/datasets/PDBbind2016/refined/3nox/3nox_remove_HEATM_protein.pdb\n"
     ]
    },
    {
     "name": "stderr",
     "output_type": "stream",
     "text": [
      "/opt/conda/envs/team05/lib/python3.10/site-packages/Bio/PDB/PDBParser.py:388: PDBConstructionWarning: Ignoring unrecognized record 'TER' at line 7146\n",
      "  warnings.warn(\n",
      "/opt/conda/envs/team05/lib/python3.10/site-packages/Bio/PDB/PDBParser.py:388: PDBConstructionWarning: Ignoring unrecognized record 'TER' at line 14144\n",
      "  warnings.warn(\n",
      "/opt/conda/envs/team05/lib/python3.10/site-packages/Bio/PDB/PDBParser.py:388: PDBConstructionWarning: Ignoring unrecognized record 'TER' at line 21143\n",
      "  warnings.warn(\n",
      "/opt/conda/envs/team05/lib/python3.10/site-packages/Bio/PDB/PDBParser.py:388: PDBConstructionWarning: Ignoring unrecognized record 'TER' at line 28141\n",
      "  warnings.warn(\n"
     ]
    },
    {
     "name": "stdout",
     "output_type": "stream",
     "text": [
      "[OK] saved: /workspace/datasets/PDBbind2016/refined/3pfp/3pfp_remove_HEATM_protein.pdb\n",
      "[OK] saved: /workspace/datasets/PDBbind2016/refined/2xog/2xog_remove_HEATM_protein.pdb\n",
      "[OK] saved: /workspace/datasets/PDBbind2016/refined/3r0y/3r0y_remove_HEATM_protein.pdb\n"
     ]
    },
    {
     "name": "stderr",
     "output_type": "stream",
     "text": [
      "/opt/conda/envs/team05/lib/python3.10/site-packages/Bio/PDB/PDBParser.py:388: PDBConstructionWarning: Ignoring unrecognized record 'TER' at line 1829\n",
      "  warnings.warn(\n",
      "/opt/conda/envs/team05/lib/python3.10/site-packages/Bio/PDB/PDBParser.py:388: PDBConstructionWarning: Ignoring unrecognized record 'TER' at line 1574\n",
      "  warnings.warn(\n",
      "/opt/conda/envs/team05/lib/python3.10/site-packages/Bio/PDB/PDBParser.py:388: PDBConstructionWarning: Ignoring unrecognized record 'TER' at line 3129\n",
      "  warnings.warn(\n",
      "/opt/conda/envs/team05/lib/python3.10/site-packages/Bio/PDB/PDBParser.py:388: PDBConstructionWarning: Ignoring unrecognized record 'END' at line 3323\n",
      "  warnings.warn(\n",
      "/opt/conda/envs/team05/lib/python3.10/site-packages/Bio/PDB/PDBParser.py:388: PDBConstructionWarning: Ignoring unrecognized record 'TER' at line 5009\n",
      "  warnings.warn(\n"
     ]
    },
    {
     "name": "stdout",
     "output_type": "stream",
     "text": [
      "[OK] saved: /workspace/datasets/PDBbind2016/refined/4qfp/4qfp_remove_HEATM_protein.pdb\n",
      "[OK] saved: /workspace/datasets/PDBbind2016/refined/4g0p/4g0p_remove_HEATM_protein.pdb\n",
      "[OK] saved: /workspace/datasets/PDBbind2016/refined/3ery/3ery_remove_HEATM_protein.pdb\n"
     ]
    },
    {
     "name": "stderr",
     "output_type": "stream",
     "text": [
      "/opt/conda/envs/team05/lib/python3.10/site-packages/Bio/PDB/PDBParser.py:388: PDBConstructionWarning: Ignoring unrecognized record 'TER' at line 2342\n",
      "  warnings.warn(\n",
      "/opt/conda/envs/team05/lib/python3.10/site-packages/Bio/PDB/PDBParser.py:388: PDBConstructionWarning: Ignoring unrecognized record 'END' at line 2504\n",
      "  warnings.warn(\n",
      "/opt/conda/envs/team05/lib/python3.10/site-packages/Bio/PDB/PDBParser.py:388: PDBConstructionWarning: Ignoring unrecognized record 'TER' at line 2795\n",
      "  warnings.warn(\n",
      "/opt/conda/envs/team05/lib/python3.10/site-packages/Bio/PDB/PDBParser.py:388: PDBConstructionWarning: Ignoring unrecognized record 'TER' at line 2439\n",
      "  warnings.warn(\n",
      "/opt/conda/envs/team05/lib/python3.10/site-packages/Bio/PDB/PDBParser.py:388: PDBConstructionWarning: Ignoring unrecognized record 'TER' at line 4785\n",
      "  warnings.warn(\n",
      "/opt/conda/envs/team05/lib/python3.10/site-packages/Bio/PDB/PDBParser.py:388: PDBConstructionWarning: Ignoring unrecognized record 'TER' at line 7117\n",
      "  warnings.warn(\n",
      "/opt/conda/envs/team05/lib/python3.10/site-packages/Bio/PDB/PDBParser.py:388: PDBConstructionWarning: Ignoring unrecognized record 'TER' at line 9463\n",
      "  warnings.warn(\n",
      "/opt/conda/envs/team05/lib/python3.10/site-packages/Bio/PDB/PDBParser.py:388: PDBConstructionWarning: Ignoring unrecognized record 'TER' at line 11795\n",
      "  warnings.warn(\n",
      "/opt/conda/envs/team05/lib/python3.10/site-packages/Bio/PDB/PDBParser.py:388: PDBConstructionWarning: Ignoring unrecognized record 'TER' at line 14141\n",
      "  warnings.warn(\n",
      "/opt/conda/envs/team05/lib/python3.10/site-packages/Bio/PDB/PDBParser.py:388: PDBConstructionWarning: Ignoring unrecognized record 'TER' at line 16473\n",
      "  warnings.warn(\n",
      "/opt/conda/envs/team05/lib/python3.10/site-packages/Bio/PDB/PDBParser.py:388: PDBConstructionWarning: Ignoring unrecognized record 'TER' at line 18819\n",
      "  warnings.warn(\n",
      "/opt/conda/envs/team05/lib/python3.10/site-packages/Bio/PDB/PDBParser.py:388: PDBConstructionWarning: Ignoring unrecognized record 'END' at line 20160\n",
      "  warnings.warn(\n"
     ]
    },
    {
     "name": "stdout",
     "output_type": "stream",
     "text": [
      "[OK] saved: /workspace/datasets/PDBbind2016/refined/2fw6/2fw6_remove_HEATM_protein.pdb\n",
      "[OK] saved: /workspace/datasets/PDBbind2016/refined/3f6g/3f6g_remove_HEATM_protein.pdb\n"
     ]
    },
    {
     "name": "stderr",
     "output_type": "stream",
     "text": [
      "/opt/conda/envs/team05/lib/python3.10/site-packages/Bio/PDB/PDBParser.py:388: PDBConstructionWarning: Ignoring unrecognized record 'TER' at line 1840\n",
      "  warnings.warn(\n",
      "/opt/conda/envs/team05/lib/python3.10/site-packages/Bio/PDB/PDBParser.py:388: PDBConstructionWarning: Ignoring unrecognized record 'TER' at line 3722\n",
      "  warnings.warn(\n",
      "/opt/conda/envs/team05/lib/python3.10/site-packages/Bio/PDB/PDBParser.py:388: PDBConstructionWarning: Ignoring unrecognized record 'TER' at line 4777\n",
      "  warnings.warn(\n"
     ]
    },
    {
     "name": "stdout",
     "output_type": "stream",
     "text": [
      "[OK] saved: /workspace/datasets/PDBbind2016/refined/2qry/2qry_remove_HEATM_protein.pdb\n",
      "[OK] saved: /workspace/datasets/PDBbind2016/refined/10gs/10gs_remove_HEATM_protein.pdb\n"
     ]
    },
    {
     "name": "stderr",
     "output_type": "stream",
     "text": [
      "/opt/conda/envs/team05/lib/python3.10/site-packages/Bio/PDB/PDBParser.py:388: PDBConstructionWarning: Ignoring unrecognized record 'TER' at line 3299\n",
      "  warnings.warn(\n",
      "/opt/conda/envs/team05/lib/python3.10/site-packages/Bio/PDB/PDBParser.py:388: PDBConstructionWarning: Ignoring unrecognized record 'TER' at line 6563\n",
      "  warnings.warn(\n",
      "/opt/conda/envs/team05/lib/python3.10/site-packages/Bio/PDB/PDBParser.py:388: PDBConstructionWarning: Ignoring unrecognized record 'END' at line 6733\n",
      "  warnings.warn(\n",
      "/opt/conda/envs/team05/lib/python3.10/site-packages/Bio/PDB/PDBParser.py:388: PDBConstructionWarning: Ignoring unrecognized record 'TER' at line 3372\n",
      "  warnings.warn(\n",
      "/opt/conda/envs/team05/lib/python3.10/site-packages/Bio/PDB/PDBParser.py:388: PDBConstructionWarning: Ignoring unrecognized record 'END' at line 3789\n",
      "  warnings.warn(\n"
     ]
    },
    {
     "name": "stdout",
     "output_type": "stream",
     "text": [
      "[OK] saved: /workspace/datasets/PDBbind2016/refined/4kz4/4kz4_remove_HEATM_protein.pdb\n",
      "[OK] saved: /workspace/datasets/PDBbind2016/refined/3p9l/3p9l_remove_HEATM_protein.pdb\n"
     ]
    },
    {
     "name": "stderr",
     "output_type": "stream",
     "text": [
      "/opt/conda/envs/team05/lib/python3.10/site-packages/Bio/PDB/PDBParser.py:388: PDBConstructionWarning: Ignoring unrecognized record 'TER' at line 4440\n",
      "  warnings.warn(\n",
      "/opt/conda/envs/team05/lib/python3.10/site-packages/Bio/PDB/PDBParser.py:388: PDBConstructionWarning: Ignoring unrecognized record 'TER' at line 6053\n",
      "  warnings.warn(\n",
      "/opt/conda/envs/team05/lib/python3.10/site-packages/Bio/PDB/PDBParser.py:388: PDBConstructionWarning: Ignoring unrecognized record 'TER' at line 2098\n",
      "  warnings.warn(\n",
      "/opt/conda/envs/team05/lib/python3.10/site-packages/Bio/PDB/PDBParser.py:388: PDBConstructionWarning: Ignoring unrecognized record 'TER' at line 2324\n",
      "  warnings.warn(\n",
      "/opt/conda/envs/team05/lib/python3.10/site-packages/Bio/PDB/PDBParser.py:388: PDBConstructionWarning: Ignoring unrecognized record 'TER' at line 4373\n",
      "  warnings.warn(\n",
      "/opt/conda/envs/team05/lib/python3.10/site-packages/Bio/PDB/PDBParser.py:388: PDBConstructionWarning: Ignoring unrecognized record 'TER' at line 4599\n",
      "  warnings.warn(\n",
      "/opt/conda/envs/team05/lib/python3.10/site-packages/Bio/PDB/PDBParser.py:388: PDBConstructionWarning: Ignoring unrecognized record 'TER' at line 6648\n",
      "  warnings.warn(\n",
      "/opt/conda/envs/team05/lib/python3.10/site-packages/Bio/PDB/PDBParser.py:388: PDBConstructionWarning: Ignoring unrecognized record 'TER' at line 6896\n",
      "  warnings.warn(\n",
      "/opt/conda/envs/team05/lib/python3.10/site-packages/Bio/PDB/PDBParser.py:388: PDBConstructionWarning: Ignoring unrecognized record 'TER' at line 8939\n",
      "  warnings.warn(\n",
      "/opt/conda/envs/team05/lib/python3.10/site-packages/Bio/PDB/PDBParser.py:388: PDBConstructionWarning: Ignoring unrecognized record 'TER' at line 9165\n",
      "  warnings.warn(\n",
      "/opt/conda/envs/team05/lib/python3.10/site-packages/Bio/PDB/PDBParser.py:388: PDBConstructionWarning: Ignoring unrecognized record 'END' at line 9420\n",
      "  warnings.warn(\n",
      "/opt/conda/envs/team05/lib/python3.10/site-packages/Bio/PDB/PDBParser.py:388: PDBConstructionWarning: Ignoring unrecognized record 'TER' at line 2616\n",
      "  warnings.warn(\n",
      "/opt/conda/envs/team05/lib/python3.10/site-packages/Bio/PDB/PDBParser.py:388: PDBConstructionWarning: Ignoring unrecognized record 'TER' at line 2547\n",
      "  warnings.warn(\n"
     ]
    },
    {
     "name": "stdout",
     "output_type": "stream",
     "text": [
      "[OK] saved: /workspace/datasets/PDBbind2016/refined/1ws4/1ws4_remove_HEATM_protein.pdb\n",
      "[OK] saved: /workspace/datasets/PDBbind2016/refined/1sln/1sln_remove_HEATM_protein.pdb\n",
      "[OK] saved: /workspace/datasets/PDBbind2016/refined/3juo/3juo_remove_HEATM_protein.pdb\n"
     ]
    },
    {
     "name": "stderr",
     "output_type": "stream",
     "text": [
      "/opt/conda/envs/team05/lib/python3.10/site-packages/Bio/PDB/PDBParser.py:388: PDBConstructionWarning: Ignoring unrecognized record 'TER' at line 5064\n",
      "  warnings.warn(\n",
      "/opt/conda/envs/team05/lib/python3.10/site-packages/Bio/PDB/PDBParser.py:388: PDBConstructionWarning: Ignoring unrecognized record 'END' at line 5142\n",
      "  warnings.warn(\n",
      "/opt/conda/envs/team05/lib/python3.10/site-packages/Bio/PDB/PDBParser.py:388: PDBConstructionWarning: Ignoring unrecognized record 'TER' at line 3851\n",
      "  warnings.warn(\n",
      "/opt/conda/envs/team05/lib/python3.10/site-packages/Bio/PDB/PDBParser.py:388: PDBConstructionWarning: Ignoring unrecognized record 'TER' at line 7659\n",
      "  warnings.warn(\n",
      "/opt/conda/envs/team05/lib/python3.10/site-packages/Bio/PDB/PDBParser.py:388: PDBConstructionWarning: Ignoring unrecognized record 'END' at line 8551\n",
      "  warnings.warn(\n",
      "/opt/conda/envs/team05/lib/python3.10/site-packages/Bio/PDB/PDBParser.py:388: PDBConstructionWarning: Ignoring unrecognized record 'TER' at line 596\n",
      "  warnings.warn(\n",
      "/opt/conda/envs/team05/lib/python3.10/site-packages/Bio/PDB/PDBParser.py:388: PDBConstructionWarning: Ignoring unrecognized record 'TER' at line 4647\n",
      "  warnings.warn(\n",
      "/opt/conda/envs/team05/lib/python3.10/site-packages/Bio/PDB/PDBParser.py:388: PDBConstructionWarning: Ignoring unrecognized record 'TER' at line 1341\n",
      "  warnings.warn(\n"
     ]
    },
    {
     "name": "stdout",
     "output_type": "stream",
     "text": [
      "[OK] saved: /workspace/datasets/PDBbind2016/refined/2v2c/2v2c_remove_HEATM_protein.pdb\n",
      "[OK] saved: /workspace/datasets/PDBbind2016/refined/1c5n/1c5n_remove_HEATM_protein.pdb\n",
      "[OK] saved: /workspace/datasets/PDBbind2016/refined/4tte/4tte_remove_HEATM_protein.pdb\n"
     ]
    },
    {
     "name": "stderr",
     "output_type": "stream",
     "text": [
      "/opt/conda/envs/team05/lib/python3.10/site-packages/Bio/PDB/PDBParser.py:388: PDBConstructionWarning: Ignoring unrecognized record 'END' at line 1595\n",
      "  warnings.warn(\n",
      "/opt/conda/envs/team05/lib/python3.10/site-packages/Bio/PDB/PDBParser.py:388: PDBConstructionWarning: Ignoring unrecognized record 'TER' at line 2516\n",
      "  warnings.warn(\n",
      "/opt/conda/envs/team05/lib/python3.10/site-packages/Bio/PDB/PDBParser.py:388: PDBConstructionWarning: Ignoring unrecognized record 'TER' at line 5010\n",
      "  warnings.warn(\n"
     ]
    },
    {
     "name": "stdout",
     "output_type": "stream",
     "text": [
      "[OK] saved: /workspace/datasets/PDBbind2016/refined/4ymb/4ymb_remove_HEATM_protein.pdb\n"
     ]
    },
    {
     "name": "stderr",
     "output_type": "stream",
     "text": [
      "/opt/conda/envs/team05/lib/python3.10/site-packages/Bio/PDB/PDBParser.py:388: PDBConstructionWarning: Ignoring unrecognized record 'TER' at line 2098\n",
      "  warnings.warn(\n",
      "/opt/conda/envs/team05/lib/python3.10/site-packages/Bio/PDB/PDBParser.py:388: PDBConstructionWarning: Ignoring unrecognized record 'TER' at line 2315\n",
      "  warnings.warn(\n",
      "/opt/conda/envs/team05/lib/python3.10/site-packages/Bio/PDB/PDBParser.py:388: PDBConstructionWarning: Ignoring unrecognized record 'TER' at line 4358\n",
      "  warnings.warn(\n",
      "/opt/conda/envs/team05/lib/python3.10/site-packages/Bio/PDB/PDBParser.py:388: PDBConstructionWarning: Ignoring unrecognized record 'TER' at line 4575\n",
      "  warnings.warn(\n",
      "/opt/conda/envs/team05/lib/python3.10/site-packages/Bio/PDB/PDBParser.py:388: PDBConstructionWarning: Ignoring unrecognized record 'TER' at line 6618\n",
      "  warnings.warn(\n",
      "/opt/conda/envs/team05/lib/python3.10/site-packages/Bio/PDB/PDBParser.py:388: PDBConstructionWarning: Ignoring unrecognized record 'TER' at line 6835\n",
      "  warnings.warn(\n",
      "/opt/conda/envs/team05/lib/python3.10/site-packages/Bio/PDB/PDBParser.py:388: PDBConstructionWarning: Ignoring unrecognized record 'TER' at line 8878\n",
      "  warnings.warn(\n",
      "/opt/conda/envs/team05/lib/python3.10/site-packages/Bio/PDB/PDBParser.py:388: PDBConstructionWarning: Ignoring unrecognized record 'TER' at line 9095\n",
      "  warnings.warn(\n",
      "/opt/conda/envs/team05/lib/python3.10/site-packages/Bio/PDB/PDBParser.py:388: PDBConstructionWarning: Ignoring unrecognized record 'END' at line 9576\n",
      "  warnings.warn(\n"
     ]
    },
    {
     "name": "stdout",
     "output_type": "stream",
     "text": [
      "[OK] saved: /workspace/datasets/PDBbind2016/refined/1ugx/1ugx_remove_HEATM_protein.pdb\n"
     ]
    },
    {
     "name": "stderr",
     "output_type": "stream",
     "text": [
      "/opt/conda/envs/team05/lib/python3.10/site-packages/Bio/PDB/PDBParser.py:388: PDBConstructionWarning: Ignoring unrecognized record 'TER' at line 4622\n",
      "  warnings.warn(\n",
      "/opt/conda/envs/team05/lib/python3.10/site-packages/Bio/PDB/PDBParser.py:388: PDBConstructionWarning: Ignoring unrecognized record 'TER' at line 9193\n",
      "  warnings.warn(\n"
     ]
    },
    {
     "name": "stdout",
     "output_type": "stream",
     "text": [
      "[OK] saved: /workspace/datasets/PDBbind2016/refined/2yhw/2yhw_remove_HEATM_protein.pdb\n"
     ]
    },
    {
     "name": "stderr",
     "output_type": "stream",
     "text": [
      "/opt/conda/envs/team05/lib/python3.10/site-packages/Bio/PDB/PDBParser.py:388: PDBConstructionWarning: Ignoring unrecognized record 'TER' at line 5124\n",
      "  warnings.warn(\n",
      "/opt/conda/envs/team05/lib/python3.10/site-packages/Bio/PDB/PDBParser.py:388: PDBConstructionWarning: Ignoring unrecognized record 'TER' at line 10195\n",
      "  warnings.warn(\n",
      "/opt/conda/envs/team05/lib/python3.10/site-packages/Bio/PDB/PDBParser.py:388: PDBConstructionWarning: Ignoring unrecognized record 'END' at line 10289\n",
      "  warnings.warn(\n"
     ]
    },
    {
     "name": "stdout",
     "output_type": "stream",
     "text": [
      "[OK] saved: /workspace/datasets/PDBbind2016/refined/1njd/1njd_remove_HEATM_protein.pdb\n"
     ]
    },
    {
     "name": "stderr",
     "output_type": "stream",
     "text": [
      "/opt/conda/envs/team05/lib/python3.10/site-packages/Bio/PDB/PDBParser.py:388: PDBConstructionWarning: Ignoring unrecognized record 'TER' at line 2352\n",
      "  warnings.warn(\n",
      "/opt/conda/envs/team05/lib/python3.10/site-packages/Bio/PDB/PDBParser.py:388: PDBConstructionWarning: Ignoring unrecognized record 'TER' at line 4557\n",
      "  warnings.warn(\n",
      "/opt/conda/envs/team05/lib/python3.10/site-packages/Bio/PDB/PDBParser.py:388: PDBConstructionWarning: Ignoring unrecognized record 'TER' at line 6762\n",
      "  warnings.warn(\n",
      "/opt/conda/envs/team05/lib/python3.10/site-packages/Bio/PDB/PDBParser.py:388: PDBConstructionWarning: Ignoring unrecognized record 'TER' at line 8967\n",
      "  warnings.warn(\n",
      "/opt/conda/envs/team05/lib/python3.10/site-packages/Bio/PDB/PDBParser.py:388: PDBConstructionWarning: Ignoring unrecognized record 'TER' at line 11172\n",
      "  warnings.warn(\n",
      "/opt/conda/envs/team05/lib/python3.10/site-packages/Bio/PDB/PDBParser.py:388: PDBConstructionWarning: Ignoring unrecognized record 'TER' at line 13377\n",
      "  warnings.warn(\n",
      "/opt/conda/envs/team05/lib/python3.10/site-packages/Bio/PDB/PDBParser.py:388: PDBConstructionWarning: Ignoring unrecognized record 'TER' at line 15582\n",
      "  warnings.warn(\n",
      "/opt/conda/envs/team05/lib/python3.10/site-packages/Bio/PDB/PDBParser.py:388: PDBConstructionWarning: Ignoring unrecognized record 'TER' at line 17787\n",
      "  warnings.warn(\n",
      "/opt/conda/envs/team05/lib/python3.10/site-packages/Bio/PDB/PDBParser.py:388: PDBConstructionWarning: Ignoring unrecognized record 'TER' at line 19992\n",
      "  warnings.warn(\n",
      "/opt/conda/envs/team05/lib/python3.10/site-packages/Bio/PDB/PDBParser.py:388: PDBConstructionWarning: Ignoring unrecognized record 'TER' at line 22197\n",
      "  warnings.warn(\n",
      "/opt/conda/envs/team05/lib/python3.10/site-packages/Bio/PDB/PDBParser.py:388: PDBConstructionWarning: Ignoring unrecognized record 'TER' at line 24402\n",
      "  warnings.warn(\n",
      "/opt/conda/envs/team05/lib/python3.10/site-packages/Bio/PDB/PDBParser.py:388: PDBConstructionWarning: Ignoring unrecognized record 'TER' at line 26607\n",
      "  warnings.warn(\n",
      "/opt/conda/envs/team05/lib/python3.10/site-packages/Bio/PDB/PDBParser.py:388: PDBConstructionWarning: Ignoring unrecognized record 'END' at line 29242\n",
      "  warnings.warn(\n"
     ]
    },
    {
     "name": "stdout",
     "output_type": "stream",
     "text": [
      "[OK] saved: /workspace/datasets/PDBbind2016/refined/1gu1/1gu1_remove_HEATM_protein.pdb\n",
      "[OK] saved: /workspace/datasets/PDBbind2016/refined/3djp/3djp_remove_HEATM_protein.pdb\n",
      "[OK] saved: /workspace/datasets/PDBbind2016/refined/5e13/5e13_remove_HEATM_protein.pdb\n"
     ]
    },
    {
     "name": "stderr",
     "output_type": "stream",
     "text": [
      "/opt/conda/envs/team05/lib/python3.10/site-packages/Bio/PDB/PDBParser.py:388: PDBConstructionWarning: Ignoring unrecognized record 'TER' at line 1895\n",
      "  warnings.warn(\n",
      "/opt/conda/envs/team05/lib/python3.10/site-packages/Bio/PDB/PDBParser.py:388: PDBConstructionWarning: Ignoring unrecognized record 'TER' at line 3757\n",
      "  warnings.warn(\n",
      "/opt/conda/envs/team05/lib/python3.10/site-packages/Bio/PDB/PDBParser.py:388: PDBConstructionWarning: Ignoring unrecognized record 'TER' at line 1369\n",
      "  warnings.warn(\n",
      "/opt/conda/envs/team05/lib/python3.10/site-packages/Bio/PDB/PDBParser.py:388: PDBConstructionWarning: Ignoring unrecognized record 'TER' at line 8345\n",
      "  warnings.warn(\n",
      "/opt/conda/envs/team05/lib/python3.10/site-packages/Bio/PDB/PDBParser.py:388: PDBConstructionWarning: Ignoring unrecognized record 'TER' at line 16562\n",
      "  warnings.warn(\n"
     ]
    },
    {
     "name": "stdout",
     "output_type": "stream",
     "text": [
      "[OK] saved: /workspace/datasets/PDBbind2016/refined/1n5r/1n5r_remove_HEATM_protein.pdb\n",
      "[OK] saved: /workspace/datasets/PDBbind2016/refined/3d1x/3d1x_remove_HEATM_protein.pdb\n"
     ]
    },
    {
     "name": "stderr",
     "output_type": "stream",
     "text": [
      "/opt/conda/envs/team05/lib/python3.10/site-packages/Bio/PDB/PDBParser.py:388: PDBConstructionWarning: Ignoring unrecognized record 'TER' at line 1582\n",
      "  warnings.warn(\n",
      "/opt/conda/envs/team05/lib/python3.10/site-packages/Bio/PDB/PDBParser.py:388: PDBConstructionWarning: Ignoring unrecognized record 'TER' at line 3145\n",
      "  warnings.warn(\n",
      "/opt/conda/envs/team05/lib/python3.10/site-packages/Bio/PDB/PDBParser.py:388: PDBConstructionWarning: Ignoring unrecognized record 'END' at line 3389\n",
      "  warnings.warn(\n",
      "/opt/conda/envs/team05/lib/python3.10/site-packages/Bio/PDB/PDBParser.py:388: PDBConstructionWarning: Ignoring unrecognized record 'TER' at line 6169\n",
      "  warnings.warn(\n",
      "/opt/conda/envs/team05/lib/python3.10/site-packages/Bio/PDB/PDBParser.py:388: PDBConstructionWarning: Ignoring unrecognized record 'TER' at line 12273\n",
      "  warnings.warn(\n"
     ]
    },
    {
     "name": "stdout",
     "output_type": "stream",
     "text": [
      "[OK] saved: /workspace/datasets/PDBbind2016/refined/1tog/1tog_remove_HEATM_protein.pdb\n"
     ]
    },
    {
     "name": "stderr",
     "output_type": "stream",
     "text": [
      "/opt/conda/envs/team05/lib/python3.10/site-packages/Bio/PDB/PDBParser.py:388: PDBConstructionWarning: Ignoring unrecognized record 'TER' at line 7699\n",
      "  warnings.warn(\n",
      "/opt/conda/envs/team05/lib/python3.10/site-packages/Bio/PDB/PDBParser.py:388: PDBConstructionWarning: Ignoring unrecognized record 'TER' at line 3377\n",
      "  warnings.warn(\n"
     ]
    },
    {
     "name": "stdout",
     "output_type": "stream",
     "text": [
      "[OK] saved: /workspace/datasets/PDBbind2016/refined/1u33/1u33_remove_HEATM_protein.pdb\n"
     ]
    },
    {
     "name": "stderr",
     "output_type": "stream",
     "text": [
      "/opt/conda/envs/team05/lib/python3.10/site-packages/Bio/PDB/PDBParser.py:388: PDBConstructionWarning: Ignoring unrecognized record 'TER' at line 6654\n",
      "  warnings.warn(\n",
      "/opt/conda/envs/team05/lib/python3.10/site-packages/Bio/PDB/PDBParser.py:388: PDBConstructionWarning: Ignoring unrecognized record 'END' at line 6880\n",
      "  warnings.warn(\n",
      "/opt/conda/envs/team05/lib/python3.10/site-packages/Bio/PDB/PDBParser.py:388: PDBConstructionWarning: Ignoring unrecognized record 'TER' at line 924\n",
      "  warnings.warn(\n",
      "/opt/conda/envs/team05/lib/python3.10/site-packages/Bio/PDB/PDBParser.py:388: PDBConstructionWarning: Ignoring unrecognized record 'TER' at line 1842\n",
      "  warnings.warn(\n",
      "/opt/conda/envs/team05/lib/python3.10/site-packages/Bio/PDB/PDBParser.py:388: PDBConstructionWarning: Ignoring unrecognized record 'END' at line 2119\n",
      "  warnings.warn(\n"
     ]
    },
    {
     "name": "stdout",
     "output_type": "stream",
     "text": [
      "[OK] saved: /workspace/datasets/PDBbind2016/refined/3p9t/3p9t_remove_HEATM_protein.pdb\n",
      "[OK] saved: /workspace/datasets/PDBbind2016/refined/4mc6/4mc6_remove_HEATM_protein.pdb\n"
     ]
    },
    {
     "name": "stderr",
     "output_type": "stream",
     "text": [
      "/opt/conda/envs/team05/lib/python3.10/site-packages/Bio/PDB/PDBParser.py:388: PDBConstructionWarning: Ignoring unrecognized record 'TER' at line 9747\n",
      "  warnings.warn(\n",
      "/opt/conda/envs/team05/lib/python3.10/site-packages/Bio/PDB/PDBParser.py:388: PDBConstructionWarning: Ignoring unrecognized record 'TER' at line 3245\n",
      "  warnings.warn(\n"
     ]
    },
    {
     "name": "stdout",
     "output_type": "stream",
     "text": [
      "[OK] saved: /workspace/datasets/PDBbind2016/refined/2r59/2r59_remove_HEATM_protein.pdb\n",
      "[OK] saved: /workspace/datasets/PDBbind2016/refined/1gj6/1gj6_remove_HEATM_protein.pdb\n"
     ]
    },
    {
     "name": "stderr",
     "output_type": "stream",
     "text": [
      "/opt/conda/envs/team05/lib/python3.10/site-packages/Bio/PDB/PDBParser.py:388: PDBConstructionWarning: Ignoring unrecognized record 'TER' at line 3584\n",
      "  warnings.warn(\n",
      "/opt/conda/envs/team05/lib/python3.10/site-packages/Bio/PDB/PDBParser.py:388: PDBConstructionWarning: Ignoring unrecognized record 'TER' at line 3868\n",
      "  warnings.warn(\n",
      "/opt/conda/envs/team05/lib/python3.10/site-packages/Bio/PDB/PDBParser.py:388: PDBConstructionWarning: Ignoring unrecognized record 'END' at line 3968\n",
      "  warnings.warn(\n",
      "/opt/conda/envs/team05/lib/python3.10/site-packages/Bio/PDB/PDBParser.py:388: PDBConstructionWarning: Ignoring unrecognized record 'TER' at line 2293\n",
      "  warnings.warn(\n",
      "/opt/conda/envs/team05/lib/python3.10/site-packages/Bio/PDB/PDBParser.py:388: PDBConstructionWarning: Ignoring unrecognized record 'END' at line 2432\n",
      "  warnings.warn(\n"
     ]
    },
    {
     "name": "stdout",
     "output_type": "stream",
     "text": [
      "[OK] saved: /workspace/datasets/PDBbind2016/refined/4cd4/4cd4_remove_HEATM_protein.pdb\n",
      "[OK] saved: /workspace/datasets/PDBbind2016/refined/3efs/3efs_remove_HEATM_protein.pdb\n",
      "[OK] saved: /workspace/datasets/PDBbind2016/refined/2xp7/2xp7_remove_HEATM_protein.pdb\n"
     ]
    },
    {
     "name": "stderr",
     "output_type": "stream",
     "text": [
      "/opt/conda/envs/team05/lib/python3.10/site-packages/Bio/PDB/PDBParser.py:388: PDBConstructionWarning: Ignoring unrecognized record 'TER' at line 3268\n",
      "  warnings.warn(\n",
      "/opt/conda/envs/team05/lib/python3.10/site-packages/Bio/PDB/PDBParser.py:388: PDBConstructionWarning: Ignoring unrecognized record 'END' at line 3441\n",
      "  warnings.warn(\n",
      "/opt/conda/envs/team05/lib/python3.10/site-packages/Bio/PDB/PDBParser.py:388: PDBConstructionWarning: Ignoring unrecognized record 'TER' at line 1559\n",
      "  warnings.warn(\n",
      "/opt/conda/envs/team05/lib/python3.10/site-packages/Bio/PDB/PDBParser.py:388: PDBConstructionWarning: Ignoring unrecognized record 'TER' at line 3099\n",
      "  warnings.warn(\n",
      "/opt/conda/envs/team05/lib/python3.10/site-packages/Bio/PDB/PDBParser.py:388: PDBConstructionWarning: Ignoring unrecognized record 'END' at line 3134\n",
      "  warnings.warn(\n"
     ]
    },
    {
     "name": "stdout",
     "output_type": "stream",
     "text": [
      "[OK] saved: /workspace/datasets/PDBbind2016/refined/2r58/2r58_remove_HEATM_protein.pdb\n",
      "[OK] saved: /workspace/datasets/PDBbind2016/refined/1siv/1siv_remove_HEATM_protein.pdb\n"
     ]
    },
    {
     "name": "stderr",
     "output_type": "stream",
     "text": [
      "/opt/conda/envs/team05/lib/python3.10/site-packages/Bio/PDB/PDBParser.py:388: PDBConstructionWarning: Ignoring unrecognized record 'TER' at line 8523\n",
      "  warnings.warn(\n",
      "/opt/conda/envs/team05/lib/python3.10/site-packages/Bio/PDB/PDBParser.py:388: PDBConstructionWarning: Ignoring unrecognized record 'END' at line 8978\n",
      "  warnings.warn(\n",
      "/opt/conda/envs/team05/lib/python3.10/site-packages/Bio/PDB/PDBParser.py:388: PDBConstructionWarning: Ignoring unrecognized record 'TER' at line 2519\n",
      "  warnings.warn(\n"
     ]
    },
    {
     "name": "stdout",
     "output_type": "stream",
     "text": [
      "[OK] saved: /workspace/datasets/PDBbind2016/refined/1w96/1w96_remove_HEATM_protein.pdb\n",
      "[OK] saved: /workspace/datasets/PDBbind2016/refined/4xe1/4xe1_remove_HEATM_protein.pdb\n"
     ]
    },
    {
     "name": "stderr",
     "output_type": "stream",
     "text": [
      "/opt/conda/envs/team05/lib/python3.10/site-packages/Bio/PDB/PDBParser.py:388: PDBConstructionWarning: Ignoring unrecognized record 'TER' at line 6169\n",
      "  warnings.warn(\n",
      "/opt/conda/envs/team05/lib/python3.10/site-packages/Bio/PDB/PDBParser.py:388: PDBConstructionWarning: Ignoring unrecognized record 'TER' at line 12177\n",
      "  warnings.warn(\n"
     ]
    },
    {
     "name": "stdout",
     "output_type": "stream",
     "text": [
      "[OK] saved: /workspace/datasets/PDBbind2016/refined/3kmy/3kmy_remove_HEATM_protein.pdb\n"
     ]
    },
    {
     "name": "stderr",
     "output_type": "stream",
     "text": [
      "/opt/conda/envs/team05/lib/python3.10/site-packages/Bio/PDB/PDBParser.py:388: PDBConstructionWarning: Ignoring unrecognized record 'TER' at line 4063\n",
      "  warnings.warn(\n",
      "/opt/conda/envs/team05/lib/python3.10/site-packages/Bio/PDB/PDBParser.py:388: PDBConstructionWarning: Ignoring unrecognized record 'TER' at line 4515\n",
      "  warnings.warn(\n",
      "/opt/conda/envs/team05/lib/python3.10/site-packages/Bio/PDB/PDBParser.py:388: PDBConstructionWarning: Ignoring unrecognized record 'TER' at line 4112\n",
      "  warnings.warn(\n",
      "/opt/conda/envs/team05/lib/python3.10/site-packages/Bio/PDB/PDBParser.py:388: PDBConstructionWarning: Ignoring unrecognized record 'TER' at line 8179\n",
      "  warnings.warn(\n"
     ]
    },
    {
     "name": "stdout",
     "output_type": "stream",
     "text": [
      "[OK] saved: /workspace/datasets/PDBbind2016/refined/4ax9/4ax9_remove_HEATM_protein.pdb\n",
      "[OK] saved: /workspace/datasets/PDBbind2016/refined/4g8n/4g8n_remove_HEATM_protein.pdb\n"
     ]
    },
    {
     "name": "stderr",
     "output_type": "stream",
     "text": [
      "/opt/conda/envs/team05/lib/python3.10/site-packages/Bio/PDB/PDBParser.py:388: PDBConstructionWarning: Ignoring unrecognized record 'TER' at line 12514\n",
      "  warnings.warn(\n",
      "/opt/conda/envs/team05/lib/python3.10/site-packages/Bio/PDB/PDBParser.py:388: PDBConstructionWarning: Ignoring unrecognized record 'TER' at line 24665\n",
      "  warnings.warn(\n",
      "/opt/conda/envs/team05/lib/python3.10/site-packages/Bio/PDB/PDBParser.py:388: PDBConstructionWarning: Ignoring unrecognized record 'TER' at line 36816\n",
      "  warnings.warn(\n",
      "/opt/conda/envs/team05/lib/python3.10/site-packages/Bio/PDB/PDBParser.py:388: PDBConstructionWarning: Ignoring unrecognized record 'TER' at line 48967\n",
      "  warnings.warn(\n",
      "/opt/conda/envs/team05/lib/python3.10/site-packages/Bio/PDB/PDBParser.py:388: PDBConstructionWarning: Ignoring unrecognized record 'TER' at line 61118\n",
      "  warnings.warn(\n",
      "/opt/conda/envs/team05/lib/python3.10/site-packages/Bio/PDB/PDBParser.py:388: PDBConstructionWarning: Ignoring unrecognized record 'TER' at line 73269\n",
      "  warnings.warn(\n",
      "/opt/conda/envs/team05/lib/python3.10/site-packages/Bio/PDB/PDBParser.py:388: PDBConstructionWarning: Ignoring unrecognized record 'END' at line 75273\n",
      "  warnings.warn(\n"
     ]
    },
    {
     "name": "stdout",
     "output_type": "stream",
     "text": [
      "[OK] saved: /workspace/datasets/PDBbind2016/refined/2f2h/2f2h_remove_HEATM_protein.pdb\n",
      "[OK] saved: /workspace/datasets/PDBbind2016/refined/1xq0/1xq0_remove_HEATM_protein.pdb\n"
     ]
    },
    {
     "name": "stderr",
     "output_type": "stream",
     "text": [
      "/opt/conda/envs/team05/lib/python3.10/site-packages/Bio/PDB/PDBParser.py:388: PDBConstructionWarning: Ignoring unrecognized record 'TER' at line 4082\n",
      "  warnings.warn(\n",
      "/opt/conda/envs/team05/lib/python3.10/site-packages/Bio/PDB/PDBParser.py:388: PDBConstructionWarning: Ignoring unrecognized record 'TER' at line 3299\n",
      "  warnings.warn(\n",
      "/opt/conda/envs/team05/lib/python3.10/site-packages/Bio/PDB/PDBParser.py:388: PDBConstructionWarning: Ignoring unrecognized record 'TER' at line 6563\n",
      "  warnings.warn(\n",
      "/opt/conda/envs/team05/lib/python3.10/site-packages/Bio/PDB/PDBParser.py:388: PDBConstructionWarning: Ignoring unrecognized record 'END' at line 6928\n",
      "  warnings.warn(\n"
     ]
    },
    {
     "name": "stdout",
     "output_type": "stream",
     "text": [
      "[OK] saved: /workspace/datasets/PDBbind2016/refined/3gss/3gss_remove_HEATM_protein.pdb\n",
      "[OK] saved: /workspace/datasets/PDBbind2016/refined/2ybu/2ybu_remove_HEATM_protein.pdb\n"
     ]
    },
    {
     "name": "stderr",
     "output_type": "stream",
     "text": [
      "/opt/conda/envs/team05/lib/python3.10/site-packages/Bio/PDB/PDBParser.py:388: PDBConstructionWarning: Ignoring unrecognized record 'TER' at line 5830\n",
      "  warnings.warn(\n",
      "/opt/conda/envs/team05/lib/python3.10/site-packages/Bio/PDB/PDBParser.py:388: PDBConstructionWarning: Ignoring unrecognized record 'TER' at line 6864\n",
      "  warnings.warn(\n",
      "/opt/conda/envs/team05/lib/python3.10/site-packages/Bio/PDB/PDBParser.py:388: PDBConstructionWarning: Ignoring unrecognized record 'TER' at line 13647\n",
      "  warnings.warn(\n"
     ]
    },
    {
     "name": "stdout",
     "output_type": "stream",
     "text": [
      "[OK] saved: /workspace/datasets/PDBbind2016/refined/4dhl/4dhl_remove_HEATM_protein.pdb\n",
      "[OK] saved: /workspace/datasets/PDBbind2016/refined/4k0o/4k0o_remove_HEATM_protein.pdb\n",
      "[OK] saved: /workspace/datasets/PDBbind2016/refined/4cst/4cst_remove_HEATM_protein.pdb\n"
     ]
    },
    {
     "name": "stderr",
     "output_type": "stream",
     "text": [
      "/opt/conda/envs/team05/lib/python3.10/site-packages/Bio/PDB/PDBParser.py:388: PDBConstructionWarning: Ignoring unrecognized record 'TER' at line 2578\n",
      "  warnings.warn(\n",
      "/opt/conda/envs/team05/lib/python3.10/site-packages/Bio/PDB/PDBParser.py:388: PDBConstructionWarning: Ignoring unrecognized record 'TER' at line 1478\n",
      "  warnings.warn(\n",
      "/opt/conda/envs/team05/lib/python3.10/site-packages/Bio/PDB/PDBParser.py:388: PDBConstructionWarning: Ignoring unrecognized record 'TER' at line 6808\n",
      "  warnings.warn(\n",
      "/opt/conda/envs/team05/lib/python3.10/site-packages/Bio/PDB/PDBParser.py:388: PDBConstructionWarning: Ignoring unrecognized record 'TER' at line 4699\n",
      "  warnings.warn(\n"
     ]
    },
    {
     "name": "stdout",
     "output_type": "stream",
     "text": [
      "[OK] saved: /workspace/datasets/PDBbind2016/refined/3c8a/3c8a_remove_HEATM_protein.pdb\n",
      "[OK] saved: /workspace/datasets/PDBbind2016/refined/4er1/4er1_remove_HEATM_protein.pdb\n"
     ]
    },
    {
     "name": "stderr",
     "output_type": "stream",
     "text": [
      "/opt/conda/envs/team05/lib/python3.10/site-packages/Bio/PDB/PDBParser.py:388: PDBConstructionWarning: Ignoring unrecognized record 'TER' at line 2599\n",
      "  warnings.warn(\n",
      "/opt/conda/envs/team05/lib/python3.10/site-packages/Bio/PDB/PDBParser.py:388: PDBConstructionWarning: Ignoring unrecognized record 'TER' at line 5153\n",
      "  warnings.warn(\n",
      "/opt/conda/envs/team05/lib/python3.10/site-packages/Bio/PDB/PDBParser.py:388: PDBConstructionWarning: Ignoring unrecognized record 'END' at line 5184\n",
      "  warnings.warn(\n",
      "/opt/conda/envs/team05/lib/python3.10/site-packages/Bio/PDB/PDBParser.py:388: PDBConstructionWarning: Ignoring unrecognized record 'TER' at line 2560\n",
      "  warnings.warn(\n",
      "/opt/conda/envs/team05/lib/python3.10/site-packages/Bio/PDB/PDBParser.py:388: PDBConstructionWarning: Ignoring unrecognized record 'TER' at line 3373\n",
      "  warnings.warn(\n"
     ]
    },
    {
     "name": "stdout",
     "output_type": "stream",
     "text": [
      "[OK] saved: /workspace/datasets/PDBbind2016/refined/4nl1/4nl1_remove_HEATM_protein.pdb\n",
      "[OK] saved: /workspace/datasets/PDBbind2016/refined/1usn/1usn_remove_HEATM_protein.pdb\n"
     ]
    },
    {
     "name": "stderr",
     "output_type": "stream",
     "text": [
      "/opt/conda/envs/team05/lib/python3.10/site-packages/Bio/PDB/PDBParser.py:388: PDBConstructionWarning: Ignoring unrecognized record 'TER' at line 6618\n",
      "  warnings.warn(\n",
      "/opt/conda/envs/team05/lib/python3.10/site-packages/Bio/PDB/PDBParser.py:388: PDBConstructionWarning: Ignoring unrecognized record 'TER' at line 2027\n",
      "  warnings.warn(\n",
      "/opt/conda/envs/team05/lib/python3.10/site-packages/Bio/PDB/PDBParser.py:388: PDBConstructionWarning: Ignoring unrecognized record 'END' at line 2180\n",
      "  warnings.warn(\n"
     ]
    },
    {
     "name": "stdout",
     "output_type": "stream",
     "text": [
      "[OK] saved: /workspace/datasets/PDBbind2016/refined/3i9g/3i9g_remove_HEATM_protein.pdb\n",
      "[OK] saved: /workspace/datasets/PDBbind2016/refined/4o0b/4o0b_remove_HEATM_protein.pdb\n"
     ]
    },
    {
     "name": "stderr",
     "output_type": "stream",
     "text": [
      "/opt/conda/envs/team05/lib/python3.10/site-packages/Bio/PDB/PDBParser.py:388: PDBConstructionWarning: Ignoring unrecognized record 'TER' at line 1671\n",
      "  warnings.warn(\n",
      "/opt/conda/envs/team05/lib/python3.10/site-packages/Bio/PDB/PDBParser.py:388: PDBConstructionWarning: Ignoring unrecognized record 'TER' at line 3302\n",
      "  warnings.warn(\n",
      "/opt/conda/envs/team05/lib/python3.10/site-packages/Bio/PDB/PDBParser.py:388: PDBConstructionWarning: Ignoring unrecognized record 'TER' at line 5092\n",
      "  warnings.warn(\n",
      "/opt/conda/envs/team05/lib/python3.10/site-packages/Bio/PDB/PDBParser.py:388: PDBConstructionWarning: Ignoring unrecognized record 'TER' at line 6744\n",
      "  warnings.warn(\n",
      "/opt/conda/envs/team05/lib/python3.10/site-packages/Bio/PDB/PDBParser.py:388: PDBConstructionWarning: Ignoring unrecognized record 'END' at line 7080\n",
      "  warnings.warn(\n"
     ]
    },
    {
     "name": "stdout",
     "output_type": "stream",
     "text": [
      "[OK] saved: /workspace/datasets/PDBbind2016/refined/1swg/1swg_remove_HEATM_protein.pdb\n"
     ]
    },
    {
     "name": "stderr",
     "output_type": "stream",
     "text": [
      "/opt/conda/envs/team05/lib/python3.10/site-packages/Bio/PDB/PDBParser.py:388: PDBConstructionWarning: Ignoring unrecognized record 'TER' at line 16129\n",
      "  warnings.warn(\n",
      "/opt/conda/envs/team05/lib/python3.10/site-packages/Bio/PDB/PDBParser.py:388: PDBConstructionWarning: Ignoring unrecognized record 'TER' at line 31943\n",
      "  warnings.warn(\n",
      "/opt/conda/envs/team05/lib/python3.10/site-packages/Bio/PDB/PDBParser.py:388: PDBConstructionWarning: Ignoring unrecognized record 'TER' at line 47757\n",
      "  warnings.warn(\n",
      "/opt/conda/envs/team05/lib/python3.10/site-packages/Bio/PDB/PDBParser.py:388: PDBConstructionWarning: Ignoring unrecognized record 'TER' at line 63571\n",
      "  warnings.warn(\n"
     ]
    },
    {
     "name": "stdout",
     "output_type": "stream",
     "text": [
      "[OK] saved: /workspace/datasets/PDBbind2016/refined/1px4/1px4_remove_HEATM_protein.pdb\n"
     ]
    },
    {
     "name": "stderr",
     "output_type": "stream",
     "text": [
      "/opt/conda/envs/team05/lib/python3.10/site-packages/Bio/PDB/PDBParser.py:388: PDBConstructionWarning: Ignoring unrecognized record 'TER' at line 1582\n",
      "  warnings.warn(\n",
      "/opt/conda/envs/team05/lib/python3.10/site-packages/Bio/PDB/PDBParser.py:388: PDBConstructionWarning: Ignoring unrecognized record 'TER' at line 3145\n",
      "  warnings.warn(\n",
      "/opt/conda/envs/team05/lib/python3.10/site-packages/Bio/PDB/PDBParser.py:388: PDBConstructionWarning: Ignoring unrecognized record 'END' at line 3321\n",
      "  warnings.warn(\n"
     ]
    },
    {
     "name": "stdout",
     "output_type": "stream",
     "text": [
      "[OK] saved: /workspace/datasets/PDBbind2016/refined/2i4x/2i4x_remove_HEATM_protein.pdb\n"
     ]
    },
    {
     "name": "stderr",
     "output_type": "stream",
     "text": [
      "/opt/conda/envs/team05/lib/python3.10/site-packages/Bio/PDB/PDBParser.py:388: PDBConstructionWarning: Ignoring unrecognized record 'TER' at line 4898\n",
      "  warnings.warn(\n",
      "/opt/conda/envs/team05/lib/python3.10/site-packages/Bio/PDB/PDBParser.py:388: PDBConstructionWarning: Ignoring unrecognized record 'TER' at line 9082\n",
      "  warnings.warn(\n",
      "/opt/conda/envs/team05/lib/python3.10/site-packages/Bio/PDB/PDBParser.py:388: PDBConstructionWarning: Ignoring unrecognized record 'TER' at line 2416\n",
      "  warnings.warn(\n"
     ]
    },
    {
     "name": "stdout",
     "output_type": "stream",
     "text": [
      "[OK] saved: /workspace/datasets/PDBbind2016/refined/4bco/4bco_remove_HEATM_protein.pdb\n",
      "[OK] saved: /workspace/datasets/PDBbind2016/refined/3f19/3f19_remove_HEATM_protein.pdb\n"
     ]
    },
    {
     "name": "stderr",
     "output_type": "stream",
     "text": [
      "/opt/conda/envs/team05/lib/python3.10/site-packages/Bio/PDB/PDBParser.py:388: PDBConstructionWarning: Ignoring unrecognized record 'TER' at line 5170\n",
      "  warnings.warn(\n",
      "/opt/conda/envs/team05/lib/python3.10/site-packages/Bio/PDB/PDBParser.py:388: PDBConstructionWarning: Ignoring unrecognized record 'TER' at line 10283\n",
      "  warnings.warn(\n",
      "/opt/conda/envs/team05/lib/python3.10/site-packages/Bio/PDB/PDBParser.py:388: PDBConstructionWarning: Ignoring unrecognized record 'TER' at line 15427\n",
      "  warnings.warn(\n",
      "/opt/conda/envs/team05/lib/python3.10/site-packages/Bio/PDB/PDBParser.py:388: PDBConstructionWarning: Ignoring unrecognized record 'TER' at line 20558\n",
      "  warnings.warn(\n",
      "/opt/conda/envs/team05/lib/python3.10/site-packages/Bio/PDB/PDBParser.py:388: PDBConstructionWarning: Ignoring unrecognized record 'END' at line 21317\n",
      "  warnings.warn(\n"
     ]
    },
    {
     "name": "stdout",
     "output_type": "stream",
     "text": [
      "[OK] saved: /workspace/datasets/PDBbind2016/refined/4aji/4aji_remove_HEATM_protein.pdb\n",
      "[OK] saved: /workspace/datasets/PDBbind2016/refined/1sh9/1sh9_remove_HEATM_protein.pdb\n",
      "[OK] saved: /workspace/datasets/PDBbind2016/refined/3v2p/3v2p_remove_HEATM_protein.pdb\n"
     ]
    },
    {
     "name": "stderr",
     "output_type": "stream",
     "text": [
      "/opt/conda/envs/team05/lib/python3.10/site-packages/Bio/PDB/PDBParser.py:388: PDBConstructionWarning: Ignoring unrecognized record 'TER' at line 1576\n",
      "  warnings.warn(\n",
      "/opt/conda/envs/team05/lib/python3.10/site-packages/Bio/PDB/PDBParser.py:388: PDBConstructionWarning: Ignoring unrecognized record 'TER' at line 3133\n",
      "  warnings.warn(\n",
      "/opt/conda/envs/team05/lib/python3.10/site-packages/Bio/PDB/PDBParser.py:388: PDBConstructionWarning: Ignoring unrecognized record 'END' at line 3168\n",
      "  warnings.warn(\n",
      "/opt/conda/envs/team05/lib/python3.10/site-packages/Bio/PDB/PDBParser.py:388: PDBConstructionWarning: Ignoring unrecognized record 'TER' at line 760\n",
      "  warnings.warn(\n",
      "/opt/conda/envs/team05/lib/python3.10/site-packages/Bio/PDB/PDBParser.py:388: PDBConstructionWarning: Ignoring unrecognized record 'TER' at line 1493\n",
      "  warnings.warn(\n",
      "/opt/conda/envs/team05/lib/python3.10/site-packages/Bio/PDB/PDBParser.py:388: PDBConstructionWarning: Ignoring unrecognized record 'TER' at line 2226\n",
      "  warnings.warn(\n",
      "/opt/conda/envs/team05/lib/python3.10/site-packages/Bio/PDB/PDBParser.py:388: PDBConstructionWarning: Ignoring unrecognized record 'TER' at line 2959\n",
      "  warnings.warn(\n",
      "/opt/conda/envs/team05/lib/python3.10/site-packages/Bio/PDB/PDBParser.py:388: PDBConstructionWarning: Ignoring unrecognized record 'TER' at line 3692\n",
      "  warnings.warn(\n",
      "/opt/conda/envs/team05/lib/python3.10/site-packages/Bio/PDB/PDBParser.py:388: PDBConstructionWarning: Ignoring unrecognized record 'TER' at line 3812\n",
      "  warnings.warn(\n",
      "/opt/conda/envs/team05/lib/python3.10/site-packages/Bio/PDB/PDBParser.py:388: PDBConstructionWarning: Ignoring unrecognized record 'TER' at line 7674\n",
      "  warnings.warn(\n",
      "/opt/conda/envs/team05/lib/python3.10/site-packages/Bio/PDB/PDBParser.py:388: PDBConstructionWarning: Ignoring unrecognized record 'END' at line 8162\n",
      "  warnings.warn(\n"
     ]
    },
    {
     "name": "stdout",
     "output_type": "stream",
     "text": [
      "[OK] saved: /workspace/datasets/PDBbind2016/refined/3bxg/3bxg_remove_HEATM_protein.pdb\n"
     ]
    },
    {
     "name": "stderr",
     "output_type": "stream",
     "text": [
      "/opt/conda/envs/team05/lib/python3.10/site-packages/Bio/PDB/PDBParser.py:388: PDBConstructionWarning: Ignoring unrecognized record 'TER' at line 2696\n",
      "  warnings.warn(\n",
      "/opt/conda/envs/team05/lib/python3.10/site-packages/Bio/PDB/PDBParser.py:388: PDBConstructionWarning: Ignoring unrecognized record 'TER' at line 5321\n",
      "  warnings.warn(\n",
      "/opt/conda/envs/team05/lib/python3.10/site-packages/Bio/PDB/PDBParser.py:388: PDBConstructionWarning: Ignoring unrecognized record 'TER' at line 7946\n",
      "  warnings.warn(\n",
      "/opt/conda/envs/team05/lib/python3.10/site-packages/Bio/PDB/PDBParser.py:388: PDBConstructionWarning: Ignoring unrecognized record 'TER' at line 10571\n",
      "  warnings.warn(\n"
     ]
    },
    {
     "name": "stdout",
     "output_type": "stream",
     "text": [
      "[OK] saved: /workspace/datasets/PDBbind2016/refined/4fnn/4fnn_remove_HEATM_protein.pdb\n"
     ]
    },
    {
     "name": "stderr",
     "output_type": "stream",
     "text": [
      "/opt/conda/envs/team05/lib/python3.10/site-packages/Bio/PDB/PDBParser.py:388: PDBConstructionWarning: Ignoring unrecognized record 'TER' at line 3512\n",
      "  warnings.warn(\n",
      "/opt/conda/envs/team05/lib/python3.10/site-packages/Bio/PDB/PDBParser.py:388: PDBConstructionWarning: Ignoring unrecognized record 'TER' at line 6963\n",
      "  warnings.warn(\n"
     ]
    },
    {
     "name": "stdout",
     "output_type": "stream",
     "text": [
      "[OK] saved: /workspace/datasets/PDBbind2016/refined/4q4s/4q4s_remove_HEATM_protein.pdb\n"
     ]
    },
    {
     "name": "stderr",
     "output_type": "stream",
     "text": [
      "/opt/conda/envs/team05/lib/python3.10/site-packages/Bio/PDB/PDBParser.py:388: PDBConstructionWarning: Ignoring unrecognized record 'TER' at line 4837\n",
      "  warnings.warn(\n",
      "/opt/conda/envs/team05/lib/python3.10/site-packages/Bio/PDB/PDBParser.py:388: PDBConstructionWarning: Ignoring unrecognized record 'TER' at line 9640\n",
      "  warnings.warn(\n"
     ]
    },
    {
     "name": "stdout",
     "output_type": "stream",
     "text": [
      "[OK] saved: /workspace/datasets/PDBbind2016/refined/2iw4/2iw4_remove_HEATM_protein.pdb\n"
     ]
    },
    {
     "name": "stderr",
     "output_type": "stream",
     "text": [
      "/opt/conda/envs/team05/lib/python3.10/site-packages/Bio/PDB/PDBParser.py:388: PDBConstructionWarning: Ignoring unrecognized record 'TER' at line 9376\n",
      "  warnings.warn(\n",
      "/opt/conda/envs/team05/lib/python3.10/site-packages/Bio/PDB/PDBParser.py:388: PDBConstructionWarning: Ignoring unrecognized record 'TER' at line 3309\n",
      "  warnings.warn(\n",
      "/opt/conda/envs/team05/lib/python3.10/site-packages/Bio/PDB/PDBParser.py:388: PDBConstructionWarning: Ignoring unrecognized record 'TER' at line 6526\n",
      "  warnings.warn(\n"
     ]
    },
    {
     "name": "stdout",
     "output_type": "stream",
     "text": [
      "[OK] saved: /workspace/datasets/PDBbind2016/refined/3bkl/3bkl_remove_HEATM_protein.pdb\n"
     ]
    },
    {
     "name": "stderr",
     "output_type": "stream",
     "text": [
      "/opt/conda/envs/team05/lib/python3.10/site-packages/Bio/PDB/PDBParser.py:388: PDBConstructionWarning: Ignoring unrecognized record 'TER' at line 9745\n",
      "  warnings.warn(\n",
      "/opt/conda/envs/team05/lib/python3.10/site-packages/Bio/PDB/PDBParser.py:388: PDBConstructionWarning: Ignoring unrecognized record 'TER' at line 12962\n",
      "  warnings.warn(\n",
      "/opt/conda/envs/team05/lib/python3.10/site-packages/Bio/PDB/PDBParser.py:388: PDBConstructionWarning: Ignoring unrecognized record 'TER' at line 16179\n",
      "  warnings.warn(\n"
     ]
    },
    {
     "name": "stdout",
     "output_type": "stream",
     "text": [
      "[OK] saved: /workspace/datasets/PDBbind2016/refined/2yme/2yme_remove_HEATM_protein.pdb\n",
      "[OK] saved: /workspace/datasets/PDBbind2016/refined/3gxy/3gxy_remove_HEATM_protein.pdb\n"
     ]
    },
    {
     "name": "stderr",
     "output_type": "stream",
     "text": [
      "/opt/conda/envs/team05/lib/python3.10/site-packages/Bio/PDB/PDBParser.py:388: PDBConstructionWarning: Ignoring unrecognized record 'TER' at line 1533\n",
      "  warnings.warn(\n",
      "/opt/conda/envs/team05/lib/python3.10/site-packages/Bio/PDB/PDBParser.py:388: PDBConstructionWarning: Ignoring unrecognized record 'TER' at line 3043\n",
      "  warnings.warn(\n",
      "/opt/conda/envs/team05/lib/python3.10/site-packages/Bio/PDB/PDBParser.py:388: PDBConstructionWarning: Ignoring unrecognized record 'TER' at line 6578\n",
      "  warnings.warn(\n"
     ]
    },
    {
     "name": "stdout",
     "output_type": "stream",
     "text": [
      "[OK] saved: /workspace/datasets/PDBbind2016/refined/2xpc/2xpc_remove_HEATM_protein.pdb\n"
     ]
    },
    {
     "name": "stderr",
     "output_type": "stream",
     "text": [
      "/opt/conda/envs/team05/lib/python3.10/site-packages/Bio/PDB/PDBParser.py:388: PDBConstructionWarning: Ignoring unrecognized record 'TER' at line 5197\n",
      "  warnings.warn(\n",
      "/opt/conda/envs/team05/lib/python3.10/site-packages/Bio/PDB/PDBParser.py:388: PDBConstructionWarning: Ignoring unrecognized record 'TER' at line 10313\n",
      "  warnings.warn(\n",
      "/opt/conda/envs/team05/lib/python3.10/site-packages/Bio/PDB/PDBParser.py:388: PDBConstructionWarning: Ignoring unrecognized record 'TER' at line 15429\n",
      "  warnings.warn(\n"
     ]
    },
    {
     "name": "stdout",
     "output_type": "stream",
     "text": [
      "[OK] saved: /workspace/datasets/PDBbind2016/refined/4hf4/4hf4_remove_HEATM_protein.pdb\n",
      "[OK] saved: /workspace/datasets/PDBbind2016/refined/3djo/3djo_remove_HEATM_protein.pdb\n"
     ]
    },
    {
     "name": "stderr",
     "output_type": "stream",
     "text": [
      "/opt/conda/envs/team05/lib/python3.10/site-packages/Bio/PDB/PDBParser.py:388: PDBConstructionWarning: Ignoring unrecognized record 'TER' at line 1895\n",
      "  warnings.warn(\n",
      "/opt/conda/envs/team05/lib/python3.10/site-packages/Bio/PDB/PDBParser.py:388: PDBConstructionWarning: Ignoring unrecognized record 'TER' at line 3757\n",
      "  warnings.warn(\n",
      "/opt/conda/envs/team05/lib/python3.10/site-packages/Bio/PDB/PDBParser.py:388: PDBConstructionWarning: Ignoring unrecognized record 'TER' at line 7124\n",
      "  warnings.warn(\n",
      "/opt/conda/envs/team05/lib/python3.10/site-packages/Bio/PDB/PDBParser.py:388: PDBConstructionWarning: Ignoring unrecognized record 'END' at line 7439\n",
      "  warnings.warn(\n"
     ]
    },
    {
     "name": "stdout",
     "output_type": "stream",
     "text": [
      "[OK] saved: /workspace/datasets/PDBbind2016/refined/1w3j/1w3j_remove_HEATM_protein.pdb\n",
      "[OK] saved: /workspace/datasets/PDBbind2016/refined/4zbi/4zbi_remove_HEATM_protein.pdb\n"
     ]
    },
    {
     "name": "stderr",
     "output_type": "stream",
     "text": [
      "/opt/conda/envs/team05/lib/python3.10/site-packages/Bio/PDB/PDBParser.py:388: PDBConstructionWarning: Ignoring unrecognized record 'TER' at line 1528\n",
      "  warnings.warn(\n",
      "/opt/conda/envs/team05/lib/python3.10/site-packages/Bio/PDB/PDBParser.py:388: PDBConstructionWarning: Ignoring unrecognized record 'END' at line 1545\n",
      "  warnings.warn(\n",
      "/opt/conda/envs/team05/lib/python3.10/site-packages/Bio/PDB/PDBParser.py:388: PDBConstructionWarning: Ignoring unrecognized record 'TER' at line 3845\n",
      "  warnings.warn(\n",
      "/opt/conda/envs/team05/lib/python3.10/site-packages/Bio/PDB/PDBParser.py:388: PDBConstructionWarning: Ignoring unrecognized record 'END' at line 4012\n",
      "  warnings.warn(\n"
     ]
    },
    {
     "name": "stdout",
     "output_type": "stream",
     "text": [
      "[OK] saved: /workspace/datasets/PDBbind2016/refined/2o4r/2o4r_remove_HEATM_protein.pdb\n",
      "[OK] saved: /workspace/datasets/PDBbind2016/refined/3u6i/3u6i_remove_HEATM_protein.pdb\n"
     ]
    },
    {
     "name": "stderr",
     "output_type": "stream",
     "text": [
      "/opt/conda/envs/team05/lib/python3.10/site-packages/Bio/PDB/PDBParser.py:388: PDBConstructionWarning: Ignoring unrecognized record 'TER' at line 4510\n",
      "  warnings.warn(\n",
      "/opt/conda/envs/team05/lib/python3.10/site-packages/Bio/PDB/PDBParser.py:388: PDBConstructionWarning: Ignoring unrecognized record 'END' at line 4853\n",
      "  warnings.warn(\n",
      "/opt/conda/envs/team05/lib/python3.10/site-packages/Bio/PDB/PDBParser.py:388: PDBConstructionWarning: Ignoring unrecognized record 'TER' at line 4019\n",
      "  warnings.warn(\n"
     ]
    },
    {
     "name": "stdout",
     "output_type": "stream",
     "text": [
      "[OK] saved: /workspace/datasets/PDBbind2016/refined/3m8t/3m8t_remove_HEATM_protein.pdb\n",
      "[OK] saved: /workspace/datasets/PDBbind2016/refined/4ew2/4ew2_remove_HEATM_protein.pdb\n"
     ]
    },
    {
     "name": "stderr",
     "output_type": "stream",
     "text": [
      "/opt/conda/envs/team05/lib/python3.10/site-packages/Bio/PDB/PDBParser.py:388: PDBConstructionWarning: Ignoring unrecognized record 'TER' at line 3141\n",
      "  warnings.warn(\n",
      "/opt/conda/envs/team05/lib/python3.10/site-packages/Bio/PDB/PDBParser.py:388: PDBConstructionWarning: Ignoring unrecognized record 'END' at line 3423\n",
      "  warnings.warn(\n",
      "/opt/conda/envs/team05/lib/python3.10/site-packages/Bio/PDB/PDBParser.py:388: PDBConstructionWarning: Ignoring unrecognized record 'TER' at line 2433\n",
      "  warnings.warn(\n"
     ]
    },
    {
     "name": "stdout",
     "output_type": "stream",
     "text": [
      "[OK] saved: /workspace/datasets/PDBbind2016/refined/3ts4/3ts4_remove_HEATM_protein.pdb\n",
      "[OK] saved: /workspace/datasets/PDBbind2016/refined/1g3e/1g3e_remove_HEATM_protein.pdb\n",
      "[OK] saved: /workspace/datasets/PDBbind2016/refined/4rrg/4rrg_remove_HEATM_protein.pdb\n"
     ]
    },
    {
     "name": "stderr",
     "output_type": "stream",
     "text": [
      "/opt/conda/envs/team05/lib/python3.10/site-packages/Bio/PDB/PDBParser.py:388: PDBConstructionWarning: Ignoring unrecognized record 'TER' at line 3245\n",
      "  warnings.warn(\n",
      "/opt/conda/envs/team05/lib/python3.10/site-packages/Bio/PDB/PDBParser.py:388: PDBConstructionWarning: Ignoring unrecognized record 'TER' at line 1352\n",
      "  warnings.warn(\n",
      "/opt/conda/envs/team05/lib/python3.10/site-packages/Bio/PDB/PDBParser.py:388: PDBConstructionWarning: Ignoring unrecognized record 'TER' at line 2679\n",
      "  warnings.warn(\n",
      "/opt/conda/envs/team05/lib/python3.10/site-packages/Bio/PDB/PDBParser.py:388: PDBConstructionWarning: Ignoring unrecognized record 'END' at line 2791\n",
      "  warnings.warn(\n",
      "/opt/conda/envs/team05/lib/python3.10/site-packages/Bio/PDB/PDBParser.py:388: PDBConstructionWarning: Ignoring unrecognized record 'TER' at line 4067\n",
      "  warnings.warn(\n"
     ]
    },
    {
     "name": "stdout",
     "output_type": "stream",
     "text": [
      "[OK] saved: /workspace/datasets/PDBbind2016/refined/3r17/3r17_remove_HEATM_protein.pdb\n"
     ]
    },
    {
     "name": "stderr",
     "output_type": "stream",
     "text": [
      "/opt/conda/envs/team05/lib/python3.10/site-packages/Bio/PDB/PDBParser.py:388: PDBConstructionWarning: Ignoring unrecognized record 'TER' at line 1798\n",
      "  warnings.warn(\n",
      "/opt/conda/envs/team05/lib/python3.10/site-packages/Bio/PDB/PDBParser.py:388: PDBConstructionWarning: Ignoring unrecognized record 'TER' at line 3509\n",
      "  warnings.warn(\n",
      "/opt/conda/envs/team05/lib/python3.10/site-packages/Bio/PDB/PDBParser.py:388: PDBConstructionWarning: Ignoring unrecognized record 'TER' at line 5268\n",
      "  warnings.warn(\n",
      "/opt/conda/envs/team05/lib/python3.10/site-packages/Bio/PDB/PDBParser.py:388: PDBConstructionWarning: Ignoring unrecognized record 'TER' at line 6979\n",
      "  warnings.warn(\n",
      "/opt/conda/envs/team05/lib/python3.10/site-packages/Bio/PDB/PDBParser.py:388: PDBConstructionWarning: Ignoring unrecognized record 'END' at line 7281\n",
      "  warnings.warn(\n",
      "/opt/conda/envs/team05/lib/python3.10/site-packages/Bio/PDB/PDBParser.py:388: PDBConstructionWarning: Ignoring unrecognized record 'TER' at line 1545\n",
      "  warnings.warn(\n"
     ]
    },
    {
     "name": "stdout",
     "output_type": "stream",
     "text": [
      "[OK] saved: /workspace/datasets/PDBbind2016/refined/1e4h/1e4h_remove_HEATM_protein.pdb\n",
      "[OK] saved: /workspace/datasets/PDBbind2016/refined/2qi6/2qi6_remove_HEATM_protein.pdb\n",
      "[OK] saved: /workspace/datasets/PDBbind2016/refined/3lzu/3lzu_remove_HEATM_protein.pdb\n"
     ]
    },
    {
     "name": "stderr",
     "output_type": "stream",
     "text": [
      "/opt/conda/envs/team05/lib/python3.10/site-packages/Bio/PDB/PDBParser.py:388: PDBConstructionWarning: Ignoring unrecognized record 'TER' at line 3071\n",
      "  warnings.warn(\n",
      "/opt/conda/envs/team05/lib/python3.10/site-packages/Bio/PDB/PDBParser.py:388: PDBConstructionWarning: Ignoring unrecognized record 'END' at line 3218\n",
      "  warnings.warn(\n",
      "/opt/conda/envs/team05/lib/python3.10/site-packages/Bio/PDB/PDBParser.py:388: PDBConstructionWarning: Ignoring unrecognized record 'TER' at line 1505\n",
      "  warnings.warn(\n",
      "/opt/conda/envs/team05/lib/python3.10/site-packages/Bio/PDB/PDBParser.py:388: PDBConstructionWarning: Ignoring unrecognized record 'TER' at line 3020\n",
      "  warnings.warn(\n",
      "/opt/conda/envs/team05/lib/python3.10/site-packages/Bio/PDB/PDBParser.py:388: PDBConstructionWarning: Ignoring unrecognized record 'END' at line 3101\n",
      "  warnings.warn(\n",
      "/opt/conda/envs/team05/lib/python3.10/site-packages/Bio/PDB/PDBParser.py:388: PDBConstructionWarning: Ignoring unrecognized record 'TER' at line 3287\n",
      "  warnings.warn(\n",
      "/opt/conda/envs/team05/lib/python3.10/site-packages/Bio/PDB/PDBParser.py:388: PDBConstructionWarning: Ignoring unrecognized record 'TER' at line 1757\n",
      "  warnings.warn(\n",
      "/opt/conda/envs/team05/lib/python3.10/site-packages/Bio/PDB/PDBParser.py:388: PDBConstructionWarning: Ignoring unrecognized record 'END' at line 1880\n",
      "  warnings.warn(\n",
      "/opt/conda/envs/team05/lib/python3.10/site-packages/Bio/PDB/PDBParser.py:388: PDBConstructionWarning: Ignoring unrecognized record 'TER' at line 4454\n",
      "  warnings.warn(\n"
     ]
    },
    {
     "name": "stdout",
     "output_type": "stream",
     "text": [
      "[OK] saved: /workspace/datasets/PDBbind2016/refined/1j16/1j16_remove_HEATM_protein.pdb\n",
      "[OK] saved: /workspace/datasets/PDBbind2016/refined/5efa/5efa_remove_HEATM_protein.pdb\n"
     ]
    },
    {
     "name": "stderr",
     "output_type": "stream",
     "text": [
      "/opt/conda/envs/team05/lib/python3.10/site-packages/Bio/PDB/PDBParser.py:388: PDBConstructionWarning: Ignoring unrecognized record 'TER' at line 8839\n",
      "  warnings.warn(\n",
      "/opt/conda/envs/team05/lib/python3.10/site-packages/Bio/PDB/PDBParser.py:388: PDBConstructionWarning: Ignoring unrecognized record 'TER' at line 13224\n",
      "  warnings.warn(\n",
      "/opt/conda/envs/team05/lib/python3.10/site-packages/Bio/PDB/PDBParser.py:388: PDBConstructionWarning: Ignoring unrecognized record 'END' at line 13297\n",
      "  warnings.warn(\n",
      "/opt/conda/envs/team05/lib/python3.10/site-packages/Bio/PDB/PDBParser.py:388: PDBConstructionWarning: Ignoring unrecognized record 'TER' at line 1823\n",
      "  warnings.warn(\n"
     ]
    },
    {
     "name": "stdout",
     "output_type": "stream",
     "text": [
      "[OK] saved: /workspace/datasets/PDBbind2016/refined/1rr6/1rr6_remove_HEATM_protein.pdb\n",
      "[OK] saved: /workspace/datasets/PDBbind2016/refined/2xbp/2xbp_remove_HEATM_protein.pdb\n"
     ]
    },
    {
     "name": "stderr",
     "output_type": "stream",
     "text": [
      "/opt/conda/envs/team05/lib/python3.10/site-packages/Bio/PDB/PDBParser.py:388: PDBConstructionWarning: Ignoring unrecognized record 'TER' at line 3616\n",
      "  warnings.warn(\n",
      "/opt/conda/envs/team05/lib/python3.10/site-packages/Bio/PDB/PDBParser.py:388: PDBConstructionWarning: Ignoring unrecognized record 'TER' at line 5409\n",
      "  warnings.warn(\n",
      "/opt/conda/envs/team05/lib/python3.10/site-packages/Bio/PDB/PDBParser.py:388: PDBConstructionWarning: Ignoring unrecognized record 'TER' at line 493\n",
      "  warnings.warn(\n",
      "/opt/conda/envs/team05/lib/python3.10/site-packages/Bio/PDB/PDBParser.py:388: PDBConstructionWarning: Ignoring unrecognized record 'TER' at line 4521\n",
      "  warnings.warn(\n"
     ]
    },
    {
     "name": "stdout",
     "output_type": "stream",
     "text": [
      "[OK] saved: /workspace/datasets/PDBbind2016/refined/1d4p/1d4p_remove_HEATM_protein.pdb\n",
      "[OK] saved: /workspace/datasets/PDBbind2016/refined/1g74/1g74_remove_HEATM_protein.pdb\n"
     ]
    },
    {
     "name": "stderr",
     "output_type": "stream",
     "text": [
      "/opt/conda/envs/team05/lib/python3.10/site-packages/Bio/PDB/PDBParser.py:388: PDBConstructionWarning: Ignoring unrecognized record 'TER' at line 2069\n",
      "  warnings.warn(\n",
      "/opt/conda/envs/team05/lib/python3.10/site-packages/Bio/PDB/PDBParser.py:388: PDBConstructionWarning: Ignoring unrecognized record 'END' at line 2189\n",
      "  warnings.warn(\n",
      "/opt/conda/envs/team05/lib/python3.10/site-packages/Bio/PDB/PDBParser.py:388: PDBConstructionWarning: Ignoring unrecognized record 'TER' at line 7637\n",
      "  warnings.warn(\n"
     ]
    },
    {
     "name": "stdout",
     "output_type": "stream",
     "text": [
      "[OK] saved: /workspace/datasets/PDBbind2016/refined/1hp5/1hp5_remove_HEATM_protein.pdb\n",
      "[OK] saved: /workspace/datasets/PDBbind2016/refined/2oiq/2oiq_remove_HEATM_protein.pdb\n"
     ]
    },
    {
     "name": "stderr",
     "output_type": "stream",
     "text": [
      "/opt/conda/envs/team05/lib/python3.10/site-packages/Bio/PDB/PDBParser.py:388: PDBConstructionWarning: Ignoring unrecognized record 'TER' at line 4269\n",
      "  warnings.warn(\n",
      "/opt/conda/envs/team05/lib/python3.10/site-packages/Bio/PDB/PDBParser.py:388: PDBConstructionWarning: Ignoring unrecognized record 'END' at line 4406\n",
      "  warnings.warn(\n",
      "/opt/conda/envs/team05/lib/python3.10/site-packages/Bio/PDB/PDBParser.py:388: PDBConstructionWarning: Ignoring unrecognized record 'TER' at line 2137\n",
      "  warnings.warn(\n",
      "/opt/conda/envs/team05/lib/python3.10/site-packages/Bio/PDB/PDBParser.py:388: PDBConstructionWarning: Ignoring unrecognized record 'END' at line 2200\n",
      "  warnings.warn(\n"
     ]
    },
    {
     "name": "stdout",
     "output_type": "stream",
     "text": [
      "[OK] saved: /workspace/datasets/PDBbind2016/refined/4o9w/4o9w_remove_HEATM_protein.pdb\n",
      "[OK] saved: /workspace/datasets/PDBbind2016/refined/4xty/4xty_remove_HEATM_protein.pdb\n",
      "[OK] saved: /workspace/datasets/PDBbind2016/refined/4b2l/4b2l_remove_HEATM_protein.pdb\n"
     ]
    },
    {
     "name": "stderr",
     "output_type": "stream",
     "text": [
      "/opt/conda/envs/team05/lib/python3.10/site-packages/Bio/PDB/PDBParser.py:388: PDBConstructionWarning: Ignoring unrecognized record 'TER' at line 2441\n",
      "  warnings.warn(\n",
      "/opt/conda/envs/team05/lib/python3.10/site-packages/Bio/PDB/PDBParser.py:388: PDBConstructionWarning: Ignoring unrecognized record 'END' at line 2615\n",
      "  warnings.warn(\n",
      "/opt/conda/envs/team05/lib/python3.10/site-packages/Bio/PDB/PDBParser.py:388: PDBConstructionWarning: Ignoring unrecognized record 'TER' at line 3477\n",
      "  warnings.warn(\n",
      "/opt/conda/envs/team05/lib/python3.10/site-packages/Bio/PDB/PDBParser.py:388: PDBConstructionWarning: Ignoring unrecognized record 'END' at line 3757\n",
      "  warnings.warn(\n",
      "/opt/conda/envs/team05/lib/python3.10/site-packages/Bio/PDB/PDBParser.py:388: PDBConstructionWarning: Ignoring unrecognized record 'TER' at line 4699\n",
      "  warnings.warn(\n",
      "/opt/conda/envs/team05/lib/python3.10/site-packages/Bio/PDB/PDBParser.py:388: PDBConstructionWarning: Ignoring unrecognized record 'TER' at line 1792\n",
      "  warnings.warn(\n"
     ]
    },
    {
     "name": "stdout",
     "output_type": "stream",
     "text": [
      "[OK] saved: /workspace/datasets/PDBbind2016/refined/5er2/5er2_remove_HEATM_protein.pdb\n",
      "[OK] saved: /workspace/datasets/PDBbind2016/refined/2vzr/2vzr_remove_HEATM_protein.pdb\n"
     ]
    },
    {
     "name": "stderr",
     "output_type": "stream",
     "text": [
      "/opt/conda/envs/team05/lib/python3.10/site-packages/Bio/PDB/PDBParser.py:388: PDBConstructionWarning: Ignoring unrecognized record 'TER' at line 5841\n",
      "  warnings.warn(\n",
      "/opt/conda/envs/team05/lib/python3.10/site-packages/Bio/PDB/PDBParser.py:388: PDBConstructionWarning: Ignoring unrecognized record 'TER' at line 2113\n",
      "  warnings.warn(\n",
      "/opt/conda/envs/team05/lib/python3.10/site-packages/Bio/PDB/PDBParser.py:388: PDBConstructionWarning: Ignoring unrecognized record 'TER' at line 4251\n",
      "  warnings.warn(\n"
     ]
    },
    {
     "name": "stdout",
     "output_type": "stream",
     "text": [
      "[OK] saved: /workspace/datasets/PDBbind2016/refined/3rm9/3rm9_remove_HEATM_protein.pdb\n",
      "[OK] saved: /workspace/datasets/PDBbind2016/refined/3ao5/3ao5_remove_HEATM_protein.pdb\n"
     ]
    },
    {
     "name": "stderr",
     "output_type": "stream",
     "text": [
      "/opt/conda/envs/team05/lib/python3.10/site-packages/Bio/PDB/PDBParser.py:388: PDBConstructionWarning: Ignoring unrecognized record 'TER' at line 6804\n",
      "  warnings.warn(\n",
      "/opt/conda/envs/team05/lib/python3.10/site-packages/Bio/PDB/PDBParser.py:388: PDBConstructionWarning: Ignoring unrecognized record 'TER' at line 3851\n",
      "  warnings.warn(\n"
     ]
    },
    {
     "name": "stdout",
     "output_type": "stream",
     "text": [
      "[OK] saved: /workspace/datasets/PDBbind2016/refined/4ayq/4ayq_remove_HEATM_protein.pdb\n",
      "[OK] saved: /workspace/datasets/PDBbind2016/refined/2q89/2q89_remove_HEATM_protein.pdb\n",
      "[OK] saved: /workspace/datasets/PDBbind2016/refined/4auj/4auj_remove_HEATM_protein.pdb\n"
     ]
    },
    {
     "name": "stderr",
     "output_type": "stream",
     "text": [
      "/opt/conda/envs/team05/lib/python3.10/site-packages/Bio/PDB/PDBParser.py:388: PDBConstructionWarning: Ignoring unrecognized record 'TER' at line 2368\n",
      "  warnings.warn(\n",
      "/opt/conda/envs/team05/lib/python3.10/site-packages/Bio/PDB/PDBParser.py:388: PDBConstructionWarning: Ignoring unrecognized record 'TER' at line 3828\n",
      "  warnings.warn(\n",
      "/opt/conda/envs/team05/lib/python3.10/site-packages/Bio/PDB/PDBParser.py:388: PDBConstructionWarning: Ignoring unrecognized record 'TER' at line 7690\n",
      "  warnings.warn(\n",
      "/opt/conda/envs/team05/lib/python3.10/site-packages/Bio/PDB/PDBParser.py:388: PDBConstructionWarning: Ignoring unrecognized record 'END' at line 8294\n",
      "  warnings.warn(\n",
      "/opt/conda/envs/team05/lib/python3.10/site-packages/Bio/PDB/PDBParser.py:388: PDBConstructionWarning: Ignoring unrecognized record 'TER' at line 2507\n",
      "  warnings.warn(\n"
     ]
    },
    {
     "name": "stdout",
     "output_type": "stream",
     "text": [
      "[OK] saved: /workspace/datasets/PDBbind2016/refined/3bxe/3bxe_remove_HEATM_protein.pdb\n",
      "[OK] saved: /workspace/datasets/PDBbind2016/refined/4rux/4rux_remove_HEATM_protein.pdb\n",
      "[OK] saved: /workspace/datasets/PDBbind2016/refined/4e4n/4e4n_remove_HEATM_protein.pdb\n"
     ]
    },
    {
     "name": "stderr",
     "output_type": "stream",
     "text": [
      "/opt/conda/envs/team05/lib/python3.10/site-packages/Bio/PDB/PDBParser.py:388: PDBConstructionWarning: Ignoring unrecognized record 'TER' at line 4783\n",
      "  warnings.warn(\n",
      "/opt/conda/envs/team05/lib/python3.10/site-packages/Bio/PDB/PDBParser.py:388: PDBConstructionWarning: Ignoring unrecognized record 'TER' at line 7631\n",
      "  warnings.warn(\n",
      "/opt/conda/envs/team05/lib/python3.10/site-packages/Bio/PDB/PDBParser.py:388: PDBConstructionWarning: Ignoring unrecognized record 'TER' at line 2316\n",
      "  warnings.warn(\n",
      "/opt/conda/envs/team05/lib/python3.10/site-packages/Bio/PDB/PDBParser.py:388: PDBConstructionWarning: Ignoring unrecognized record 'END' at line 2473\n",
      "  warnings.warn(\n",
      "/opt/conda/envs/team05/lib/python3.10/site-packages/Bio/PDB/PDBParser.py:388: PDBConstructionWarning: Ignoring unrecognized record 'TER' at line 2582\n",
      "  warnings.warn(\n"
     ]
    },
    {
     "name": "stdout",
     "output_type": "stream",
     "text": [
      "[OK] saved: /workspace/datasets/PDBbind2016/refined/1jfh/1jfh_remove_HEATM_protein.pdb\n",
      "[OK] saved: /workspace/datasets/PDBbind2016/refined/3obu/3obu_remove_HEATM_protein.pdb\n",
      "[OK] saved: /workspace/datasets/PDBbind2016/refined/2gj5/2gj5_remove_HEATM_protein.pdb\n"
     ]
    },
    {
     "name": "stderr",
     "output_type": "stream",
     "text": [
      "/opt/conda/envs/team05/lib/python3.10/site-packages/Bio/PDB/PDBParser.py:388: PDBConstructionWarning: Ignoring unrecognized record 'TER' at line 9546\n",
      "  warnings.warn(\n",
      "/opt/conda/envs/team05/lib/python3.10/site-packages/Bio/PDB/PDBParser.py:388: PDBConstructionWarning: Ignoring unrecognized record 'END' at line 9679\n",
      "  warnings.warn(\n",
      "/opt/conda/envs/team05/lib/python3.10/site-packages/Bio/PDB/PDBParser.py:388: PDBConstructionWarning: Ignoring unrecognized record 'TER' at line 1770\n",
      "  warnings.warn(\n",
      "/opt/conda/envs/team05/lib/python3.10/site-packages/Bio/PDB/PDBParser.py:388: PDBConstructionWarning: Ignoring unrecognized record 'END' at line 1816\n",
      "  warnings.warn(\n"
     ]
    },
    {
     "name": "stdout",
     "output_type": "stream",
     "text": [
      "[OK] saved: /workspace/datasets/PDBbind2016/refined/1dar/1dar_remove_HEATM_protein.pdb\n",
      "[OK] saved: /workspace/datasets/PDBbind2016/refined/4flp/4flp_remove_HEATM_protein.pdb\n"
     ]
    },
    {
     "name": "stderr",
     "output_type": "stream",
     "text": [
      "/opt/conda/envs/team05/lib/python3.10/site-packages/Bio/PDB/PDBParser.py:388: PDBConstructionWarning: Ignoring unrecognized record 'TER' at line 13249\n",
      "  warnings.warn(\n",
      "/opt/conda/envs/team05/lib/python3.10/site-packages/Bio/PDB/PDBParser.py:388: PDBConstructionWarning: Ignoring unrecognized record 'TER' at line 26369\n",
      "  warnings.warn(\n"
     ]
    },
    {
     "name": "stdout",
     "output_type": "stream",
     "text": [
      "[OK] saved: /workspace/datasets/PDBbind2016/refined/3l7d/3l7d_remove_HEATM_protein.pdb\n",
      "[OK] saved: /workspace/datasets/PDBbind2016/refined/1zea/1zea_remove_HEATM_protein.pdb\n"
     ]
    },
    {
     "name": "stderr",
     "output_type": "stream",
     "text": [
      "/opt/conda/envs/team05/lib/python3.10/site-packages/Bio/PDB/PDBParser.py:388: PDBConstructionWarning: Ignoring unrecognized record 'TER' at line 3336\n",
      "  warnings.warn(\n",
      "/opt/conda/envs/team05/lib/python3.10/site-packages/Bio/PDB/PDBParser.py:388: PDBConstructionWarning: Ignoring unrecognized record 'TER' at line 6513\n",
      "  warnings.warn(\n",
      "/opt/conda/envs/team05/lib/python3.10/site-packages/Bio/PDB/PDBParser.py:388: PDBConstructionWarning: Ignoring unrecognized record 'TER' at line 4183\n",
      "  warnings.warn(\n",
      "/opt/conda/envs/team05/lib/python3.10/site-packages/Bio/PDB/PDBParser.py:388: PDBConstructionWarning: Ignoring unrecognized record 'TER' at line 8243\n",
      "  warnings.warn(\n",
      "/opt/conda/envs/team05/lib/python3.10/site-packages/Bio/PDB/PDBParser.py:388: PDBConstructionWarning: Ignoring unrecognized record 'END' at line 8699\n",
      "  warnings.warn(\n",
      "/opt/conda/envs/team05/lib/python3.10/site-packages/Bio/PDB/PDBParser.py:388: PDBConstructionWarning: Ignoring unrecognized record 'TER' at line 1169\n",
      "  warnings.warn(\n",
      "/opt/conda/envs/team05/lib/python3.10/site-packages/Bio/PDB/PDBParser.py:388: PDBConstructionWarning: Ignoring unrecognized record 'TER' at line 2295\n",
      "  warnings.warn(\n",
      "/opt/conda/envs/team05/lib/python3.10/site-packages/Bio/PDB/PDBParser.py:388: PDBConstructionWarning: Ignoring unrecognized record 'TER' at line 3421\n",
      "  warnings.warn(\n",
      "/opt/conda/envs/team05/lib/python3.10/site-packages/Bio/PDB/PDBParser.py:388: PDBConstructionWarning: Ignoring unrecognized record 'TER' at line 4547\n",
      "  warnings.warn(\n",
      "/opt/conda/envs/team05/lib/python3.10/site-packages/Bio/PDB/PDBParser.py:388: PDBConstructionWarning: Ignoring unrecognized record 'END' at line 4961\n",
      "  warnings.warn(\n"
     ]
    },
    {
     "name": "stdout",
     "output_type": "stream",
     "text": [
      "[OK] saved: /workspace/datasets/PDBbind2016/refined/3iod/3iod_remove_HEATM_protein.pdb\n",
      "[OK] saved: /workspace/datasets/PDBbind2016/refined/4y5d/4y5d_remove_HEATM_protein.pdb\n"
     ]
    },
    {
     "name": "stderr",
     "output_type": "stream",
     "text": [
      "/opt/conda/envs/team05/lib/python3.10/site-packages/Bio/PDB/PDBParser.py:388: PDBConstructionWarning: Ignoring unrecognized record 'TER' at line 1514\n",
      "  warnings.warn(\n",
      "/opt/conda/envs/team05/lib/python3.10/site-packages/Bio/PDB/PDBParser.py:388: PDBConstructionWarning: Ignoring unrecognized record 'TER' at line 3027\n",
      "  warnings.warn(\n",
      "/opt/conda/envs/team05/lib/python3.10/site-packages/Bio/PDB/PDBParser.py:388: PDBConstructionWarning: Ignoring unrecognized record 'END' at line 3155\n",
      "  warnings.warn(\n"
     ]
    },
    {
     "name": "stdout",
     "output_type": "stream",
     "text": [
      "[OK] saved: /workspace/datasets/PDBbind2016/refined/3ekp/3ekp_remove_HEATM_protein.pdb\n"
     ]
    },
    {
     "name": "stderr",
     "output_type": "stream",
     "text": [
      "/opt/conda/envs/team05/lib/python3.10/site-packages/Bio/PDB/PDBParser.py:388: PDBConstructionWarning: Ignoring unrecognized record 'TER' at line 6023\n",
      "  warnings.warn(\n",
      "/opt/conda/envs/team05/lib/python3.10/site-packages/Bio/PDB/PDBParser.py:388: PDBConstructionWarning: Ignoring unrecognized record 'END' at line 6600\n",
      "  warnings.warn(\n",
      "/opt/conda/envs/team05/lib/python3.10/site-packages/Bio/PDB/PDBParser.py:388: PDBConstructionWarning: Ignoring unrecognized record 'TER' at line 3174\n",
      "  warnings.warn(\n",
      "/opt/conda/envs/team05/lib/python3.10/site-packages/Bio/PDB/PDBParser.py:388: PDBConstructionWarning: Ignoring unrecognized record 'TER' at line 6466\n",
      "  warnings.warn(\n",
      "/opt/conda/envs/team05/lib/python3.10/site-packages/Bio/PDB/PDBParser.py:388: PDBConstructionWarning: Ignoring unrecognized record 'END' at line 6647\n",
      "  warnings.warn(\n"
     ]
    },
    {
     "name": "stdout",
     "output_type": "stream",
     "text": [
      "[OK] saved: /workspace/datasets/PDBbind2016/refined/1w9v/1w9v_remove_HEATM_protein.pdb\n",
      "[OK] saved: /workspace/datasets/PDBbind2016/refined/1lol/1lol_remove_HEATM_protein.pdb\n"
     ]
    },
    {
     "name": "stderr",
     "output_type": "stream",
     "text": [
      "/opt/conda/envs/team05/lib/python3.10/site-packages/Bio/PDB/PDBParser.py:388: PDBConstructionWarning: Ignoring unrecognized record 'TER' at line 3377\n",
      "  warnings.warn(\n",
      "/opt/conda/envs/team05/lib/python3.10/site-packages/Bio/PDB/PDBParser.py:388: PDBConstructionWarning: Ignoring unrecognized record 'TER' at line 6715\n",
      "  warnings.warn(\n",
      "/opt/conda/envs/team05/lib/python3.10/site-packages/Bio/PDB/PDBParser.py:388: PDBConstructionWarning: Ignoring unrecognized record 'END' at line 6931\n",
      "  warnings.warn(\n"
     ]
    },
    {
     "name": "stdout",
     "output_type": "stream",
     "text": [
      "[OK] saved: /workspace/datasets/PDBbind2016/refined/1jys/1jys_remove_HEATM_protein.pdb\n"
     ]
    },
    {
     "name": "stderr",
     "output_type": "stream",
     "text": [
      "/opt/conda/envs/team05/lib/python3.10/site-packages/Bio/PDB/PDBParser.py:388: PDBConstructionWarning: Ignoring unrecognized record 'TER' at line 10942\n",
      "  warnings.warn(\n",
      "/opt/conda/envs/team05/lib/python3.10/site-packages/Bio/PDB/PDBParser.py:388: PDBConstructionWarning: Ignoring unrecognized record 'TER' at line 21773\n",
      "  warnings.warn(\n"
     ]
    },
    {
     "name": "stdout",
     "output_type": "stream",
     "text": [
      "[OK] saved: /workspace/datasets/PDBbind2016/refined/3rbu/3rbu_remove_HEATM_protein.pdb\n",
      "[OK] saved: /workspace/datasets/PDBbind2016/refined/4ht0/4ht0_remove_HEATM_protein.pdb\n"
     ]
    },
    {
     "name": "stderr",
     "output_type": "stream",
     "text": [
      "/opt/conda/envs/team05/lib/python3.10/site-packages/Bio/PDB/PDBParser.py:388: PDBConstructionWarning: Ignoring unrecognized record 'TER' at line 4067\n",
      "  warnings.warn(\n",
      "/opt/conda/envs/team05/lib/python3.10/site-packages/Bio/PDB/PDBParser.py:388: PDBConstructionWarning: Ignoring unrecognized record 'TER' at line 2771\n",
      "  warnings.warn(\n",
      "/opt/conda/envs/team05/lib/python3.10/site-packages/Bio/PDB/PDBParser.py:388: PDBConstructionWarning: Ignoring unrecognized record 'TER' at line 5589\n",
      "  warnings.warn(\n",
      "/opt/conda/envs/team05/lib/python3.10/site-packages/Bio/PDB/PDBParser.py:388: PDBConstructionWarning: Ignoring unrecognized record 'TER' at line 5472\n",
      "  warnings.warn(\n"
     ]
    },
    {
     "name": "stdout",
     "output_type": "stream",
     "text": [
      "[OK] saved: /workspace/datasets/PDBbind2016/refined/1q54/1q54_remove_HEATM_protein.pdb\n",
      "[OK] saved: /workspace/datasets/PDBbind2016/refined/2pvm/2pvm_remove_HEATM_protein.pdb\n"
     ]
    },
    {
     "name": "stderr",
     "output_type": "stream",
     "text": [
      "/opt/conda/envs/team05/lib/python3.10/site-packages/Bio/PDB/PDBParser.py:388: PDBConstructionWarning: Ignoring unrecognized record 'TER' at line 3175\n",
      "  warnings.warn(\n",
      "/opt/conda/envs/team05/lib/python3.10/site-packages/Bio/PDB/PDBParser.py:388: PDBConstructionWarning: Ignoring unrecognized record 'TER' at line 6240\n",
      "  warnings.warn(\n",
      "/opt/conda/envs/team05/lib/python3.10/site-packages/Bio/PDB/PDBParser.py:388: PDBConstructionWarning: Ignoring unrecognized record 'TER' at line 9301\n",
      "  warnings.warn(\n",
      "/opt/conda/envs/team05/lib/python3.10/site-packages/Bio/PDB/PDBParser.py:388: PDBConstructionWarning: Ignoring unrecognized record 'TER' at line 12363\n",
      "  warnings.warn(\n"
     ]
    },
    {
     "name": "stdout",
     "output_type": "stream",
     "text": [
      "[OK] saved: /workspace/datasets/PDBbind2016/refined/4uma/4uma_remove_HEATM_protein.pdb\n",
      "[OK] saved: /workspace/datasets/PDBbind2016/refined/4b3b/4b3b_remove_HEATM_protein.pdb\n"
     ]
    },
    {
     "name": "stderr",
     "output_type": "stream",
     "text": [
      "/opt/conda/envs/team05/lib/python3.10/site-packages/Bio/PDB/PDBParser.py:388: PDBConstructionWarning: Ignoring unrecognized record 'TER' at line 3542\n",
      "  warnings.warn(\n",
      "/opt/conda/envs/team05/lib/python3.10/site-packages/Bio/PDB/PDBParser.py:388: PDBConstructionWarning: Ignoring unrecognized record 'END' at line 3862\n",
      "  warnings.warn(\n",
      "/opt/conda/envs/team05/lib/python3.10/site-packages/Bio/PDB/PDBParser.py:388: PDBConstructionWarning: Ignoring unrecognized record 'TER' at line 2342\n",
      "  warnings.warn(\n",
      "/opt/conda/envs/team05/lib/python3.10/site-packages/Bio/PDB/PDBParser.py:388: PDBConstructionWarning: Ignoring unrecognized record 'END' at line 2474\n",
      "  warnings.warn(\n"
     ]
    },
    {
     "name": "stdout",
     "output_type": "stream",
     "text": [
      "[OK] saved: /workspace/datasets/PDBbind2016/refined/4g0q/4g0q_remove_HEATM_protein.pdb\n",
      "[OK] saved: /workspace/datasets/PDBbind2016/refined/4zzd/4zzd_remove_HEATM_protein.pdb\n"
     ]
    },
    {
     "name": "stderr",
     "output_type": "stream",
     "text": [
      "/opt/conda/envs/team05/lib/python3.10/site-packages/Bio/PDB/PDBParser.py:388: PDBConstructionWarning: Ignoring unrecognized record 'TER' at line 1021\n",
      "  warnings.warn(\n",
      "/opt/conda/envs/team05/lib/python3.10/site-packages/Bio/PDB/PDBParser.py:388: PDBConstructionWarning: Ignoring unrecognized record 'TER' at line 2023\n",
      "  warnings.warn(\n",
      "/opt/conda/envs/team05/lib/python3.10/site-packages/Bio/PDB/PDBParser.py:388: PDBConstructionWarning: Ignoring unrecognized record 'END' at line 2054\n",
      "  warnings.warn(\n",
      "/opt/conda/envs/team05/lib/python3.10/site-packages/Bio/PDB/PDBParser.py:388: PDBConstructionWarning: Ignoring unrecognized record 'TER' at line 4044\n",
      "  warnings.warn(\n"
     ]
    },
    {
     "name": "stdout",
     "output_type": "stream",
     "text": [
      "[OK] saved: /workspace/datasets/PDBbind2016/refined/2h15/2h15_remove_HEATM_protein.pdb\n",
      "[OK] saved: /workspace/datasets/PDBbind2016/refined/2pvh/2pvh_remove_HEATM_protein.pdb\n"
     ]
    },
    {
     "name": "stderr",
     "output_type": "stream",
     "text": [
      "/opt/conda/envs/team05/lib/python3.10/site-packages/Bio/PDB/PDBParser.py:388: PDBConstructionWarning: Ignoring unrecognized record 'TER' at line 5472\n",
      "  warnings.warn(\n",
      "/opt/conda/envs/team05/lib/python3.10/site-packages/Bio/PDB/PDBParser.py:388: PDBConstructionWarning: Ignoring unrecognized record 'TER' at line 2662\n",
      "  warnings.warn(\n"
     ]
    },
    {
     "name": "stdout",
     "output_type": "stream",
     "text": [
      "[OK] saved: /workspace/datasets/PDBbind2016/refined/1qft/1qft_remove_HEATM_protein.pdb\n",
      "[OK] saved: /workspace/datasets/PDBbind2016/refined/1li3/1li3_remove_HEATM_protein.pdb\n"
     ]
    },
    {
     "name": "stderr",
     "output_type": "stream",
     "text": [
      "/opt/conda/envs/team05/lib/python3.10/site-packages/Bio/PDB/PDBParser.py:388: PDBConstructionWarning: Ignoring unrecognized record 'TER' at line 2616\n",
      "  warnings.warn(\n",
      "/opt/conda/envs/team05/lib/python3.10/site-packages/Bio/PDB/PDBParser.py:388: PDBConstructionWarning: Ignoring unrecognized record 'END' at line 2678\n",
      "  warnings.warn(\n",
      "/opt/conda/envs/team05/lib/python3.10/site-packages/Bio/PDB/PDBParser.py:388: PDBConstructionWarning: Ignoring unrecognized record 'TER' at line 3457\n",
      "  warnings.warn(\n",
      "/opt/conda/envs/team05/lib/python3.10/site-packages/Bio/PDB/PDBParser.py:388: PDBConstructionWarning: Ignoring unrecognized record 'TER' at line 6838\n",
      "  warnings.warn(\n"
     ]
    },
    {
     "name": "stdout",
     "output_type": "stream",
     "text": [
      "[OK] saved: /workspace/datasets/PDBbind2016/refined/4ovf/4ovf_remove_HEATM_protein.pdb\n",
      "[OK] saved: /workspace/datasets/PDBbind2016/refined/4xip/4xip_remove_HEATM_protein.pdb\n"
     ]
    },
    {
     "name": "stderr",
     "output_type": "stream",
     "text": [
      "/opt/conda/envs/team05/lib/python3.10/site-packages/Bio/PDB/PDBParser.py:388: PDBConstructionWarning: Ignoring unrecognized record 'TER' at line 2013\n",
      "  warnings.warn(\n",
      "/opt/conda/envs/team05/lib/python3.10/site-packages/Bio/PDB/PDBParser.py:388: PDBConstructionWarning: Ignoring unrecognized record 'END' at line 2215\n",
      "  warnings.warn(\n",
      "/opt/conda/envs/team05/lib/python3.10/site-packages/Bio/PDB/PDBParser.py:388: PDBConstructionWarning: Ignoring unrecognized record 'TER' at line 3768\n",
      "  warnings.warn(\n",
      "/opt/conda/envs/team05/lib/python3.10/site-packages/Bio/PDB/PDBParser.py:388: PDBConstructionWarning: Ignoring unrecognized record 'TER' at line 7495\n",
      "  warnings.warn(\n"
     ]
    },
    {
     "name": "stdout",
     "output_type": "stream",
     "text": [
      "[OK] saved: /workspace/datasets/PDBbind2016/refined/4bt3/4bt3_remove_HEATM_protein.pdb\n",
      "[OK] saved: /workspace/datasets/PDBbind2016/refined/3lxk/3lxk_remove_HEATM_protein.pdb\n"
     ]
    },
    {
     "name": "stderr",
     "output_type": "stream",
     "text": [
      "/opt/conda/envs/team05/lib/python3.10/site-packages/Bio/PDB/PDBParser.py:388: PDBConstructionWarning: Ignoring unrecognized record 'TER' at line 4425\n",
      "  warnings.warn(\n",
      "/opt/conda/envs/team05/lib/python3.10/site-packages/Bio/PDB/PDBParser.py:388: PDBConstructionWarning: Ignoring unrecognized record 'END' at line 4685\n",
      "  warnings.warn(\n",
      "/opt/conda/envs/team05/lib/python3.10/site-packages/Bio/PDB/PDBParser.py:388: PDBConstructionWarning: Ignoring unrecognized record 'TER' at line 1003\n",
      "  warnings.warn(\n",
      "/opt/conda/envs/team05/lib/python3.10/site-packages/Bio/PDB/PDBParser.py:388: PDBConstructionWarning: Ignoring unrecognized record 'TER' at line 1968\n",
      "  warnings.warn(\n",
      "/opt/conda/envs/team05/lib/python3.10/site-packages/Bio/PDB/PDBParser.py:388: PDBConstructionWarning: Ignoring unrecognized record 'TER' at line 2933\n",
      "  warnings.warn(\n",
      "/opt/conda/envs/team05/lib/python3.10/site-packages/Bio/PDB/PDBParser.py:388: PDBConstructionWarning: Ignoring unrecognized record 'TER' at line 3898\n",
      "  warnings.warn(\n",
      "/opt/conda/envs/team05/lib/python3.10/site-packages/Bio/PDB/PDBParser.py:388: PDBConstructionWarning: Ignoring unrecognized record 'TER' at line 4863\n",
      "  warnings.warn(\n",
      "/opt/conda/envs/team05/lib/python3.10/site-packages/Bio/PDB/PDBParser.py:388: PDBConstructionWarning: Ignoring unrecognized record 'TER' at line 5828\n",
      "  warnings.warn(\n",
      "/opt/conda/envs/team05/lib/python3.10/site-packages/Bio/PDB/PDBParser.py:388: PDBConstructionWarning: Ignoring unrecognized record 'TER' at line 6793\n",
      "  warnings.warn(\n",
      "/opt/conda/envs/team05/lib/python3.10/site-packages/Bio/PDB/PDBParser.py:388: PDBConstructionWarning: Ignoring unrecognized record 'TER' at line 3686\n",
      "  warnings.warn(\n",
      "/opt/conda/envs/team05/lib/python3.10/site-packages/Bio/PDB/PDBParser.py:388: PDBConstructionWarning: Ignoring unrecognized record 'TER' at line 4403\n",
      "  warnings.warn(\n"
     ]
    },
    {
     "name": "stdout",
     "output_type": "stream",
     "text": [
      "[OK] saved: /workspace/datasets/PDBbind2016/refined/2ccb/2ccb_remove_HEATM_protein.pdb\n",
      "[OK] saved: /workspace/datasets/PDBbind2016/refined/2uwl/2uwl_remove_HEATM_protein.pdb\n"
     ]
    },
    {
     "name": "stderr",
     "output_type": "stream",
     "text": [
      "/opt/conda/envs/team05/lib/python3.10/site-packages/Bio/PDB/PDBParser.py:388: PDBConstructionWarning: Ignoring unrecognized record 'TER' at line 451\n",
      "  warnings.warn(\n",
      "/opt/conda/envs/team05/lib/python3.10/site-packages/Bio/PDB/PDBParser.py:388: PDBConstructionWarning: Ignoring unrecognized record 'TER' at line 4471\n",
      "  warnings.warn(\n"
     ]
    },
    {
     "name": "stdout",
     "output_type": "stream",
     "text": [
      "[OK] saved: /workspace/datasets/PDBbind2016/refined/1ypj/1ypj_remove_HEATM_protein.pdb\n"
     ]
    },
    {
     "name": "stderr",
     "output_type": "stream",
     "text": [
      "/opt/conda/envs/team05/lib/python3.10/site-packages/Bio/PDB/PDBParser.py:388: PDBConstructionWarning: Ignoring unrecognized record 'TER' at line 9747\n",
      "  warnings.warn(\n"
     ]
    },
    {
     "name": "stdout",
     "output_type": "stream",
     "text": [
      "[OK] saved: /workspace/datasets/PDBbind2016/refined/3b7r/3b7r_remove_HEATM_protein.pdb\n"
     ]
    },
    {
     "name": "stderr",
     "output_type": "stream",
     "text": [
      "/opt/conda/envs/team05/lib/python3.10/site-packages/Bio/PDB/PDBParser.py:388: PDBConstructionWarning: Ignoring unrecognized record 'TER' at line 1341\n",
      "  warnings.warn(\n",
      "/opt/conda/envs/team05/lib/python3.10/site-packages/Bio/PDB/PDBParser.py:388: PDBConstructionWarning: Ignoring unrecognized record 'TER' at line 5025\n",
      "  warnings.warn(\n",
      "/opt/conda/envs/team05/lib/python3.10/site-packages/Bio/PDB/PDBParser.py:388: PDBConstructionWarning: Ignoring unrecognized record 'TER' at line 2499\n",
      "  warnings.warn(\n",
      "/opt/conda/envs/team05/lib/python3.10/site-packages/Bio/PDB/PDBParser.py:388: PDBConstructionWarning: Ignoring unrecognized record 'END' at line 2735\n",
      "  warnings.warn(\n",
      "/opt/conda/envs/team05/lib/python3.10/site-packages/Bio/PDB/PDBParser.py:388: PDBConstructionWarning: Ignoring unrecognized record 'TER' at line 1743\n",
      "  warnings.warn(\n"
     ]
    },
    {
     "name": "stdout",
     "output_type": "stream",
     "text": [
      "[OK] saved: /workspace/datasets/PDBbind2016/refined/1xka/1xka_remove_HEATM_protein.pdb\n",
      "[OK] saved: /workspace/datasets/PDBbind2016/refined/4km0/4km0_remove_HEATM_protein.pdb\n"
     ]
    },
    {
     "name": "stderr",
     "output_type": "stream",
     "text": [
      "/opt/conda/envs/team05/lib/python3.10/site-packages/Bio/PDB/PDBParser.py:388: PDBConstructionWarning: Ignoring unrecognized record 'TER' at line 3545\n",
      "  warnings.warn(\n",
      "/opt/conda/envs/team05/lib/python3.10/site-packages/Bio/PDB/PDBParser.py:388: PDBConstructionWarning: Ignoring unrecognized record 'TER' at line 5288\n",
      "  warnings.warn(\n",
      "/opt/conda/envs/team05/lib/python3.10/site-packages/Bio/PDB/PDBParser.py:388: PDBConstructionWarning: Ignoring unrecognized record 'TER' at line 7050\n",
      "  warnings.warn(\n"
     ]
    },
    {
     "name": "stdout",
     "output_type": "stream",
     "text": [
      "[OK] saved: /workspace/datasets/PDBbind2016/refined/2jgs/2jgs_remove_HEATM_protein.pdb\n"
     ]
    },
    {
     "name": "stderr",
     "output_type": "stream",
     "text": [
      "/opt/conda/envs/team05/lib/python3.10/site-packages/Bio/PDB/PDBParser.py:388: PDBConstructionWarning: Ignoring unrecognized record 'TER' at line 4082\n",
      "  warnings.warn(\n",
      "/opt/conda/envs/team05/lib/python3.10/site-packages/Bio/PDB/PDBParser.py:388: PDBConstructionWarning: Ignoring unrecognized record 'TER' at line 5411\n",
      "  warnings.warn(\n"
     ]
    },
    {
     "name": "stdout",
     "output_type": "stream",
     "text": [
      "[OK] saved: /workspace/datasets/PDBbind2016/refined/2pou/2pou_remove_HEATM_protein.pdb\n",
      "[OK] saved: /workspace/datasets/PDBbind2016/refined/3aaq/3aaq_remove_HEATM_protein.pdb\n"
     ]
    },
    {
     "name": "stderr",
     "output_type": "stream",
     "text": [
      "/opt/conda/envs/team05/lib/python3.10/site-packages/Bio/PDB/PDBParser.py:388: PDBConstructionWarning: Ignoring unrecognized record 'TER' at line 4102\n",
      "  warnings.warn(\n",
      "/opt/conda/envs/team05/lib/python3.10/site-packages/Bio/PDB/PDBParser.py:388: PDBConstructionWarning: Ignoring unrecognized record 'TER' at line 8048\n",
      "  warnings.warn(\n"
     ]
    },
    {
     "name": "stdout",
     "output_type": "stream",
     "text": [
      "[OK] saved: /workspace/datasets/PDBbind2016/refined/1pbq/1pbq_remove_HEATM_protein.pdb\n"
     ]
    },
    {
     "name": "stderr",
     "output_type": "stream",
     "text": [
      "/opt/conda/envs/team05/lib/python3.10/site-packages/Bio/PDB/PDBParser.py:388: PDBConstructionWarning: Ignoring unrecognized record 'TER' at line 3961\n",
      "  warnings.warn(\n",
      "/opt/conda/envs/team05/lib/python3.10/site-packages/Bio/PDB/PDBParser.py:388: PDBConstructionWarning: Ignoring unrecognized record 'TER' at line 7879\n",
      "  warnings.warn(\n",
      "/opt/conda/envs/team05/lib/python3.10/site-packages/Bio/PDB/PDBParser.py:388: PDBConstructionWarning: Ignoring unrecognized record 'TER' at line 2006\n",
      "  warnings.warn(\n",
      "/opt/conda/envs/team05/lib/python3.10/site-packages/Bio/PDB/PDBParser.py:388: PDBConstructionWarning: Ignoring unrecognized record 'END' at line 2133\n",
      "  warnings.warn(\n"
     ]
    },
    {
     "name": "stdout",
     "output_type": "stream",
     "text": [
      "[OK] saved: /workspace/datasets/PDBbind2016/refined/3i51/3i51_remove_HEATM_protein.pdb\n",
      "[OK] saved: /workspace/datasets/PDBbind2016/refined/4nh7/4nh7_remove_HEATM_protein.pdb\n"
     ]
    },
    {
     "name": "stderr",
     "output_type": "stream",
     "text": [
      "/opt/conda/envs/team05/lib/python3.10/site-packages/Bio/PDB/PDBParser.py:388: PDBConstructionWarning: Ignoring unrecognized record 'TER' at line 3934\n",
      "  warnings.warn(\n",
      "/opt/conda/envs/team05/lib/python3.10/site-packages/Bio/PDB/PDBParser.py:388: PDBConstructionWarning: Ignoring unrecognized record 'TER' at line 7783\n",
      "  warnings.warn(\n",
      "/opt/conda/envs/team05/lib/python3.10/site-packages/Bio/PDB/PDBParser.py:388: PDBConstructionWarning: Ignoring unrecognized record 'TER' at line 8055\n",
      "  warnings.warn(\n",
      "/opt/conda/envs/team05/lib/python3.10/site-packages/Bio/PDB/PDBParser.py:388: PDBConstructionWarning: Ignoring unrecognized record 'TER' at line 8327\n",
      "  warnings.warn(\n",
      "/opt/conda/envs/team05/lib/python3.10/site-packages/Bio/PDB/PDBParser.py:388: PDBConstructionWarning: Ignoring unrecognized record 'END' at line 8413\n",
      "  warnings.warn(\n",
      "/opt/conda/envs/team05/lib/python3.10/site-packages/Bio/PDB/PDBParser.py:388: PDBConstructionWarning: Ignoring unrecognized record 'TER' at line 940\n",
      "  warnings.warn(\n",
      "/opt/conda/envs/team05/lib/python3.10/site-packages/Bio/PDB/PDBParser.py:388: PDBConstructionWarning: Ignoring unrecognized record 'TER' at line 1861\n",
      "  warnings.warn(\n"
     ]
    },
    {
     "name": "stdout",
     "output_type": "stream",
     "text": [
      "[OK] saved: /workspace/datasets/PDBbind2016/refined/3ipu/3ipu_remove_HEATM_protein.pdb\n",
      "[OK] saved: /workspace/datasets/PDBbind2016/refined/4zls/4zls_remove_HEATM_protein.pdb\n",
      "[OK] saved: /workspace/datasets/PDBbind2016/refined/1ppc/1ppc_remove_HEATM_protein.pdb\n"
     ]
    },
    {
     "name": "stderr",
     "output_type": "stream",
     "text": [
      "/opt/conda/envs/team05/lib/python3.10/site-packages/Bio/PDB/PDBParser.py:388: PDBConstructionWarning: Ignoring unrecognized record 'TER' at line 3245\n",
      "  warnings.warn(\n",
      "/opt/conda/envs/team05/lib/python3.10/site-packages/Bio/PDB/PDBParser.py:388: PDBConstructionWarning: Ignoring unrecognized record 'TER' at line 3245\n",
      "  warnings.warn(\n"
     ]
    },
    {
     "name": "stdout",
     "output_type": "stream",
     "text": [
      "[OK] saved: /workspace/datasets/PDBbind2016/refined/2fx6/2fx6_remove_HEATM_protein.pdb\n",
      "[OK] saved: /workspace/datasets/PDBbind2016/refined/2fqy/2fqy_remove_HEATM_protein.pdb\n"
     ]
    },
    {
     "name": "stderr",
     "output_type": "stream",
     "text": [
      "/opt/conda/envs/team05/lib/python3.10/site-packages/Bio/PDB/PDBParser.py:388: PDBConstructionWarning: Ignoring unrecognized record 'TER' at line 4755\n",
      "  warnings.warn(\n",
      "/opt/conda/envs/team05/lib/python3.10/site-packages/Bio/PDB/PDBParser.py:388: PDBConstructionWarning: Ignoring unrecognized record 'END' at line 4927\n",
      "  warnings.warn(\n",
      "/opt/conda/envs/team05/lib/python3.10/site-packages/Bio/PDB/PDBParser.py:388: PDBConstructionWarning: Ignoring unrecognized record 'TER' at line 1573\n",
      "  warnings.warn(\n",
      "/opt/conda/envs/team05/lib/python3.10/site-packages/Bio/PDB/PDBParser.py:388: PDBConstructionWarning: Ignoring unrecognized record 'TER' at line 3127\n",
      "  warnings.warn(\n",
      "/opt/conda/envs/team05/lib/python3.10/site-packages/Bio/PDB/PDBParser.py:388: PDBConstructionWarning: Ignoring unrecognized record 'END' at line 3305\n",
      "  warnings.warn(\n"
     ]
    },
    {
     "name": "stdout",
     "output_type": "stream",
     "text": [
      "[OK] saved: /workspace/datasets/PDBbind2016/refined/4a4q/4a4q_remove_HEATM_protein.pdb\n"
     ]
    },
    {
     "name": "stderr",
     "output_type": "stream",
     "text": [
      "/opt/conda/envs/team05/lib/python3.10/site-packages/Bio/PDB/PDBParser.py:388: PDBConstructionWarning: Ignoring unrecognized record 'TER' at line 4384\n",
      "  warnings.warn(\n",
      "/opt/conda/envs/team05/lib/python3.10/site-packages/Bio/PDB/PDBParser.py:388: PDBConstructionWarning: Ignoring unrecognized record 'TER' at line 5997\n",
      "  warnings.warn(\n",
      "/opt/conda/envs/team05/lib/python3.10/site-packages/Bio/PDB/PDBParser.py:388: PDBConstructionWarning: Ignoring unrecognized record 'TER' at line 1584\n",
      "  warnings.warn(\n",
      "/opt/conda/envs/team05/lib/python3.10/site-packages/Bio/PDB/PDBParser.py:388: PDBConstructionWarning: Ignoring unrecognized record 'TER' at line 3149\n",
      "  warnings.warn(\n",
      "/opt/conda/envs/team05/lib/python3.10/site-packages/Bio/PDB/PDBParser.py:388: PDBConstructionWarning: Ignoring unrecognized record 'END' at line 3341\n",
      "  warnings.warn(\n",
      "/opt/conda/envs/team05/lib/python3.10/site-packages/Bio/PDB/PDBParser.py:388: PDBConstructionWarning: Ignoring unrecognized record 'TER' at line 1804\n",
      "  warnings.warn(\n"
     ]
    },
    {
     "name": "stdout",
     "output_type": "stream",
     "text": [
      "[OK] saved: /workspace/datasets/PDBbind2016/refined/1g7q/1g7q_remove_HEATM_protein.pdb\n",
      "[OK] saved: /workspace/datasets/PDBbind2016/refined/2o4n/2o4n_remove_HEATM_protein.pdb\n"
     ]
    },
    {
     "name": "stderr",
     "output_type": "stream",
     "text": [
      "/opt/conda/envs/team05/lib/python3.10/site-packages/Bio/PDB/PDBParser.py:388: PDBConstructionWarning: Ignoring unrecognized record 'TER' at line 3555\n",
      "  warnings.warn(\n",
      "/opt/conda/envs/team05/lib/python3.10/site-packages/Bio/PDB/PDBParser.py:388: PDBConstructionWarning: Ignoring unrecognized record 'TER' at line 5320\n",
      "  warnings.warn(\n",
      "/opt/conda/envs/team05/lib/python3.10/site-packages/Bio/PDB/PDBParser.py:388: PDBConstructionWarning: Ignoring unrecognized record 'TER' at line 7071\n",
      "  warnings.warn(\n",
      "/opt/conda/envs/team05/lib/python3.10/site-packages/Bio/PDB/PDBParser.py:388: PDBConstructionWarning: Ignoring unrecognized record 'END' at line 7350\n",
      "  warnings.warn(\n",
      "/opt/conda/envs/team05/lib/python3.10/site-packages/Bio/PDB/PDBParser.py:388: PDBConstructionWarning: Ignoring unrecognized record 'TER' at line 1582\n",
      "  warnings.warn(\n",
      "/opt/conda/envs/team05/lib/python3.10/site-packages/Bio/PDB/PDBParser.py:388: PDBConstructionWarning: Ignoring unrecognized record 'TER' at line 3145\n",
      "  warnings.warn(\n",
      "/opt/conda/envs/team05/lib/python3.10/site-packages/Bio/PDB/PDBParser.py:388: PDBConstructionWarning: Ignoring unrecognized record 'END' at line 3333\n",
      "  warnings.warn(\n"
     ]
    },
    {
     "name": "stdout",
     "output_type": "stream",
     "text": [
      "[OK] saved: /workspace/datasets/PDBbind2016/refined/3cft/3cft_remove_HEATM_protein.pdb\n",
      "[OK] saved: /workspace/datasets/PDBbind2016/refined/3d1z/3d1z_remove_HEATM_protein.pdb\n"
     ]
    },
    {
     "name": "stderr",
     "output_type": "stream",
     "text": [
      "/opt/conda/envs/team05/lib/python3.10/site-packages/Bio/PDB/PDBParser.py:388: PDBConstructionWarning: Ignoring unrecognized record 'TER' at line 12629\n",
      "  warnings.warn(\n",
      "/opt/conda/envs/team05/lib/python3.10/site-packages/Bio/PDB/PDBParser.py:388: PDBConstructionWarning: Ignoring unrecognized record 'TER' at line 25094\n",
      "  warnings.warn(\n"
     ]
    },
    {
     "name": "stdout",
     "output_type": "stream",
     "text": [
      "[OK] saved: /workspace/datasets/PDBbind2016/refined/4iid/4iid_remove_HEATM_protein.pdb\n"
     ]
    },
    {
     "name": "stderr",
     "output_type": "stream",
     "text": [
      "/opt/conda/envs/team05/lib/python3.10/site-packages/Bio/PDB/PDBParser.py:388: PDBConstructionWarning: Ignoring unrecognized record 'TER' at line 12862\n",
      "  warnings.warn(\n"
     ]
    },
    {
     "name": "stdout",
     "output_type": "stream",
     "text": [
      "[OK] saved: /workspace/datasets/PDBbind2016/refined/2x09/2x09_remove_HEATM_protein.pdb\n",
      "[OK] saved: /workspace/datasets/PDBbind2016/refined/1o3p/1o3p_remove_HEATM_protein.pdb\n",
      "[OK] saved: /workspace/datasets/PDBbind2016/refined/1afl/1afl_remove_HEATM_protein.pdb\n"
     ]
    },
    {
     "name": "stderr",
     "output_type": "stream",
     "text": [
      "/opt/conda/envs/team05/lib/python3.10/site-packages/Bio/PDB/PDBParser.py:388: PDBConstructionWarning: Ignoring unrecognized record 'TER' at line 3851\n",
      "  warnings.warn(\n",
      "/opt/conda/envs/team05/lib/python3.10/site-packages/Bio/PDB/PDBParser.py:388: PDBConstructionWarning: Ignoring unrecognized record 'TER' at line 1868\n",
      "  warnings.warn(\n",
      "/opt/conda/envs/team05/lib/python3.10/site-packages/Bio/PDB/PDBParser.py:388: PDBConstructionWarning: Ignoring unrecognized record 'TER' at line 3793\n",
      "  warnings.warn(\n",
      "/opt/conda/envs/team05/lib/python3.10/site-packages/Bio/PDB/PDBParser.py:388: PDBConstructionWarning: Ignoring unrecognized record 'END' at line 4101\n",
      "  warnings.warn(\n"
     ]
    },
    {
     "name": "stdout",
     "output_type": "stream",
     "text": [
      "[OK] saved: /workspace/datasets/PDBbind2016/refined/1fcy/1fcy_remove_HEATM_protein.pdb\n"
     ]
    },
    {
     "name": "stderr",
     "output_type": "stream",
     "text": [
      "/opt/conda/envs/team05/lib/python3.10/site-packages/Bio/PDB/PDBParser.py:388: PDBConstructionWarning: Ignoring unrecognized record 'TER' at line 8277\n",
      "  warnings.warn(\n",
      "/opt/conda/envs/team05/lib/python3.10/site-packages/Bio/PDB/PDBParser.py:388: PDBConstructionWarning: Ignoring unrecognized record 'TER' at line 3263\n",
      "  warnings.warn(\n"
     ]
    },
    {
     "name": "stdout",
     "output_type": "stream",
     "text": [
      "[OK] saved: /workspace/datasets/PDBbind2016/refined/1b32/1b32_remove_HEATM_protein.pdb\n",
      "[OK] saved: /workspace/datasets/PDBbind2016/refined/1utm/1utm_remove_HEATM_protein.pdb\n"
     ]
    },
    {
     "name": "stderr",
     "output_type": "stream",
     "text": [
      "/opt/conda/envs/team05/lib/python3.10/site-packages/Bio/PDB/PDBParser.py:388: PDBConstructionWarning: Ignoring unrecognized record 'TER' at line 6667\n",
      "  warnings.warn(\n",
      "/opt/conda/envs/team05/lib/python3.10/site-packages/Bio/PDB/PDBParser.py:388: PDBConstructionWarning: Ignoring unrecognized record 'TER' at line 13195\n",
      "  warnings.warn(\n",
      "/opt/conda/envs/team05/lib/python3.10/site-packages/Bio/PDB/PDBParser.py:388: PDBConstructionWarning: Ignoring unrecognized record 'TER' at line 19723\n",
      "  warnings.warn(\n",
      "/opt/conda/envs/team05/lib/python3.10/site-packages/Bio/PDB/PDBParser.py:388: PDBConstructionWarning: Ignoring unrecognized record 'TER' at line 26251\n",
      "  warnings.warn(\n",
      "/opt/conda/envs/team05/lib/python3.10/site-packages/Bio/PDB/PDBParser.py:388: PDBConstructionWarning: Ignoring unrecognized record 'END' at line 26924\n",
      "  warnings.warn(\n"
     ]
    },
    {
     "name": "stdout",
     "output_type": "stream",
     "text": [
      "[OK] saved: /workspace/datasets/PDBbind2016/refined/1m0o/1m0o_remove_HEATM_protein.pdb\n",
      "[OK] saved: /workspace/datasets/PDBbind2016/refined/3ny3/3ny3_remove_HEATM_protein.pdb\n",
      "[OK] saved: /workspace/datasets/PDBbind2016/refined/3cyw/3cyw_remove_HEATM_protein.pdb\n"
     ]
    },
    {
     "name": "stderr",
     "output_type": "stream",
     "text": [
      "/opt/conda/envs/team05/lib/python3.10/site-packages/Bio/PDB/PDBParser.py:388: PDBConstructionWarning: Ignoring unrecognized record 'TER' at line 1047\n",
      "  warnings.warn(\n",
      "/opt/conda/envs/team05/lib/python3.10/site-packages/Bio/PDB/PDBParser.py:388: PDBConstructionWarning: Ignoring unrecognized record 'TER' at line 1593\n",
      "  warnings.warn(\n",
      "/opt/conda/envs/team05/lib/python3.10/site-packages/Bio/PDB/PDBParser.py:388: PDBConstructionWarning: Ignoring unrecognized record 'TER' at line 3167\n",
      "  warnings.warn(\n",
      "/opt/conda/envs/team05/lib/python3.10/site-packages/Bio/PDB/PDBParser.py:388: PDBConstructionWarning: Ignoring unrecognized record 'END' at line 3355\n",
      "  warnings.warn(\n",
      "/opt/conda/envs/team05/lib/python3.10/site-packages/Bio/PDB/PDBParser.py:388: PDBConstructionWarning: Ignoring unrecognized record 'TER' at line 4067\n",
      "  warnings.warn(\n"
     ]
    },
    {
     "name": "stdout",
     "output_type": "stream",
     "text": [
      "[OK] saved: /workspace/datasets/PDBbind2016/refined/4knj/4knj_remove_HEATM_protein.pdb\n"
     ]
    },
    {
     "name": "stderr",
     "output_type": "stream",
     "text": [
      "/opt/conda/envs/team05/lib/python3.10/site-packages/Bio/PDB/PDBParser.py:388: PDBConstructionWarning: Ignoring unrecognized record 'TER' at line 1586\n",
      "  warnings.warn(\n",
      "/opt/conda/envs/team05/lib/python3.10/site-packages/Bio/PDB/PDBParser.py:388: PDBConstructionWarning: Ignoring unrecognized record 'TER' at line 3153\n",
      "  warnings.warn(\n",
      "/opt/conda/envs/team05/lib/python3.10/site-packages/Bio/PDB/PDBParser.py:388: PDBConstructionWarning: Ignoring unrecognized record 'TER' at line 1545\n",
      "  warnings.warn(\n",
      "/opt/conda/envs/team05/lib/python3.10/site-packages/Bio/PDB/PDBParser.py:388: PDBConstructionWarning: Ignoring unrecognized record 'TER' at line 3084\n",
      "  warnings.warn(\n",
      "/opt/conda/envs/team05/lib/python3.10/site-packages/Bio/PDB/PDBParser.py:388: PDBConstructionWarning: Ignoring unrecognized record 'END' at line 3221\n",
      "  warnings.warn(\n"
     ]
    },
    {
     "name": "stdout",
     "output_type": "stream",
     "text": [
      "[OK] saved: /workspace/datasets/PDBbind2016/refined/4kb9/4kb9_remove_HEATM_protein.pdb\n",
      "[OK] saved: /workspace/datasets/PDBbind2016/refined/2q55/2q55_remove_HEATM_protein.pdb\n",
      "[OK] saved: /workspace/datasets/PDBbind2016/refined/2qbs/2qbs_remove_HEATM_protein.pdb\n"
     ]
    },
    {
     "name": "stderr",
     "output_type": "stream",
     "text": [
      "/opt/conda/envs/team05/lib/python3.10/site-packages/Bio/PDB/PDBParser.py:388: PDBConstructionWarning: Ignoring unrecognized record 'TER' at line 4828\n",
      "  warnings.warn(\n",
      "/opt/conda/envs/team05/lib/python3.10/site-packages/Bio/PDB/PDBParser.py:388: PDBConstructionWarning: Ignoring unrecognized record 'END' at line 5052\n",
      "  warnings.warn(\n",
      "/opt/conda/envs/team05/lib/python3.10/site-packages/Bio/PDB/PDBParser.py:388: PDBConstructionWarning: Ignoring unrecognized record 'TER' at line 4601\n",
      "  warnings.warn(\n",
      "/opt/conda/envs/team05/lib/python3.10/site-packages/Bio/PDB/PDBParser.py:388: PDBConstructionWarning: Ignoring unrecognized record 'END' at line 4881\n",
      "  warnings.warn(\n",
      "/opt/conda/envs/team05/lib/python3.10/site-packages/Bio/PDB/PDBParser.py:388: PDBConstructionWarning: Ignoring unrecognized record 'TER' at line 2013\n",
      "  warnings.warn(\n",
      "/opt/conda/envs/team05/lib/python3.10/site-packages/Bio/PDB/PDBParser.py:388: PDBConstructionWarning: Ignoring unrecognized record 'END' at line 2178\n",
      "  warnings.warn(\n",
      "/opt/conda/envs/team05/lib/python3.10/site-packages/Bio/PDB/PDBParser.py:388: PDBConstructionWarning: Ignoring unrecognized record 'TER' at line 1844\n",
      "  warnings.warn(\n"
     ]
    },
    {
     "name": "stdout",
     "output_type": "stream",
     "text": [
      "[OK] saved: /workspace/datasets/PDBbind2016/refined/1onz/1onz_remove_HEATM_protein.pdb\n",
      "[OK] saved: /workspace/datasets/PDBbind2016/refined/4xir/4xir_remove_HEATM_protein.pdb\n",
      "[OK] saved: /workspace/datasets/PDBbind2016/refined/4jkw/4jkw_remove_HEATM_protein.pdb\n",
      "[OK] saved: /workspace/datasets/PDBbind2016/refined/4ew3/4ew3_remove_HEATM_protein.pdb\n"
     ]
    },
    {
     "name": "stderr",
     "output_type": "stream",
     "text": [
      "/opt/conda/envs/team05/lib/python3.10/site-packages/Bio/PDB/PDBParser.py:388: PDBConstructionWarning: Ignoring unrecognized record 'TER' at line 3154\n",
      "  warnings.warn(\n",
      "/opt/conda/envs/team05/lib/python3.10/site-packages/Bio/PDB/PDBParser.py:388: PDBConstructionWarning: Ignoring unrecognized record 'END' at line 3322\n",
      "  warnings.warn(\n",
      "/opt/conda/envs/team05/lib/python3.10/site-packages/Bio/PDB/PDBParser.py:388: PDBConstructionWarning: Ignoring unrecognized record 'TER' at line 9541\n",
      "  warnings.warn(\n",
      "/opt/conda/envs/team05/lib/python3.10/site-packages/Bio/PDB/PDBParser.py:388: PDBConstructionWarning: Ignoring unrecognized record 'TER' at line 4853\n",
      "  warnings.warn(\n"
     ]
    },
    {
     "name": "stdout",
     "output_type": "stream",
     "text": [
      "[OK] saved: /workspace/datasets/PDBbind2016/refined/2x91/2x91_remove_HEATM_protein.pdb\n",
      "[OK] saved: /workspace/datasets/PDBbind2016/refined/4jyb/4jyb_remove_HEATM_protein.pdb\n"
     ]
    },
    {
     "name": "stderr",
     "output_type": "stream",
     "text": [
      "/opt/conda/envs/team05/lib/python3.10/site-packages/Bio/PDB/PDBParser.py:388: PDBConstructionWarning: Ignoring unrecognized record 'TER' at line 9550\n",
      "  warnings.warn(\n",
      "/opt/conda/envs/team05/lib/python3.10/site-packages/Bio/PDB/PDBParser.py:388: PDBConstructionWarning: Ignoring unrecognized record 'END' at line 9853\n",
      "  warnings.warn(\n",
      "/opt/conda/envs/team05/lib/python3.10/site-packages/Bio/PDB/PDBParser.py:388: PDBConstructionWarning: Ignoring unrecognized record 'TER' at line 5608\n",
      "  warnings.warn(\n",
      "/opt/conda/envs/team05/lib/python3.10/site-packages/Bio/PDB/PDBParser.py:388: PDBConstructionWarning: Ignoring unrecognized record 'END' at line 5906\n",
      "  warnings.warn(\n",
      "/opt/conda/envs/team05/lib/python3.10/site-packages/Bio/PDB/PDBParser.py:388: PDBConstructionWarning: Ignoring unrecognized record 'TER' at line 4203\n",
      "  warnings.warn(\n"
     ]
    },
    {
     "name": "stdout",
     "output_type": "stream",
     "text": [
      "[OK] saved: /workspace/datasets/PDBbind2016/refined/2pu2/2pu2_remove_HEATM_protein.pdb\n",
      "[OK] saved: /workspace/datasets/PDBbind2016/refined/1f4g/1f4g_remove_HEATM_protein.pdb\n"
     ]
    },
    {
     "name": "stderr",
     "output_type": "stream",
     "text": [
      "/opt/conda/envs/team05/lib/python3.10/site-packages/Bio/PDB/PDBParser.py:388: PDBConstructionWarning: Ignoring unrecognized record 'TER' at line 8347\n",
      "  warnings.warn(\n",
      "/opt/conda/envs/team05/lib/python3.10/site-packages/Bio/PDB/PDBParser.py:388: PDBConstructionWarning: Ignoring unrecognized record 'END' at line 8897\n",
      "  warnings.warn(\n",
      "/opt/conda/envs/team05/lib/python3.10/site-packages/Bio/PDB/PDBParser.py:388: PDBConstructionWarning: Ignoring unrecognized record 'TER' at line 4055\n",
      "  warnings.warn(\n"
     ]
    },
    {
     "name": "stdout",
     "output_type": "stream",
     "text": [
      "[OK] saved: /workspace/datasets/PDBbind2016/refined/1bnv/1bnv_remove_HEATM_protein.pdb\n",
      "[OK] saved: /workspace/datasets/PDBbind2016/refined/4g90/4g90_remove_HEATM_protein.pdb\n",
      "[OK] saved: /workspace/datasets/PDBbind2016/refined/4att/4att_remove_HEATM_protein.pdb\n"
     ]
    },
    {
     "name": "stderr",
     "output_type": "stream",
     "text": [
      "/opt/conda/envs/team05/lib/python3.10/site-packages/Bio/PDB/PDBParser.py:388: PDBConstructionWarning: Ignoring unrecognized record 'TER' at line 1870\n",
      "  warnings.warn(\n",
      "/opt/conda/envs/team05/lib/python3.10/site-packages/Bio/PDB/PDBParser.py:388: PDBConstructionWarning: Ignoring unrecognized record 'TER' at line 2379\n",
      "  warnings.warn(\n",
      "/opt/conda/envs/team05/lib/python3.10/site-packages/Bio/PDB/PDBParser.py:388: PDBConstructionWarning: Ignoring unrecognized record 'TER' at line 2369\n",
      "  warnings.warn(\n",
      "/opt/conda/envs/team05/lib/python3.10/site-packages/Bio/PDB/PDBParser.py:388: PDBConstructionWarning: Ignoring unrecognized record 'TER' at line 2875\n",
      "  warnings.warn(\n"
     ]
    },
    {
     "name": "stdout",
     "output_type": "stream",
     "text": [
      "[OK] saved: /workspace/datasets/PDBbind2016/refined/4x8u/4x8u_remove_HEATM_protein.pdb\n"
     ]
    },
    {
     "name": "stderr",
     "output_type": "stream",
     "text": [
      "/opt/conda/envs/team05/lib/python3.10/site-packages/Bio/PDB/PDBParser.py:388: PDBConstructionWarning: Ignoring unrecognized record 'TER' at line 4215\n",
      "  warnings.warn(\n",
      "/opt/conda/envs/team05/lib/python3.10/site-packages/Bio/PDB/PDBParser.py:388: PDBConstructionWarning: Ignoring unrecognized record 'TER' at line 8385\n",
      "  warnings.warn(\n",
      "/opt/conda/envs/team05/lib/python3.10/site-packages/Bio/PDB/PDBParser.py:388: PDBConstructionWarning: Ignoring unrecognized record 'END' at line 8493\n",
      "  warnings.warn(\n"
     ]
    },
    {
     "name": "stdout",
     "output_type": "stream",
     "text": [
      "[OK] saved: /workspace/datasets/PDBbind2016/refined/3o75/3o75_remove_HEATM_protein.pdb\n",
      "[OK] saved: /workspace/datasets/PDBbind2016/refined/2q54/2q54_remove_HEATM_protein.pdb\n"
     ]
    },
    {
     "name": "stderr",
     "output_type": "stream",
     "text": [
      "/opt/conda/envs/team05/lib/python3.10/site-packages/Bio/PDB/PDBParser.py:388: PDBConstructionWarning: Ignoring unrecognized record 'TER' at line 1519\n",
      "  warnings.warn(\n",
      "/opt/conda/envs/team05/lib/python3.10/site-packages/Bio/PDB/PDBParser.py:388: PDBConstructionWarning: Ignoring unrecognized record 'TER' at line 3045\n",
      "  warnings.warn(\n",
      "/opt/conda/envs/team05/lib/python3.10/site-packages/Bio/PDB/PDBParser.py:388: PDBConstructionWarning: Ignoring unrecognized record 'END' at line 3181\n",
      "  warnings.warn(\n",
      "/opt/conda/envs/team05/lib/python3.10/site-packages/Bio/PDB/PDBParser.py:388: PDBConstructionWarning: Ignoring unrecognized record 'TER' at line 5476\n",
      "  warnings.warn(\n",
      "/opt/conda/envs/team05/lib/python3.10/site-packages/Bio/PDB/PDBParser.py:388: PDBConstructionWarning: Ignoring unrecognized record 'TER' at line 10884\n",
      "  warnings.warn(\n",
      "/opt/conda/envs/team05/lib/python3.10/site-packages/Bio/PDB/PDBParser.py:388: PDBConstructionWarning: Ignoring unrecognized record 'END' at line 11179\n",
      "  warnings.warn(\n",
      "/opt/conda/envs/team05/lib/python3.10/site-packages/Bio/PDB/PDBParser.py:388: PDBConstructionWarning: Ignoring unrecognized record 'TER' at line 3482\n",
      "  warnings.warn(\n"
     ]
    },
    {
     "name": "stdout",
     "output_type": "stream",
     "text": [
      "[OK] saved: /workspace/datasets/PDBbind2016/refined/3gcu/3gcu_remove_HEATM_protein.pdb\n"
     ]
    },
    {
     "name": "stderr",
     "output_type": "stream",
     "text": [
      "/opt/conda/envs/team05/lib/python3.10/site-packages/Bio/PDB/PDBParser.py:388: PDBConstructionWarning: Ignoring unrecognized record 'TER' at line 6866\n",
      "  warnings.warn(\n",
      "/opt/conda/envs/team05/lib/python3.10/site-packages/Bio/PDB/PDBParser.py:388: PDBConstructionWarning: Ignoring unrecognized record 'TER' at line 10250\n",
      "  warnings.warn(\n",
      "/opt/conda/envs/team05/lib/python3.10/site-packages/Bio/PDB/PDBParser.py:388: PDBConstructionWarning: Ignoring unrecognized record 'TER' at line 13634\n",
      "  warnings.warn(\n",
      "/opt/conda/envs/team05/lib/python3.10/site-packages/Bio/PDB/PDBParser.py:388: PDBConstructionWarning: Ignoring unrecognized record 'TER' at line 17018\n",
      "  warnings.warn(\n"
     ]
    },
    {
     "name": "stdout",
     "output_type": "stream",
     "text": [
      "[OK] saved: /workspace/datasets/PDBbind2016/refined/4b5d/4b5d_remove_HEATM_protein.pdb\n",
      "[OK] saved: /workspace/datasets/PDBbind2016/refined/1yds/1yds_remove_HEATM_protein.pdb\n"
     ]
    },
    {
     "name": "stderr",
     "output_type": "stream",
     "text": [
      "/opt/conda/envs/team05/lib/python3.10/site-packages/Bio/PDB/PDBParser.py:388: PDBConstructionWarning: Ignoring unrecognized record 'TER' at line 5561\n",
      "  warnings.warn(\n",
      "/opt/conda/envs/team05/lib/python3.10/site-packages/Bio/PDB/PDBParser.py:388: PDBConstructionWarning: Ignoring unrecognized record 'TER' at line 5867\n",
      "  warnings.warn(\n",
      "/opt/conda/envs/team05/lib/python3.10/site-packages/Bio/PDB/PDBParser.py:388: PDBConstructionWarning: Ignoring unrecognized record 'TER' at line 4644\n",
      "  warnings.warn(\n",
      "/opt/conda/envs/team05/lib/python3.10/site-packages/Bio/PDB/PDBParser.py:388: PDBConstructionWarning: Ignoring unrecognized record 'TER' at line 9231\n",
      "  warnings.warn(\n"
     ]
    },
    {
     "name": "stdout",
     "output_type": "stream",
     "text": [
      "[OK] saved: /workspace/datasets/PDBbind2016/refined/3c52/3c52_remove_HEATM_protein.pdb\n"
     ]
    },
    {
     "name": "stderr",
     "output_type": "stream",
     "text": [
      "/opt/conda/envs/team05/lib/python3.10/site-packages/Bio/PDB/PDBParser.py:388: PDBConstructionWarning: Ignoring unrecognized record 'TER' at line 5122\n",
      "  warnings.warn(\n",
      "/opt/conda/envs/team05/lib/python3.10/site-packages/Bio/PDB/PDBParser.py:388: PDBConstructionWarning: Ignoring unrecognized record 'TER' at line 10191\n",
      "  warnings.warn(\n",
      "/opt/conda/envs/team05/lib/python3.10/site-packages/Bio/PDB/PDBParser.py:388: PDBConstructionWarning: Ignoring unrecognized record 'END' at line 10339\n",
      "  warnings.warn(\n",
      "/opt/conda/envs/team05/lib/python3.10/site-packages/Bio/PDB/PDBParser.py:388: PDBConstructionWarning: Ignoring unrecognized record 'TER' at line 3293\n",
      "  warnings.warn(\n"
     ]
    },
    {
     "name": "stdout",
     "output_type": "stream",
     "text": [
      "[OK] saved: /workspace/datasets/PDBbind2016/refined/1jmf/1jmf_remove_HEATM_protein.pdb\n"
     ]
    },
    {
     "name": "stderr",
     "output_type": "stream",
     "text": [
      "/opt/conda/envs/team05/lib/python3.10/site-packages/Bio/PDB/PDBParser.py:388: PDBConstructionWarning: Ignoring unrecognized record 'TER' at line 6549\n",
      "  warnings.warn(\n",
      "/opt/conda/envs/team05/lib/python3.10/site-packages/Bio/PDB/PDBParser.py:388: PDBConstructionWarning: Ignoring unrecognized record 'END' at line 7169\n",
      "  warnings.warn(\n",
      "/opt/conda/envs/team05/lib/python3.10/site-packages/Bio/PDB/PDBParser.py:388: PDBConstructionWarning: Ignoring unrecognized record 'TER' at line 1871\n",
      "  warnings.warn(\n",
      "/opt/conda/envs/team05/lib/python3.10/site-packages/Bio/PDB/PDBParser.py:388: PDBConstructionWarning: Ignoring unrecognized record 'TER' at line 1318\n",
      "  warnings.warn(\n",
      "/opt/conda/envs/team05/lib/python3.10/site-packages/Bio/PDB/PDBParser.py:388: PDBConstructionWarning: Ignoring unrecognized record 'TER' at line 2611\n",
      "  warnings.warn(\n",
      "/opt/conda/envs/team05/lib/python3.10/site-packages/Bio/PDB/PDBParser.py:388: PDBConstructionWarning: Ignoring unrecognized record 'END' at line 2859\n",
      "  warnings.warn(\n"
     ]
    },
    {
     "name": "stdout",
     "output_type": "stream",
     "text": [
      "[OK] saved: /workspace/datasets/PDBbind2016/refined/2uwd/2uwd_remove_HEATM_protein.pdb\n",
      "[OK] saved: /workspace/datasets/PDBbind2016/refined/1jq8/1jq8_remove_HEATM_protein.pdb\n",
      "[OK] saved: /workspace/datasets/PDBbind2016/refined/4rra/4rra_remove_HEATM_protein.pdb\n"
     ]
    },
    {
     "name": "stderr",
     "output_type": "stream",
     "text": [
      "/opt/conda/envs/team05/lib/python3.10/site-packages/Bio/PDB/PDBParser.py:388: PDBConstructionWarning: Ignoring unrecognized record 'TER' at line 3941\n",
      "  warnings.warn(\n",
      "/opt/conda/envs/team05/lib/python3.10/site-packages/Bio/PDB/PDBParser.py:388: PDBConstructionWarning: Ignoring unrecognized record 'TER' at line 7759\n",
      "  warnings.warn(\n",
      "/opt/conda/envs/team05/lib/python3.10/site-packages/Bio/PDB/PDBParser.py:388: PDBConstructionWarning: Ignoring unrecognized record 'TER' at line 11577\n",
      "  warnings.warn(\n",
      "/opt/conda/envs/team05/lib/python3.10/site-packages/Bio/PDB/PDBParser.py:388: PDBConstructionWarning: Ignoring unrecognized record 'TER' at line 15395\n",
      "  warnings.warn(\n",
      "/opt/conda/envs/team05/lib/python3.10/site-packages/Bio/PDB/PDBParser.py:388: PDBConstructionWarning: Ignoring unrecognized record 'TER' at line 19213\n",
      "  warnings.warn(\n",
      "/opt/conda/envs/team05/lib/python3.10/site-packages/Bio/PDB/PDBParser.py:388: PDBConstructionWarning: Ignoring unrecognized record 'TER' at line 23031\n",
      "  warnings.warn(\n"
     ]
    },
    {
     "name": "stdout",
     "output_type": "stream",
     "text": [
      "[OK] saved: /workspace/datasets/PDBbind2016/refined/4b5t/4b5t_remove_HEATM_protein.pdb\n",
      "[OK] saved: /workspace/datasets/PDBbind2016/refined/4hbm/4hbm_remove_HEATM_protein.pdb\n",
      "[OK] saved: /workspace/datasets/PDBbind2016/refined/4r5b/4r5b_remove_HEATM_protein.pdb\n"
     ]
    },
    {
     "name": "stderr",
     "output_type": "stream",
     "text": [
      "/opt/conda/envs/team05/lib/python3.10/site-packages/Bio/PDB/PDBParser.py:388: PDBConstructionWarning: Ignoring unrecognized record 'TER' at line 1735\n",
      "  warnings.warn(\n",
      "/opt/conda/envs/team05/lib/python3.10/site-packages/Bio/PDB/PDBParser.py:388: PDBConstructionWarning: Ignoring unrecognized record 'END' at line 1865\n",
      "  warnings.warn(\n",
      "/opt/conda/envs/team05/lib/python3.10/site-packages/Bio/PDB/PDBParser.py:388: PDBConstructionWarning: Ignoring unrecognized record 'TER' at line 2536\n",
      "  warnings.warn(\n",
      "/opt/conda/envs/team05/lib/python3.10/site-packages/Bio/PDB/PDBParser.py:388: PDBConstructionWarning: Ignoring unrecognized record 'TER' at line 8673\n",
      "  warnings.warn(\n",
      "/opt/conda/envs/team05/lib/python3.10/site-packages/Bio/PDB/PDBParser.py:388: PDBConstructionWarning: Ignoring unrecognized record 'TER' at line 17184\n",
      "  warnings.warn(\n",
      "/opt/conda/envs/team05/lib/python3.10/site-packages/Bio/PDB/PDBParser.py:388: PDBConstructionWarning: Ignoring unrecognized record 'TER' at line 25680\n",
      "  warnings.warn(\n",
      "/opt/conda/envs/team05/lib/python3.10/site-packages/Bio/PDB/PDBParser.py:388: PDBConstructionWarning: Ignoring unrecognized record 'TER' at line 34174\n",
      "  warnings.warn(\n"
     ]
    },
    {
     "name": "stdout",
     "output_type": "stream",
     "text": [
      "[OK] saved: /workspace/datasets/PDBbind2016/refined/2wva/2wva_remove_HEATM_protein.pdb\n",
      "[OK] saved: /workspace/datasets/PDBbind2016/refined/2jfz/2jfz_remove_HEATM_protein.pdb\n"
     ]
    },
    {
     "name": "stderr",
     "output_type": "stream",
     "text": [
      "/opt/conda/envs/team05/lib/python3.10/site-packages/Bio/PDB/PDBParser.py:388: PDBConstructionWarning: Ignoring unrecognized record 'TER' at line 4104\n",
      "  warnings.warn(\n",
      "/opt/conda/envs/team05/lib/python3.10/site-packages/Bio/PDB/PDBParser.py:388: PDBConstructionWarning: Ignoring unrecognized record 'TER' at line 8064\n",
      "  warnings.warn(\n",
      "/opt/conda/envs/team05/lib/python3.10/site-packages/Bio/PDB/PDBParser.py:388: PDBConstructionWarning: Ignoring unrecognized record 'END' at line 8515\n",
      "  warnings.warn(\n",
      "/opt/conda/envs/team05/lib/python3.10/site-packages/Bio/PDB/PDBParser.py:388: PDBConstructionWarning: Ignoring unrecognized record 'TER' at line 2118\n",
      "  warnings.warn(\n"
     ]
    },
    {
     "name": "stdout",
     "output_type": "stream",
     "text": [
      "[OK] saved: /workspace/datasets/PDBbind2016/refined/5a2i/5a2i_remove_HEATM_protein.pdb\n"
     ]
    },
    {
     "name": "stderr",
     "output_type": "stream",
     "text": [
      "/opt/conda/envs/team05/lib/python3.10/site-packages/Bio/PDB/PDBParser.py:388: PDBConstructionWarning: Ignoring unrecognized record 'TER' at line 8308\n",
      "  warnings.warn(\n",
      "/opt/conda/envs/team05/lib/python3.10/site-packages/Bio/PDB/PDBParser.py:388: PDBConstructionWarning: Ignoring unrecognized record 'TER' at line 16441\n",
      "  warnings.warn(\n",
      "/opt/conda/envs/team05/lib/python3.10/site-packages/Bio/PDB/PDBParser.py:388: PDBConstructionWarning: Ignoring unrecognized record 'TER' at line 24574\n",
      "  warnings.warn(\n",
      "/opt/conda/envs/team05/lib/python3.10/site-packages/Bio/PDB/PDBParser.py:388: PDBConstructionWarning: Ignoring unrecognized record 'TER' at line 32707\n",
      "  warnings.warn(\n"
     ]
    },
    {
     "name": "stdout",
     "output_type": "stream",
     "text": [
      "[OK] saved: /workspace/datasets/PDBbind2016/refined/3iae/3iae_remove_HEATM_protein.pdb\n",
      "[OK] saved: /workspace/datasets/PDBbind2016/refined/3rlp/3rlp_remove_HEATM_protein.pdb\n"
     ]
    },
    {
     "name": "stderr",
     "output_type": "stream",
     "text": [
      "/opt/conda/envs/team05/lib/python3.10/site-packages/Bio/PDB/PDBParser.py:388: PDBConstructionWarning: Ignoring unrecognized record 'TER' at line 3438\n",
      "  warnings.warn(\n",
      "/opt/conda/envs/team05/lib/python3.10/site-packages/Bio/PDB/PDBParser.py:388: PDBConstructionWarning: Ignoring unrecognized record 'END' at line 3620\n",
      "  warnings.warn(\n",
      "/opt/conda/envs/team05/lib/python3.10/site-packages/Bio/PDB/PDBParser.py:388: PDBConstructionWarning: Ignoring unrecognized record 'TER' at line 1794\n",
      "  warnings.warn(\n",
      "/opt/conda/envs/team05/lib/python3.10/site-packages/Bio/PDB/PDBParser.py:388: PDBConstructionWarning: Ignoring unrecognized record 'TER' at line 3482\n",
      "  warnings.warn(\n",
      "/opt/conda/envs/team05/lib/python3.10/site-packages/Bio/PDB/PDBParser.py:388: PDBConstructionWarning: Ignoring unrecognized record 'TER' at line 5183\n",
      "  warnings.warn(\n",
      "/opt/conda/envs/team05/lib/python3.10/site-packages/Bio/PDB/PDBParser.py:388: PDBConstructionWarning: Ignoring unrecognized record 'TER' at line 6860\n",
      "  warnings.warn(\n",
      "/opt/conda/envs/team05/lib/python3.10/site-packages/Bio/PDB/PDBParser.py:388: PDBConstructionWarning: Ignoring unrecognized record 'TER' at line 1179\n",
      "  warnings.warn(\n",
      "/opt/conda/envs/team05/lib/python3.10/site-packages/Bio/PDB/PDBParser.py:388: PDBConstructionWarning: Ignoring unrecognized record 'END' at line 1334\n",
      "  warnings.warn(\n",
      "/opt/conda/envs/team05/lib/python3.10/site-packages/Bio/PDB/PDBParser.py:388: PDBConstructionWarning: Ignoring unrecognized record 'TER' at line 4209\n",
      "  warnings.warn(\n",
      "/opt/conda/envs/team05/lib/python3.10/site-packages/Bio/PDB/PDBParser.py:388: PDBConstructionWarning: Ignoring unrecognized record 'END' at line 4265\n",
      "  warnings.warn(\n"
     ]
    },
    {
     "name": "stdout",
     "output_type": "stream",
     "text": [
      "[OK] saved: /workspace/datasets/PDBbind2016/refined/4rhx/4rhx_remove_HEATM_protein.pdb\n",
      "[OK] saved: /workspace/datasets/PDBbind2016/refined/4w9o/4w9o_remove_HEATM_protein.pdb\n",
      "[OK] saved: /workspace/datasets/PDBbind2016/refined/3f3t/3f3t_remove_HEATM_protein.pdb\n"
     ]
    },
    {
     "name": "stderr",
     "output_type": "stream",
     "text": [
      "/opt/conda/envs/team05/lib/python3.10/site-packages/Bio/PDB/PDBParser.py:388: PDBConstructionWarning: Ignoring unrecognized record 'TER' at line 13787\n",
      "  warnings.warn(\n",
      "/opt/conda/envs/team05/lib/python3.10/site-packages/Bio/PDB/PDBParser.py:388: PDBConstructionWarning: Ignoring unrecognized record 'TER' at line 3293\n",
      "  warnings.warn(\n"
     ]
    },
    {
     "name": "stdout",
     "output_type": "stream",
     "text": [
      "[OK] saved: /workspace/datasets/PDBbind2016/refined/3lpp/3lpp_remove_HEATM_protein.pdb\n",
      "[OK] saved: /workspace/datasets/PDBbind2016/refined/2xab/2xab_remove_HEATM_protein.pdb\n"
     ]
    },
    {
     "name": "stderr",
     "output_type": "stream",
     "text": [
      "/opt/conda/envs/team05/lib/python3.10/site-packages/Bio/PDB/PDBParser.py:388: PDBConstructionWarning: Ignoring unrecognized record 'END' at line 3540\n",
      "  warnings.warn(\n",
      "/opt/conda/envs/team05/lib/python3.10/site-packages/Bio/PDB/PDBParser.py:388: PDBConstructionWarning: Ignoring unrecognized record 'TER' at line 3875\n",
      "  warnings.warn(\n",
      "/opt/conda/envs/team05/lib/python3.10/site-packages/Bio/PDB/PDBParser.py:388: PDBConstructionWarning: Ignoring unrecognized record 'END' at line 4080\n",
      "  warnings.warn(\n",
      "/opt/conda/envs/team05/lib/python3.10/site-packages/Bio/PDB/PDBParser.py:388: PDBConstructionWarning: Ignoring unrecognized record 'TER' at line 487\n",
      "  warnings.warn(\n"
     ]
    },
    {
     "name": "stdout",
     "output_type": "stream",
     "text": [
      "[OK] saved: /workspace/datasets/PDBbind2016/refined/1nli/1nli_remove_HEATM_protein.pdb\n",
      "[OK] saved: /workspace/datasets/PDBbind2016/refined/3sv2/3sv2_remove_HEATM_protein.pdb\n"
     ]
    },
    {
     "name": "stderr",
     "output_type": "stream",
     "text": [
      "/opt/conda/envs/team05/lib/python3.10/site-packages/Bio/PDB/PDBParser.py:388: PDBConstructionWarning: Ignoring unrecognized record 'TER' at line 4504\n",
      "  warnings.warn(\n",
      "/opt/conda/envs/team05/lib/python3.10/site-packages/Bio/PDB/PDBParser.py:388: PDBConstructionWarning: Ignoring unrecognized record 'TER' at line 1580\n",
      "  warnings.warn(\n",
      "/opt/conda/envs/team05/lib/python3.10/site-packages/Bio/PDB/PDBParser.py:388: PDBConstructionWarning: Ignoring unrecognized record 'TER' at line 3141\n",
      "  warnings.warn(\n",
      "/opt/conda/envs/team05/lib/python3.10/site-packages/Bio/PDB/PDBParser.py:388: PDBConstructionWarning: Ignoring unrecognized record 'END' at line 3247\n",
      "  warnings.warn(\n"
     ]
    },
    {
     "name": "stdout",
     "output_type": "stream",
     "text": [
      "[OK] saved: /workspace/datasets/PDBbind2016/refined/1c70/1c70_remove_HEATM_protein.pdb\n",
      "[OK] saved: /workspace/datasets/PDBbind2016/refined/3iog/3iog_remove_HEATM_protein.pdb\n"
     ]
    },
    {
     "name": "stderr",
     "output_type": "stream",
     "text": [
      "/opt/conda/envs/team05/lib/python3.10/site-packages/Bio/PDB/PDBParser.py:388: PDBConstructionWarning: Ignoring unrecognized record 'TER' at line 3568\n",
      "  warnings.warn(\n",
      "/opt/conda/envs/team05/lib/python3.10/site-packages/Bio/PDB/PDBParser.py:388: PDBConstructionWarning: Ignoring unrecognized record 'TER' at line 16228\n",
      "  warnings.warn(\n"
     ]
    },
    {
     "name": "stdout",
     "output_type": "stream",
     "text": [
      "[OK] saved: /workspace/datasets/PDBbind2016/refined/3ejq/3ejq_remove_HEATM_protein.pdb\n"
     ]
    },
    {
     "name": "stderr",
     "output_type": "stream",
     "text": [
      "/opt/conda/envs/team05/lib/python3.10/site-packages/Bio/PDB/PDBParser.py:388: PDBConstructionWarning: Ignoring unrecognized record 'TER' at line 3395\n",
      "  warnings.warn(\n",
      "/opt/conda/envs/team05/lib/python3.10/site-packages/Bio/PDB/PDBParser.py:388: PDBConstructionWarning: Ignoring unrecognized record 'TER' at line 6706\n",
      "  warnings.warn(\n",
      "/opt/conda/envs/team05/lib/python3.10/site-packages/Bio/PDB/PDBParser.py:388: PDBConstructionWarning: Ignoring unrecognized record 'TER' at line 9964\n",
      "  warnings.warn(\n",
      "/opt/conda/envs/team05/lib/python3.10/site-packages/Bio/PDB/PDBParser.py:388: PDBConstructionWarning: Ignoring unrecognized record 'TER' at line 13275\n",
      "  warnings.warn(\n",
      "/opt/conda/envs/team05/lib/python3.10/site-packages/Bio/PDB/PDBParser.py:388: PDBConstructionWarning: Ignoring unrecognized record 'TER' at line 16576\n",
      "  warnings.warn(\n"
     ]
    },
    {
     "name": "stdout",
     "output_type": "stream",
     "text": [
      "[OK] saved: /workspace/datasets/PDBbind2016/refined/3c79/3c79_remove_HEATM_protein.pdb\n"
     ]
    },
    {
     "name": "stderr",
     "output_type": "stream",
     "text": [
      "/opt/conda/envs/team05/lib/python3.10/site-packages/Bio/PDB/PDBParser.py:388: PDBConstructionWarning: Ignoring unrecognized record 'TER' at line 6953\n",
      "  warnings.warn(\n",
      "/opt/conda/envs/team05/lib/python3.10/site-packages/Bio/PDB/PDBParser.py:388: PDBConstructionWarning: Ignoring unrecognized record 'TER' at line 13783\n",
      "  warnings.warn(\n",
      "/opt/conda/envs/team05/lib/python3.10/site-packages/Bio/PDB/PDBParser.py:388: PDBConstructionWarning: Ignoring unrecognized record 'TER' at line 20566\n",
      "  warnings.warn(\n",
      "/opt/conda/envs/team05/lib/python3.10/site-packages/Bio/PDB/PDBParser.py:388: PDBConstructionWarning: Ignoring unrecognized record 'TER' at line 27396\n",
      "  warnings.warn(\n"
     ]
    },
    {
     "name": "stdout",
     "output_type": "stream",
     "text": [
      "[OK] saved: /workspace/datasets/PDBbind2016/refined/4dsy/4dsy_remove_HEATM_protein.pdb\n"
     ]
    },
    {
     "name": "stderr",
     "output_type": "stream",
     "text": [
      "/opt/conda/envs/team05/lib/python3.10/site-packages/Bio/PDB/PDBParser.py:388: PDBConstructionWarning: Ignoring unrecognized record 'TER' at line 6815\n",
      "  warnings.warn(\n",
      "/opt/conda/envs/team05/lib/python3.10/site-packages/Bio/PDB/PDBParser.py:388: PDBConstructionWarning: Ignoring unrecognized record 'TER' at line 13519\n",
      "  warnings.warn(\n"
     ]
    },
    {
     "name": "stdout",
     "output_type": "stream",
     "text": [
      "[OK] saved: /workspace/datasets/PDBbind2016/refined/4oc3/4oc3_remove_HEATM_protein.pdb\n",
      "[OK] saved: /workspace/datasets/PDBbind2016/refined/3el9/3el9_remove_HEATM_protein.pdb\n",
      "[OK] saved: /workspace/datasets/PDBbind2016/refined/4jpx/4jpx_remove_HEATM_protein.pdb\n"
     ]
    },
    {
     "name": "stderr",
     "output_type": "stream",
     "text": [
      "/opt/conda/envs/team05/lib/python3.10/site-packages/Bio/PDB/PDBParser.py:388: PDBConstructionWarning: Ignoring unrecognized record 'TER' at line 1535\n",
      "  warnings.warn(\n",
      "/opt/conda/envs/team05/lib/python3.10/site-packages/Bio/PDB/PDBParser.py:388: PDBConstructionWarning: Ignoring unrecognized record 'TER' at line 3012\n",
      "  warnings.warn(\n",
      "/opt/conda/envs/team05/lib/python3.10/site-packages/Bio/PDB/PDBParser.py:388: PDBConstructionWarning: Ignoring unrecognized record 'END' at line 3146\n",
      "  warnings.warn(\n",
      "/opt/conda/envs/team05/lib/python3.10/site-packages/Bio/PDB/PDBParser.py:388: PDBConstructionWarning: Ignoring unrecognized record 'TER' at line 4350\n",
      "  warnings.warn(\n",
      "/opt/conda/envs/team05/lib/python3.10/site-packages/Bio/PDB/PDBParser.py:388: PDBConstructionWarning: Ignoring unrecognized record 'TER' at line 9042\n",
      "  warnings.warn(\n",
      "/opt/conda/envs/team05/lib/python3.10/site-packages/Bio/PDB/PDBParser.py:388: PDBConstructionWarning: Ignoring unrecognized record 'END' at line 9738\n",
      "  warnings.warn(\n"
     ]
    },
    {
     "name": "stdout",
     "output_type": "stream",
     "text": [
      "[OK] saved: /workspace/datasets/PDBbind2016/refined/3gbe/3gbe_remove_HEATM_protein.pdb\n",
      "[OK] saved: /workspace/datasets/PDBbind2016/refined/1elb/1elb_remove_HEATM_protein.pdb\n"
     ]
    },
    {
     "name": "stderr",
     "output_type": "stream",
     "text": [
      "/opt/conda/envs/team05/lib/python3.10/site-packages/Bio/PDB/PDBParser.py:388: PDBConstructionWarning: Ignoring unrecognized record 'TER' at line 3605\n",
      "  warnings.warn(\n",
      "/opt/conda/envs/team05/lib/python3.10/site-packages/Bio/PDB/PDBParser.py:388: PDBConstructionWarning: Ignoring unrecognized record 'TER' at line 13263\n",
      "  warnings.warn(\n",
      "/opt/conda/envs/team05/lib/python3.10/site-packages/Bio/PDB/PDBParser.py:388: PDBConstructionWarning: Ignoring unrecognized record 'TER' at line 26397\n",
      "  warnings.warn(\n"
     ]
    },
    {
     "name": "stdout",
     "output_type": "stream",
     "text": [
      "[OK] saved: /workspace/datasets/PDBbind2016/refined/2qrg/2qrg_remove_HEATM_protein.pdb\n"
     ]
    },
    {
     "name": "stderr",
     "output_type": "stream",
     "text": [
      "/opt/conda/envs/team05/lib/python3.10/site-packages/Bio/PDB/PDBParser.py:388: PDBConstructionWarning: Ignoring unrecognized record 'TER' at line 2542\n",
      "  warnings.warn(\n",
      "/opt/conda/envs/team05/lib/python3.10/site-packages/Bio/PDB/PDBParser.py:388: PDBConstructionWarning: Ignoring unrecognized record 'TER' at line 4973\n",
      "  warnings.warn(\n",
      "/opt/conda/envs/team05/lib/python3.10/site-packages/Bio/PDB/PDBParser.py:388: PDBConstructionWarning: Ignoring unrecognized record 'TER' at line 7405\n",
      "  warnings.warn(\n",
      "/opt/conda/envs/team05/lib/python3.10/site-packages/Bio/PDB/PDBParser.py:388: PDBConstructionWarning: Ignoring unrecognized record 'TER' at line 9872\n",
      "  warnings.warn(\n",
      "/opt/conda/envs/team05/lib/python3.10/site-packages/Bio/PDB/PDBParser.py:388: PDBConstructionWarning: Ignoring unrecognized record 'TER' at line 12320\n",
      "  warnings.warn(\n",
      "/opt/conda/envs/team05/lib/python3.10/site-packages/Bio/PDB/PDBParser.py:388: PDBConstructionWarning: Ignoring unrecognized record 'TER' at line 14724\n",
      "  warnings.warn(\n",
      "/opt/conda/envs/team05/lib/python3.10/site-packages/Bio/PDB/PDBParser.py:388: PDBConstructionWarning: Ignoring unrecognized record 'END' at line 15193\n",
      "  warnings.warn(\n"
     ]
    },
    {
     "name": "stdout",
     "output_type": "stream",
     "text": [
      "[OK] saved: /workspace/datasets/PDBbind2016/refined/3ed0/3ed0_remove_HEATM_protein.pdb\n"
     ]
    },
    {
     "name": "stderr",
     "output_type": "stream",
     "text": [
      "/opt/conda/envs/team05/lib/python3.10/site-packages/Bio/PDB/PDBParser.py:388: PDBConstructionWarning: Ignoring unrecognized record 'TER' at line 6119\n",
      "  warnings.warn(\n",
      "/opt/conda/envs/team05/lib/python3.10/site-packages/Bio/PDB/PDBParser.py:388: PDBConstructionWarning: Ignoring unrecognized record 'TER' at line 12079\n",
      "  warnings.warn(\n",
      "/opt/conda/envs/team05/lib/python3.10/site-packages/Bio/PDB/PDBParser.py:388: PDBConstructionWarning: Ignoring unrecognized record 'TER' at line 18039\n",
      "  warnings.warn(\n",
      "/opt/conda/envs/team05/lib/python3.10/site-packages/Bio/PDB/PDBParser.py:388: PDBConstructionWarning: Ignoring unrecognized record 'TER' at line 23999\n",
      "  warnings.warn(\n"
     ]
    },
    {
     "name": "stdout",
     "output_type": "stream",
     "text": [
      "[OK] saved: /workspace/datasets/PDBbind2016/refined/1f8d/1f8d_remove_HEATM_protein.pdb\n"
     ]
    },
    {
     "name": "stderr",
     "output_type": "stream",
     "text": [
      "/opt/conda/envs/team05/lib/python3.10/site-packages/Bio/PDB/PDBParser.py:388: PDBConstructionWarning: Ignoring unrecognized record 'TER' at line 2690\n",
      "  warnings.warn(\n",
      "/opt/conda/envs/team05/lib/python3.10/site-packages/Bio/PDB/PDBParser.py:388: PDBConstructionWarning: Ignoring unrecognized record 'TER' at line 5310\n",
      "  warnings.warn(\n",
      "/opt/conda/envs/team05/lib/python3.10/site-packages/Bio/PDB/PDBParser.py:388: PDBConstructionWarning: Ignoring unrecognized record 'TER' at line 7932\n",
      "  warnings.warn(\n",
      "/opt/conda/envs/team05/lib/python3.10/site-packages/Bio/PDB/PDBParser.py:388: PDBConstructionWarning: Ignoring unrecognized record 'TER' at line 10552\n",
      "  warnings.warn(\n"
     ]
    },
    {
     "name": "stdout",
     "output_type": "stream",
     "text": [
      "[OK] saved: /workspace/datasets/PDBbind2016/refined/3ng4/3ng4_remove_HEATM_protein.pdb\n",
      "[OK] saved: /workspace/datasets/PDBbind2016/refined/2zft/2zft_remove_HEATM_protein.pdb\n",
      "[OK] saved: /workspace/datasets/PDBbind2016/refined/4kcx/4kcx_remove_HEATM_protein.pdb\n"
     ]
    },
    {
     "name": "stderr",
     "output_type": "stream",
     "text": [
      "/opt/conda/envs/team05/lib/python3.10/site-packages/Bio/PDB/PDBParser.py:388: PDBConstructionWarning: Ignoring unrecognized record 'TER' at line 3245\n",
      "  warnings.warn(\n",
      "/opt/conda/envs/team05/lib/python3.10/site-packages/Bio/PDB/PDBParser.py:388: PDBConstructionWarning: Ignoring unrecognized record 'TER' at line 1806\n",
      "  warnings.warn(\n",
      "/opt/conda/envs/team05/lib/python3.10/site-packages/Bio/PDB/PDBParser.py:388: PDBConstructionWarning: Ignoring unrecognized record 'TER' at line 3591\n",
      "  warnings.warn(\n",
      "/opt/conda/envs/team05/lib/python3.10/site-packages/Bio/PDB/PDBParser.py:388: PDBConstructionWarning: Ignoring unrecognized record 'END' at line 3729\n",
      "  warnings.warn(\n",
      "/opt/conda/envs/team05/lib/python3.10/site-packages/Bio/PDB/PDBParser.py:388: PDBConstructionWarning: Ignoring unrecognized record 'TER' at line 2109\n",
      "  warnings.warn(\n",
      "/opt/conda/envs/team05/lib/python3.10/site-packages/Bio/PDB/PDBParser.py:388: PDBConstructionWarning: Ignoring unrecognized record 'TER' at line 4181\n",
      "  warnings.warn(\n",
      "/opt/conda/envs/team05/lib/python3.10/site-packages/Bio/PDB/PDBParser.py:388: PDBConstructionWarning: Ignoring unrecognized record 'END' at line 4339\n",
      "  warnings.warn(\n"
     ]
    },
    {
     "name": "stdout",
     "output_type": "stream",
     "text": [
      "[OK] saved: /workspace/datasets/PDBbind2016/refined/4trc/4trc_remove_HEATM_protein.pdb\n"
     ]
    },
    {
     "name": "stderr",
     "output_type": "stream",
     "text": [
      "/opt/conda/envs/team05/lib/python3.10/site-packages/Bio/PDB/PDBParser.py:388: PDBConstructionWarning: Ignoring unrecognized record 'TER' at line 2130\n",
      "  warnings.warn(\n",
      "/opt/conda/envs/team05/lib/python3.10/site-packages/Bio/PDB/PDBParser.py:388: PDBConstructionWarning: Ignoring unrecognized record 'TER' at line 4149\n",
      "  warnings.warn(\n",
      "/opt/conda/envs/team05/lib/python3.10/site-packages/Bio/PDB/PDBParser.py:388: PDBConstructionWarning: Ignoring unrecognized record 'TER' at line 6168\n",
      "  warnings.warn(\n",
      "/opt/conda/envs/team05/lib/python3.10/site-packages/Bio/PDB/PDBParser.py:388: PDBConstructionWarning: Ignoring unrecognized record 'TER' at line 8187\n",
      "  warnings.warn(\n",
      "/opt/conda/envs/team05/lib/python3.10/site-packages/Bio/PDB/PDBParser.py:388: PDBConstructionWarning: Ignoring unrecognized record 'TER' at line 10206\n",
      "  warnings.warn(\n",
      "/opt/conda/envs/team05/lib/python3.10/site-packages/Bio/PDB/PDBParser.py:388: PDBConstructionWarning: Ignoring unrecognized record 'TER' at line 12225\n",
      "  warnings.warn(\n"
     ]
    },
    {
     "name": "stdout",
     "output_type": "stream",
     "text": [
      "[OK] saved: /workspace/datasets/PDBbind2016/refined/4qnb/4qnb_remove_HEATM_protein.pdb\n"
     ]
    },
    {
     "name": "stderr",
     "output_type": "stream",
     "text": [
      "/opt/conda/envs/team05/lib/python3.10/site-packages/Bio/PDB/PDBParser.py:388: PDBConstructionWarning: Ignoring unrecognized record 'TER' at line 2691\n",
      "  warnings.warn(\n",
      "/opt/conda/envs/team05/lib/python3.10/site-packages/Bio/PDB/PDBParser.py:388: PDBConstructionWarning: Ignoring unrecognized record 'TER' at line 5311\n",
      "  warnings.warn(\n",
      "/opt/conda/envs/team05/lib/python3.10/site-packages/Bio/PDB/PDBParser.py:388: PDBConstructionWarning: Ignoring unrecognized record 'TER' at line 7931\n",
      "  warnings.warn(\n",
      "/opt/conda/envs/team05/lib/python3.10/site-packages/Bio/PDB/PDBParser.py:388: PDBConstructionWarning: Ignoring unrecognized record 'TER' at line 10551\n",
      "  warnings.warn(\n"
     ]
    },
    {
     "name": "stdout",
     "output_type": "stream",
     "text": [
      "[OK] saved: /workspace/datasets/PDBbind2016/refined/3nw3/3nw3_remove_HEATM_protein.pdb\n",
      "[OK] saved: /workspace/datasets/PDBbind2016/refined/1c1v/1c1v_remove_HEATM_protein.pdb\n"
     ]
    },
    {
     "name": "stderr",
     "output_type": "stream",
     "text": [
      "/opt/conda/envs/team05/lib/python3.10/site-packages/Bio/PDB/PDBParser.py:388: PDBConstructionWarning: Ignoring unrecognized record 'TER' at line 596\n",
      "  warnings.warn(\n",
      "/opt/conda/envs/team05/lib/python3.10/site-packages/Bio/PDB/PDBParser.py:388: PDBConstructionWarning: Ignoring unrecognized record 'TER' at line 4647\n",
      "  warnings.warn(\n",
      "/opt/conda/envs/team05/lib/python3.10/site-packages/Bio/PDB/PDBParser.py:388: PDBConstructionWarning: Ignoring unrecognized record 'TER' at line 4339\n",
      "  warnings.warn(\n",
      "/opt/conda/envs/team05/lib/python3.10/site-packages/Bio/PDB/PDBParser.py:388: PDBConstructionWarning: Ignoring unrecognized record 'TER' at line 8558\n",
      "  warnings.warn(\n",
      "/opt/conda/envs/team05/lib/python3.10/site-packages/Bio/PDB/PDBParser.py:388: PDBConstructionWarning: Ignoring unrecognized record 'TER' at line 12796\n",
      "  warnings.warn(\n",
      "/opt/conda/envs/team05/lib/python3.10/site-packages/Bio/PDB/PDBParser.py:388: PDBConstructionWarning: Ignoring unrecognized record 'TER' at line 17029\n",
      "  warnings.warn(\n"
     ]
    },
    {
     "name": "stdout",
     "output_type": "stream",
     "text": [
      "[OK] saved: /workspace/datasets/PDBbind2016/refined/3juk/3juk_remove_HEATM_protein.pdb\n",
      "[OK] saved: /workspace/datasets/PDBbind2016/refined/1add/1add_remove_HEATM_protein.pdb\n"
     ]
    },
    {
     "name": "stderr",
     "output_type": "stream",
     "text": [
      "/opt/conda/envs/team05/lib/python3.10/site-packages/Bio/PDB/PDBParser.py:388: PDBConstructionWarning: Ignoring unrecognized record 'TER' at line 5572\n",
      "  warnings.warn(\n",
      "/opt/conda/envs/team05/lib/python3.10/site-packages/Bio/PDB/PDBParser.py:388: PDBConstructionWarning: Ignoring unrecognized record 'TER' at line 3432\n",
      "  warnings.warn(\n",
      "/opt/conda/envs/team05/lib/python3.10/site-packages/Bio/PDB/PDBParser.py:388: PDBConstructionWarning: Ignoring unrecognized record 'END' at line 3552\n",
      "  warnings.warn(\n",
      "/opt/conda/envs/team05/lib/python3.10/site-packages/Bio/PDB/PDBParser.py:388: PDBConstructionWarning: Ignoring unrecognized record 'TER' at line 1584\n",
      "  warnings.warn(\n"
     ]
    },
    {
     "name": "stdout",
     "output_type": "stream",
     "text": [
      "[OK] saved: /workspace/datasets/PDBbind2016/refined/2vwc/2vwc_remove_HEATM_protein.pdb\n",
      "[OK] saved: /workspace/datasets/PDBbind2016/refined/3h5b/3h5b_remove_HEATM_protein.pdb\n"
     ]
    },
    {
     "name": "stderr",
     "output_type": "stream",
     "text": [
      "/opt/conda/envs/team05/lib/python3.10/site-packages/Bio/PDB/PDBParser.py:388: PDBConstructionWarning: Ignoring unrecognized record 'TER' at line 3149\n",
      "  warnings.warn(\n",
      "/opt/conda/envs/team05/lib/python3.10/site-packages/Bio/PDB/PDBParser.py:388: PDBConstructionWarning: Ignoring unrecognized record 'END' at line 3353\n",
      "  warnings.warn(\n",
      "/opt/conda/envs/team05/lib/python3.10/site-packages/Bio/PDB/PDBParser.py:388: PDBConstructionWarning: Ignoring unrecognized record 'TER' at line 5071\n",
      "  warnings.warn(\n",
      "/opt/conda/envs/team05/lib/python3.10/site-packages/Bio/PDB/PDBParser.py:388: PDBConstructionWarning: Ignoring unrecognized record 'END' at line 5399\n",
      "  warnings.warn(\n",
      "/opt/conda/envs/team05/lib/python3.10/site-packages/Bio/PDB/PDBParser.py:388: PDBConstructionWarning: Ignoring unrecognized record 'TER' at line 1834\n",
      "  warnings.warn(\n",
      "/opt/conda/envs/team05/lib/python3.10/site-packages/Bio/PDB/PDBParser.py:388: PDBConstructionWarning: Ignoring unrecognized record 'END' at line 2029\n",
      "  warnings.warn(\n",
      "/opt/conda/envs/team05/lib/python3.10/site-packages/Bio/PDB/PDBParser.py:388: PDBConstructionWarning: Ignoring unrecognized record 'TER' at line 2433\n",
      "  warnings.warn(\n",
      "/opt/conda/envs/team05/lib/python3.10/site-packages/Bio/PDB/PDBParser.py:388: PDBConstructionWarning: Ignoring unrecognized record 'TER' at line 4892\n",
      "  warnings.warn(\n"
     ]
    },
    {
     "name": "stdout",
     "output_type": "stream",
     "text": [
      "[OK] saved: /workspace/datasets/PDBbind2016/refined/1pot/1pot_remove_HEATM_protein.pdb\n",
      "[OK] saved: /workspace/datasets/PDBbind2016/refined/3rdo/3rdo_remove_HEATM_protein.pdb\n",
      "[OK] saved: /workspace/datasets/PDBbind2016/refined/4ykj/4ykj_remove_HEATM_protein.pdb\n"
     ]
    },
    {
     "name": "stderr",
     "output_type": "stream",
     "text": [
      "/opt/conda/envs/team05/lib/python3.10/site-packages/Bio/PDB/PDBParser.py:388: PDBConstructionWarning: Ignoring unrecognized record 'TER' at line 5814\n",
      "  warnings.warn(\n",
      "/opt/conda/envs/team05/lib/python3.10/site-packages/Bio/PDB/PDBParser.py:388: PDBConstructionWarning: Ignoring unrecognized record 'END' at line 6289\n",
      "  warnings.warn(\n",
      "/opt/conda/envs/team05/lib/python3.10/site-packages/Bio/PDB/PDBParser.py:388: PDBConstructionWarning: Ignoring unrecognized record 'TER' at line 1473\n",
      "  warnings.warn(\n",
      "/opt/conda/envs/team05/lib/python3.10/site-packages/Bio/PDB/PDBParser.py:388: PDBConstructionWarning: Ignoring unrecognized record 'TER' at line 779\n",
      "  warnings.warn(\n"
     ]
    },
    {
     "name": "stdout",
     "output_type": "stream",
     "text": [
      "[OK] saved: /workspace/datasets/PDBbind2016/refined/3jzj/3jzj_remove_HEATM_protein.pdb\n",
      "[OK] saved: /workspace/datasets/PDBbind2016/refined/4x5r/4x5r_remove_HEATM_protein.pdb\n",
      "[OK] saved: /workspace/datasets/PDBbind2016/refined/2bq7/2bq7_remove_HEATM_protein.pdb\n"
     ]
    },
    {
     "name": "stderr",
     "output_type": "stream",
     "text": [
      "/opt/conda/envs/team05/lib/python3.10/site-packages/Bio/PDB/PDBParser.py:388: PDBConstructionWarning: Ignoring unrecognized record 'TER' at line 4439\n",
      "  warnings.warn(\n",
      "/opt/conda/envs/team05/lib/python3.10/site-packages/Bio/PDB/PDBParser.py:388: PDBConstructionWarning: Ignoring unrecognized record 'TER' at line 2888\n",
      "  warnings.warn(\n",
      "/opt/conda/envs/team05/lib/python3.10/site-packages/Bio/PDB/PDBParser.py:388: PDBConstructionWarning: Ignoring unrecognized record 'END' at line 3053\n",
      "  warnings.warn(\n",
      "/opt/conda/envs/team05/lib/python3.10/site-packages/Bio/PDB/PDBParser.py:388: PDBConstructionWarning: Ignoring unrecognized record 'TER' at line 2528\n",
      "  warnings.warn(\n"
     ]
    },
    {
     "name": "stdout",
     "output_type": "stream",
     "text": [
      "[OK] saved: /workspace/datasets/PDBbind2016/refined/1kzn/1kzn_remove_HEATM_protein.pdb\n",
      "[OK] saved: /workspace/datasets/PDBbind2016/refined/4nbk/4nbk_remove_HEATM_protein.pdb\n"
     ]
    },
    {
     "name": "stderr",
     "output_type": "stream",
     "text": [
      "/opt/conda/envs/team05/lib/python3.10/site-packages/Bio/PDB/PDBParser.py:388: PDBConstructionWarning: Ignoring unrecognized record 'TER' at line 4902\n",
      "  warnings.warn(\n",
      "/opt/conda/envs/team05/lib/python3.10/site-packages/Bio/PDB/PDBParser.py:388: PDBConstructionWarning: Ignoring unrecognized record 'END' at line 5223\n",
      "  warnings.warn(\n",
      "/opt/conda/envs/team05/lib/python3.10/site-packages/Bio/PDB/PDBParser.py:388: PDBConstructionWarning: Ignoring unrecognized record 'TER' at line 2071\n",
      "  warnings.warn(\n",
      "/opt/conda/envs/team05/lib/python3.10/site-packages/Bio/PDB/PDBParser.py:388: PDBConstructionWarning: Ignoring unrecognized record 'TER' at line 4103\n",
      "  warnings.warn(\n",
      "/opt/conda/envs/team05/lib/python3.10/site-packages/Bio/PDB/PDBParser.py:388: PDBConstructionWarning: Ignoring unrecognized record 'TER' at line 3498\n",
      "  warnings.warn(\n"
     ]
    },
    {
     "name": "stdout",
     "output_type": "stream",
     "text": [
      "[OK] saved: /workspace/datasets/PDBbind2016/refined/3wtm/3wtm_remove_HEATM_protein.pdb\n",
      "[OK] saved: /workspace/datasets/PDBbind2016/refined/3rlq/3rlq_remove_HEATM_protein.pdb\n"
     ]
    },
    {
     "name": "stderr",
     "output_type": "stream",
     "text": [
      "/opt/conda/envs/team05/lib/python3.10/site-packages/Bio/PDB/PDBParser.py:388: PDBConstructionWarning: Ignoring unrecognized record 'END' at line 3606\n",
      "  warnings.warn(\n",
      "/opt/conda/envs/team05/lib/python3.10/site-packages/Bio/PDB/PDBParser.py:388: PDBConstructionWarning: Ignoring unrecognized record 'TER' at line 4703\n",
      "  warnings.warn(\n"
     ]
    },
    {
     "name": "stdout",
     "output_type": "stream",
     "text": [
      "[OK] saved: /workspace/datasets/PDBbind2016/refined/4app/4app_remove_HEATM_protein.pdb\n",
      "[OK] saved: /workspace/datasets/PDBbind2016/refined/2vpe/2vpe_remove_HEATM_protein.pdb\n",
      "[OK] saved: /workspace/datasets/PDBbind2016/refined/4ryd/4ryd_remove_HEATM_protein.pdb\n"
     ]
    },
    {
     "name": "stderr",
     "output_type": "stream",
     "text": [
      "/opt/conda/envs/team05/lib/python3.10/site-packages/Bio/PDB/PDBParser.py:388: PDBConstructionWarning: Ignoring unrecognized record 'TER' at line 886\n",
      "  warnings.warn(\n",
      "/opt/conda/envs/team05/lib/python3.10/site-packages/Bio/PDB/PDBParser.py:388: PDBConstructionWarning: Ignoring unrecognized record 'TER' at line 1336\n",
      "  warnings.warn(\n",
      "/opt/conda/envs/team05/lib/python3.10/site-packages/Bio/PDB/PDBParser.py:388: PDBConstructionWarning: Ignoring unrecognized record 'TER' at line 4399\n",
      "  warnings.warn(\n",
      "/opt/conda/envs/team05/lib/python3.10/site-packages/Bio/PDB/PDBParser.py:388: PDBConstructionWarning: Ignoring unrecognized record 'TER' at line 3983\n",
      "  warnings.warn(\n",
      "/opt/conda/envs/team05/lib/python3.10/site-packages/Bio/PDB/PDBParser.py:388: PDBConstructionWarning: Ignoring unrecognized record 'TER' at line 1584\n",
      "  warnings.warn(\n",
      "/opt/conda/envs/team05/lib/python3.10/site-packages/Bio/PDB/PDBParser.py:388: PDBConstructionWarning: Ignoring unrecognized record 'TER' at line 3149\n",
      "  warnings.warn(\n",
      "/opt/conda/envs/team05/lib/python3.10/site-packages/Bio/PDB/PDBParser.py:388: PDBConstructionWarning: Ignoring unrecognized record 'END' at line 3190\n",
      "  warnings.warn(\n"
     ]
    },
    {
     "name": "stdout",
     "output_type": "stream",
     "text": [
      "[OK] saved: /workspace/datasets/PDBbind2016/refined/2nn7/2nn7_remove_HEATM_protein.pdb\n",
      "[OK] saved: /workspace/datasets/PDBbind2016/refined/1pro/1pro_remove_HEATM_protein.pdb\n"
     ]
    },
    {
     "name": "stderr",
     "output_type": "stream",
     "text": [
      "/opt/conda/envs/team05/lib/python3.10/site-packages/Bio/PDB/PDBParser.py:388: PDBConstructionWarning: Ignoring unrecognized record 'TER' at line 1952\n",
      "  warnings.warn(\n",
      "/opt/conda/envs/team05/lib/python3.10/site-packages/Bio/PDB/PDBParser.py:388: PDBConstructionWarning: Ignoring unrecognized record 'TER' at line 3870\n",
      "  warnings.warn(\n",
      "/opt/conda/envs/team05/lib/python3.10/site-packages/Bio/PDB/PDBParser.py:388: PDBConstructionWarning: Ignoring unrecognized record 'END' at line 4035\n",
      "  warnings.warn(\n",
      "/opt/conda/envs/team05/lib/python3.10/site-packages/Bio/PDB/PDBParser.py:388: PDBConstructionWarning: Ignoring unrecognized record 'TER' at line 2687\n",
      "  warnings.warn(\n",
      "/opt/conda/envs/team05/lib/python3.10/site-packages/Bio/PDB/PDBParser.py:388: PDBConstructionWarning: Ignoring unrecognized record 'END' at line 2780\n",
      "  warnings.warn(\n",
      "/opt/conda/envs/team05/lib/python3.10/site-packages/Bio/PDB/PDBParser.py:388: PDBConstructionWarning: Ignoring unrecognized record 'TER' at line 4151\n",
      "  warnings.warn(\n"
     ]
    },
    {
     "name": "stdout",
     "output_type": "stream",
     "text": [
      "[OK] saved: /workspace/datasets/PDBbind2016/refined/3td4/3td4_remove_HEATM_protein.pdb\n",
      "[OK] saved: /workspace/datasets/PDBbind2016/refined/2wjg/2wjg_remove_HEATM_protein.pdb\n",
      "[OK] saved: /workspace/datasets/PDBbind2016/refined/2oi0/2oi0_remove_HEATM_protein.pdb\n"
     ]
    },
    {
     "name": "stderr",
     "output_type": "stream",
     "text": [
      "/opt/conda/envs/team05/lib/python3.10/site-packages/Bio/PDB/PDBParser.py:388: PDBConstructionWarning: Ignoring unrecognized record 'TER' at line 1667\n",
      "  warnings.warn(\n",
      "/opt/conda/envs/team05/lib/python3.10/site-packages/Bio/PDB/PDBParser.py:388: PDBConstructionWarning: Ignoring unrecognized record 'TER' at line 3295\n",
      "  warnings.warn(\n",
      "/opt/conda/envs/team05/lib/python3.10/site-packages/Bio/PDB/PDBParser.py:388: PDBConstructionWarning: Ignoring unrecognized record 'TER' at line 4923\n",
      "  warnings.warn(\n",
      "/opt/conda/envs/team05/lib/python3.10/site-packages/Bio/PDB/PDBParser.py:388: PDBConstructionWarning: Ignoring unrecognized record 'TER' at line 6551\n",
      "  warnings.warn(\n"
     ]
    },
    {
     "name": "stdout",
     "output_type": "stream",
     "text": [
      "[OK] saved: /workspace/datasets/PDBbind2016/refined/2jdk/2jdk_remove_HEATM_protein.pdb\n"
     ]
    },
    {
     "name": "stderr",
     "output_type": "stream",
     "text": [
      "/opt/conda/envs/team05/lib/python3.10/site-packages/Bio/PDB/PDBParser.py:388: PDBConstructionWarning: Ignoring unrecognized record 'TER' at line 3337\n",
      "  warnings.warn(\n",
      "/opt/conda/envs/team05/lib/python3.10/site-packages/Bio/PDB/PDBParser.py:388: PDBConstructionWarning: Ignoring unrecognized record 'TER' at line 6575\n",
      "  warnings.warn(\n"
     ]
    },
    {
     "name": "stdout",
     "output_type": "stream",
     "text": [
      "[OK] saved: /workspace/datasets/PDBbind2016/refined/3bpc/3bpc_remove_HEATM_protein.pdb\n",
      "[OK] saved: /workspace/datasets/PDBbind2016/refined/3gm0/3gm0_remove_HEATM_protein.pdb\n"
     ]
    },
    {
     "name": "stderr",
     "output_type": "stream",
     "text": [
      "/opt/conda/envs/team05/lib/python3.10/site-packages/Bio/PDB/PDBParser.py:388: PDBConstructionWarning: Ignoring unrecognized record 'TER' at line 3521\n",
      "  warnings.warn(\n",
      "/opt/conda/envs/team05/lib/python3.10/site-packages/Bio/PDB/PDBParser.py:388: PDBConstructionWarning: Ignoring unrecognized record 'TER' at line 5554\n",
      "  warnings.warn(\n"
     ]
    },
    {
     "name": "stdout",
     "output_type": "stream",
     "text": [
      "[OK] saved: /workspace/datasets/PDBbind2016/refined/1ndw/1ndw_remove_HEATM_protein.pdb\n",
      "[OK] saved: /workspace/datasets/PDBbind2016/refined/1z9y/1z9y_remove_HEATM_protein.pdb\n"
     ]
    },
    {
     "name": "stderr",
     "output_type": "stream",
     "text": [
      "/opt/conda/envs/team05/lib/python3.10/site-packages/Bio/PDB/PDBParser.py:388: PDBConstructionWarning: Ignoring unrecognized record 'TER' at line 3989\n",
      "  warnings.warn(\n",
      "/opt/conda/envs/team05/lib/python3.10/site-packages/Bio/PDB/PDBParser.py:388: PDBConstructionWarning: Ignoring unrecognized record 'TER' at line 5941\n",
      "  warnings.warn(\n",
      "/opt/conda/envs/team05/lib/python3.10/site-packages/Bio/PDB/PDBParser.py:388: PDBConstructionWarning: Ignoring unrecognized record 'TER' at line 4727\n",
      "  warnings.warn(\n",
      "/opt/conda/envs/team05/lib/python3.10/site-packages/Bio/PDB/PDBParser.py:388: PDBConstructionWarning: Ignoring unrecognized record 'END' at line 5181\n",
      "  warnings.warn(\n"
     ]
    },
    {
     "name": "stdout",
     "output_type": "stream",
     "text": [
      "[OK] saved: /workspace/datasets/PDBbind2016/refined/4c1t/4c1t_remove_HEATM_protein.pdb\n",
      "[OK] saved: /workspace/datasets/PDBbind2016/refined/3acx/3acx_remove_HEATM_protein.pdb\n",
      "[OK] saved: /workspace/datasets/PDBbind2016/refined/2v88/2v88_remove_HEATM_protein.pdb\n"
     ]
    },
    {
     "name": "stderr",
     "output_type": "stream",
     "text": [
      "/opt/conda/envs/team05/lib/python3.10/site-packages/Bio/PDB/PDBParser.py:388: PDBConstructionWarning: Ignoring unrecognized record 'TER' at line 1212\n",
      "  warnings.warn(\n",
      "/opt/conda/envs/team05/lib/python3.10/site-packages/Bio/PDB/PDBParser.py:388: PDBConstructionWarning: Ignoring unrecognized record 'TER' at line 1790\n",
      "  warnings.warn(\n",
      "/opt/conda/envs/team05/lib/python3.10/site-packages/Bio/PDB/PDBParser.py:388: PDBConstructionWarning: Ignoring unrecognized record 'TER' at line 3541\n",
      "  warnings.warn(\n",
      "/opt/conda/envs/team05/lib/python3.10/site-packages/Bio/PDB/PDBParser.py:388: PDBConstructionWarning: Ignoring unrecognized record 'TER' at line 5292\n",
      "  warnings.warn(\n",
      "/opt/conda/envs/team05/lib/python3.10/site-packages/Bio/PDB/PDBParser.py:388: PDBConstructionWarning: Ignoring unrecognized record 'TER' at line 7043\n",
      "  warnings.warn(\n",
      "/opt/conda/envs/team05/lib/python3.10/site-packages/Bio/PDB/PDBParser.py:388: PDBConstructionWarning: Ignoring unrecognized record 'END' at line 7442\n",
      "  warnings.warn(\n",
      "/opt/conda/envs/team05/lib/python3.10/site-packages/Bio/PDB/PDBParser.py:388: PDBConstructionWarning: Ignoring unrecognized record 'TER' at line 1296\n",
      "  warnings.warn(\n",
      "/opt/conda/envs/team05/lib/python3.10/site-packages/Bio/PDB/PDBParser.py:388: PDBConstructionWarning: Ignoring unrecognized record 'END' at line 1486\n",
      "  warnings.warn(\n",
      "/opt/conda/envs/team05/lib/python3.10/site-packages/Bio/PDB/PDBParser.py:388: PDBConstructionWarning: Ignoring unrecognized record 'TER' at line 4055\n",
      "  warnings.warn(\n"
     ]
    },
    {
     "name": "stdout",
     "output_type": "stream",
     "text": [
      "[OK] saved: /workspace/datasets/PDBbind2016/refined/3cfn/3cfn_remove_HEATM_protein.pdb\n",
      "[OK] saved: /workspace/datasets/PDBbind2016/refined/4tkj/4tkj_remove_HEATM_protein.pdb\n",
      "[OK] saved: /workspace/datasets/PDBbind2016/refined/1bn1/1bn1_remove_HEATM_protein.pdb\n"
     ]
    },
    {
     "name": "stderr",
     "output_type": "stream",
     "text": [
      "/opt/conda/envs/team05/lib/python3.10/site-packages/Bio/PDB/PDBParser.py:388: PDBConstructionWarning: Ignoring unrecognized record 'TER' at line 3379\n",
      "  warnings.warn(\n",
      "/opt/conda/envs/team05/lib/python3.10/site-packages/Bio/PDB/PDBParser.py:388: PDBConstructionWarning: Ignoring unrecognized record 'TER' at line 6744\n",
      "  warnings.warn(\n"
     ]
    },
    {
     "name": "stdout",
     "output_type": "stream",
     "text": [
      "[OK] saved: /workspace/datasets/PDBbind2016/refined/1yej/1yej_remove_HEATM_protein.pdb\n",
      "[OK] saved: /workspace/datasets/PDBbind2016/refined/3rf4/3rf4_remove_HEATM_protein.pdb\n",
      "[OK] saved: /workspace/datasets/PDBbind2016/refined/4qew/4qew_remove_HEATM_protein.pdb\n"
     ]
    },
    {
     "name": "stderr",
     "output_type": "stream",
     "text": [
      "/opt/conda/envs/team05/lib/python3.10/site-packages/Bio/PDB/PDBParser.py:388: PDBConstructionWarning: Ignoring unrecognized record 'TER' at line 1826\n",
      "  warnings.warn(\n",
      "/opt/conda/envs/team05/lib/python3.10/site-packages/Bio/PDB/PDBParser.py:388: PDBConstructionWarning: Ignoring unrecognized record 'TER' at line 3625\n",
      "  warnings.warn(\n",
      "/opt/conda/envs/team05/lib/python3.10/site-packages/Bio/PDB/PDBParser.py:388: PDBConstructionWarning: Ignoring unrecognized record 'TER' at line 5441\n",
      "  warnings.warn(\n",
      "/opt/conda/envs/team05/lib/python3.10/site-packages/Bio/PDB/PDBParser.py:388: PDBConstructionWarning: Ignoring unrecognized record 'TER' at line 1136\n",
      "  warnings.warn(\n",
      "/opt/conda/envs/team05/lib/python3.10/site-packages/Bio/PDB/PDBParser.py:388: PDBConstructionWarning: Ignoring unrecognized record 'END' at line 1204\n",
      "  warnings.warn(\n",
      "/opt/conda/envs/team05/lib/python3.10/site-packages/Bio/PDB/PDBParser.py:388: PDBConstructionWarning: Ignoring unrecognized record 'TER' at line 453\n",
      "  warnings.warn(\n",
      "/opt/conda/envs/team05/lib/python3.10/site-packages/Bio/PDB/PDBParser.py:388: PDBConstructionWarning: Ignoring unrecognized record 'TER' at line 4356\n",
      "  warnings.warn(\n"
     ]
    },
    {
     "name": "stdout",
     "output_type": "stream",
     "text": [
      "[OK] saved: /workspace/datasets/PDBbind2016/refined/1uvt/1uvt_remove_HEATM_protein.pdb\n",
      "[OK] saved: /workspace/datasets/PDBbind2016/refined/5aml/5aml_remove_HEATM_protein.pdb\n"
     ]
    },
    {
     "name": "stderr",
     "output_type": "stream",
     "text": [
      "/opt/conda/envs/team05/lib/python3.10/site-packages/Bio/PDB/PDBParser.py:388: PDBConstructionWarning: Ignoring unrecognized record 'TER' at line 2500\n",
      "  warnings.warn(\n",
      "/opt/conda/envs/team05/lib/python3.10/site-packages/Bio/PDB/PDBParser.py:388: PDBConstructionWarning: Ignoring unrecognized record 'TER' at line 1957\n",
      "  warnings.warn(\n",
      "/opt/conda/envs/team05/lib/python3.10/site-packages/Bio/PDB/PDBParser.py:388: PDBConstructionWarning: Ignoring unrecognized record 'TER' at line 3867\n",
      "  warnings.warn(\n",
      "/opt/conda/envs/team05/lib/python3.10/site-packages/Bio/PDB/PDBParser.py:388: PDBConstructionWarning: Ignoring unrecognized record 'TER' at line 5777\n",
      "  warnings.warn(\n",
      "/opt/conda/envs/team05/lib/python3.10/site-packages/Bio/PDB/PDBParser.py:388: PDBConstructionWarning: Ignoring unrecognized record 'TER' at line 7687\n",
      "  warnings.warn(\n"
     ]
    },
    {
     "name": "stdout",
     "output_type": "stream",
     "text": [
      "[OK] saved: /workspace/datasets/PDBbind2016/refined/2a5c/2a5c_remove_HEATM_protein.pdb\n",
      "[OK] saved: /workspace/datasets/PDBbind2016/refined/4z84/4z84_remove_HEATM_protein.pdb\n"
     ]
    },
    {
     "name": "stderr",
     "output_type": "stream",
     "text": [
      "/opt/conda/envs/team05/lib/python3.10/site-packages/Bio/PDB/PDBParser.py:388: PDBConstructionWarning: Ignoring unrecognized record 'TER' at line 3299\n",
      "  warnings.warn(\n",
      "/opt/conda/envs/team05/lib/python3.10/site-packages/Bio/PDB/PDBParser.py:388: PDBConstructionWarning: Ignoring unrecognized record 'TER' at line 3497\n",
      "  warnings.warn(\n",
      "/opt/conda/envs/team05/lib/python3.10/site-packages/Bio/PDB/PDBParser.py:388: PDBConstructionWarning: Ignoring unrecognized record 'TER' at line 2151\n",
      "  warnings.warn(\n",
      "/opt/conda/envs/team05/lib/python3.10/site-packages/Bio/PDB/PDBParser.py:388: PDBConstructionWarning: Ignoring unrecognized record 'END' at line 2254\n",
      "  warnings.warn(\n"
     ]
    },
    {
     "name": "stdout",
     "output_type": "stream",
     "text": [
      "[OK] saved: /workspace/datasets/PDBbind2016/refined/3qx9/3qx9_remove_HEATM_protein.pdb\n",
      "[OK] saved: /workspace/datasets/PDBbind2016/refined/1dgm/1dgm_remove_HEATM_protein.pdb\n"
     ]
    },
    {
     "name": "stderr",
     "output_type": "stream",
     "text": [
      "/opt/conda/envs/team05/lib/python3.10/site-packages/Bio/PDB/PDBParser.py:388: PDBConstructionWarning: Ignoring unrecognized record 'TER' at line 5186\n",
      "  warnings.warn(\n",
      "/opt/conda/envs/team05/lib/python3.10/site-packages/Bio/PDB/PDBParser.py:388: PDBConstructionWarning: Ignoring unrecognized record 'TER' at line 4002\n",
      "  warnings.warn(\n",
      "/opt/conda/envs/team05/lib/python3.10/site-packages/Bio/PDB/PDBParser.py:388: PDBConstructionWarning: Ignoring unrecognized record 'TER' at line 1545\n",
      "  warnings.warn(\n"
     ]
    },
    {
     "name": "stdout",
     "output_type": "stream",
     "text": [
      "[OK] saved: /workspace/datasets/PDBbind2016/refined/1zfq/1zfq_remove_HEATM_protein.pdb\n",
      "[OK] saved: /workspace/datasets/PDBbind2016/refined/2qi4/2qi4_remove_HEATM_protein.pdb\n"
     ]
    },
    {
     "name": "stderr",
     "output_type": "stream",
     "text": [
      "/opt/conda/envs/team05/lib/python3.10/site-packages/Bio/PDB/PDBParser.py:388: PDBConstructionWarning: Ignoring unrecognized record 'TER' at line 3084\n",
      "  warnings.warn(\n",
      "/opt/conda/envs/team05/lib/python3.10/site-packages/Bio/PDB/PDBParser.py:388: PDBConstructionWarning: Ignoring unrecognized record 'END' at line 3232\n",
      "  warnings.warn(\n",
      "/opt/conda/envs/team05/lib/python3.10/site-packages/Bio/PDB/PDBParser.py:388: PDBConstructionWarning: Ignoring unrecognized record 'TER' at line 3679\n",
      "  warnings.warn(\n",
      "/opt/conda/envs/team05/lib/python3.10/site-packages/Bio/PDB/PDBParser.py:388: PDBConstructionWarning: Ignoring unrecognized record 'TER' at line 4400\n",
      "  warnings.warn(\n"
     ]
    },
    {
     "name": "stdout",
     "output_type": "stream",
     "text": [
      "[OK] saved: /workspace/datasets/PDBbind2016/refined/2y81/2y81_remove_HEATM_protein.pdb\n",
      "[OK] saved: /workspace/datasets/PDBbind2016/refined/5cc2/5cc2_remove_HEATM_protein.pdb\n"
     ]
    },
    {
     "name": "stderr",
     "output_type": "stream",
     "text": [
      "/opt/conda/envs/team05/lib/python3.10/site-packages/Bio/PDB/PDBParser.py:388: PDBConstructionWarning: Ignoring unrecognized record 'TER' at line 2521\n",
      "  warnings.warn(\n",
      "/opt/conda/envs/team05/lib/python3.10/site-packages/Bio/PDB/PDBParser.py:388: PDBConstructionWarning: Ignoring unrecognized record 'END' at line 2546\n",
      "  warnings.warn(\n",
      "/opt/conda/envs/team05/lib/python3.10/site-packages/Bio/PDB/PDBParser.py:388: PDBConstructionWarning: Ignoring unrecognized record 'TER' at line 8735\n",
      "  warnings.warn(\n",
      "/opt/conda/envs/team05/lib/python3.10/site-packages/Bio/PDB/PDBParser.py:388: PDBConstructionWarning: Ignoring unrecognized record 'TER' at line 1871\n",
      "  warnings.warn(\n",
      "/opt/conda/envs/team05/lib/python3.10/site-packages/Bio/PDB/PDBParser.py:388: PDBConstructionWarning: Ignoring unrecognized record 'TER' at line 2567\n",
      "  warnings.warn(\n"
     ]
    },
    {
     "name": "stdout",
     "output_type": "stream",
     "text": [
      "[OK] saved: /workspace/datasets/PDBbind2016/refined/1nhu/1nhu_remove_HEATM_protein.pdb\n",
      "[OK] saved: /workspace/datasets/PDBbind2016/refined/3h1x/3h1x_remove_HEATM_protein.pdb\n"
     ]
    },
    {
     "name": "stderr",
     "output_type": "stream",
     "text": [
      "/opt/conda/envs/team05/lib/python3.10/site-packages/Bio/PDB/PDBParser.py:388: PDBConstructionWarning: Ignoring unrecognized record 'TER' at line 5105\n",
      "  warnings.warn(\n",
      "/opt/conda/envs/team05/lib/python3.10/site-packages/Bio/PDB/PDBParser.py:388: PDBConstructionWarning: Ignoring unrecognized record 'END' at line 5274\n",
      "  warnings.warn(\n",
      "/opt/conda/envs/team05/lib/python3.10/site-packages/Bio/PDB/PDBParser.py:388: PDBConstructionWarning: Ignoring unrecognized record 'TER' at line 2383\n",
      "  warnings.warn(\n",
      "/opt/conda/envs/team05/lib/python3.10/site-packages/Bio/PDB/PDBParser.py:388: PDBConstructionWarning: Ignoring unrecognized record 'TER' at line 4737\n",
      "  warnings.warn(\n",
      "/opt/conda/envs/team05/lib/python3.10/site-packages/Bio/PDB/PDBParser.py:388: PDBConstructionWarning: Ignoring unrecognized record 'END' at line 4864\n",
      "  warnings.warn(\n"
     ]
    },
    {
     "name": "stdout",
     "output_type": "stream",
     "text": [
      "[OK] saved: /workspace/datasets/PDBbind2016/refined/3lzz/3lzz_remove_HEATM_protein.pdb\n",
      "[OK] saved: /workspace/datasets/PDBbind2016/refined/4ahr/4ahr_remove_HEATM_protein.pdb\n"
     ]
    },
    {
     "name": "stderr",
     "output_type": "stream",
     "text": [
      "/opt/conda/envs/team05/lib/python3.10/site-packages/Bio/PDB/PDBParser.py:388: PDBConstructionWarning: Ignoring unrecognized record 'TER' at line 3474\n",
      "  warnings.warn(\n",
      "/opt/conda/envs/team05/lib/python3.10/site-packages/Bio/PDB/PDBParser.py:388: PDBConstructionWarning: Ignoring unrecognized record 'TER' at line 6889\n",
      "  warnings.warn(\n",
      "/opt/conda/envs/team05/lib/python3.10/site-packages/Bio/PDB/PDBParser.py:388: PDBConstructionWarning: Ignoring unrecognized record 'TER' at line 6679\n",
      "  warnings.warn(\n"
     ]
    },
    {
     "name": "stdout",
     "output_type": "stream",
     "text": [
      "[OK] saved: /workspace/datasets/PDBbind2016/refined/4q4r/4q4r_remove_HEATM_protein.pdb\n",
      "[OK] saved: /workspace/datasets/PDBbind2016/refined/1ch8/1ch8_remove_HEATM_protein.pdb\n",
      "[OK] saved: /workspace/datasets/PDBbind2016/refined/1dif/1dif_remove_HEATM_protein.pdb\n"
     ]
    },
    {
     "name": "stderr",
     "output_type": "stream",
     "text": [
      "/opt/conda/envs/team05/lib/python3.10/site-packages/Bio/PDB/PDBParser.py:388: PDBConstructionWarning: Ignoring unrecognized record 'TER' at line 1581\n",
      "  warnings.warn(\n",
      "/opt/conda/envs/team05/lib/python3.10/site-packages/Bio/PDB/PDBParser.py:388: PDBConstructionWarning: Ignoring unrecognized record 'TER' at line 3143\n",
      "  warnings.warn(\n",
      "/opt/conda/envs/team05/lib/python3.10/site-packages/Bio/PDB/PDBParser.py:388: PDBConstructionWarning: Ignoring unrecognized record 'END' at line 3301\n",
      "  warnings.warn(\n",
      "/opt/conda/envs/team05/lib/python3.10/site-packages/Bio/PDB/PDBParser.py:388: PDBConstructionWarning: Ignoring unrecognized record 'TER' at line 3844\n",
      "  warnings.warn(\n",
      "/opt/conda/envs/team05/lib/python3.10/site-packages/Bio/PDB/PDBParser.py:388: PDBConstructionWarning: Ignoring unrecognized record 'TER' at line 7593\n",
      "  warnings.warn(\n",
      "/opt/conda/envs/team05/lib/python3.10/site-packages/Bio/PDB/PDBParser.py:388: PDBConstructionWarning: Ignoring unrecognized record 'TER' at line 11342\n",
      "  warnings.warn(\n",
      "/opt/conda/envs/team05/lib/python3.10/site-packages/Bio/PDB/PDBParser.py:388: PDBConstructionWarning: Ignoring unrecognized record 'TER' at line 15089\n",
      "  warnings.warn(\n"
     ]
    },
    {
     "name": "stdout",
     "output_type": "stream",
     "text": [
      "[OK] saved: /workspace/datasets/PDBbind2016/refined/2za5/2za5_remove_HEATM_protein.pdb\n",
      "[OK] saved: /workspace/datasets/PDBbind2016/refined/3s0d/3s0d_remove_HEATM_protein.pdb\n"
     ]
    },
    {
     "name": "stderr",
     "output_type": "stream",
     "text": [
      "/opt/conda/envs/team05/lib/python3.10/site-packages/Bio/PDB/PDBParser.py:388: PDBConstructionWarning: Ignoring unrecognized record 'TER' at line 1922\n",
      "  warnings.warn(\n",
      "/opt/conda/envs/team05/lib/python3.10/site-packages/Bio/PDB/PDBParser.py:388: PDBConstructionWarning: Ignoring unrecognized record 'TER' at line 9120\n",
      "  warnings.warn(\n",
      "/opt/conda/envs/team05/lib/python3.10/site-packages/Bio/PDB/PDBParser.py:388: PDBConstructionWarning: Ignoring unrecognized record 'TER' at line 15764\n",
      "  warnings.warn(\n",
      "/opt/conda/envs/team05/lib/python3.10/site-packages/Bio/PDB/PDBParser.py:388: PDBConstructionWarning: Ignoring unrecognized record 'END' at line 16033\n",
      "  warnings.warn(\n",
      "/opt/conda/envs/team05/lib/python3.10/site-packages/Bio/PDB/PDBParser.py:388: PDBConstructionWarning: Ignoring unrecognized record 'TER' at line 2314\n",
      "  warnings.warn(\n"
     ]
    },
    {
     "name": "stdout",
     "output_type": "stream",
     "text": [
      "[OK] saved: /workspace/datasets/PDBbind2016/refined/3t1a/3t1a_remove_HEATM_protein.pdb\n",
      "[OK] saved: /workspace/datasets/PDBbind2016/refined/2y8c/2y8c_remove_HEATM_protein.pdb\n"
     ]
    },
    {
     "name": "stderr",
     "output_type": "stream",
     "text": [
      "/opt/conda/envs/team05/lib/python3.10/site-packages/Bio/PDB/PDBParser.py:388: PDBConstructionWarning: Ignoring unrecognized record 'TER' at line 4266\n",
      "  warnings.warn(\n",
      "/opt/conda/envs/team05/lib/python3.10/site-packages/Bio/PDB/PDBParser.py:388: PDBConstructionWarning: Ignoring unrecognized record 'TER' at line 6416\n",
      "  warnings.warn(\n",
      "/opt/conda/envs/team05/lib/python3.10/site-packages/Bio/PDB/PDBParser.py:388: PDBConstructionWarning: Ignoring unrecognized record 'END' at line 6538\n",
      "  warnings.warn(\n",
      "/opt/conda/envs/team05/lib/python3.10/site-packages/Bio/PDB/PDBParser.py:388: PDBConstructionWarning: Ignoring unrecognized record 'TER' at line 3912\n",
      "  warnings.warn(\n",
      "/opt/conda/envs/team05/lib/python3.10/site-packages/Bio/PDB/PDBParser.py:388: PDBConstructionWarning: Ignoring unrecognized record 'TER' at line 7781\n",
      "  warnings.warn(\n",
      "/opt/conda/envs/team05/lib/python3.10/site-packages/Bio/PDB/PDBParser.py:388: PDBConstructionWarning: Ignoring unrecognized record 'END' at line 8367\n",
      "  warnings.warn(\n",
      "/opt/conda/envs/team05/lib/python3.10/site-packages/Bio/PDB/PDBParser.py:388: PDBConstructionWarning: Ignoring unrecognized record 'TER' at line 4044\n",
      "  warnings.warn(\n"
     ]
    },
    {
     "name": "stdout",
     "output_type": "stream",
     "text": [
      "[OK] saved: /workspace/datasets/PDBbind2016/refined/3bex/3bex_remove_HEATM_protein.pdb\n",
      "[OK] saved: /workspace/datasets/PDBbind2016/refined/1cny/1cny_remove_HEATM_protein.pdb\n"
     ]
    },
    {
     "name": "stderr",
     "output_type": "stream",
     "text": [
      "/opt/conda/envs/team05/lib/python3.10/site-packages/Bio/PDB/PDBParser.py:388: PDBConstructionWarning: Ignoring unrecognized record 'TER' at line 4659\n",
      "  warnings.warn(\n",
      "/opt/conda/envs/team05/lib/python3.10/site-packages/Bio/PDB/PDBParser.py:388: PDBConstructionWarning: Ignoring unrecognized record 'TER' at line 1585\n",
      "  warnings.warn(\n",
      "/opt/conda/envs/team05/lib/python3.10/site-packages/Bio/PDB/PDBParser.py:388: PDBConstructionWarning: Ignoring unrecognized record 'TER' at line 3153\n",
      "  warnings.warn(\n",
      "/opt/conda/envs/team05/lib/python3.10/site-packages/Bio/PDB/PDBParser.py:388: PDBConstructionWarning: Ignoring unrecognized record 'END' at line 3280\n",
      "  warnings.warn(\n",
      "/opt/conda/envs/team05/lib/python3.10/site-packages/Bio/PDB/PDBParser.py:388: PDBConstructionWarning: Ignoring unrecognized record 'TER' at line 1453\n",
      "  warnings.warn(\n"
     ]
    },
    {
     "name": "stdout",
     "output_type": "stream",
     "text": [
      "[OK] saved: /workspace/datasets/PDBbind2016/refined/2qv7/2qv7_remove_HEATM_protein.pdb\n",
      "[OK] saved: /workspace/datasets/PDBbind2016/refined/3s43/3s43_remove_HEATM_protein.pdb\n",
      "[OK] saved: /workspace/datasets/PDBbind2016/refined/4np2/4np2_remove_HEATM_protein.pdb\n"
     ]
    },
    {
     "name": "stderr",
     "output_type": "stream",
     "text": [
      "/opt/conda/envs/team05/lib/python3.10/site-packages/Bio/PDB/PDBParser.py:388: PDBConstructionWarning: Ignoring unrecognized record 'TER' at line 2758\n",
      "  warnings.warn(\n",
      "/opt/conda/envs/team05/lib/python3.10/site-packages/Bio/PDB/PDBParser.py:388: PDBConstructionWarning: Ignoring unrecognized record 'TER' at line 6023\n",
      "  warnings.warn(\n",
      "/opt/conda/envs/team05/lib/python3.10/site-packages/Bio/PDB/PDBParser.py:388: PDBConstructionWarning: Ignoring unrecognized record 'END' at line 6709\n",
      "  warnings.warn(\n"
     ]
    },
    {
     "name": "stdout",
     "output_type": "stream",
     "text": [
      "[OK] saved: /workspace/datasets/PDBbind2016/refined/2vnp/2vnp_remove_HEATM_protein.pdb\n",
      "[OK] saved: /workspace/datasets/PDBbind2016/refined/1w9u/1w9u_remove_HEATM_protein.pdb\n"
     ]
    },
    {
     "name": "stderr",
     "output_type": "stream",
     "text": [
      "/opt/conda/envs/team05/lib/python3.10/site-packages/Bio/PDB/PDBParser.py:388: PDBConstructionWarning: Ignoring unrecognized record 'TER' at line 1540\n",
      "  warnings.warn(\n",
      "/opt/conda/envs/team05/lib/python3.10/site-packages/Bio/PDB/PDBParser.py:388: PDBConstructionWarning: Ignoring unrecognized record 'TER' at line 3089\n",
      "  warnings.warn(\n",
      "/opt/conda/envs/team05/lib/python3.10/site-packages/Bio/PDB/PDBParser.py:388: PDBConstructionWarning: Ignoring unrecognized record 'END' at line 3352\n",
      "  warnings.warn(\n",
      "/opt/conda/envs/team05/lib/python3.10/site-packages/Bio/PDB/PDBParser.py:388: PDBConstructionWarning: Ignoring unrecognized record 'TER' at line 5555\n",
      "  warnings.warn(\n"
     ]
    },
    {
     "name": "stdout",
     "output_type": "stream",
     "text": [
      "[OK] saved: /workspace/datasets/PDBbind2016/refined/3el5/3el5_remove_HEATM_protein.pdb\n",
      "[OK] saved: /workspace/datasets/PDBbind2016/refined/1o5r/1o5r_remove_HEATM_protein.pdb\n"
     ]
    },
    {
     "name": "stderr",
     "output_type": "stream",
     "text": [
      "/opt/conda/envs/team05/lib/python3.10/site-packages/Bio/PDB/PDBParser.py:388: PDBConstructionWarning: Ignoring unrecognized record 'TER' at line 8275\n",
      "  warnings.warn(\n"
     ]
    },
    {
     "name": "stdout",
     "output_type": "stream",
     "text": [
      "[OK] saved: /workspace/datasets/PDBbind2016/refined/1b3l/1b3l_remove_HEATM_protein.pdb\n"
     ]
    },
    {
     "name": "stderr",
     "output_type": "stream",
     "text": [
      "/opt/conda/envs/team05/lib/python3.10/site-packages/Bio/PDB/PDBParser.py:388: PDBConstructionWarning: Ignoring unrecognized record 'TER' at line 4132\n",
      "  warnings.warn(\n",
      "/opt/conda/envs/team05/lib/python3.10/site-packages/Bio/PDB/PDBParser.py:388: PDBConstructionWarning: Ignoring unrecognized record 'TER' at line 9999\n",
      "  warnings.warn(\n",
      "/opt/conda/envs/team05/lib/python3.10/site-packages/Bio/PDB/PDBParser.py:388: PDBConstructionWarning: Ignoring unrecognized record 'TER' at line 14026\n",
      "  warnings.warn(\n",
      "/opt/conda/envs/team05/lib/python3.10/site-packages/Bio/PDB/PDBParser.py:388: PDBConstructionWarning: Ignoring unrecognized record 'TER' at line 19893\n",
      "  warnings.warn(\n",
      "/opt/conda/envs/team05/lib/python3.10/site-packages/Bio/PDB/PDBParser.py:388: PDBConstructionWarning: Ignoring unrecognized record 'END' at line 20953\n",
      "  warnings.warn(\n"
     ]
    },
    {
     "name": "stdout",
     "output_type": "stream",
     "text": [
      "[OK] saved: /workspace/datasets/PDBbind2016/refined/2clk/2clk_remove_HEATM_protein.pdb\n",
      "[OK] saved: /workspace/datasets/PDBbind2016/refined/3hzv/3hzv_remove_HEATM_protein.pdb\n"
     ]
    },
    {
     "name": "stderr",
     "output_type": "stream",
     "text": [
      "/opt/conda/envs/team05/lib/python3.10/site-packages/Bio/PDB/PDBParser.py:388: PDBConstructionWarning: Ignoring unrecognized record 'TER' at line 3384\n",
      "  warnings.warn(\n",
      "/opt/conda/envs/team05/lib/python3.10/site-packages/Bio/PDB/PDBParser.py:388: PDBConstructionWarning: Ignoring unrecognized record 'TER' at line 6701\n",
      "  warnings.warn(\n",
      "/opt/conda/envs/team05/lib/python3.10/site-packages/Bio/PDB/PDBParser.py:388: PDBConstructionWarning: Ignoring unrecognized record 'TER' at line 3581\n",
      "  warnings.warn(\n",
      "/opt/conda/envs/team05/lib/python3.10/site-packages/Bio/PDB/PDBParser.py:388: PDBConstructionWarning: Ignoring unrecognized record 'TER' at line 6985\n",
      "  warnings.warn(\n",
      "/opt/conda/envs/team05/lib/python3.10/site-packages/Bio/PDB/PDBParser.py:388: PDBConstructionWarning: Ignoring unrecognized record 'TER' at line 10680\n",
      "  warnings.warn(\n",
      "/opt/conda/envs/team05/lib/python3.10/site-packages/Bio/PDB/PDBParser.py:388: PDBConstructionWarning: Ignoring unrecognized record 'TER' at line 14261\n",
      "  warnings.warn(\n",
      "/opt/conda/envs/team05/lib/python3.10/site-packages/Bio/PDB/PDBParser.py:388: PDBConstructionWarning: Ignoring unrecognized record 'END' at line 14682\n",
      "  warnings.warn(\n"
     ]
    },
    {
     "name": "stdout",
     "output_type": "stream",
     "text": [
      "[OK] saved: /workspace/datasets/PDBbind2016/refined/4bny/4bny_remove_HEATM_protein.pdb\n",
      "[OK] saved: /workspace/datasets/PDBbind2016/refined/2p7z/2p7z_remove_HEATM_protein.pdb\n",
      "[OK] saved: /workspace/datasets/PDBbind2016/refined/3lbj/3lbj_remove_HEATM_protein.pdb\n"
     ]
    },
    {
     "name": "stderr",
     "output_type": "stream",
     "text": [
      "/opt/conda/envs/team05/lib/python3.10/site-packages/Bio/PDB/PDBParser.py:388: PDBConstructionWarning: Ignoring unrecognized record 'TER' at line 3326\n",
      "  warnings.warn(\n",
      "/opt/conda/envs/team05/lib/python3.10/site-packages/Bio/PDB/PDBParser.py:388: PDBConstructionWarning: Ignoring unrecognized record 'END' at line 3430\n",
      "  warnings.warn(\n",
      "/opt/conda/envs/team05/lib/python3.10/site-packages/Bio/PDB/PDBParser.py:388: PDBConstructionWarning: Ignoring unrecognized record 'TER' at line 1338\n",
      "  warnings.warn(\n",
      "/opt/conda/envs/team05/lib/python3.10/site-packages/Bio/PDB/PDBParser.py:388: PDBConstructionWarning: Ignoring unrecognized record 'END' at line 1452\n",
      "  warnings.warn(\n",
      "/opt/conda/envs/team05/lib/python3.10/site-packages/Bio/PDB/PDBParser.py:388: PDBConstructionWarning: Ignoring unrecognized record 'TER' at line 3245\n",
      "  warnings.warn(\n"
     ]
    },
    {
     "name": "stdout",
     "output_type": "stream",
     "text": [
      "[OK] saved: /workspace/datasets/PDBbind2016/refined/1c5p/1c5p_remove_HEATM_protein.pdb\n",
      "[OK] saved: /workspace/datasets/PDBbind2016/refined/1yvm/1yvm_remove_HEATM_protein.pdb\n"
     ]
    },
    {
     "name": "stderr",
     "output_type": "stream",
     "text": [
      "/opt/conda/envs/team05/lib/python3.10/site-packages/Bio/PDB/PDBParser.py:388: PDBConstructionWarning: Ignoring unrecognized record 'TER' at line 4099\n",
      "  warnings.warn(\n",
      "/opt/conda/envs/team05/lib/python3.10/site-packages/Bio/PDB/PDBParser.py:388: PDBConstructionWarning: Ignoring unrecognized record 'TER' at line 4284\n",
      "  warnings.warn(\n",
      "/opt/conda/envs/team05/lib/python3.10/site-packages/Bio/PDB/PDBParser.py:388: PDBConstructionWarning: Ignoring unrecognized record 'END' at line 4471\n",
      "  warnings.warn(\n"
     ]
    },
    {
     "name": "stdout",
     "output_type": "stream",
     "text": [
      "[OK] saved: /workspace/datasets/PDBbind2016/refined/2v2q/2v2q_remove_HEATM_protein.pdb\n"
     ]
    },
    {
     "name": "stderr",
     "output_type": "stream",
     "text": [
      "/opt/conda/envs/team05/lib/python3.10/site-packages/Bio/PDB/PDBParser.py:388: PDBConstructionWarning: Ignoring unrecognized record 'TER' at line 10993\n",
      "  warnings.warn(\n",
      "/opt/conda/envs/team05/lib/python3.10/site-packages/Bio/PDB/PDBParser.py:388: PDBConstructionWarning: Ignoring unrecognized record 'TER' at line 21875\n",
      "  warnings.warn(\n"
     ]
    },
    {
     "name": "stdout",
     "output_type": "stream",
     "text": [
      "[OK] saved: /workspace/datasets/PDBbind2016/refined/2xej/2xej_remove_HEATM_protein.pdb\n",
      "[OK] saved: /workspace/datasets/PDBbind2016/refined/4mre/4mre_remove_HEATM_protein.pdb\n",
      "[OK] saved: /workspace/datasets/PDBbind2016/refined/3ryx/3ryx_remove_HEATM_protein.pdb\n"
     ]
    },
    {
     "name": "stderr",
     "output_type": "stream",
     "text": [
      "/opt/conda/envs/team05/lib/python3.10/site-packages/Bio/PDB/PDBParser.py:388: PDBConstructionWarning: Ignoring unrecognized record 'TER' at line 1453\n",
      "  warnings.warn(\n",
      "/opt/conda/envs/team05/lib/python3.10/site-packages/Bio/PDB/PDBParser.py:388: PDBConstructionWarning: Ignoring unrecognized record 'TER' at line 4055\n",
      "  warnings.warn(\n",
      "/opt/conda/envs/team05/lib/python3.10/site-packages/Bio/PDB/PDBParser.py:388: PDBConstructionWarning: Ignoring unrecognized record 'TER' at line 4524\n",
      "  warnings.warn(\n",
      "/opt/conda/envs/team05/lib/python3.10/site-packages/Bio/PDB/PDBParser.py:388: PDBConstructionWarning: Ignoring unrecognized record 'TER' at line 9002\n",
      "  warnings.warn(\n",
      "/opt/conda/envs/team05/lib/python3.10/site-packages/Bio/PDB/PDBParser.py:388: PDBConstructionWarning: Ignoring unrecognized record 'END' at line 9248\n",
      "  warnings.warn(\n"
     ]
    },
    {
     "name": "stdout",
     "output_type": "stream",
     "text": [
      "[OK] saved: /workspace/datasets/PDBbind2016/refined/3tb6/3tb6_remove_HEATM_protein.pdb\n"
     ]
    },
    {
     "name": "stderr",
     "output_type": "stream",
     "text": [
      "/opt/conda/envs/team05/lib/python3.10/site-packages/Bio/PDB/PDBParser.py:388: PDBConstructionWarning: Ignoring unrecognized record 'TER' at line 1566\n",
      "  warnings.warn(\n",
      "/opt/conda/envs/team05/lib/python3.10/site-packages/Bio/PDB/PDBParser.py:388: PDBConstructionWarning: Ignoring unrecognized record 'TER' at line 3128\n",
      "  warnings.warn(\n",
      "/opt/conda/envs/team05/lib/python3.10/site-packages/Bio/PDB/PDBParser.py:388: PDBConstructionWarning: Ignoring unrecognized record 'END' at line 3241\n",
      "  warnings.warn(\n",
      "/opt/conda/envs/team05/lib/python3.10/site-packages/Bio/PDB/PDBParser.py:388: PDBConstructionWarning: Ignoring unrecognized record 'TER' at line 1519\n",
      "  warnings.warn(\n",
      "/opt/conda/envs/team05/lib/python3.10/site-packages/Bio/PDB/PDBParser.py:388: PDBConstructionWarning: Ignoring unrecognized record 'TER' at line 3071\n",
      "  warnings.warn(\n",
      "/opt/conda/envs/team05/lib/python3.10/site-packages/Bio/PDB/PDBParser.py:388: PDBConstructionWarning: Ignoring unrecognized record 'END' at line 3253\n",
      "  warnings.warn(\n",
      "/opt/conda/envs/team05/lib/python3.10/site-packages/Bio/PDB/PDBParser.py:388: PDBConstructionWarning: Ignoring unrecognized record 'TER' at line 1410\n",
      "  warnings.warn(\n",
      "/opt/conda/envs/team05/lib/python3.10/site-packages/Bio/PDB/PDBParser.py:388: PDBConstructionWarning: Ignoring unrecognized record 'TER' at line 2416\n",
      "  warnings.warn(\n"
     ]
    },
    {
     "name": "stdout",
     "output_type": "stream",
     "text": [
      "[OK] saved: /workspace/datasets/PDBbind2016/refined/1ec1/1ec1_remove_HEATM_protein.pdb\n",
      "[OK] saved: /workspace/datasets/PDBbind2016/refined/2qhy/2qhy_remove_HEATM_protein.pdb\n",
      "[OK] saved: /workspace/datasets/PDBbind2016/refined/2i3i/2i3i_remove_HEATM_protein.pdb\n",
      "[OK] saved: /workspace/datasets/PDBbind2016/refined/3f1a/3f1a_remove_HEATM_protein.pdb\n"
     ]
    },
    {
     "name": "stderr",
     "output_type": "stream",
     "text": [
      "/opt/conda/envs/team05/lib/python3.10/site-packages/Bio/PDB/PDBParser.py:388: PDBConstructionWarning: Ignoring unrecognized record 'TER' at line 4067\n",
      "  warnings.warn(\n",
      "/opt/conda/envs/team05/lib/python3.10/site-packages/Bio/PDB/PDBParser.py:388: PDBConstructionWarning: Ignoring unrecognized record 'TER' at line 3327\n",
      "  warnings.warn(\n"
     ]
    },
    {
     "name": "stdout",
     "output_type": "stream",
     "text": [
      "[OK] saved: /workspace/datasets/PDBbind2016/refined/4kni/4kni_remove_HEATM_protein.pdb\n"
     ]
    },
    {
     "name": "stderr",
     "output_type": "stream",
     "text": [
      "/opt/conda/envs/team05/lib/python3.10/site-packages/Bio/PDB/PDBParser.py:388: PDBConstructionWarning: Ignoring unrecognized record 'TER' at line 6595\n",
      "  warnings.warn(\n",
      "/opt/conda/envs/team05/lib/python3.10/site-packages/Bio/PDB/PDBParser.py:388: PDBConstructionWarning: Ignoring unrecognized record 'END' at line 7107\n",
      "  warnings.warn(\n",
      "/opt/conda/envs/team05/lib/python3.10/site-packages/Bio/PDB/PDBParser.py:388: PDBConstructionWarning: Ignoring unrecognized record 'TER' at line 2207\n",
      "  warnings.warn(\n",
      "/opt/conda/envs/team05/lib/python3.10/site-packages/Bio/PDB/PDBParser.py:388: PDBConstructionWarning: Ignoring unrecognized record 'END' at line 2426\n",
      "  warnings.warn(\n"
     ]
    },
    {
     "name": "stdout",
     "output_type": "stream",
     "text": [
      "[OK] saved: /workspace/datasets/PDBbind2016/refined/1pz5/1pz5_remove_HEATM_protein.pdb\n",
      "[OK] saved: /workspace/datasets/PDBbind2016/refined/4o6w/4o6w_remove_HEATM_protein.pdb\n"
     ]
    },
    {
     "name": "stderr",
     "output_type": "stream",
     "text": [
      "/opt/conda/envs/team05/lib/python3.10/site-packages/Bio/PDB/PDBParser.py:388: PDBConstructionWarning: Ignoring unrecognized record 'TER' at line 5876\n",
      "  warnings.warn(\n",
      "/opt/conda/envs/team05/lib/python3.10/site-packages/Bio/PDB/PDBParser.py:388: PDBConstructionWarning: Ignoring unrecognized record 'TER' at line 7668\n",
      "  warnings.warn(\n",
      "/opt/conda/envs/team05/lib/python3.10/site-packages/Bio/PDB/PDBParser.py:388: PDBConstructionWarning: Ignoring unrecognized record 'TER' at line 4067\n",
      "  warnings.warn(\n"
     ]
    },
    {
     "name": "stdout",
     "output_type": "stream",
     "text": [
      "[OK] saved: /workspace/datasets/PDBbind2016/refined/3ldq/3ldq_remove_HEATM_protein.pdb\n",
      "[OK] saved: /workspace/datasets/PDBbind2016/refined/3t82/3t82_remove_HEATM_protein.pdb\n"
     ]
    },
    {
     "name": "stderr",
     "output_type": "stream",
     "text": [
      "/opt/conda/envs/team05/lib/python3.10/site-packages/Bio/PDB/PDBParser.py:388: PDBConstructionWarning: Ignoring unrecognized record 'TER' at line 6790\n",
      "  warnings.warn(\n",
      "/opt/conda/envs/team05/lib/python3.10/site-packages/Bio/PDB/PDBParser.py:388: PDBConstructionWarning: Ignoring unrecognized record 'TER' at line 13469\n",
      "  warnings.warn(\n"
     ]
    },
    {
     "name": "stdout",
     "output_type": "stream",
     "text": [
      "[OK] saved: /workspace/datasets/PDBbind2016/refined/4ngm/4ngm_remove_HEATM_protein.pdb\n",
      "[OK] saved: /workspace/datasets/PDBbind2016/refined/3e85/3e85_remove_HEATM_protein.pdb\n",
      "[OK] saved: /workspace/datasets/PDBbind2016/refined/1qy1/1qy1_remove_HEATM_protein.pdb\n"
     ]
    },
    {
     "name": "stderr",
     "output_type": "stream",
     "text": [
      "/opt/conda/envs/team05/lib/python3.10/site-packages/Bio/PDB/PDBParser.py:388: PDBConstructionWarning: Ignoring unrecognized record 'TER' at line 2332\n",
      "  warnings.warn(\n",
      "/opt/conda/envs/team05/lib/python3.10/site-packages/Bio/PDB/PDBParser.py:388: PDBConstructionWarning: Ignoring unrecognized record 'END' at line 2467\n",
      "  warnings.warn(\n",
      "/opt/conda/envs/team05/lib/python3.10/site-packages/Bio/PDB/PDBParser.py:388: PDBConstructionWarning: Ignoring unrecognized record 'TER' at line 2506\n",
      "  warnings.warn(\n",
      "/opt/conda/envs/team05/lib/python3.10/site-packages/Bio/PDB/PDBParser.py:388: PDBConstructionWarning: Ignoring unrecognized record 'TER' at line 1661\n",
      "  warnings.warn(\n",
      "/opt/conda/envs/team05/lib/python3.10/site-packages/Bio/PDB/PDBParser.py:388: PDBConstructionWarning: Ignoring unrecognized record 'END' at line 1720\n",
      "  warnings.warn(\n"
     ]
    },
    {
     "name": "stdout",
     "output_type": "stream",
     "text": [
      "[OK] saved: /workspace/datasets/PDBbind2016/refined/3s8l/3s8l_remove_HEATM_protein.pdb\n",
      "[OK] saved: /workspace/datasets/PDBbind2016/refined/3zxz/3zxz_remove_HEATM_protein.pdb\n"
     ]
    },
    {
     "name": "stderr",
     "output_type": "stream",
     "text": [
      "/opt/conda/envs/team05/lib/python3.10/site-packages/Bio/PDB/PDBParser.py:388: PDBConstructionWarning: Ignoring unrecognized record 'TER' at line 4670\n",
      "  warnings.warn(\n",
      "/opt/conda/envs/team05/lib/python3.10/site-packages/Bio/PDB/PDBParser.py:388: PDBConstructionWarning: Ignoring unrecognized record 'END' at line 4943\n",
      "  warnings.warn(\n",
      "/opt/conda/envs/team05/lib/python3.10/site-packages/Bio/PDB/PDBParser.py:388: PDBConstructionWarning: Ignoring unrecognized record 'TER' at line 3301\n",
      "  warnings.warn(\n",
      "/opt/conda/envs/team05/lib/python3.10/site-packages/Bio/PDB/PDBParser.py:388: PDBConstructionWarning: Ignoring unrecognized record 'TER' at line 1583\n",
      "  warnings.warn(\n",
      "/opt/conda/envs/team05/lib/python3.10/site-packages/Bio/PDB/PDBParser.py:388: PDBConstructionWarning: Ignoring unrecognized record 'TER' at line 3147\n",
      "  warnings.warn(\n",
      "/opt/conda/envs/team05/lib/python3.10/site-packages/Bio/PDB/PDBParser.py:388: PDBConstructionWarning: Ignoring unrecognized record 'END' at line 3344\n",
      "  warnings.warn(\n"
     ]
    },
    {
     "name": "stdout",
     "output_type": "stream",
     "text": [
      "[OK] saved: /workspace/datasets/PDBbind2016/refined/4j22/4j22_remove_HEATM_protein.pdb\n",
      "[OK] saved: /workspace/datasets/PDBbind2016/refined/4hla/4hla_remove_HEATM_protein.pdb\n"
     ]
    },
    {
     "name": "stderr",
     "output_type": "stream",
     "text": [
      "/opt/conda/envs/team05/lib/python3.10/site-packages/Bio/PDB/PDBParser.py:388: PDBConstructionWarning: Ignoring unrecognized record 'TER' at line 3987\n",
      "  warnings.warn(\n",
      "/opt/conda/envs/team05/lib/python3.10/site-packages/Bio/PDB/PDBParser.py:388: PDBConstructionWarning: Ignoring unrecognized record 'END' at line 4101\n",
      "  warnings.warn(\n",
      "/opt/conda/envs/team05/lib/python3.10/site-packages/Bio/PDB/PDBParser.py:388: PDBConstructionWarning: Ignoring unrecognized record 'TER' at line 3890\n",
      "  warnings.warn(\n",
      "/opt/conda/envs/team05/lib/python3.10/site-packages/Bio/PDB/PDBParser.py:388: PDBConstructionWarning: Ignoring unrecognized record 'END' at line 4152\n",
      "  warnings.warn(\n",
      "/opt/conda/envs/team05/lib/python3.10/site-packages/Bio/PDB/PDBParser.py:388: PDBConstructionWarning: Ignoring unrecognized record 'TER' at line 3111\n",
      "  warnings.warn(\n"
     ]
    },
    {
     "name": "stdout",
     "output_type": "stream",
     "text": [
      "[OK] saved: /workspace/datasets/PDBbind2016/refined/1n4h/1n4h_remove_HEATM_protein.pdb\n",
      "[OK] saved: /workspace/datasets/PDBbind2016/refined/3b5j/3b5j_remove_HEATM_protein.pdb\n"
     ]
    },
    {
     "name": "stderr",
     "output_type": "stream",
     "text": [
      "/opt/conda/envs/team05/lib/python3.10/site-packages/Bio/PDB/PDBParser.py:388: PDBConstructionWarning: Ignoring unrecognized record 'TER' at line 6155\n",
      "  warnings.warn(\n",
      "/opt/conda/envs/team05/lib/python3.10/site-packages/Bio/PDB/PDBParser.py:388: PDBConstructionWarning: Ignoring unrecognized record 'END' at line 6450\n",
      "  warnings.warn(\n"
     ]
    },
    {
     "name": "stdout",
     "output_type": "stream",
     "text": [
      "[OK] saved: /workspace/datasets/PDBbind2016/refined/4n8q/4n8q_remove_HEATM_protein.pdb\n"
     ]
    },
    {
     "name": "stderr",
     "output_type": "stream",
     "text": [
      "/opt/conda/envs/team05/lib/python3.10/site-packages/Bio/PDB/PDBParser.py:388: PDBConstructionWarning: Ignoring unrecognized record 'TER' at line 4803\n",
      "  warnings.warn(\n",
      "/opt/conda/envs/team05/lib/python3.10/site-packages/Bio/PDB/PDBParser.py:388: PDBConstructionWarning: Ignoring unrecognized record 'TER' at line 9557\n",
      "  warnings.warn(\n",
      "/opt/conda/envs/team05/lib/python3.10/site-packages/Bio/PDB/PDBParser.py:388: PDBConstructionWarning: Ignoring unrecognized record 'END' at line 9872\n",
      "  warnings.warn(\n",
      "/opt/conda/envs/team05/lib/python3.10/site-packages/Bio/PDB/PDBParser.py:388: PDBConstructionWarning: Ignoring unrecognized record 'TER' at line 1580\n",
      "  warnings.warn(\n",
      "/opt/conda/envs/team05/lib/python3.10/site-packages/Bio/PDB/PDBParser.py:388: PDBConstructionWarning: Ignoring unrecognized record 'TER' at line 3141\n",
      "  warnings.warn(\n",
      "/opt/conda/envs/team05/lib/python3.10/site-packages/Bio/PDB/PDBParser.py:388: PDBConstructionWarning: Ignoring unrecognized record 'END' at line 3264\n",
      "  warnings.warn(\n"
     ]
    },
    {
     "name": "stdout",
     "output_type": "stream",
     "text": [
      "[OK] saved: /workspace/datasets/PDBbind2016/refined/2csn/2csn_remove_HEATM_protein.pdb\n",
      "[OK] saved: /workspace/datasets/PDBbind2016/refined/2bpv/2bpv_remove_HEATM_protein.pdb\n"
     ]
    },
    {
     "name": "stderr",
     "output_type": "stream",
     "text": [
      "/opt/conda/envs/team05/lib/python3.10/site-packages/Bio/PDB/PDBParser.py:388: PDBConstructionWarning: Ignoring unrecognized record 'TER' at line 2475\n",
      "  warnings.warn(\n",
      "/opt/conda/envs/team05/lib/python3.10/site-packages/Bio/PDB/PDBParser.py:388: PDBConstructionWarning: Ignoring unrecognized record 'TER' at line 2155\n",
      "  warnings.warn(\n",
      "/opt/conda/envs/team05/lib/python3.10/site-packages/Bio/PDB/PDBParser.py:388: PDBConstructionWarning: Ignoring unrecognized record 'TER' at line 4256\n",
      "  warnings.warn(\n",
      "/opt/conda/envs/team05/lib/python3.10/site-packages/Bio/PDB/PDBParser.py:388: PDBConstructionWarning: Ignoring unrecognized record 'END' at line 4421\n",
      "  warnings.warn(\n"
     ]
    },
    {
     "name": "stdout",
     "output_type": "stream",
     "text": [
      "[OK] saved: /workspace/datasets/PDBbind2016/refined/4ww6/4ww6_remove_HEATM_protein.pdb\n",
      "[OK] saved: /workspace/datasets/PDBbind2016/refined/4rpn/4rpn_remove_HEATM_protein.pdb\n"
     ]
    },
    {
     "name": "stderr",
     "output_type": "stream",
     "text": [
      "/opt/conda/envs/team05/lib/python3.10/site-packages/Bio/PDB/PDBParser.py:388: PDBConstructionWarning: Ignoring unrecognized record 'TER' at line 4293\n",
      "  warnings.warn(\n",
      "/opt/conda/envs/team05/lib/python3.10/site-packages/Bio/PDB/PDBParser.py:388: PDBConstructionWarning: Ignoring unrecognized record 'END' at line 4419\n",
      "  warnings.warn(\n",
      "/opt/conda/envs/team05/lib/python3.10/site-packages/Bio/PDB/PDBParser.py:388: PDBConstructionWarning: Ignoring unrecognized record 'TER' at line 2027\n",
      "  warnings.warn(\n",
      "/opt/conda/envs/team05/lib/python3.10/site-packages/Bio/PDB/PDBParser.py:388: PDBConstructionWarning: Ignoring unrecognized record 'END' at line 2188\n",
      "  warnings.warn(\n",
      "/opt/conda/envs/team05/lib/python3.10/site-packages/Bio/PDB/PDBParser.py:388: PDBConstructionWarning: Ignoring unrecognized record 'TER' at line 1545\n",
      "  warnings.warn(\n"
     ]
    },
    {
     "name": "stdout",
     "output_type": "stream",
     "text": [
      "[OK] saved: /workspace/datasets/PDBbind2016/refined/2v2v/2v2v_remove_HEATM_protein.pdb\n",
      "[OK] saved: /workspace/datasets/PDBbind2016/refined/4cwt/4cwt_remove_HEATM_protein.pdb\n"
     ]
    },
    {
     "name": "stderr",
     "output_type": "stream",
     "text": [
      "/opt/conda/envs/team05/lib/python3.10/site-packages/Bio/PDB/PDBParser.py:388: PDBConstructionWarning: Ignoring unrecognized record 'TER' at line 3084\n",
      "  warnings.warn(\n",
      "/opt/conda/envs/team05/lib/python3.10/site-packages/Bio/PDB/PDBParser.py:388: PDBConstructionWarning: Ignoring unrecognized record 'END' at line 3228\n",
      "  warnings.warn(\n",
      "/opt/conda/envs/team05/lib/python3.10/site-packages/Bio/PDB/PDBParser.py:388: PDBConstructionWarning: Ignoring unrecognized record 'TER' at line 3212\n",
      "  warnings.warn(\n"
     ]
    },
    {
     "name": "stdout",
     "output_type": "stream",
     "text": [
      "[OK] saved: /workspace/datasets/PDBbind2016/refined/2qi7/2qi7_remove_HEATM_protein.pdb\n",
      "[OK] saved: /workspace/datasets/PDBbind2016/refined/4lm3/4lm3_remove_HEATM_protein.pdb\n"
     ]
    },
    {
     "name": "stderr",
     "output_type": "stream",
     "text": [
      "/opt/conda/envs/team05/lib/python3.10/site-packages/Bio/PDB/PDBParser.py:388: PDBConstructionWarning: Ignoring unrecognized record 'TER' at line 5984\n",
      "  warnings.warn(\n",
      "/opt/conda/envs/team05/lib/python3.10/site-packages/Bio/PDB/PDBParser.py:388: PDBConstructionWarning: Ignoring unrecognized record 'TER' at line 11182\n",
      "  warnings.warn(\n",
      "/opt/conda/envs/team05/lib/python3.10/site-packages/Bio/PDB/PDBParser.py:388: PDBConstructionWarning: Ignoring unrecognized record 'TER' at line 17053\n",
      "  warnings.warn(\n",
      "/opt/conda/envs/team05/lib/python3.10/site-packages/Bio/PDB/PDBParser.py:388: PDBConstructionWarning: Ignoring unrecognized record 'TER' at line 22251\n",
      "  warnings.warn(\n"
     ]
    },
    {
     "name": "stdout",
     "output_type": "stream",
     "text": [
      "[OK] saved: /workspace/datasets/PDBbind2016/refined/1v1m/1v1m_remove_HEATM_protein.pdb\n"
     ]
    },
    {
     "name": "stderr",
     "output_type": "stream",
     "text": [
      "/opt/conda/envs/team05/lib/python3.10/site-packages/Bio/PDB/PDBParser.py:388: PDBConstructionWarning: Ignoring unrecognized record 'TER' at line 12272\n",
      "  warnings.warn(\n"
     ]
    },
    {
     "name": "stdout",
     "output_type": "stream",
     "text": [
      "[OK] saved: /workspace/datasets/PDBbind2016/refined/4b9z/4b9z_remove_HEATM_protein.pdb\n"
     ]
    },
    {
     "name": "stderr",
     "output_type": "stream",
     "text": [
      "/opt/conda/envs/team05/lib/python3.10/site-packages/Bio/PDB/PDBParser.py:388: PDBConstructionWarning: Ignoring unrecognized record 'TER' at line 6621\n",
      "  warnings.warn(\n",
      "/opt/conda/envs/team05/lib/python3.10/site-packages/Bio/PDB/PDBParser.py:388: PDBConstructionWarning: Ignoring unrecognized record 'TER' at line 13165\n",
      "  warnings.warn(\n"
     ]
    },
    {
     "name": "stdout",
     "output_type": "stream",
     "text": [
      "[OK] saved: /workspace/datasets/PDBbind2016/refined/1ew9/1ew9_remove_HEATM_protein.pdb\n",
      "[OK] saved: /workspace/datasets/PDBbind2016/refined/1ppm/1ppm_remove_HEATM_protein.pdb\n"
     ]
    },
    {
     "name": "stderr",
     "output_type": "stream",
     "text": [
      "/opt/conda/envs/team05/lib/python3.10/site-packages/Bio/PDB/PDBParser.py:388: PDBConstructionWarning: Ignoring unrecognized record 'TER' at line 4576\n",
      "  warnings.warn(\n",
      "/opt/conda/envs/team05/lib/python3.10/site-packages/Bio/PDB/PDBParser.py:388: PDBConstructionWarning: Ignoring unrecognized record 'TER' at line 4067\n",
      "  warnings.warn(\n",
      "/opt/conda/envs/team05/lib/python3.10/site-packages/Bio/PDB/PDBParser.py:388: PDBConstructionWarning: Ignoring unrecognized record 'TER' at line 2052\n",
      "  warnings.warn(\n"
     ]
    },
    {
     "name": "stdout",
     "output_type": "stream",
     "text": [
      "[OK] saved: /workspace/datasets/PDBbind2016/refined/2x7t/2x7t_remove_HEATM_protein.pdb\n"
     ]
    },
    {
     "name": "stderr",
     "output_type": "stream",
     "text": [
      "/opt/conda/envs/team05/lib/python3.10/site-packages/Bio/PDB/PDBParser.py:388: PDBConstructionWarning: Ignoring unrecognized record 'TER' at line 4065\n",
      "  warnings.warn(\n",
      "/opt/conda/envs/team05/lib/python3.10/site-packages/Bio/PDB/PDBParser.py:388: PDBConstructionWarning: Ignoring unrecognized record 'TER' at line 4067\n",
      "  warnings.warn(\n"
     ]
    },
    {
     "name": "stdout",
     "output_type": "stream",
     "text": [
      "[OK] saved: /workspace/datasets/PDBbind2016/refined/3wto/3wto_remove_HEATM_protein.pdb\n",
      "[OK] saved: /workspace/datasets/PDBbind2016/refined/3hs4/3hs4_remove_HEATM_protein.pdb\n"
     ]
    },
    {
     "name": "stderr",
     "output_type": "stream",
     "text": [
      "/opt/conda/envs/team05/lib/python3.10/site-packages/Bio/PDB/PDBParser.py:388: PDBConstructionWarning: Ignoring unrecognized record 'TER' at line 5004\n",
      "  warnings.warn(\n",
      "/opt/conda/envs/team05/lib/python3.10/site-packages/Bio/PDB/PDBParser.py:388: PDBConstructionWarning: Ignoring unrecognized record 'END' at line 5289\n",
      "  warnings.warn(\n",
      "/opt/conda/envs/team05/lib/python3.10/site-packages/Bio/PDB/PDBParser.py:388: PDBConstructionWarning: Ignoring unrecognized record 'TER' at line 3987\n",
      "  warnings.warn(\n",
      "/opt/conda/envs/team05/lib/python3.10/site-packages/Bio/PDB/PDBParser.py:388: PDBConstructionWarning: Ignoring unrecognized record 'END' at line 4361\n",
      "  warnings.warn(\n"
     ]
    },
    {
     "name": "stdout",
     "output_type": "stream",
     "text": [
      "[OK] saved: /workspace/datasets/PDBbind2016/refined/2r75/2r75_remove_HEATM_protein.pdb\n",
      "[OK] saved: /workspace/datasets/PDBbind2016/refined/1nq7/1nq7_remove_HEATM_protein.pdb\n"
     ]
    },
    {
     "name": "stderr",
     "output_type": "stream",
     "text": [
      "/opt/conda/envs/team05/lib/python3.10/site-packages/Bio/PDB/PDBParser.py:388: PDBConstructionWarning: Ignoring unrecognized record 'TER' at line 8194\n",
      "  warnings.warn(\n",
      "/opt/conda/envs/team05/lib/python3.10/site-packages/Bio/PDB/PDBParser.py:388: PDBConstructionWarning: Ignoring unrecognized record 'TER' at line 16027\n",
      "  warnings.warn(\n",
      "/opt/conda/envs/team05/lib/python3.10/site-packages/Bio/PDB/PDBParser.py:388: PDBConstructionWarning: Ignoring unrecognized record 'TER' at line 23916\n",
      "  warnings.warn(\n",
      "/opt/conda/envs/team05/lib/python3.10/site-packages/Bio/PDB/PDBParser.py:388: PDBConstructionWarning: Ignoring unrecognized record 'TER' at line 31790\n",
      "  warnings.warn(\n",
      "/opt/conda/envs/team05/lib/python3.10/site-packages/Bio/PDB/PDBParser.py:388: PDBConstructionWarning: Ignoring unrecognized record 'TER' at line 39569\n",
      "  warnings.warn(\n",
      "/opt/conda/envs/team05/lib/python3.10/site-packages/Bio/PDB/PDBParser.py:388: PDBConstructionWarning: Ignoring unrecognized record 'TER' at line 47212\n",
      "  warnings.warn(\n"
     ]
    },
    {
     "name": "stdout",
     "output_type": "stream",
     "text": [
      "[OK] saved: /workspace/datasets/PDBbind2016/refined/4k3n/4k3n_remove_HEATM_protein.pdb\n"
     ]
    },
    {
     "name": "stderr",
     "output_type": "stream",
     "text": [
      "/opt/conda/envs/team05/lib/python3.10/site-packages/Bio/PDB/PDBParser.py:388: PDBConstructionWarning: Ignoring unrecognized record 'TER' at line 4640\n",
      "  warnings.warn(\n",
      "/opt/conda/envs/team05/lib/python3.10/site-packages/Bio/PDB/PDBParser.py:388: PDBConstructionWarning: Ignoring unrecognized record 'TER' at line 9185\n",
      "  warnings.warn(\n",
      "/opt/conda/envs/team05/lib/python3.10/site-packages/Bio/PDB/PDBParser.py:388: PDBConstructionWarning: Ignoring unrecognized record 'TER' at line 13730\n",
      "  warnings.warn(\n",
      "/opt/conda/envs/team05/lib/python3.10/site-packages/Bio/PDB/PDBParser.py:388: PDBConstructionWarning: Ignoring unrecognized record 'TER' at line 18275\n",
      "  warnings.warn(\n",
      "/opt/conda/envs/team05/lib/python3.10/site-packages/Bio/PDB/PDBParser.py:388: PDBConstructionWarning: Ignoring unrecognized record 'END' at line 18895\n",
      "  warnings.warn(\n"
     ]
    },
    {
     "name": "stdout",
     "output_type": "stream",
     "text": [
      "[OK] saved: /workspace/datasets/PDBbind2016/refined/1f73/1f73_remove_HEATM_protein.pdb\n"
     ]
    },
    {
     "name": "stderr",
     "output_type": "stream",
     "text": [
      "/opt/conda/envs/team05/lib/python3.10/site-packages/Bio/PDB/PDBParser.py:388: PDBConstructionWarning: Ignoring unrecognized record 'TER' at line 8160\n",
      "  warnings.warn(\n"
     ]
    },
    {
     "name": "stdout",
     "output_type": "stream",
     "text": [
      "[OK] saved: /workspace/datasets/PDBbind2016/refined/2wly/2wly_remove_HEATM_protein.pdb\n"
     ]
    },
    {
     "name": "stderr",
     "output_type": "stream",
     "text": [
      "/opt/conda/envs/team05/lib/python3.10/site-packages/Bio/PDB/PDBParser.py:388: PDBConstructionWarning: Ignoring unrecognized record 'TER' at line 9205\n",
      "  warnings.warn(\n",
      "/opt/conda/envs/team05/lib/python3.10/site-packages/Bio/PDB/PDBParser.py:388: PDBConstructionWarning: Ignoring unrecognized record 'TER' at line 1166\n",
      "  warnings.warn(\n",
      "/opt/conda/envs/team05/lib/python3.10/site-packages/Bio/PDB/PDBParser.py:388: PDBConstructionWarning: Ignoring unrecognized record 'TER' at line 2317\n",
      "  warnings.warn(\n"
     ]
    },
    {
     "name": "stdout",
     "output_type": "stream",
     "text": [
      "[OK] saved: /workspace/datasets/PDBbind2016/refined/1o86/1o86_remove_HEATM_protein.pdb\n",
      "[OK] saved: /workspace/datasets/PDBbind2016/refined/3dgo/3dgo_remove_HEATM_protein.pdb\n",
      "[OK] saved: /workspace/datasets/PDBbind2016/refined/2vwl/2vwl_remove_HEATM_protein.pdb\n"
     ]
    },
    {
     "name": "stderr",
     "output_type": "stream",
     "text": [
      "/opt/conda/envs/team05/lib/python3.10/site-packages/Bio/PDB/PDBParser.py:388: PDBConstructionWarning: Ignoring unrecognized record 'TER' at line 3688\n",
      "  warnings.warn(\n",
      "/opt/conda/envs/team05/lib/python3.10/site-packages/Bio/PDB/PDBParser.py:388: PDBConstructionWarning: Ignoring unrecognized record 'TER' at line 4284\n",
      "  warnings.warn(\n",
      "/opt/conda/envs/team05/lib/python3.10/site-packages/Bio/PDB/PDBParser.py:388: PDBConstructionWarning: Ignoring unrecognized record 'TER' at line 6738\n",
      "  warnings.warn(\n",
      "/opt/conda/envs/team05/lib/python3.10/site-packages/Bio/PDB/PDBParser.py:388: PDBConstructionWarning: Ignoring unrecognized record 'END' at line 6973\n",
      "  warnings.warn(\n",
      "/opt/conda/envs/team05/lib/python3.10/site-packages/Bio/PDB/PDBParser.py:388: PDBConstructionWarning: Ignoring unrecognized record 'TER' at line 2941\n",
      "  warnings.warn(\n"
     ]
    },
    {
     "name": "stdout",
     "output_type": "stream",
     "text": [
      "[OK] saved: /workspace/datasets/PDBbind2016/refined/3ies/3ies_remove_HEATM_protein.pdb\n",
      "[OK] saved: /workspace/datasets/PDBbind2016/refined/3u7l/3u7l_remove_HEATM_protein.pdb\n"
     ]
    },
    {
     "name": "stderr",
     "output_type": "stream",
     "text": [
      "/opt/conda/envs/team05/lib/python3.10/site-packages/Bio/PDB/PDBParser.py:388: PDBConstructionWarning: Ignoring unrecognized record 'TER' at line 3770\n",
      "  warnings.warn(\n",
      "/opt/conda/envs/team05/lib/python3.10/site-packages/Bio/PDB/PDBParser.py:388: PDBConstructionWarning: Ignoring unrecognized record 'END' at line 4003\n",
      "  warnings.warn(\n",
      "/opt/conda/envs/team05/lib/python3.10/site-packages/Bio/PDB/PDBParser.py:388: PDBConstructionWarning: Ignoring unrecognized record 'TER' at line 1581\n",
      "  warnings.warn(\n",
      "/opt/conda/envs/team05/lib/python3.10/site-packages/Bio/PDB/PDBParser.py:388: PDBConstructionWarning: Ignoring unrecognized record 'TER' at line 3143\n",
      "  warnings.warn(\n",
      "/opt/conda/envs/team05/lib/python3.10/site-packages/Bio/PDB/PDBParser.py:388: PDBConstructionWarning: Ignoring unrecognized record 'END' at line 3152\n",
      "  warnings.warn(\n"
     ]
    },
    {
     "name": "stdout",
     "output_type": "stream",
     "text": [
      "[OK] saved: /workspace/datasets/PDBbind2016/refined/4o3f/4o3f_remove_HEATM_protein.pdb\n",
      "[OK] saved: /workspace/datasets/PDBbind2016/refined/3aid/3aid_remove_HEATM_protein.pdb\n"
     ]
    },
    {
     "name": "stderr",
     "output_type": "stream",
     "text": [
      "/opt/conda/envs/team05/lib/python3.10/site-packages/Bio/PDB/PDBParser.py:388: PDBConstructionWarning: Ignoring unrecognized record 'TER' at line 5119\n",
      "  warnings.warn(\n",
      "/opt/conda/envs/team05/lib/python3.10/site-packages/Bio/PDB/PDBParser.py:388: PDBConstructionWarning: Ignoring unrecognized record 'TER' at line 2807\n",
      "  warnings.warn(\n",
      "/opt/conda/envs/team05/lib/python3.10/site-packages/Bio/PDB/PDBParser.py:388: PDBConstructionWarning: Ignoring unrecognized record 'TER' at line 5583\n",
      "  warnings.warn(\n"
     ]
    },
    {
     "name": "stdout",
     "output_type": "stream",
     "text": [
      "[OK] saved: /workspace/datasets/PDBbind2016/refined/3d91/3d91_remove_HEATM_protein.pdb\n",
      "[OK] saved: /workspace/datasets/PDBbind2016/refined/1qin/1qin_remove_HEATM_protein.pdb\n"
     ]
    },
    {
     "name": "stderr",
     "output_type": "stream",
     "text": [
      "/opt/conda/envs/team05/lib/python3.10/site-packages/Bio/PDB/PDBParser.py:388: PDBConstructionWarning: Ignoring unrecognized record 'TER' at line 7411\n",
      "  warnings.warn(\n",
      "/opt/conda/envs/team05/lib/python3.10/site-packages/Bio/PDB/PDBParser.py:388: PDBConstructionWarning: Ignoring unrecognized record 'TER' at line 14424\n",
      "  warnings.warn(\n",
      "/opt/conda/envs/team05/lib/python3.10/site-packages/Bio/PDB/PDBParser.py:388: PDBConstructionWarning: Ignoring unrecognized record 'TER' at line 21619\n",
      "  warnings.warn(\n",
      "/opt/conda/envs/team05/lib/python3.10/site-packages/Bio/PDB/PDBParser.py:388: PDBConstructionWarning: Ignoring unrecognized record 'TER' at line 28632\n",
      "  warnings.warn(\n",
      "/opt/conda/envs/team05/lib/python3.10/site-packages/Bio/PDB/PDBParser.py:388: PDBConstructionWarning: Ignoring unrecognized record 'TER' at line 35827\n",
      "  warnings.warn(\n",
      "/opt/conda/envs/team05/lib/python3.10/site-packages/Bio/PDB/PDBParser.py:388: PDBConstructionWarning: Ignoring unrecognized record 'TER' at line 42840\n",
      "  warnings.warn(\n"
     ]
    },
    {
     "name": "stdout",
     "output_type": "stream",
     "text": [
      "[OK] saved: /workspace/datasets/PDBbind2016/refined/4ko8/4ko8_remove_HEATM_protein.pdb\n",
      "[OK] saved: /workspace/datasets/PDBbind2016/refined/187l/187l_remove_HEATM_protein.pdb\n",
      "[OK] saved: /workspace/datasets/PDBbind2016/refined/2ez7/2ez7_remove_HEATM_protein.pdb\n"
     ]
    },
    {
     "name": "stderr",
     "output_type": "stream",
     "text": [
      "/opt/conda/envs/team05/lib/python3.10/site-packages/Bio/PDB/PDBParser.py:388: PDBConstructionWarning: Ignoring unrecognized record 'TER' at line 2618\n",
      "  warnings.warn(\n",
      "/opt/conda/envs/team05/lib/python3.10/site-packages/Bio/PDB/PDBParser.py:388: PDBConstructionWarning: Ignoring unrecognized record 'END' at line 2745\n",
      "  warnings.warn(\n",
      "/opt/conda/envs/team05/lib/python3.10/site-packages/Bio/PDB/PDBParser.py:388: PDBConstructionWarning: Ignoring unrecognized record 'TER' at line 4083\n",
      "  warnings.warn(\n",
      "/opt/conda/envs/team05/lib/python3.10/site-packages/Bio/PDB/PDBParser.py:388: PDBConstructionWarning: Ignoring unrecognized record 'TER' at line 510\n",
      "  warnings.warn(\n",
      "/opt/conda/envs/team05/lib/python3.10/site-packages/Bio/PDB/PDBParser.py:388: PDBConstructionWarning: Ignoring unrecognized record 'TER' at line 4561\n",
      "  warnings.warn(\n",
      "/opt/conda/envs/team05/lib/python3.10/site-packages/Bio/PDB/PDBParser.py:388: PDBConstructionWarning: Ignoring unrecognized record 'TER' at line 3605\n",
      "  warnings.warn(\n"
     ]
    },
    {
     "name": "stdout",
     "output_type": "stream",
     "text": [
      "[OK] saved: /workspace/datasets/PDBbind2016/refined/1c4u/1c4u_remove_HEATM_protein.pdb\n",
      "[OK] saved: /workspace/datasets/PDBbind2016/refined/1ele/1ele_remove_HEATM_protein.pdb\n"
     ]
    },
    {
     "name": "stderr",
     "output_type": "stream",
     "text": [
      "/opt/conda/envs/team05/lib/python3.10/site-packages/Bio/PDB/PDBParser.py:388: PDBConstructionWarning: Ignoring unrecognized record 'TER' at line 7400\n",
      "  warnings.warn(\n",
      "/opt/conda/envs/team05/lib/python3.10/site-packages/Bio/PDB/PDBParser.py:388: PDBConstructionWarning: Ignoring unrecognized record 'TER' at line 14809\n",
      "  warnings.warn(\n",
      "/opt/conda/envs/team05/lib/python3.10/site-packages/Bio/PDB/PDBParser.py:388: PDBConstructionWarning: Ignoring unrecognized record 'END' at line 15012\n",
      "  warnings.warn(\n"
     ]
    },
    {
     "name": "stdout",
     "output_type": "stream",
     "text": [
      "[OK] saved: /workspace/datasets/PDBbind2016/refined/4ipn/4ipn_remove_HEATM_protein.pdb\n"
     ]
    },
    {
     "name": "stderr",
     "output_type": "stream",
     "text": [
      "/opt/conda/envs/team05/lib/python3.10/site-packages/Bio/PDB/PDBParser.py:388: PDBConstructionWarning: Ignoring unrecognized record 'TER' at line 4926\n",
      "  warnings.warn(\n",
      "/opt/conda/envs/team05/lib/python3.10/site-packages/Bio/PDB/PDBParser.py:388: PDBConstructionWarning: Ignoring unrecognized record 'TER' at line 9600\n",
      "  warnings.warn(\n"
     ]
    },
    {
     "name": "stdout",
     "output_type": "stream",
     "text": [
      "[OK] saved: /workspace/datasets/PDBbind2016/refined/2e91/2e91_remove_HEATM_protein.pdb\n",
      "[OK] saved: /workspace/datasets/PDBbind2016/refined/2gkl/2gkl_remove_HEATM_protein.pdb\n"
     ]
    },
    {
     "name": "stderr",
     "output_type": "stream",
     "text": [
      "/opt/conda/envs/team05/lib/python3.10/site-packages/Bio/PDB/PDBParser.py:388: PDBConstructionWarning: Ignoring unrecognized record 'TER' at line 3536\n",
      "  warnings.warn(\n",
      "/opt/conda/envs/team05/lib/python3.10/site-packages/Bio/PDB/PDBParser.py:388: PDBConstructionWarning: Ignoring unrecognized record 'TER' at line 4886\n",
      "  warnings.warn(\n",
      "/opt/conda/envs/team05/lib/python3.10/site-packages/Bio/PDB/PDBParser.py:388: PDBConstructionWarning: Ignoring unrecognized record 'TER' at line 9055\n",
      "  warnings.warn(\n",
      "/opt/conda/envs/team05/lib/python3.10/site-packages/Bio/PDB/PDBParser.py:388: PDBConstructionWarning: Ignoring unrecognized record 'TER' at line 6038\n",
      "  warnings.warn(\n"
     ]
    },
    {
     "name": "stdout",
     "output_type": "stream",
     "text": [
      "[OK] saved: /workspace/datasets/PDBbind2016/refined/4bck/4bck_remove_HEATM_protein.pdb\n"
     ]
    },
    {
     "name": "stderr",
     "output_type": "stream",
     "text": [
      "/opt/conda/envs/team05/lib/python3.10/site-packages/Bio/PDB/PDBParser.py:388: PDBConstructionWarning: Ignoring unrecognized record 'TER' at line 11951\n",
      "  warnings.warn(\n",
      "/opt/conda/envs/team05/lib/python3.10/site-packages/Bio/PDB/PDBParser.py:388: PDBConstructionWarning: Ignoring unrecognized record 'TER' at line 17866\n",
      "  warnings.warn(\n",
      "/opt/conda/envs/team05/lib/python3.10/site-packages/Bio/PDB/PDBParser.py:388: PDBConstructionWarning: Ignoring unrecognized record 'TER' at line 23779\n",
      "  warnings.warn(\n"
     ]
    },
    {
     "name": "stdout",
     "output_type": "stream",
     "text": [
      "[OK] saved: /workspace/datasets/PDBbind2016/refined/2gyi/2gyi_remove_HEATM_protein.pdb\n",
      "[OK] saved: /workspace/datasets/PDBbind2016/refined/2pym/2pym_remove_HEATM_protein.pdb\n"
     ]
    },
    {
     "name": "stderr",
     "output_type": "stream",
     "text": [
      "/opt/conda/envs/team05/lib/python3.10/site-packages/Bio/PDB/PDBParser.py:388: PDBConstructionWarning: Ignoring unrecognized record 'TER' at line 1567\n",
      "  warnings.warn(\n",
      "/opt/conda/envs/team05/lib/python3.10/site-packages/Bio/PDB/PDBParser.py:229: PDBConstructionWarning: Negative occupancy in one or more atoms\n",
      "  warnings.warn(\n",
      "/opt/conda/envs/team05/lib/python3.10/site-packages/Bio/PDB/PDBParser.py:388: PDBConstructionWarning: Ignoring unrecognized record 'TER' at line 3115\n",
      "  warnings.warn(\n",
      "/opt/conda/envs/team05/lib/python3.10/site-packages/Bio/PDB/PDBParser.py:388: PDBConstructionWarning: Ignoring unrecognized record 'END' at line 3254\n",
      "  warnings.warn(\n",
      "/opt/conda/envs/team05/lib/python3.10/site-packages/Bio/PDB/PDBParser.py:388: PDBConstructionWarning: Ignoring unrecognized record 'TER' at line 4067\n",
      "  warnings.warn(\n"
     ]
    },
    {
     "name": "stdout",
     "output_type": "stream",
     "text": [
      "[OK] saved: /workspace/datasets/PDBbind2016/refined/3mzc/3mzc_remove_HEATM_protein.pdb\n",
      "[OK] saved: /workspace/datasets/PDBbind2016/refined/3pwm/3pwm_remove_HEATM_protein.pdb\n"
     ]
    },
    {
     "name": "stderr",
     "output_type": "stream",
     "text": [
      "/opt/conda/envs/team05/lib/python3.10/site-packages/Bio/PDB/PDBParser.py:388: PDBConstructionWarning: Ignoring unrecognized record 'TER' at line 1581\n",
      "  warnings.warn(\n",
      "/opt/conda/envs/team05/lib/python3.10/site-packages/Bio/PDB/PDBParser.py:388: PDBConstructionWarning: Ignoring unrecognized record 'TER' at line 3143\n",
      "  warnings.warn(\n",
      "/opt/conda/envs/team05/lib/python3.10/site-packages/Bio/PDB/PDBParser.py:388: PDBConstructionWarning: Ignoring unrecognized record 'END' at line 3416\n",
      "  warnings.warn(\n",
      "/opt/conda/envs/team05/lib/python3.10/site-packages/Bio/PDB/PDBParser.py:388: PDBConstructionWarning: Ignoring unrecognized record 'TER' at line 8261\n",
      "  warnings.warn(\n",
      "/opt/conda/envs/team05/lib/python3.10/site-packages/Bio/PDB/PDBParser.py:388: PDBConstructionWarning: Ignoring unrecognized record 'TER' at line 16439\n",
      "  warnings.warn(\n",
      "/opt/conda/envs/team05/lib/python3.10/site-packages/Bio/PDB/PDBParser.py:388: PDBConstructionWarning: Ignoring unrecognized record 'END' at line 16632\n",
      "  warnings.warn(\n"
     ]
    },
    {
     "name": "stdout",
     "output_type": "stream",
     "text": [
      "[OK] saved: /workspace/datasets/PDBbind2016/refined/3f48/3f48_remove_HEATM_protein.pdb\n",
      "[OK] saved: /workspace/datasets/PDBbind2016/refined/4jv8/4jv8_remove_HEATM_protein.pdb\n"
     ]
    },
    {
     "name": "stderr",
     "output_type": "stream",
     "text": [
      "/opt/conda/envs/team05/lib/python3.10/site-packages/Bio/PDB/PDBParser.py:388: PDBConstructionWarning: Ignoring unrecognized record 'TER' at line 2402\n",
      "  warnings.warn(\n",
      "/opt/conda/envs/team05/lib/python3.10/site-packages/Bio/PDB/PDBParser.py:388: PDBConstructionWarning: Ignoring unrecognized record 'END' at line 2654\n",
      "  warnings.warn(\n",
      "/opt/conda/envs/team05/lib/python3.10/site-packages/Bio/PDB/PDBParser.py:388: PDBConstructionWarning: Ignoring unrecognized record 'TER' at line 6169\n",
      "  warnings.warn(\n",
      "/opt/conda/envs/team05/lib/python3.10/site-packages/Bio/PDB/PDBParser.py:388: PDBConstructionWarning: Ignoring unrecognized record 'TER' at line 12177\n",
      "  warnings.warn(\n"
     ]
    },
    {
     "name": "stdout",
     "output_type": "stream",
     "text": [
      "[OK] saved: /workspace/datasets/PDBbind2016/refined/3kmx/3kmx_remove_HEATM_protein.pdb\n",
      "[OK] saved: /workspace/datasets/PDBbind2016/refined/2qfu/2qfu_remove_HEATM_protein.pdb\n"
     ]
    },
    {
     "name": "stderr",
     "output_type": "stream",
     "text": [
      "/opt/conda/envs/team05/lib/python3.10/site-packages/Bio/PDB/PDBParser.py:388: PDBConstructionWarning: Ignoring unrecognized record 'TER' at line 6513\n",
      "  warnings.warn(\n",
      "/opt/conda/envs/team05/lib/python3.10/site-packages/Bio/PDB/PDBParser.py:388: PDBConstructionWarning: Ignoring unrecognized record 'END' at line 7074\n",
      "  warnings.warn(\n",
      "/opt/conda/envs/team05/lib/python3.10/site-packages/Bio/PDB/PDBParser.py:388: PDBConstructionWarning: Ignoring unrecognized record 'TER' at line 2958\n",
      "  warnings.warn(\n",
      "/opt/conda/envs/team05/lib/python3.10/site-packages/Bio/PDB/PDBParser.py:388: PDBConstructionWarning: Ignoring unrecognized record 'END' at line 3095\n",
      "  warnings.warn(\n"
     ]
    },
    {
     "name": "stdout",
     "output_type": "stream",
     "text": [
      "[OK] saved: /workspace/datasets/PDBbind2016/refined/4jwk/4jwk_remove_HEATM_protein.pdb\n"
     ]
    },
    {
     "name": "stderr",
     "output_type": "stream",
     "text": [
      "/opt/conda/envs/team05/lib/python3.10/site-packages/Bio/PDB/PDBParser.py:388: PDBConstructionWarning: Ignoring unrecognized record 'TER' at line 8275\n",
      "  warnings.warn(\n",
      "/opt/conda/envs/team05/lib/python3.10/site-packages/Bio/PDB/PDBParser.py:388: PDBConstructionWarning: Ignoring unrecognized record 'TER' at line 2232\n",
      "  warnings.warn(\n",
      "/opt/conda/envs/team05/lib/python3.10/site-packages/Bio/PDB/PDBParser.py:388: PDBConstructionWarning: Ignoring unrecognized record 'END' at line 2350\n",
      "  warnings.warn(\n"
     ]
    },
    {
     "name": "stdout",
     "output_type": "stream",
     "text": [
      "[OK] saved: /workspace/datasets/PDBbind2016/refined/1b5j/1b5j_remove_HEATM_protein.pdb\n",
      "[OK] saved: /workspace/datasets/PDBbind2016/refined/3qkd/3qkd_remove_HEATM_protein.pdb\n"
     ]
    },
    {
     "name": "stderr",
     "output_type": "stream",
     "text": [
      "/opt/conda/envs/team05/lib/python3.10/site-packages/Bio/PDB/PDBParser.py:388: PDBConstructionWarning: Ignoring unrecognized record 'TER' at line 5470\n",
      "  warnings.warn(\n",
      "/opt/conda/envs/team05/lib/python3.10/site-packages/Bio/PDB/PDBParser.py:388: PDBConstructionWarning: Ignoring unrecognized record 'TER' at line 10885\n",
      "  warnings.warn(\n",
      "/opt/conda/envs/team05/lib/python3.10/site-packages/Bio/PDB/PDBParser.py:388: PDBConstructionWarning: Ignoring unrecognized record 'END' at line 11640\n",
      "  warnings.warn(\n"
     ]
    },
    {
     "name": "stdout",
     "output_type": "stream",
     "text": [
      "[OK] saved: /workspace/datasets/PDBbind2016/refined/1zoh/1zoh_remove_HEATM_protein.pdb\n",
      "[OK] saved: /workspace/datasets/PDBbind2016/refined/3sug/3sug_remove_HEATM_protein.pdb\n"
     ]
    },
    {
     "name": "stderr",
     "output_type": "stream",
     "text": [
      "/opt/conda/envs/team05/lib/python3.10/site-packages/Bio/PDB/PDBParser.py:388: PDBConstructionWarning: Ignoring unrecognized record 'TER' at line 2903\n",
      "  warnings.warn(\n",
      "/opt/conda/envs/team05/lib/python3.10/site-packages/Bio/PDB/PDBParser.py:388: PDBConstructionWarning: Ignoring unrecognized record 'TER' at line 4336\n",
      "  warnings.warn(\n",
      "/opt/conda/envs/team05/lib/python3.10/site-packages/Bio/PDB/PDBParser.py:388: PDBConstructionWarning: Ignoring unrecognized record 'END' at line 4483\n",
      "  warnings.warn(\n"
     ]
    },
    {
     "name": "stdout",
     "output_type": "stream",
     "text": [
      "[OK] saved: /workspace/datasets/PDBbind2016/refined/1b8n/1b8n_remove_HEATM_protein.pdb\n",
      "[OK] saved: /workspace/datasets/PDBbind2016/refined/3ip9/3ip9_remove_HEATM_protein.pdb\n"
     ]
    },
    {
     "name": "stderr",
     "output_type": "stream",
     "text": [
      "/opt/conda/envs/team05/lib/python3.10/site-packages/Bio/PDB/PDBParser.py:388: PDBConstructionWarning: Ignoring unrecognized record 'TER' at line 5149\n",
      "  warnings.warn(\n",
      "/opt/conda/envs/team05/lib/python3.10/site-packages/Bio/PDB/PDBParser.py:388: PDBConstructionWarning: Ignoring unrecognized record 'END' at line 5486\n",
      "  warnings.warn(\n",
      "/opt/conda/envs/team05/lib/python3.10/site-packages/Bio/PDB/PDBParser.py:388: PDBConstructionWarning: Ignoring unrecognized record 'TER' at line 6057\n",
      "  warnings.warn(\n",
      "/opt/conda/envs/team05/lib/python3.10/site-packages/Bio/PDB/PDBParser.py:388: PDBConstructionWarning: Ignoring unrecognized record 'TER' at line 12051\n",
      "  warnings.warn(\n",
      "/opt/conda/envs/team05/lib/python3.10/site-packages/Bio/PDB/PDBParser.py:388: PDBConstructionWarning: Ignoring unrecognized record 'TER' at line 4005\n",
      "  warnings.warn(\n",
      "/opt/conda/envs/team05/lib/python3.10/site-packages/Bio/PDB/PDBParser.py:388: PDBConstructionWarning: Ignoring unrecognized record 'END' at line 4096\n",
      "  warnings.warn(\n"
     ]
    },
    {
     "name": "stdout",
     "output_type": "stream",
     "text": [
      "[OK] saved: /workspace/datasets/PDBbind2016/refined/2dw7/2dw7_remove_HEATM_protein.pdb\n",
      "[OK] saved: /workspace/datasets/PDBbind2016/refined/3uxd/3uxd_remove_HEATM_protein.pdb\n"
     ]
    },
    {
     "name": "stderr",
     "output_type": "stream",
     "text": [
      "/opt/conda/envs/team05/lib/python3.10/site-packages/Bio/PDB/PDBParser.py:388: PDBConstructionWarning: Ignoring unrecognized record 'TER' at line 3688\n",
      "  warnings.warn(\n",
      "/opt/conda/envs/team05/lib/python3.10/site-packages/Bio/PDB/PDBParser.py:388: PDBConstructionWarning: Ignoring unrecognized record 'TER' at line 4289\n",
      "  warnings.warn(\n",
      "/opt/conda/envs/team05/lib/python3.10/site-packages/Bio/PDB/PDBParser.py:388: PDBConstructionWarning: Ignoring unrecognized record 'TER' at line 3198\n",
      "  warnings.warn(\n"
     ]
    },
    {
     "name": "stdout",
     "output_type": "stream",
     "text": [
      "[OK] saved: /workspace/datasets/PDBbind2016/refined/2vwo/2vwo_remove_HEATM_protein.pdb\n",
      "[OK] saved: /workspace/datasets/PDBbind2016/refined/4lkq/4lkq_remove_HEATM_protein.pdb\n"
     ]
    },
    {
     "name": "stderr",
     "output_type": "stream",
     "text": [
      "/opt/conda/envs/team05/lib/python3.10/site-packages/Bio/PDB/PDBParser.py:388: PDBConstructionWarning: Ignoring unrecognized record 'TER' at line 4344\n",
      "  warnings.warn(\n",
      "/opt/conda/envs/team05/lib/python3.10/site-packages/Bio/PDB/PDBParser.py:388: PDBConstructionWarning: Ignoring unrecognized record 'TER' at line 4750\n",
      "  warnings.warn(\n"
     ]
    },
    {
     "name": "stdout",
     "output_type": "stream",
     "text": [
      "[OK] saved: /workspace/datasets/PDBbind2016/refined/1rpj/1rpj_remove_HEATM_protein.pdb\n"
     ]
    },
    {
     "name": "stderr",
     "output_type": "stream",
     "text": [
      "/opt/conda/envs/team05/lib/python3.10/site-packages/Bio/PDB/PDBParser.py:388: PDBConstructionWarning: Ignoring unrecognized record 'TER' at line 9668\n",
      "  warnings.warn(\n",
      "/opt/conda/envs/team05/lib/python3.10/site-packages/Bio/PDB/PDBParser.py:388: PDBConstructionWarning: Ignoring unrecognized record 'END' at line 10177\n",
      "  warnings.warn(\n",
      "/opt/conda/envs/team05/lib/python3.10/site-packages/Bio/PDB/PDBParser.py:388: PDBConstructionWarning: Ignoring unrecognized record 'TER' at line 1965\n",
      "  warnings.warn(\n"
     ]
    },
    {
     "name": "stdout",
     "output_type": "stream",
     "text": [
      "[OK] saved: /workspace/datasets/PDBbind2016/refined/3a5y/3a5y_remove_HEATM_protein.pdb\n",
      "[OK] saved: /workspace/datasets/PDBbind2016/refined/4hp0/4hp0_remove_HEATM_protein.pdb\n"
     ]
    },
    {
     "name": "stderr",
     "output_type": "stream",
     "text": [
      "/opt/conda/envs/team05/lib/python3.10/site-packages/Bio/PDB/PDBParser.py:388: PDBConstructionWarning: Ignoring unrecognized record 'TER' at line 2415\n",
      "  warnings.warn(\n",
      "/opt/conda/envs/team05/lib/python3.10/site-packages/Bio/PDB/PDBParser.py:388: PDBConstructionWarning: Ignoring unrecognized record 'TER' at line 4801\n",
      "  warnings.warn(\n",
      "/opt/conda/envs/team05/lib/python3.10/site-packages/Bio/PDB/PDBParser.py:388: PDBConstructionWarning: Ignoring unrecognized record 'END' at line 5066\n",
      "  warnings.warn(\n",
      "/opt/conda/envs/team05/lib/python3.10/site-packages/Bio/PDB/PDBParser.py:388: PDBConstructionWarning: Ignoring unrecognized record 'TER' at line 1164\n",
      "  warnings.warn(\n",
      "/opt/conda/envs/team05/lib/python3.10/site-packages/Bio/PDB/PDBParser.py:388: PDBConstructionWarning: Ignoring unrecognized record 'TER' at line 2285\n",
      "  warnings.warn(\n",
      "/opt/conda/envs/team05/lib/python3.10/site-packages/Bio/PDB/PDBParser.py:388: PDBConstructionWarning: Ignoring unrecognized record 'TER' at line 3406\n",
      "  warnings.warn(\n",
      "/opt/conda/envs/team05/lib/python3.10/site-packages/Bio/PDB/PDBParser.py:388: PDBConstructionWarning: Ignoring unrecognized record 'TER' at line 4527\n",
      "  warnings.warn(\n",
      "/opt/conda/envs/team05/lib/python3.10/site-packages/Bio/PDB/PDBParser.py:388: PDBConstructionWarning: Ignoring unrecognized record 'END' at line 4970\n",
      "  warnings.warn(\n"
     ]
    },
    {
     "name": "stdout",
     "output_type": "stream",
     "text": [
      "[OK] saved: /workspace/datasets/PDBbind2016/refined/3m3c/3m3c_remove_HEATM_protein.pdb\n",
      "[OK] saved: /workspace/datasets/PDBbind2016/refined/3x00/3x00_remove_HEATM_protein.pdb\n"
     ]
    },
    {
     "name": "stderr",
     "output_type": "stream",
     "text": [
      "/opt/conda/envs/team05/lib/python3.10/site-packages/Bio/PDB/PDBParser.py:388: PDBConstructionWarning: Ignoring unrecognized record 'TER' at line 3291\n",
      "  warnings.warn(\n",
      "/opt/conda/envs/team05/lib/python3.10/site-packages/Bio/PDB/PDBParser.py:388: PDBConstructionWarning: Ignoring unrecognized record 'TER' at line 6532\n",
      "  warnings.warn(\n",
      "/opt/conda/envs/team05/lib/python3.10/site-packages/Bio/PDB/PDBParser.py:388: PDBConstructionWarning: Ignoring unrecognized record 'TER' at line 2678\n",
      "  warnings.warn(\n",
      "/opt/conda/envs/team05/lib/python3.10/site-packages/Bio/PDB/PDBParser.py:388: PDBConstructionWarning: Ignoring unrecognized record 'TER' at line 5337\n",
      "  warnings.warn(\n",
      "/opt/conda/envs/team05/lib/python3.10/site-packages/Bio/PDB/PDBParser.py:388: PDBConstructionWarning: Ignoring unrecognized record 'END' at line 5402\n",
      "  warnings.warn(\n"
     ]
    },
    {
     "name": "stdout",
     "output_type": "stream",
     "text": [
      "[OK] saved: /workspace/datasets/PDBbind2016/refined/1gaf/1gaf_remove_HEATM_protein.pdb\n",
      "[OK] saved: /workspace/datasets/PDBbind2016/refined/3v78/3v78_remove_HEATM_protein.pdb\n"
     ]
    },
    {
     "name": "stderr",
     "output_type": "stream",
     "text": [
      "/opt/conda/envs/team05/lib/python3.10/site-packages/Bio/PDB/PDBParser.py:388: PDBConstructionWarning: Ignoring unrecognized record 'TER' at line 4882\n",
      "  warnings.warn(\n",
      "/opt/conda/envs/team05/lib/python3.10/site-packages/Bio/PDB/PDBParser.py:388: PDBConstructionWarning: Ignoring unrecognized record 'TER' at line 9686\n",
      "  warnings.warn(\n",
      "/opt/conda/envs/team05/lib/python3.10/site-packages/Bio/PDB/PDBParser.py:388: PDBConstructionWarning: Ignoring unrecognized record 'TER' at line 14490\n",
      "  warnings.warn(\n",
      "/opt/conda/envs/team05/lib/python3.10/site-packages/Bio/PDB/PDBParser.py:388: PDBConstructionWarning: Ignoring unrecognized record 'TER' at line 3288\n",
      "  warnings.warn(\n"
     ]
    },
    {
     "name": "stdout",
     "output_type": "stream",
     "text": [
      "[OK] saved: /workspace/datasets/PDBbind2016/refined/3f80/3f80_remove_HEATM_protein.pdb\n",
      "[OK] saved: /workspace/datasets/PDBbind2016/refined/3d0b/3d0b_remove_HEATM_protein.pdb\n",
      "[OK] saved: /workspace/datasets/PDBbind2016/refined/4f1l/4f1l_remove_HEATM_protein.pdb\n"
     ]
    },
    {
     "name": "stderr",
     "output_type": "stream",
     "text": [
      "/opt/conda/envs/team05/lib/python3.10/site-packages/Bio/PDB/PDBParser.py:388: PDBConstructionWarning: Ignoring unrecognized record 'END' at line 3571\n",
      "  warnings.warn(\n",
      "/opt/conda/envs/team05/lib/python3.10/site-packages/Bio/PDB/PDBParser.py:388: PDBConstructionWarning: Ignoring unrecognized record 'TER' at line 2950\n",
      "  warnings.warn(\n",
      "/opt/conda/envs/team05/lib/python3.10/site-packages/Bio/PDB/PDBParser.py:388: PDBConstructionWarning: Ignoring unrecognized record 'END' at line 3007\n",
      "  warnings.warn(\n",
      "/opt/conda/envs/team05/lib/python3.10/site-packages/Bio/PDB/PDBParser.py:388: PDBConstructionWarning: Ignoring unrecognized record 'TER' at line 1581\n",
      "  warnings.warn(\n",
      "/opt/conda/envs/team05/lib/python3.10/site-packages/Bio/PDB/PDBParser.py:388: PDBConstructionWarning: Ignoring unrecognized record 'TER' at line 3143\n",
      "  warnings.warn(\n",
      "/opt/conda/envs/team05/lib/python3.10/site-packages/Bio/PDB/PDBParser.py:388: PDBConstructionWarning: Ignoring unrecognized record 'END' at line 3145\n",
      "  warnings.warn(\n",
      "/opt/conda/envs/team05/lib/python3.10/site-packages/Bio/PDB/PDBParser.py:388: PDBConstructionWarning: Ignoring unrecognized record 'TER' at line 4689\n",
      "  warnings.warn(\n",
      "/opt/conda/envs/team05/lib/python3.10/site-packages/Bio/PDB/PDBParser.py:388: PDBConstructionWarning: Ignoring unrecognized record 'TER' at line 3428\n",
      "  warnings.warn(\n"
     ]
    },
    {
     "name": "stdout",
     "output_type": "stream",
     "text": [
      "[OK] saved: /workspace/datasets/PDBbind2016/refined/1hvj/1hvj_remove_HEATM_protein.pdb\n",
      "[OK] saved: /workspace/datasets/PDBbind2016/refined/2x4z/2x4z_remove_HEATM_protein.pdb\n"
     ]
    },
    {
     "name": "stderr",
     "output_type": "stream",
     "text": [
      "/opt/conda/envs/team05/lib/python3.10/site-packages/Bio/PDB/PDBParser.py:388: PDBConstructionWarning: Ignoring unrecognized record 'TER' at line 6819\n",
      "  warnings.warn(\n",
      "/opt/conda/envs/team05/lib/python3.10/site-packages/Bio/PDB/PDBParser.py:388: PDBConstructionWarning: Ignoring unrecognized record 'END' at line 7211\n",
      "  warnings.warn(\n",
      "/opt/conda/envs/team05/lib/python3.10/site-packages/Bio/PDB/PDBParser.py:388: PDBConstructionWarning: Ignoring unrecognized record 'TER' at line 761\n",
      "  warnings.warn(\n",
      "/opt/conda/envs/team05/lib/python3.10/site-packages/Bio/PDB/PDBParser.py:388: PDBConstructionWarning: Ignoring unrecognized record 'TER' at line 1494\n",
      "  warnings.warn(\n",
      "/opt/conda/envs/team05/lib/python3.10/site-packages/Bio/PDB/PDBParser.py:388: PDBConstructionWarning: Ignoring unrecognized record 'TER' at line 2227\n",
      "  warnings.warn(\n",
      "/opt/conda/envs/team05/lib/python3.10/site-packages/Bio/PDB/PDBParser.py:388: PDBConstructionWarning: Ignoring unrecognized record 'TER' at line 2960\n",
      "  warnings.warn(\n",
      "/opt/conda/envs/team05/lib/python3.10/site-packages/Bio/PDB/PDBParser.py:388: PDBConstructionWarning: Ignoring unrecognized record 'TER' at line 3693\n",
      "  warnings.warn(\n"
     ]
    },
    {
     "name": "stdout",
     "output_type": "stream",
     "text": [
      "[OK] saved: /workspace/datasets/PDBbind2016/refined/2cgf/2cgf_remove_HEATM_protein.pdb\n",
      "[OK] saved: /workspace/datasets/PDBbind2016/refined/3v2n/3v2n_remove_HEATM_protein.pdb\n"
     ]
    },
    {
     "name": "stderr",
     "output_type": "stream",
     "text": [
      "/opt/conda/envs/team05/lib/python3.10/site-packages/Bio/PDB/PDBParser.py:388: PDBConstructionWarning: Ignoring unrecognized record 'TER' at line 4082\n",
      "  warnings.warn(\n",
      "/opt/conda/envs/team05/lib/python3.10/site-packages/Bio/PDB/PDBParser.py:388: PDBConstructionWarning: Ignoring unrecognized record 'TER' at line 4483\n",
      "  warnings.warn(\n"
     ]
    },
    {
     "name": "stdout",
     "output_type": "stream",
     "text": [
      "[OK] saved: /workspace/datasets/PDBbind2016/refined/1ttm/1ttm_remove_HEATM_protein.pdb\n",
      "[OK] saved: /workspace/datasets/PDBbind2016/refined/3acl/3acl_remove_HEATM_protein.pdb\n"
     ]
    },
    {
     "name": "stderr",
     "output_type": "stream",
     "text": [
      "/opt/conda/envs/team05/lib/python3.10/site-packages/Bio/PDB/PDBParser.py:388: PDBConstructionWarning: Ignoring unrecognized record 'TER' at line 2168\n",
      "  warnings.warn(\n",
      "/opt/conda/envs/team05/lib/python3.10/site-packages/Bio/PDB/PDBParser.py:388: PDBConstructionWarning: Ignoring unrecognized record 'TER' at line 4292\n",
      "  warnings.warn(\n",
      "/opt/conda/envs/team05/lib/python3.10/site-packages/Bio/PDB/PDBParser.py:388: PDBConstructionWarning: Ignoring unrecognized record 'END' at line 4724\n",
      "  warnings.warn(\n",
      "/opt/conda/envs/team05/lib/python3.10/site-packages/Bio/PDB/PDBParser.py:388: PDBConstructionWarning: Ignoring unrecognized record 'TER' at line 8569\n",
      "  warnings.warn(\n"
     ]
    },
    {
     "name": "stdout",
     "output_type": "stream",
     "text": [
      "[OK] saved: /workspace/datasets/PDBbind2016/refined/4wkb/4wkb_remove_HEATM_protein.pdb\n"
     ]
    },
    {
     "name": "stderr",
     "output_type": "stream",
     "text": [
      "/opt/conda/envs/team05/lib/python3.10/site-packages/Bio/PDB/PDBParser.py:388: PDBConstructionWarning: Ignoring unrecognized record 'TER' at line 17037\n",
      "  warnings.warn(\n",
      "/opt/conda/envs/team05/lib/python3.10/site-packages/Bio/PDB/PDBParser.py:388: PDBConstructionWarning: Ignoring unrecognized record 'END' at line 18092\n",
      "  warnings.warn(\n"
     ]
    },
    {
     "name": "stdout",
     "output_type": "stream",
     "text": [
      "[OK] saved: /workspace/datasets/PDBbind2016/refined/3ppm/3ppm_remove_HEATM_protein.pdb\n"
     ]
    },
    {
     "name": "stderr",
     "output_type": "stream",
     "text": [
      "/opt/conda/envs/team05/lib/python3.10/site-packages/Bio/PDB/PDBParser.py:388: PDBConstructionWarning: Ignoring unrecognized record 'TER' at line 9226\n",
      "  warnings.warn(\n",
      "/opt/conda/envs/team05/lib/python3.10/site-packages/Bio/PDB/PDBParser.py:388: PDBConstructionWarning: Ignoring unrecognized record 'TER' at line 1581\n",
      "  warnings.warn(\n",
      "/opt/conda/envs/team05/lib/python3.10/site-packages/Bio/PDB/PDBParser.py:388: PDBConstructionWarning: Ignoring unrecognized record 'TER' at line 3143\n",
      "  warnings.warn(\n",
      "/opt/conda/envs/team05/lib/python3.10/site-packages/Bio/PDB/PDBParser.py:388: PDBConstructionWarning: Ignoring unrecognized record 'END' at line 3382\n",
      "  warnings.warn(\n"
     ]
    },
    {
     "name": "stdout",
     "output_type": "stream",
     "text": [
      "[OK] saved: /workspace/datasets/PDBbind2016/refined/3aho/3aho_remove_HEATM_protein.pdb\n",
      "[OK] saved: /workspace/datasets/PDBbind2016/refined/2aoc/2aoc_remove_HEATM_protein.pdb\n"
     ]
    },
    {
     "name": "stderr",
     "output_type": "stream",
     "text": [
      "/opt/conda/envs/team05/lib/python3.10/site-packages/Bio/PDB/PDBParser.py:388: PDBConstructionWarning: Ignoring unrecognized record 'TER' at line 3830\n",
      "  warnings.warn(\n",
      "/opt/conda/envs/team05/lib/python3.10/site-packages/Bio/PDB/PDBParser.py:388: PDBConstructionWarning: Ignoring unrecognized record 'TER' at line 2468\n",
      "  warnings.warn(\n",
      "/opt/conda/envs/team05/lib/python3.10/site-packages/Bio/PDB/PDBParser.py:388: PDBConstructionWarning: Ignoring unrecognized record 'TER' at line 4894\n",
      "  warnings.warn(\n",
      "/opt/conda/envs/team05/lib/python3.10/site-packages/Bio/PDB/PDBParser.py:388: PDBConstructionWarning: Ignoring unrecognized record 'TER' at line 7320\n",
      "  warnings.warn(\n",
      "/opt/conda/envs/team05/lib/python3.10/site-packages/Bio/PDB/PDBParser.py:388: PDBConstructionWarning: Ignoring unrecognized record 'END' at line 7500\n",
      "  warnings.warn(\n"
     ]
    },
    {
     "name": "stdout",
     "output_type": "stream",
     "text": [
      "[OK] saved: /workspace/datasets/PDBbind2016/refined/1gi7/1gi7_remove_HEATM_protein.pdb\n",
      "[OK] saved: /workspace/datasets/PDBbind2016/refined/4b6r/4b6r_remove_HEATM_protein.pdb\n"
     ]
    },
    {
     "name": "stderr",
     "output_type": "stream",
     "text": [
      "/opt/conda/envs/team05/lib/python3.10/site-packages/Bio/PDB/PDBParser.py:388: PDBConstructionWarning: Ignoring unrecognized record 'TER' at line 2149\n",
      "  warnings.warn(\n",
      "/opt/conda/envs/team05/lib/python3.10/site-packages/Bio/PDB/PDBParser.py:388: PDBConstructionWarning: Ignoring unrecognized record 'TER' at line 4261\n",
      "  warnings.warn(\n",
      "/opt/conda/envs/team05/lib/python3.10/site-packages/Bio/PDB/PDBParser.py:388: PDBConstructionWarning: Ignoring unrecognized record 'END' at line 4680\n",
      "  warnings.warn(\n",
      "/opt/conda/envs/team05/lib/python3.10/site-packages/Bio/PDB/PDBParser.py:388: PDBConstructionWarning: Ignoring unrecognized record 'TER' at line 4035\n",
      "  warnings.warn(\n",
      "/opt/conda/envs/team05/lib/python3.10/site-packages/Bio/PDB/PDBParser.py:388: PDBConstructionWarning: Ignoring unrecognized record 'TER' at line 4488\n",
      "  warnings.warn(\n",
      "/opt/conda/envs/team05/lib/python3.10/site-packages/Bio/PDB/PDBParser.py:388: PDBConstructionWarning: Ignoring unrecognized record 'END' at line 4942\n",
      "  warnings.warn(\n"
     ]
    },
    {
     "name": "stdout",
     "output_type": "stream",
     "text": [
      "[OK] saved: /workspace/datasets/PDBbind2016/refined/3wgg/3wgg_remove_HEATM_protein.pdb\n",
      "[OK] saved: /workspace/datasets/PDBbind2016/refined/2bvr/2bvr_remove_HEATM_protein.pdb\n",
      "[OK] saved: /workspace/datasets/PDBbind2016/refined/4x50/4x50_remove_HEATM_protein.pdb\n"
     ]
    },
    {
     "name": "stderr",
     "output_type": "stream",
     "text": [
      "/opt/conda/envs/team05/lib/python3.10/site-packages/Bio/PDB/PDBParser.py:388: PDBConstructionWarning: Ignoring unrecognized record 'TER' at line 1473\n",
      "  warnings.warn(\n",
      "/opt/conda/envs/team05/lib/python3.10/site-packages/Bio/PDB/PDBParser.py:388: PDBConstructionWarning: Ignoring unrecognized record 'TER' at line 4036\n",
      "  warnings.warn(\n"
     ]
    },
    {
     "name": "stdout",
     "output_type": "stream",
     "text": [
      "[OK] saved: /workspace/datasets/PDBbind2016/refined/3s72/3s72_remove_HEATM_protein.pdb\n"
     ]
    },
    {
     "name": "stderr",
     "output_type": "stream",
     "text": [
      "/opt/conda/envs/team05/lib/python3.10/site-packages/Bio/PDB/PDBParser.py:388: PDBConstructionWarning: Ignoring unrecognized record 'TER' at line 4436\n",
      "  warnings.warn(\n",
      "/opt/conda/envs/team05/lib/python3.10/site-packages/Bio/PDB/PDBParser.py:388: PDBConstructionWarning: Ignoring unrecognized record 'TER' at line 8825\n",
      "  warnings.warn(\n",
      "/opt/conda/envs/team05/lib/python3.10/site-packages/Bio/PDB/PDBParser.py:388: PDBConstructionWarning: Ignoring unrecognized record 'END' at line 8916\n",
      "  warnings.warn(\n"
     ]
    },
    {
     "name": "stdout",
     "output_type": "stream",
     "text": [
      "[OK] saved: /workspace/datasets/PDBbind2016/refined/3hb4/3hb4_remove_HEATM_protein.pdb\n",
      "[OK] saved: /workspace/datasets/PDBbind2016/refined/3n3j/3n3j_remove_HEATM_protein.pdb\n"
     ]
    },
    {
     "name": "stderr",
     "output_type": "stream",
     "text": [
      "/opt/conda/envs/team05/lib/python3.10/site-packages/Bio/PDB/PDBParser.py:388: PDBConstructionWarning: Ignoring unrecognized record 'TER' at line 4083\n",
      "  warnings.warn(\n",
      "/opt/conda/envs/team05/lib/python3.10/site-packages/Bio/PDB/PDBParser.py:388: PDBConstructionWarning: Ignoring unrecognized record 'TER' at line 5080\n",
      "  warnings.warn(\n",
      "/opt/conda/envs/team05/lib/python3.10/site-packages/Bio/PDB/PDBParser.py:388: PDBConstructionWarning: Ignoring unrecognized record 'TER' at line 10177\n",
      "  warnings.warn(\n",
      "/opt/conda/envs/team05/lib/python3.10/site-packages/Bio/PDB/PDBParser.py:388: PDBConstructionWarning: Ignoring unrecognized record 'TER' at line 15245\n",
      "  warnings.warn(\n",
      "/opt/conda/envs/team05/lib/python3.10/site-packages/Bio/PDB/PDBParser.py:388: PDBConstructionWarning: Ignoring unrecognized record 'END' at line 15981\n",
      "  warnings.warn(\n"
     ]
    },
    {
     "name": "stdout",
     "output_type": "stream",
     "text": [
      "[OK] saved: /workspace/datasets/PDBbind2016/refined/1duv/1duv_remove_HEATM_protein.pdb\n",
      "[OK] saved: /workspace/datasets/PDBbind2016/refined/3fv3/3fv3_remove_HEATM_protein.pdb\n"
     ]
    },
    {
     "name": "stderr",
     "output_type": "stream",
     "text": [
      "/opt/conda/envs/team05/lib/python3.10/site-packages/Bio/PDB/PDBParser.py:388: PDBConstructionWarning: Ignoring unrecognized record 'TER' at line 4989\n",
      "  warnings.warn(\n",
      "/opt/conda/envs/team05/lib/python3.10/site-packages/Bio/PDB/PDBParser.py:388: PDBConstructionWarning: Ignoring unrecognized record 'TER' at line 13333\n",
      "  warnings.warn(\n",
      "/opt/conda/envs/team05/lib/python3.10/site-packages/Bio/PDB/PDBParser.py:388: PDBConstructionWarning: Ignoring unrecognized record 'END' at line 13802\n",
      "  warnings.warn(\n",
      "/opt/conda/envs/team05/lib/python3.10/site-packages/Bio/PDB/PDBParser.py:388: PDBConstructionWarning: Ignoring unrecognized record 'TER' at line 3400\n",
      "  warnings.warn(\n"
     ]
    },
    {
     "name": "stdout",
     "output_type": "stream",
     "text": [
      "[OK] saved: /workspace/datasets/PDBbind2016/refined/2vmf/2vmf_remove_HEATM_protein.pdb\n"
     ]
    },
    {
     "name": "stderr",
     "output_type": "stream",
     "text": [
      "/opt/conda/envs/team05/lib/python3.10/site-packages/Bio/PDB/PDBParser.py:388: PDBConstructionWarning: Ignoring unrecognized record 'TER' at line 6729\n",
      "  warnings.warn(\n",
      "/opt/conda/envs/team05/lib/python3.10/site-packages/Bio/PDB/PDBParser.py:388: PDBConstructionWarning: Ignoring unrecognized record 'TER' at line 10058\n",
      "  warnings.warn(\n",
      "/opt/conda/envs/team05/lib/python3.10/site-packages/Bio/PDB/PDBParser.py:388: PDBConstructionWarning: Ignoring unrecognized record 'TER' at line 13387\n",
      "  warnings.warn(\n",
      "/opt/conda/envs/team05/lib/python3.10/site-packages/Bio/PDB/PDBParser.py:388: PDBConstructionWarning: Ignoring unrecognized record 'END' at line 13508\n",
      "  warnings.warn(\n"
     ]
    },
    {
     "name": "stdout",
     "output_type": "stream",
     "text": [
      "[OK] saved: /workspace/datasets/PDBbind2016/refined/4ezz/4ezz_remove_HEATM_protein.pdb\n",
      "[OK] saved: /workspace/datasets/PDBbind2016/refined/4a6s/4a6s_remove_HEATM_protein.pdb\n"
     ]
    },
    {
     "name": "stderr",
     "output_type": "stream",
     "text": [
      "/opt/conda/envs/team05/lib/python3.10/site-packages/Bio/PDB/PDBParser.py:388: PDBConstructionWarning: Ignoring unrecognized record 'TER' at line 1784\n",
      "  warnings.warn(\n",
      "/opt/conda/envs/team05/lib/python3.10/site-packages/Bio/PDB/PDBParser.py:388: PDBConstructionWarning: Ignoring unrecognized record 'TER' at line 3545\n",
      "  warnings.warn(\n",
      "/opt/conda/envs/team05/lib/python3.10/site-packages/Bio/PDB/PDBParser.py:388: PDBConstructionWarning: Ignoring unrecognized record 'TER' at line 4374\n",
      "  warnings.warn(\n",
      "/opt/conda/envs/team05/lib/python3.10/site-packages/Bio/PDB/PDBParser.py:388: PDBConstructionWarning: Ignoring unrecognized record 'TER' at line 5958\n",
      "  warnings.warn(\n"
     ]
    },
    {
     "name": "stdout",
     "output_type": "stream",
     "text": [
      "[OK] saved: /workspace/datasets/PDBbind2016/refined/3bzf/3bzf_remove_HEATM_protein.pdb\n",
      "[OK] saved: /workspace/datasets/PDBbind2016/refined/3tk2/3tk2_remove_HEATM_protein.pdb\n"
     ]
    },
    {
     "name": "stderr",
     "output_type": "stream",
     "text": [
      "/opt/conda/envs/team05/lib/python3.10/site-packages/Bio/PDB/PDBParser.py:388: PDBConstructionWarning: Ignoring unrecognized record 'TER' at line 4408\n",
      "  warnings.warn(\n",
      "/opt/conda/envs/team05/lib/python3.10/site-packages/Bio/PDB/PDBParser.py:388: PDBConstructionWarning: Ignoring unrecognized record 'TER' at line 2585\n",
      "  warnings.warn(\n",
      "/opt/conda/envs/team05/lib/python3.10/site-packages/Bio/PDB/PDBParser.py:388: PDBConstructionWarning: Ignoring unrecognized record 'END' at line 2820\n",
      "  warnings.warn(\n"
     ]
    },
    {
     "name": "stdout",
     "output_type": "stream",
     "text": [
      "[OK] saved: /workspace/datasets/PDBbind2016/refined/4m14/4m14_remove_HEATM_protein.pdb\n",
      "[OK] saved: /workspace/datasets/PDBbind2016/refined/4non/4non_remove_HEATM_protein.pdb\n",
      "[OK] saved: /workspace/datasets/PDBbind2016/refined/1hi4/1hi4_remove_HEATM_protein.pdb\n"
     ]
    },
    {
     "name": "stderr",
     "output_type": "stream",
     "text": [
      "/opt/conda/envs/team05/lib/python3.10/site-packages/Bio/PDB/PDBParser.py:388: PDBConstructionWarning: Ignoring unrecognized record 'TER' at line 2486\n",
      "  warnings.warn(\n",
      "/opt/conda/envs/team05/lib/python3.10/site-packages/Bio/PDB/PDBParser.py:388: PDBConstructionWarning: Ignoring unrecognized record 'END' at line 2542\n",
      "  warnings.warn(\n",
      "/opt/conda/envs/team05/lib/python3.10/site-packages/Bio/PDB/PDBParser.py:388: PDBConstructionWarning: Ignoring unrecognized record 'TER' at line 2149\n",
      "  warnings.warn(\n",
      "/opt/conda/envs/team05/lib/python3.10/site-packages/Bio/PDB/PDBParser.py:388: PDBConstructionWarning: Ignoring unrecognized record 'TER' at line 2900\n",
      "  warnings.warn(\n"
     ]
    },
    {
     "name": "stdout",
     "output_type": "stream",
     "text": [
      "[OK] saved: /workspace/datasets/PDBbind2016/refined/3su5/3su5_remove_HEATM_protein.pdb\n",
      "[OK] saved: /workspace/datasets/PDBbind2016/refined/4ewn/4ewn_remove_HEATM_protein.pdb\n"
     ]
    },
    {
     "name": "stderr",
     "output_type": "stream",
     "text": [
      "/opt/conda/envs/team05/lib/python3.10/site-packages/Bio/PDB/PDBParser.py:388: PDBConstructionWarning: Ignoring unrecognized record 'TER' at line 3816\n",
      "  warnings.warn(\n",
      "/opt/conda/envs/team05/lib/python3.10/site-packages/Bio/PDB/PDBParser.py:388: PDBConstructionWarning: Ignoring unrecognized record 'END' at line 3883\n",
      "  warnings.warn(\n",
      "/opt/conda/envs/team05/lib/python3.10/site-packages/Bio/PDB/PDBParser.py:388: PDBConstructionWarning: Ignoring unrecognized record 'TER' at line 3059\n",
      "  warnings.warn(\n"
     ]
    },
    {
     "name": "stdout",
     "output_type": "stream",
     "text": [
      "[OK] saved: /workspace/datasets/PDBbind2016/refined/4ago/4ago_remove_HEATM_protein.pdb\n"
     ]
    },
    {
     "name": "stderr",
     "output_type": "stream",
     "text": [
      "/opt/conda/envs/team05/lib/python3.10/site-packages/Bio/PDB/PDBParser.py:388: PDBConstructionWarning: Ignoring unrecognized record 'TER' at line 3928\n",
      "  warnings.warn(\n",
      "/opt/conda/envs/team05/lib/python3.10/site-packages/Bio/PDB/PDBParser.py:388: PDBConstructionWarning: Ignoring unrecognized record 'TER' at line 7790\n",
      "  warnings.warn(\n",
      "/opt/conda/envs/team05/lib/python3.10/site-packages/Bio/PDB/PDBParser.py:388: PDBConstructionWarning: Ignoring unrecognized record 'TER' at line 11652\n",
      "  warnings.warn(\n"
     ]
    },
    {
     "name": "stdout",
     "output_type": "stream",
     "text": [
      "[OK] saved: /workspace/datasets/PDBbind2016/refined/1c3x/1c3x_remove_HEATM_protein.pdb\n",
      "[OK] saved: /workspace/datasets/PDBbind2016/refined/1njs/1njs_remove_HEATM_protein.pdb\n",
      "[OK] saved: /workspace/datasets/PDBbind2016/refined/4qb3/4qb3_remove_HEATM_protein.pdb\n"
     ]
    },
    {
     "name": "stderr",
     "output_type": "stream",
     "text": [
      "/opt/conda/envs/team05/lib/python3.10/site-packages/Bio/PDB/PDBParser.py:388: PDBConstructionWarning: Ignoring unrecognized record 'TER' at line 3070\n",
      "  warnings.warn(\n",
      "/opt/conda/envs/team05/lib/python3.10/site-packages/Bio/PDB/PDBParser.py:388: PDBConstructionWarning: Ignoring unrecognized record 'END' at line 3218\n",
      "  warnings.warn(\n",
      "/opt/conda/envs/team05/lib/python3.10/site-packages/Bio/PDB/PDBParser.py:388: PDBConstructionWarning: Ignoring unrecognized record 'TER' at line 1296\n",
      "  warnings.warn(\n",
      "/opt/conda/envs/team05/lib/python3.10/site-packages/Bio/PDB/PDBParser.py:388: PDBConstructionWarning: Ignoring unrecognized record 'END' at line 1583\n",
      "  warnings.warn(\n",
      "/opt/conda/envs/team05/lib/python3.10/site-packages/Bio/PDB/PDBParser.py:388: PDBConstructionWarning: Ignoring unrecognized record 'TER' at line 3305\n",
      "  warnings.warn(\n",
      "/opt/conda/envs/team05/lib/python3.10/site-packages/Bio/PDB/PDBParser.py:388: PDBConstructionWarning: Ignoring unrecognized record 'END' at line 3735\n",
      "  warnings.warn(\n",
      "/opt/conda/envs/team05/lib/python3.10/site-packages/Bio/PDB/PDBParser.py:388: PDBConstructionWarning: Ignoring unrecognized record 'TER' at line 2149\n",
      "  warnings.warn(\n"
     ]
    },
    {
     "name": "stdout",
     "output_type": "stream",
     "text": [
      "[OK] saved: /workspace/datasets/PDBbind2016/refined/3b24/3b24_remove_HEATM_protein.pdb\n",
      "[OK] saved: /workspace/datasets/PDBbind2016/refined/1hi3/1hi3_remove_HEATM_protein.pdb\n",
      "[OK] saved: /workspace/datasets/PDBbind2016/refined/4qxq/4qxq_remove_HEATM_protein.pdb\n"
     ]
    },
    {
     "name": "stderr",
     "output_type": "stream",
     "text": [
      "/opt/conda/envs/team05/lib/python3.10/site-packages/Bio/PDB/PDBParser.py:388: PDBConstructionWarning: Ignoring unrecognized record 'TER' at line 1827\n",
      "  warnings.warn(\n",
      "/opt/conda/envs/team05/lib/python3.10/site-packages/Bio/PDB/PDBParser.py:388: PDBConstructionWarning: Ignoring unrecognized record 'TER' at line 3623\n",
      "  warnings.warn(\n",
      "/opt/conda/envs/team05/lib/python3.10/site-packages/Bio/PDB/PDBParser.py:388: PDBConstructionWarning: Ignoring unrecognized record 'END' at line 3688\n",
      "  warnings.warn(\n",
      "/opt/conda/envs/team05/lib/python3.10/site-packages/Bio/PDB/PDBParser.py:388: PDBConstructionWarning: Ignoring unrecognized record 'TER' at line 2094\n",
      "  warnings.warn(\n",
      "/opt/conda/envs/team05/lib/python3.10/site-packages/Bio/PDB/PDBParser.py:388: PDBConstructionWarning: Ignoring unrecognized record 'END' at line 2316\n",
      "  warnings.warn(\n"
     ]
    },
    {
     "name": "stdout",
     "output_type": "stream",
     "text": [
      "[OK] saved: /workspace/datasets/PDBbind2016/refined/1hmr/1hmr_remove_HEATM_protein.pdb\n",
      "[OK] saved: /workspace/datasets/PDBbind2016/refined/8cpa/8cpa_remove_HEATM_protein.pdb\n"
     ]
    },
    {
     "name": "stderr",
     "output_type": "stream",
     "text": [
      "/opt/conda/envs/team05/lib/python3.10/site-packages/Bio/PDB/PDBParser.py:388: PDBConstructionWarning: Ignoring unrecognized record 'TER' at line 4810\n",
      "  warnings.warn(\n",
      "/opt/conda/envs/team05/lib/python3.10/site-packages/Bio/PDB/PDBParser.py:388: PDBConstructionWarning: Ignoring unrecognized record 'TER' at line 8259\n",
      "  warnings.warn(\n",
      "/opt/conda/envs/team05/lib/python3.10/site-packages/Bio/PDB/PDBParser.py:388: PDBConstructionWarning: Ignoring unrecognized record 'TER' at line 16466\n",
      "  warnings.warn(\n",
      "/opt/conda/envs/team05/lib/python3.10/site-packages/Bio/PDB/PDBParser.py:388: PDBConstructionWarning: Ignoring unrecognized record 'TER' at line 1673\n",
      "  warnings.warn(\n",
      "/opt/conda/envs/team05/lib/python3.10/site-packages/Bio/PDB/PDBParser.py:388: PDBConstructionWarning: Ignoring unrecognized record 'END' at line 1790\n",
      "  warnings.warn(\n"
     ]
    },
    {
     "name": "stdout",
     "output_type": "stream",
     "text": [
      "[OK] saved: /workspace/datasets/PDBbind2016/refined/4m0e/4m0e_remove_HEATM_protein.pdb\n",
      "[OK] saved: /workspace/datasets/PDBbind2016/refined/1fkh/1fkh_remove_HEATM_protein.pdb\n",
      "[OK] saved: /workspace/datasets/PDBbind2016/refined/1a1e/1a1e_remove_HEATM_protein.pdb\n"
     ]
    },
    {
     "name": "stderr",
     "output_type": "stream",
     "text": [
      "/opt/conda/envs/team05/lib/python3.10/site-packages/Bio/PDB/PDBParser.py:388: PDBConstructionWarning: Ignoring unrecognized record 'TER' at line 1659\n",
      "  warnings.warn(\n",
      "/opt/conda/envs/team05/lib/python3.10/site-packages/Bio/PDB/PDBParser.py:388: PDBConstructionWarning: Ignoring unrecognized record 'TER' at line 3256\n",
      "  warnings.warn(\n",
      "/opt/conda/envs/team05/lib/python3.10/site-packages/Bio/PDB/PDBParser.py:388: PDBConstructionWarning: Ignoring unrecognized record 'END' at line 3301\n",
      "  warnings.warn(\n",
      "/opt/conda/envs/team05/lib/python3.10/site-packages/Bio/PDB/PDBParser.py:388: PDBConstructionWarning: Ignoring unrecognized record 'TER' at line 1586\n",
      "  warnings.warn(\n",
      "/opt/conda/envs/team05/lib/python3.10/site-packages/Bio/PDB/PDBParser.py:388: PDBConstructionWarning: Ignoring unrecognized record 'TER' at line 3153\n",
      "  warnings.warn(\n",
      "/opt/conda/envs/team05/lib/python3.10/site-packages/Bio/PDB/PDBParser.py:388: PDBConstructionWarning: Ignoring unrecognized record 'END' at line 3353\n",
      "  warnings.warn(\n"
     ]
    },
    {
     "name": "stdout",
     "output_type": "stream",
     "text": [
      "[OK] saved: /workspace/datasets/PDBbind2016/refined/2f80/2f80_remove_HEATM_protein.pdb\n"
     ]
    },
    {
     "name": "stderr",
     "output_type": "stream",
     "text": [
      "/opt/conda/envs/team05/lib/python3.10/site-packages/Bio/PDB/PDBParser.py:388: PDBConstructionWarning: Ignoring unrecognized record 'TER' at line 3739\n",
      "  warnings.warn(\n",
      "/opt/conda/envs/team05/lib/python3.10/site-packages/Bio/PDB/PDBParser.py:388: PDBConstructionWarning: Ignoring unrecognized record 'TER' at line 7418\n",
      "  warnings.warn(\n",
      "/opt/conda/envs/team05/lib/python3.10/site-packages/Bio/PDB/PDBParser.py:388: PDBConstructionWarning: Ignoring unrecognized record 'TER' at line 11097\n",
      "  warnings.warn(\n",
      "/opt/conda/envs/team05/lib/python3.10/site-packages/Bio/PDB/PDBParser.py:388: PDBConstructionWarning: Ignoring unrecognized record 'END' at line 11946\n",
      "  warnings.warn(\n"
     ]
    },
    {
     "name": "stdout",
     "output_type": "stream",
     "text": [
      "[OK] saved: /workspace/datasets/PDBbind2016/refined/2v2h/2v2h_remove_HEATM_protein.pdb\n",
      "[OK] saved: /workspace/datasets/PDBbind2016/refined/4ad2/4ad2_remove_HEATM_protein.pdb\n"
     ]
    },
    {
     "name": "stderr",
     "output_type": "stream",
     "text": [
      "/opt/conda/envs/team05/lib/python3.10/site-packages/Bio/PDB/PDBParser.py:388: PDBConstructionWarning: Ignoring unrecognized record 'TER' at line 5473\n",
      "  warnings.warn(\n",
      "/opt/conda/envs/team05/lib/python3.10/site-packages/Bio/PDB/PDBParser.py:388: PDBConstructionWarning: Ignoring unrecognized record 'END' at line 5890\n",
      "  warnings.warn(\n",
      "/opt/conda/envs/team05/lib/python3.10/site-packages/Bio/PDB/PDBParser.py:388: PDBConstructionWarning: Ignoring unrecognized record 'TER' at line 4723\n",
      "  warnings.warn(\n",
      "/opt/conda/envs/team05/lib/python3.10/site-packages/Bio/PDB/PDBParser.py:388: PDBConstructionWarning: Ignoring unrecognized record 'END' at line 5061\n",
      "  warnings.warn(\n"
     ]
    },
    {
     "name": "stdout",
     "output_type": "stream",
     "text": [
      "[OK] saved: /workspace/datasets/PDBbind2016/refined/3ubd/3ubd_remove_HEATM_protein.pdb\n",
      "[OK] saved: /workspace/datasets/PDBbind2016/refined/2q38/2q38_remove_HEATM_protein.pdb\n"
     ]
    },
    {
     "name": "stderr",
     "output_type": "stream",
     "text": [
      "/opt/conda/envs/team05/lib/python3.10/site-packages/Bio/PDB/PDBParser.py:388: PDBConstructionWarning: Ignoring unrecognized record 'TER' at line 4044\n",
      "  warnings.warn(\n",
      "/opt/conda/envs/team05/lib/python3.10/site-packages/Bio/PDB/PDBParser.py:388: PDBConstructionWarning: Ignoring unrecognized record 'TER' at line 2356\n",
      "  warnings.warn(\n",
      "/opt/conda/envs/team05/lib/python3.10/site-packages/Bio/PDB/PDBParser.py:388: PDBConstructionWarning: Ignoring unrecognized record 'END' at line 2619\n",
      "  warnings.warn(\n"
     ]
    },
    {
     "name": "stdout",
     "output_type": "stream",
     "text": [
      "[OK] saved: /workspace/datasets/PDBbind2016/refined/2y9g/2y9g_remove_HEATM_protein.pdb\n",
      "[OK] saved: /workspace/datasets/PDBbind2016/refined/1w3k/1w3k_remove_HEATM_protein.pdb\n"
     ]
    },
    {
     "name": "stderr",
     "output_type": "stream",
     "text": [
      "/opt/conda/envs/team05/lib/python3.10/site-packages/Bio/PDB/PDBParser.py:388: PDBConstructionWarning: Ignoring unrecognized record 'TER' at line 4590\n",
      "  warnings.warn(\n",
      "/opt/conda/envs/team05/lib/python3.10/site-packages/Bio/PDB/PDBParser.py:388: PDBConstructionWarning: Ignoring unrecognized record 'END' at line 5051\n",
      "  warnings.warn(\n",
      "/opt/conda/envs/team05/lib/python3.10/site-packages/Bio/PDB/PDBParser.py:388: PDBConstructionWarning: Ignoring unrecognized record 'TER' at line 2487\n",
      "  warnings.warn(\n",
      "/opt/conda/envs/team05/lib/python3.10/site-packages/Bio/PDB/PDBParser.py:388: PDBConstructionWarning: Ignoring unrecognized record 'TER' at line 3224\n",
      "  warnings.warn(\n"
     ]
    },
    {
     "name": "stdout",
     "output_type": "stream",
     "text": [
      "[OK] saved: /workspace/datasets/PDBbind2016/refined/4wr7/4wr7_remove_HEATM_protein.pdb\n",
      "[OK] saved: /workspace/datasets/PDBbind2016/refined/1y3v/1y3v_remove_HEATM_protein.pdb\n"
     ]
    },
    {
     "name": "stderr",
     "output_type": "stream",
     "text": [
      "/opt/conda/envs/team05/lib/python3.10/site-packages/Bio/PDB/PDBParser.py:388: PDBConstructionWarning: Ignoring unrecognized record 'TER' at line 4067\n",
      "  warnings.warn(\n",
      "/opt/conda/envs/team05/lib/python3.10/site-packages/Bio/PDB/PDBParser.py:388: PDBConstructionWarning: Ignoring unrecognized record 'TER' at line 3750\n",
      "  warnings.warn(\n",
      "/opt/conda/envs/team05/lib/python3.10/site-packages/Bio/PDB/PDBParser.py:388: PDBConstructionWarning: Ignoring unrecognized record 'TER' at line 7428\n",
      "  warnings.warn(\n"
     ]
    },
    {
     "name": "stdout",
     "output_type": "stream",
     "text": [
      "[OK] saved: /workspace/datasets/PDBbind2016/refined/4m2r/4m2r_remove_HEATM_protein.pdb\n",
      "[OK] saved: /workspace/datasets/PDBbind2016/refined/4cpy/4cpy_remove_HEATM_protein.pdb\n"
     ]
    },
    {
     "name": "stderr",
     "output_type": "stream",
     "text": [
      "/opt/conda/envs/team05/lib/python3.10/site-packages/Bio/PDB/PDBParser.py:388: PDBConstructionWarning: Ignoring unrecognized record 'TER' at line 6470\n",
      "  warnings.warn(\n",
      "/opt/conda/envs/team05/lib/python3.10/site-packages/Bio/PDB/PDBParser.py:388: PDBConstructionWarning: Ignoring unrecognized record 'END' at line 6562\n",
      "  warnings.warn(\n",
      "/opt/conda/envs/team05/lib/python3.10/site-packages/Bio/PDB/PDBParser.py:388: PDBConstructionWarning: Ignoring unrecognized record 'TER' at line 2353\n",
      "  warnings.warn(\n",
      "/opt/conda/envs/team05/lib/python3.10/site-packages/Bio/PDB/PDBParser.py:388: PDBConstructionWarning: Ignoring unrecognized record 'TER' at line 4643\n",
      "  warnings.warn(\n",
      "/opt/conda/envs/team05/lib/python3.10/site-packages/Bio/PDB/PDBParser.py:388: PDBConstructionWarning: Ignoring unrecognized record 'TER' at line 6933\n",
      "  warnings.warn(\n"
     ]
    },
    {
     "name": "stdout",
     "output_type": "stream",
     "text": [
      "[OK] saved: /workspace/datasets/PDBbind2016/refined/4dcs/4dcs_remove_HEATM_protein.pdb\n"
     ]
    },
    {
     "name": "stderr",
     "output_type": "stream",
     "text": [
      "/opt/conda/envs/team05/lib/python3.10/site-packages/Bio/PDB/PDBParser.py:388: PDBConstructionWarning: Ignoring unrecognized record 'TER' at line 9223\n",
      "  warnings.warn(\n"
     ]
    },
    {
     "name": "stdout",
     "output_type": "stream",
     "text": [
      "[OK] saved: /workspace/datasets/PDBbind2016/refined/3alt/3alt_remove_HEATM_protein.pdb\n"
     ]
    },
    {
     "name": "stderr",
     "output_type": "stream",
     "text": [
      "/opt/conda/envs/team05/lib/python3.10/site-packages/Bio/PDB/PDBParser.py:388: PDBConstructionWarning: Ignoring unrecognized record 'TER' at line 5472\n",
      "  warnings.warn(\n",
      "/opt/conda/envs/team05/lib/python3.10/site-packages/Bio/PDB/PDBParser.py:388: PDBConstructionWarning: Ignoring unrecognized record 'TER' at line 5502\n",
      "  warnings.warn(\n",
      "/opt/conda/envs/team05/lib/python3.10/site-packages/Bio/PDB/PDBParser.py:388: PDBConstructionWarning: Ignoring unrecognized record 'END' at line 5634\n",
      "  warnings.warn(\n"
     ]
    },
    {
     "name": "stdout",
     "output_type": "stream",
     "text": [
      "[OK] saved: /workspace/datasets/PDBbind2016/refined/2pvk/2pvk_remove_HEATM_protein.pdb\n",
      "[OK] saved: /workspace/datasets/PDBbind2016/refined/3i60/3i60_remove_HEATM_protein.pdb\n"
     ]
    },
    {
     "name": "stderr",
     "output_type": "stream",
     "text": [
      "/opt/conda/envs/team05/lib/python3.10/site-packages/Bio/PDB/PDBParser.py:388: PDBConstructionWarning: Ignoring unrecognized record 'TER' at line 5155\n",
      "  warnings.warn(\n",
      "/opt/conda/envs/team05/lib/python3.10/site-packages/Bio/PDB/PDBParser.py:388: PDBConstructionWarning: Ignoring unrecognized record 'TER' at line 3235\n",
      "  warnings.warn(\n",
      "/opt/conda/envs/team05/lib/python3.10/site-packages/Bio/PDB/PDBParser.py:388: PDBConstructionWarning: Ignoring unrecognized record 'TER' at line 1586\n",
      "  warnings.warn(\n",
      "/opt/conda/envs/team05/lib/python3.10/site-packages/Bio/PDB/PDBParser.py:388: PDBConstructionWarning: Ignoring unrecognized record 'TER' at line 3153\n",
      "  warnings.warn(\n"
     ]
    },
    {
     "name": "stdout",
     "output_type": "stream",
     "text": [
      "[OK] saved: /workspace/datasets/PDBbind2016/refined/2afx/2afx_remove_HEATM_protein.pdb\n",
      "[OK] saved: /workspace/datasets/PDBbind2016/refined/1qb9/1qb9_remove_HEATM_protein.pdb\n",
      "[OK] saved: /workspace/datasets/PDBbind2016/refined/2o4k/2o4k_remove_HEATM_protein.pdb\n"
     ]
    },
    {
     "name": "stderr",
     "output_type": "stream",
     "text": [
      "/opt/conda/envs/team05/lib/python3.10/site-packages/Bio/PDB/PDBParser.py:388: PDBConstructionWarning: Ignoring unrecognized record 'END' at line 3410\n",
      "  warnings.warn(\n",
      "/opt/conda/envs/team05/lib/python3.10/site-packages/Bio/PDB/PDBParser.py:388: PDBConstructionWarning: Ignoring unrecognized record 'TER' at line 2508\n",
      "  warnings.warn(\n",
      "/opt/conda/envs/team05/lib/python3.10/site-packages/Bio/PDB/PDBParser.py:388: PDBConstructionWarning: Ignoring unrecognized record 'TER' at line 2313\n",
      "  warnings.warn(\n"
     ]
    },
    {
     "name": "stdout",
     "output_type": "stream",
     "text": [
      "[OK] saved: /workspace/datasets/PDBbind2016/refined/4zx0/4zx0_remove_HEATM_protein.pdb\n",
      "[OK] saved: /workspace/datasets/PDBbind2016/refined/4zj6/4zj6_remove_HEATM_protein.pdb\n",
      "[OK] saved: /workspace/datasets/PDBbind2016/refined/4poh/4poh_remove_HEATM_protein.pdb\n"
     ]
    },
    {
     "name": "stderr",
     "output_type": "stream",
     "text": [
      "/opt/conda/envs/team05/lib/python3.10/site-packages/Bio/PDB/PDBParser.py:388: PDBConstructionWarning: Ignoring unrecognized record 'TER' at line 2058\n",
      "  warnings.warn(\n",
      "/opt/conda/envs/team05/lib/python3.10/site-packages/Bio/PDB/PDBParser.py:388: PDBConstructionWarning: Ignoring unrecognized record 'END' at line 2162\n",
      "  warnings.warn(\n",
      "/opt/conda/envs/team05/lib/python3.10/site-packages/Bio/PDB/PDBParser.py:388: PDBConstructionWarning: Ignoring unrecognized record 'TER' at line 4078\n",
      "  warnings.warn(\n"
     ]
    },
    {
     "name": "stdout",
     "output_type": "stream",
     "text": [
      "[OK] saved: /workspace/datasets/PDBbind2016/refined/1i9o/1i9o_remove_HEATM_protein.pdb\n",
      "[OK] saved: /workspace/datasets/PDBbind2016/refined/1aaq/1aaq_remove_HEATM_protein.pdb\n"
     ]
    },
    {
     "name": "stderr",
     "output_type": "stream",
     "text": [
      "/opt/conda/envs/team05/lib/python3.10/site-packages/Bio/PDB/PDBParser.py:388: PDBConstructionWarning: Ignoring unrecognized record 'TER' at line 1581\n",
      "  warnings.warn(\n",
      "/opt/conda/envs/team05/lib/python3.10/site-packages/Bio/PDB/PDBParser.py:388: PDBConstructionWarning: Ignoring unrecognized record 'TER' at line 3143\n",
      "  warnings.warn(\n",
      "/opt/conda/envs/team05/lib/python3.10/site-packages/Bio/PDB/PDBParser.py:388: PDBConstructionWarning: Ignoring unrecognized record 'END' at line 3145\n",
      "  warnings.warn(\n",
      "/opt/conda/envs/team05/lib/python3.10/site-packages/Bio/PDB/PDBParser.py:388: PDBConstructionWarning: Ignoring unrecognized record 'TER' at line 8735\n",
      "  warnings.warn(\n"
     ]
    },
    {
     "name": "stdout",
     "output_type": "stream",
     "text": [
      "[OK] saved: /workspace/datasets/PDBbind2016/refined/2d3u/2d3u_remove_HEATM_protein.pdb\n"
     ]
    },
    {
     "name": "stderr",
     "output_type": "stream",
     "text": [
      "/opt/conda/envs/team05/lib/python3.10/site-packages/Bio/PDB/PDBParser.py:388: PDBConstructionWarning: Ignoring unrecognized record 'TER' at line 13263\n",
      "  warnings.warn(\n",
      "/opt/conda/envs/team05/lib/python3.10/site-packages/Bio/PDB/PDBParser.py:388: PDBConstructionWarning: Ignoring unrecognized record 'TER' at line 26397\n",
      "  warnings.warn(\n"
     ]
    },
    {
     "name": "stdout",
     "output_type": "stream",
     "text": [
      "[OK] saved: /workspace/datasets/PDBbind2016/refined/4el5/4el5_remove_HEATM_protein.pdb\n",
      "[OK] saved: /workspace/datasets/PDBbind2016/refined/3zsq/3zsq_remove_HEATM_protein.pdb\n"
     ]
    },
    {
     "name": "stderr",
     "output_type": "stream",
     "text": [
      "/opt/conda/envs/team05/lib/python3.10/site-packages/Bio/PDB/PDBParser.py:388: PDBConstructionWarning: Ignoring unrecognized record 'TER' at line 2344\n",
      "  warnings.warn(\n",
      "/opt/conda/envs/team05/lib/python3.10/site-packages/Bio/PDB/PDBParser.py:388: PDBConstructionWarning: Ignoring unrecognized record 'TER' at line 4661\n",
      "  warnings.warn(\n",
      "/opt/conda/envs/team05/lib/python3.10/site-packages/Bio/PDB/PDBParser.py:388: PDBConstructionWarning: Ignoring unrecognized record 'END' at line 4887\n",
      "  warnings.warn(\n",
      "/opt/conda/envs/team05/lib/python3.10/site-packages/Bio/PDB/PDBParser.py:388: PDBConstructionWarning: Ignoring unrecognized record 'TER' at line 4062\n",
      "  warnings.warn(\n",
      "/opt/conda/envs/team05/lib/python3.10/site-packages/Bio/PDB/PDBParser.py:388: PDBConstructionWarning: Ignoring unrecognized record 'END' at line 4242\n",
      "  warnings.warn(\n",
      "/opt/conda/envs/team05/lib/python3.10/site-packages/Bio/PDB/PDBParser.py:388: PDBConstructionWarning: Ignoring unrecognized record 'TER' at line 2922\n",
      "  warnings.warn(\n",
      "/opt/conda/envs/team05/lib/python3.10/site-packages/Bio/PDB/PDBParser.py:388: PDBConstructionWarning: Ignoring unrecognized record 'TER' at line 5772\n",
      "  warnings.warn(\n",
      "/opt/conda/envs/team05/lib/python3.10/site-packages/Bio/PDB/PDBParser.py:388: PDBConstructionWarning: Ignoring unrecognized record 'TER' at line 8635\n",
      "  warnings.warn(\n"
     ]
    },
    {
     "name": "stdout",
     "output_type": "stream",
     "text": [
      "[OK] saved: /workspace/datasets/PDBbind2016/refined/3b67/3b67_remove_HEATM_protein.pdb\n"
     ]
    },
    {
     "name": "stderr",
     "output_type": "stream",
     "text": [
      "/opt/conda/envs/team05/lib/python3.10/site-packages/Bio/PDB/PDBParser.py:388: PDBConstructionWarning: Ignoring unrecognized record 'TER' at line 11485\n",
      "  warnings.warn(\n"
     ]
    },
    {
     "name": "stdout",
     "output_type": "stream",
     "text": [
      "[OK] saved: /workspace/datasets/PDBbind2016/refined/1yfz/1yfz_remove_HEATM_protein.pdb\n",
      "[OK] saved: /workspace/datasets/PDBbind2016/refined/4pft/4pft_remove_HEATM_protein.pdb\n"
     ]
    },
    {
     "name": "stderr",
     "output_type": "stream",
     "text": [
      "/opt/conda/envs/team05/lib/python3.10/site-packages/Bio/PDB/PDBParser.py:388: PDBConstructionWarning: Ignoring unrecognized record 'TER' at line 5298\n",
      "  warnings.warn(\n",
      "/opt/conda/envs/team05/lib/python3.10/site-packages/Bio/PDB/PDBParser.py:388: PDBConstructionWarning: Ignoring unrecognized record 'TER' at line 1428\n",
      "  warnings.warn(\n",
      "/opt/conda/envs/team05/lib/python3.10/site-packages/Bio/PDB/PDBParser.py:388: PDBConstructionWarning: Ignoring unrecognized record 'TER' at line 2829\n",
      "  warnings.warn(\n",
      "/opt/conda/envs/team05/lib/python3.10/site-packages/Bio/PDB/PDBParser.py:388: PDBConstructionWarning: Ignoring unrecognized record 'END' at line 2988\n",
      "  warnings.warn(\n"
     ]
    },
    {
     "name": "stdout",
     "output_type": "stream",
     "text": [
      "[OK] saved: /workspace/datasets/PDBbind2016/refined/4cjq/4cjq_remove_HEATM_protein.pdb\n",
      "[OK] saved: /workspace/datasets/PDBbind2016/refined/2vwm/2vwm_remove_HEATM_protein.pdb\n"
     ]
    },
    {
     "name": "stderr",
     "output_type": "stream",
     "text": [
      "/opt/conda/envs/team05/lib/python3.10/site-packages/Bio/PDB/PDBParser.py:388: PDBConstructionWarning: Ignoring unrecognized record 'TER' at line 3656\n",
      "  warnings.warn(\n",
      "/opt/conda/envs/team05/lib/python3.10/site-packages/Bio/PDB/PDBParser.py:388: PDBConstructionWarning: Ignoring unrecognized record 'TER' at line 4401\n",
      "  warnings.warn(\n",
      "/opt/conda/envs/team05/lib/python3.10/site-packages/Bio/PDB/PDBParser.py:388: PDBConstructionWarning: Ignoring unrecognized record 'TER' at line 4804\n",
      "  warnings.warn(\n"
     ]
    },
    {
     "name": "stdout",
     "output_type": "stream",
     "text": [
      "[OK] saved: /workspace/datasets/PDBbind2016/refined/1f57/1f57_remove_HEATM_protein.pdb\n",
      "[OK] saved: /workspace/datasets/PDBbind2016/refined/3v3q/3v3q_remove_HEATM_protein.pdb\n"
     ]
    },
    {
     "name": "stderr",
     "output_type": "stream",
     "text": [
      "/opt/conda/envs/team05/lib/python3.10/site-packages/Bio/PDB/PDBParser.py:388: PDBConstructionWarning: Ignoring unrecognized record 'TER' at line 3803\n",
      "  warnings.warn(\n",
      "/opt/conda/envs/team05/lib/python3.10/site-packages/Bio/PDB/PDBParser.py:388: PDBConstructionWarning: Ignoring unrecognized record 'TER' at line 7592\n",
      "  warnings.warn(\n",
      "/opt/conda/envs/team05/lib/python3.10/site-packages/Bio/PDB/PDBParser.py:388: PDBConstructionWarning: Ignoring unrecognized record 'TER' at line 2942\n",
      "  warnings.warn(\n",
      "/opt/conda/envs/team05/lib/python3.10/site-packages/Bio/PDB/PDBParser.py:388: PDBConstructionWarning: Ignoring unrecognized record 'TER' at line 5835\n",
      "  warnings.warn(\n"
     ]
    },
    {
     "name": "stdout",
     "output_type": "stream",
     "text": [
      "[OK] saved: /workspace/datasets/PDBbind2016/refined/3wqm/3wqm_remove_HEATM_protein.pdb\n"
     ]
    },
    {
     "name": "stderr",
     "output_type": "stream",
     "text": [
      "/opt/conda/envs/team05/lib/python3.10/site-packages/Bio/PDB/PDBParser.py:388: PDBConstructionWarning: Ignoring unrecognized record 'TER' at line 4257\n",
      "  warnings.warn(\n",
      "/opt/conda/envs/team05/lib/python3.10/site-packages/Bio/PDB/PDBParser.py:388: PDBConstructionWarning: Ignoring unrecognized record 'TER' at line 8448\n",
      "  warnings.warn(\n",
      "/opt/conda/envs/team05/lib/python3.10/site-packages/Bio/PDB/PDBParser.py:388: PDBConstructionWarning: Ignoring unrecognized record 'TER' at line 12639\n",
      "  warnings.warn(\n",
      "/opt/conda/envs/team05/lib/python3.10/site-packages/Bio/PDB/PDBParser.py:388: PDBConstructionWarning: Ignoring unrecognized record 'END' at line 13052\n",
      "  warnings.warn(\n",
      "/opt/conda/envs/team05/lib/python3.10/site-packages/Bio/PDB/PDBParser.py:388: PDBConstructionWarning: Ignoring unrecognized record 'TER' at line 3288\n",
      "  warnings.warn(\n",
      "/opt/conda/envs/team05/lib/python3.10/site-packages/Bio/PDB/PDBParser.py:388: PDBConstructionWarning: Ignoring unrecognized record 'TER' at line 6498\n",
      "  warnings.warn(\n"
     ]
    },
    {
     "name": "stdout",
     "output_type": "stream",
     "text": [
      "[OK] saved: /workspace/datasets/PDBbind2016/refined/1k27/1k27_remove_HEATM_protein.pdb\n",
      "[OK] saved: /workspace/datasets/PDBbind2016/refined/1aj7/1aj7_remove_HEATM_protein.pdb\n"
     ]
    },
    {
     "name": "stderr",
     "output_type": "stream",
     "text": [
      "/opt/conda/envs/team05/lib/python3.10/site-packages/Bio/PDB/PDBParser.py:388: PDBConstructionWarning: Ignoring unrecognized record 'TER' at line 4069\n",
      "  warnings.warn(\n",
      "/opt/conda/envs/team05/lib/python3.10/site-packages/Bio/PDB/PDBParser.py:388: PDBConstructionWarning: Ignoring unrecognized record 'TER' at line 7938\n",
      "  warnings.warn(\n"
     ]
    },
    {
     "name": "stdout",
     "output_type": "stream",
     "text": [
      "[OK] saved: /workspace/datasets/PDBbind2016/refined/4oks/4oks_remove_HEATM_protein.pdb\n"
     ]
    },
    {
     "name": "stderr",
     "output_type": "stream",
     "text": [
      "/opt/conda/envs/team05/lib/python3.10/site-packages/Bio/PDB/PDBParser.py:388: PDBConstructionWarning: Ignoring unrecognized record 'TER' at line 6780\n",
      "  warnings.warn(\n",
      "/opt/conda/envs/team05/lib/python3.10/site-packages/Bio/PDB/PDBParser.py:388: PDBConstructionWarning: Ignoring unrecognized record 'TER' at line 13449\n",
      "  warnings.warn(\n",
      "/opt/conda/envs/team05/lib/python3.10/site-packages/Bio/PDB/PDBParser.py:388: PDBConstructionWarning: Ignoring unrecognized record 'TER' at line 2406\n",
      "  warnings.warn(\n",
      "/opt/conda/envs/team05/lib/python3.10/site-packages/Bio/PDB/PDBParser.py:388: PDBConstructionWarning: Ignoring unrecognized record 'TER' at line 1749\n",
      "  warnings.warn(\n",
      "/opt/conda/envs/team05/lib/python3.10/site-packages/Bio/PDB/PDBParser.py:388: PDBConstructionWarning: Ignoring unrecognized record 'TER' at line 3388\n",
      "  warnings.warn(\n",
      "/opt/conda/envs/team05/lib/python3.10/site-packages/Bio/PDB/PDBParser.py:388: PDBConstructionWarning: Ignoring unrecognized record 'END' at line 3549\n",
      "  warnings.warn(\n"
     ]
    },
    {
     "name": "stdout",
     "output_type": "stream",
     "text": [
      "[OK] saved: /workspace/datasets/PDBbind2016/refined/4ngn/4ngn_remove_HEATM_protein.pdb\n",
      "[OK] saved: /workspace/datasets/PDBbind2016/refined/1jaq/1jaq_remove_HEATM_protein.pdb\n",
      "[OK] saved: /workspace/datasets/PDBbind2016/refined/1oxr/1oxr_remove_HEATM_protein.pdb\n",
      "[OK] saved: /workspace/datasets/PDBbind2016/refined/4b7p/4b7p_remove_HEATM_protein.pdb\n"
     ]
    },
    {
     "name": "stderr",
     "output_type": "stream",
     "text": [
      "/opt/conda/envs/team05/lib/python3.10/site-packages/Bio/PDB/PDBParser.py:388: PDBConstructionWarning: Ignoring unrecognized record 'TER' at line 4874\n",
      "  warnings.warn(\n",
      "/opt/conda/envs/team05/lib/python3.10/site-packages/Bio/PDB/PDBParser.py:388: PDBConstructionWarning: Ignoring unrecognized record 'TER' at line 9670\n",
      "  warnings.warn(\n",
      "/opt/conda/envs/team05/lib/python3.10/site-packages/Bio/PDB/PDBParser.py:388: PDBConstructionWarning: Ignoring unrecognized record 'TER' at line 14466\n",
      "  warnings.warn(\n"
     ]
    },
    {
     "name": "stdout",
     "output_type": "stream",
     "text": [
      "[OK] saved: /workspace/datasets/PDBbind2016/refined/1t5f/1t5f_remove_HEATM_protein.pdb\n",
      "[OK] saved: /workspace/datasets/PDBbind2016/refined/3s73/3s73_remove_HEATM_protein.pdb\n"
     ]
    },
    {
     "name": "stderr",
     "output_type": "stream",
     "text": [
      "/opt/conda/envs/team05/lib/python3.10/site-packages/Bio/PDB/PDBParser.py:388: PDBConstructionWarning: Ignoring unrecognized record 'TER' at line 4046\n",
      "  warnings.warn(\n",
      "/opt/conda/envs/team05/lib/python3.10/site-packages/Bio/PDB/PDBParser.py:388: PDBConstructionWarning: Ignoring unrecognized record 'TER' at line 6680\n",
      "  warnings.warn(\n",
      "/opt/conda/envs/team05/lib/python3.10/site-packages/Bio/PDB/PDBParser.py:388: PDBConstructionWarning: Ignoring unrecognized record 'TER' at line 13287\n",
      "  warnings.warn(\n",
      "/opt/conda/envs/team05/lib/python3.10/site-packages/Bio/PDB/PDBParser.py:388: PDBConstructionWarning: Ignoring unrecognized record 'END' at line 13332\n",
      "  warnings.warn(\n"
     ]
    },
    {
     "name": "stdout",
     "output_type": "stream",
     "text": [
      "[OK] saved: /workspace/datasets/PDBbind2016/refined/2wk6/2wk6_remove_HEATM_protein.pdb\n",
      "[OK] saved: /workspace/datasets/PDBbind2016/refined/4qpl/4qpl_remove_HEATM_protein.pdb\n"
     ]
    },
    {
     "name": "stderr",
     "output_type": "stream",
     "text": [
      "/opt/conda/envs/team05/lib/python3.10/site-packages/Bio/PDB/PDBParser.py:388: PDBConstructionWarning: Ignoring unrecognized record 'TER' at line 1556\n",
      "  warnings.warn(\n",
      "/opt/conda/envs/team05/lib/python3.10/site-packages/Bio/PDB/PDBParser.py:388: PDBConstructionWarning: Ignoring unrecognized record 'TER' at line 2984\n",
      "  warnings.warn(\n",
      "/opt/conda/envs/team05/lib/python3.10/site-packages/Bio/PDB/PDBParser.py:388: PDBConstructionWarning: Ignoring unrecognized record 'TER' at line 4083\n",
      "  warnings.warn(\n",
      "/opt/conda/envs/team05/lib/python3.10/site-packages/Bio/PDB/PDBParser.py:388: PDBConstructionWarning: Ignoring unrecognized record 'TER' at line 1559\n",
      "  warnings.warn(\n",
      "/opt/conda/envs/team05/lib/python3.10/site-packages/Bio/PDB/PDBParser.py:388: PDBConstructionWarning: Ignoring unrecognized record 'TER' at line 3099\n",
      "  warnings.warn(\n",
      "/opt/conda/envs/team05/lib/python3.10/site-packages/Bio/PDB/PDBParser.py:388: PDBConstructionWarning: Ignoring unrecognized record 'END' at line 3135\n",
      "  warnings.warn(\n",
      "/opt/conda/envs/team05/lib/python3.10/site-packages/Bio/PDB/PDBParser.py:388: PDBConstructionWarning: Ignoring unrecognized record 'TER' at line 2389\n",
      "  warnings.warn(\n",
      "/opt/conda/envs/team05/lib/python3.10/site-packages/Bio/PDB/PDBParser.py:388: PDBConstructionWarning: Ignoring unrecognized record 'TER' at line 4704\n",
      "  warnings.warn(\n"
     ]
    },
    {
     "name": "stdout",
     "output_type": "stream",
     "text": [
      "[OK] saved: /workspace/datasets/PDBbind2016/refined/3ibu/3ibu_remove_HEATM_protein.pdb\n",
      "[OK] saved: /workspace/datasets/PDBbind2016/refined/1tcw/1tcw_remove_HEATM_protein.pdb\n"
     ]
    },
    {
     "name": "stderr",
     "output_type": "stream",
     "text": [
      "/opt/conda/envs/team05/lib/python3.10/site-packages/Bio/PDB/PDBParser.py:388: PDBConstructionWarning: Ignoring unrecognized record 'TER' at line 7018\n",
      "  warnings.warn(\n",
      "/opt/conda/envs/team05/lib/python3.10/site-packages/Bio/PDB/PDBParser.py:388: PDBConstructionWarning: Ignoring unrecognized record 'TER' at line 9333\n",
      "  warnings.warn(\n",
      "/opt/conda/envs/team05/lib/python3.10/site-packages/Bio/PDB/PDBParser.py:388: PDBConstructionWarning: Ignoring unrecognized record 'TER' at line 11648\n",
      "  warnings.warn(\n",
      "/opt/conda/envs/team05/lib/python3.10/site-packages/Bio/PDB/PDBParser.py:388: PDBConstructionWarning: Ignoring unrecognized record 'TER' at line 13963\n",
      "  warnings.warn(\n",
      "/opt/conda/envs/team05/lib/python3.10/site-packages/Bio/PDB/PDBParser.py:388: PDBConstructionWarning: Ignoring unrecognized record 'END' at line 15111\n",
      "  warnings.warn(\n"
     ]
    },
    {
     "name": "stdout",
     "output_type": "stream",
     "text": [
      "[OK] saved: /workspace/datasets/PDBbind2016/refined/1s5z/1s5z_remove_HEATM_protein.pdb\n",
      "[OK] saved: /workspace/datasets/PDBbind2016/refined/1hpx/1hpx_remove_HEATM_protein.pdb\n",
      "[OK] saved: /workspace/datasets/PDBbind2016/refined/1pph/1pph_remove_HEATM_protein.pdb\n"
     ]
    },
    {
     "name": "stderr",
     "output_type": "stream",
     "text": [
      "/opt/conda/envs/team05/lib/python3.10/site-packages/Bio/PDB/PDBParser.py:388: PDBConstructionWarning: Ignoring unrecognized record 'TER' at line 1581\n",
      "  warnings.warn(\n",
      "/opt/conda/envs/team05/lib/python3.10/site-packages/Bio/PDB/PDBParser.py:388: PDBConstructionWarning: Ignoring unrecognized record 'TER' at line 3143\n",
      "  warnings.warn(\n",
      "/opt/conda/envs/team05/lib/python3.10/site-packages/Bio/PDB/PDBParser.py:388: PDBConstructionWarning: Ignoring unrecognized record 'END' at line 3150\n",
      "  warnings.warn(\n",
      "/opt/conda/envs/team05/lib/python3.10/site-packages/Bio/PDB/PDBParser.py:388: PDBConstructionWarning: Ignoring unrecognized record 'TER' at line 3245\n",
      "  warnings.warn(\n",
      "/opt/conda/envs/team05/lib/python3.10/site-packages/Bio/PDB/PDBParser.py:388: PDBConstructionWarning: Ignoring unrecognized record 'TER' at line 1625\n",
      "  warnings.warn(\n",
      "/opt/conda/envs/team05/lib/python3.10/site-packages/Bio/PDB/PDBParser.py:388: PDBConstructionWarning: Ignoring unrecognized record 'TER' at line 3341\n",
      "  warnings.warn(\n",
      "/opt/conda/envs/team05/lib/python3.10/site-packages/Bio/PDB/PDBParser.py:388: PDBConstructionWarning: Ignoring unrecognized record 'TER' at line 6364\n",
      "  warnings.warn(\n"
     ]
    },
    {
     "name": "stdout",
     "output_type": "stream",
     "text": [
      "[OK] saved: /workspace/datasets/PDBbind2016/refined/1dl7/1dl7_remove_HEATM_protein.pdb\n",
      "[OK] saved: /workspace/datasets/PDBbind2016/refined/4a95/4a95_remove_HEATM_protein.pdb\n"
     ]
    },
    {
     "name": "stderr",
     "output_type": "stream",
     "text": [
      "/opt/conda/envs/team05/lib/python3.10/site-packages/Bio/PDB/PDBParser.py:388: PDBConstructionWarning: Ignoring unrecognized record 'TER' at line 1661\n",
      "  warnings.warn(\n",
      "/opt/conda/envs/team05/lib/python3.10/site-packages/Bio/PDB/PDBParser.py:388: PDBConstructionWarning: Ignoring unrecognized record 'END' at line 1724\n",
      "  warnings.warn(\n",
      "/opt/conda/envs/team05/lib/python3.10/site-packages/Bio/PDB/PDBParser.py:388: PDBConstructionWarning: Ignoring unrecognized record 'TER' at line 3253\n",
      "  warnings.warn(\n",
      "/opt/conda/envs/team05/lib/python3.10/site-packages/Bio/PDB/PDBParser.py:388: PDBConstructionWarning: Ignoring unrecognized record 'TER' at line 908\n",
      "  warnings.warn(\n"
     ]
    },
    {
     "name": "stdout",
     "output_type": "stream",
     "text": [
      "[OK] saved: /workspace/datasets/PDBbind2016/refined/3s8n/3s8n_remove_HEATM_protein.pdb\n",
      "[OK] saved: /workspace/datasets/PDBbind2016/refined/1v2k/1v2k_remove_HEATM_protein.pdb\n"
     ]
    },
    {
     "name": "stderr",
     "output_type": "stream",
     "text": [
      "/opt/conda/envs/team05/lib/python3.10/site-packages/Bio/PDB/PDBParser.py:388: PDBConstructionWarning: Ignoring unrecognized record 'TER' at line 1818\n",
      "  warnings.warn(\n",
      "/opt/conda/envs/team05/lib/python3.10/site-packages/Bio/PDB/PDBParser.py:388: PDBConstructionWarning: Ignoring unrecognized record 'END' at line 1928\n",
      "  warnings.warn(\n",
      "/opt/conda/envs/team05/lib/python3.10/site-packages/Bio/PDB/PDBParser.py:388: PDBConstructionWarning: Ignoring unrecognized record 'TER' at line 4747\n",
      "  warnings.warn(\n",
      "/opt/conda/envs/team05/lib/python3.10/site-packages/Bio/PDB/PDBParser.py:388: PDBConstructionWarning: Ignoring unrecognized record 'TER' at line 2027\n",
      "  warnings.warn(\n",
      "/opt/conda/envs/team05/lib/python3.10/site-packages/Bio/PDB/PDBParser.py:388: PDBConstructionWarning: Ignoring unrecognized record 'END' at line 2238\n",
      "  warnings.warn(\n",
      "/opt/conda/envs/team05/lib/python3.10/site-packages/Bio/PDB/PDBParser.py:388: PDBConstructionWarning: Ignoring unrecognized record 'TER' at line 948\n",
      "  warnings.warn(\n"
     ]
    },
    {
     "name": "stdout",
     "output_type": "stream",
     "text": [
      "[OK] saved: /workspace/datasets/PDBbind2016/refined/4q1w/4q1w_remove_HEATM_protein.pdb\n",
      "[OK] saved: /workspace/datasets/PDBbind2016/refined/4ehz/4ehz_remove_HEATM_protein.pdb\n",
      "[OK] saved: /workspace/datasets/PDBbind2016/refined/4o07/4o07_remove_HEATM_protein.pdb\n"
     ]
    },
    {
     "name": "stderr",
     "output_type": "stream",
     "text": [
      "/opt/conda/envs/team05/lib/python3.10/site-packages/Bio/PDB/PDBParser.py:388: PDBConstructionWarning: Ignoring unrecognized record 'END' at line 1014\n",
      "  warnings.warn(\n",
      "/opt/conda/envs/team05/lib/python3.10/site-packages/Bio/PDB/PDBParser.py:388: PDBConstructionWarning: Ignoring unrecognized record 'TER' at line 940\n",
      "  warnings.warn(\n",
      "/opt/conda/envs/team05/lib/python3.10/site-packages/Bio/PDB/PDBParser.py:388: PDBConstructionWarning: Ignoring unrecognized record 'TER' at line 1861\n",
      "  warnings.warn(\n",
      "/opt/conda/envs/team05/lib/python3.10/site-packages/Bio/PDB/PDBParser.py:388: PDBConstructionWarning: Ignoring unrecognized record 'TER' at line 4308\n",
      "  warnings.warn(\n"
     ]
    },
    {
     "name": "stdout",
     "output_type": "stream",
     "text": [
      "[OK] saved: /workspace/datasets/PDBbind2016/refined/4zyf/4zyf_remove_HEATM_protein.pdb\n",
      "[OK] saved: /workspace/datasets/PDBbind2016/refined/5bry/5bry_remove_HEATM_protein.pdb\n"
     ]
    },
    {
     "name": "stderr",
     "output_type": "stream",
     "text": [
      "/opt/conda/envs/team05/lib/python3.10/site-packages/Bio/PDB/PDBParser.py:388: PDBConstructionWarning: Ignoring unrecognized record 'TER' at line 8487\n",
      "  warnings.warn(\n",
      "/opt/conda/envs/team05/lib/python3.10/site-packages/Bio/PDB/PDBParser.py:388: PDBConstructionWarning: Ignoring unrecognized record 'END' at line 8935\n",
      "  warnings.warn(\n",
      "/opt/conda/envs/team05/lib/python3.10/site-packages/Bio/PDB/PDBParser.py:388: PDBConstructionWarning: Ignoring unrecognized record 'TER' at line 3314\n",
      "  warnings.warn(\n",
      "/opt/conda/envs/team05/lib/python3.10/site-packages/Bio/PDB/PDBParser.py:388: PDBConstructionWarning: Ignoring unrecognized record 'END' at line 3657\n",
      "  warnings.warn(\n"
     ]
    },
    {
     "name": "stdout",
     "output_type": "stream",
     "text": [
      "[OK] saved: /workspace/datasets/PDBbind2016/refined/3cow/3cow_remove_HEATM_protein.pdb\n",
      "[OK] saved: /workspace/datasets/PDBbind2016/refined/3b25/3b25_remove_HEATM_protein.pdb\n"
     ]
    },
    {
     "name": "stderr",
     "output_type": "stream",
     "text": [
      "/opt/conda/envs/team05/lib/python3.10/site-packages/Bio/PDB/PDBParser.py:388: PDBConstructionWarning: Ignoring unrecognized record 'TER' at line 3738\n",
      "  warnings.warn(\n",
      "/opt/conda/envs/team05/lib/python3.10/site-packages/Bio/PDB/PDBParser.py:388: PDBConstructionWarning: Ignoring unrecognized record 'TER' at line 7453\n",
      "  warnings.warn(\n",
      "/opt/conda/envs/team05/lib/python3.10/site-packages/Bio/PDB/PDBParser.py:388: PDBConstructionWarning: Ignoring unrecognized record 'END' at line 7627\n",
      "  warnings.warn(\n",
      "/opt/conda/envs/team05/lib/python3.10/site-packages/Bio/PDB/PDBParser.py:388: PDBConstructionWarning: Ignoring unrecognized record 'TER' at line 3324\n",
      "  warnings.warn(\n"
     ]
    },
    {
     "name": "stdout",
     "output_type": "stream",
     "text": [
      "[OK] saved: /workspace/datasets/PDBbind2016/refined/4l4z/4l4z_remove_HEATM_protein.pdb\n"
     ]
    },
    {
     "name": "stderr",
     "output_type": "stream",
     "text": [
      "/opt/conda/envs/team05/lib/python3.10/site-packages/Bio/PDB/PDBParser.py:388: PDBConstructionWarning: Ignoring unrecognized record 'TER' at line 11973\n",
      "  warnings.warn(\n",
      "/opt/conda/envs/team05/lib/python3.10/site-packages/Bio/PDB/PDBParser.py:388: PDBConstructionWarning: Ignoring unrecognized record 'TER' at line 3811\n",
      "  warnings.warn(\n"
     ]
    },
    {
     "name": "stdout",
     "output_type": "stream",
     "text": [
      "[OK] saved: /workspace/datasets/PDBbind2016/refined/1ai7/1ai7_remove_HEATM_protein.pdb\n",
      "[OK] saved: /workspace/datasets/PDBbind2016/refined/3ai8/3ai8_remove_HEATM_protein.pdb\n"
     ]
    },
    {
     "name": "stderr",
     "output_type": "stream",
     "text": [
      "/opt/conda/envs/team05/lib/python3.10/site-packages/Bio/PDB/PDBParser.py:388: PDBConstructionWarning: Ignoring unrecognized record 'TER' at line 4606\n",
      "  warnings.warn(\n",
      "/opt/conda/envs/team05/lib/python3.10/site-packages/Bio/PDB/PDBParser.py:388: PDBConstructionWarning: Ignoring unrecognized record 'END' at line 4781\n",
      "  warnings.warn(\n",
      "/opt/conda/envs/team05/lib/python3.10/site-packages/Bio/PDB/PDBParser.py:388: PDBConstructionWarning: Ignoring unrecognized record 'TER' at line 4374\n",
      "  warnings.warn(\n"
     ]
    },
    {
     "name": "stdout",
     "output_type": "stream",
     "text": [
      "[OK] saved: /workspace/datasets/PDBbind2016/refined/1nwl/1nwl_remove_HEATM_protein.pdb\n",
      "[OK] saved: /workspace/datasets/PDBbind2016/refined/4xar/4xar_remove_HEATM_protein.pdb\n"
     ]
    },
    {
     "name": "stderr",
     "output_type": "stream",
     "text": [
      "/opt/conda/envs/team05/lib/python3.10/site-packages/Bio/PDB/PDBParser.py:388: PDBConstructionWarning: Ignoring unrecognized record 'TER' at line 3850\n",
      "  warnings.warn(\n",
      "/opt/conda/envs/team05/lib/python3.10/site-packages/Bio/PDB/PDBParser.py:388: PDBConstructionWarning: Ignoring unrecognized record 'TER' at line 4055\n",
      "  warnings.warn(\n"
     ]
    },
    {
     "name": "stdout",
     "output_type": "stream",
     "text": [
      "[OK] saved: /workspace/datasets/PDBbind2016/refined/1o5a/1o5a_remove_HEATM_protein.pdb\n",
      "[OK] saved: /workspace/datasets/PDBbind2016/refined/1bnn/1bnn_remove_HEATM_protein.pdb\n"
     ]
    },
    {
     "name": "stderr",
     "output_type": "stream",
     "text": [
      "/opt/conda/envs/team05/lib/python3.10/site-packages/Bio/PDB/PDBParser.py:388: PDBConstructionWarning: Ignoring unrecognized record 'TER' at line 3655\n",
      "  warnings.warn(\n",
      "/opt/conda/envs/team05/lib/python3.10/site-packages/Bio/PDB/PDBParser.py:388: PDBConstructionWarning: Ignoring unrecognized record 'TER' at line 7273\n",
      "  warnings.warn(\n",
      "/opt/conda/envs/team05/lib/python3.10/site-packages/Bio/PDB/PDBParser.py:388: PDBConstructionWarning: Ignoring unrecognized record 'END' at line 7711\n",
      "  warnings.warn(\n"
     ]
    },
    {
     "name": "stdout",
     "output_type": "stream",
     "text": [
      "[OK] saved: /workspace/datasets/PDBbind2016/refined/3gst/3gst_remove_HEATM_protein.pdb\n"
     ]
    },
    {
     "name": "stderr",
     "output_type": "stream",
     "text": [
      "/opt/conda/envs/team05/lib/python3.10/site-packages/Bio/PDB/PDBParser.py:388: PDBConstructionWarning: Ignoring unrecognized record 'TER' at line 4546\n",
      "  warnings.warn(\n",
      "/opt/conda/envs/team05/lib/python3.10/site-packages/Bio/PDB/PDBParser.py:388: PDBConstructionWarning: Ignoring unrecognized record 'TER' at line 9021\n",
      "  warnings.warn(\n",
      "/opt/conda/envs/team05/lib/python3.10/site-packages/Bio/PDB/PDBParser.py:388: PDBConstructionWarning: Ignoring unrecognized record 'TER' at line 13417\n",
      "  warnings.warn(\n",
      "/opt/conda/envs/team05/lib/python3.10/site-packages/Bio/PDB/PDBParser.py:388: PDBConstructionWarning: Ignoring unrecognized record 'END' at line 13741\n",
      "  warnings.warn(\n"
     ]
    },
    {
     "name": "stdout",
     "output_type": "stream",
     "text": [
      "[OK] saved: /workspace/datasets/PDBbind2016/refined/4eb8/4eb8_remove_HEATM_protein.pdb\n"
     ]
    },
    {
     "name": "stderr",
     "output_type": "stream",
     "text": [
      "/opt/conda/envs/team05/lib/python3.10/site-packages/Bio/PDB/PDBParser.py:388: PDBConstructionWarning: Ignoring unrecognized record 'TER' at line 7355\n",
      "  warnings.warn(\n",
      "/opt/conda/envs/team05/lib/python3.10/site-packages/Bio/PDB/PDBParser.py:388: PDBConstructionWarning: Ignoring unrecognized record 'TER' at line 14494\n",
      "  warnings.warn(\n",
      "/opt/conda/envs/team05/lib/python3.10/site-packages/Bio/PDB/PDBParser.py:388: PDBConstructionWarning: Ignoring unrecognized record 'TER' at line 21633\n",
      "  warnings.warn(\n",
      "/opt/conda/envs/team05/lib/python3.10/site-packages/Bio/PDB/PDBParser.py:388: PDBConstructionWarning: Ignoring unrecognized record 'TER' at line 28772\n",
      "  warnings.warn(\n",
      "/opt/conda/envs/team05/lib/python3.10/site-packages/Bio/PDB/PDBParser.py:388: PDBConstructionWarning: Ignoring unrecognized record 'TER' at line 35911\n",
      "  warnings.warn(\n",
      "/opt/conda/envs/team05/lib/python3.10/site-packages/Bio/PDB/PDBParser.py:388: PDBConstructionWarning: Ignoring unrecognized record 'TER' at line 43050\n",
      "  warnings.warn(\n"
     ]
    },
    {
     "name": "stdout",
     "output_type": "stream",
     "text": [
      "[OK] saved: /workspace/datasets/PDBbind2016/refined/2zwz/2zwz_remove_HEATM_protein.pdb\n"
     ]
    },
    {
     "name": "stderr",
     "output_type": "stream",
     "text": [
      "/opt/conda/envs/team05/lib/python3.10/site-packages/Bio/PDB/PDBParser.py:388: PDBConstructionWarning: Ignoring unrecognized record 'TER' at line 3981\n",
      "  warnings.warn(\n",
      "/opt/conda/envs/team05/lib/python3.10/site-packages/Bio/PDB/PDBParser.py:388: PDBConstructionWarning: Ignoring unrecognized record 'TER' at line 7790\n",
      "  warnings.warn(\n",
      "/opt/conda/envs/team05/lib/python3.10/site-packages/Bio/PDB/PDBParser.py:388: PDBConstructionWarning: Ignoring unrecognized record 'END' at line 7905\n",
      "  warnings.warn(\n"
     ]
    },
    {
     "name": "stdout",
     "output_type": "stream",
     "text": [
      "[OK] saved: /workspace/datasets/PDBbind2016/refined/1n46/1n46_remove_HEATM_protein.pdb\n",
      "[OK] saved: /workspace/datasets/PDBbind2016/refined/4yrd/4yrd_remove_HEATM_protein.pdb\n"
     ]
    },
    {
     "name": "stderr",
     "output_type": "stream",
     "text": [
      "/opt/conda/envs/team05/lib/python3.10/site-packages/Bio/PDB/PDBParser.py:388: PDBConstructionWarning: Ignoring unrecognized record 'TER' at line 3406\n",
      "  warnings.warn(\n",
      "/opt/conda/envs/team05/lib/python3.10/site-packages/Bio/PDB/PDBParser.py:388: PDBConstructionWarning: Ignoring unrecognized record 'TER' at line 6802\n",
      "  warnings.warn(\n",
      "/opt/conda/envs/team05/lib/python3.10/site-packages/Bio/PDB/PDBParser.py:388: PDBConstructionWarning: Ignoring unrecognized record 'TER' at line 4635\n",
      "  warnings.warn(\n",
      "/opt/conda/envs/team05/lib/python3.10/site-packages/Bio/PDB/PDBParser.py:388: PDBConstructionWarning: Ignoring unrecognized record 'END' at line 4753\n",
      "  warnings.warn(\n"
     ]
    },
    {
     "name": "stdout",
     "output_type": "stream",
     "text": [
      "[OK] saved: /workspace/datasets/PDBbind2016/refined/1fch/1fch_remove_HEATM_protein.pdb\n",
      "[OK] saved: /workspace/datasets/PDBbind2016/refined/4lar/4lar_remove_HEATM_protein.pdb\n"
     ]
    },
    {
     "name": "stderr",
     "output_type": "stream",
     "text": [
      "/opt/conda/envs/team05/lib/python3.10/site-packages/Bio/PDB/PDBParser.py:388: PDBConstructionWarning: Ignoring unrecognized record 'TER' at line 1831\n",
      "  warnings.warn(\n",
      "/opt/conda/envs/team05/lib/python3.10/site-packages/Bio/PDB/PDBParser.py:388: PDBConstructionWarning: Ignoring unrecognized record 'TER' at line 3489\n",
      "  warnings.warn(\n",
      "/opt/conda/envs/team05/lib/python3.10/site-packages/Bio/PDB/PDBParser.py:388: PDBConstructionWarning: Ignoring unrecognized record 'TER' at line 1545\n",
      "  warnings.warn(\n",
      "/opt/conda/envs/team05/lib/python3.10/site-packages/Bio/PDB/PDBParser.py:388: PDBConstructionWarning: Ignoring unrecognized record 'TER' at line 3058\n",
      "  warnings.warn(\n",
      "/opt/conda/envs/team05/lib/python3.10/site-packages/Bio/PDB/PDBParser.py:388: PDBConstructionWarning: Ignoring unrecognized record 'END' at line 3183\n",
      "  warnings.warn(\n",
      "/opt/conda/envs/team05/lib/python3.10/site-packages/Bio/PDB/PDBParser.py:388: PDBConstructionWarning: Ignoring unrecognized record 'TER' at line 2716\n",
      "  warnings.warn(\n",
      "/opt/conda/envs/team05/lib/python3.10/site-packages/Bio/PDB/PDBParser.py:388: PDBConstructionWarning: Ignoring unrecognized record 'TER' at line 5390\n",
      "  warnings.warn(\n",
      "/opt/conda/envs/team05/lib/python3.10/site-packages/Bio/PDB/PDBParser.py:388: PDBConstructionWarning: Ignoring unrecognized record 'TER' at line 8064\n",
      "  warnings.warn(\n"
     ]
    },
    {
     "name": "stdout",
     "output_type": "stream",
     "text": [
      "[OK] saved: /workspace/datasets/PDBbind2016/refined/3ekv/3ekv_remove_HEATM_protein.pdb\n",
      "[OK] saved: /workspace/datasets/PDBbind2016/refined/6std/6std_remove_HEATM_protein.pdb\n",
      "[OK] saved: /workspace/datasets/PDBbind2016/refined/4avj/4avj_remove_HEATM_protein.pdb\n"
     ]
    },
    {
     "name": "stderr",
     "output_type": "stream",
     "text": [
      "/opt/conda/envs/team05/lib/python3.10/site-packages/Bio/PDB/PDBParser.py:388: PDBConstructionWarning: Ignoring unrecognized record 'TER' at line 2377\n",
      "  warnings.warn(\n",
      "/opt/conda/envs/team05/lib/python3.10/site-packages/Bio/PDB/PDBParser.py:388: PDBConstructionWarning: Ignoring unrecognized record 'TER' at line 4825\n",
      "  warnings.warn(\n",
      "/opt/conda/envs/team05/lib/python3.10/site-packages/Bio/PDB/PDBParser.py:388: PDBConstructionWarning: Ignoring unrecognized record 'END' at line 5012\n",
      "  warnings.warn(\n"
     ]
    },
    {
     "name": "stdout",
     "output_type": "stream",
     "text": [
      "[OK] saved: /workspace/datasets/PDBbind2016/refined/2nt7/2nt7_remove_HEATM_protein.pdb\n"
     ]
    },
    {
     "name": "stderr",
     "output_type": "stream",
     "text": [
      "/opt/conda/envs/team05/lib/python3.10/site-packages/Bio/PDB/PDBParser.py:388: PDBConstructionWarning: Ignoring unrecognized record 'TER' at line 13390\n",
      "  warnings.warn(\n",
      "/opt/conda/envs/team05/lib/python3.10/site-packages/Bio/PDB/PDBParser.py:388: PDBConstructionWarning: Ignoring unrecognized record 'END' at line 14091\n",
      "  warnings.warn(\n",
      "/opt/conda/envs/team05/lib/python3.10/site-packages/Bio/PDB/PDBParser.py:388: PDBConstructionWarning: Ignoring unrecognized record 'TER' at line 1968\n",
      "  warnings.warn(\n",
      "/opt/conda/envs/team05/lib/python3.10/site-packages/Bio/PDB/PDBParser.py:388: PDBConstructionWarning: Ignoring unrecognized record 'TER' at line 1982\n",
      "  warnings.warn(\n"
     ]
    },
    {
     "name": "stdout",
     "output_type": "stream",
     "text": [
      "[OK] saved: /workspace/datasets/PDBbind2016/refined/2vl4/2vl4_remove_HEATM_protein.pdb\n",
      "[OK] saved: /workspace/datasets/PDBbind2016/refined/4oct/4oct_remove_HEATM_protein.pdb\n"
     ]
    },
    {
     "name": "stderr",
     "output_type": "stream",
     "text": [
      "/opt/conda/envs/team05/lib/python3.10/site-packages/Bio/PDB/PDBParser.py:388: PDBConstructionWarning: Ignoring unrecognized record 'TER' at line 3917\n",
      "  warnings.warn(\n",
      "/opt/conda/envs/team05/lib/python3.10/site-packages/Bio/PDB/PDBParser.py:388: PDBConstructionWarning: Ignoring unrecognized record 'TER' at line 5852\n",
      "  warnings.warn(\n",
      "/opt/conda/envs/team05/lib/python3.10/site-packages/Bio/PDB/PDBParser.py:388: PDBConstructionWarning: Ignoring unrecognized record 'TER' at line 7787\n",
      "  warnings.warn(\n",
      "/opt/conda/envs/team05/lib/python3.10/site-packages/Bio/PDB/PDBParser.py:388: PDBConstructionWarning: Ignoring unrecognized record 'TER' at line 1651\n",
      "  warnings.warn(\n",
      "/opt/conda/envs/team05/lib/python3.10/site-packages/Bio/PDB/PDBParser.py:388: PDBConstructionWarning: Ignoring unrecognized record 'END' at line 1744\n",
      "  warnings.warn(\n"
     ]
    },
    {
     "name": "stdout",
     "output_type": "stream",
     "text": [
      "[OK] saved: /workspace/datasets/PDBbind2016/refined/2a5b/2a5b_remove_HEATM_protein.pdb\n",
      "[OK] saved: /workspace/datasets/PDBbind2016/refined/3s8o/3s8o_remove_HEATM_protein.pdb\n"
     ]
    },
    {
     "name": "stderr",
     "output_type": "stream",
     "text": [
      "/opt/conda/envs/team05/lib/python3.10/site-packages/Bio/PDB/PDBParser.py:388: PDBConstructionWarning: Ignoring unrecognized record 'TER' at line 11742\n",
      "  warnings.warn(\n",
      "/opt/conda/envs/team05/lib/python3.10/site-packages/Bio/PDB/PDBParser.py:388: PDBConstructionWarning: Ignoring unrecognized record 'TER' at line 23361\n",
      "  warnings.warn(\n"
     ]
    },
    {
     "name": "stdout",
     "output_type": "stream",
     "text": [
      "[OK] saved: /workspace/datasets/PDBbind2016/refined/2aj8/2aj8_remove_HEATM_protein.pdb\n",
      "[OK] saved: /workspace/datasets/PDBbind2016/refined/1zgi/1zgi_remove_HEATM_protein.pdb\n"
     ]
    },
    {
     "name": "stderr",
     "output_type": "stream",
     "text": [
      "/opt/conda/envs/team05/lib/python3.10/site-packages/Bio/PDB/PDBParser.py:388: PDBConstructionWarning: Ignoring unrecognized record 'TER' at line 4477\n",
      "  warnings.warn(\n",
      "/opt/conda/envs/team05/lib/python3.10/site-packages/Bio/PDB/PDBParser.py:388: PDBConstructionWarning: Ignoring unrecognized record 'TER' at line 4215\n",
      "  warnings.warn(\n",
      "/opt/conda/envs/team05/lib/python3.10/site-packages/Bio/PDB/PDBParser.py:388: PDBConstructionWarning: Ignoring unrecognized record 'END' at line 4714\n",
      "  warnings.warn(\n",
      "/opt/conda/envs/team05/lib/python3.10/site-packages/Bio/PDB/PDBParser.py:388: PDBConstructionWarning: Ignoring unrecognized record 'TER' at line 3201\n",
      "  warnings.warn(\n"
     ]
    },
    {
     "name": "stdout",
     "output_type": "stream",
     "text": [
      "[OK] saved: /workspace/datasets/PDBbind2016/refined/3ujc/3ujc_remove_HEATM_protein.pdb\n",
      "[OK] saved: /workspace/datasets/PDBbind2016/refined/4lm2/4lm2_remove_HEATM_protein.pdb\n"
     ]
    },
    {
     "name": "stderr",
     "output_type": "stream",
     "text": [
      "/opt/conda/envs/team05/lib/python3.10/site-packages/Bio/PDB/PDBParser.py:388: PDBConstructionWarning: Ignoring unrecognized record 'TER' at line 6438\n",
      "  warnings.warn(\n",
      "/opt/conda/envs/team05/lib/python3.10/site-packages/Bio/PDB/PDBParser.py:388: PDBConstructionWarning: Ignoring unrecognized record 'TER' at line 12845\n",
      "  warnings.warn(\n"
     ]
    },
    {
     "name": "stdout",
     "output_type": "stream",
     "text": [
      "[OK] saved: /workspace/datasets/PDBbind2016/refined/1hyo/1hyo_remove_HEATM_protein.pdb\n"
     ]
    },
    {
     "name": "stderr",
     "output_type": "stream",
     "text": [
      "/opt/conda/envs/team05/lib/python3.10/site-packages/Bio/PDB/PDBParser.py:388: PDBConstructionWarning: Ignoring unrecognized record 'TER' at line 4353\n",
      "  warnings.warn(\n",
      "/opt/conda/envs/team05/lib/python3.10/site-packages/Bio/PDB/PDBParser.py:388: PDBConstructionWarning: Ignoring unrecognized record 'TER' at line 8455\n",
      "  warnings.warn(\n",
      "/opt/conda/envs/team05/lib/python3.10/site-packages/Bio/PDB/PDBParser.py:388: PDBConstructionWarning: Ignoring unrecognized record 'END' at line 8944\n",
      "  warnings.warn(\n",
      "/opt/conda/envs/team05/lib/python3.10/site-packages/Bio/PDB/PDBParser.py:388: PDBConstructionWarning: Ignoring unrecognized record 'TER' at line 1452\n",
      "  warnings.warn(\n"
     ]
    },
    {
     "name": "stdout",
     "output_type": "stream",
     "text": [
      "[OK] saved: /workspace/datasets/PDBbind2016/refined/4ddm/4ddm_remove_HEATM_protein.pdb\n",
      "[OK] saved: /workspace/datasets/PDBbind2016/refined/4css/4css_remove_HEATM_protein.pdb\n"
     ]
    },
    {
     "name": "stderr",
     "output_type": "stream",
     "text": [
      "/opt/conda/envs/team05/lib/python3.10/site-packages/Bio/PDB/PDBParser.py:388: PDBConstructionWarning: Ignoring unrecognized record 'TER' at line 2358\n",
      "  warnings.warn(\n",
      "/opt/conda/envs/team05/lib/python3.10/site-packages/Bio/PDB/PDBParser.py:388: PDBConstructionWarning: Ignoring unrecognized record 'TER' at line 4569\n",
      "  warnings.warn(\n",
      "/opt/conda/envs/team05/lib/python3.10/site-packages/Bio/PDB/PDBParser.py:388: PDBConstructionWarning: Ignoring unrecognized record 'TER' at line 6780\n",
      "  warnings.warn(\n",
      "/opt/conda/envs/team05/lib/python3.10/site-packages/Bio/PDB/PDBParser.py:388: PDBConstructionWarning: Ignoring unrecognized record 'TER' at line 8991\n",
      "  warnings.warn(\n",
      "/opt/conda/envs/team05/lib/python3.10/site-packages/Bio/PDB/PDBParser.py:388: PDBConstructionWarning: Ignoring unrecognized record 'TER' at line 11202\n",
      "  warnings.warn(\n",
      "/opt/conda/envs/team05/lib/python3.10/site-packages/Bio/PDB/PDBParser.py:388: PDBConstructionWarning: Ignoring unrecognized record 'TER' at line 13413\n",
      "  warnings.warn(\n",
      "/opt/conda/envs/team05/lib/python3.10/site-packages/Bio/PDB/PDBParser.py:388: PDBConstructionWarning: Ignoring unrecognized record 'TER' at line 15624\n",
      "  warnings.warn(\n",
      "/opt/conda/envs/team05/lib/python3.10/site-packages/Bio/PDB/PDBParser.py:388: PDBConstructionWarning: Ignoring unrecognized record 'TER' at line 17835\n",
      "  warnings.warn(\n",
      "/opt/conda/envs/team05/lib/python3.10/site-packages/Bio/PDB/PDBParser.py:388: PDBConstructionWarning: Ignoring unrecognized record 'TER' at line 20046\n",
      "  warnings.warn(\n",
      "/opt/conda/envs/team05/lib/python3.10/site-packages/Bio/PDB/PDBParser.py:388: PDBConstructionWarning: Ignoring unrecognized record 'TER' at line 22257\n",
      "  warnings.warn(\n",
      "/opt/conda/envs/team05/lib/python3.10/site-packages/Bio/PDB/PDBParser.py:388: PDBConstructionWarning: Ignoring unrecognized record 'TER' at line 24468\n",
      "  warnings.warn(\n",
      "/opt/conda/envs/team05/lib/python3.10/site-packages/Bio/PDB/PDBParser.py:388: PDBConstructionWarning: Ignoring unrecognized record 'TER' at line 26679\n",
      "  warnings.warn(\n",
      "/opt/conda/envs/team05/lib/python3.10/site-packages/Bio/PDB/PDBParser.py:388: PDBConstructionWarning: Ignoring unrecognized record 'END' at line 27380\n",
      "  warnings.warn(\n"
     ]
    },
    {
     "name": "stdout",
     "output_type": "stream",
     "text": [
      "[OK] saved: /workspace/datasets/PDBbind2016/refined/1v1j/1v1j_remove_HEATM_protein.pdb\n"
     ]
    },
    {
     "name": "stderr",
     "output_type": "stream",
     "text": [
      "/opt/conda/envs/team05/lib/python3.10/site-packages/Bio/PDB/PDBParser.py:388: PDBConstructionWarning: Ignoring unrecognized record 'TER' at line 5703\n",
      "  warnings.warn(\n",
      "/opt/conda/envs/team05/lib/python3.10/site-packages/Bio/PDB/PDBParser.py:388: PDBConstructionWarning: Ignoring unrecognized record 'TER' at line 11241\n",
      "  warnings.warn(\n",
      "/opt/conda/envs/team05/lib/python3.10/site-packages/Bio/PDB/PDBParser.py:388: PDBConstructionWarning: Ignoring unrecognized record 'TER' at line 16779\n",
      "  warnings.warn(\n",
      "/opt/conda/envs/team05/lib/python3.10/site-packages/Bio/PDB/PDBParser.py:388: PDBConstructionWarning: Ignoring unrecognized record 'TER' at line 22317\n",
      "  warnings.warn(\n",
      "/opt/conda/envs/team05/lib/python3.10/site-packages/Bio/PDB/PDBParser.py:388: PDBConstructionWarning: Ignoring unrecognized record 'TER' at line 27855\n",
      "  warnings.warn(\n",
      "/opt/conda/envs/team05/lib/python3.10/site-packages/Bio/PDB/PDBParser.py:388: PDBConstructionWarning: Ignoring unrecognized record 'TER' at line 33393\n",
      "  warnings.warn(\n",
      "/opt/conda/envs/team05/lib/python3.10/site-packages/Bio/PDB/PDBParser.py:388: PDBConstructionWarning: Ignoring unrecognized record 'END' at line 34408\n",
      "  warnings.warn(\n"
     ]
    },
    {
     "name": "stdout",
     "output_type": "stream",
     "text": [
      "[OK] saved: /workspace/datasets/PDBbind2016/refined/2rd6/2rd6_remove_HEATM_protein.pdb\n",
      "[OK] saved: /workspace/datasets/PDBbind2016/refined/1z4o/1z4o_remove_HEATM_protein.pdb\n",
      "[OK] saved: /workspace/datasets/PDBbind2016/refined/1ql7/1ql7_remove_HEATM_protein.pdb\n"
     ]
    },
    {
     "name": "stderr",
     "output_type": "stream",
     "text": [
      "/opt/conda/envs/team05/lib/python3.10/site-packages/Bio/PDB/PDBParser.py:388: PDBConstructionWarning: Ignoring unrecognized record 'TER' at line 3414\n",
      "  warnings.warn(\n",
      "/opt/conda/envs/team05/lib/python3.10/site-packages/Bio/PDB/PDBParser.py:388: PDBConstructionWarning: Ignoring unrecognized record 'TER' at line 3245\n",
      "  warnings.warn(\n",
      "/opt/conda/envs/team05/lib/python3.10/site-packages/Bio/PDB/PDBParser.py:388: PDBConstructionWarning: Ignoring unrecognized record 'TER' at line 3300\n",
      "  warnings.warn(\n",
      "/opt/conda/envs/team05/lib/python3.10/site-packages/Bio/PDB/PDBParser.py:388: PDBConstructionWarning: Ignoring unrecognized record 'TER' at line 6507\n",
      "  warnings.warn(\n",
      "/opt/conda/envs/team05/lib/python3.10/site-packages/Bio/PDB/PDBParser.py:388: PDBConstructionWarning: Ignoring unrecognized record 'TER' at line 9714\n",
      "  warnings.warn(\n",
      "/opt/conda/envs/team05/lib/python3.10/site-packages/Bio/PDB/PDBParser.py:388: PDBConstructionWarning: Ignoring unrecognized record 'TER' at line 12921\n",
      "  warnings.warn(\n",
      "/opt/conda/envs/team05/lib/python3.10/site-packages/Bio/PDB/PDBParser.py:388: PDBConstructionWarning: Ignoring unrecognized record 'TER' at line 16128\n",
      "  warnings.warn(\n"
     ]
    },
    {
     "name": "stdout",
     "output_type": "stream",
     "text": [
      "[OK] saved: /workspace/datasets/PDBbind2016/refined/2xyt/2xyt_remove_HEATM_protein.pdb\n",
      "[OK] saved: /workspace/datasets/PDBbind2016/refined/3zj6/3zj6_remove_HEATM_protein.pdb\n"
     ]
    },
    {
     "name": "stderr",
     "output_type": "stream",
     "text": [
      "/opt/conda/envs/team05/lib/python3.10/site-packages/Bio/PDB/PDBParser.py:388: PDBConstructionWarning: Ignoring unrecognized record 'TER' at line 4620\n",
      "  warnings.warn(\n",
      "/opt/conda/envs/team05/lib/python3.10/site-packages/Bio/PDB/PDBParser.py:388: PDBConstructionWarning: Ignoring unrecognized record 'END' at line 4796\n",
      "  warnings.warn(\n",
      "/opt/conda/envs/team05/lib/python3.10/site-packages/Bio/PDB/PDBParser.py:388: PDBConstructionWarning: Ignoring unrecognized record 'TER' at line 3689\n",
      "  warnings.warn(\n",
      "/opt/conda/envs/team05/lib/python3.10/site-packages/Bio/PDB/PDBParser.py:388: PDBConstructionWarning: Ignoring unrecognized record 'TER' at line 7267\n",
      "  warnings.warn(\n",
      "/opt/conda/envs/team05/lib/python3.10/site-packages/Bio/PDB/PDBParser.py:388: PDBConstructionWarning: Ignoring unrecognized record 'TER' at line 10845\n",
      "  warnings.warn(\n",
      "/opt/conda/envs/team05/lib/python3.10/site-packages/Bio/PDB/PDBParser.py:388: PDBConstructionWarning: Ignoring unrecognized record 'TER' at line 14423\n",
      "  warnings.warn(\n",
      "/opt/conda/envs/team05/lib/python3.10/site-packages/Bio/PDB/PDBParser.py:388: PDBConstructionWarning: Ignoring unrecognized record 'TER' at line 18001\n",
      "  warnings.warn(\n",
      "/opt/conda/envs/team05/lib/python3.10/site-packages/Bio/PDB/PDBParser.py:388: PDBConstructionWarning: Ignoring unrecognized record 'TER' at line 21579\n",
      "  warnings.warn(\n",
      "/opt/conda/envs/team05/lib/python3.10/site-packages/Bio/PDB/PDBParser.py:388: PDBConstructionWarning: Ignoring unrecognized record 'END' at line 21838\n",
      "  warnings.warn(\n"
     ]
    },
    {
     "name": "stdout",
     "output_type": "stream",
     "text": [
      "[OK] saved: /workspace/datasets/PDBbind2016/refined/1odj/1odj_remove_HEATM_protein.pdb\n"
     ]
    },
    {
     "name": "stderr",
     "output_type": "stream",
     "text": [
      "/opt/conda/envs/team05/lib/python3.10/site-packages/Bio/PDB/PDBParser.py:388: PDBConstructionWarning: Ignoring unrecognized record 'TER' at line 6220\n",
      "  warnings.warn(\n",
      "/opt/conda/envs/team05/lib/python3.10/site-packages/Bio/PDB/PDBParser.py:388: PDBConstructionWarning: Ignoring unrecognized record 'TER' at line 11418\n",
      "  warnings.warn(\n",
      "/opt/conda/envs/team05/lib/python3.10/site-packages/Bio/PDB/PDBParser.py:388: PDBConstructionWarning: Ignoring unrecognized record 'TER' at line 17523\n",
      "  warnings.warn(\n",
      "/opt/conda/envs/team05/lib/python3.10/site-packages/Bio/PDB/PDBParser.py:388: PDBConstructionWarning: Ignoring unrecognized record 'TER' at line 22721\n",
      "  warnings.warn(\n"
     ]
    },
    {
     "name": "stdout",
     "output_type": "stream",
     "text": [
      "[OK] saved: /workspace/datasets/PDBbind2016/refined/1ols/1ols_remove_HEATM_protein.pdb\n",
      "[OK] saved: /workspace/datasets/PDBbind2016/refined/2o0u/2o0u_remove_HEATM_protein.pdb\n"
     ]
    },
    {
     "name": "stderr",
     "output_type": "stream",
     "text": [
      "/opt/conda/envs/team05/lib/python3.10/site-packages/Bio/PDB/PDBParser.py:388: PDBConstructionWarning: Ignoring unrecognized record 'TER' at line 5463\n",
      "  warnings.warn(\n",
      "/opt/conda/envs/team05/lib/python3.10/site-packages/Bio/PDB/PDBParser.py:388: PDBConstructionWarning: Ignoring unrecognized record 'END' at line 5629\n",
      "  warnings.warn(\n",
      "/opt/conda/envs/team05/lib/python3.10/site-packages/Bio/PDB/PDBParser.py:388: PDBConstructionWarning: Ignoring unrecognized record 'TER' at line 3916\n",
      "  warnings.warn(\n"
     ]
    },
    {
     "name": "stdout",
     "output_type": "stream",
     "text": [
      "[OK] saved: /workspace/datasets/PDBbind2016/refined/3kmc/3kmc_remove_HEATM_protein.pdb\n"
     ]
    },
    {
     "name": "stderr",
     "output_type": "stream",
     "text": [
      "/opt/conda/envs/team05/lib/python3.10/site-packages/Bio/PDB/PDBParser.py:388: PDBConstructionWarning: Ignoring unrecognized record 'TER' at line 11011\n",
      "  warnings.warn(\n",
      "/opt/conda/envs/team05/lib/python3.10/site-packages/Bio/PDB/PDBParser.py:388: PDBConstructionWarning: Ignoring unrecognized record 'TER' at line 21911\n",
      "  warnings.warn(\n"
     ]
    },
    {
     "name": "stdout",
     "output_type": "stream",
     "text": [
      "[OK] saved: /workspace/datasets/PDBbind2016/refined/3iww/3iww_remove_HEATM_protein.pdb\n",
      "[OK] saved: /workspace/datasets/PDBbind2016/refined/2zjw/2zjw_remove_HEATM_protein.pdb\n",
      "[OK] saved: /workspace/datasets/PDBbind2016/refined/4qgd/4qgd_remove_HEATM_protein.pdb\n"
     ]
    },
    {
     "name": "stderr",
     "output_type": "stream",
     "text": [
      "/opt/conda/envs/team05/lib/python3.10/site-packages/Bio/PDB/PDBParser.py:388: PDBConstructionWarning: Ignoring unrecognized record 'TER' at line 5562\n",
      "  warnings.warn(\n",
      "/opt/conda/envs/team05/lib/python3.10/site-packages/Bio/PDB/PDBParser.py:388: PDBConstructionWarning: Ignoring unrecognized record 'END' at line 5812\n",
      "  warnings.warn(\n",
      "/opt/conda/envs/team05/lib/python3.10/site-packages/Bio/PDB/PDBParser.py:388: PDBConstructionWarning: Ignoring unrecognized record 'TER' at line 1182\n",
      "  warnings.warn(\n",
      "/opt/conda/envs/team05/lib/python3.10/site-packages/Bio/PDB/PDBParser.py:388: PDBConstructionWarning: Ignoring unrecognized record 'TER' at line 1583\n",
      "  warnings.warn(\n",
      "/opt/conda/envs/team05/lib/python3.10/site-packages/Bio/PDB/PDBParser.py:388: PDBConstructionWarning: Ignoring unrecognized record 'TER' at line 3147\n",
      "  warnings.warn(\n",
      "/opt/conda/envs/team05/lib/python3.10/site-packages/Bio/PDB/PDBParser.py:388: PDBConstructionWarning: Ignoring unrecognized record 'END' at line 3276\n",
      "  warnings.warn(\n"
     ]
    },
    {
     "name": "stdout",
     "output_type": "stream",
     "text": [
      "[OK] saved: /workspace/datasets/PDBbind2016/refined/4i8z/4i8z_remove_HEATM_protein.pdb\n",
      "[OK] saved: /workspace/datasets/PDBbind2016/refined/3q71/3q71_remove_HEATM_protein.pdb\n",
      "[OK] saved: /workspace/datasets/PDBbind2016/refined/3dsz/3dsz_remove_HEATM_protein.pdb\n"
     ]
    },
    {
     "name": "stderr",
     "output_type": "stream",
     "text": [
      "/opt/conda/envs/team05/lib/python3.10/site-packages/Bio/PDB/PDBParser.py:388: PDBConstructionWarning: Ignoring unrecognized record 'TER' at line 3168\n",
      "  warnings.warn(\n",
      "/opt/conda/envs/team05/lib/python3.10/site-packages/Bio/PDB/PDBParser.py:388: PDBConstructionWarning: Ignoring unrecognized record 'END' at line 3257\n",
      "  warnings.warn(\n",
      "/opt/conda/envs/team05/lib/python3.10/site-packages/Bio/PDB/PDBParser.py:388: PDBConstructionWarning: Ignoring unrecognized record 'TER' at line 2800\n",
      "  warnings.warn(\n",
      "/opt/conda/envs/team05/lib/python3.10/site-packages/Bio/PDB/PDBParser.py:388: PDBConstructionWarning: Ignoring unrecognized record 'TER' at line 1160\n",
      "  warnings.warn(\n",
      "/opt/conda/envs/team05/lib/python3.10/site-packages/Bio/PDB/PDBParser.py:388: PDBConstructionWarning: Ignoring unrecognized record 'TER' at line 2264\n",
      "  warnings.warn(\n",
      "/opt/conda/envs/team05/lib/python3.10/site-packages/Bio/PDB/PDBParser.py:388: PDBConstructionWarning: Ignoring unrecognized record 'TER' at line 3381\n",
      "  warnings.warn(\n",
      "/opt/conda/envs/team05/lib/python3.10/site-packages/Bio/PDB/PDBParser.py:388: PDBConstructionWarning: Ignoring unrecognized record 'TER' at line 4485\n",
      "  warnings.warn(\n",
      "/opt/conda/envs/team05/lib/python3.10/site-packages/Bio/PDB/PDBParser.py:388: PDBConstructionWarning: Ignoring unrecognized record 'END' at line 4929\n",
      "  warnings.warn(\n",
      "/opt/conda/envs/team05/lib/python3.10/site-packages/Bio/PDB/PDBParser.py:388: PDBConstructionWarning: Ignoring unrecognized record 'TER' at line 4155\n",
      "  warnings.warn(\n",
      "/opt/conda/envs/team05/lib/python3.10/site-packages/Bio/PDB/PDBParser.py:388: PDBConstructionWarning: Ignoring unrecognized record 'TER' at line 8263\n",
      "  warnings.warn(\n"
     ]
    },
    {
     "name": "stdout",
     "output_type": "stream",
     "text": [
      "[OK] saved: /workspace/datasets/PDBbind2016/refined/3wzn/3wzn_remove_HEATM_protein.pdb\n",
      "[OK] saved: /workspace/datasets/PDBbind2016/refined/1wvj/1wvj_remove_HEATM_protein.pdb\n",
      "[OK] saved: /workspace/datasets/PDBbind2016/refined/3ibi/3ibi_remove_HEATM_protein.pdb\n"
     ]
    },
    {
     "name": "stderr",
     "output_type": "stream",
     "text": [
      "/opt/conda/envs/team05/lib/python3.10/site-packages/Bio/PDB/PDBParser.py:388: PDBConstructionWarning: Ignoring unrecognized record 'TER' at line 4060\n",
      "  warnings.warn(\n",
      "/opt/conda/envs/team05/lib/python3.10/site-packages/Bio/PDB/PDBParser.py:388: PDBConstructionWarning: Ignoring unrecognized record 'TER' at line 4044\n",
      "  warnings.warn(\n"
     ]
    },
    {
     "name": "stdout",
     "output_type": "stream",
     "text": [
      "[OK] saved: /workspace/datasets/PDBbind2016/refined/3b4f/3b4f_remove_HEATM_protein.pdb\n",
      "[OK] saved: /workspace/datasets/PDBbind2016/refined/3own/3own_remove_HEATM_protein.pdb\n"
     ]
    },
    {
     "name": "stderr",
     "output_type": "stream",
     "text": [
      "/opt/conda/envs/team05/lib/python3.10/site-packages/Bio/PDB/PDBParser.py:388: PDBConstructionWarning: Ignoring unrecognized record 'TER' at line 5113\n",
      "  warnings.warn(\n",
      "/opt/conda/envs/team05/lib/python3.10/site-packages/Bio/PDB/PDBParser.py:388: PDBConstructionWarning: Ignoring unrecognized record 'TER' at line 3694\n",
      "  warnings.warn(\n",
      "/opt/conda/envs/team05/lib/python3.10/site-packages/Bio/PDB/PDBParser.py:388: PDBConstructionWarning: Ignoring unrecognized record 'TER' at line 4438\n",
      "  warnings.warn(\n"
     ]
    },
    {
     "name": "stdout",
     "output_type": "stream",
     "text": [
      "[OK] saved: /workspace/datasets/PDBbind2016/refined/3m37/3m37_remove_HEATM_protein.pdb\n",
      "[OK] saved: /workspace/datasets/PDBbind2016/refined/4k7i/4k7i_remove_HEATM_protein.pdb\n"
     ]
    },
    {
     "name": "stderr",
     "output_type": "stream",
     "text": [
      "/opt/conda/envs/team05/lib/python3.10/site-packages/Bio/PDB/PDBParser.py:388: PDBConstructionWarning: Ignoring unrecognized record 'TER' at line 1468\n",
      "  warnings.warn(\n",
      "/opt/conda/envs/team05/lib/python3.10/site-packages/Bio/PDB/PDBParser.py:388: PDBConstructionWarning: Ignoring unrecognized record 'END' at line 1612\n",
      "  warnings.warn(\n",
      "/opt/conda/envs/team05/lib/python3.10/site-packages/Bio/PDB/PDBParser.py:388: PDBConstructionWarning: Ignoring unrecognized record 'TER' at line 4158\n",
      "  warnings.warn(\n",
      "/opt/conda/envs/team05/lib/python3.10/site-packages/Bio/PDB/PDBParser.py:388: PDBConstructionWarning: Ignoring unrecognized record 'TER' at line 8218\n",
      "  warnings.warn(\n",
      "/opt/conda/envs/team05/lib/python3.10/site-packages/Bio/PDB/PDBParser.py:388: PDBConstructionWarning: Ignoring unrecognized record 'TER' at line 12293\n",
      "  warnings.warn(\n",
      "/opt/conda/envs/team05/lib/python3.10/site-packages/Bio/PDB/PDBParser.py:388: PDBConstructionWarning: Ignoring unrecognized record 'TER' at line 16353\n",
      "  warnings.warn(\n",
      "/opt/conda/envs/team05/lib/python3.10/site-packages/Bio/PDB/PDBParser.py:388: PDBConstructionWarning: Ignoring unrecognized record 'TER' at line 1999\n",
      "  warnings.warn(\n"
     ]
    },
    {
     "name": "stdout",
     "output_type": "stream",
     "text": [
      "[OK] saved: /workspace/datasets/PDBbind2016/refined/1jcx/1jcx_remove_HEATM_protein.pdb\n"
     ]
    },
    {
     "name": "stderr",
     "output_type": "stream",
     "text": [
      "/opt/conda/envs/team05/lib/python3.10/site-packages/Bio/PDB/PDBParser.py:388: PDBConstructionWarning: Ignoring unrecognized record 'TER' at line 3893\n",
      "  warnings.warn(\n",
      "/opt/conda/envs/team05/lib/python3.10/site-packages/Bio/PDB/PDBParser.py:388: PDBConstructionWarning: Ignoring unrecognized record 'TER' at line 5787\n",
      "  warnings.warn(\n",
      "/opt/conda/envs/team05/lib/python3.10/site-packages/Bio/PDB/PDBParser.py:388: PDBConstructionWarning: Ignoring unrecognized record 'TER' at line 7681\n",
      "  warnings.warn(\n",
      "/opt/conda/envs/team05/lib/python3.10/site-packages/Bio/PDB/PDBParser.py:388: PDBConstructionWarning: Ignoring unrecognized record 'TER' at line 9575\n",
      "  warnings.warn(\n",
      "/opt/conda/envs/team05/lib/python3.10/site-packages/Bio/PDB/PDBParser.py:388: PDBConstructionWarning: Ignoring unrecognized record 'TER' at line 11469\n",
      "  warnings.warn(\n"
     ]
    },
    {
     "name": "stdout",
     "output_type": "stream",
     "text": [
      "[OK] saved: /workspace/datasets/PDBbind2016/refined/4u0f/4u0f_remove_HEATM_protein.pdb\n"
     ]
    },
    {
     "name": "stderr",
     "output_type": "stream",
     "text": [
      "/opt/conda/envs/team05/lib/python3.10/site-packages/Bio/PDB/PDBParser.py:388: PDBConstructionWarning: Ignoring unrecognized record 'TER' at line 3988\n",
      "  warnings.warn(\n",
      "/opt/conda/envs/team05/lib/python3.10/site-packages/Bio/PDB/PDBParser.py:388: PDBConstructionWarning: Ignoring unrecognized record 'TER' at line 7819\n",
      "  warnings.warn(\n",
      "/opt/conda/envs/team05/lib/python3.10/site-packages/Bio/PDB/PDBParser.py:388: PDBConstructionWarning: Ignoring unrecognized record 'TER' at line 11633\n",
      "  warnings.warn(\n",
      "/opt/conda/envs/team05/lib/python3.10/site-packages/Bio/PDB/PDBParser.py:388: PDBConstructionWarning: Ignoring unrecognized record 'TER' at line 15464\n",
      "  warnings.warn(\n",
      "/opt/conda/envs/team05/lib/python3.10/site-packages/Bio/PDB/PDBParser.py:388: PDBConstructionWarning: Ignoring unrecognized record 'TER' at line 19319\n",
      "  warnings.warn(\n",
      "/opt/conda/envs/team05/lib/python3.10/site-packages/Bio/PDB/PDBParser.py:388: PDBConstructionWarning: Ignoring unrecognized record 'TER' at line 23160\n",
      "  warnings.warn(\n"
     ]
    },
    {
     "name": "stdout",
     "output_type": "stream",
     "text": [
      "[OK] saved: /workspace/datasets/PDBbind2016/refined/4b5w/4b5w_remove_HEATM_protein.pdb\n",
      "[OK] saved: /workspace/datasets/PDBbind2016/refined/4u5s/4u5s_remove_HEATM_protein.pdb\n"
     ]
    },
    {
     "name": "stderr",
     "output_type": "stream",
     "text": [
      "/opt/conda/envs/team05/lib/python3.10/site-packages/Bio/PDB/PDBParser.py:388: PDBConstructionWarning: Ignoring unrecognized record 'TER' at line 3970\n",
      "  warnings.warn(\n",
      "/opt/conda/envs/team05/lib/python3.10/site-packages/Bio/PDB/PDBParser.py:388: PDBConstructionWarning: Ignoring unrecognized record 'END' at line 4283\n",
      "  warnings.warn(\n",
      "/opt/conda/envs/team05/lib/python3.10/site-packages/Bio/PDB/PDBParser.py:388: PDBConstructionWarning: Ignoring unrecognized record 'TER' at line 3450\n",
      "  warnings.warn(\n",
      "/opt/conda/envs/team05/lib/python3.10/site-packages/Bio/PDB/PDBParser.py:388: PDBConstructionWarning: Ignoring unrecognized record 'END' at line 3566\n",
      "  warnings.warn(\n"
     ]
    },
    {
     "name": "stdout",
     "output_type": "stream",
     "text": [
      "[OK] saved: /workspace/datasets/PDBbind2016/refined/3k99/3k99_remove_HEATM_protein.pdb\n"
     ]
    },
    {
     "name": "stderr",
     "output_type": "stream",
     "text": [
      "/opt/conda/envs/team05/lib/python3.10/site-packages/Bio/PDB/PDBParser.py:388: PDBConstructionWarning: Ignoring unrecognized record 'TER' at line 6029\n",
      "  warnings.warn(\n",
      "/opt/conda/envs/team05/lib/python3.10/site-packages/Bio/PDB/PDBParser.py:388: PDBConstructionWarning: Ignoring unrecognized record 'TER' at line 11899\n",
      "  warnings.warn(\n",
      "/opt/conda/envs/team05/lib/python3.10/site-packages/Bio/PDB/PDBParser.py:388: PDBConstructionWarning: Ignoring unrecognized record 'TER' at line 17769\n",
      "  warnings.warn(\n",
      "/opt/conda/envs/team05/lib/python3.10/site-packages/Bio/PDB/PDBParser.py:388: PDBConstructionWarning: Ignoring unrecognized record 'TER' at line 23639\n",
      "  warnings.warn(\n"
     ]
    },
    {
     "name": "stdout",
     "output_type": "stream",
     "text": [
      "[OK] saved: /workspace/datasets/PDBbind2016/refined/4gzw/4gzw_remove_HEATM_protein.pdb\n",
      "[OK] saved: /workspace/datasets/PDBbind2016/refined/4ibf/4ibf_remove_HEATM_protein.pdb\n",
      "[OK] saved: /workspace/datasets/PDBbind2016/refined/456c/456c_remove_HEATM_protein.pdb\n"
     ]
    },
    {
     "name": "stderr",
     "output_type": "stream",
     "text": [
      "/opt/conda/envs/team05/lib/python3.10/site-packages/Bio/PDB/PDBParser.py:388: PDBConstructionWarning: Ignoring unrecognized record 'TER' at line 1178\n",
      "  warnings.warn(\n",
      "/opt/conda/envs/team05/lib/python3.10/site-packages/Bio/PDB/PDBParser.py:388: PDBConstructionWarning: Ignoring unrecognized record 'END' at line 1229\n",
      "  warnings.warn(\n",
      "/opt/conda/envs/team05/lib/python3.10/site-packages/Bio/PDB/PDBParser.py:388: PDBConstructionWarning: Ignoring unrecognized record 'TER' at line 2472\n",
      "  warnings.warn(\n",
      "/opt/conda/envs/team05/lib/python3.10/site-packages/Bio/PDB/PDBParser.py:388: PDBConstructionWarning: Ignoring unrecognized record 'TER' at line 4901\n",
      "  warnings.warn(\n",
      "/opt/conda/envs/team05/lib/python3.10/site-packages/Bio/PDB/PDBParser.py:388: PDBConstructionWarning: Ignoring unrecognized record 'TER' at line 2408\n",
      "  warnings.warn(\n"
     ]
    },
    {
     "name": "stdout",
     "output_type": "stream",
     "text": [
      "[OK] saved: /workspace/datasets/PDBbind2016/refined/1ws1/1ws1_remove_HEATM_protein.pdb\n"
     ]
    },
    {
     "name": "stderr",
     "output_type": "stream",
     "text": [
      "/opt/conda/envs/team05/lib/python3.10/site-packages/Bio/PDB/PDBParser.py:388: PDBConstructionWarning: Ignoring unrecognized record 'TER' at line 2013\n",
      "  warnings.warn(\n",
      "/opt/conda/envs/team05/lib/python3.10/site-packages/Bio/PDB/PDBParser.py:388: PDBConstructionWarning: Ignoring unrecognized record 'TER' at line 4313\n",
      "  warnings.warn(\n",
      "/opt/conda/envs/team05/lib/python3.10/site-packages/Bio/PDB/PDBParser.py:388: PDBConstructionWarning: Ignoring unrecognized record 'TER' at line 6218\n",
      "  warnings.warn(\n",
      "/opt/conda/envs/team05/lib/python3.10/site-packages/Bio/PDB/PDBParser.py:388: PDBConstructionWarning: Ignoring unrecognized record 'TER' at line 8123\n",
      "  warnings.warn(\n",
      "/opt/conda/envs/team05/lib/python3.10/site-packages/Bio/PDB/PDBParser.py:388: PDBConstructionWarning: Ignoring unrecognized record 'TER' at line 10418\n",
      "  warnings.warn(\n",
      "/opt/conda/envs/team05/lib/python3.10/site-packages/Bio/PDB/PDBParser.py:388: PDBConstructionWarning: Ignoring unrecognized record 'TER' at line 12718\n",
      "  warnings.warn(\n"
     ]
    },
    {
     "name": "stdout",
     "output_type": "stream",
     "text": [
      "[OK] saved: /workspace/datasets/PDBbind2016/refined/4whs/4whs_remove_HEATM_protein.pdb\n"
     ]
    },
    {
     "name": "stderr",
     "output_type": "stream",
     "text": [
      "/opt/conda/envs/team05/lib/python3.10/site-packages/Bio/PDB/PDBParser.py:388: PDBConstructionWarning: Ignoring unrecognized record 'TER' at line 5704\n",
      "  warnings.warn(\n",
      "/opt/conda/envs/team05/lib/python3.10/site-packages/Bio/PDB/PDBParser.py:388: PDBConstructionWarning: Ignoring unrecognized record 'TER' at line 1178\n",
      "  warnings.warn(\n",
      "/opt/conda/envs/team05/lib/python3.10/site-packages/Bio/PDB/PDBParser.py:388: PDBConstructionWarning: Ignoring unrecognized record 'END' at line 1291\n",
      "  warnings.warn(\n",
      "/opt/conda/envs/team05/lib/python3.10/site-packages/Bio/PDB/PDBParser.py:388: PDBConstructionWarning: Ignoring unrecognized record 'TER' at line 3358\n",
      "  warnings.warn(\n",
      "/opt/conda/envs/team05/lib/python3.10/site-packages/Bio/PDB/PDBParser.py:388: PDBConstructionWarning: Ignoring unrecognized record 'TER' at line 6628\n",
      "  warnings.warn(\n"
     ]
    },
    {
     "name": "stdout",
     "output_type": "stream",
     "text": [
      "[OK] saved: /workspace/datasets/PDBbind2016/refined/1s39/1s39_remove_HEATM_protein.pdb\n",
      "[OK] saved: /workspace/datasets/PDBbind2016/refined/4ibk/4ibk_remove_HEATM_protein.pdb\n"
     ]
    },
    {
     "name": "stderr",
     "output_type": "stream",
     "text": [
      "/opt/conda/envs/team05/lib/python3.10/site-packages/Bio/PDB/PDBParser.py:388: PDBConstructionWarning: Ignoring unrecognized record 'TER' at line 9898\n",
      "  warnings.warn(\n",
      "/opt/conda/envs/team05/lib/python3.10/site-packages/Bio/PDB/PDBParser.py:388: PDBConstructionWarning: Ignoring unrecognized record 'TER' at line 13168\n",
      "  warnings.warn(\n",
      "/opt/conda/envs/team05/lib/python3.10/site-packages/Bio/PDB/PDBParser.py:388: PDBConstructionWarning: Ignoring unrecognized record 'TER' at line 16438\n",
      "  warnings.warn(\n"
     ]
    },
    {
     "name": "stdout",
     "output_type": "stream",
     "text": [
      "[OK] saved: /workspace/datasets/PDBbind2016/refined/3kqr/3kqr_remove_HEATM_protein.pdb\n",
      "[OK] saved: /workspace/datasets/PDBbind2016/refined/4gah/4gah_remove_HEATM_protein.pdb\n"
     ]
    },
    {
     "name": "stderr",
     "output_type": "stream",
     "text": [
      "/opt/conda/envs/team05/lib/python3.10/site-packages/Bio/PDB/PDBParser.py:388: PDBConstructionWarning: Ignoring unrecognized record 'TER' at line 2739\n",
      "  warnings.warn(\n",
      "/opt/conda/envs/team05/lib/python3.10/site-packages/Bio/PDB/PDBParser.py:388: PDBConstructionWarning: Ignoring unrecognized record 'TER' at line 5833\n",
      "  warnings.warn(\n",
      "/opt/conda/envs/team05/lib/python3.10/site-packages/Bio/PDB/PDBParser.py:388: PDBConstructionWarning: Ignoring unrecognized record 'END' at line 6045\n",
      "  warnings.warn(\n",
      "/opt/conda/envs/team05/lib/python3.10/site-packages/Bio/PDB/PDBParser.py:388: PDBConstructionWarning: Ignoring unrecognized record 'TER' at line 4080\n",
      "  warnings.warn(\n",
      "/opt/conda/envs/team05/lib/python3.10/site-packages/Bio/PDB/PDBParser.py:388: PDBConstructionWarning: Ignoring unrecognized record 'TER' at line 8115\n",
      "  warnings.warn(\n",
      "/opt/conda/envs/team05/lib/python3.10/site-packages/Bio/PDB/PDBParser.py:388: PDBConstructionWarning: Ignoring unrecognized record 'TER' at line 3220\n",
      "  warnings.warn(\n"
     ]
    },
    {
     "name": "stdout",
     "output_type": "stream",
     "text": [
      "[OK] saved: /workspace/datasets/PDBbind2016/refined/2e7f/2e7f_remove_HEATM_protein.pdb\n"
     ]
    },
    {
     "name": "stderr",
     "output_type": "stream",
     "text": [
      "/opt/conda/envs/team05/lib/python3.10/site-packages/Bio/PDB/PDBParser.py:388: PDBConstructionWarning: Ignoring unrecognized record 'TER' at line 6320\n",
      "  warnings.warn(\n",
      "/opt/conda/envs/team05/lib/python3.10/site-packages/Bio/PDB/PDBParser.py:388: PDBConstructionWarning: Ignoring unrecognized record 'TER' at line 9406\n",
      "  warnings.warn(\n",
      "/opt/conda/envs/team05/lib/python3.10/site-packages/Bio/PDB/PDBParser.py:388: PDBConstructionWarning: Ignoring unrecognized record 'TER' at line 12479\n",
      "  warnings.warn(\n"
     ]
    },
    {
     "name": "stdout",
     "output_type": "stream",
     "text": [
      "[OK] saved: /workspace/datasets/PDBbind2016/refined/4umb/4umb_remove_HEATM_protein.pdb\n",
      "[OK] saved: /workspace/datasets/PDBbind2016/refined/3jzg/3jzg_remove_HEATM_protein.pdb\n"
     ]
    },
    {
     "name": "stderr",
     "output_type": "stream",
     "text": [
      "/opt/conda/envs/team05/lib/python3.10/site-packages/Bio/PDB/PDBParser.py:388: PDBConstructionWarning: Ignoring unrecognized record 'TER' at line 5741\n",
      "  warnings.warn(\n",
      "/opt/conda/envs/team05/lib/python3.10/site-packages/Bio/PDB/PDBParser.py:388: PDBConstructionWarning: Ignoring unrecognized record 'END' at line 6087\n",
      "  warnings.warn(\n",
      "/opt/conda/envs/team05/lib/python3.10/site-packages/Bio/PDB/PDBParser.py:388: PDBConstructionWarning: Ignoring unrecognized record 'TER' at line 1428\n",
      "  warnings.warn(\n",
      "/opt/conda/envs/team05/lib/python3.10/site-packages/Bio/PDB/PDBParser.py:388: PDBConstructionWarning: Ignoring unrecognized record 'TER' at line 2829\n",
      "  warnings.warn(\n",
      "/opt/conda/envs/team05/lib/python3.10/site-packages/Bio/PDB/PDBParser.py:388: PDBConstructionWarning: Ignoring unrecognized record 'END' at line 2994\n",
      "  warnings.warn(\n"
     ]
    },
    {
     "name": "stdout",
     "output_type": "stream",
     "text": [
      "[OK] saved: /workspace/datasets/PDBbind2016/refined/4cjr/4cjr_remove_HEATM_protein.pdb\n",
      "[OK] saved: /workspace/datasets/PDBbind2016/refined/1i9p/1i9p_remove_HEATM_protein.pdb\n"
     ]
    },
    {
     "name": "stderr",
     "output_type": "stream",
     "text": [
      "/opt/conda/envs/team05/lib/python3.10/site-packages/Bio/PDB/PDBParser.py:388: PDBConstructionWarning: Ignoring unrecognized record 'TER' at line 4078\n",
      "  warnings.warn(\n",
      "/opt/conda/envs/team05/lib/python3.10/site-packages/Bio/PDB/PDBParser.py:388: PDBConstructionWarning: Ignoring unrecognized record 'TER' at line 5452\n",
      "  warnings.warn(\n",
      "/opt/conda/envs/team05/lib/python3.10/site-packages/Bio/PDB/PDBParser.py:388: PDBConstructionWarning: Ignoring unrecognized record 'END' at line 5516\n",
      "  warnings.warn(\n"
     ]
    },
    {
     "name": "stdout",
     "output_type": "stream",
     "text": [
      "[OK] saved: /workspace/datasets/PDBbind2016/refined/3iw5/3iw5_remove_HEATM_protein.pdb\n"
     ]
    },
    {
     "name": "stderr",
     "output_type": "stream",
     "text": [
      "/opt/conda/envs/team05/lib/python3.10/site-packages/Bio/PDB/PDBParser.py:388: PDBConstructionWarning: Ignoring unrecognized record 'TER' at line 8275\n",
      "  warnings.warn(\n",
      "/opt/conda/envs/team05/lib/python3.10/site-packages/Bio/PDB/PDBParser.py:388: PDBConstructionWarning: Ignoring unrecognized record 'TER' at line 4822\n",
      "  warnings.warn(\n",
      "/opt/conda/envs/team05/lib/python3.10/site-packages/Bio/PDB/PDBParser.py:388: PDBConstructionWarning: Ignoring unrecognized record 'END' at line 5078\n",
      "  warnings.warn(\n"
     ]
    },
    {
     "name": "stdout",
     "output_type": "stream",
     "text": [
      "[OK] saved: /workspace/datasets/PDBbind2016/refined/1b3f/1b3f_remove_HEATM_protein.pdb\n",
      "[OK] saved: /workspace/datasets/PDBbind2016/refined/2xmy/2xmy_remove_HEATM_protein.pdb\n",
      "[OK] saved: /workspace/datasets/PDBbind2016/refined/1afk/1afk_remove_HEATM_protein.pdb\n"
     ]
    },
    {
     "name": "stderr",
     "output_type": "stream",
     "text": [
      "/opt/conda/envs/team05/lib/python3.10/site-packages/Bio/PDB/PDBParser.py:388: PDBConstructionWarning: Ignoring unrecognized record 'TER' at line 1870\n",
      "  warnings.warn(\n",
      "/opt/conda/envs/team05/lib/python3.10/site-packages/Bio/PDB/PDBParser.py:388: PDBConstructionWarning: Ignoring unrecognized record 'TER' at line 2402\n",
      "  warnings.warn(\n",
      "/opt/conda/envs/team05/lib/python3.10/site-packages/Bio/PDB/PDBParser.py:388: PDBConstructionWarning: Ignoring unrecognized record 'END' at line 2431\n",
      "  warnings.warn(\n"
     ]
    },
    {
     "name": "stdout",
     "output_type": "stream",
     "text": [
      "[OK] saved: /workspace/datasets/PDBbind2016/refined/4hw3/4hw3_remove_HEATM_protein.pdb\n"
     ]
    },
    {
     "name": "stderr",
     "output_type": "stream",
     "text": [
      "/opt/conda/envs/team05/lib/python3.10/site-packages/Bio/PDB/PDBParser.py:388: PDBConstructionWarning: Ignoring unrecognized record 'TER' at line 4359\n",
      "  warnings.warn(\n",
      "/opt/conda/envs/team05/lib/python3.10/site-packages/Bio/PDB/PDBParser.py:388: PDBConstructionWarning: Ignoring unrecognized record 'END' at line 4558\n",
      "  warnings.warn(\n",
      "/opt/conda/envs/team05/lib/python3.10/site-packages/Bio/PDB/PDBParser.py:388: PDBConstructionWarning: Ignoring unrecognized record 'TER' at line 1320\n",
      "  warnings.warn(\n",
      "/opt/conda/envs/team05/lib/python3.10/site-packages/Bio/PDB/PDBParser.py:388: PDBConstructionWarning: Ignoring unrecognized record 'TER' at line 3257\n",
      "  warnings.warn(\n"
     ]
    },
    {
     "name": "stdout",
     "output_type": "stream",
     "text": [
      "[OK] saved: /workspace/datasets/PDBbind2016/refined/1b8o/1b8o_remove_HEATM_protein.pdb\n",
      "[OK] saved: /workspace/datasets/PDBbind2016/refined/4j45/4j45_remove_HEATM_protein.pdb\n",
      "[OK] saved: /workspace/datasets/PDBbind2016/refined/4abf/4abf_remove_HEATM_protein.pdb\n"
     ]
    },
    {
     "name": "stderr",
     "output_type": "stream",
     "text": [
      "/opt/conda/envs/team05/lib/python3.10/site-packages/Bio/PDB/PDBParser.py:388: PDBConstructionWarning: Ignoring unrecognized record 'TER' at line 4661\n",
      "  warnings.warn(\n",
      "/opt/conda/envs/team05/lib/python3.10/site-packages/Bio/PDB/PDBParser.py:388: PDBConstructionWarning: Ignoring unrecognized record 'TER' at line 3363\n",
      "  warnings.warn(\n",
      "/opt/conda/envs/team05/lib/python3.10/site-packages/Bio/PDB/PDBParser.py:388: PDBConstructionWarning: Ignoring unrecognized record 'END' at line 3670\n",
      "  warnings.warn(\n"
     ]
    },
    {
     "name": "stdout",
     "output_type": "stream",
     "text": [
      "[OK] saved: /workspace/datasets/PDBbind2016/refined/3ga5/3ga5_remove_HEATM_protein.pdb\n",
      "[OK] saved: /workspace/datasets/PDBbind2016/refined/3vhd/3vhd_remove_HEATM_protein.pdb\n"
     ]
    },
    {
     "name": "stderr",
     "output_type": "stream",
     "text": [
      "/opt/conda/envs/team05/lib/python3.10/site-packages/Bio/PDB/PDBParser.py:388: PDBConstructionWarning: Ignoring unrecognized record 'TER' at line 1424\n",
      "  warnings.warn(\n",
      "/opt/conda/envs/team05/lib/python3.10/site-packages/Bio/PDB/PDBParser.py:388: PDBConstructionWarning: Ignoring unrecognized record 'TER' at line 2831\n",
      "  warnings.warn(\n",
      "/opt/conda/envs/team05/lib/python3.10/site-packages/Bio/PDB/PDBParser.py:388: PDBConstructionWarning: Ignoring unrecognized record 'TER' at line 4350\n",
      "  warnings.warn(\n",
      "/opt/conda/envs/team05/lib/python3.10/site-packages/Bio/PDB/PDBParser.py:388: PDBConstructionWarning: Ignoring unrecognized record 'END' at line 4554\n",
      "  warnings.warn(\n"
     ]
    },
    {
     "name": "stdout",
     "output_type": "stream",
     "text": [
      "[OK] saved: /workspace/datasets/PDBbind2016/refined/3cr5/3cr5_remove_HEATM_protein.pdb\n",
      "[OK] saved: /workspace/datasets/PDBbind2016/refined/3eqr/3eqr_remove_HEATM_protein.pdb\n"
     ]
    },
    {
     "name": "stderr",
     "output_type": "stream",
     "text": [
      "/opt/conda/envs/team05/lib/python3.10/site-packages/Bio/PDB/PDBParser.py:388: PDBConstructionWarning: Ignoring unrecognized record 'TER' at line 3571\n",
      "  warnings.warn(\n",
      "/opt/conda/envs/team05/lib/python3.10/site-packages/Bio/PDB/PDBParser.py:388: PDBConstructionWarning: Ignoring unrecognized record 'TER' at line 5787\n",
      "  warnings.warn(\n",
      "/opt/conda/envs/team05/lib/python3.10/site-packages/Bio/PDB/PDBParser.py:388: PDBConstructionWarning: Ignoring unrecognized record 'END' at line 6146\n",
      "  warnings.warn(\n"
     ]
    },
    {
     "name": "stdout",
     "output_type": "stream",
     "text": [
      "[OK] saved: /workspace/datasets/PDBbind2016/refined/3ouj/3ouj_remove_HEATM_protein.pdb\n",
      "[OK] saved: /workspace/datasets/PDBbind2016/refined/2qrk/2qrk_remove_HEATM_protein.pdb\n"
     ]
    },
    {
     "name": "stderr",
     "output_type": "stream",
     "text": [
      "/opt/conda/envs/team05/lib/python3.10/site-packages/Bio/PDB/PDBParser.py:388: PDBConstructionWarning: Ignoring unrecognized record 'TER' at line 8275\n",
      "  warnings.warn(\n"
     ]
    },
    {
     "name": "stdout",
     "output_type": "stream",
     "text": [
      "[OK] saved: /workspace/datasets/PDBbind2016/refined/1b1h/1b1h_remove_HEATM_protein.pdb\n",
      "[OK] saved: /workspace/datasets/PDBbind2016/refined/1ocq/1ocq_remove_HEATM_protein.pdb\n"
     ]
    },
    {
     "name": "stderr",
     "output_type": "stream",
     "text": [
      "/opt/conda/envs/team05/lib/python3.10/site-packages/Bio/PDB/PDBParser.py:388: PDBConstructionWarning: Ignoring unrecognized record 'TER' at line 4590\n",
      "  warnings.warn(\n",
      "/opt/conda/envs/team05/lib/python3.10/site-packages/Bio/PDB/PDBParser.py:388: PDBConstructionWarning: Ignoring unrecognized record 'END' at line 5013\n",
      "  warnings.warn(\n",
      "/opt/conda/envs/team05/lib/python3.10/site-packages/Bio/PDB/PDBParser.py:388: PDBConstructionWarning: Ignoring unrecognized record 'TER' at line 3824\n",
      "  warnings.warn(\n",
      "/opt/conda/envs/team05/lib/python3.10/site-packages/Bio/PDB/PDBParser.py:388: PDBConstructionWarning: Ignoring unrecognized record 'TER' at line 7529\n",
      "  warnings.warn(\n",
      "/opt/conda/envs/team05/lib/python3.10/site-packages/Bio/PDB/PDBParser.py:388: PDBConstructionWarning: Ignoring unrecognized record 'END' at line 7970\n",
      "  warnings.warn(\n"
     ]
    },
    {
     "name": "stdout",
     "output_type": "stream",
     "text": [
      "[OK] saved: /workspace/datasets/PDBbind2016/refined/2qtt/2qtt_remove_HEATM_protein.pdb\n"
     ]
    },
    {
     "name": "stderr",
     "output_type": "stream",
     "text": [
      "/opt/conda/envs/team05/lib/python3.10/site-packages/Bio/PDB/PDBParser.py:388: PDBConstructionWarning: Ignoring unrecognized record 'TER' at line 5740\n",
      "  warnings.warn(\n",
      "/opt/conda/envs/team05/lib/python3.10/site-packages/Bio/PDB/PDBParser.py:388: PDBConstructionWarning: Ignoring unrecognized record 'TER' at line 998\n",
      "  warnings.warn(\n",
      "/opt/conda/envs/team05/lib/python3.10/site-packages/Bio/PDB/PDBParser.py:388: PDBConstructionWarning: Ignoring unrecognized record 'TER' at line 1797\n",
      "  warnings.warn(\n",
      "/opt/conda/envs/team05/lib/python3.10/site-packages/Bio/PDB/PDBParser.py:388: PDBConstructionWarning: Ignoring unrecognized record 'TER' at line 3104\n",
      "  warnings.warn(\n"
     ]
    },
    {
     "name": "stdout",
     "output_type": "stream",
     "text": [
      "[OK] saved: /workspace/datasets/PDBbind2016/refined/1q65/1q65_remove_HEATM_protein.pdb\n",
      "[OK] saved: /workspace/datasets/PDBbind2016/refined/4w9f/4w9f_remove_HEATM_protein.pdb\n"
     ]
    },
    {
     "name": "stderr",
     "output_type": "stream",
     "text": [
      "/opt/conda/envs/team05/lib/python3.10/site-packages/Bio/PDB/PDBParser.py:388: PDBConstructionWarning: Ignoring unrecognized record 'TER' at line 4600\n",
      "  warnings.warn(\n",
      "/opt/conda/envs/team05/lib/python3.10/site-packages/Bio/PDB/PDBParser.py:388: PDBConstructionWarning: Ignoring unrecognized record 'TER' at line 2548\n",
      "  warnings.warn(\n",
      "/opt/conda/envs/team05/lib/python3.10/site-packages/Bio/PDB/PDBParser.py:388: PDBConstructionWarning: Ignoring unrecognized record 'END' at line 2717\n",
      "  warnings.warn(\n"
     ]
    },
    {
     "name": "stdout",
     "output_type": "stream",
     "text": [
      "[OK] saved: /workspace/datasets/PDBbind2016/refined/1h5v/1h5v_remove_HEATM_protein.pdb\n",
      "[OK] saved: /workspace/datasets/PDBbind2016/refined/1ex8/1ex8_remove_HEATM_protein.pdb\n"
     ]
    },
    {
     "name": "stderr",
     "output_type": "stream",
     "text": [
      "/opt/conda/envs/team05/lib/python3.10/site-packages/Bio/PDB/PDBParser.py:388: PDBConstructionWarning: Ignoring unrecognized record 'TER' at line 5377\n",
      "  warnings.warn(\n",
      "/opt/conda/envs/team05/lib/python3.10/site-packages/Bio/PDB/PDBParser.py:388: PDBConstructionWarning: Ignoring unrecognized record 'END' at line 5536\n",
      "  warnings.warn(\n",
      "/opt/conda/envs/team05/lib/python3.10/site-packages/Bio/PDB/PDBParser.py:388: PDBConstructionWarning: Ignoring unrecognized record 'TER' at line 3863\n",
      "  warnings.warn(\n",
      "/opt/conda/envs/team05/lib/python3.10/site-packages/Bio/PDB/PDBParser.py:388: PDBConstructionWarning: Ignoring unrecognized record 'END' at line 4101\n",
      "  warnings.warn(\n"
     ]
    },
    {
     "name": "stdout",
     "output_type": "stream",
     "text": [
      "[OK] saved: /workspace/datasets/PDBbind2016/refined/3gcs/3gcs_remove_HEATM_protein.pdb\n",
      "[OK] saved: /workspace/datasets/PDBbind2016/refined/4emr/4emr_remove_HEATM_protein.pdb\n",
      "[OK] saved: /workspace/datasets/PDBbind2016/refined/3ip8/3ip8_remove_HEATM_protein.pdb\n"
     ]
    },
    {
     "name": "stderr",
     "output_type": "stream",
     "text": [
      "/opt/conda/envs/team05/lib/python3.10/site-packages/Bio/PDB/PDBParser.py:388: PDBConstructionWarning: Ignoring unrecognized record 'TER' at line 3397\n",
      "  warnings.warn(\n",
      "/opt/conda/envs/team05/lib/python3.10/site-packages/Bio/PDB/PDBParser.py:388: PDBConstructionWarning: Ignoring unrecognized record 'END' at line 3691\n",
      "  warnings.warn(\n",
      "/opt/conda/envs/team05/lib/python3.10/site-packages/Bio/PDB/PDBParser.py:388: PDBConstructionWarning: Ignoring unrecognized record 'TER' at line 5536\n",
      "  warnings.warn(\n",
      "/opt/conda/envs/team05/lib/python3.10/site-packages/Bio/PDB/PDBParser.py:388: PDBConstructionWarning: Ignoring unrecognized record 'END' at line 5725\n",
      "  warnings.warn(\n",
      "/opt/conda/envs/team05/lib/python3.10/site-packages/Bio/PDB/PDBParser.py:388: PDBConstructionWarning: Ignoring unrecognized record 'TER' at line 3291\n",
      "  warnings.warn(\n",
      "/opt/conda/envs/team05/lib/python3.10/site-packages/Bio/PDB/PDBParser.py:388: PDBConstructionWarning: Ignoring unrecognized record 'TER' at line 1657\n",
      "  warnings.warn(\n"
     ]
    },
    {
     "name": "stdout",
     "output_type": "stream",
     "text": [
      "[OK] saved: /workspace/datasets/PDBbind2016/refined/2ojg/2ojg_remove_HEATM_protein.pdb\n",
      "[OK] saved: /workspace/datasets/PDBbind2016/refined/1j14/1j14_remove_HEATM_protein.pdb\n",
      "[OK] saved: /workspace/datasets/PDBbind2016/refined/1n8v/1n8v_remove_HEATM_protein.pdb\n"
     ]
    },
    {
     "name": "stderr",
     "output_type": "stream",
     "text": [
      "/opt/conda/envs/team05/lib/python3.10/site-packages/Bio/PDB/PDBParser.py:388: PDBConstructionWarning: Ignoring unrecognized record 'TER' at line 3605\n",
      "  warnings.warn(\n",
      "/opt/conda/envs/team05/lib/python3.10/site-packages/Bio/PDB/PDBParser.py:388: PDBConstructionWarning: Ignoring unrecognized record 'TER' at line 4765\n",
      "  warnings.warn(\n",
      "/opt/conda/envs/team05/lib/python3.10/site-packages/Bio/PDB/PDBParser.py:388: PDBConstructionWarning: Ignoring unrecognized record 'END' at line 4924\n",
      "  warnings.warn(\n"
     ]
    },
    {
     "name": "stdout",
     "output_type": "stream",
     "text": [
      "[OK] saved: /workspace/datasets/PDBbind2016/refined/1ela/1ela_remove_HEATM_protein.pdb\n",
      "[OK] saved: /workspace/datasets/PDBbind2016/refined/3tzm/3tzm_remove_HEATM_protein.pdb\n"
     ]
    },
    {
     "name": "stderr",
     "output_type": "stream",
     "text": [
      "/opt/conda/envs/team05/lib/python3.10/site-packages/Bio/PDB/PDBParser.py:388: PDBConstructionWarning: Ignoring unrecognized record 'TER' at line 5634\n",
      "  warnings.warn(\n",
      "/opt/conda/envs/team05/lib/python3.10/site-packages/Bio/PDB/PDBParser.py:388: PDBConstructionWarning: Ignoring unrecognized record 'TER' at line 11153\n",
      "  warnings.warn(\n",
      "/opt/conda/envs/team05/lib/python3.10/site-packages/Bio/PDB/PDBParser.py:388: PDBConstructionWarning: Ignoring unrecognized record 'TER' at line 16672\n",
      "  warnings.warn(\n",
      "/opt/conda/envs/team05/lib/python3.10/site-packages/Bio/PDB/PDBParser.py:388: PDBConstructionWarning: Ignoring unrecognized record 'TER' at line 22191\n",
      "  warnings.warn(\n",
      "/opt/conda/envs/team05/lib/python3.10/site-packages/Bio/PDB/PDBParser.py:388: PDBConstructionWarning: Ignoring unrecognized record 'END' at line 25447\n",
      "  warnings.warn(\n"
     ]
    },
    {
     "name": "stdout",
     "output_type": "stream",
     "text": [
      "[OK] saved: /workspace/datasets/PDBbind2016/refined/1ado/1ado_remove_HEATM_protein.pdb\n",
      "[OK] saved: /workspace/datasets/PDBbind2016/refined/4m8h/4m8h_remove_HEATM_protein.pdb\n"
     ]
    },
    {
     "name": "stderr",
     "output_type": "stream",
     "text": [
      "/opt/conda/envs/team05/lib/python3.10/site-packages/Bio/PDB/PDBParser.py:388: PDBConstructionWarning: Ignoring unrecognized record 'TER' at line 2056\n",
      "  warnings.warn(\n",
      "/opt/conda/envs/team05/lib/python3.10/site-packages/Bio/PDB/PDBParser.py:388: PDBConstructionWarning: Ignoring unrecognized record 'END' at line 2186\n",
      "  warnings.warn(\n",
      "/opt/conda/envs/team05/lib/python3.10/site-packages/Bio/PDB/PDBParser.py:388: PDBConstructionWarning: Ignoring unrecognized record 'TER' at line 4076\n",
      "  warnings.warn(\n",
      "/opt/conda/envs/team05/lib/python3.10/site-packages/Bio/PDB/PDBParser.py:388: PDBConstructionWarning: Ignoring unrecognized record 'TER' at line 8107\n",
      "  warnings.warn(\n"
     ]
    },
    {
     "name": "stdout",
     "output_type": "stream",
     "text": [
      "[OK] saved: /workspace/datasets/PDBbind2016/refined/2ogy/2ogy_remove_HEATM_protein.pdb\n",
      "[OK] saved: /workspace/datasets/PDBbind2016/refined/4cfl/4cfl_remove_HEATM_protein.pdb\n",
      "[OK] saved: /workspace/datasets/PDBbind2016/refined/4k55/4k55_remove_HEATM_protein.pdb\n"
     ]
    },
    {
     "name": "stderr",
     "output_type": "stream",
     "text": [
      "/opt/conda/envs/team05/lib/python3.10/site-packages/Bio/PDB/PDBParser.py:388: PDBConstructionWarning: Ignoring unrecognized record 'TER' at line 1306\n",
      "  warnings.warn(\n",
      "/opt/conda/envs/team05/lib/python3.10/site-packages/Bio/PDB/PDBParser.py:388: PDBConstructionWarning: Ignoring unrecognized record 'END' at line 1596\n",
      "  warnings.warn(\n",
      "/opt/conda/envs/team05/lib/python3.10/site-packages/Bio/PDB/PDBParser.py:388: PDBConstructionWarning: Ignoring unrecognized record 'TER' at line 1828\n",
      "  warnings.warn(\n",
      "/opt/conda/envs/team05/lib/python3.10/site-packages/Bio/PDB/PDBParser.py:388: PDBConstructionWarning: Ignoring unrecognized record 'TER' at line 4149\n",
      "  warnings.warn(\n",
      "/opt/conda/envs/team05/lib/python3.10/site-packages/Bio/PDB/PDBParser.py:388: PDBConstructionWarning: Ignoring unrecognized record 'TER' at line 8215\n",
      "  warnings.warn(\n",
      "/opt/conda/envs/team05/lib/python3.10/site-packages/Bio/PDB/PDBParser.py:388: PDBConstructionWarning: Ignoring unrecognized record 'TER' at line 12281\n",
      "  warnings.warn(\n",
      "/opt/conda/envs/team05/lib/python3.10/site-packages/Bio/PDB/PDBParser.py:388: PDBConstructionWarning: Ignoring unrecognized record 'TER' at line 16347\n",
      "  warnings.warn(\n",
      "/opt/conda/envs/team05/lib/python3.10/site-packages/Bio/PDB/PDBParser.py:388: PDBConstructionWarning: Ignoring unrecognized record 'END' at line 16718\n",
      "  warnings.warn(\n",
      "/opt/conda/envs/team05/lib/python3.10/site-packages/Bio/PDB/PDBParser.py:388: PDBConstructionWarning: Ignoring unrecognized record 'TER' at line 2623\n",
      "  warnings.warn(\n"
     ]
    },
    {
     "name": "stdout",
     "output_type": "stream",
     "text": [
      "[OK] saved: /workspace/datasets/PDBbind2016/refined/4dy6/4dy6_remove_HEATM_protein.pdb\n"
     ]
    },
    {
     "name": "stderr",
     "output_type": "stream",
     "text": [
      "/opt/conda/envs/team05/lib/python3.10/site-packages/Bio/PDB/PDBParser.py:388: PDBConstructionWarning: Ignoring unrecognized record 'TER' at line 5174\n",
      "  warnings.warn(\n",
      "/opt/conda/envs/team05/lib/python3.10/site-packages/Bio/PDB/PDBParser.py:388: PDBConstructionWarning: Ignoring unrecognized record 'TER' at line 7709\n",
      "  warnings.warn(\n",
      "/opt/conda/envs/team05/lib/python3.10/site-packages/Bio/PDB/PDBParser.py:388: PDBConstructionWarning: Ignoring unrecognized record 'TER' at line 10260\n",
      "  warnings.warn(\n",
      "/opt/conda/envs/team05/lib/python3.10/site-packages/Bio/PDB/PDBParser.py:388: PDBConstructionWarning: Ignoring unrecognized record 'END' at line 10577\n",
      "  warnings.warn(\n",
      "/opt/conda/envs/team05/lib/python3.10/site-packages/Bio/PDB/PDBParser.py:388: PDBConstructionWarning: Ignoring unrecognized record 'TER' at line 1296\n",
      "  warnings.warn(\n",
      "/opt/conda/envs/team05/lib/python3.10/site-packages/Bio/PDB/PDBParser.py:388: PDBConstructionWarning: Ignoring unrecognized record 'END' at line 1462\n",
      "  warnings.warn(\n",
      "/opt/conda/envs/team05/lib/python3.10/site-packages/Bio/PDB/PDBParser.py:388: PDBConstructionWarning: Ignoring unrecognized record 'TER' at line 478\n",
      "  warnings.warn(\n"
     ]
    },
    {
     "name": "stdout",
     "output_type": "stream",
     "text": [
      "[OK] saved: /workspace/datasets/PDBbind2016/refined/2r0h/2r0h_remove_HEATM_protein.pdb\n",
      "[OK] saved: /workspace/datasets/PDBbind2016/refined/4tkh/4tkh_remove_HEATM_protein.pdb\n"
     ]
    },
    {
     "name": "stderr",
     "output_type": "stream",
     "text": [
      "/opt/conda/envs/team05/lib/python3.10/site-packages/Bio/PDB/PDBParser.py:388: PDBConstructionWarning: Ignoring unrecognized record 'TER' at line 4483\n",
      "  warnings.warn(\n"
     ]
    },
    {
     "name": "stdout",
     "output_type": "stream",
     "text": [
      "[OK] saved: /workspace/datasets/PDBbind2016/refined/2zgx/2zgx_remove_HEATM_protein.pdb\n"
     ]
    },
    {
     "name": "stderr",
     "output_type": "stream",
     "text": [
      "/opt/conda/envs/team05/lib/python3.10/site-packages/Bio/PDB/PDBParser.py:388: PDBConstructionWarning: Ignoring unrecognized record 'TER' at line 13547\n",
      "  warnings.warn(\n",
      "/opt/conda/envs/team05/lib/python3.10/site-packages/Bio/PDB/PDBParser.py:388: PDBConstructionWarning: Ignoring unrecognized record 'TER' at line 2297\n",
      "  warnings.warn(\n",
      "/opt/conda/envs/team05/lib/python3.10/site-packages/Bio/PDB/PDBParser.py:388: PDBConstructionWarning: Ignoring unrecognized record 'TER' at line 4459\n",
      "  warnings.warn(\n"
     ]
    },
    {
     "name": "stdout",
     "output_type": "stream",
     "text": [
      "[OK] saved: /workspace/datasets/PDBbind2016/refined/3l4v/3l4v_remove_HEATM_protein.pdb\n"
     ]
    },
    {
     "name": "stderr",
     "output_type": "stream",
     "text": [
      "/opt/conda/envs/team05/lib/python3.10/site-packages/Bio/PDB/PDBParser.py:388: PDBConstructionWarning: Ignoring unrecognized record 'TER' at line 6621\n",
      "  warnings.warn(\n",
      "/opt/conda/envs/team05/lib/python3.10/site-packages/Bio/PDB/PDBParser.py:388: PDBConstructionWarning: Ignoring unrecognized record 'TER' at line 8783\n",
      "  warnings.warn(\n",
      "/opt/conda/envs/team05/lib/python3.10/site-packages/Bio/PDB/PDBParser.py:388: PDBConstructionWarning: Ignoring unrecognized record 'TER' at line 10945\n",
      "  warnings.warn(\n",
      "/opt/conda/envs/team05/lib/python3.10/site-packages/Bio/PDB/PDBParser.py:388: PDBConstructionWarning: Ignoring unrecognized record 'TER' at line 13107\n",
      "  warnings.warn(\n",
      "/opt/conda/envs/team05/lib/python3.10/site-packages/Bio/PDB/PDBParser.py:388: PDBConstructionWarning: Ignoring unrecognized record 'TER' at line 15269\n",
      "  warnings.warn(\n",
      "/opt/conda/envs/team05/lib/python3.10/site-packages/Bio/PDB/PDBParser.py:388: PDBConstructionWarning: Ignoring unrecognized record 'TER' at line 17431\n",
      "  warnings.warn(\n",
      "/opt/conda/envs/team05/lib/python3.10/site-packages/Bio/PDB/PDBParser.py:388: PDBConstructionWarning: Ignoring unrecognized record 'TER' at line 19593\n",
      "  warnings.warn(\n",
      "/opt/conda/envs/team05/lib/python3.10/site-packages/Bio/PDB/PDBParser.py:388: PDBConstructionWarning: Ignoring unrecognized record 'TER' at line 21755\n",
      "  warnings.warn(\n",
      "/opt/conda/envs/team05/lib/python3.10/site-packages/Bio/PDB/PDBParser.py:388: PDBConstructionWarning: Ignoring unrecognized record 'TER' at line 23917\n",
      "  warnings.warn(\n",
      "/opt/conda/envs/team05/lib/python3.10/site-packages/Bio/PDB/PDBParser.py:388: PDBConstructionWarning: Ignoring unrecognized record 'TER' at line 26079\n",
      "  warnings.warn(\n",
      "/opt/conda/envs/team05/lib/python3.10/site-packages/Bio/PDB/PDBParser.py:388: PDBConstructionWarning: Ignoring unrecognized record 'END' at line 27406\n",
      "  warnings.warn(\n"
     ]
    },
    {
     "name": "stdout",
     "output_type": "stream",
     "text": [
      "[OK] saved: /workspace/datasets/PDBbind2016/refined/4b6o/4b6o_remove_HEATM_protein.pdb\n",
      "[OK] saved: /workspace/datasets/PDBbind2016/refined/1ajx/1ajx_remove_HEATM_protein.pdb\n"
     ]
    },
    {
     "name": "stderr",
     "output_type": "stream",
     "text": [
      "/opt/conda/envs/team05/lib/python3.10/site-packages/Bio/PDB/PDBParser.py:388: PDBConstructionWarning: Ignoring unrecognized record 'TER' at line 1581\n",
      "  warnings.warn(\n",
      "/opt/conda/envs/team05/lib/python3.10/site-packages/Bio/PDB/PDBParser.py:388: PDBConstructionWarning: Ignoring unrecognized record 'TER' at line 3143\n",
      "  warnings.warn(\n",
      "/opt/conda/envs/team05/lib/python3.10/site-packages/Bio/PDB/PDBParser.py:388: PDBConstructionWarning: Ignoring unrecognized record 'END' at line 3255\n",
      "  warnings.warn(\n",
      "/opt/conda/envs/team05/lib/python3.10/site-packages/Bio/PDB/PDBParser.py:388: PDBConstructionWarning: Ignoring unrecognized record 'TER' at line 4083\n",
      "  warnings.warn(\n"
     ]
    },
    {
     "name": "stdout",
     "output_type": "stream",
     "text": [
      "[OK] saved: /workspace/datasets/PDBbind2016/refined/3sbi/3sbi_remove_HEATM_protein.pdb\n"
     ]
    },
    {
     "name": "stderr",
     "output_type": "stream",
     "text": [
      "/opt/conda/envs/team05/lib/python3.10/site-packages/Bio/PDB/PDBParser.py:388: PDBConstructionWarning: Ignoring unrecognized record 'TER' at line 6508\n",
      "  warnings.warn(\n",
      "/opt/conda/envs/team05/lib/python3.10/site-packages/Bio/PDB/PDBParser.py:388: PDBConstructionWarning: Ignoring unrecognized record 'END' at line 7077\n",
      "  warnings.warn(\n"
     ]
    },
    {
     "name": "stdout",
     "output_type": "stream",
     "text": [
      "[OK] saved: /workspace/datasets/PDBbind2016/refined/1x8r/1x8r_remove_HEATM_protein.pdb\n"
     ]
    },
    {
     "name": "stderr",
     "output_type": "stream",
     "text": [
      "/opt/conda/envs/team05/lib/python3.10/site-packages/Bio/PDB/PDBParser.py:388: PDBConstructionWarning: Ignoring unrecognized record 'TER' at line 8275\n",
      "  warnings.warn(\n"
     ]
    },
    {
     "name": "stdout",
     "output_type": "stream",
     "text": [
      "[OK] saved: /workspace/datasets/PDBbind2016/refined/1qkb/1qkb_remove_HEATM_protein.pdb\n",
      "[OK] saved: /workspace/datasets/PDBbind2016/refined/3oaf/3oaf_remove_HEATM_protein.pdb\n"
     ]
    },
    {
     "name": "stderr",
     "output_type": "stream",
     "text": [
      "/opt/conda/envs/team05/lib/python3.10/site-packages/Bio/PDB/PDBParser.py:388: PDBConstructionWarning: Ignoring unrecognized record 'TER' at line 3029\n",
      "  warnings.warn(\n",
      "/opt/conda/envs/team05/lib/python3.10/site-packages/Bio/PDB/PDBParser.py:388: PDBConstructionWarning: Ignoring unrecognized record 'END' at line 3127\n",
      "  warnings.warn(\n",
      "/opt/conda/envs/team05/lib/python3.10/site-packages/Bio/PDB/PDBParser.py:388: PDBConstructionWarning: Ignoring unrecognized record 'TER' at line 3928\n",
      "  warnings.warn(\n",
      "/opt/conda/envs/team05/lib/python3.10/site-packages/Bio/PDB/PDBParser.py:388: PDBConstructionWarning: Ignoring unrecognized record 'TER' at line 2500\n",
      "  warnings.warn(\n"
     ]
    },
    {
     "name": "stdout",
     "output_type": "stream",
     "text": [
      "[OK] saved: /workspace/datasets/PDBbind2016/refined/4zl4/4zl4_remove_HEATM_protein.pdb\n",
      "[OK] saved: /workspace/datasets/PDBbind2016/refined/5amd/5amd_remove_HEATM_protein.pdb\n"
     ]
    },
    {
     "name": "stderr",
     "output_type": "stream",
     "text": [
      "/opt/conda/envs/team05/lib/python3.10/site-packages/Bio/PDB/PDBParser.py:388: PDBConstructionWarning: Ignoring unrecognized record 'TER' at line 4140\n",
      "  warnings.warn(\n",
      "/opt/conda/envs/team05/lib/python3.10/site-packages/Bio/PDB/PDBParser.py:388: PDBConstructionWarning: Ignoring unrecognized record 'TER' at line 8215\n",
      "  warnings.warn(\n"
     ]
    },
    {
     "name": "stdout",
     "output_type": "stream",
     "text": [
      "[OK] saved: /workspace/datasets/PDBbind2016/refined/3fat/3fat_remove_HEATM_protein.pdb\n",
      "[OK] saved: /workspace/datasets/PDBbind2016/refined/4q93/4q93_remove_HEATM_protein.pdb\n"
     ]
    },
    {
     "name": "stderr",
     "output_type": "stream",
     "text": [
      "/opt/conda/envs/team05/lib/python3.10/site-packages/Bio/PDB/PDBParser.py:388: PDBConstructionWarning: Ignoring unrecognized record 'TER' at line 3250\n",
      "  warnings.warn(\n",
      "/opt/conda/envs/team05/lib/python3.10/site-packages/Bio/PDB/PDBParser.py:388: PDBConstructionWarning: Ignoring unrecognized record 'TER' at line 6445\n",
      "  warnings.warn(\n",
      "/opt/conda/envs/team05/lib/python3.10/site-packages/Bio/PDB/PDBParser.py:388: PDBConstructionWarning: Ignoring unrecognized record 'END' at line 6902\n",
      "  warnings.warn(\n",
      "/opt/conda/envs/team05/lib/python3.10/site-packages/Bio/PDB/PDBParser.py:388: PDBConstructionWarning: Ignoring unrecognized record 'TER' at line 1553\n",
      "  warnings.warn(\n",
      "/opt/conda/envs/team05/lib/python3.10/site-packages/Bio/PDB/PDBParser.py:388: PDBConstructionWarning: Ignoring unrecognized record 'TER' at line 3094\n",
      "  warnings.warn(\n",
      "/opt/conda/envs/team05/lib/python3.10/site-packages/Bio/PDB/PDBParser.py:388: PDBConstructionWarning: Ignoring unrecognized record 'END' at line 3229\n",
      "  warnings.warn(\n"
     ]
    },
    {
     "name": "stdout",
     "output_type": "stream",
     "text": [
      "[OK] saved: /workspace/datasets/PDBbind2016/refined/2qnn/2qnn_remove_HEATM_protein.pdb\n",
      "[OK] saved: /workspace/datasets/PDBbind2016/refined/3mxd/3mxd_remove_HEATM_protein.pdb\n"
     ]
    },
    {
     "name": "stderr",
     "output_type": "stream",
     "text": [
      "/opt/conda/envs/team05/lib/python3.10/site-packages/Bio/PDB/PDBParser.py:388: PDBConstructionWarning: Ignoring unrecognized record 'TER' at line 1519\n",
      "  warnings.warn(\n",
      "/opt/conda/envs/team05/lib/python3.10/site-packages/Bio/PDB/PDBParser.py:388: PDBConstructionWarning: Ignoring unrecognized record 'TER' at line 3045\n",
      "  warnings.warn(\n",
      "/opt/conda/envs/team05/lib/python3.10/site-packages/Bio/PDB/PDBParser.py:388: PDBConstructionWarning: Ignoring unrecognized record 'END' at line 3160\n",
      "  warnings.warn(\n",
      "/opt/conda/envs/team05/lib/python3.10/site-packages/Bio/PDB/PDBParser.py:388: PDBConstructionWarning: Ignoring unrecognized record 'TER' at line 16196\n",
      "  warnings.warn(\n",
      "/opt/conda/envs/team05/lib/python3.10/site-packages/Bio/PDB/PDBParser.py:388: PDBConstructionWarning: Ignoring unrecognized record 'TER' at line 32085\n",
      "  warnings.warn(\n",
      "/opt/conda/envs/team05/lib/python3.10/site-packages/Bio/PDB/PDBParser.py:388: PDBConstructionWarning: Ignoring unrecognized record 'TER' at line 47962\n",
      "  warnings.warn(\n",
      "/opt/conda/envs/team05/lib/python3.10/site-packages/Bio/PDB/PDBParser.py:388: PDBConstructionWarning: Ignoring unrecognized record 'TER' at line 63839\n",
      "  warnings.warn(\n"
     ]
    },
    {
     "name": "stdout",
     "output_type": "stream",
     "text": [
      "[OK] saved: /workspace/datasets/PDBbind2016/refined/3vd9/3vd9_remove_HEATM_protein.pdb\n"
     ]
    },
    {
     "name": "stderr",
     "output_type": "stream",
     "text": [
      "/opt/conda/envs/team05/lib/python3.10/site-packages/Bio/PDB/PDBParser.py:388: PDBConstructionWarning: Ignoring unrecognized record 'TER' at line 3851\n",
      "  warnings.warn(\n",
      "/opt/conda/envs/team05/lib/python3.10/site-packages/Bio/PDB/PDBParser.py:388: PDBConstructionWarning: Ignoring unrecognized record 'TER' at line 7664\n",
      "  warnings.warn(\n"
     ]
    },
    {
     "name": "stdout",
     "output_type": "stream",
     "text": [
      "[OK] saved: /workspace/datasets/PDBbind2016/refined/4io2/4io2_remove_HEATM_protein.pdb\n",
      "[OK] saved: /workspace/datasets/PDBbind2016/refined/1ksn/1ksn_remove_HEATM_protein.pdb\n"
     ]
    },
    {
     "name": "stderr",
     "output_type": "stream",
     "text": [
      "/opt/conda/envs/team05/lib/python3.10/site-packages/Bio/PDB/PDBParser.py:388: PDBConstructionWarning: Ignoring unrecognized record 'TER' at line 3692\n",
      "  warnings.warn(\n",
      "/opt/conda/envs/team05/lib/python3.10/site-packages/Bio/PDB/PDBParser.py:388: PDBConstructionWarning: Ignoring unrecognized record 'TER' at line 4428\n",
      "  warnings.warn(\n",
      "/opt/conda/envs/team05/lib/python3.10/site-packages/Bio/PDB/PDBParser.py:388: PDBConstructionWarning: Ignoring unrecognized record 'TER' at line 1581\n",
      "  warnings.warn(\n",
      "/opt/conda/envs/team05/lib/python3.10/site-packages/Bio/PDB/PDBParser.py:388: PDBConstructionWarning: Ignoring unrecognized record 'TER' at line 3143\n",
      "  warnings.warn(\n",
      "/opt/conda/envs/team05/lib/python3.10/site-packages/Bio/PDB/PDBParser.py:388: PDBConstructionWarning: Ignoring unrecognized record 'END' at line 3462\n",
      "  warnings.warn(\n",
      "/opt/conda/envs/team05/lib/python3.10/site-packages/Bio/PDB/PDBParser.py:388: PDBConstructionWarning: Ignoring unrecognized record 'TER' at line 2590\n",
      "  warnings.warn(\n",
      "/opt/conda/envs/team05/lib/python3.10/site-packages/Bio/PDB/PDBParser.py:388: PDBConstructionWarning: Ignoring unrecognized record 'END' at line 2795\n",
      "  warnings.warn(\n"
     ]
    },
    {
     "name": "stdout",
     "output_type": "stream",
     "text": [
      "[OK] saved: /workspace/datasets/PDBbind2016/refined/2avs/2avs_remove_HEATM_protein.pdb\n",
      "[OK] saved: /workspace/datasets/PDBbind2016/refined/1h0a/1h0a_remove_HEATM_protein.pdb\n",
      "[OK] saved: /workspace/datasets/PDBbind2016/refined/2i4d/2i4d_remove_HEATM_protein.pdb\n"
     ]
    },
    {
     "name": "stderr",
     "output_type": "stream",
     "text": [
      "/opt/conda/envs/team05/lib/python3.10/site-packages/Bio/PDB/PDBParser.py:388: PDBConstructionWarning: Ignoring unrecognized record 'TER' at line 1587\n",
      "  warnings.warn(\n",
      "/opt/conda/envs/team05/lib/python3.10/site-packages/Bio/PDB/PDBParser.py:388: PDBConstructionWarning: Ignoring unrecognized record 'TER' at line 3155\n",
      "  warnings.warn(\n",
      "/opt/conda/envs/team05/lib/python3.10/site-packages/Bio/PDB/PDBParser.py:388: PDBConstructionWarning: Ignoring unrecognized record 'END' at line 3330\n",
      "  warnings.warn(\n",
      "/opt/conda/envs/team05/lib/python3.10/site-packages/Bio/PDB/PDBParser.py:388: PDBConstructionWarning: Ignoring unrecognized record 'TER' at line 6815\n",
      "  warnings.warn(\n",
      "/opt/conda/envs/team05/lib/python3.10/site-packages/Bio/PDB/PDBParser.py:388: PDBConstructionWarning: Ignoring unrecognized record 'TER' at line 13519\n",
      "  warnings.warn(\n",
      "/opt/conda/envs/team05/lib/python3.10/site-packages/Bio/PDB/PDBParser.py:388: PDBConstructionWarning: Ignoring unrecognized record 'TER' at line 1760\n",
      "  warnings.warn(\n",
      "/opt/conda/envs/team05/lib/python3.10/site-packages/Bio/PDB/PDBParser.py:388: PDBConstructionWarning: Ignoring unrecognized record 'TER' at line 3479\n",
      "  warnings.warn(\n"
     ]
    },
    {
     "name": "stdout",
     "output_type": "stream",
     "text": [
      "[OK] saved: /workspace/datasets/PDBbind2016/refined/4oc0/4oc0_remove_HEATM_protein.pdb\n",
      "[OK] saved: /workspace/datasets/PDBbind2016/refined/5ct2/5ct2_remove_HEATM_protein.pdb\n",
      "[OK] saved: /workspace/datasets/PDBbind2016/refined/6rnt/6rnt_remove_HEATM_protein.pdb\n"
     ]
    },
    {
     "name": "stderr",
     "output_type": "stream",
     "text": [
      "/opt/conda/envs/team05/lib/python3.10/site-packages/Bio/PDB/PDBParser.py:388: PDBConstructionWarning: Ignoring unrecognized record 'TER' at line 1468\n",
      "  warnings.warn(\n",
      "/opt/conda/envs/team05/lib/python3.10/site-packages/Bio/PDB/PDBParser.py:388: PDBConstructionWarning: Ignoring unrecognized record 'TER' at line 1587\n",
      "  warnings.warn(\n",
      "/opt/conda/envs/team05/lib/python3.10/site-packages/Bio/PDB/PDBParser.py:388: PDBConstructionWarning: Ignoring unrecognized record 'TER' at line 3155\n",
      "  warnings.warn(\n",
      "/opt/conda/envs/team05/lib/python3.10/site-packages/Bio/PDB/PDBParser.py:388: PDBConstructionWarning: Ignoring unrecognized record 'END' at line 3306\n",
      "  warnings.warn(\n"
     ]
    },
    {
     "name": "stdout",
     "output_type": "stream",
     "text": [
      "[OK] saved: /workspace/datasets/PDBbind2016/refined/3nu4/3nu4_remove_HEATM_protein.pdb\n"
     ]
    },
    {
     "name": "stderr",
     "output_type": "stream",
     "text": [
      "/opt/conda/envs/team05/lib/python3.10/site-packages/Bio/PDB/PDBParser.py:388: PDBConstructionWarning: Ignoring unrecognized record 'TER' at line 3271\n",
      "  warnings.warn(\n",
      "/opt/conda/envs/team05/lib/python3.10/site-packages/Bio/PDB/PDBParser.py:388: PDBConstructionWarning: Ignoring unrecognized record 'TER' at line 6906\n",
      "  warnings.warn(\n",
      "/opt/conda/envs/team05/lib/python3.10/site-packages/Bio/PDB/PDBParser.py:388: PDBConstructionWarning: Ignoring unrecognized record 'TER' at line 9970\n",
      "  warnings.warn(\n",
      "/opt/conda/envs/team05/lib/python3.10/site-packages/Bio/PDB/PDBParser.py:388: PDBConstructionWarning: Ignoring unrecognized record 'TER' at line 13605\n",
      "  warnings.warn(\n",
      "/opt/conda/envs/team05/lib/python3.10/site-packages/Bio/PDB/PDBParser.py:388: PDBConstructionWarning: Ignoring unrecognized record 'TER' at line 16669\n",
      "  warnings.warn(\n",
      "/opt/conda/envs/team05/lib/python3.10/site-packages/Bio/PDB/PDBParser.py:388: PDBConstructionWarning: Ignoring unrecognized record 'TER' at line 20304\n",
      "  warnings.warn(\n",
      "/opt/conda/envs/team05/lib/python3.10/site-packages/Bio/PDB/PDBParser.py:388: PDBConstructionWarning: Ignoring unrecognized record 'TER' at line 23368\n",
      "  warnings.warn(\n",
      "/opt/conda/envs/team05/lib/python3.10/site-packages/Bio/PDB/PDBParser.py:388: PDBConstructionWarning: Ignoring unrecognized record 'TER' at line 27003\n",
      "  warnings.warn(\n",
      "/opt/conda/envs/team05/lib/python3.10/site-packages/Bio/PDB/PDBParser.py:388: PDBConstructionWarning: Ignoring unrecognized record 'TER' at line 30067\n",
      "  warnings.warn(\n",
      "/opt/conda/envs/team05/lib/python3.10/site-packages/Bio/PDB/PDBParser.py:388: PDBConstructionWarning: Ignoring unrecognized record 'TER' at line 33702\n",
      "  warnings.warn(\n",
      "/opt/conda/envs/team05/lib/python3.10/site-packages/Bio/PDB/PDBParser.py:388: PDBConstructionWarning: Ignoring unrecognized record 'TER' at line 36766\n",
      "  warnings.warn(\n",
      "/opt/conda/envs/team05/lib/python3.10/site-packages/Bio/PDB/PDBParser.py:388: PDBConstructionWarning: Ignoring unrecognized record 'TER' at line 40401\n",
      "  warnings.warn(\n"
     ]
    },
    {
     "name": "stdout",
     "output_type": "stream",
     "text": [
      "[OK] saved: /workspace/datasets/PDBbind2016/refined/3pcf/3pcf_remove_HEATM_protein.pdb\n"
     ]
    },
    {
     "name": "stderr",
     "output_type": "stream",
     "text": [
      "/opt/conda/envs/team05/lib/python3.10/site-packages/Bio/PDB/PDBParser.py:388: PDBConstructionWarning: Ignoring unrecognized record 'TER' at line 11421\n",
      "  warnings.warn(\n",
      "/opt/conda/envs/team05/lib/python3.10/site-packages/Bio/PDB/PDBParser.py:388: PDBConstructionWarning: Ignoring unrecognized record 'END' at line 11578\n",
      "  warnings.warn(\n"
     ]
    },
    {
     "name": "stdout",
     "output_type": "stream",
     "text": [
      "[OK] saved: /workspace/datasets/PDBbind2016/refined/3t6b/3t6b_remove_HEATM_protein.pdb\n"
     ]
    },
    {
     "name": "stderr",
     "output_type": "stream",
     "text": [
      "/opt/conda/envs/team05/lib/python3.10/site-packages/Bio/PDB/PDBParser.py:388: PDBConstructionWarning: Ignoring unrecognized record 'TER' at line 10834\n",
      "  warnings.warn(\n",
      "/opt/conda/envs/team05/lib/python3.10/site-packages/Bio/PDB/PDBParser.py:388: PDBConstructionWarning: Ignoring unrecognized record 'END' at line 11011\n",
      "  warnings.warn(\n",
      "/opt/conda/envs/team05/lib/python3.10/site-packages/Bio/PDB/PDBParser.py:388: PDBConstructionWarning: Ignoring unrecognized record 'TER' at line 1341\n",
      "  warnings.warn(\n",
      "/opt/conda/envs/team05/lib/python3.10/site-packages/Bio/PDB/PDBParser.py:388: PDBConstructionWarning: Ignoring unrecognized record 'END' at line 1548\n",
      "  warnings.warn(\n",
      "/opt/conda/envs/team05/lib/python3.10/site-packages/Bio/PDB/PDBParser.py:388: PDBConstructionWarning: Ignoring unrecognized record 'TER' at line 1581\n",
      "  warnings.warn(\n",
      "/opt/conda/envs/team05/lib/python3.10/site-packages/Bio/PDB/PDBParser.py:388: PDBConstructionWarning: Ignoring unrecognized record 'TER' at line 3143\n",
      "  warnings.warn(\n"
     ]
    },
    {
     "name": "stdout",
     "output_type": "stream",
     "text": [
      "[OK] saved: /workspace/datasets/PDBbind2016/refined/3lvw/3lvw_remove_HEATM_protein.pdb\n",
      "[OK] saved: /workspace/datasets/PDBbind2016/refined/4qsv/4qsv_remove_HEATM_protein.pdb\n",
      "[OK] saved: /workspace/datasets/PDBbind2016/refined/3vf5/3vf5_remove_HEATM_protein.pdb\n"
     ]
    },
    {
     "name": "stderr",
     "output_type": "stream",
     "text": [
      "/opt/conda/envs/team05/lib/python3.10/site-packages/Bio/PDB/PDBParser.py:388: PDBConstructionWarning: Ignoring unrecognized record 'TER' at line 2603\n",
      "  warnings.warn(\n",
      "/opt/conda/envs/team05/lib/python3.10/site-packages/Bio/PDB/PDBParser.py:388: PDBConstructionWarning: Ignoring unrecognized record 'TER' at line 6304\n",
      "  warnings.warn(\n"
     ]
    },
    {
     "name": "stdout",
     "output_type": "stream",
     "text": [
      "[OK] saved: /workspace/datasets/PDBbind2016/refined/1b8y/1b8y_remove_HEATM_protein.pdb\n"
     ]
    },
    {
     "name": "stderr",
     "output_type": "stream",
     "text": [
      "/opt/conda/envs/team05/lib/python3.10/site-packages/Bio/PDB/PDBParser.py:388: PDBConstructionWarning: Ignoring unrecognized record 'TER' at line 12579\n",
      "  warnings.warn(\n",
      "/opt/conda/envs/team05/lib/python3.10/site-packages/Bio/PDB/PDBParser.py:388: PDBConstructionWarning: Ignoring unrecognized record 'END' at line 12767\n",
      "  warnings.warn(\n",
      "/opt/conda/envs/team05/lib/python3.10/site-packages/Bio/PDB/PDBParser.py:388: PDBConstructionWarning: Ignoring unrecognized record 'TER' at line 2416\n",
      "  warnings.warn(\n"
     ]
    },
    {
     "name": "stdout",
     "output_type": "stream",
     "text": [
      "[OK] saved: /workspace/datasets/PDBbind2016/refined/1dfo/1dfo_remove_HEATM_protein.pdb\n",
      "[OK] saved: /workspace/datasets/PDBbind2016/refined/3f17/3f17_remove_HEATM_protein.pdb\n",
      "[OK] saved: /workspace/datasets/PDBbind2016/refined/3t3c/3t3c_remove_HEATM_protein.pdb\n"
     ]
    },
    {
     "name": "stderr",
     "output_type": "stream",
     "text": [
      "/opt/conda/envs/team05/lib/python3.10/site-packages/Bio/PDB/PDBParser.py:388: PDBConstructionWarning: Ignoring unrecognized record 'TER' at line 1548\n",
      "  warnings.warn(\n",
      "/opt/conda/envs/team05/lib/python3.10/site-packages/Bio/PDB/PDBParser.py:388: PDBConstructionWarning: Ignoring unrecognized record 'TER' at line 3077\n",
      "  warnings.warn(\n",
      "/opt/conda/envs/team05/lib/python3.10/site-packages/Bio/PDB/PDBParser.py:388: PDBConstructionWarning: Ignoring unrecognized record 'END' at line 3221\n",
      "  warnings.warn(\n",
      "/opt/conda/envs/team05/lib/python3.10/site-packages/Bio/PDB/PDBParser.py:388: PDBConstructionWarning: Ignoring unrecognized record 'TER' at line 6063\n",
      "  warnings.warn(\n"
     ]
    },
    {
     "name": "stdout",
     "output_type": "stream",
     "text": [
      "[OK] saved: /workspace/datasets/PDBbind2016/refined/4dju/4dju_remove_HEATM_protein.pdb\n"
     ]
    },
    {
     "name": "stderr",
     "output_type": "stream",
     "text": [
      "/opt/conda/envs/team05/lib/python3.10/site-packages/Bio/PDB/PDBParser.py:388: PDBConstructionWarning: Ignoring unrecognized record 'TER' at line 3497\n",
      "  warnings.warn(\n",
      "/opt/conda/envs/team05/lib/python3.10/site-packages/Bio/PDB/PDBParser.py:388: PDBConstructionWarning: Ignoring unrecognized record 'TER' at line 6896\n",
      "  warnings.warn(\n",
      "/opt/conda/envs/team05/lib/python3.10/site-packages/Bio/PDB/PDBParser.py:388: PDBConstructionWarning: Ignoring unrecognized record 'TER' at line 10289\n",
      "  warnings.warn(\n",
      "/opt/conda/envs/team05/lib/python3.10/site-packages/Bio/PDB/PDBParser.py:388: PDBConstructionWarning: Ignoring unrecognized record 'TER' at line 13688\n",
      "  warnings.warn(\n",
      "/opt/conda/envs/team05/lib/python3.10/site-packages/Bio/PDB/PDBParser.py:388: PDBConstructionWarning: Ignoring unrecognized record 'TER' at line 17087\n",
      "  warnings.warn(\n"
     ]
    },
    {
     "name": "stdout",
     "output_type": "stream",
     "text": [
      "[OK] saved: /workspace/datasets/PDBbind2016/refined/4afg/4afg_remove_HEATM_protein.pdb\n",
      "[OK] saved: /workspace/datasets/PDBbind2016/refined/4q4p/4q4p_remove_HEATM_protein.pdb\n"
     ]
    },
    {
     "name": "stderr",
     "output_type": "stream",
     "text": [
      "/opt/conda/envs/team05/lib/python3.10/site-packages/Bio/PDB/PDBParser.py:388: PDBConstructionWarning: Ignoring unrecognized record 'TER' at line 3464\n",
      "  warnings.warn(\n",
      "/opt/conda/envs/team05/lib/python3.10/site-packages/Bio/PDB/PDBParser.py:388: PDBConstructionWarning: Ignoring unrecognized record 'TER' at line 6869\n",
      "  warnings.warn(\n",
      "/opt/conda/envs/team05/lib/python3.10/site-packages/Bio/PDB/PDBParser.py:388: PDBConstructionWarning: Ignoring unrecognized record 'TER' at line 3217\n",
      "  warnings.warn(\n",
      "/opt/conda/envs/team05/lib/python3.10/site-packages/Bio/PDB/PDBParser.py:388: PDBConstructionWarning: Ignoring unrecognized record 'TER' at line 6397\n",
      "  warnings.warn(\n",
      "/opt/conda/envs/team05/lib/python3.10/site-packages/Bio/PDB/PDBParser.py:388: PDBConstructionWarning: Ignoring unrecognized record 'TER' at line 1188\n",
      "  warnings.warn(\n",
      "/opt/conda/envs/team05/lib/python3.10/site-packages/Bio/PDB/PDBParser.py:388: PDBConstructionWarning: Ignoring unrecognized record 'TER' at line 2353\n",
      "  warnings.warn(\n",
      "/opt/conda/envs/team05/lib/python3.10/site-packages/Bio/PDB/PDBParser.py:388: PDBConstructionWarning: Ignoring unrecognized record 'END' at line 2567\n",
      "  warnings.warn(\n"
     ]
    },
    {
     "name": "stdout",
     "output_type": "stream",
     "text": [
      "[OK] saved: /workspace/datasets/PDBbind2016/refined/1loq/1loq_remove_HEATM_protein.pdb\n",
      "[OK] saved: /workspace/datasets/PDBbind2016/refined/4ibg/4ibg_remove_HEATM_protein.pdb\n"
     ]
    },
    {
     "name": "stderr",
     "output_type": "stream",
     "text": [
      "/opt/conda/envs/team05/lib/python3.10/site-packages/Bio/PDB/PDBParser.py:388: PDBConstructionWarning: Ignoring unrecognized record 'TER' at line 5155\n",
      "  warnings.warn(\n",
      "/opt/conda/envs/team05/lib/python3.10/site-packages/Bio/PDB/PDBParser.py:388: PDBConstructionWarning: Ignoring unrecognized record 'TER' at line 4094\n",
      "  warnings.warn(\n"
     ]
    },
    {
     "name": "stdout",
     "output_type": "stream",
     "text": [
      "[OK] saved: /workspace/datasets/PDBbind2016/refined/3pbb/3pbb_remove_HEATM_protein.pdb\n",
      "[OK] saved: /workspace/datasets/PDBbind2016/refined/1pzp/1pzp_remove_HEATM_protein.pdb\n",
      "[OK] saved: /workspace/datasets/PDBbind2016/refined/2yek/2yek_remove_HEATM_protein.pdb\n"
     ]
    },
    {
     "name": "stderr",
     "output_type": "stream",
     "text": [
      "/opt/conda/envs/team05/lib/python3.10/site-packages/Bio/PDB/PDBParser.py:388: PDBConstructionWarning: Ignoring unrecognized record 'TER' at line 1933\n",
      "  warnings.warn(\n",
      "/opt/conda/envs/team05/lib/python3.10/site-packages/Bio/PDB/PDBParser.py:388: PDBConstructionWarning: Ignoring unrecognized record 'TER' at line 3724\n",
      "  warnings.warn(\n",
      "/opt/conda/envs/team05/lib/python3.10/site-packages/Bio/PDB/PDBParser.py:388: PDBConstructionWarning: Ignoring unrecognized record 'END' at line 4005\n",
      "  warnings.warn(\n",
      "/opt/conda/envs/team05/lib/python3.10/site-packages/Bio/PDB/PDBParser.py:388: PDBConstructionWarning: Ignoring unrecognized record 'TER' at line 4044\n",
      "  warnings.warn(\n"
     ]
    },
    {
     "name": "stdout",
     "output_type": "stream",
     "text": [
      "[OK] saved: /workspace/datasets/PDBbind2016/refined/3k2f/3k2f_remove_HEATM_protein.pdb\n"
     ]
    },
    {
     "name": "stderr",
     "output_type": "stream",
     "text": [
      "/opt/conda/envs/team05/lib/python3.10/site-packages/Bio/PDB/PDBParser.py:388: PDBConstructionWarning: Ignoring unrecognized record 'TER' at line 4699\n",
      "  warnings.warn(\n",
      "/opt/conda/envs/team05/lib/python3.10/site-packages/Bio/PDB/PDBParser.py:388: PDBConstructionWarning: Ignoring unrecognized record 'TER' at line 7804\n",
      "  warnings.warn(\n"
     ]
    },
    {
     "name": "stdout",
     "output_type": "stream",
     "text": [
      "[OK] saved: /workspace/datasets/PDBbind2016/refined/5er1/5er1_remove_HEATM_protein.pdb\n"
     ]
    },
    {
     "name": "stderr",
     "output_type": "stream",
     "text": [
      "/opt/conda/envs/team05/lib/python3.10/site-packages/Bio/PDB/PDBParser.py:388: PDBConstructionWarning: Ignoring unrecognized record 'TER' at line 15438\n",
      "  warnings.warn(\n",
      "/opt/conda/envs/team05/lib/python3.10/site-packages/Bio/PDB/PDBParser.py:388: PDBConstructionWarning: Ignoring unrecognized record 'TER' at line 23087\n",
      "  warnings.warn(\n",
      "/opt/conda/envs/team05/lib/python3.10/site-packages/Bio/PDB/PDBParser.py:388: PDBConstructionWarning: Ignoring unrecognized record 'TER' at line 30721\n",
      "  warnings.warn(\n",
      "/opt/conda/envs/team05/lib/python3.10/site-packages/Bio/PDB/PDBParser.py:388: PDBConstructionWarning: Ignoring unrecognized record 'END' at line 32429\n",
      "  warnings.warn(\n"
     ]
    },
    {
     "name": "stdout",
     "output_type": "stream",
     "text": [
      "[OK] saved: /workspace/datasets/PDBbind2016/refined/1uwt/1uwt_remove_HEATM_protein.pdb\n"
     ]
    },
    {
     "name": "stderr",
     "output_type": "stream",
     "text": [
      "/opt/conda/envs/team05/lib/python3.10/site-packages/Bio/PDB/PDBParser.py:388: PDBConstructionWarning: Ignoring unrecognized record 'TER' at line 4882\n",
      "  warnings.warn(\n",
      "/opt/conda/envs/team05/lib/python3.10/site-packages/Bio/PDB/PDBParser.py:388: PDBConstructionWarning: Ignoring unrecognized record 'TER' at line 9686\n",
      "  warnings.warn(\n",
      "/opt/conda/envs/team05/lib/python3.10/site-packages/Bio/PDB/PDBParser.py:388: PDBConstructionWarning: Ignoring unrecognized record 'TER' at line 14490\n",
      "  warnings.warn(\n"
     ]
    },
    {
     "name": "stdout",
     "output_type": "stream",
     "text": [
      "[OK] saved: /workspace/datasets/PDBbind2016/refined/3mfv/3mfv_remove_HEATM_protein.pdb\n",
      "[OK] saved: /workspace/datasets/PDBbind2016/refined/4gqp/4gqp_remove_HEATM_protein.pdb\n"
     ]
    },
    {
     "name": "stderr",
     "output_type": "stream",
     "text": [
      "/opt/conda/envs/team05/lib/python3.10/site-packages/Bio/PDB/PDBParser.py:388: PDBConstructionWarning: Ignoring unrecognized record 'TER' at line 3447\n",
      "  warnings.warn(\n",
      "/opt/conda/envs/team05/lib/python3.10/site-packages/Bio/PDB/PDBParser.py:388: PDBConstructionWarning: Ignoring unrecognized record 'TER' at line 3851\n",
      "  warnings.warn(\n",
      "/opt/conda/envs/team05/lib/python3.10/site-packages/Bio/PDB/PDBParser.py:388: PDBConstructionWarning: Ignoring unrecognized record 'TER' at line 3257\n",
      "  warnings.warn(\n"
     ]
    },
    {
     "name": "stdout",
     "output_type": "stream",
     "text": [
      "[OK] saved: /workspace/datasets/PDBbind2016/refined/1gj7/1gj7_remove_HEATM_protein.pdb\n",
      "[OK] saved: /workspace/datasets/PDBbind2016/refined/4abd/4abd_remove_HEATM_protein.pdb\n"
     ]
    },
    {
     "name": "stderr",
     "output_type": "stream",
     "text": [
      "/opt/conda/envs/team05/lib/python3.10/site-packages/Bio/PDB/PDBParser.py:388: PDBConstructionWarning: Ignoring unrecognized record 'TER' at line 5337\n",
      "  warnings.warn(\n",
      "/opt/conda/envs/team05/lib/python3.10/site-packages/Bio/PDB/PDBParser.py:388: PDBConstructionWarning: Ignoring unrecognized record 'TER' at line 10619\n",
      "  warnings.warn(\n"
     ]
    },
    {
     "name": "stdout",
     "output_type": "stream",
     "text": [
      "[OK] saved: /workspace/datasets/PDBbind2016/refined/1yq7/1yq7_remove_HEATM_protein.pdb\n",
      "[OK] saved: /workspace/datasets/PDBbind2016/refined/2v3u/2v3u_remove_HEATM_protein.pdb\n"
     ]
    },
    {
     "name": "stderr",
     "output_type": "stream",
     "text": [
      "/opt/conda/envs/team05/lib/python3.10/site-packages/Bio/PDB/PDBParser.py:388: PDBConstructionWarning: Ignoring unrecognized record 'TER' at line 4021\n",
      "  warnings.warn(\n",
      "/opt/conda/envs/team05/lib/python3.10/site-packages/Bio/PDB/PDBParser.py:388: PDBConstructionWarning: Ignoring unrecognized record 'END' at line 4157\n",
      "  warnings.warn(\n",
      "/opt/conda/envs/team05/lib/python3.10/site-packages/Bio/PDB/PDBParser.py:388: PDBConstructionWarning: Ignoring unrecognized record 'TER' at line 1519\n",
      "  warnings.warn(\n",
      "/opt/conda/envs/team05/lib/python3.10/site-packages/Bio/PDB/PDBParser.py:388: PDBConstructionWarning: Ignoring unrecognized record 'TER' at line 3071\n",
      "  warnings.warn(\n",
      "/opt/conda/envs/team05/lib/python3.10/site-packages/Bio/PDB/PDBParser.py:388: PDBConstructionWarning: Ignoring unrecognized record 'END' at line 3221\n",
      "  warnings.warn(\n"
     ]
    },
    {
     "name": "stdout",
     "output_type": "stream",
     "text": [
      "[OK] saved: /workspace/datasets/PDBbind2016/refined/2qi5/2qi5_remove_HEATM_protein.pdb\n"
     ]
    },
    {
     "name": "stderr",
     "output_type": "stream",
     "text": [
      "/opt/conda/envs/team05/lib/python3.10/site-packages/Bio/PDB/PDBParser.py:388: PDBConstructionWarning: Ignoring unrecognized record 'TER' at line 13329\n",
      "  warnings.warn(\n",
      "/opt/conda/envs/team05/lib/python3.10/site-packages/Bio/PDB/PDBParser.py:388: PDBConstructionWarning: Ignoring unrecognized record 'TER' at line 2474\n",
      "  warnings.warn(\n"
     ]
    },
    {
     "name": "stdout",
     "output_type": "stream",
     "text": [
      "[OK] saved: /workspace/datasets/PDBbind2016/refined/1jzs/1jzs_remove_HEATM_protein.pdb\n"
     ]
    },
    {
     "name": "stderr",
     "output_type": "stream",
     "text": [
      "/opt/conda/envs/team05/lib/python3.10/site-packages/Bio/PDB/PDBParser.py:388: PDBConstructionWarning: Ignoring unrecognized record 'TER' at line 4672\n",
      "  warnings.warn(\n",
      "/opt/conda/envs/team05/lib/python3.10/site-packages/Bio/PDB/PDBParser.py:388: PDBConstructionWarning: Ignoring unrecognized record 'TER' at line 7079\n",
      "  warnings.warn(\n",
      "/opt/conda/envs/team05/lib/python3.10/site-packages/Bio/PDB/PDBParser.py:388: PDBConstructionWarning: Ignoring unrecognized record 'END' at line 7402\n",
      "  warnings.warn(\n",
      "/opt/conda/envs/team05/lib/python3.10/site-packages/Bio/PDB/PDBParser.py:388: PDBConstructionWarning: Ignoring unrecognized record 'TER' at line 493\n",
      "  warnings.warn(\n"
     ]
    },
    {
     "name": "stdout",
     "output_type": "stream",
     "text": [
      "[OK] saved: /workspace/datasets/PDBbind2016/refined/3t64/3t64_remove_HEATM_protein.pdb\n"
     ]
    },
    {
     "name": "stderr",
     "output_type": "stream",
     "text": [
      "/opt/conda/envs/team05/lib/python3.10/site-packages/Bio/PDB/PDBParser.py:388: PDBConstructionWarning: Ignoring unrecognized record 'TER' at line 4513\n",
      "  warnings.warn(\n",
      "/opt/conda/envs/team05/lib/python3.10/site-packages/Bio/PDB/PDBParser.py:388: PDBConstructionWarning: Ignoring unrecognized record 'TER' at line 2296\n",
      "  warnings.warn(\n",
      "/opt/conda/envs/team05/lib/python3.10/site-packages/Bio/PDB/PDBParser.py:388: PDBConstructionWarning: Ignoring unrecognized record 'TER' at line 2595\n",
      "  warnings.warn(\n",
      "/opt/conda/envs/team05/lib/python3.10/site-packages/Bio/PDB/PDBParser.py:388: PDBConstructionWarning: Ignoring unrecognized record 'TER' at line 5035\n",
      "  warnings.warn(\n"
     ]
    },
    {
     "name": "stdout",
     "output_type": "stream",
     "text": [
      "[OK] saved: /workspace/datasets/PDBbind2016/refined/2zc9/2zc9_remove_HEATM_protein.pdb\n",
      "[OK] saved: /workspace/datasets/PDBbind2016/refined/4x6m/4x6m_remove_HEATM_protein.pdb\n"
     ]
    },
    {
     "name": "stderr",
     "output_type": "stream",
     "text": [
      "/opt/conda/envs/team05/lib/python3.10/site-packages/Bio/PDB/PDBParser.py:388: PDBConstructionWarning: Ignoring unrecognized record 'TER' at line 7425\n",
      "  warnings.warn(\n",
      "/opt/conda/envs/team05/lib/python3.10/site-packages/Bio/PDB/PDBParser.py:388: PDBConstructionWarning: Ignoring unrecognized record 'TER' at line 9865\n",
      "  warnings.warn(\n",
      "/opt/conda/envs/team05/lib/python3.10/site-packages/Bio/PDB/PDBParser.py:388: PDBConstructionWarning: Ignoring unrecognized record 'TER' at line 12305\n",
      "  warnings.warn(\n",
      "/opt/conda/envs/team05/lib/python3.10/site-packages/Bio/PDB/PDBParser.py:388: PDBConstructionWarning: Ignoring unrecognized record 'TER' at line 14695\n",
      "  warnings.warn(\n",
      "/opt/conda/envs/team05/lib/python3.10/site-packages/Bio/PDB/PDBParser.py:388: PDBConstructionWarning: Ignoring unrecognized record 'TER' at line 17135\n",
      "  warnings.warn(\n",
      "/opt/conda/envs/team05/lib/python3.10/site-packages/Bio/PDB/PDBParser.py:388: PDBConstructionWarning: Ignoring unrecognized record 'TER' at line 19575\n",
      "  warnings.warn(\n",
      "/opt/conda/envs/team05/lib/python3.10/site-packages/Bio/PDB/PDBParser.py:388: PDBConstructionWarning: Ignoring unrecognized record 'TER' at line 21965\n",
      "  warnings.warn(\n",
      "/opt/conda/envs/team05/lib/python3.10/site-packages/Bio/PDB/PDBParser.py:388: PDBConstructionWarning: Ignoring unrecognized record 'TER' at line 24405\n",
      "  warnings.warn(\n",
      "/opt/conda/envs/team05/lib/python3.10/site-packages/Bio/PDB/PDBParser.py:388: PDBConstructionWarning: Ignoring unrecognized record 'TER' at line 26845\n",
      "  warnings.warn(\n",
      "/opt/conda/envs/team05/lib/python3.10/site-packages/Bio/PDB/PDBParser.py:388: PDBConstructionWarning: Ignoring unrecognized record 'TER' at line 29235\n",
      "  warnings.warn(\n",
      "/opt/conda/envs/team05/lib/python3.10/site-packages/Bio/PDB/PDBParser.py:388: PDBConstructionWarning: Ignoring unrecognized record 'END' at line 30171\n",
      "  warnings.warn(\n"
     ]
    },
    {
     "name": "stdout",
     "output_type": "stream",
     "text": [
      "[OK] saved: /workspace/datasets/PDBbind2016/refined/4b6s/4b6s_remove_HEATM_protein.pdb\n",
      "[OK] saved: /workspace/datasets/PDBbind2016/refined/3el4/3el4_remove_HEATM_protein.pdb\n"
     ]
    },
    {
     "name": "stderr",
     "output_type": "stream",
     "text": [
      "/opt/conda/envs/team05/lib/python3.10/site-packages/Bio/PDB/PDBParser.py:388: PDBConstructionWarning: Ignoring unrecognized record 'TER' at line 1545\n",
      "  warnings.warn(\n",
      "/opt/conda/envs/team05/lib/python3.10/site-packages/Bio/PDB/PDBParser.py:388: PDBConstructionWarning: Ignoring unrecognized record 'TER' at line 3053\n",
      "  warnings.warn(\n",
      "/opt/conda/envs/team05/lib/python3.10/site-packages/Bio/PDB/PDBParser.py:388: PDBConstructionWarning: Ignoring unrecognized record 'END' at line 3147\n",
      "  warnings.warn(\n",
      "/opt/conda/envs/team05/lib/python3.10/site-packages/Bio/PDB/PDBParser.py:388: PDBConstructionWarning: Ignoring unrecognized record 'TER' at line 6302\n",
      "  warnings.warn(\n"
     ]
    },
    {
     "name": "stdout",
     "output_type": "stream",
     "text": [
      "[OK] saved: /workspace/datasets/PDBbind2016/refined/4n6h/4n6h_remove_HEATM_protein.pdb\n"
     ]
    },
    {
     "name": "stderr",
     "output_type": "stream",
     "text": [
      "/opt/conda/envs/team05/lib/python3.10/site-packages/Bio/PDB/PDBParser.py:388: PDBConstructionWarning: Ignoring unrecognized record 'TER' at line 3723\n",
      "  warnings.warn(\n",
      "/opt/conda/envs/team05/lib/python3.10/site-packages/Bio/PDB/PDBParser.py:388: PDBConstructionWarning: Ignoring unrecognized record 'TER' at line 7371\n",
      "  warnings.warn(\n",
      "/opt/conda/envs/team05/lib/python3.10/site-packages/Bio/PDB/PDBParser.py:388: PDBConstructionWarning: Ignoring unrecognized record 'TER' at line 11019\n",
      "  warnings.warn(\n",
      "/opt/conda/envs/team05/lib/python3.10/site-packages/Bio/PDB/PDBParser.py:388: PDBConstructionWarning: Ignoring unrecognized record 'TER' at line 14667\n",
      "  warnings.warn(\n",
      "/opt/conda/envs/team05/lib/python3.10/site-packages/Bio/PDB/PDBParser.py:388: PDBConstructionWarning: Ignoring unrecognized record 'END' at line 14833\n",
      "  warnings.warn(\n"
     ]
    },
    {
     "name": "stdout",
     "output_type": "stream",
     "text": [
      "[OK] saved: /workspace/datasets/PDBbind2016/refined/1upf/1upf_remove_HEATM_protein.pdb\n",
      "[OK] saved: /workspace/datasets/PDBbind2016/refined/1tx7/1tx7_remove_HEATM_protein.pdb\n"
     ]
    },
    {
     "name": "stderr",
     "output_type": "stream",
     "text": [
      "/opt/conda/envs/team05/lib/python3.10/site-packages/Bio/PDB/PDBParser.py:388: PDBConstructionWarning: Ignoring unrecognized record 'TER' at line 3244\n",
      "  warnings.warn(\n",
      "/opt/conda/envs/team05/lib/python3.10/site-packages/Bio/PDB/PDBParser.py:388: PDBConstructionWarning: Ignoring unrecognized record 'TER' at line 2404\n",
      "  warnings.warn(\n",
      "/opt/conda/envs/team05/lib/python3.10/site-packages/Bio/PDB/PDBParser.py:388: PDBConstructionWarning: Ignoring unrecognized record 'TER' at line 4754\n",
      "  warnings.warn(\n",
      "/opt/conda/envs/team05/lib/python3.10/site-packages/Bio/PDB/PDBParser.py:388: PDBConstructionWarning: Ignoring unrecognized record 'TER' at line 7087\n",
      "  warnings.warn(\n",
      "/opt/conda/envs/team05/lib/python3.10/site-packages/Bio/PDB/PDBParser.py:388: PDBConstructionWarning: Ignoring unrecognized record 'TER' at line 9437\n",
      "  warnings.warn(\n",
      "/opt/conda/envs/team05/lib/python3.10/site-packages/Bio/PDB/PDBParser.py:388: PDBConstructionWarning: Ignoring unrecognized record 'TER' at line 11774\n",
      "  warnings.warn(\n",
      "/opt/conda/envs/team05/lib/python3.10/site-packages/Bio/PDB/PDBParser.py:388: PDBConstructionWarning: Ignoring unrecognized record 'TER' at line 14130\n",
      "  warnings.warn(\n",
      "/opt/conda/envs/team05/lib/python3.10/site-packages/Bio/PDB/PDBParser.py:388: PDBConstructionWarning: Ignoring unrecognized record 'END' at line 14259\n",
      "  warnings.warn(\n"
     ]
    },
    {
     "name": "stdout",
     "output_type": "stream",
     "text": [
      "[OK] saved: /workspace/datasets/PDBbind2016/refined/1s89/1s89_remove_HEATM_protein.pdb\n"
     ]
    },
    {
     "name": "stderr",
     "output_type": "stream",
     "text": [
      "/opt/conda/envs/team05/lib/python3.10/site-packages/Bio/PDB/PDBParser.py:388: PDBConstructionWarning: Ignoring unrecognized record 'TER' at line 2199\n",
      "  warnings.warn(\n",
      "/opt/conda/envs/team05/lib/python3.10/site-packages/Bio/PDB/PDBParser.py:388: PDBConstructionWarning: Ignoring unrecognized record 'TER' at line 4335\n",
      "  warnings.warn(\n",
      "/opt/conda/envs/team05/lib/python3.10/site-packages/Bio/PDB/PDBParser.py:388: PDBConstructionWarning: Ignoring unrecognized record 'TER' at line 6471\n",
      "  warnings.warn(\n",
      "/opt/conda/envs/team05/lib/python3.10/site-packages/Bio/PDB/PDBParser.py:388: PDBConstructionWarning: Ignoring unrecognized record 'TER' at line 8607\n",
      "  warnings.warn(\n",
      "/opt/conda/envs/team05/lib/python3.10/site-packages/Bio/PDB/PDBParser.py:388: PDBConstructionWarning: Ignoring unrecognized record 'TER' at line 10731\n",
      "  warnings.warn(\n",
      "/opt/conda/envs/team05/lib/python3.10/site-packages/Bio/PDB/PDBParser.py:388: PDBConstructionWarning: Ignoring unrecognized record 'END' at line 11399\n",
      "  warnings.warn(\n"
     ]
    },
    {
     "name": "stdout",
     "output_type": "stream",
     "text": [
      "[OK] saved: /workspace/datasets/PDBbind2016/refined/2c92/2c92_remove_HEATM_protein.pdb\n"
     ]
    },
    {
     "name": "stderr",
     "output_type": "stream",
     "text": [
      "/opt/conda/envs/team05/lib/python3.10/site-packages/Bio/PDB/PDBParser.py:388: PDBConstructionWarning: Ignoring unrecognized record 'TER' at line 4125\n",
      "  warnings.warn(\n",
      "/opt/conda/envs/team05/lib/python3.10/site-packages/Bio/PDB/PDBParser.py:388: PDBConstructionWarning: Ignoring unrecognized record 'TER' at line 8203\n",
      "  warnings.warn(\n"
     ]
    },
    {
     "name": "stdout",
     "output_type": "stream",
     "text": [
      "[OK] saved: /workspace/datasets/PDBbind2016/refined/4kp5/4kp5_remove_HEATM_protein.pdb\n",
      "[OK] saved: /workspace/datasets/PDBbind2016/refined/1d4h/1d4h_remove_HEATM_protein.pdb\n"
     ]
    },
    {
     "name": "stderr",
     "output_type": "stream",
     "text": [
      "/opt/conda/envs/team05/lib/python3.10/site-packages/Bio/PDB/PDBParser.py:388: PDBConstructionWarning: Ignoring unrecognized record 'TER' at line 1581\n",
      "  warnings.warn(\n",
      "/opt/conda/envs/team05/lib/python3.10/site-packages/Bio/PDB/PDBParser.py:388: PDBConstructionWarning: Ignoring unrecognized record 'TER' at line 3143\n",
      "  warnings.warn(\n",
      "/opt/conda/envs/team05/lib/python3.10/site-packages/Bio/PDB/PDBParser.py:388: PDBConstructionWarning: Ignoring unrecognized record 'END' at line 3273\n",
      "  warnings.warn(\n",
      "/opt/conda/envs/team05/lib/python3.10/site-packages/Bio/PDB/PDBParser.py:388: PDBConstructionWarning: Ignoring unrecognized record 'TER' at line 5567\n",
      "  warnings.warn(\n",
      "/opt/conda/envs/team05/lib/python3.10/site-packages/Bio/PDB/PDBParser.py:388: PDBConstructionWarning: Ignoring unrecognized record 'END' at line 5696\n",
      "  warnings.warn(\n"
     ]
    },
    {
     "name": "stdout",
     "output_type": "stream",
     "text": [
      "[OK] saved: /workspace/datasets/PDBbind2016/refined/3gjw/3gjw_remove_HEATM_protein.pdb\n"
     ]
    },
    {
     "name": "stderr",
     "output_type": "stream",
     "text": [
      "/opt/conda/envs/team05/lib/python3.10/site-packages/Bio/PDB/PDBParser.py:388: PDBConstructionWarning: Ignoring unrecognized record 'TER' at line 3272\n",
      "  warnings.warn(\n",
      "/opt/conda/envs/team05/lib/python3.10/site-packages/Bio/PDB/PDBParser.py:388: PDBConstructionWarning: Ignoring unrecognized record 'TER' at line 6491\n",
      "  warnings.warn(\n",
      "/opt/conda/envs/team05/lib/python3.10/site-packages/Bio/PDB/PDBParser.py:388: PDBConstructionWarning: Ignoring unrecognized record 'TER' at line 9658\n",
      "  warnings.warn(\n",
      "/opt/conda/envs/team05/lib/python3.10/site-packages/Bio/PDB/PDBParser.py:388: PDBConstructionWarning: Ignoring unrecognized record 'TER' at line 12801\n",
      "  warnings.warn(\n",
      "/opt/conda/envs/team05/lib/python3.10/site-packages/Bio/PDB/PDBParser.py:388: PDBConstructionWarning: Ignoring unrecognized record 'TER' at line 16044\n",
      "  warnings.warn(\n"
     ]
    },
    {
     "name": "stdout",
     "output_type": "stream",
     "text": [
      "[OK] saved: /workspace/datasets/PDBbind2016/refined/3u8l/3u8l_remove_HEATM_protein.pdb\n",
      "[OK] saved: /workspace/datasets/PDBbind2016/refined/1j17/1j17_remove_HEATM_protein.pdb\n",
      "[OK] saved: /workspace/datasets/PDBbind2016/refined/3m1k/3m1k_remove_HEATM_protein.pdb\n"
     ]
    },
    {
     "name": "stderr",
     "output_type": "stream",
     "text": [
      "/opt/conda/envs/team05/lib/python3.10/site-packages/Bio/PDB/PDBParser.py:388: PDBConstructionWarning: Ignoring unrecognized record 'TER' at line 3287\n",
      "  warnings.warn(\n",
      "/opt/conda/envs/team05/lib/python3.10/site-packages/Bio/PDB/PDBParser.py:388: PDBConstructionWarning: Ignoring unrecognized record 'TER' at line 4015\n",
      "  warnings.warn(\n",
      "/opt/conda/envs/team05/lib/python3.10/site-packages/Bio/PDB/PDBParser.py:388: PDBConstructionWarning: Ignoring unrecognized record 'TER' at line 2338\n",
      "  warnings.warn(\n"
     ]
    },
    {
     "name": "stdout",
     "output_type": "stream",
     "text": [
      "[OK] saved: /workspace/datasets/PDBbind2016/refined/2nnd/2nnd_remove_HEATM_protein.pdb\n",
      "[OK] saved: /workspace/datasets/PDBbind2016/refined/1fkf/1fkf_remove_HEATM_protein.pdb\n",
      "[OK] saved: /workspace/datasets/PDBbind2016/refined/2uyq/2uyq_remove_HEATM_protein.pdb\n"
     ]
    },
    {
     "name": "stderr",
     "output_type": "stream",
     "text": [
      "/opt/conda/envs/team05/lib/python3.10/site-packages/Bio/PDB/PDBParser.py:388: PDBConstructionWarning: Ignoring unrecognized record 'TER' at line 1682\n",
      "  warnings.warn(\n",
      "/opt/conda/envs/team05/lib/python3.10/site-packages/Bio/PDB/PDBParser.py:388: PDBConstructionWarning: Ignoring unrecognized record 'TER' at line 3343\n",
      "  warnings.warn(\n",
      "/opt/conda/envs/team05/lib/python3.10/site-packages/Bio/PDB/PDBParser.py:388: PDBConstructionWarning: Ignoring unrecognized record 'END' at line 3498\n",
      "  warnings.warn(\n",
      "/opt/conda/envs/team05/lib/python3.10/site-packages/Bio/PDB/PDBParser.py:388: PDBConstructionWarning: Ignoring unrecognized record 'TER' at line 4021\n",
      "  warnings.warn(\n",
      "/opt/conda/envs/team05/lib/python3.10/site-packages/Bio/PDB/PDBParser.py:388: PDBConstructionWarning: Ignoring unrecognized record 'END' at line 4261\n",
      "  warnings.warn(\n",
      "/opt/conda/envs/team05/lib/python3.10/site-packages/Bio/PDB/PDBParser.py:388: PDBConstructionWarning: Ignoring unrecognized record 'TER' at line 8275\n",
      "  warnings.warn(\n",
      "/opt/conda/envs/team05/lib/python3.10/site-packages/Bio/PDB/PDBParser.py:388: PDBConstructionWarning: Ignoring unrecognized record 'TER' at line 5733\n",
      "  warnings.warn(\n",
      "/opt/conda/envs/team05/lib/python3.10/site-packages/Bio/PDB/PDBParser.py:388: PDBConstructionWarning: Ignoring unrecognized record 'END' at line 5883\n",
      "  warnings.warn(\n"
     ]
    },
    {
     "name": "stdout",
     "output_type": "stream",
     "text": [
      "[OK] saved: /workspace/datasets/PDBbind2016/refined/1jeu/1jeu_remove_HEATM_protein.pdb\n",
      "[OK] saved: /workspace/datasets/PDBbind2016/refined/1yqj/1yqj_remove_HEATM_protein.pdb\n"
     ]
    },
    {
     "name": "stderr",
     "output_type": "stream",
     "text": [
      "/opt/conda/envs/team05/lib/python3.10/site-packages/Bio/PDB/PDBParser.py:388: PDBConstructionWarning: Ignoring unrecognized record 'TER' at line 1948\n",
      "  warnings.warn(\n",
      "/opt/conda/envs/team05/lib/python3.10/site-packages/Bio/PDB/PDBParser.py:388: PDBConstructionWarning: Ignoring unrecognized record 'TER' at line 3863\n",
      "  warnings.warn(\n",
      "/opt/conda/envs/team05/lib/python3.10/site-packages/Bio/PDB/PDBParser.py:388: PDBConstructionWarning: Ignoring unrecognized record 'TER' at line 2770\n",
      "  warnings.warn(\n"
     ]
    },
    {
     "name": "stdout",
     "output_type": "stream",
     "text": [
      "[OK] saved: /workspace/datasets/PDBbind2016/refined/4oak/4oak_remove_HEATM_protein.pdb\n"
     ]
    },
    {
     "name": "stderr",
     "output_type": "stream",
     "text": [
      "/opt/conda/envs/team05/lib/python3.10/site-packages/Bio/PDB/PDBParser.py:388: PDBConstructionWarning: Ignoring unrecognized record 'TER' at line 5503\n",
      "  warnings.warn(\n",
      "/opt/conda/envs/team05/lib/python3.10/site-packages/Bio/PDB/PDBParser.py:388: PDBConstructionWarning: Ignoring unrecognized record 'TER' at line 4104\n",
      "  warnings.warn(\n",
      "/opt/conda/envs/team05/lib/python3.10/site-packages/Bio/PDB/PDBParser.py:388: PDBConstructionWarning: Ignoring unrecognized record 'TER' at line 8163\n",
      "  warnings.warn(\n",
      "/opt/conda/envs/team05/lib/python3.10/site-packages/Bio/PDB/PDBParser.py:388: PDBConstructionWarning: Ignoring unrecognized record 'END' at line 8214\n",
      "  warnings.warn(\n"
     ]
    },
    {
     "name": "stdout",
     "output_type": "stream",
     "text": [
      "[OK] saved: /workspace/datasets/PDBbind2016/refined/1sbr/1sbr_remove_HEATM_protein.pdb\n",
      "[OK] saved: /workspace/datasets/PDBbind2016/refined/4d8z/4d8z_remove_HEATM_protein.pdb\n"
     ]
    },
    {
     "name": "stderr",
     "output_type": "stream",
     "text": [
      "/opt/conda/envs/team05/lib/python3.10/site-packages/Bio/PDB/PDBParser.py:388: PDBConstructionWarning: Ignoring unrecognized record 'TER' at line 5970\n",
      "  warnings.warn(\n",
      "/opt/conda/envs/team05/lib/python3.10/site-packages/Bio/PDB/PDBParser.py:388: PDBConstructionWarning: Ignoring unrecognized record 'TER' at line 11813\n",
      "  warnings.warn(\n"
     ]
    },
    {
     "name": "stdout",
     "output_type": "stream",
     "text": [
      "[OK] saved: /workspace/datasets/PDBbind2016/refined/3k5i/3k5i_remove_HEATM_protein.pdb\n"
     ]
    },
    {
     "name": "stderr",
     "output_type": "stream",
     "text": [
      "/opt/conda/envs/team05/lib/python3.10/site-packages/Bio/PDB/PDBParser.py:388: PDBConstructionWarning: Ignoring unrecognized record 'TER' at line 5416\n",
      "  warnings.warn(\n",
      "/opt/conda/envs/team05/lib/python3.10/site-packages/Bio/PDB/PDBParser.py:388: PDBConstructionWarning: Ignoring unrecognized record 'END' at line 5676\n",
      "  warnings.warn(\n",
      "/opt/conda/envs/team05/lib/python3.10/site-packages/Bio/PDB/PDBParser.py:388: PDBConstructionWarning: Ignoring unrecognized record 'TER' at line 3317\n",
      "  warnings.warn(\n",
      "/opt/conda/envs/team05/lib/python3.10/site-packages/Bio/PDB/PDBParser.py:388: PDBConstructionWarning: Ignoring unrecognized record 'TER' at line 6547\n",
      "  warnings.warn(\n"
     ]
    },
    {
     "name": "stdout",
     "output_type": "stream",
     "text": [
      "[OK] saved: /workspace/datasets/PDBbind2016/refined/3hl7/3hl7_remove_HEATM_protein.pdb\n",
      "[OK] saved: /workspace/datasets/PDBbind2016/refined/1qyg/1qyg_remove_HEATM_protein.pdb\n",
      "[OK] saved: /workspace/datasets/PDBbind2016/refined/4na9/4na9_remove_HEATM_protein.pdb\n"
     ]
    },
    {
     "name": "stderr",
     "output_type": "stream",
     "text": [
      "/opt/conda/envs/team05/lib/python3.10/site-packages/Bio/PDB/PDBParser.py:388: PDBConstructionWarning: Ignoring unrecognized record 'TER' at line 2435\n",
      "  warnings.warn(\n",
      "/opt/conda/envs/team05/lib/python3.10/site-packages/Bio/PDB/PDBParser.py:388: PDBConstructionWarning: Ignoring unrecognized record 'TER' at line 2946\n",
      "  warnings.warn(\n"
     ]
    }
   ],
   "source": [
    "remove_HETATM_PDBbind(complex_list, pdb_path)"
   ]
  },
  {
   "cell_type": "code",
   "execution_count": 8,
   "id": "bc96ce23-d809-4b49-96e8-51ed1d1517ab",
   "metadata": {},
   "outputs": [],
   "source": [
    "pdb_parser = PDB.PDBParser(QUIET = True)"
   ]
  },
  {
   "cell_type": "code",
   "execution_count": 9,
   "id": "58817e8b-dce7-416c-bf17-a54af0790b7c",
   "metadata": {},
   "outputs": [],
   "source": [
    "amino_acids_short = {\n",
    "    \"ALA\":\"A\", \"ARG\":\"R\", \"ASN\":\"N\", \"ASP\":\"D\", \"CYS\":\"C\",\n",
    "    \"GLU\":\"E\", \"GLN\":\"Q\", \"GLY\":\"G\", \"HIS\":\"H\", \"ILE\":\"I\",\n",
    "    \"LEU\":\"L\", \"LYS\":\"K\", \"MET\":\"M\", \"PHE\":\"F\", \"PRO\":\"P\",\n",
    "    \"SER\":\"S\", \"THR\":\"T\", \"TRP\":\"W\", \"TYR\":\"Y\", \"VAL\":\"V\",\n",
    "    \"SEC\":\"U\", \"PYL\":\"O\"\n",
    "}"
   ]
  },
  {
   "cell_type": "code",
   "execution_count": 10,
   "id": "ed0671ac-e6f4-4836-a6ad-dff0db91aa6c",
   "metadata": {},
   "outputs": [],
   "source": [
    "data_df = pd.DataFrame({\"PDB\":complex_list})"
   ]
  },
  {
   "cell_type": "code",
   "execution_count": 11,
   "id": "f13aa695-1d37-40dd-813e-bdcbc9a8bda9",
   "metadata": {},
   "outputs": [],
   "source": [
    "def get_info(pdb):\n",
    "    try:\n",
    "        \"\"\" Load protein info \"\"\"\n",
    "        structure = pdb_parser.get_structure(pdb, f\"{pdb_path}/{pdb}/{pdb}_remove_HEATM_protein.pdb\")\n",
    "        chain_name_list, pdb_sequence_list, seq_lengths_list, protein_atom_coords, protein_atom_residue_list, reindex = list(), list(), list(), list(), list(), 0\n",
    "        \n",
    "        \"\"\" Extract protein info \"\"\"\n",
    "        for chain_name in list(structure[0].child_dict.keys()):\n",
    "            chain = structure[0][chain_name]\n",
    "\n",
    "            pdb_sequence = \"\"\n",
    "            for residue in chain.get_residues():\n",
    "                if residue.resname in amino_acids_short.keys():\n",
    "                    pdb_sequence += amino_acids_short[residue.resname]\n",
    "\n",
    "                    for atom in residue:\n",
    "                        protein_atom_coords.append(atom.get_coord())\n",
    "                        protein_atom_residue_list.append(reindex)\n",
    "                    reindex += 1     \n",
    "\n",
    "            if len(pdb_sequence) != 0:\n",
    "                chain_name_list.append(chain_name)\n",
    "                pdb_sequence_list.append(pdb_sequence)\n",
    "                seq_lengths_list.append(len(pdb_sequence))\n",
    "\n",
    "        \"\"\" Load pocket info \"\"\"      \n",
    "        protein_atom_coords, binding_index = np.array(protein_atom_coords), list()\n",
    "        pocket_structure = pdb_parser.get_structure(pdb, f\"{pdb_path}/{pdb}/{pdb}_pocket.pdb\")\n",
    "\n",
    "        pocket_coordi = list()\n",
    "\n",
    "        for chain_name in list(pocket_structure[0].child_dict.keys()):\n",
    "            chain = pocket_structure[0][chain_name]\n",
    "            for residue in chain.get_residues():\n",
    "                if residue.resname in amino_acids_short.keys():\n",
    "                    for atom in residue:\n",
    "                        pocket_coordi.append(atom.get_coord())\n",
    "        \n",
    "        \"\"\" Matching pocket info \"\"\"\n",
    "        pocket_coordi = np.array(pocket_coordi)\n",
    "        bi_x, bi_y, bi_z = pocket_coordi[:, 0], pocket_coordi[:, 1], pocket_coordi[:, 2]\n",
    "\n",
    "        for i, j, k in zip(bi_x, bi_y, bi_z):\n",
    "            tmp_coordi = np.array([i, j, k], dtype = np.float32)\n",
    "            ind = np.where((protein_atom_coords == tmp_coordi).all(axis = 1))[0][0]\n",
    "            binding_index.append(protein_atom_residue_list[ind])\n",
    "\n",
    "        binding_index = sorted(list(set(binding_index)))\n",
    "        binding_index = list(map(str, binding_index))\n",
    "\n",
    "        total_seq_lengths = np.sum(np.array(seq_lengths_list))\n",
    "        seq_lengths_list = list(map(str, seq_lengths_list))\n",
    "\n",
    "        return \",\".join(chain_name_list), \",\".join(pdb_sequence_list), total_seq_lengths, \",\".join(seq_lengths_list), \",\".join(binding_index)\n",
    "\n",
    "    except Exception as e:\n",
    "        print(pdb, e)\n",
    "        return None"
   ]
  },
  {
   "cell_type": "code",
   "execution_count": 12,
   "id": "f7395f61-9b1a-42d2-be29-2590f1eec334",
   "metadata": {},
   "outputs": [],
   "source": [
    "from multiprocessing import Process, Queue, Pool\n",
    "\n",
    "def parallelize_dataframe(df, func, num_partitions=5):\n",
    "    df_split = np.array_split(df, num_partitions)\n",
    "    pool = Pool(num_partitions)\n",
    "    results = pool.map(func, df_split)\n",
    "    pool.close()\n",
    "    pool.join()\n",
    "    return results"
   ]
  },
  {
   "cell_type": "code",
   "execution_count": 13,
   "id": "324d4e34-26d3-4430-97d8-e8fef9b15bdd",
   "metadata": {},
   "outputs": [],
   "source": [
    "def get_pdb_info_bulk(df):\n",
    "    return df.PDB.map(get_info)"
   ]
  },
  {
   "cell_type": "code",
   "execution_count": 14,
   "id": "576fd45a-1737-4eac-a009-eb90b9a46093",
   "metadata": {},
   "outputs": [],
   "source": [
    "info_results = parallelize_dataframe(data_df, get_pdb_info_bulk, 5)"
   ]
  },
  {
   "cell_type": "code",
   "execution_count": 15,
   "id": "78ecc013-20d5-4937-a7fc-122a6e2fe142",
   "metadata": {},
   "outputs": [],
   "source": [
    "info_results = pd.concat(info_results)"
   ]
  },
  {
   "cell_type": "code",
   "execution_count": 16,
   "id": "da7abb1d-0348-4a97-916f-6e3952e527a5",
   "metadata": {},
   "outputs": [],
   "source": [
    "data_df[\"Chain\"] = info_results.map(lambda a: a[0] if a is not None else None)"
   ]
  },
  {
   "cell_type": "code",
   "execution_count": 17,
   "id": "8fe5540c-34df-4110-90ab-58a93e6431be",
   "metadata": {},
   "outputs": [],
   "source": [
    "data_df[\"Sequence\"] = info_results.map(lambda a: a[1] if a is not None else None)"
   ]
  },
  {
   "cell_type": "code",
   "execution_count": 18,
   "id": "3e4e4c20-426a-42d0-998d-c843747b1ac8",
   "metadata": {},
   "outputs": [],
   "source": [
    "data_df[\"Total_seq_lengths\"] = info_results.map(lambda a: a[2] if a is not None else None)"
   ]
  },
  {
   "cell_type": "code",
   "execution_count": 19,
   "id": "a2fe4f50-533f-44bc-bc7d-286652dacb8e",
   "metadata": {},
   "outputs": [],
   "source": [
    "data_df[\"Chain_seq_lengths\"] = info_results.map(lambda a: a[3] if a is not None else None)"
   ]
  },
  {
   "cell_type": "code",
   "execution_count": 20,
   "id": "76df0c11-590f-48de-9c33-a29bc3f435a8",
   "metadata": {},
   "outputs": [],
   "source": [
    "data_df[\"BS\"] = info_results.map(lambda a: a[4] if a is not None else None)"
   ]
  },
  {
   "cell_type": "code",
   "execution_count": 21,
   "id": "6a3e6d34-27f0-4db5-9369-648b9df8ef47",
   "metadata": {},
   "outputs": [],
   "source": [
    "data_df = data_df.loc[data_df.Sequence.isna()==False].reset_index(drop=True)\n",
    "data_df = data_df.loc[data_df.Chain != \" \"].reset_index(drop=True)"
   ]
  },
  {
   "cell_type": "code",
   "execution_count": 22,
   "id": "1b9d8ace-2fc6-4122-a4bb-0c5b140acd47",
   "metadata": {},
   "outputs": [
    {
     "data": {
      "text/html": [
       "<div>\n",
       "<style scoped>\n",
       "    .dataframe tbody tr th:only-of-type {\n",
       "        vertical-align: middle;\n",
       "    }\n",
       "\n",
       "    .dataframe tbody tr th {\n",
       "        vertical-align: top;\n",
       "    }\n",
       "\n",
       "    .dataframe thead th {\n",
       "        text-align: right;\n",
       "    }\n",
       "</style>\n",
       "<table border=\"1\" class=\"dataframe\">\n",
       "  <thead>\n",
       "    <tr style=\"text-align: right;\">\n",
       "      <th></th>\n",
       "      <th>PDB</th>\n",
       "      <th>Chain</th>\n",
       "      <th>Sequence</th>\n",
       "      <th>Total_seq_lengths</th>\n",
       "      <th>Chain_seq_lengths</th>\n",
       "      <th>BS</th>\n",
       "    </tr>\n",
       "  </thead>\n",
       "  <tbody>\n",
       "    <tr>\n",
       "      <th>0</th>\n",
       "      <td>3cl0</td>\n",
       "      <td>A,B,C,D</td>\n",
       "      <td>VKLAGNSSLCPINGWAVYSKDNSIRIGSKGDVFVIREPFISCSHLE...</td>\n",
       "      <td>1540</td>\n",
       "      <td>385,385,385,385</td>\n",
       "      <td>35,36,51,53,66,67,68,69,70,73,96,97,98,112,116...</td>\n",
       "    </tr>\n",
       "    <tr>\n",
       "      <th>1</th>\n",
       "      <td>4u73</td>\n",
       "      <td>A</td>\n",
       "      <td>YRYTGKLRPHYPLMPTRPVPSYIQRPDYADHPLGMSESEQALKGTS...</td>\n",
       "      <td>304</td>\n",
       "      <td>304</td>\n",
       "      <td>27,100,101,102,103,104,105,106,108,110,111,112...</td>\n",
       "    </tr>\n",
       "    <tr>\n",
       "      <th>2</th>\n",
       "      <td>2b7d</td>\n",
       "      <td>L,H,T</td>\n",
       "      <td>QCASSPCQNGGSCKDQLQSYICFCLPAFEGRNCETHKDDQLICVNE...</td>\n",
       "      <td>497</td>\n",
       "      <td>94,254,149</td>\n",
       "      <td>94,95,117,118,119,120,132,133,134,135,136,137,...</td>\n",
       "    </tr>\n",
       "    <tr>\n",
       "      <th>3</th>\n",
       "      <td>5am6</td>\n",
       "      <td>A</td>\n",
       "      <td>VAGVSEYELPEDPRWELPRDRLVLGKPLGEGQVVLAEAIGLDKDKP...</td>\n",
       "      <td>295</td>\n",
       "      <td>295</td>\n",
       "      <td>25,26,27,28,29,31,32,33,34,35,50,51,52,53,54,7...</td>\n",
       "    </tr>\n",
       "    <tr>\n",
       "      <th>4</th>\n",
       "      <td>4pop</td>\n",
       "      <td>A</td>\n",
       "      <td>FNVRLLTEIAFMAALAFIISLIPNTVYGWIIVEIACIPILLLSLRR...</td>\n",
       "      <td>177</td>\n",
       "      <td>177</td>\n",
       "      <td>23,27,28,29,30,32,35,57,61,66,67,68,69,70,74,7...</td>\n",
       "    </tr>\n",
       "    <tr>\n",
       "      <th>...</th>\n",
       "      <td>...</td>\n",
       "      <td>...</td>\n",
       "      <td>...</td>\n",
       "      <td>...</td>\n",
       "      <td>...</td>\n",
       "      <td>...</td>\n",
       "    </tr>\n",
       "    <tr>\n",
       "      <th>995</th>\n",
       "      <td>4d8z</td>\n",
       "      <td>A,B</td>\n",
       "      <td>KWDYDLRCGEYTLNLNEKTLIMGILNTPDSFSDGGSYNEVDAAVRH...</td>\n",
       "      <td>526</td>\n",
       "      <td>263,263</td>\n",
       "      <td>21,23,24,58,60,87,88,89,90,107,108,109,110,111...</td>\n",
       "    </tr>\n",
       "    <tr>\n",
       "      <th>996</th>\n",
       "      <td>3k5i</td>\n",
       "      <td>A,B</td>\n",
       "      <td>MWNSRKVGVLGGGQLGRMLVESANRLNIQVNVLDADNSPAKQISAH...</td>\n",
       "      <td>757</td>\n",
       "      <td>381,376</td>\n",
       "      <td>390,391,392,393,394,395,396,397,398,399,414,41...</td>\n",
       "    </tr>\n",
       "    <tr>\n",
       "      <th>997</th>\n",
       "      <td>3hl7</td>\n",
       "      <td>A</td>\n",
       "      <td>PTFYRQELNKTIWEVPERYQNLSPVGSGAYGSVCAAFDTKTGLRVA...</td>\n",
       "      <td>336</td>\n",
       "      <td>336</td>\n",
       "      <td>23,24,25,26,27,28,29,30,31,32,33,34,35,43,44,4...</td>\n",
       "    </tr>\n",
       "    <tr>\n",
       "      <th>998</th>\n",
       "      <td>1qyg</td>\n",
       "      <td>L,H</td>\n",
       "      <td>DIVMTQAAPSVPVTPGESVSISCRSSKSLLHSNGYTYLHWFLQRPG...</td>\n",
       "      <td>438</td>\n",
       "      <td>218,220</td>\n",
       "      <td>28,30,31,32,34,35,36,38,54,93,94,95,96,97,98,1...</td>\n",
       "    </tr>\n",
       "    <tr>\n",
       "      <th>999</th>\n",
       "      <td>4na9</td>\n",
       "      <td>H,L</td>\n",
       "      <td>IVGGKVCPKGECPWQVLLLVNGAQLCGGTLINTIWVVSAAHCFDKI...</td>\n",
       "      <td>309</td>\n",
       "      <td>254,55</td>\n",
       "      <td>0,1,23,24,25,26,38,39,40,41,42,43,44,81,83,84,...</td>\n",
       "    </tr>\n",
       "  </tbody>\n",
       "</table>\n",
       "<p>1000 rows × 6 columns</p>\n",
       "</div>"
      ],
      "text/plain": [
       "      PDB    Chain                                           Sequence  \\\n",
       "0    3cl0  A,B,C,D  VKLAGNSSLCPINGWAVYSKDNSIRIGSKGDVFVIREPFISCSHLE...   \n",
       "1    4u73        A  YRYTGKLRPHYPLMPTRPVPSYIQRPDYADHPLGMSESEQALKGTS...   \n",
       "2    2b7d    L,H,T  QCASSPCQNGGSCKDQLQSYICFCLPAFEGRNCETHKDDQLICVNE...   \n",
       "3    5am6        A  VAGVSEYELPEDPRWELPRDRLVLGKPLGEGQVVLAEAIGLDKDKP...   \n",
       "4    4pop        A  FNVRLLTEIAFMAALAFIISLIPNTVYGWIIVEIACIPILLLSLRR...   \n",
       "..    ...      ...                                                ...   \n",
       "995  4d8z      A,B  KWDYDLRCGEYTLNLNEKTLIMGILNTPDSFSDGGSYNEVDAAVRH...   \n",
       "996  3k5i      A,B  MWNSRKVGVLGGGQLGRMLVESANRLNIQVNVLDADNSPAKQISAH...   \n",
       "997  3hl7        A  PTFYRQELNKTIWEVPERYQNLSPVGSGAYGSVCAAFDTKTGLRVA...   \n",
       "998  1qyg      L,H  DIVMTQAAPSVPVTPGESVSISCRSSKSLLHSNGYTYLHWFLQRPG...   \n",
       "999  4na9      H,L  IVGGKVCPKGECPWQVLLLVNGAQLCGGTLINTIWVVSAAHCFDKI...   \n",
       "\n",
       "     Total_seq_lengths Chain_seq_lengths  \\\n",
       "0                 1540   385,385,385,385   \n",
       "1                  304               304   \n",
       "2                  497        94,254,149   \n",
       "3                  295               295   \n",
       "4                  177               177   \n",
       "..                 ...               ...   \n",
       "995                526           263,263   \n",
       "996                757           381,376   \n",
       "997                336               336   \n",
       "998                438           218,220   \n",
       "999                309            254,55   \n",
       "\n",
       "                                                    BS  \n",
       "0    35,36,51,53,66,67,68,69,70,73,96,97,98,112,116...  \n",
       "1    27,100,101,102,103,104,105,106,108,110,111,112...  \n",
       "2    94,95,117,118,119,120,132,133,134,135,136,137,...  \n",
       "3    25,26,27,28,29,31,32,33,34,35,50,51,52,53,54,7...  \n",
       "4    23,27,28,29,30,32,35,57,61,66,67,68,69,70,74,7...  \n",
       "..                                                 ...  \n",
       "995  21,23,24,58,60,87,88,89,90,107,108,109,110,111...  \n",
       "996  390,391,392,393,394,395,396,397,398,399,414,41...  \n",
       "997  23,24,25,26,27,28,29,30,31,32,33,34,35,43,44,4...  \n",
       "998  28,30,31,32,34,35,36,38,54,93,94,95,96,97,98,1...  \n",
       "999  0,1,23,24,25,26,38,39,40,41,42,43,44,81,83,84,...  \n",
       "\n",
       "[1000 rows x 6 columns]"
      ]
     },
     "execution_count": 22,
     "metadata": {},
     "output_type": "execute_result"
    }
   ],
   "source": [
    "data_df"
   ]
  },
  {
   "cell_type": "code",
   "execution_count": 23,
   "id": "18c01b36-fdfb-472d-975d-559dd9beb4ef",
   "metadata": {},
   "outputs": [
    {
     "name": "stdout",
     "output_type": "stream",
     "text": [
      "✅ Saved parsed affinities to /workspace/binding_affinity/datasets/validation2016/validation2016_Afinity.csv\n"
     ]
    }
   ],
   "source": [
    "import pandas as pd\n",
    "import re\n",
    "from math import log10\n",
    "\n",
    "core_path = \"/workspace/datasets/PDBbind2016/index/INDEX_refined_data.2016\"\n",
    "out_csv   = \"/workspace/binding_affinity/datasets/validation2016/validation2016_Afinity.csv\"\n",
    "\n",
    "def to_nM(value: float, unit: str) -> float:\n",
    "    u = unit.lower()\n",
    "    if u == \"pm\":  return value * 1e-3\n",
    "    if u == \"nm\":  return value\n",
    "    if u == \"um\":  return value * 1e3\n",
    "    if u == \"mm\":  return value * 1e6\n",
    "    if u == \"m\":   return value * 1e9\n",
    "    return None\n",
    "\n",
    "pat_meas = re.compile(r\"(Ki|Kd|IC50)=([0-9]*\\.?[0-9]+)(pM|nM|uM|mM|M)\", re.IGNORECASE)\n",
    "\n",
    "rows = []\n",
    "with open(core_path) as f:\n",
    "    for line in f:\n",
    "        if line.startswith(\"#\") or not line.strip():\n",
    "            continue\n",
    "        parts = line.split()\n",
    "        pdb_id = parts[0]\n",
    "        logKa  = float(parts[3]) \n",
    "        Ka_str = parts[4]\n",
    "\n",
    "        affinity_nM, pAff = None, None\n",
    "        m = pat_meas.search(Ka_str)\n",
    "        if m:\n",
    "            val, unit = float(m.group(2)), m.group(3)\n",
    "            affinity_nM = to_nM(val, unit)\n",
    "            if affinity_nM:\n",
    "                pAff = 9 - log10(affinity_nM)\n",
    "\n",
    "        rows.append((pdb_id, affinity_nM, pAff, logKa))\n",
    "\n",
    "df_aff = pd.DataFrame(rows, columns=[\"PDB\", \"Affinity_nM\", \"pAff\", \"loaKa\"])\n",
    "\n",
    "df_aff.to_csv(out_csv, index=False)\n",
    "print(f\"✅ Saved parsed affinities to {out_csv}\")\n",
    "df_aff.head()\n",
    "\n",
    "df_aff = df_aff.where(pd.notnull(df_aff), None)\n"
   ]
  },
  {
   "cell_type": "code",
   "execution_count": 24,
   "id": "8fd9d1c4-8c55-45b7-a284-558c667c0fe8",
   "metadata": {},
   "outputs": [],
   "source": [
    "data_df = pd.merge(data_df, df_aff, on=\"PDB\", how=\"inner\")"
   ]
  },
  {
   "cell_type": "code",
   "execution_count": 25,
   "id": "bbe2e305-b895-4999-8f3c-c0c37d8224a8",
   "metadata": {},
   "outputs": [
    {
     "data": {
      "text/html": [
       "<div>\n",
       "<style scoped>\n",
       "    .dataframe tbody tr th:only-of-type {\n",
       "        vertical-align: middle;\n",
       "    }\n",
       "\n",
       "    .dataframe tbody tr th {\n",
       "        vertical-align: top;\n",
       "    }\n",
       "\n",
       "    .dataframe thead th {\n",
       "        text-align: right;\n",
       "    }\n",
       "</style>\n",
       "<table border=\"1\" class=\"dataframe\">\n",
       "  <thead>\n",
       "    <tr style=\"text-align: right;\">\n",
       "      <th></th>\n",
       "      <th>PDB</th>\n",
       "      <th>Chain</th>\n",
       "      <th>Sequence</th>\n",
       "      <th>Total_seq_lengths</th>\n",
       "      <th>Chain_seq_lengths</th>\n",
       "      <th>BS</th>\n",
       "      <th>Affinity_nM</th>\n",
       "      <th>pAff</th>\n",
       "      <th>loaKa</th>\n",
       "    </tr>\n",
       "  </thead>\n",
       "  <tbody>\n",
       "    <tr>\n",
       "      <th>0</th>\n",
       "      <td>3cl0</td>\n",
       "      <td>A,B,C,D</td>\n",
       "      <td>VKLAGNSSLCPINGWAVYSKDNSIRIGSKGDVFVIREPFISCSHLE...</td>\n",
       "      <td>1540</td>\n",
       "      <td>385,385,385,385</td>\n",
       "      <td>35,36,51,53,66,67,68,69,70,73,96,97,98,112,116...</td>\n",
       "      <td>84.80</td>\n",
       "      <td>7.071604</td>\n",
       "      <td>7.07</td>\n",
       "    </tr>\n",
       "    <tr>\n",
       "      <th>1</th>\n",
       "      <td>4u73</td>\n",
       "      <td>A</td>\n",
       "      <td>YRYTGKLRPHYPLMPTRPVPSYIQRPDYADHPLGMSESEQALKGTS...</td>\n",
       "      <td>304</td>\n",
       "      <td>304</td>\n",
       "      <td>27,100,101,102,103,104,105,106,108,110,111,112...</td>\n",
       "      <td>6600.00</td>\n",
       "      <td>5.180456</td>\n",
       "      <td>5.18</td>\n",
       "    </tr>\n",
       "    <tr>\n",
       "      <th>2</th>\n",
       "      <td>2b7d</td>\n",
       "      <td>L,H,T</td>\n",
       "      <td>QCASSPCQNGGSCKDQLQSYICFCLPAFEGRNCETHKDDQLICVNE...</td>\n",
       "      <td>497</td>\n",
       "      <td>94,254,149</td>\n",
       "      <td>94,95,117,118,119,120,132,133,134,135,136,137,...</td>\n",
       "      <td>2.00</td>\n",
       "      <td>8.698970</td>\n",
       "      <td>8.70</td>\n",
       "    </tr>\n",
       "    <tr>\n",
       "      <th>3</th>\n",
       "      <td>5am6</td>\n",
       "      <td>A</td>\n",
       "      <td>VAGVSEYELPEDPRWELPRDRLVLGKPLGEGQVVLAEAIGLDKDKP...</td>\n",
       "      <td>295</td>\n",
       "      <td>295</td>\n",
       "      <td>25,26,27,28,29,31,32,33,34,35,50,51,52,53,54,7...</td>\n",
       "      <td>185.00</td>\n",
       "      <td>6.732828</td>\n",
       "      <td>6.73</td>\n",
       "    </tr>\n",
       "    <tr>\n",
       "      <th>4</th>\n",
       "      <td>4pop</td>\n",
       "      <td>A</td>\n",
       "      <td>FNVRLLTEIAFMAALAFIISLIPNTVYGWIIVEIACIPILLLSLRR...</td>\n",
       "      <td>177</td>\n",
       "      <td>177</td>\n",
       "      <td>23,27,28,29,30,32,35,57,61,66,67,68,69,70,74,7...</td>\n",
       "      <td>7.44</td>\n",
       "      <td>8.128427</td>\n",
       "      <td>8.13</td>\n",
       "    </tr>\n",
       "    <tr>\n",
       "      <th>...</th>\n",
       "      <td>...</td>\n",
       "      <td>...</td>\n",
       "      <td>...</td>\n",
       "      <td>...</td>\n",
       "      <td>...</td>\n",
       "      <td>...</td>\n",
       "      <td>...</td>\n",
       "      <td>...</td>\n",
       "      <td>...</td>\n",
       "    </tr>\n",
       "    <tr>\n",
       "      <th>995</th>\n",
       "      <td>4d8z</td>\n",
       "      <td>A,B</td>\n",
       "      <td>KWDYDLRCGEYTLNLNEKTLIMGILNTPDSFSDGGSYNEVDAAVRH...</td>\n",
       "      <td>526</td>\n",
       "      <td>263,263</td>\n",
       "      <td>21,23,24,58,60,87,88,89,90,107,108,109,110,111...</td>\n",
       "      <td>510.00</td>\n",
       "      <td>6.292430</td>\n",
       "      <td>6.29</td>\n",
       "    </tr>\n",
       "    <tr>\n",
       "      <th>996</th>\n",
       "      <td>3k5i</td>\n",
       "      <td>A,B</td>\n",
       "      <td>MWNSRKVGVLGGGQLGRMLVESANRLNIQVNVLDADNSPAKQISAH...</td>\n",
       "      <td>757</td>\n",
       "      <td>381,376</td>\n",
       "      <td>390,391,392,393,394,395,396,397,398,399,414,41...</td>\n",
       "      <td>20000.00</td>\n",
       "      <td>4.698970</td>\n",
       "      <td>4.70</td>\n",
       "    </tr>\n",
       "    <tr>\n",
       "      <th>997</th>\n",
       "      <td>3hl7</td>\n",
       "      <td>A</td>\n",
       "      <td>PTFYRQELNKTIWEVPERYQNLSPVGSGAYGSVCAAFDTKTGLRVA...</td>\n",
       "      <td>336</td>\n",
       "      <td>336</td>\n",
       "      <td>23,24,25,26,27,28,29,30,31,32,33,34,35,43,44,4...</td>\n",
       "      <td>23.00</td>\n",
       "      <td>7.638272</td>\n",
       "      <td>7.64</td>\n",
       "    </tr>\n",
       "    <tr>\n",
       "      <th>998</th>\n",
       "      <td>1qyg</td>\n",
       "      <td>L,H</td>\n",
       "      <td>DIVMTQAAPSVPVTPGESVSISCRSSKSLLHSNGYTYLHWFLQRPG...</td>\n",
       "      <td>438</td>\n",
       "      <td>218,220</td>\n",
       "      <td>28,30,31,32,34,35,36,38,54,93,94,95,96,97,98,1...</td>\n",
       "      <td>140.00</td>\n",
       "      <td>6.853872</td>\n",
       "      <td>6.85</td>\n",
       "    </tr>\n",
       "    <tr>\n",
       "      <th>999</th>\n",
       "      <td>4na9</td>\n",
       "      <td>H,L</td>\n",
       "      <td>IVGGKVCPKGECPWQVLLLVNGAQLCGGTLINTIWVVSAAHCFDKI...</td>\n",
       "      <td>309</td>\n",
       "      <td>254,55</td>\n",
       "      <td>0,1,23,24,25,26,38,39,40,41,42,43,44,81,83,84,...</td>\n",
       "      <td>41.00</td>\n",
       "      <td>7.387216</td>\n",
       "      <td>7.39</td>\n",
       "    </tr>\n",
       "  </tbody>\n",
       "</table>\n",
       "<p>1000 rows × 9 columns</p>\n",
       "</div>"
      ],
      "text/plain": [
       "      PDB    Chain                                           Sequence  \\\n",
       "0    3cl0  A,B,C,D  VKLAGNSSLCPINGWAVYSKDNSIRIGSKGDVFVIREPFISCSHLE...   \n",
       "1    4u73        A  YRYTGKLRPHYPLMPTRPVPSYIQRPDYADHPLGMSESEQALKGTS...   \n",
       "2    2b7d    L,H,T  QCASSPCQNGGSCKDQLQSYICFCLPAFEGRNCETHKDDQLICVNE...   \n",
       "3    5am6        A  VAGVSEYELPEDPRWELPRDRLVLGKPLGEGQVVLAEAIGLDKDKP...   \n",
       "4    4pop        A  FNVRLLTEIAFMAALAFIISLIPNTVYGWIIVEIACIPILLLSLRR...   \n",
       "..    ...      ...                                                ...   \n",
       "995  4d8z      A,B  KWDYDLRCGEYTLNLNEKTLIMGILNTPDSFSDGGSYNEVDAAVRH...   \n",
       "996  3k5i      A,B  MWNSRKVGVLGGGQLGRMLVESANRLNIQVNVLDADNSPAKQISAH...   \n",
       "997  3hl7        A  PTFYRQELNKTIWEVPERYQNLSPVGSGAYGSVCAAFDTKTGLRVA...   \n",
       "998  1qyg      L,H  DIVMTQAAPSVPVTPGESVSISCRSSKSLLHSNGYTYLHWFLQRPG...   \n",
       "999  4na9      H,L  IVGGKVCPKGECPWQVLLLVNGAQLCGGTLINTIWVVSAAHCFDKI...   \n",
       "\n",
       "     Total_seq_lengths Chain_seq_lengths  \\\n",
       "0                 1540   385,385,385,385   \n",
       "1                  304               304   \n",
       "2                  497        94,254,149   \n",
       "3                  295               295   \n",
       "4                  177               177   \n",
       "..                 ...               ...   \n",
       "995                526           263,263   \n",
       "996                757           381,376   \n",
       "997                336               336   \n",
       "998                438           218,220   \n",
       "999                309            254,55   \n",
       "\n",
       "                                                    BS  Affinity_nM      pAff  \\\n",
       "0    35,36,51,53,66,67,68,69,70,73,96,97,98,112,116...        84.80  7.071604   \n",
       "1    27,100,101,102,103,104,105,106,108,110,111,112...      6600.00  5.180456   \n",
       "2    94,95,117,118,119,120,132,133,134,135,136,137,...         2.00  8.698970   \n",
       "3    25,26,27,28,29,31,32,33,34,35,50,51,52,53,54,7...       185.00  6.732828   \n",
       "4    23,27,28,29,30,32,35,57,61,66,67,68,69,70,74,7...         7.44  8.128427   \n",
       "..                                                 ...          ...       ...   \n",
       "995  21,23,24,58,60,87,88,89,90,107,108,109,110,111...       510.00  6.292430   \n",
       "996  390,391,392,393,394,395,396,397,398,399,414,41...     20000.00  4.698970   \n",
       "997  23,24,25,26,27,28,29,30,31,32,33,34,35,43,44,4...        23.00  7.638272   \n",
       "998  28,30,31,32,34,35,36,38,54,93,94,95,96,97,98,1...       140.00  6.853872   \n",
       "999  0,1,23,24,25,26,38,39,40,41,42,43,44,81,83,84,...        41.00  7.387216   \n",
       "\n",
       "     loaKa  \n",
       "0     7.07  \n",
       "1     5.18  \n",
       "2     8.70  \n",
       "3     6.73  \n",
       "4     8.13  \n",
       "..     ...  \n",
       "995   6.29  \n",
       "996   4.70  \n",
       "997   7.64  \n",
       "998   6.85  \n",
       "999   7.39  \n",
       "\n",
       "[1000 rows x 9 columns]"
      ]
     },
     "execution_count": 25,
     "metadata": {},
     "output_type": "execute_result"
    }
   ],
   "source": [
    "data_df"
   ]
  },
  {
   "cell_type": "code",
   "execution_count": 26,
   "id": "6a4f866e-b8e5-460f-9c27-d2194ed73b47",
   "metadata": {},
   "outputs": [],
   "source": [
    "lengths = data_df.Total_seq_lengths.values"
   ]
  },
  {
   "cell_type": "code",
   "execution_count": 27,
   "id": "5acad1eb-8a1b-4418-ae15-fe9b0c1b32ca",
   "metadata": {},
   "outputs": [
    {
     "data": {
      "text/html": [
       "<div>\n",
       "<style scoped>\n",
       "    .dataframe tbody tr th:only-of-type {\n",
       "        vertical-align: middle;\n",
       "    }\n",
       "\n",
       "    .dataframe tbody tr th {\n",
       "        vertical-align: top;\n",
       "    }\n",
       "\n",
       "    .dataframe thead th {\n",
       "        text-align: right;\n",
       "    }\n",
       "</style>\n",
       "<table border=\"1\" class=\"dataframe\">\n",
       "  <thead>\n",
       "    <tr style=\"text-align: right;\">\n",
       "      <th></th>\n",
       "      <th>PDB</th>\n",
       "      <th>Chain</th>\n",
       "      <th>Sequence</th>\n",
       "      <th>Total_seq_lengths</th>\n",
       "      <th>Chain_seq_lengths</th>\n",
       "      <th>BS</th>\n",
       "      <th>Affinity_nM</th>\n",
       "      <th>pAff</th>\n",
       "      <th>loaKa</th>\n",
       "    </tr>\n",
       "  </thead>\n",
       "  <tbody>\n",
       "    <tr>\n",
       "      <th>0</th>\n",
       "      <td>4u73</td>\n",
       "      <td>A</td>\n",
       "      <td>YRYTGKLRPHYPLMPTRPVPSYIQRPDYADHPLGMSESEQALKGTS...</td>\n",
       "      <td>304</td>\n",
       "      <td>304</td>\n",
       "      <td>27,100,101,102,103,104,105,106,108,110,111,112...</td>\n",
       "      <td>6600.00</td>\n",
       "      <td>5.180456</td>\n",
       "      <td>5.18</td>\n",
       "    </tr>\n",
       "    <tr>\n",
       "      <th>1</th>\n",
       "      <td>2b7d</td>\n",
       "      <td>L,H,T</td>\n",
       "      <td>QCASSPCQNGGSCKDQLQSYICFCLPAFEGRNCETHKDDQLICVNE...</td>\n",
       "      <td>497</td>\n",
       "      <td>94,254,149</td>\n",
       "      <td>94,95,117,118,119,120,132,133,134,135,136,137,...</td>\n",
       "      <td>2.00</td>\n",
       "      <td>8.698970</td>\n",
       "      <td>8.70</td>\n",
       "    </tr>\n",
       "    <tr>\n",
       "      <th>2</th>\n",
       "      <td>5am6</td>\n",
       "      <td>A</td>\n",
       "      <td>VAGVSEYELPEDPRWELPRDRLVLGKPLGEGQVVLAEAIGLDKDKP...</td>\n",
       "      <td>295</td>\n",
       "      <td>295</td>\n",
       "      <td>25,26,27,28,29,31,32,33,34,35,50,51,52,53,54,7...</td>\n",
       "      <td>185.00</td>\n",
       "      <td>6.732828</td>\n",
       "      <td>6.73</td>\n",
       "    </tr>\n",
       "    <tr>\n",
       "      <th>3</th>\n",
       "      <td>4pop</td>\n",
       "      <td>A</td>\n",
       "      <td>FNVRLLTEIAFMAALAFIISLIPNTVYGWIIVEIACIPILLLSLRR...</td>\n",
       "      <td>177</td>\n",
       "      <td>177</td>\n",
       "      <td>23,27,28,29,30,32,35,57,61,66,67,68,69,70,74,7...</td>\n",
       "      <td>7.44</td>\n",
       "      <td>8.128427</td>\n",
       "      <td>8.13</td>\n",
       "    </tr>\n",
       "    <tr>\n",
       "      <th>4</th>\n",
       "      <td>2cbz</td>\n",
       "      <td>A</td>\n",
       "      <td>NSITVRNATFTWARSDPPTLNGITFSIPEGALVAVVGQVGCGKSSL...</td>\n",
       "      <td>231</td>\n",
       "      <td>231</td>\n",
       "      <td>10,11,12,17,18,19,34,35,36,37,38,39,40,41,42,4...</td>\n",
       "      <td>118000.00</td>\n",
       "      <td>3.928118</td>\n",
       "      <td>3.93</td>\n",
       "    </tr>\n",
       "    <tr>\n",
       "      <th>...</th>\n",
       "      <td>...</td>\n",
       "      <td>...</td>\n",
       "      <td>...</td>\n",
       "      <td>...</td>\n",
       "      <td>...</td>\n",
       "      <td>...</td>\n",
       "      <td>...</td>\n",
       "      <td>...</td>\n",
       "      <td>...</td>\n",
       "    </tr>\n",
       "    <tr>\n",
       "      <th>949</th>\n",
       "      <td>4d8z</td>\n",
       "      <td>A,B</td>\n",
       "      <td>KWDYDLRCGEYTLNLNEKTLIMGILNTPDSFSDGGSYNEVDAAVRH...</td>\n",
       "      <td>526</td>\n",
       "      <td>263,263</td>\n",
       "      <td>21,23,24,58,60,87,88,89,90,107,108,109,110,111...</td>\n",
       "      <td>510.00</td>\n",
       "      <td>6.292430</td>\n",
       "      <td>6.29</td>\n",
       "    </tr>\n",
       "    <tr>\n",
       "      <th>950</th>\n",
       "      <td>3k5i</td>\n",
       "      <td>A,B</td>\n",
       "      <td>MWNSRKVGVLGGGQLGRMLVESANRLNIQVNVLDADNSPAKQISAH...</td>\n",
       "      <td>757</td>\n",
       "      <td>381,376</td>\n",
       "      <td>390,391,392,393,394,395,396,397,398,399,414,41...</td>\n",
       "      <td>20000.00</td>\n",
       "      <td>4.698970</td>\n",
       "      <td>4.70</td>\n",
       "    </tr>\n",
       "    <tr>\n",
       "      <th>951</th>\n",
       "      <td>3hl7</td>\n",
       "      <td>A</td>\n",
       "      <td>PTFYRQELNKTIWEVPERYQNLSPVGSGAYGSVCAAFDTKTGLRVA...</td>\n",
       "      <td>336</td>\n",
       "      <td>336</td>\n",
       "      <td>23,24,25,26,27,28,29,30,31,32,33,34,35,43,44,4...</td>\n",
       "      <td>23.00</td>\n",
       "      <td>7.638272</td>\n",
       "      <td>7.64</td>\n",
       "    </tr>\n",
       "    <tr>\n",
       "      <th>952</th>\n",
       "      <td>1qyg</td>\n",
       "      <td>L,H</td>\n",
       "      <td>DIVMTQAAPSVPVTPGESVSISCRSSKSLLHSNGYTYLHWFLQRPG...</td>\n",
       "      <td>438</td>\n",
       "      <td>218,220</td>\n",
       "      <td>28,30,31,32,34,35,36,38,54,93,94,95,96,97,98,1...</td>\n",
       "      <td>140.00</td>\n",
       "      <td>6.853872</td>\n",
       "      <td>6.85</td>\n",
       "    </tr>\n",
       "    <tr>\n",
       "      <th>953</th>\n",
       "      <td>4na9</td>\n",
       "      <td>H,L</td>\n",
       "      <td>IVGGKVCPKGECPWQVLLLVNGAQLCGGTLINTIWVVSAAHCFDKI...</td>\n",
       "      <td>309</td>\n",
       "      <td>254,55</td>\n",
       "      <td>0,1,23,24,25,26,38,39,40,41,42,43,44,81,83,84,...</td>\n",
       "      <td>41.00</td>\n",
       "      <td>7.387216</td>\n",
       "      <td>7.39</td>\n",
       "    </tr>\n",
       "  </tbody>\n",
       "</table>\n",
       "<p>954 rows × 9 columns</p>\n",
       "</div>"
      ],
      "text/plain": [
       "      PDB  Chain                                           Sequence  \\\n",
       "0    4u73      A  YRYTGKLRPHYPLMPTRPVPSYIQRPDYADHPLGMSESEQALKGTS...   \n",
       "1    2b7d  L,H,T  QCASSPCQNGGSCKDQLQSYICFCLPAFEGRNCETHKDDQLICVNE...   \n",
       "2    5am6      A  VAGVSEYELPEDPRWELPRDRLVLGKPLGEGQVVLAEAIGLDKDKP...   \n",
       "3    4pop      A  FNVRLLTEIAFMAALAFIISLIPNTVYGWIIVEIACIPILLLSLRR...   \n",
       "4    2cbz      A  NSITVRNATFTWARSDPPTLNGITFSIPEGALVAVVGQVGCGKSSL...   \n",
       "..    ...    ...                                                ...   \n",
       "949  4d8z    A,B  KWDYDLRCGEYTLNLNEKTLIMGILNTPDSFSDGGSYNEVDAAVRH...   \n",
       "950  3k5i    A,B  MWNSRKVGVLGGGQLGRMLVESANRLNIQVNVLDADNSPAKQISAH...   \n",
       "951  3hl7      A  PTFYRQELNKTIWEVPERYQNLSPVGSGAYGSVCAAFDTKTGLRVA...   \n",
       "952  1qyg    L,H  DIVMTQAAPSVPVTPGESVSISCRSSKSLLHSNGYTYLHWFLQRPG...   \n",
       "953  4na9    H,L  IVGGKVCPKGECPWQVLLLVNGAQLCGGTLINTIWVVSAAHCFDKI...   \n",
       "\n",
       "     Total_seq_lengths Chain_seq_lengths  \\\n",
       "0                  304               304   \n",
       "1                  497        94,254,149   \n",
       "2                  295               295   \n",
       "3                  177               177   \n",
       "4                  231               231   \n",
       "..                 ...               ...   \n",
       "949                526           263,263   \n",
       "950                757           381,376   \n",
       "951                336               336   \n",
       "952                438           218,220   \n",
       "953                309            254,55   \n",
       "\n",
       "                                                    BS  Affinity_nM      pAff  \\\n",
       "0    27,100,101,102,103,104,105,106,108,110,111,112...      6600.00  5.180456   \n",
       "1    94,95,117,118,119,120,132,133,134,135,136,137,...         2.00  8.698970   \n",
       "2    25,26,27,28,29,31,32,33,34,35,50,51,52,53,54,7...       185.00  6.732828   \n",
       "3    23,27,28,29,30,32,35,57,61,66,67,68,69,70,74,7...         7.44  8.128427   \n",
       "4    10,11,12,17,18,19,34,35,36,37,38,39,40,41,42,4...    118000.00  3.928118   \n",
       "..                                                 ...          ...       ...   \n",
       "949  21,23,24,58,60,87,88,89,90,107,108,109,110,111...       510.00  6.292430   \n",
       "950  390,391,392,393,394,395,396,397,398,399,414,41...     20000.00  4.698970   \n",
       "951  23,24,25,26,27,28,29,30,31,32,33,34,35,43,44,4...        23.00  7.638272   \n",
       "952  28,30,31,32,34,35,36,38,54,93,94,95,96,97,98,1...       140.00  6.853872   \n",
       "953  0,1,23,24,25,26,38,39,40,41,42,43,44,81,83,84,...        41.00  7.387216   \n",
       "\n",
       "     loaKa  \n",
       "0     5.18  \n",
       "1     8.70  \n",
       "2     6.73  \n",
       "3     8.13  \n",
       "4     3.93  \n",
       "..     ...  \n",
       "949   6.29  \n",
       "950   4.70  \n",
       "951   7.64  \n",
       "952   6.85  \n",
       "953   7.39  \n",
       "\n",
       "[954 rows x 9 columns]"
      ]
     },
     "execution_count": 27,
     "metadata": {},
     "output_type": "execute_result"
    }
   ],
   "source": [
    "data_df = data_df[lengths <= 1500].reset_index(drop=True)\n",
    "data_df"
   ]
  },
  {
   "cell_type": "code",
   "execution_count": 28,
   "id": "9416de4f-92eb-4f7e-86c7-dbcc682e2eb9",
   "metadata": {},
   "outputs": [
    {
     "data": {
      "text/html": [
       "<div>\n",
       "<style scoped>\n",
       "    .dataframe tbody tr th:only-of-type {\n",
       "        vertical-align: middle;\n",
       "    }\n",
       "\n",
       "    .dataframe tbody tr th {\n",
       "        vertical-align: top;\n",
       "    }\n",
       "\n",
       "    .dataframe thead th {\n",
       "        text-align: right;\n",
       "    }\n",
       "</style>\n",
       "<table border=\"1\" class=\"dataframe\">\n",
       "  <thead>\n",
       "    <tr style=\"text-align: right;\">\n",
       "      <th></th>\n",
       "      <th>PDB</th>\n",
       "      <th>Chain</th>\n",
       "      <th>Sequence</th>\n",
       "      <th>Total_seq_lengths</th>\n",
       "      <th>Chain_seq_lengths</th>\n",
       "      <th>BS</th>\n",
       "      <th>Affinity_nM</th>\n",
       "      <th>pAff</th>\n",
       "      <th>loaKa</th>\n",
       "    </tr>\n",
       "  </thead>\n",
       "  <tbody>\n",
       "    <tr>\n",
       "      <th>0</th>\n",
       "      <td>4u73</td>\n",
       "      <td>A</td>\n",
       "      <td>YRYTGKLRPHYPLMPTRPVPSYIQRPDYADHPLGMSESEQALKGTS...</td>\n",
       "      <td>304</td>\n",
       "      <td>304</td>\n",
       "      <td>27,100,101,102,103,104,105,106,108,110,111,112...</td>\n",
       "      <td>6600.00</td>\n",
       "      <td>5.180456</td>\n",
       "      <td>5.18</td>\n",
       "    </tr>\n",
       "    <tr>\n",
       "      <th>1</th>\n",
       "      <td>2b7d</td>\n",
       "      <td>L,H,T</td>\n",
       "      <td>QCASSPCQNGGSCKDQLQSYICFCLPAFEGRNCETHKDDQLICVNE...</td>\n",
       "      <td>497</td>\n",
       "      <td>94,254,149</td>\n",
       "      <td>94,95,117,118,119,120,132,133,134,135,136,137,...</td>\n",
       "      <td>2.00</td>\n",
       "      <td>8.698970</td>\n",
       "      <td>8.70</td>\n",
       "    </tr>\n",
       "    <tr>\n",
       "      <th>2</th>\n",
       "      <td>5am6</td>\n",
       "      <td>A</td>\n",
       "      <td>VAGVSEYELPEDPRWELPRDRLVLGKPLGEGQVVLAEAIGLDKDKP...</td>\n",
       "      <td>295</td>\n",
       "      <td>295</td>\n",
       "      <td>25,26,27,28,29,31,32,33,34,35,50,51,52,53,54,7...</td>\n",
       "      <td>185.00</td>\n",
       "      <td>6.732828</td>\n",
       "      <td>6.73</td>\n",
       "    </tr>\n",
       "    <tr>\n",
       "      <th>3</th>\n",
       "      <td>4pop</td>\n",
       "      <td>A</td>\n",
       "      <td>FNVRLLTEIAFMAALAFIISLIPNTVYGWIIVEIACIPILLLSLRR...</td>\n",
       "      <td>177</td>\n",
       "      <td>177</td>\n",
       "      <td>23,27,28,29,30,32,35,57,61,66,67,68,69,70,74,7...</td>\n",
       "      <td>7.44</td>\n",
       "      <td>8.128427</td>\n",
       "      <td>8.13</td>\n",
       "    </tr>\n",
       "    <tr>\n",
       "      <th>4</th>\n",
       "      <td>2cbz</td>\n",
       "      <td>A</td>\n",
       "      <td>NSITVRNATFTWARSDPPTLNGITFSIPEGALVAVVGQVGCGKSSL...</td>\n",
       "      <td>231</td>\n",
       "      <td>231</td>\n",
       "      <td>10,11,12,17,18,19,34,35,36,37,38,39,40,41,42,4...</td>\n",
       "      <td>118000.00</td>\n",
       "      <td>3.928118</td>\n",
       "      <td>3.93</td>\n",
       "    </tr>\n",
       "    <tr>\n",
       "      <th>...</th>\n",
       "      <td>...</td>\n",
       "      <td>...</td>\n",
       "      <td>...</td>\n",
       "      <td>...</td>\n",
       "      <td>...</td>\n",
       "      <td>...</td>\n",
       "      <td>...</td>\n",
       "      <td>...</td>\n",
       "      <td>...</td>\n",
       "    </tr>\n",
       "    <tr>\n",
       "      <th>949</th>\n",
       "      <td>4d8z</td>\n",
       "      <td>A,B</td>\n",
       "      <td>KWDYDLRCGEYTLNLNEKTLIMGILNTPDSFSDGGSYNEVDAAVRH...</td>\n",
       "      <td>526</td>\n",
       "      <td>263,263</td>\n",
       "      <td>21,23,24,58,60,87,88,89,90,107,108,109,110,111...</td>\n",
       "      <td>510.00</td>\n",
       "      <td>6.292430</td>\n",
       "      <td>6.29</td>\n",
       "    </tr>\n",
       "    <tr>\n",
       "      <th>950</th>\n",
       "      <td>3k5i</td>\n",
       "      <td>A,B</td>\n",
       "      <td>MWNSRKVGVLGGGQLGRMLVESANRLNIQVNVLDADNSPAKQISAH...</td>\n",
       "      <td>757</td>\n",
       "      <td>381,376</td>\n",
       "      <td>390,391,392,393,394,395,396,397,398,399,414,41...</td>\n",
       "      <td>20000.00</td>\n",
       "      <td>4.698970</td>\n",
       "      <td>4.70</td>\n",
       "    </tr>\n",
       "    <tr>\n",
       "      <th>951</th>\n",
       "      <td>3hl7</td>\n",
       "      <td>A</td>\n",
       "      <td>PTFYRQELNKTIWEVPERYQNLSPVGSGAYGSVCAAFDTKTGLRVA...</td>\n",
       "      <td>336</td>\n",
       "      <td>336</td>\n",
       "      <td>23,24,25,26,27,28,29,30,31,32,33,34,35,43,44,4...</td>\n",
       "      <td>23.00</td>\n",
       "      <td>7.638272</td>\n",
       "      <td>7.64</td>\n",
       "    </tr>\n",
       "    <tr>\n",
       "      <th>952</th>\n",
       "      <td>1qyg</td>\n",
       "      <td>L,H</td>\n",
       "      <td>DIVMTQAAPSVPVTPGESVSISCRSSKSLLHSNGYTYLHWFLQRPG...</td>\n",
       "      <td>438</td>\n",
       "      <td>218,220</td>\n",
       "      <td>28,30,31,32,34,35,36,38,54,93,94,95,96,97,98,1...</td>\n",
       "      <td>140.00</td>\n",
       "      <td>6.853872</td>\n",
       "      <td>6.85</td>\n",
       "    </tr>\n",
       "    <tr>\n",
       "      <th>953</th>\n",
       "      <td>4na9</td>\n",
       "      <td>H,L</td>\n",
       "      <td>IVGGKVCPKGECPWQVLLLVNGAQLCGGTLINTIWVVSAAHCFDKI...</td>\n",
       "      <td>309</td>\n",
       "      <td>254,55</td>\n",
       "      <td>0,1,23,24,25,26,38,39,40,41,42,43,44,81,83,84,...</td>\n",
       "      <td>41.00</td>\n",
       "      <td>7.387216</td>\n",
       "      <td>7.39</td>\n",
       "    </tr>\n",
       "  </tbody>\n",
       "</table>\n",
       "<p>954 rows × 9 columns</p>\n",
       "</div>"
      ],
      "text/plain": [
       "      PDB  Chain                                           Sequence  \\\n",
       "0    4u73      A  YRYTGKLRPHYPLMPTRPVPSYIQRPDYADHPLGMSESEQALKGTS...   \n",
       "1    2b7d  L,H,T  QCASSPCQNGGSCKDQLQSYICFCLPAFEGRNCETHKDDQLICVNE...   \n",
       "2    5am6      A  VAGVSEYELPEDPRWELPRDRLVLGKPLGEGQVVLAEAIGLDKDKP...   \n",
       "3    4pop      A  FNVRLLTEIAFMAALAFIISLIPNTVYGWIIVEIACIPILLLSLRR...   \n",
       "4    2cbz      A  NSITVRNATFTWARSDPPTLNGITFSIPEGALVAVVGQVGCGKSSL...   \n",
       "..    ...    ...                                                ...   \n",
       "949  4d8z    A,B  KWDYDLRCGEYTLNLNEKTLIMGILNTPDSFSDGGSYNEVDAAVRH...   \n",
       "950  3k5i    A,B  MWNSRKVGVLGGGQLGRMLVESANRLNIQVNVLDADNSPAKQISAH...   \n",
       "951  3hl7      A  PTFYRQELNKTIWEVPERYQNLSPVGSGAYGSVCAAFDTKTGLRVA...   \n",
       "952  1qyg    L,H  DIVMTQAAPSVPVTPGESVSISCRSSKSLLHSNGYTYLHWFLQRPG...   \n",
       "953  4na9    H,L  IVGGKVCPKGECPWQVLLLVNGAQLCGGTLINTIWVVSAAHCFDKI...   \n",
       "\n",
       "     Total_seq_lengths Chain_seq_lengths  \\\n",
       "0                  304               304   \n",
       "1                  497        94,254,149   \n",
       "2                  295               295   \n",
       "3                  177               177   \n",
       "4                  231               231   \n",
       "..                 ...               ...   \n",
       "949                526           263,263   \n",
       "950                757           381,376   \n",
       "951                336               336   \n",
       "952                438           218,220   \n",
       "953                309            254,55   \n",
       "\n",
       "                                                    BS  Affinity_nM      pAff  \\\n",
       "0    27,100,101,102,103,104,105,106,108,110,111,112...      6600.00  5.180456   \n",
       "1    94,95,117,118,119,120,132,133,134,135,136,137,...         2.00  8.698970   \n",
       "2    25,26,27,28,29,31,32,33,34,35,50,51,52,53,54,7...       185.00  6.732828   \n",
       "3    23,27,28,29,30,32,35,57,61,66,67,68,69,70,74,7...         7.44  8.128427   \n",
       "4    10,11,12,17,18,19,34,35,36,37,38,39,40,41,42,4...    118000.00  3.928118   \n",
       "..                                                 ...          ...       ...   \n",
       "949  21,23,24,58,60,87,88,89,90,107,108,109,110,111...       510.00  6.292430   \n",
       "950  390,391,392,393,394,395,396,397,398,399,414,41...     20000.00  4.698970   \n",
       "951  23,24,25,26,27,28,29,30,31,32,33,34,35,43,44,4...        23.00  7.638272   \n",
       "952  28,30,31,32,34,35,36,38,54,93,94,95,96,97,98,1...       140.00  6.853872   \n",
       "953  0,1,23,24,25,26,38,39,40,41,42,43,44,81,83,84,...        41.00  7.387216   \n",
       "\n",
       "     loaKa  \n",
       "0     5.18  \n",
       "1     8.70  \n",
       "2     6.73  \n",
       "3     8.13  \n",
       "4     3.93  \n",
       "..     ...  \n",
       "949   6.29  \n",
       "950   4.70  \n",
       "951   7.64  \n",
       "952   6.85  \n",
       "953   7.39  \n",
       "\n",
       "[954 rows x 9 columns]"
      ]
     },
     "execution_count": 28,
     "metadata": {},
     "output_type": "execute_result"
    }
   ],
   "source": [
    "data_df = data_df[data_df[\"BS\"] != \"\"].reset_index(drop=True)\n",
    "data_df"
   ]
  },
  {
   "cell_type": "code",
   "execution_count": 29,
   "id": "a402cb5d-0e9b-4c28-9521-1ad7d7ed1f6f",
   "metadata": {},
   "outputs": [],
   "source": [
    "def convert_smiles(row):\n",
    "    pdb = row.PDB\n",
    "    \n",
    "    mol = f\"{pdb_path}/{pdb}/{pdb}_ligand.mol2\"\n",
    "    command = f'obabel -imol2 \"{mol}\" -osmi -xC | obabel -ismi -osmi -xk -O tmp.smi'\n",
    "    os.system(command)\n",
    "    \n",
    "    smiles = read_file(open(\"tmp.smi\"))[0].split('\\t')[0].strip()\n",
    "    \n",
    "    try:\n",
    "        smiles = MolToSmiles(MolFromSmiles(smiles),isomericSmiles = False, kekuleSmiles = True)\n",
    "        return smiles\n",
    "    \n",
    "    except Exception as e:\n",
    "        print(pdb, e)\n",
    "        return None"
   ]
  },
  {
   "cell_type": "code",
   "execution_count": 30,
   "id": "ca9bcbe4-3846-44f0-a4b0-ad080d6ada7d",
   "metadata": {},
   "outputs": [],
   "source": [
    "def read_file(file):\n",
    "    return [i.strip() for i in file.readlines()]"
   ]
  },
  {
   "cell_type": "code",
   "execution_count": 31,
   "id": "33c3e45b-513c-445c-8db8-0ec235d43ce0",
   "metadata": {},
   "outputs": [
    {
     "name": "stderr",
     "output_type": "stream",
     "text": [
      "==============================\n",
      "*** Open Babel Warning  in ReadMolecule\n",
      "  Failed to kekulize aromatic bonds in MOL2 file (title is 4u73_ligand)\n",
      "\n",
      "1 molecule converted\n",
      "==============================\n",
      "*** Open Babel Warning  in ParseSmiles\n",
      "  Failed to kekulize aromatic SMILES (title is 4u73_ligand)\n",
      "\n",
      "1 molecule converted\n",
      "==============================\n",
      "*** Open Babel Warning  in ReadMolecule\n",
      "  Failed to kekulize aromatic bonds in MOL2 file (title is 2b7d_ligand)\n",
      "\n",
      "1 molecule converted\n",
      "==============================\n",
      "*** Open Babel Warning  in ParseSmiles\n",
      "  Failed to kekulize aromatic SMILES (title is 2b7d_ligand)\n",
      "\n",
      "1 molecule converted\n",
      "1 molecule converted\n",
      "1 molecule converted\n",
      "1 molecule converted\n",
      "1 molecule converted\n",
      "==============================\n",
      "*** Open Babel Warning  in ReadMolecule\n",
      "  Failed to kekulize aromatic bonds in MOL2 file (title is 2cbz_ligand)\n",
      "\n",
      "1 molecule converted\n",
      "==============================\n",
      "*** Open Babel Warning  in ParseSmiles\n",
      "  Failed to kekulize aromatic SMILES (title is 2cbz_ligand)\n",
      "\n",
      "1 molecule converted\n",
      "1 molecule converted\n",
      "1 molecule converted\n",
      "==============================\n",
      "*** Open Babel Warning  in ReadMolecule\n",
      "  Failed to kekulize aromatic bonds in MOL2 file (title is 2hnc_ligand)\n",
      "\n",
      "1 molecule converted\n",
      "==============================\n",
      "*** Open Babel Warning  in ParseSmiles\n",
      "  Failed to kekulize aromatic SMILES (title is 2hnc_ligand)\n",
      "\n",
      "1 molecule converted\n",
      "1 molecule converted\n",
      "1 molecule converted\n",
      "1 molecule converted\n",
      "1 molecule converted\n",
      "1 molecule converted\n",
      "1 molecule converted\n",
      "1 molecule converted\n",
      "1 molecule converted\n",
      "1 molecule converted\n",
      "1 molecule converted\n",
      "==============================\n",
      "*** Open Babel Warning  in ReadMolecule\n",
      "  Failed to kekulize aromatic bonds in MOL2 file (title is 1lpz_ligand)\n",
      "\n",
      "1 molecule converted\n",
      "==============================\n",
      "*** Open Babel Warning  in ParseSmiles\n",
      "  Failed to kekulize aromatic SMILES (title is 1lpz_ligand)\n",
      "\n",
      "1 molecule converted\n",
      "1 molecule converted\n",
      "1 molecule converted\n",
      "1 molecule converted\n",
      "1 molecule converted\n",
      "1 molecule converted\n",
      "1 molecule converted\n",
      "1 molecule converted\n",
      "1 molecule converted\n",
      "1 molecule converted\n",
      "1 molecule converted\n",
      "1 molecule converted\n",
      "1 molecule converted\n",
      "==============================\n",
      "*** Open Babel Warning  in ReadMolecule\n",
      "  Failed to kekulize aromatic bonds in MOL2 file (title is 2ypi_ligand)\n",
      "\n",
      "1 molecule converted\n",
      "==============================\n",
      "*** Open Babel Warning  in ParseSmiles\n",
      "  Failed to kekulize aromatic SMILES (title is 2ypi_ligand)\n",
      "\n",
      "1 molecule converted\n",
      "1 molecule converted\n",
      "1 molecule converted\n",
      "1 molecule converted\n",
      "1 molecule converted\n",
      "1 molecule converted\n",
      "1 molecule converted\n",
      "==============================\n",
      "*** Open Babel Warning  in ReadMolecule\n",
      "  Failed to kekulize aromatic bonds in MOL2 file (title is 2wqp_ligand)\n",
      "\n",
      "1 molecule converted\n",
      "==============================\n",
      "*** Open Babel Warning  in ParseSmiles\n",
      "  Failed to kekulize aromatic SMILES (title is 2wqp_ligand)\n",
      "\n",
      "1 molecule converted\n",
      "1 molecule converted\n",
      "1 molecule converted\n",
      "1 molecule converted\n",
      "1 molecule converted\n",
      "1 molecule converted\n",
      "1 molecule converted\n",
      "1 molecule converted\n",
      "1 molecule converted\n",
      "1 molecule converted\n",
      "1 molecule converted\n",
      "1 molecule converted\n",
      "1 molecule converted\n",
      "1 molecule converted\n",
      "1 molecule converted\n",
      "==============================\n",
      "*** Open Babel Warning  in ReadMolecule\n",
      "  Failed to kekulize aromatic bonds in MOL2 file (title is 1a4w_ligand)\n",
      "\n",
      "1 molecule converted\n",
      "==============================\n",
      "*** Open Babel Warning  in ParseSmiles\n",
      "  Failed to kekulize aromatic SMILES (title is 1a4w_ligand)\n",
      "\n",
      "1 molecule converted\n",
      "1 molecule converted\n",
      "1 molecule converted\n",
      "1 molecule converted\n",
      "1 molecule converted\n",
      "1 molecule converted\n",
      "1 molecule converted\n",
      "1 molecule converted\n",
      "1 molecule converted\n",
      "1 molecule converted\n",
      "1 molecule converted\n",
      "1 molecule converted\n",
      "1 molecule converted\n",
      "1 molecule converted\n",
      "1 molecule converted\n",
      "1 molecule converted\n",
      "1 molecule converted\n",
      "==============================\n",
      "*** Open Babel Warning  in ReadMolecule\n",
      "  Failed to kekulize aromatic bonds in MOL2 file (title is 1vzq_ligand)\n",
      "\n",
      "1 molecule converted\n",
      "==============================\n",
      "*** Open Babel Warning  in ParseSmiles\n",
      "  Failed to kekulize aromatic SMILES (title is 1vzq_ligand)\n",
      "\n",
      "1 molecule converted\n",
      "1 molecule converted\n",
      "1 molecule converted\n",
      "1 molecule converted\n",
      "1 molecule converted\n",
      "==============================\n",
      "*** Open Babel Warning  in ReadMolecule\n",
      "  Failed to kekulize aromatic bonds in MOL2 file (title is 3ta1_ligand)\n",
      "\n",
      "1 molecule converted\n",
      "==============================\n",
      "*** Open Babel Warning  in ParseSmiles\n",
      "  Failed to kekulize aromatic SMILES (title is 3ta1_ligand)\n",
      "\n",
      "1 molecule converted\n",
      "1 molecule converted\n",
      "1 molecule converted\n",
      "1 molecule converted\n",
      "1 molecule converted\n",
      "==============================\n",
      "*** Open Babel Warning  in ReadMolecule\n",
      "  Failed to kekulize aromatic bonds in MOL2 file (title is 4q46_ligand)\n",
      "\n",
      "1 molecule converted\n",
      "==============================\n",
      "*** Open Babel Warning  in ParseSmiles\n",
      "  Failed to kekulize aromatic SMILES (title is 4q46_ligand)\n",
      "\n",
      "1 molecule converted\n",
      "1 molecule converted\n",
      "1 molecule converted\n",
      "1 molecule converted\n",
      "1 molecule converted\n",
      "1 molecule converted\n",
      "1 molecule converted\n",
      "1 molecule converted\n",
      "1 molecule converted\n",
      "==============================\n",
      "*** Open Babel Warning  in ReadMolecule\n",
      "  Failed to kekulize aromatic bonds in MOL2 file (title is 1zc9_ligand)\n",
      "\n",
      "1 molecule converted\n",
      "==============================\n",
      "*** Open Babel Warning  in ParseSmiles\n",
      "  Failed to kekulize aromatic SMILES (title is 1zc9_ligand)\n",
      "\n",
      "1 molecule converted\n",
      "1 molecule converted\n",
      "1 molecule converted\n",
      "1 molecule converted\n",
      "1 molecule converted\n",
      "1 molecule converted\n",
      "1 molecule converted\n",
      "1 molecule converted\n",
      "1 molecule converted\n",
      "1 molecule converted\n",
      "1 molecule converted\n",
      "1 molecule converted\n",
      "1 molecule converted\n",
      "1 molecule converted\n",
      "1 molecule converted\n",
      "1 molecule converted\n",
      "1 molecule converted\n",
      "[09:31:40] Explicit valence for atom # 5 N, 4, is greater than permitted\n",
      "==============================\n",
      "*** Open Babel Warning  in ReadMolecule\n",
      "  Failed to kekulize aromatic bonds in MOL2 file (title is 4uoh_ligand)\n",
      "\n",
      "1 molecule converted\n",
      "==============================\n",
      "*** Open Babel Warning  in ParseSmiles\n",
      "  Failed to kekulize aromatic SMILES (title is 4uoh_ligand)\n",
      "\n",
      "1 molecule converted\n",
      "==============================\n",
      "*** Open Babel Warning  in ReadMolecule\n",
      "  Failed to kekulize aromatic bonds in MOL2 file (title is 4zeb_ligand)\n",
      "\n",
      "1 molecule converted\n",
      "==============================\n",
      "*** Open Babel Warning  in ParseSmiles\n",
      "  Failed to kekulize aromatic SMILES (title is 4zeb_ligand)\n",
      "\n",
      "1 molecule converted\n"
     ]
    },
    {
     "name": "stdout",
     "output_type": "stream",
     "text": [
      "3daz Python argument types in\n",
      "    rdkit.Chem.rdmolfiles.MolToSmiles(NoneType)\n",
      "did not match C++ signature:\n",
      "    MolToSmiles(RDKit::ROMol mol, bool isomericSmiles=True, bool kekuleSmiles=False, int rootedAtAtom=-1, bool canonical=True, bool allBondsExplicit=False, bool allHsExplicit=False, bool doRandom=False)\n",
      "    MolToSmiles(RDKit::ROMol mol, RDKit::SmilesWriteParams params)\n"
     ]
    },
    {
     "name": "stderr",
     "output_type": "stream",
     "text": [
      "1 molecule converted\n",
      "1 molecule converted\n",
      "1 molecule converted\n",
      "1 molecule converted\n",
      "1 molecule converted\n",
      "1 molecule converted\n",
      "1 molecule converted\n",
      "1 molecule converted\n",
      "1 molecule converted\n",
      "1 molecule converted\n",
      "==============================\n",
      "*** Open Babel Warning  in ReadMolecule\n",
      "  Failed to kekulize aromatic bonds in MOL2 file (title is 2zdl_ligand)\n",
      "\n",
      "1 molecule converted\n",
      "==============================\n",
      "*** Open Babel Warning  in ParseSmiles\n",
      "  Failed to kekulize aromatic SMILES (title is 2zdl_ligand)\n",
      "\n",
      "1 molecule converted\n",
      "==============================\n",
      "*** Open Babel Warning  in ReadMolecule\n",
      "  Failed to kekulize aromatic bonds in MOL2 file (title is 4lbu_ligand)\n",
      "\n",
      "1 molecule converted\n",
      "==============================\n",
      "*** Open Babel Warning  in ParseSmiles\n",
      "  Failed to kekulize aromatic SMILES (title is 4lbu_ligand)\n",
      "\n",
      "1 molecule converted\n",
      "1 molecule converted\n",
      "1 molecule converted\n",
      "==============================\n",
      "*** Open Babel Warning  in ReadMolecule\n",
      "  Failed to kekulize aromatic bonds in MOL2 file (title is 3umo_ligand)\n",
      "\n",
      "1 molecule converted\n",
      "==============================\n",
      "*** Open Babel Warning  in ParseSmiles\n",
      "  Failed to kekulize aromatic SMILES (title is 3umo_ligand)\n",
      "\n",
      "1 molecule converted\n",
      "1 molecule converted\n",
      "1 molecule converted\n",
      "1 molecule converted\n",
      "1 molecule converted\n",
      "1 molecule converted\n",
      "1 molecule converted\n",
      "1 molecule converted\n",
      "1 molecule converted\n",
      "==============================\n",
      "*** Open Babel Warning  in ReadMolecule\n",
      "  Failed to kekulize aromatic bonds in MOL2 file (title is 1h6h_ligand)\n",
      "\n",
      "1 molecule converted\n",
      "==============================\n",
      "*** Open Babel Warning  in ParseSmiles\n",
      "  Failed to kekulize aromatic SMILES (title is 1h6h_ligand)\n",
      "\n",
      "1 molecule converted\n",
      "==============================\n",
      "*** Open Babel Warning  in ReadMolecule\n",
      "  Failed to kekulize aromatic bonds in MOL2 file (title is 2rke_ligand)\n",
      "\n",
      "1 molecule converted\n",
      "==============================\n",
      "*** Open Babel Warning  in ParseSmiles\n",
      "  Failed to kekulize aromatic SMILES (title is 2rke_ligand)\n",
      "\n",
      "1 molecule converted\n",
      "1 molecule converted\n",
      "1 molecule converted\n",
      "1 molecule converted\n",
      "1 molecule converted\n",
      "1 molecule converted\n",
      "1 molecule converted\n",
      "1 molecule converted\n",
      "1 molecule converted\n",
      "1 molecule converted\n",
      "1 molecule converted\n",
      "1 molecule converted\n",
      "1 molecule converted\n",
      "1 molecule converted\n",
      "1 molecule converted\n",
      "==============================\n",
      "*** Open Babel Warning  in ReadMolecule\n",
      "  Failed to kekulize aromatic bonds in MOL2 file (title is 3kyq_ligand)\n",
      "\n",
      "1 molecule converted\n",
      "==============================\n",
      "*** Open Babel Warning  in ParseSmiles\n",
      "  Failed to kekulize aromatic SMILES (title is 3kyq_ligand)\n",
      "\n",
      "1 molecule converted\n",
      "==============================\n",
      "*** Open Babel Warning  in ReadMolecule\n",
      "  Failed to kekulize aromatic bonds in MOL2 file (title is 1sqt_ligand)\n",
      "\n",
      "1 molecule converted\n",
      "==============================\n",
      "*** Open Babel Warning  in ParseSmiles\n",
      "  Failed to kekulize aromatic SMILES (title is 1sqt_ligand)\n",
      "\n",
      "1 molecule converted\n",
      "1 molecule converted\n",
      "1 molecule converted\n",
      "1 molecule converted\n",
      "1 molecule converted\n",
      "1 molecule converted\n",
      "1 molecule converted\n",
      "1 molecule converted\n",
      "1 molecule converted\n",
      "1 molecule converted\n",
      "1 molecule converted\n",
      "1 molecule converted\n",
      "1 molecule converted\n",
      "1 molecule converted\n",
      "1 molecule converted\n",
      "1 molecule converted\n",
      "1 molecule converted\n",
      "1 molecule converted\n",
      "1 molecule converted\n",
      "1 molecule converted\n",
      "1 molecule converted\n",
      "1 molecule converted\n",
      "1 molecule converted\n",
      "1 molecule converted\n",
      "1 molecule converted\n",
      "1 molecule converted\n",
      "1 molecule converted\n",
      "==============================\n",
      "*** Open Babel Warning  in ReadMolecule\n",
      "  Failed to kekulize aromatic bonds in MOL2 file (title is 2e2p_ligand)\n",
      "\n",
      "1 molecule converted\n",
      "==============================\n",
      "*** Open Babel Warning  in ParseSmiles\n",
      "  Failed to kekulize aromatic SMILES (title is 2e2p_ligand)\n",
      "\n",
      "1 molecule converted\n",
      "1 molecule converted\n",
      "1 molecule converted\n",
      "==============================\n",
      "*** Open Babel Warning  in ReadMolecule\n",
      "  Failed to kekulize aromatic bonds in MOL2 file (title is 1g36_ligand)\n",
      "\n",
      "1 molecule converted\n",
      "==============================\n",
      "*** Open Babel Warning  in ParseSmiles\n",
      "  Failed to kekulize aromatic SMILES (title is 1g36_ligand)\n",
      "\n",
      "1 molecule converted\n",
      "1 molecule converted\n",
      "1 molecule converted\n",
      "1 molecule converted\n",
      "1 molecule converted\n",
      "1 molecule converted\n",
      "1 molecule converted\n",
      "==============================\n",
      "*** Open Babel Warning  in ReadMolecule\n",
      "  Failed to kekulize aromatic bonds in MOL2 file (title is 1m1b_ligand)\n",
      "\n",
      "1 molecule converted\n",
      "==============================\n",
      "*** Open Babel Warning  in ParseSmiles\n",
      "  Failed to kekulize aromatic SMILES (title is 1m1b_ligand)\n",
      "\n",
      "1 molecule converted\n",
      "==============================\n",
      "*** Open Babel Warning  in ReadMolecule\n",
      "  Failed to kekulize aromatic bonds in MOL2 file (title is 4p6c_ligand)\n",
      "\n",
      "1 molecule converted\n",
      "==============================\n",
      "*** Open Babel Warning  in ParseSmiles\n",
      "  Failed to kekulize aromatic SMILES (title is 4p6c_ligand)\n",
      "\n",
      "1 molecule converted\n",
      "1 molecule converted\n",
      "1 molecule converted\n",
      "1 molecule converted\n",
      "1 molecule converted\n",
      "1 molecule converted\n",
      "1 molecule converted\n",
      "1 molecule converted\n",
      "1 molecule converted\n",
      "==============================\n",
      "*** Open Babel Warning  in ReadMolecule\n",
      "  Failed to kekulize aromatic bonds in MOL2 file (title is 1c5c_ligand)\n",
      "\n",
      "1 molecule converted\n",
      "==============================\n",
      "*** Open Babel Warning  in ParseSmiles\n",
      "  Failed to kekulize aromatic SMILES (title is 1c5c_ligand)\n",
      "\n",
      "1 molecule converted\n",
      "1 molecule converted\n",
      "1 molecule converted\n",
      "1 molecule converted\n",
      "1 molecule converted\n",
      "==============================\n",
      "*** Open Babel Warning  in ReadMolecule\n",
      "  Failed to kekulize aromatic bonds in MOL2 file (title is 3hig_ligand)\n",
      "\n",
      "1 molecule converted\n",
      "==============================\n",
      "*** Open Babel Warning  in ParseSmiles\n",
      "  Failed to kekulize aromatic SMILES (title is 3hig_ligand)\n",
      "\n",
      "1 molecule converted\n",
      "1 molecule converted\n",
      "1 molecule converted\n",
      "1 molecule converted\n",
      "1 molecule converted\n",
      "==============================\n",
      "*** Open Babel Warning  in ReadMolecule\n",
      "  Failed to kekulize aromatic bonds in MOL2 file (title is 2ce9_ligand)\n",
      "\n",
      "1 molecule converted\n",
      "==============================\n",
      "*** Open Babel Warning  in ParseSmiles\n",
      "  Failed to kekulize aromatic SMILES (title is 2ce9_ligand)\n",
      "\n",
      "1 molecule converted\n",
      "==============================\n",
      "*** Open Babel Warning  in ReadMolecule\n",
      "  Failed to kekulize aromatic bonds in MOL2 file (title is 4e7r_ligand)\n",
      "\n",
      "1 molecule converted\n",
      "==============================\n",
      "*** Open Babel Warning  in ParseSmiles\n",
      "  Failed to kekulize aromatic SMILES (title is 4e7r_ligand)\n",
      "\n",
      "1 molecule converted\n",
      "1 molecule converted\n",
      "1 molecule converted\n",
      "1 molecule converted\n",
      "1 molecule converted\n",
      "1 molecule converted\n",
      "1 molecule converted\n",
      "1 molecule converted\n",
      "1 molecule converted\n",
      "1 molecule converted\n",
      "1 molecule converted\n",
      "1 molecule converted\n",
      "1 molecule converted\n",
      "==============================\n",
      "*** Open Babel Warning  in ReadMolecule\n",
      "  Failed to kekulize aromatic bonds in MOL2 file (title is 1z6s_ligand)\n",
      "\n",
      "1 molecule converted\n",
      "==============================\n",
      "*** Open Babel Warning  in ParseSmiles\n",
      "  Failed to kekulize aromatic SMILES (title is 1z6s_ligand)\n",
      "\n",
      "1 molecule converted\n",
      "==============================\n",
      "*** Open Babel Warning  in ReadMolecule\n",
      "  Failed to kekulize aromatic bonds in MOL2 file (title is 1rnm_ligand)\n",
      "\n",
      "1 molecule converted\n",
      "==============================\n",
      "*** Open Babel Warning  in ParseSmiles\n",
      "  Failed to kekulize aromatic SMILES (title is 1rnm_ligand)\n",
      "\n",
      "1 molecule converted\n",
      "1 molecule converted\n",
      "1 molecule converted\n",
      "1 molecule converted\n",
      "1 molecule converted\n",
      "1 molecule converted\n",
      "1 molecule converted\n",
      "1 molecule converted\n",
      "1 molecule converted\n",
      "1 molecule converted\n",
      "1 molecule converted\n",
      "1 molecule converted\n",
      "1 molecule converted\n",
      "==============================\n",
      "*** Open Babel Warning  in ReadMolecule\n",
      "  Failed to kekulize aromatic bonds in MOL2 file (title is 1bzj_ligand)\n",
      "\n",
      "1 molecule converted\n",
      "==============================\n",
      "*** Open Babel Warning  in ParseSmiles\n",
      "  Failed to kekulize aromatic SMILES (title is 1bzj_ligand)\n",
      "\n",
      "1 molecule converted\n",
      "1 molecule converted\n",
      "1 molecule converted\n",
      "1 molecule converted\n",
      "1 molecule converted\n",
      "1 molecule converted\n",
      "1 molecule converted\n",
      "1 molecule converted\n",
      "1 molecule converted\n",
      "1 molecule converted\n",
      "1 molecule converted\n",
      "1 molecule converted\n",
      "1 molecule converted\n",
      "1 molecule converted\n",
      "1 molecule converted\n",
      "1 molecule converted\n",
      "1 molecule converted\n",
      "1 molecule converted\n",
      "1 molecule converted\n",
      "1 molecule converted\n",
      "1 molecule converted\n",
      "==============================\n",
      "*** Open Babel Warning  in ReadMolecule\n",
      "  Failed to kekulize aromatic bonds in MOL2 file (title is 1gnm_ligand)\n",
      "\n",
      "1 molecule converted\n",
      "==============================\n",
      "*** Open Babel Warning  in ParseSmiles\n",
      "  Failed to kekulize aromatic SMILES (title is 1gnm_ligand)\n",
      "\n",
      "1 molecule converted\n",
      "1 molecule converted\n",
      "1 molecule converted\n",
      "1 molecule converted\n",
      "1 molecule converted\n",
      "[09:31:46] Explicit valence for atom # 8 N, 4, is greater than permitted\n",
      "1 molecule converted\n",
      "1 molecule converted\n"
     ]
    },
    {
     "name": "stdout",
     "output_type": "stream",
     "text": [
      "5afv Python argument types in\n",
      "    rdkit.Chem.rdmolfiles.MolToSmiles(NoneType)\n",
      "did not match C++ signature:\n",
      "    MolToSmiles(RDKit::ROMol mol, bool isomericSmiles=True, bool kekuleSmiles=False, int rootedAtAtom=-1, bool canonical=True, bool allBondsExplicit=False, bool allHsExplicit=False, bool doRandom=False)\n",
      "    MolToSmiles(RDKit::ROMol mol, RDKit::SmilesWriteParams params)\n"
     ]
    },
    {
     "name": "stderr",
     "output_type": "stream",
     "text": [
      "1 molecule converted\n",
      "1 molecule converted\n",
      "1 molecule converted\n",
      "1 molecule converted\n",
      "==============================\n",
      "*** Open Babel Warning  in ReadMolecule\n",
      "  Failed to kekulize aromatic bonds in MOL2 file (title is 3aau_ligand)\n",
      "\n",
      "1 molecule converted\n",
      "==============================\n",
      "*** Open Babel Warning  in ParseSmiles\n",
      "  Failed to kekulize aromatic SMILES (title is 3aau_ligand)\n",
      "\n",
      "1 molecule converted\n",
      "1 molecule converted\n",
      "1 molecule converted\n",
      "1 molecule converted\n",
      "1 molecule converted\n",
      "1 molecule converted\n",
      "1 molecule converted\n",
      "1 molecule converted\n",
      "1 molecule converted\n",
      "==============================\n",
      "*** Open Babel Warning  in ReadMolecule\n",
      "  Failed to kekulize aromatic bonds in MOL2 file (title is 4u1b_ligand)\n",
      "\n",
      "1 molecule converted\n",
      "==============================\n",
      "*** Open Babel Warning  in ParseSmiles\n",
      "  Failed to kekulize aromatic SMILES (title is 4u1b_ligand)\n",
      "\n",
      "1 molecule converted\n",
      "1 molecule converted\n",
      "1 molecule converted\n",
      "==============================\n",
      "*** Open Babel Warning  in ReadMolecule\n",
      "  Failed to kekulize aromatic bonds in MOL2 file (title is 3u90_ligand)\n",
      "\n",
      "1 molecule converted\n",
      "==============================\n",
      "*** Open Babel Warning  in ParseSmiles\n",
      "  Failed to kekulize aromatic SMILES (title is 3u90_ligand)\n",
      "\n",
      "1 molecule converted\n",
      "1 molecule converted\n",
      "1 molecule converted\n",
      "1 molecule converted\n",
      "1 molecule converted\n",
      "1 molecule converted\n",
      "1 molecule converted\n",
      "1 molecule converted\n",
      "1 molecule converted\n",
      "[09:31:47] Explicit valence for atom # 14 N, 4, is greater than permitted\n"
     ]
    },
    {
     "name": "stdout",
     "output_type": "stream",
     "text": [
      "3odu Python argument types in\n",
      "    rdkit.Chem.rdmolfiles.MolToSmiles(NoneType)\n",
      "did not match C++ signature:\n",
      "    MolToSmiles(RDKit::ROMol mol, bool isomericSmiles=True, bool kekuleSmiles=False, int rootedAtAtom=-1, bool canonical=True, bool allBondsExplicit=False, bool allHsExplicit=False, bool doRandom=False)\n",
      "    MolToSmiles(RDKit::ROMol mol, RDKit::SmilesWriteParams params)\n"
     ]
    },
    {
     "name": "stderr",
     "output_type": "stream",
     "text": [
      "1 molecule converted\n",
      "1 molecule converted\n",
      "1 molecule converted\n",
      "1 molecule converted\n",
      "==============================\n",
      "*** Open Babel Warning  in ReadMolecule\n",
      "  Failed to kekulize aromatic bonds in MOL2 file (title is 1nfu_ligand)\n",
      "\n",
      "1 molecule converted\n",
      "==============================\n",
      "*** Open Babel Warning  in ParseSmiles\n",
      "  Failed to kekulize aromatic SMILES (title is 1nfu_ligand)\n",
      "\n",
      "1 molecule converted\n",
      "1 molecule converted\n",
      "1 molecule converted\n",
      "1 molecule converted\n",
      "1 molecule converted\n",
      "1 molecule converted\n",
      "1 molecule converted\n",
      "1 molecule converted\n",
      "1 molecule converted\n",
      "1 molecule converted\n",
      "1 molecule converted\n",
      "1 molecule converted\n",
      "1 molecule converted\n",
      "1 molecule converted\n",
      "1 molecule converted\n",
      "1 molecule converted\n",
      "1 molecule converted\n",
      "==============================\n",
      "*** Open Babel Warning  in ReadMolecule\n",
      "  Failed to kekulize aromatic bonds in MOL2 file (title is 4d3h_ligand)\n",
      "\n",
      "1 molecule converted\n",
      "==============================\n",
      "*** Open Babel Warning  in ParseSmiles\n",
      "  Failed to kekulize aromatic SMILES (title is 4d3h_ligand)\n",
      "\n",
      "1 molecule converted\n",
      "==============================\n",
      "*** Open Babel Warning  in ReadMolecule\n",
      "  Failed to kekulize aromatic bonds in MOL2 file (title is 4bi7_ligand)\n",
      "\n",
      "1 molecule converted\n",
      "==============================\n",
      "*** Open Babel Warning  in ParseSmiles\n",
      "  Failed to kekulize aromatic SMILES (title is 4bi7_ligand)\n",
      "\n",
      "1 molecule converted\n",
      "==============================\n",
      "*** Open Babel Warning  in ReadMolecule\n",
      "  Failed to kekulize aromatic bonds in MOL2 file (title is 2ccc_ligand)\n",
      "\n",
      "1 molecule converted\n",
      "==============================\n",
      "*** Open Babel Warning  in ParseSmiles\n",
      "  Failed to kekulize aromatic SMILES (title is 2ccc_ligand)\n",
      "\n",
      "1 molecule converted\n",
      "1 molecule converted\n",
      "1 molecule converted\n",
      "1 molecule converted\n",
      "1 molecule converted\n",
      "==============================\n",
      "*** Open Babel Warning  in ReadMolecule\n",
      "  Failed to kekulize aromatic bonds in MOL2 file (title is 1o0m_ligand)\n",
      "\n",
      "1 molecule converted\n",
      "==============================\n",
      "*** Open Babel Warning  in ParseSmiles\n",
      "  Failed to kekulize aromatic SMILES (title is 1o0m_ligand)\n",
      "\n",
      "1 molecule converted\n",
      "1 molecule converted\n",
      "1 molecule converted\n",
      "1 molecule converted\n",
      "1 molecule converted\n",
      "[09:31:48] Explicit valence for atom # 6 N, 4, is greater than permitted\n",
      "==============================\n",
      "*** Open Babel Warning  in ReadMolecule\n",
      "  Failed to kekulize aromatic bonds in MOL2 file (title is 4omc_ligand)\n",
      "\n",
      "1 molecule converted\n",
      "==============================\n",
      "*** Open Babel Warning  in ParseSmiles\n",
      "  Failed to kekulize aromatic SMILES (title is 4omc_ligand)\n",
      "\n",
      "1 molecule converted\n",
      "1 molecule converted\n",
      "1 molecule converted\n"
     ]
    },
    {
     "name": "stdout",
     "output_type": "stream",
     "text": [
      "4br3 Python argument types in\n",
      "    rdkit.Chem.rdmolfiles.MolToSmiles(NoneType)\n",
      "did not match C++ signature:\n",
      "    MolToSmiles(RDKit::ROMol mol, bool isomericSmiles=True, bool kekuleSmiles=False, int rootedAtAtom=-1, bool canonical=True, bool allBondsExplicit=False, bool allHsExplicit=False, bool doRandom=False)\n",
      "    MolToSmiles(RDKit::ROMol mol, RDKit::SmilesWriteParams params)\n"
     ]
    },
    {
     "name": "stderr",
     "output_type": "stream",
     "text": [
      "1 molecule converted\n",
      "1 molecule converted\n",
      "1 molecule converted\n",
      "1 molecule converted\n",
      "1 molecule converted\n",
      "1 molecule converted\n",
      "1 molecule converted\n",
      "1 molecule converted\n",
      "1 molecule converted\n",
      "1 molecule converted\n",
      "1 molecule converted\n",
      "1 molecule converted\n",
      "1 molecule converted\n",
      "1 molecule converted\n",
      "1 molecule converted\n",
      "1 molecule converted\n",
      "==============================\n",
      "*** Open Babel Warning  in ReadMolecule\n",
      "  Failed to kekulize aromatic bonds in MOL2 file (title is 1tkb_ligand)\n",
      "\n",
      "1 molecule converted\n",
      "==============================\n",
      "*** Open Babel Warning  in ParseSmiles\n",
      "  Failed to kekulize aromatic SMILES (title is 1tkb_ligand)\n",
      "\n",
      "1 molecule converted\n",
      "[09:31:49] Explicit valence for atom # 7 N, 4, is greater than permitted\n"
     ]
    },
    {
     "name": "stdout",
     "output_type": "stream",
     "text": [
      "1tkb Python argument types in\n",
      "    rdkit.Chem.rdmolfiles.MolToSmiles(NoneType)\n",
      "did not match C++ signature:\n",
      "    MolToSmiles(RDKit::ROMol mol, bool isomericSmiles=True, bool kekuleSmiles=False, int rootedAtAtom=-1, bool canonical=True, bool allBondsExplicit=False, bool allHsExplicit=False, bool doRandom=False)\n",
      "    MolToSmiles(RDKit::ROMol mol, RDKit::SmilesWriteParams params)\n"
     ]
    },
    {
     "name": "stderr",
     "output_type": "stream",
     "text": [
      "1 molecule converted\n",
      "1 molecule converted\n",
      "1 molecule converted\n",
      "1 molecule converted\n",
      "1 molecule converted\n",
      "1 molecule converted\n",
      "1 molecule converted\n",
      "1 molecule converted\n",
      "1 molecule converted\n",
      "1 molecule converted\n",
      "==============================\n",
      "*** Open Babel Warning  in ReadMolecule\n",
      "  Failed to kekulize aromatic bonds in MOL2 file (title is 1tq4_ligand)\n",
      "\n",
      "1 molecule converted\n",
      "==============================\n",
      "*** Open Babel Warning  in ParseSmiles\n",
      "  Failed to kekulize aromatic SMILES (title is 1tq4_ligand)\n",
      "\n",
      "1 molecule converted\n",
      "1 molecule converted\n",
      "1 molecule converted\n",
      "1 molecule converted\n",
      "1 molecule converted\n",
      "1 molecule converted\n",
      "1 molecule converted\n",
      "1 molecule converted\n",
      "1 molecule converted\n",
      "1 molecule converted\n",
      "1 molecule converted\n",
      "1 molecule converted\n",
      "1 molecule converted\n",
      "1 molecule converted\n",
      "1 molecule converted\n",
      "1 molecule converted\n",
      "1 molecule converted\n",
      "1 molecule converted\n",
      "1 molecule converted\n",
      "1 molecule converted\n",
      "1 molecule converted\n",
      "1 molecule converted\n",
      "1 molecule converted\n",
      "1 molecule converted\n",
      "1 molecule converted\n",
      "1 molecule converted\n",
      "1 molecule converted\n",
      "1 molecule converted\n",
      "1 molecule converted\n",
      "1 molecule converted\n",
      "1 molecule converted\n",
      "1 molecule converted\n",
      "1 molecule converted\n",
      "1 molecule converted\n",
      "1 molecule converted\n",
      "1 molecule converted\n",
      "1 molecule converted\n",
      "1 molecule converted\n",
      "1 molecule converted\n",
      "1 molecule converted\n",
      "1 molecule converted\n",
      "1 molecule converted\n",
      "1 molecule converted\n",
      "1 molecule converted\n",
      "1 molecule converted\n",
      "1 molecule converted\n",
      "1 molecule converted\n",
      "==============================\n",
      "*** Open Babel Warning  in ReadMolecule\n",
      "  Failed to kekulize aromatic bonds in MOL2 file (title is 3eeb_ligand)\n",
      "\n",
      "1 molecule converted\n",
      "==============================\n",
      "*** Open Babel Warning  in ParseSmiles\n",
      "  Failed to kekulize aromatic SMILES (title is 3eeb_ligand)\n",
      "\n",
      "1 molecule converted\n",
      "==============================\n",
      "*** Open Babel Warning  in ReadMolecule\n",
      "  Failed to kekulize aromatic bonds in MOL2 file (title is 2gv7_ligand)\n",
      "\n",
      "1 molecule converted\n",
      "==============================\n",
      "*** Open Babel Warning  in ParseSmiles\n",
      "  Failed to kekulize aromatic SMILES (title is 2gv7_ligand)\n",
      "\n",
      "1 molecule converted\n",
      "1 molecule converted\n",
      "1 molecule converted\n",
      "==============================\n",
      "*** Open Babel Warning  in ReadMolecule\n",
      "  Failed to kekulize aromatic bonds in MOL2 file (title is 4u69_ligand)\n",
      "\n",
      "1 molecule converted\n",
      "==============================\n",
      "*** Open Babel Warning  in ParseSmiles\n",
      "  Failed to kekulize aromatic SMILES (title is 4u69_ligand)\n",
      "\n",
      "1 molecule converted\n",
      "1 molecule converted\n",
      "1 molecule converted\n",
      "1 molecule converted\n",
      "1 molecule converted\n",
      "1 molecule converted\n",
      "1 molecule converted\n",
      "==============================\n",
      "*** Open Babel Warning  in ReadMolecule\n",
      "  Failed to kekulize aromatic bonds in MOL2 file (title is 1o2w_ligand)\n",
      "\n",
      "1 molecule converted\n",
      "==============================\n",
      "*** Open Babel Warning  in ParseSmiles\n",
      "  Failed to kekulize aromatic SMILES (title is 1o2w_ligand)\n",
      "\n",
      "1 molecule converted\n",
      "1 molecule converted\n",
      "1 molecule converted\n",
      "1 molecule converted\n",
      "1 molecule converted\n",
      "1 molecule converted\n",
      "1 molecule converted\n",
      "1 molecule converted\n",
      "1 molecule converted\n",
      "==============================\n",
      "*** Open Babel Warning  in ReadMolecule\n",
      "  Failed to kekulize aromatic bonds in MOL2 file (title is 4fs4_ligand)\n",
      "\n",
      "1 molecule converted\n",
      "==============================\n",
      "*** Open Babel Warning  in ParseSmiles\n",
      "  Failed to kekulize aromatic SMILES (title is 4fs4_ligand)\n",
      "\n",
      "1 molecule converted\n",
      "1 molecule converted\n",
      "1 molecule converted\n",
      "1 molecule converted\n",
      "1 molecule converted\n",
      "==============================\n",
      "*** Open Babel Warning  in ReadMolecule\n",
      "  Failed to kekulize aromatic bonds in MOL2 file (title is 3qt6_ligand)\n",
      "\n",
      "1 molecule converted\n",
      "==============================\n",
      "*** Open Babel Warning  in ParseSmiles\n",
      "  Failed to kekulize aromatic SMILES (title is 3qt6_ligand)\n",
      "\n",
      "1 molecule converted\n",
      "1 molecule converted\n",
      "1 molecule converted\n",
      "==============================\n",
      "*** Open Babel Warning  in ReadMolecule\n",
      "  Failed to kekulize aromatic bonds in MOL2 file (title is 2qtn_ligand)\n",
      "\n",
      "1 molecule converted\n",
      "==============================\n",
      "*** Open Babel Warning  in ParseSmiles\n",
      "  Failed to kekulize aromatic SMILES (title is 2qtn_ligand)\n",
      "\n",
      "1 molecule converted\n",
      "1 molecule converted\n",
      "1 molecule converted\n",
      "1 molecule converted\n",
      "1 molecule converted\n",
      "==============================\n",
      "*** Open Babel Warning  in ReadMolecule\n",
      "  Failed to kekulize aromatic bonds in MOL2 file (title is 3tmk_ligand)\n",
      "\n",
      "1 molecule converted\n",
      "==============================\n",
      "*** Open Babel Warning  in ParseSmiles\n",
      "  Failed to kekulize aromatic SMILES (title is 3tmk_ligand)\n",
      "\n",
      "1 molecule converted\n",
      "1 molecule converted\n",
      "1 molecule converted\n",
      "1 molecule converted\n",
      "1 molecule converted\n",
      "1 molecule converted\n",
      "1 molecule converted\n",
      "1 molecule converted\n",
      "1 molecule converted\n",
      "1 molecule converted\n",
      "1 molecule converted\n",
      "1 molecule converted\n",
      "1 molecule converted\n",
      "==============================\n",
      "*** Open Babel Warning  in ReadMolecule\n",
      "  Failed to kekulize aromatic bonds in MOL2 file (title is 2whp_ligand)\n",
      "\n",
      "1 molecule converted\n",
      "==============================\n",
      "*** Open Babel Warning  in ParseSmiles\n",
      "  Failed to kekulize aromatic SMILES (title is 2whp_ligand)\n",
      "\n",
      "1 molecule converted\n",
      "==============================\n",
      "*** Open Babel Warning  in ReadMolecule\n",
      "  Failed to kekulize aromatic bonds in MOL2 file (title is 1oz0_ligand)\n",
      "\n",
      "1 molecule converted\n",
      "==============================\n",
      "*** Open Babel Warning  in ParseSmiles\n",
      "  Failed to kekulize aromatic SMILES (title is 1oz0_ligand)\n",
      "\n",
      "1 molecule converted\n",
      "==============================\n",
      "*** Open Babel Warning  in ReadMolecule\n",
      "  Failed to kekulize aromatic bonds in MOL2 file (title is 4jz1_ligand)\n",
      "\n",
      "1 molecule converted\n",
      "==============================\n",
      "*** Open Babel Warning  in ParseSmiles\n",
      "  Failed to kekulize aromatic SMILES (title is 4jz1_ligand)\n",
      "\n",
      "1 molecule converted\n",
      "1 molecule converted\n",
      "1 molecule converted\n",
      "1 molecule converted\n",
      "1 molecule converted\n",
      "==============================\n",
      "*** Open Babel Warning  in ReadMolecule\n",
      "  Failed to kekulize aromatic bonds in MOL2 file (title is 2wec_ligand)\n",
      "\n",
      "1 molecule converted\n",
      "==============================\n",
      "*** Open Babel Warning  in ParseSmiles\n",
      "  Failed to kekulize aromatic SMILES (title is 2wec_ligand)\n",
      "\n",
      "1 molecule converted\n",
      "==============================\n",
      "*** Open Babel Warning  in ReadMolecule\n",
      "  Failed to kekulize aromatic bonds in MOL2 file (title is 1h2t_ligand)\n",
      "\n",
      "1 molecule converted\n",
      "==============================\n",
      "*** Open Babel Warning  in ParseSmiles\n",
      "  Failed to kekulize aromatic SMILES (title is 1h2t_ligand)\n",
      "\n",
      "1 molecule converted\n",
      "1 molecule converted\n",
      "1 molecule converted\n",
      "==============================\n",
      "*** Open Babel Warning  in ReadMolecule\n",
      "  Failed to kekulize aromatic bonds in MOL2 file (title is 2izl_ligand)\n",
      "\n",
      "1 molecule converted\n",
      "==============================\n",
      "*** Open Babel Warning  in ParseSmiles\n",
      "  Failed to kekulize aromatic SMILES (title is 2izl_ligand)\n",
      "\n",
      "1 molecule converted\n",
      "1 molecule converted\n",
      "1 molecule converted\n",
      "1 molecule converted\n",
      "1 molecule converted\n",
      "1 molecule converted\n",
      "1 molecule converted\n",
      "1 molecule converted\n",
      "1 molecule converted\n",
      "1 molecule converted\n",
      "1 molecule converted\n",
      "1 molecule converted\n",
      "1 molecule converted\n",
      "1 molecule converted\n",
      "1 molecule converted\n",
      "1 molecule converted\n",
      "1 molecule converted\n",
      "==============================\n",
      "*** Open Babel Warning  in ReadMolecule\n",
      "  Failed to kekulize aromatic bonds in MOL2 file (title is 3rv4_ligand)\n",
      "\n",
      "1 molecule converted\n",
      "==============================\n",
      "*** Open Babel Warning  in ParseSmiles\n",
      "  Failed to kekulize aromatic SMILES (title is 3rv4_ligand)\n",
      "\n",
      "1 molecule converted\n",
      "1 molecule converted\n",
      "1 molecule converted\n",
      "1 molecule converted\n",
      "1 molecule converted\n",
      "1 molecule converted\n",
      "1 molecule converted\n",
      "1 molecule converted\n",
      "1 molecule converted\n",
      "1 molecule converted\n",
      "1 molecule converted\n",
      "==============================\n",
      "*** Open Babel Warning  in ReadMolecule\n",
      "  Failed to kekulize aromatic bonds in MOL2 file (title is 1pdz_ligand)\n",
      "\n",
      "1 molecule converted\n",
      "==============================\n",
      "*** Open Babel Warning  in ParseSmiles\n",
      "  Failed to kekulize aromatic SMILES (title is 1pdz_ligand)\n",
      "\n",
      "1 molecule converted\n",
      "1 molecule converted\n",
      "1 molecule converted\n",
      "1 molecule converted\n",
      "1 molecule converted\n",
      "1 molecule converted\n",
      "1 molecule converted\n",
      "1 molecule converted\n",
      "1 molecule converted\n",
      "1 molecule converted\n",
      "1 molecule converted\n",
      "1 molecule converted\n",
      "1 molecule converted\n",
      "1 molecule converted\n",
      "1 molecule converted\n",
      "1 molecule converted\n",
      "1 molecule converted\n",
      "1 molecule converted\n",
      "1 molecule converted\n",
      "1 molecule converted\n",
      "1 molecule converted\n",
      "1 molecule converted\n",
      "1 molecule converted\n",
      "==============================\n",
      "*** Open Babel Warning  in ReadMolecule\n",
      "  Failed to kekulize aromatic bonds in MOL2 file (title is 1w4p_ligand)\n",
      "\n",
      "1 molecule converted\n",
      "==============================\n",
      "*** Open Babel Warning  in ParseSmiles\n",
      "  Failed to kekulize aromatic SMILES (title is 1w4p_ligand)\n",
      "\n",
      "1 molecule converted\n",
      "1 molecule converted\n",
      "1 molecule converted\n",
      "1 molecule converted\n",
      "1 molecule converted\n",
      "1 molecule converted\n",
      "1 molecule converted\n",
      "1 molecule converted\n",
      "1 molecule converted\n",
      "1 molecule converted\n",
      "1 molecule converted\n",
      "==============================\n",
      "*** Open Babel Warning  in ReadMolecule\n",
      "  Failed to kekulize aromatic bonds in MOL2 file (title is 3tif_ligand)\n",
      "\n",
      "1 molecule converted\n",
      "==============================\n",
      "*** Open Babel Warning  in ParseSmiles\n",
      "  Failed to kekulize aromatic SMILES (title is 3tif_ligand)\n",
      "\n",
      "1 molecule converted\n",
      "1 molecule converted\n",
      "1 molecule converted\n",
      "1 molecule converted\n",
      "1 molecule converted\n",
      "==============================\n",
      "*** Open Babel Warning  in ReadMolecule\n",
      "  Failed to kekulize aromatic bonds in MOL2 file (title is 2amt_ligand)\n",
      "\n",
      "1 molecule converted\n",
      "==============================\n",
      "*** Open Babel Warning  in ParseSmiles\n",
      "  Failed to kekulize aromatic SMILES (title is 2amt_ligand)\n",
      "\n",
      "1 molecule converted\n",
      "==============================\n",
      "*** Open Babel Warning  in ReadMolecule\n",
      "  Failed to kekulize aromatic bonds in MOL2 file (title is 1bty_ligand)\n",
      "\n",
      "1 molecule converted\n",
      "==============================\n",
      "*** Open Babel Warning  in ParseSmiles\n",
      "  Failed to kekulize aromatic SMILES (title is 1bty_ligand)\n",
      "\n",
      "1 molecule converted\n",
      "1 molecule converted\n",
      "1 molecule converted\n",
      "1 molecule converted\n",
      "1 molecule converted\n",
      "1 molecule converted\n",
      "1 molecule converted\n",
      "1 molecule converted\n",
      "1 molecule converted\n",
      "==============================\n",
      "*** Open Babel Warning  in ReadMolecule\n",
      "  Failed to kekulize aromatic bonds in MOL2 file (title is 4g0p_ligand)\n",
      "\n",
      "1 molecule converted\n",
      "==============================\n",
      "*** Open Babel Warning  in ParseSmiles\n",
      "  Failed to kekulize aromatic SMILES (title is 4g0p_ligand)\n",
      "\n",
      "1 molecule converted\n",
      "1 molecule converted\n",
      "1 molecule converted\n",
      "1 molecule converted\n",
      "1 molecule converted\n",
      "1 molecule converted\n",
      "1 molecule converted\n",
      "==============================\n",
      "*** Open Babel Warning  in ReadMolecule\n",
      "  Failed to kekulize aromatic bonds in MOL2 file (title is 2qry_ligand)\n",
      "\n",
      "1 molecule converted\n",
      "==============================\n",
      "*** Open Babel Warning  in ParseSmiles\n",
      "  Failed to kekulize aromatic SMILES (title is 2qry_ligand)\n",
      "\n",
      "1 molecule converted\n",
      "[09:31:57] Explicit valence for atom # 9 N, 4, is greater than permitted\n",
      "1 molecule converted\n",
      "1 molecule converted\n"
     ]
    },
    {
     "name": "stdout",
     "output_type": "stream",
     "text": [
      "2qry Python argument types in\n",
      "    rdkit.Chem.rdmolfiles.MolToSmiles(NoneType)\n",
      "did not match C++ signature:\n",
      "    MolToSmiles(RDKit::ROMol mol, bool isomericSmiles=True, bool kekuleSmiles=False, int rootedAtAtom=-1, bool canonical=True, bool allBondsExplicit=False, bool allHsExplicit=False, bool doRandom=False)\n",
      "    MolToSmiles(RDKit::ROMol mol, RDKit::SmilesWriteParams params)\n"
     ]
    },
    {
     "name": "stderr",
     "output_type": "stream",
     "text": [
      "1 molecule converted\n",
      "1 molecule converted\n",
      "1 molecule converted\n",
      "1 molecule converted\n",
      "1 molecule converted\n",
      "1 molecule converted\n",
      "==============================\n",
      "*** Open Babel Warning  in ReadMolecule\n",
      "  Failed to kekulize aromatic bonds in MOL2 file (title is 1sln_ligand)\n",
      "\n",
      "1 molecule converted\n",
      "==============================\n",
      "*** Open Babel Warning  in ParseSmiles\n",
      "  Failed to kekulize aromatic SMILES (title is 1sln_ligand)\n",
      "\n",
      "1 molecule converted\n",
      "1 molecule converted\n",
      "1 molecule converted\n",
      "==============================\n",
      "*** Open Babel Warning  in ReadMolecule\n",
      "  Failed to kekulize aromatic bonds in MOL2 file (title is 2v2c_ligand)\n",
      "\n",
      "1 molecule converted\n",
      "==============================\n",
      "*** Open Babel Warning  in ParseSmiles\n",
      "  Failed to kekulize aromatic SMILES (title is 2v2c_ligand)\n",
      "\n",
      "1 molecule converted\n",
      "==============================\n",
      "*** Open Babel Warning  in ReadMolecule\n",
      "  Failed to kekulize aromatic bonds in MOL2 file (title is 1c5n_ligand)\n",
      "\n",
      "1 molecule converted\n",
      "==============================\n",
      "*** Open Babel Warning  in ParseSmiles\n",
      "  Failed to kekulize aromatic SMILES (title is 1c5n_ligand)\n",
      "\n",
      "1 molecule converted\n",
      "1 molecule converted\n",
      "1 molecule converted\n",
      "1 molecule converted\n",
      "1 molecule converted\n",
      "1 molecule converted\n",
      "1 molecule converted\n",
      "1 molecule converted\n",
      "1 molecule converted\n",
      "==============================\n",
      "*** Open Babel Warning  in ReadMolecule\n",
      "  Failed to kekulize aromatic bonds in MOL2 file (title is 1njd_ligand)\n",
      "\n",
      "1 molecule converted\n",
      "==============================\n",
      "*** Open Babel Warning  in ParseSmiles\n",
      "  Failed to kekulize aromatic SMILES (title is 1njd_ligand)\n",
      "\n",
      "1 molecule converted\n",
      "==============================\n",
      "*** Open Babel Warning  in ReadMolecule\n",
      "  Failed to kekulize aromatic bonds in MOL2 file (title is 3djp_ligand)\n",
      "\n",
      "1 molecule converted\n",
      "==============================\n",
      "*** Open Babel Warning  in ParseSmiles\n",
      "  Failed to kekulize aromatic SMILES (title is 3djp_ligand)\n",
      "\n",
      "1 molecule converted\n",
      "1 molecule converted\n",
      "1 molecule converted\n",
      "==============================\n",
      "*** Open Babel Warning  in ReadMolecule\n",
      "  Failed to kekulize aromatic bonds in MOL2 file (title is 1n5r_ligand)\n",
      "\n",
      "1 molecule converted\n",
      "==============================\n",
      "*** Open Babel Warning  in ParseSmiles\n",
      "  Failed to kekulize aromatic SMILES (title is 1n5r_ligand)\n",
      "\n",
      "1 molecule converted\n",
      "1 molecule converted\n",
      "1 molecule converted\n",
      "1 molecule converted\n",
      "1 molecule converted\n",
      "1 molecule converted\n",
      "1 molecule converted\n",
      "1 molecule converted\n",
      "1 molecule converted\n",
      "1 molecule converted\n",
      "1 molecule converted\n",
      "==============================\n",
      "*** Open Babel Warning  in ReadMolecule\n",
      "  Failed to kekulize aromatic bonds in MOL2 file (title is 2r59_ligand)\n",
      "\n",
      "1 molecule converted\n",
      "==============================\n",
      "*** Open Babel Warning  in ParseSmiles\n",
      "  Failed to kekulize aromatic SMILES (title is 2r59_ligand)\n",
      "\n",
      "1 molecule converted\n",
      "==============================\n",
      "*** Open Babel Warning  in ReadMolecule\n",
      "  Failed to kekulize aromatic bonds in MOL2 file (title is 1gj6_ligand)\n",
      "\n",
      "1 molecule converted\n",
      "==============================\n",
      "*** Open Babel Warning  in ParseSmiles\n",
      "  Failed to kekulize aromatic SMILES (title is 1gj6_ligand)\n",
      "\n",
      "1 molecule converted\n",
      "1 molecule converted\n",
      "1 molecule converted\n",
      "==============================\n",
      "*** Open Babel Warning  in ReadMolecule\n",
      "  Failed to kekulize aromatic bonds in MOL2 file (title is 3efs_ligand)\n",
      "\n",
      "1 molecule converted\n",
      "==============================\n",
      "*** Open Babel Warning  in ParseSmiles\n",
      "  Failed to kekulize aromatic SMILES (title is 3efs_ligand)\n",
      "\n",
      "1 molecule converted\n",
      "1 molecule converted\n",
      "1 molecule converted\n",
      "1 molecule converted\n",
      "1 molecule converted\n",
      "1 molecule converted\n",
      "1 molecule converted\n",
      "1 molecule converted\n",
      "1 molecule converted\n",
      "1 molecule converted\n",
      "1 molecule converted\n",
      "1 molecule converted\n",
      "1 molecule converted\n",
      "==============================\n",
      "*** Open Babel Warning  in ReadMolecule\n",
      "  Failed to kekulize aromatic bonds in MOL2 file (title is 4ax9_ligand)\n",
      "\n",
      "1 molecule converted\n",
      "==============================\n",
      "*** Open Babel Warning  in ParseSmiles\n",
      "  Failed to kekulize aromatic SMILES (title is 4ax9_ligand)\n",
      "\n",
      "1 molecule converted\n",
      "1 molecule converted\n",
      "1 molecule converted\n",
      "1 molecule converted\n",
      "1 molecule converted\n",
      "1 molecule converted\n",
      "1 molecule converted\n",
      "1 molecule converted\n",
      "1 molecule converted\n",
      "1 molecule converted\n",
      "1 molecule converted\n",
      "1 molecule converted\n",
      "1 molecule converted\n",
      "1 molecule converted\n",
      "1 molecule converted\n",
      "==============================\n",
      "*** Open Babel Warning  in ReadMolecule\n",
      "  Failed to kekulize aromatic bonds in MOL2 file (title is 3c8a_ligand)\n",
      "\n",
      "1 molecule converted\n",
      "==============================\n",
      "*** Open Babel Warning  in ParseSmiles\n",
      "  Failed to kekulize aromatic SMILES (title is 3c8a_ligand)\n",
      "\n",
      "1 molecule converted\n",
      "1 molecule converted\n",
      "1 molecule converted\n",
      "1 molecule converted\n",
      "1 molecule converted\n",
      "1 molecule converted\n",
      "1 molecule converted\n",
      "==============================\n",
      "*** Open Babel Warning  in ReadMolecule\n",
      "  Failed to kekulize aromatic bonds in MOL2 file (title is 3i9g_ligand)\n",
      "\n",
      "1 molecule converted\n",
      "==============================\n",
      "*** Open Babel Warning  in ParseSmiles\n",
      "  Failed to kekulize aromatic SMILES (title is 3i9g_ligand)\n",
      "\n",
      "1 molecule converted\n",
      "1 molecule converted\n",
      "1 molecule converted\n",
      "1 molecule converted\n",
      "1 molecule converted\n",
      "1 molecule converted\n",
      "1 molecule converted\n",
      "1 molecule converted\n",
      "1 molecule converted\n",
      "1 molecule converted\n",
      "1 molecule converted\n",
      "1 molecule converted\n",
      "1 molecule converted\n",
      "1 molecule converted\n",
      "1 molecule converted\n",
      "1 molecule converted\n",
      "1 molecule converted\n",
      "==============================\n",
      "*** Open Babel Warning  in ReadMolecule\n",
      "  Failed to kekulize aromatic bonds in MOL2 file (title is 3bxg_ligand)\n",
      "\n",
      "1 molecule converted\n",
      "==============================\n",
      "*** Open Babel Warning  in ParseSmiles\n",
      "  Failed to kekulize aromatic SMILES (title is 3bxg_ligand)\n",
      "\n",
      "1 molecule converted\n",
      "1 molecule converted\n",
      "1 molecule converted\n",
      "==============================\n",
      "*** Open Babel Warning  in ReadMolecule\n",
      "  Failed to kekulize aromatic bonds in MOL2 file (title is 4q4s_ligand)\n",
      "\n",
      "1 molecule converted\n",
      "==============================\n",
      "*** Open Babel Warning  in ParseSmiles\n",
      "  Failed to kekulize aromatic SMILES (title is 4q4s_ligand)\n",
      "\n",
      "1 molecule converted\n",
      "==============================\n",
      "*** Open Babel Warning  in ReadMolecule\n",
      "  Failed to kekulize aromatic bonds in MOL2 file (title is 2iw4_ligand)\n",
      "\n",
      "1 molecule converted\n",
      "==============================\n",
      "*** Open Babel Warning  in ParseSmiles\n",
      "  Failed to kekulize aromatic SMILES (title is 2iw4_ligand)\n",
      "\n",
      "1 molecule converted\n",
      "1 molecule converted\n",
      "1 molecule converted\n",
      "1 molecule converted\n",
      "1 molecule converted\n",
      "1 molecule converted\n",
      "1 molecule converted\n",
      "1 molecule converted\n",
      "1 molecule converted\n",
      "1 molecule converted\n",
      "1 molecule converted\n",
      "==============================\n",
      "*** Open Babel Warning  in ReadMolecule\n",
      "  Failed to kekulize aromatic bonds in MOL2 file (title is 3djo_ligand)\n",
      "\n",
      "1 molecule converted\n",
      "==============================\n",
      "*** Open Babel Warning  in ParseSmiles\n",
      "  Failed to kekulize aromatic SMILES (title is 3djo_ligand)\n",
      "\n",
      "1 molecule converted\n",
      "1 molecule converted\n",
      "1 molecule converted\n",
      "1 molecule converted\n",
      "1 molecule converted\n",
      "1 molecule converted\n",
      "1 molecule converted\n",
      "1 molecule converted\n",
      "1 molecule converted\n",
      "1 molecule converted\n",
      "1 molecule converted\n",
      "==============================\n",
      "*** Open Babel Warning  in ReadMolecule\n",
      "  Failed to kekulize aromatic bonds in MOL2 file (title is 4ew2_ligand)\n",
      "\n",
      "1 molecule converted\n",
      "==============================\n",
      "*** Open Babel Warning  in ParseSmiles\n",
      "  Failed to kekulize aromatic SMILES (title is 4ew2_ligand)\n",
      "\n",
      "1 molecule converted\n",
      "1 molecule converted\n",
      "1 molecule converted\n",
      "==============================\n",
      "*** Open Babel Warning  in ReadMolecule\n",
      "  Failed to kekulize aromatic bonds in MOL2 file (title is 1g3e_ligand)\n",
      "\n",
      "1 molecule converted\n",
      "==============================\n",
      "*** Open Babel Warning  in ParseSmiles\n",
      "  Failed to kekulize aromatic SMILES (title is 1g3e_ligand)\n",
      "\n",
      "1 molecule converted\n",
      "1 molecule converted\n",
      "1 molecule converted\n",
      "1 molecule converted\n",
      "1 molecule converted\n",
      "1 molecule converted\n",
      "1 molecule converted\n",
      "1 molecule converted\n",
      "1 molecule converted\n",
      "1 molecule converted\n",
      "1 molecule converted\n",
      "==============================\n",
      "*** Open Babel Warning  in ReadMolecule\n",
      "  Failed to kekulize aromatic bonds in MOL2 file (title is 1j16_ligand)\n",
      "\n",
      "1 molecule converted\n",
      "==============================\n",
      "*** Open Babel Warning  in ParseSmiles\n",
      "  Failed to kekulize aromatic SMILES (title is 1j16_ligand)\n",
      "\n",
      "1 molecule converted\n",
      "==============================\n",
      "*** Open Babel Warning  in ReadMolecule\n",
      "  Failed to kekulize aromatic bonds in MOL2 file (title is 5efa_ligand)\n",
      "\n",
      "1 molecule converted\n",
      "==============================\n",
      "*** Open Babel Warning  in ParseSmiles\n",
      "  Failed to kekulize aromatic SMILES (title is 5efa_ligand)\n",
      "\n",
      "1 molecule converted\n",
      "[09:32:02] Explicit valence for atom # 9 N, 4, is greater than permitted\n"
     ]
    },
    {
     "name": "stdout",
     "output_type": "stream",
     "text": [
      "5efa Python argument types in\n",
      "    rdkit.Chem.rdmolfiles.MolToSmiles(NoneType)\n",
      "did not match C++ signature:\n",
      "    MolToSmiles(RDKit::ROMol mol, bool isomericSmiles=True, bool kekuleSmiles=False, int rootedAtAtom=-1, bool canonical=True, bool allBondsExplicit=False, bool allHsExplicit=False, bool doRandom=False)\n",
      "    MolToSmiles(RDKit::ROMol mol, RDKit::SmilesWriteParams params)\n"
     ]
    },
    {
     "name": "stderr",
     "output_type": "stream",
     "text": [
      "1 molecule converted\n",
      "1 molecule converted\n",
      "==============================\n",
      "*** Open Babel Warning  in ReadMolecule\n",
      "  Failed to kekulize aromatic bonds in MOL2 file (title is 2xbp_ligand)\n",
      "\n",
      "1 molecule converted\n",
      "==============================\n",
      "*** Open Babel Warning  in ParseSmiles\n",
      "  Failed to kekulize aromatic SMILES (title is 2xbp_ligand)\n",
      "\n",
      "1 molecule converted\n",
      "==============================\n",
      "*** Open Babel Warning  in ReadMolecule\n",
      "  Failed to kekulize aromatic bonds in MOL2 file (title is 1d4p_ligand)\n",
      "\n",
      "1 molecule converted\n",
      "==============================\n",
      "*** Open Babel Warning  in ParseSmiles\n",
      "  Failed to kekulize aromatic SMILES (title is 1d4p_ligand)\n",
      "\n",
      "1 molecule converted\n",
      "1 molecule converted\n",
      "1 molecule converted\n",
      "1 molecule converted\n",
      "1 molecule converted\n",
      "1 molecule converted\n",
      "1 molecule converted\n",
      "==============================\n",
      "*** Open Babel Warning  in ReadMolecule\n",
      "  Failed to kekulize aromatic bonds in MOL2 file (title is 4o9w_ligand)\n",
      "\n",
      "1 molecule converted\n",
      "==============================\n",
      "*** Open Babel Warning  in ParseSmiles\n",
      "  Failed to kekulize aromatic SMILES (title is 4o9w_ligand)\n",
      "\n",
      "1 molecule converted\n",
      "1 molecule converted\n",
      "1 molecule converted\n",
      "1 molecule converted\n",
      "1 molecule converted\n",
      "1 molecule converted\n",
      "1 molecule converted\n",
      "1 molecule converted\n",
      "1 molecule converted\n",
      "==============================\n",
      "*** Open Babel Warning  in ReadMolecule\n",
      "  Failed to kekulize aromatic bonds in MOL2 file (title is 3rm9_ligand)\n",
      "\n",
      "1 molecule converted\n",
      "==============================\n",
      "*** Open Babel Warning  in ParseSmiles\n",
      "  Failed to kekulize aromatic SMILES (title is 3rm9_ligand)\n",
      "\n",
      "1 molecule converted\n",
      "1 molecule converted\n",
      "1 molecule converted\n",
      "1 molecule converted\n",
      "1 molecule converted\n",
      "1 molecule converted\n",
      "1 molecule converted\n",
      "1 molecule converted\n",
      "1 molecule converted\n",
      "==============================\n",
      "*** Open Babel Warning  in ReadMolecule\n",
      "  Failed to kekulize aromatic bonds in MOL2 file (title is 3bxe_ligand)\n",
      "\n",
      "1 molecule converted\n",
      "==============================\n",
      "*** Open Babel Warning  in ParseSmiles\n",
      "  Failed to kekulize aromatic SMILES (title is 3bxe_ligand)\n",
      "\n",
      "1 molecule converted\n",
      "1 molecule converted\n",
      "1 molecule converted\n",
      "1 molecule converted\n",
      "1 molecule converted\n",
      "1 molecule converted\n",
      "1 molecule converted\n",
      "1 molecule converted\n",
      "1 molecule converted\n",
      "1 molecule converted\n",
      "1 molecule converted\n",
      "==============================\n",
      "*** Open Babel Warning  in ReadMolecule\n",
      "  Failed to kekulize aromatic bonds in MOL2 file (title is 1dar_ligand)\n",
      "\n",
      "1 molecule converted\n",
      "==============================\n",
      "*** Open Babel Warning  in ParseSmiles\n",
      "  Failed to kekulize aromatic SMILES (title is 1dar_ligand)\n",
      "\n",
      "1 molecule converted\n",
      "1 molecule converted\n",
      "1 molecule converted\n",
      "1 molecule converted\n",
      "1 molecule converted\n",
      "1 molecule converted\n",
      "1 molecule converted\n",
      "1 molecule converted\n",
      "1 molecule converted\n",
      "1 molecule converted\n",
      "1 molecule converted\n",
      "==============================\n",
      "*** Open Babel Warning  in ReadMolecule\n",
      "  Failed to kekulize aromatic bonds in MOL2 file (title is 1w9v_ligand)\n",
      "\n",
      "1 molecule converted\n",
      "==============================\n",
      "*** Open Babel Warning  in ParseSmiles\n",
      "  Failed to kekulize aromatic SMILES (title is 1w9v_ligand)\n",
      "\n",
      "1 molecule converted\n",
      "==============================\n",
      "*** Open Babel Warning  in ReadMolecule\n",
      "  Failed to kekulize aromatic bonds in MOL2 file (title is 1lol_ligand)\n",
      "\n",
      "1 molecule converted\n",
      "==============================\n",
      "*** Open Babel Warning  in ParseSmiles\n",
      "  Failed to kekulize aromatic SMILES (title is 1lol_ligand)\n",
      "\n",
      "1 molecule converted\n",
      "1 molecule converted\n",
      "1 molecule converted\n",
      "==============================\n",
      "*** Open Babel Warning  in ReadMolecule\n",
      "  Failed to kekulize aromatic bonds in MOL2 file (title is 3rbu_ligand)\n",
      "\n",
      "1 molecule converted\n",
      "==============================\n",
      "*** Open Babel Warning  in ParseSmiles\n",
      "  Failed to kekulize aromatic SMILES (title is 3rbu_ligand)\n",
      "\n",
      "1 molecule converted\n",
      "1 molecule converted\n",
      "1 molecule converted\n",
      "==============================\n",
      "*** Open Babel Warning  in ReadMolecule\n",
      "  Failed to kekulize aromatic bonds in MOL2 file (title is 1q54_ligand)\n",
      "\n",
      "1 molecule converted\n",
      "==============================\n",
      "*** Open Babel Warning  in ParseSmiles\n",
      "  Failed to kekulize aromatic SMILES (title is 1q54_ligand)\n",
      "\n",
      "1 molecule converted\n",
      "1 molecule converted\n",
      "1 molecule converted\n",
      "==============================\n",
      "*** Open Babel Warning  in ReadMolecule\n",
      "  Failed to kekulize aromatic bonds in MOL2 file (title is 4uma_ligand)\n",
      "\n",
      "1 molecule converted\n",
      "==============================\n",
      "*** Open Babel Warning  in ParseSmiles\n",
      "  Failed to kekulize aromatic SMILES (title is 4uma_ligand)\n",
      "\n",
      "1 molecule converted\n",
      "1 molecule converted\n",
      "1 molecule converted\n",
      "==============================\n",
      "*** Open Babel Warning  in ReadMolecule\n",
      "  Failed to kekulize aromatic bonds in MOL2 file (title is 4g0q_ligand)\n",
      "\n",
      "1 molecule converted\n",
      "==============================\n",
      "*** Open Babel Warning  in ParseSmiles\n",
      "  Failed to kekulize aromatic SMILES (title is 4g0q_ligand)\n",
      "\n",
      "1 molecule converted\n",
      "1 molecule converted\n",
      "1 molecule converted\n",
      "1 molecule converted\n",
      "1 molecule converted\n",
      "1 molecule converted\n",
      "1 molecule converted\n",
      "1 molecule converted\n",
      "1 molecule converted\n",
      "1 molecule converted\n",
      "1 molecule converted\n",
      "1 molecule converted\n",
      "1 molecule converted\n",
      "1 molecule converted\n",
      "1 molecule converted\n",
      "1 molecule converted\n",
      "1 molecule converted\n",
      "1 molecule converted\n",
      "1 molecule converted\n",
      "1 molecule converted\n",
      "1 molecule converted\n",
      "1 molecule converted\n",
      "1 molecule converted\n",
      "==============================\n",
      "*** Open Babel Warning  in ReadMolecule\n",
      "  Failed to kekulize aromatic bonds in MOL2 file (title is 1ypj_ligand)\n",
      "\n",
      "1 molecule converted\n",
      "==============================\n",
      "*** Open Babel Warning  in ParseSmiles\n",
      "  Failed to kekulize aromatic SMILES (title is 1ypj_ligand)\n",
      "\n",
      "1 molecule converted\n",
      "==============================\n",
      "*** Open Babel Warning  in ReadMolecule\n",
      "  Failed to kekulize aromatic bonds in MOL2 file (title is 3b7r_ligand)\n",
      "\n",
      "1 molecule converted\n",
      "==============================\n",
      "*** Open Babel Warning  in ParseSmiles\n",
      "  Failed to kekulize aromatic SMILES (title is 3b7r_ligand)\n",
      "\n",
      "1 molecule converted\n",
      "==============================\n",
      "*** Open Babel Warning  in ReadMolecule\n",
      "  Failed to kekulize aromatic bonds in MOL2 file (title is 1xka_ligand)\n",
      "\n",
      "1 molecule converted\n",
      "==============================\n",
      "*** Open Babel Warning  in ParseSmiles\n",
      "  Failed to kekulize aromatic SMILES (title is 1xka_ligand)\n",
      "\n",
      "1 molecule converted\n",
      "1 molecule converted\n",
      "1 molecule converted\n",
      "1 molecule converted\n",
      "1 molecule converted\n",
      "1 molecule converted\n",
      "1 molecule converted\n",
      "==============================\n",
      "*** Open Babel Warning  in ReadMolecule\n",
      "  Failed to kekulize aromatic bonds in MOL2 file (title is 3aaq_ligand)\n",
      "\n",
      "1 molecule converted\n",
      "==============================\n",
      "*** Open Babel Warning  in ParseSmiles\n",
      "  Failed to kekulize aromatic SMILES (title is 3aaq_ligand)\n",
      "\n",
      "1 molecule converted\n",
      "1 molecule converted\n",
      "1 molecule converted\n",
      "1 molecule converted\n",
      "1 molecule converted\n",
      "1 molecule converted\n",
      "1 molecule converted\n",
      "1 molecule converted\n",
      "1 molecule converted\n",
      "1 molecule converted\n",
      "1 molecule converted\n",
      "==============================\n",
      "*** Open Babel Warning  in ReadMolecule\n",
      "  Failed to kekulize aromatic bonds in MOL2 file (title is 1ppc_ligand)\n",
      "\n",
      "1 molecule converted\n",
      "==============================\n",
      "*** Open Babel Warning  in ParseSmiles\n",
      "  Failed to kekulize aromatic SMILES (title is 1ppc_ligand)\n",
      "\n",
      "1 molecule converted\n",
      "1 molecule converted\n",
      "1 molecule converted\n",
      "1 molecule converted\n",
      "1 molecule converted\n",
      "1 molecule converted\n",
      "1 molecule converted\n",
      "==============================\n",
      "*** Open Babel Warning  in ReadMolecule\n",
      "  Failed to kekulize aromatic bonds in MOL2 file (title is 1g7q_ligand)\n",
      "\n",
      "1 molecule converted\n",
      "==============================\n",
      "*** Open Babel Warning  in ParseSmiles\n",
      "  Failed to kekulize aromatic SMILES (title is 1g7q_ligand)\n",
      "\n",
      "1 molecule converted\n",
      "1 molecule converted\n",
      "1 molecule converted\n",
      "==============================\n",
      "*** Open Babel Warning  in ReadMolecule\n",
      "  Failed to kekulize aromatic bonds in MOL2 file (title is 3cft_ligand)\n",
      "\n",
      "1 molecule converted\n",
      "==============================\n",
      "*** Open Babel Warning  in ParseSmiles\n",
      "  Failed to kekulize aromatic SMILES (title is 3cft_ligand)\n",
      "\n",
      "1 molecule converted\n",
      "1 molecule converted\n",
      "1 molecule converted\n",
      "1 molecule converted\n",
      "1 molecule converted\n",
      "==============================\n",
      "*** Open Babel Warning  in ReadMolecule\n",
      "  Failed to kekulize aromatic bonds in MOL2 file (title is 1o3p_ligand)\n",
      "\n",
      "1 molecule converted\n",
      "==============================\n",
      "*** Open Babel Warning  in ParseSmiles\n",
      "  Failed to kekulize aromatic SMILES (title is 1o3p_ligand)\n",
      "\n",
      "1 molecule converted\n",
      "==============================\n",
      "*** Open Babel Warning  in ReadMolecule\n",
      "  Failed to kekulize aromatic bonds in MOL2 file (title is 1afl_ligand)\n",
      "\n",
      "1 molecule converted\n",
      "==============================\n",
      "*** Open Babel Warning  in ParseSmiles\n",
      "  Failed to kekulize aromatic SMILES (title is 1afl_ligand)\n",
      "\n",
      "1 molecule converted\n",
      "1 molecule converted\n",
      "1 molecule converted\n",
      "1 molecule converted\n",
      "1 molecule converted\n",
      "1 molecule converted\n",
      "1 molecule converted\n",
      "==============================\n",
      "*** Open Babel Warning  in ReadMolecule\n",
      "  Failed to kekulize aromatic bonds in MOL2 file (title is 3ny3_ligand)\n",
      "\n",
      "1 molecule converted\n",
      "==============================\n",
      "*** Open Babel Warning  in ParseSmiles\n",
      "  Failed to kekulize aromatic SMILES (title is 3ny3_ligand)\n",
      "\n",
      "1 molecule converted\n",
      "1 molecule converted\n",
      "1 molecule converted\n",
      "1 molecule converted\n",
      "1 molecule converted\n",
      "1 molecule converted\n",
      "1 molecule converted\n",
      "1 molecule converted\n",
      "1 molecule converted\n",
      "1 molecule converted\n",
      "1 molecule converted\n",
      "1 molecule converted\n",
      "1 molecule converted\n",
      "1 molecule converted\n",
      "1 molecule converted\n",
      "==============================\n",
      "*** Open Babel Warning  in ReadMolecule\n",
      "  Failed to kekulize aromatic bonds in MOL2 file (title is 4jkw_ligand)\n",
      "\n",
      "1 molecule converted\n",
      "==============================\n",
      "*** Open Babel Warning  in ParseSmiles\n",
      "  Failed to kekulize aromatic SMILES (title is 4jkw_ligand)\n",
      "\n",
      "1 molecule converted\n",
      "==============================\n",
      "*** Open Babel Warning  in ReadMolecule\n",
      "  Failed to kekulize aromatic bonds in MOL2 file (title is 4ew3_ligand)\n",
      "\n",
      "1 molecule converted\n",
      "==============================\n",
      "*** Open Babel Warning  in ParseSmiles\n",
      "  Failed to kekulize aromatic SMILES (title is 4ew3_ligand)\n",
      "\n",
      "1 molecule converted\n",
      "1 molecule converted\n",
      "1 molecule converted\n",
      "==============================\n",
      "*** Open Babel Warning  in ReadMolecule\n",
      "  Failed to kekulize aromatic bonds in MOL2 file (title is 4jyb_ligand)\n",
      "\n",
      "1 molecule converted\n",
      "==============================\n",
      "*** Open Babel Warning  in ParseSmiles\n",
      "  Failed to kekulize aromatic SMILES (title is 4jyb_ligand)\n",
      "\n",
      "1 molecule converted\n",
      "1 molecule converted\n",
      "1 molecule converted\n",
      "1 molecule converted\n",
      "1 molecule converted\n",
      "1 molecule converted\n",
      "1 molecule converted\n",
      "1 molecule converted\n",
      "1 molecule converted\n",
      "1 molecule converted\n",
      "1 molecule converted\n",
      "1 molecule converted\n",
      "1 molecule converted\n",
      "==============================\n",
      "*** Open Babel Warning  in ReadMolecule\n",
      "  Failed to kekulize aromatic bonds in MOL2 file (title is 3o75_ligand)\n",
      "\n",
      "1 molecule converted\n",
      "==============================\n",
      "*** Open Babel Warning  in ParseSmiles\n",
      "  Failed to kekulize aromatic SMILES (title is 3o75_ligand)\n",
      "\n",
      "1 molecule converted\n",
      "1 molecule converted\n",
      "1 molecule converted\n",
      "1 molecule converted\n",
      "1 molecule converted\n",
      "1 molecule converted\n",
      "1 molecule converted\n",
      "1 molecule converted\n",
      "1 molecule converted\n",
      "==============================\n",
      "*** Open Babel Warning  in ReadMolecule\n",
      "  Failed to kekulize aromatic bonds in MOL2 file (title is 3c52_ligand)\n",
      "\n",
      "1 molecule converted\n",
      "==============================\n",
      "*** Open Babel Warning  in ParseSmiles\n",
      "  Failed to kekulize aromatic SMILES (title is 3c52_ligand)\n",
      "\n",
      "1 molecule converted\n",
      "==============================\n",
      "*** Open Babel Warning  in ReadMolecule\n",
      "  Failed to kekulize aromatic bonds in MOL2 file (title is 1jmf_ligand)\n",
      "\n",
      "1 molecule converted\n",
      "==============================\n",
      "*** Open Babel Warning  in ParseSmiles\n",
      "  Failed to kekulize aromatic SMILES (title is 1jmf_ligand)\n",
      "\n",
      "1 molecule converted\n",
      "1 molecule converted\n",
      "1 molecule converted\n",
      "1 molecule converted\n",
      "1 molecule converted\n",
      "1 molecule converted\n",
      "1 molecule converted\n",
      "1 molecule converted\n",
      "1 molecule converted\n",
      "1 molecule converted\n",
      "1 molecule converted\n",
      "1 molecule converted\n",
      "1 molecule converted\n",
      "==============================\n",
      "*** Open Babel Warning  in ReadMolecule\n",
      "  Failed to kekulize aromatic bonds in MOL2 file (title is 5a2i_ligand)\n",
      "\n",
      "1 molecule converted\n",
      "==============================\n",
      "*** Open Babel Warning  in ParseSmiles\n",
      "  Failed to kekulize aromatic SMILES (title is 5a2i_ligand)\n",
      "\n",
      "1 molecule converted\n",
      "1 molecule converted\n",
      "1 molecule converted\n",
      "==============================\n",
      "*** Open Babel Warning  in ReadMolecule\n",
      "  Failed to kekulize aromatic bonds in MOL2 file (title is 4rhx_ligand)\n",
      "\n",
      "1 molecule converted\n",
      "==============================\n",
      "*** Open Babel Warning  in ParseSmiles\n",
      "  Failed to kekulize aromatic SMILES (title is 4rhx_ligand)\n",
      "\n",
      "1 molecule converted\n",
      "1 molecule converted\n",
      "1 molecule converted\n",
      "1 molecule converted\n",
      "1 molecule converted\n",
      "==============================\n",
      "*** Open Babel Warning  in ReadMolecule\n",
      "  Failed to kekulize aromatic bonds in MOL2 file (title is 3lpp_ligand)\n",
      "\n",
      "1 molecule converted\n",
      "==============================\n",
      "*** Open Babel Warning  in ParseSmiles\n",
      "  Failed to kekulize aromatic SMILES (title is 3lpp_ligand)\n",
      "\n",
      "1 molecule converted\n",
      "1 molecule converted\n",
      "1 molecule converted\n",
      "1 molecule converted\n",
      "1 molecule converted\n",
      "1 molecule converted\n",
      "1 molecule converted\n",
      "1 molecule converted\n",
      "1 molecule converted\n",
      "==============================\n",
      "*** Open Babel Warning  in ReadMolecule\n",
      "  Failed to kekulize aromatic bonds in MOL2 file (title is 3iog_ligand)\n",
      "\n",
      "1 molecule converted\n",
      "==============================\n",
      "*** Open Babel Warning  in ParseSmiles\n",
      "  Failed to kekulize aromatic SMILES (title is 3iog_ligand)\n",
      "\n",
      "1 molecule converted\n",
      "1 molecule converted\n",
      "1 molecule converted\n",
      "1 molecule converted\n",
      "1 molecule converted\n",
      "1 molecule converted\n",
      "1 molecule converted\n",
      "1 molecule converted\n",
      "1 molecule converted\n",
      "1 molecule converted\n",
      "1 molecule converted\n",
      "1 molecule converted\n",
      "1 molecule converted\n",
      "1 molecule converted\n",
      "1 molecule converted\n",
      "1 molecule converted\n",
      "1 molecule converted\n",
      "1 molecule converted\n",
      "1 molecule converted\n",
      "==============================\n",
      "*** Open Babel Warning  in ReadMolecule\n",
      "  Failed to kekulize aromatic bonds in MOL2 file (title is 2zft_ligand)\n",
      "\n",
      "1 molecule converted\n",
      "==============================\n",
      "*** Open Babel Warning  in ParseSmiles\n",
      "  Failed to kekulize aromatic SMILES (title is 2zft_ligand)\n",
      "\n",
      "1 molecule converted\n",
      "==============================\n",
      "*** Open Babel Warning  in ReadMolecule\n",
      "  Failed to kekulize aromatic bonds in MOL2 file (title is 4kcx_ligand)\n",
      "\n",
      "1 molecule converted\n",
      "==============================\n",
      "*** Open Babel Warning  in ParseSmiles\n",
      "  Failed to kekulize aromatic SMILES (title is 4kcx_ligand)\n",
      "\n",
      "1 molecule converted\n",
      "1 molecule converted\n",
      "1 molecule converted\n",
      "1 molecule converted\n",
      "1 molecule converted\n",
      "1 molecule converted\n",
      "1 molecule converted\n",
      "==============================\n",
      "*** Open Babel Warning  in ReadMolecule\n",
      "  Failed to kekulize aromatic bonds in MOL2 file (title is 1c1v_ligand)\n",
      "\n",
      "1 molecule converted\n",
      "==============================\n",
      "*** Open Babel Warning  in ParseSmiles\n",
      "  Failed to kekulize aromatic SMILES (title is 1c1v_ligand)\n",
      "\n",
      "1 molecule converted\n",
      "==============================\n",
      "*** Open Babel Warning  in ReadMolecule\n",
      "  Failed to kekulize aromatic bonds in MOL2 file (title is 3juk_ligand)\n",
      "\n",
      "1 molecule converted\n",
      "==============================\n",
      "*** Open Babel Warning  in ParseSmiles\n",
      "  Failed to kekulize aromatic SMILES (title is 3juk_ligand)\n",
      "\n",
      "1 molecule converted\n",
      "1 molecule converted\n",
      "1 molecule converted\n",
      "1 molecule converted\n",
      "1 molecule converted\n",
      "1 molecule converted\n",
      "1 molecule converted\n",
      "1 molecule converted\n",
      "1 molecule converted\n",
      "1 molecule converted\n",
      "1 molecule converted\n",
      "1 molecule converted\n",
      "1 molecule converted\n",
      "1 molecule converted\n",
      "1 molecule converted\n",
      "1 molecule converted\n",
      "1 molecule converted\n",
      "1 molecule converted\n",
      "1 molecule converted\n",
      "1 molecule converted\n",
      "1 molecule converted\n",
      "1 molecule converted\n",
      "1 molecule converted\n",
      "1 molecule converted\n",
      "1 molecule converted\n",
      "1 molecule converted\n",
      "1 molecule converted\n",
      "1 molecule converted\n",
      "1 molecule converted\n",
      "==============================\n",
      "*** Open Babel Warning  in ReadMolecule\n",
      "  Failed to kekulize aromatic bonds in MOL2 file (title is 2vpe_ligand)\n",
      "\n",
      "1 molecule converted\n",
      "==============================\n",
      "*** Open Babel Warning  in ParseSmiles\n",
      "  Failed to kekulize aromatic SMILES (title is 2vpe_ligand)\n",
      "\n",
      "1 molecule converted\n",
      "==============================\n",
      "*** Open Babel Warning  in ReadMolecule\n",
      "  Failed to kekulize aromatic bonds in MOL2 file (title is 4ryd_ligand)\n",
      "\n",
      "1 molecule converted\n",
      "==============================\n",
      "*** Open Babel Warning  in ParseSmiles\n",
      "  Failed to kekulize aromatic SMILES (title is 4ryd_ligand)\n",
      "\n",
      "1 molecule converted\n",
      "1 molecule converted\n",
      "1 molecule converted\n",
      "1 molecule converted\n",
      "1 molecule converted\n",
      "1 molecule converted\n",
      "1 molecule converted\n",
      "==============================\n",
      "*** Open Babel Warning  in ReadMolecule\n",
      "  Failed to kekulize aromatic bonds in MOL2 file (title is 2wjg_ligand)\n",
      "\n",
      "1 molecule converted\n",
      "==============================\n",
      "*** Open Babel Warning  in ParseSmiles\n",
      "  Failed to kekulize aromatic SMILES (title is 2wjg_ligand)\n",
      "\n",
      "1 molecule converted\n",
      "1 molecule converted\n",
      "1 molecule converted\n",
      "1 molecule converted\n",
      "1 molecule converted\n",
      "1 molecule converted\n",
      "1 molecule converted\n",
      "1 molecule converted\n",
      "1 molecule converted\n",
      "1 molecule converted\n",
      "1 molecule converted\n",
      "1 molecule converted\n",
      "1 molecule converted\n",
      "1 molecule converted\n",
      "1 molecule converted\n",
      "1 molecule converted\n",
      "1 molecule converted\n",
      "==============================\n",
      "*** Open Babel Warning  in ReadMolecule\n",
      "  Failed to kekulize aromatic bonds in MOL2 file (title is 2v88_ligand)\n",
      "\n",
      "1 molecule converted\n",
      "==============================\n",
      "*** Open Babel Warning  in ParseSmiles\n",
      "  Failed to kekulize aromatic SMILES (title is 2v88_ligand)\n",
      "\n",
      "1 molecule converted\n",
      "==============================\n",
      "*** Open Babel Warning  in ReadMolecule\n",
      "  Failed to kekulize aromatic bonds in MOL2 file (title is 3cfn_ligand)\n",
      "\n",
      "1 molecule converted\n",
      "==============================\n",
      "*** Open Babel Warning  in ParseSmiles\n",
      "  Failed to kekulize aromatic SMILES (title is 3cfn_ligand)\n",
      "\n",
      "1 molecule converted\n",
      "1 molecule converted\n",
      "1 molecule converted\n",
      "1 molecule converted\n",
      "1 molecule converted\n",
      "==============================\n",
      "*** Open Babel Warning  in ReadMolecule\n",
      "  Failed to kekulize aromatic bonds in MOL2 file (title is 1yej_ligand)\n",
      "\n",
      "1 molecule converted\n",
      "==============================\n",
      "*** Open Babel Warning  in ParseSmiles\n",
      "  Failed to kekulize aromatic SMILES (title is 1yej_ligand)\n",
      "\n",
      "1 molecule converted\n",
      "1 molecule converted\n",
      "1 molecule converted\n",
      "1 molecule converted\n",
      "1 molecule converted\n",
      "1 molecule converted\n",
      "1 molecule converted\n",
      "1 molecule converted\n",
      "1 molecule converted\n",
      "1 molecule converted\n",
      "1 molecule converted\n",
      "1 molecule converted\n",
      "1 molecule converted\n",
      "==============================\n",
      "*** Open Babel Warning  in ReadMolecule\n",
      "  Failed to kekulize aromatic bonds in MOL2 file (title is 3qx9_ligand)\n",
      "\n",
      "1 molecule converted\n",
      "==============================\n",
      "*** Open Babel Warning  in ParseSmiles\n",
      "  Failed to kekulize aromatic SMILES (title is 3qx9_ligand)\n",
      "\n",
      "1 molecule converted\n",
      "1 molecule converted\n",
      "1 molecule converted\n",
      "1 molecule converted\n",
      "1 molecule converted\n",
      "1 molecule converted\n",
      "1 molecule converted\n",
      "1 molecule converted\n",
      "1 molecule converted\n",
      "1 molecule converted\n",
      "1 molecule converted\n",
      "1 molecule converted\n",
      "1 molecule converted\n",
      "1 molecule converted\n",
      "1 molecule converted\n",
      "==============================\n",
      "*** Open Babel Warning  in ReadMolecule\n",
      "  Failed to kekulize aromatic bonds in MOL2 file (title is 3lzz_ligand)\n",
      "\n",
      "1 molecule converted\n",
      "==============================\n",
      "*** Open Babel Warning  in ParseSmiles\n",
      "  Failed to kekulize aromatic SMILES (title is 3lzz_ligand)\n",
      "\n",
      "1 molecule converted\n",
      "1 molecule converted\n",
      "1 molecule converted\n",
      "1 molecule converted\n",
      "1 molecule converted\n",
      "==============================\n",
      "*** Open Babel Warning  in ReadMolecule\n",
      "  Failed to kekulize aromatic bonds in MOL2 file (title is 1ch8_ligand)\n",
      "\n",
      "1 molecule converted\n",
      "==============================\n",
      "*** Open Babel Warning  in ParseSmiles\n",
      "  Failed to kekulize aromatic SMILES (title is 1ch8_ligand)\n",
      "\n",
      "1 molecule converted\n",
      "1 molecule converted\n",
      "1 molecule converted\n",
      "1 molecule converted\n",
      "1 molecule converted\n",
      "1 molecule converted\n",
      "1 molecule converted\n",
      "1 molecule converted\n",
      "1 molecule converted\n",
      "1 molecule converted\n",
      "1 molecule converted\n",
      "1 molecule converted\n",
      "1 molecule converted\n",
      "1 molecule converted\n",
      "1 molecule converted\n",
      "==============================\n",
      "*** Open Babel Warning  in ReadMolecule\n",
      "  Failed to kekulize aromatic bonds in MOL2 file (title is 2qv7_ligand)\n",
      "\n",
      "1 molecule converted\n",
      "==============================\n",
      "*** Open Babel Warning  in ParseSmiles\n",
      "  Failed to kekulize aromatic SMILES (title is 2qv7_ligand)\n",
      "\n",
      "1 molecule converted\n",
      "1 molecule converted\n",
      "1 molecule converted\n",
      "1 molecule converted\n",
      "1 molecule converted\n",
      "==============================\n",
      "*** Open Babel Warning  in ReadMolecule\n",
      "  Failed to kekulize aromatic bonds in MOL2 file (title is 2vnp_ligand)\n",
      "\n",
      "1 molecule converted\n",
      "==============================\n",
      "*** Open Babel Warning  in ParseSmiles\n",
      "  Failed to kekulize aromatic SMILES (title is 2vnp_ligand)\n",
      "\n",
      "1 molecule converted\n",
      "==============================\n",
      "*** Open Babel Warning  in ReadMolecule\n",
      "  Failed to kekulize aromatic bonds in MOL2 file (title is 1w9u_ligand)\n",
      "\n",
      "1 molecule converted\n",
      "==============================\n",
      "*** Open Babel Warning  in ParseSmiles\n",
      "  Failed to kekulize aromatic SMILES (title is 1w9u_ligand)\n",
      "\n",
      "1 molecule converted\n",
      "1 molecule converted\n",
      "1 molecule converted\n",
      "1 molecule converted\n",
      "1 molecule converted\n",
      "1 molecule converted\n",
      "1 molecule converted\n",
      "==============================\n",
      "*** Open Babel Warning  in ReadMolecule\n",
      "  Failed to kekulize aromatic bonds in MOL2 file (title is 2clk_ligand)\n",
      "\n",
      "1 molecule converted\n",
      "==============================\n",
      "*** Open Babel Warning  in ParseSmiles\n",
      "  Failed to kekulize aromatic SMILES (title is 2clk_ligand)\n",
      "\n",
      "1 molecule converted\n",
      "1 molecule converted\n",
      "1 molecule converted\n",
      "1 molecule converted\n",
      "1 molecule converted\n",
      "1 molecule converted\n",
      "1 molecule converted\n",
      "1 molecule converted\n",
      "1 molecule converted\n",
      "==============================\n",
      "*** Open Babel Warning  in ReadMolecule\n",
      "  Failed to kekulize aromatic bonds in MOL2 file (title is 1c5p_ligand)\n",
      "\n",
      "1 molecule converted\n",
      "==============================\n",
      "*** Open Babel Warning  in ParseSmiles\n",
      "  Failed to kekulize aromatic SMILES (title is 1c5p_ligand)\n",
      "\n",
      "1 molecule converted\n",
      "1 molecule converted\n",
      "1 molecule converted\n",
      "1 molecule converted\n",
      "1 molecule converted\n",
      "1 molecule converted\n",
      "1 molecule converted\n",
      "1 molecule converted\n",
      "1 molecule converted\n",
      "1 molecule converted\n",
      "1 molecule converted\n",
      "1 molecule converted\n",
      "1 molecule converted\n",
      "1 molecule converted\n",
      "1 molecule converted\n",
      "1 molecule converted\n",
      "1 molecule converted\n",
      "1 molecule converted\n",
      "1 molecule converted\n",
      "1 molecule converted\n",
      "1 molecule converted\n",
      "1 molecule converted\n",
      "1 molecule converted\n",
      "1 molecule converted\n",
      "1 molecule converted\n",
      "==============================\n",
      "*** Open Babel Warning  in ReadMolecule\n",
      "  Failed to kekulize aromatic bonds in MOL2 file (title is 4o6w_ligand)\n",
      "\n",
      "1 molecule converted\n",
      "==============================\n",
      "*** Open Babel Warning  in ParseSmiles\n",
      "  Failed to kekulize aromatic SMILES (title is 4o6w_ligand)\n",
      "\n",
      "1 molecule converted\n",
      "[09:32:17] Explicit valence for atom # 18 N, 4, is greater than permitted\n"
     ]
    },
    {
     "name": "stdout",
     "output_type": "stream",
     "text": [
      "4o6w Python argument types in\n",
      "    rdkit.Chem.rdmolfiles.MolToSmiles(NoneType)\n",
      "did not match C++ signature:\n",
      "    MolToSmiles(RDKit::ROMol mol, bool isomericSmiles=True, bool kekuleSmiles=False, int rootedAtAtom=-1, bool canonical=True, bool allBondsExplicit=False, bool allHsExplicit=False, bool doRandom=False)\n",
      "    MolToSmiles(RDKit::ROMol mol, RDKit::SmilesWriteParams params)\n"
     ]
    },
    {
     "name": "stderr",
     "output_type": "stream",
     "text": [
      "1 molecule converted\n",
      "1 molecule converted\n",
      "1 molecule converted\n",
      "1 molecule converted\n",
      "1 molecule converted\n",
      "1 molecule converted\n",
      "1 molecule converted\n",
      "1 molecule converted\n",
      "1 molecule converted\n",
      "1 molecule converted\n",
      "==============================\n",
      "*** Open Babel Warning  in ReadMolecule\n",
      "  Failed to kekulize aromatic bonds in MOL2 file (title is 3s8l_ligand)\n",
      "\n",
      "1 molecule converted\n",
      "==============================\n",
      "*** Open Babel Warning  in ParseSmiles\n",
      "  Failed to kekulize aromatic SMILES (title is 3s8l_ligand)\n",
      "\n",
      "1 molecule converted\n",
      "1 molecule converted\n",
      "1 molecule converted\n",
      "1 molecule converted\n",
      "1 molecule converted\n",
      "1 molecule converted\n",
      "1 molecule converted\n",
      "1 molecule converted\n",
      "1 molecule converted\n",
      "==============================\n",
      "*** Open Babel Warning  in ReadMolecule\n",
      "  Failed to kekulize aromatic bonds in MOL2 file (title is 3b5j_ligand)\n",
      "\n",
      "1 molecule converted\n",
      "==============================\n",
      "*** Open Babel Warning  in ParseSmiles\n",
      "  Failed to kekulize aromatic SMILES (title is 3b5j_ligand)\n",
      "\n",
      "1 molecule converted\n",
      "1 molecule converted\n",
      "1 molecule converted\n",
      "1 molecule converted\n",
      "1 molecule converted\n",
      "1 molecule converted\n",
      "1 molecule converted\n",
      "1 molecule converted\n",
      "1 molecule converted\n",
      "1 molecule converted\n",
      "1 molecule converted\n",
      "1 molecule converted\n",
      "1 molecule converted\n",
      "==============================\n",
      "*** Open Babel Warning  in ReadMolecule\n",
      "  Failed to kekulize aromatic bonds in MOL2 file (title is 4cwt_ligand)\n",
      "\n",
      "1 molecule converted\n",
      "==============================\n",
      "*** Open Babel Warning  in ParseSmiles\n",
      "  Failed to kekulize aromatic SMILES (title is 4cwt_ligand)\n",
      "\n",
      "1 molecule converted\n",
      "1 molecule converted\n",
      "1 molecule converted\n",
      "1 molecule converted\n",
      "1 molecule converted\n",
      "==============================\n",
      "*** Open Babel Warning  in ReadMolecule\n",
      "  Failed to kekulize aromatic bonds in MOL2 file (title is 1v1m_ligand)\n",
      "\n",
      "1 molecule converted\n",
      "==============================\n",
      "*** Open Babel Warning  in ParseSmiles\n",
      "  Failed to kekulize aromatic SMILES (title is 1v1m_ligand)\n",
      "\n",
      "1 molecule converted\n",
      "[09:32:19] Explicit valence for atom # 7 N, 4, is greater than permitted\n",
      "1 molecule converted\n",
      "1 molecule converted\n"
     ]
    },
    {
     "name": "stdout",
     "output_type": "stream",
     "text": [
      "1v1m Python argument types in\n",
      "    rdkit.Chem.rdmolfiles.MolToSmiles(NoneType)\n",
      "did not match C++ signature:\n",
      "    MolToSmiles(RDKit::ROMol mol, bool isomericSmiles=True, bool kekuleSmiles=False, int rootedAtAtom=-1, bool canonical=True, bool allBondsExplicit=False, bool allHsExplicit=False, bool doRandom=False)\n",
      "    MolToSmiles(RDKit::ROMol mol, RDKit::SmilesWriteParams params)\n"
     ]
    },
    {
     "name": "stderr",
     "output_type": "stream",
     "text": [
      "==============================\n",
      "*** Open Babel Warning  in ReadMolecule\n",
      "  Failed to kekulize aromatic bonds in MOL2 file (title is 1ew9_ligand)\n",
      "\n",
      "1 molecule converted\n",
      "==============================\n",
      "*** Open Babel Warning  in ParseSmiles\n",
      "  Failed to kekulize aromatic SMILES (title is 1ew9_ligand)\n",
      "\n",
      "1 molecule converted\n",
      "==============================\n",
      "*** Open Babel Warning  in ReadMolecule\n",
      "  Failed to kekulize aromatic bonds in MOL2 file (title is 1ppm_ligand)\n",
      "\n",
      "1 molecule converted\n",
      "==============================\n",
      "*** Open Babel Warning  in ParseSmiles\n",
      "  Failed to kekulize aromatic SMILES (title is 1ppm_ligand)\n",
      "\n",
      "1 molecule converted\n",
      "1 molecule converted\n",
      "1 molecule converted\n",
      "1 molecule converted\n",
      "1 molecule converted\n",
      "1 molecule converted\n",
      "1 molecule converted\n",
      "==============================\n",
      "*** Open Babel Warning  in ReadMolecule\n",
      "  Failed to kekulize aromatic bonds in MOL2 file (title is 2r75_ligand)\n",
      "\n",
      "1 molecule converted\n",
      "==============================\n",
      "*** Open Babel Warning  in ParseSmiles\n",
      "  Failed to kekulize aromatic SMILES (title is 2r75_ligand)\n",
      "\n",
      "1 molecule converted\n",
      "1 molecule converted\n",
      "1 molecule converted\n",
      "1 molecule converted\n",
      "1 molecule converted\n",
      "1 molecule converted\n",
      "1 molecule converted\n",
      "1 molecule converted\n",
      "1 molecule converted\n",
      "==============================\n",
      "*** Open Babel Warning  in ReadMolecule\n",
      "  Failed to kekulize aromatic bonds in MOL2 file (title is 3dgo_ligand)\n",
      "\n",
      "1 molecule converted\n",
      "==============================\n",
      "*** Open Babel Warning  in ParseSmiles\n",
      "  Failed to kekulize aromatic SMILES (title is 3dgo_ligand)\n",
      "\n",
      "1 molecule converted\n",
      "1 molecule converted\n",
      "1 molecule converted\n",
      "==============================\n",
      "*** Open Babel Warning  in ReadMolecule\n",
      "  Failed to kekulize aromatic bonds in MOL2 file (title is 3ies_ligand)\n",
      "\n",
      "1 molecule converted\n",
      "==============================\n",
      "*** Open Babel Warning  in ParseSmiles\n",
      "  Failed to kekulize aromatic SMILES (title is 3ies_ligand)\n",
      "\n",
      "1 molecule converted\n",
      "1 molecule converted\n",
      "1 molecule converted\n",
      "1 molecule converted\n",
      "1 molecule converted\n",
      "1 molecule converted\n",
      "1 molecule converted\n",
      "1 molecule converted\n",
      "1 molecule converted\n",
      "1 molecule converted\n",
      "1 molecule converted\n",
      "1 molecule converted\n",
      "1 molecule converted\n",
      "1 molecule converted\n",
      "1 molecule converted\n",
      "==============================\n",
      "*** Open Babel Warning  in ReadMolecule\n",
      "  Failed to kekulize aromatic bonds in MOL2 file (title is 1c4u_ligand)\n",
      "\n",
      "1 molecule converted\n",
      "==============================\n",
      "*** Open Babel Warning  in ParseSmiles\n",
      "  Failed to kekulize aromatic SMILES (title is 1c4u_ligand)\n",
      "\n",
      "1 molecule converted\n",
      "1 molecule converted\n",
      "1 molecule converted\n",
      "==============================\n",
      "*** Open Babel Warning  in ReadMolecule\n",
      "  Failed to kekulize aromatic bonds in MOL2 file (title is 4ipn_ligand)\n",
      "\n",
      "1 molecule converted\n",
      "==============================\n",
      "*** Open Babel Warning  in ParseSmiles\n",
      "  Failed to kekulize aromatic SMILES (title is 4ipn_ligand)\n",
      "\n",
      "1 molecule converted\n",
      "==============================\n",
      "*** Open Babel Warning  in ReadMolecule\n",
      "  Failed to kekulize aromatic bonds in MOL2 file (title is 2e91_ligand)\n",
      "\n",
      "1 molecule converted\n",
      "==============================\n",
      "*** Open Babel Warning  in ParseSmiles\n",
      "  Failed to kekulize aromatic SMILES (title is 2e91_ligand)\n",
      "\n",
      "1 molecule converted\n",
      "1 molecule converted\n",
      "1 molecule converted\n",
      "1 molecule converted\n",
      "1 molecule converted\n",
      "1 molecule converted\n",
      "1 molecule converted\n",
      "1 molecule converted\n",
      "1 molecule converted\n",
      "1 molecule converted\n",
      "1 molecule converted\n",
      "1 molecule converted\n",
      "1 molecule converted\n",
      "1 molecule converted\n",
      "1 molecule converted\n",
      "==============================\n",
      "*** Open Babel Warning  in ReadMolecule\n",
      "  Failed to kekulize aromatic bonds in MOL2 file (title is 3kmx_ligand)\n",
      "\n",
      "1 molecule converted\n",
      "==============================\n",
      "*** Open Babel Warning  in ParseSmiles\n",
      "  Failed to kekulize aromatic SMILES (title is 3kmx_ligand)\n",
      "\n",
      "1 molecule converted\n",
      "==============================\n",
      "*** Open Babel Warning  in ReadMolecule\n",
      "  Failed to kekulize aromatic bonds in MOL2 file (title is 2qfu_ligand)\n",
      "\n",
      "1 molecule converted\n",
      "==============================\n",
      "*** Open Babel Warning  in ParseSmiles\n",
      "  Failed to kekulize aromatic SMILES (title is 2qfu_ligand)\n",
      "\n",
      "1 molecule converted\n",
      "==============================\n",
      "*** Open Babel Warning  in ReadMolecule\n",
      "  Failed to kekulize aromatic bonds in MOL2 file (title is 4jwk_ligand)\n",
      "\n",
      "1 molecule converted\n",
      "==============================\n",
      "*** Open Babel Warning  in ParseSmiles\n",
      "  Failed to kekulize aromatic SMILES (title is 4jwk_ligand)\n",
      "\n",
      "1 molecule converted\n",
      "1 molecule converted\n",
      "1 molecule converted\n",
      "1 molecule converted\n",
      "1 molecule converted\n",
      "1 molecule converted\n",
      "1 molecule converted\n",
      "1 molecule converted\n",
      "1 molecule converted\n",
      "1 molecule converted\n",
      "1 molecule converted\n",
      "1 molecule converted\n",
      "1 molecule converted\n",
      "1 molecule converted\n",
      "1 molecule converted\n",
      "1 molecule converted\n",
      "1 molecule converted\n",
      "1 molecule converted\n",
      "1 molecule converted\n",
      "1 molecule converted\n",
      "1 molecule converted\n",
      "1 molecule converted\n",
      "1 molecule converted\n",
      "1 molecule converted\n",
      "1 molecule converted\n",
      "1 molecule converted\n",
      "1 molecule converted\n",
      "1 molecule converted\n",
      "1 molecule converted\n",
      "==============================\n",
      "*** Open Babel Warning  in ReadMolecule\n",
      "  Failed to kekulize aromatic bonds in MOL2 file (title is 3x00_ligand)\n",
      "\n",
      "1 molecule converted\n",
      "==============================\n",
      "*** Open Babel Warning  in ParseSmiles\n",
      "  Failed to kekulize aromatic SMILES (title is 3x00_ligand)\n",
      "\n",
      "1 molecule converted\n",
      "==============================\n",
      "*** Open Babel Warning  in ReadMolecule\n",
      "  Failed to kekulize aromatic bonds in MOL2 file (title is 1gaf_ligand)\n",
      "\n",
      "1 molecule converted\n",
      "==============================\n",
      "*** Open Babel Warning  in ParseSmiles\n",
      "  Failed to kekulize aromatic SMILES (title is 1gaf_ligand)\n",
      "\n",
      "1 molecule converted\n",
      "1 molecule converted\n",
      "1 molecule converted\n",
      "1 molecule converted\n",
      "1 molecule converted\n",
      "1 molecule converted\n",
      "1 molecule converted\n",
      "1 molecule converted\n",
      "1 molecule converted\n",
      "1 molecule converted\n",
      "1 molecule converted\n",
      "1 molecule converted\n",
      "1 molecule converted\n",
      "1 molecule converted\n",
      "1 molecule converted\n",
      "1 molecule converted\n",
      "1 molecule converted\n",
      "1 molecule converted\n",
      "1 molecule converted\n",
      "1 molecule converted\n",
      "1 molecule converted\n",
      "1 molecule converted\n",
      "1 molecule converted\n",
      "1 molecule converted\n",
      "1 molecule converted\n",
      "==============================\n",
      "*** Open Babel Warning  in ReadMolecule\n",
      "  Failed to kekulize aromatic bonds in MOL2 file (title is 3aho_ligand)\n",
      "\n",
      "1 molecule converted\n",
      "==============================\n",
      "*** Open Babel Warning  in ParseSmiles\n",
      "  Failed to kekulize aromatic SMILES (title is 3aho_ligand)\n",
      "\n",
      "1 molecule converted\n",
      "==============================\n",
      "*** Open Babel Warning  in ReadMolecule\n",
      "  Failed to kekulize aromatic bonds in MOL2 file (title is 2aoc_ligand)\n",
      "\n",
      "1 molecule converted\n",
      "==============================\n",
      "*** Open Babel Warning  in ParseSmiles\n",
      "  Failed to kekulize aromatic SMILES (title is 2aoc_ligand)\n",
      "\n",
      "1 molecule converted\n",
      "==============================\n",
      "*** Open Babel Warning  in ReadMolecule\n",
      "  Failed to kekulize aromatic bonds in MOL2 file (title is 1gi7_ligand)\n",
      "\n",
      "1 molecule converted\n",
      "==============================\n",
      "*** Open Babel Warning  in ParseSmiles\n",
      "  Failed to kekulize aromatic SMILES (title is 1gi7_ligand)\n",
      "\n",
      "1 molecule converted\n",
      "1 molecule converted\n",
      "1 molecule converted\n",
      "==============================\n",
      "*** Open Babel Warning  in ReadMolecule\n",
      "  Failed to kekulize aromatic bonds in MOL2 file (title is 3wgg_ligand)\n",
      "\n",
      "1 molecule converted\n",
      "==============================\n",
      "*** Open Babel Warning  in ParseSmiles\n",
      "  Failed to kekulize aromatic SMILES (title is 3wgg_ligand)\n",
      "\n",
      "1 molecule converted\n",
      "==============================\n",
      "*** Open Babel Warning  in ReadMolecule\n",
      "  Failed to kekulize aromatic bonds in MOL2 file (title is 2bvr_ligand)\n",
      "\n",
      "1 molecule converted\n",
      "==============================\n",
      "*** Open Babel Warning  in ParseSmiles\n",
      "  Failed to kekulize aromatic SMILES (title is 2bvr_ligand)\n",
      "\n",
      "1 molecule converted\n",
      "1 molecule converted\n",
      "1 molecule converted\n",
      "1 molecule converted\n",
      "1 molecule converted\n",
      "1 molecule converted\n",
      "1 molecule converted\n",
      "1 molecule converted\n",
      "1 molecule converted\n",
      "==============================\n",
      "*** Open Babel Warning  in ReadMolecule\n",
      "  Failed to kekulize aromatic bonds in MOL2 file (title is 1duv_ligand)\n",
      "\n",
      "1 molecule converted\n",
      "==============================\n",
      "*** Open Babel Warning  in ParseSmiles\n",
      "  Failed to kekulize aromatic SMILES (title is 1duv_ligand)\n",
      "\n",
      "1 molecule converted\n",
      "1 molecule converted\n",
      "1 molecule converted\n",
      "1 molecule converted\n",
      "1 molecule converted\n",
      "1 molecule converted\n",
      "1 molecule converted\n",
      "1 molecule converted\n",
      "1 molecule converted\n",
      "==============================\n",
      "*** Open Babel Warning  in ReadMolecule\n",
      "  Failed to kekulize aromatic bonds in MOL2 file (title is 3bzf_ligand)\n",
      "\n",
      "1 molecule converted\n",
      "==============================\n",
      "*** Open Babel Warning  in ParseSmiles\n",
      "  Failed to kekulize aromatic SMILES (title is 3bzf_ligand)\n",
      "\n",
      "1 molecule converted\n",
      "1 molecule converted\n",
      "1 molecule converted\n",
      "1 molecule converted\n",
      "1 molecule converted\n",
      "==============================\n",
      "*** Open Babel Warning  in ReadMolecule\n",
      "  Failed to kekulize aromatic bonds in MOL2 file (title is 4non_ligand)\n",
      "\n",
      "1 molecule converted\n",
      "==============================\n",
      "*** Open Babel Warning  in ParseSmiles\n",
      "  Failed to kekulize aromatic SMILES (title is 4non_ligand)\n",
      "\n",
      "1 molecule converted\n",
      "==============================\n",
      "*** Open Babel Warning  in ReadMolecule\n",
      "  Failed to kekulize aromatic bonds in MOL2 file (title is 1hi4_ligand)\n",
      "\n",
      "1 molecule converted\n",
      "==============================\n",
      "*** Open Babel Warning  in ParseSmiles\n",
      "  Failed to kekulize aromatic SMILES (title is 1hi4_ligand)\n",
      "\n",
      "1 molecule converted\n",
      "1 molecule converted\n",
      "1 molecule converted\n",
      "==============================\n",
      "*** Open Babel Warning  in ReadMolecule\n",
      "  Failed to kekulize aromatic bonds in MOL2 file (title is 4ewn_ligand)\n",
      "\n",
      "1 molecule converted\n",
      "==============================\n",
      "*** Open Babel Warning  in ParseSmiles\n",
      "  Failed to kekulize aromatic SMILES (title is 4ewn_ligand)\n",
      "\n",
      "1 molecule converted\n",
      "1 molecule converted\n",
      "1 molecule converted\n",
      "1 molecule converted\n",
      "1 molecule converted\n",
      "1 molecule converted\n",
      "1 molecule converted\n",
      "1 molecule converted\n",
      "1 molecule converted\n",
      "1 molecule converted\n",
      "1 molecule converted\n",
      "==============================\n",
      "*** Open Babel Warning  in ReadMolecule\n",
      "  Failed to kekulize aromatic bonds in MOL2 file (title is 1hi3_ligand)\n",
      "\n",
      "1 molecule converted\n",
      "==============================\n",
      "*** Open Babel Warning  in ParseSmiles\n",
      "  Failed to kekulize aromatic SMILES (title is 1hi3_ligand)\n",
      "\n",
      "1 molecule converted\n",
      "1 molecule converted\n",
      "1 molecule converted\n",
      "1 molecule converted\n",
      "1 molecule converted\n",
      "==============================\n",
      "*** Open Babel Warning  in ReadMolecule\n",
      "  Failed to kekulize aromatic bonds in MOL2 file (title is 8cpa_ligand)\n",
      "\n",
      "1 molecule converted\n",
      "==============================\n",
      "*** Open Babel Warning  in ParseSmiles\n",
      "  Failed to kekulize aromatic SMILES (title is 8cpa_ligand)\n",
      "\n",
      "1 molecule converted\n",
      "1 molecule converted\n",
      "1 molecule converted\n",
      "1 molecule converted\n",
      "1 molecule converted\n",
      "==============================\n",
      "*** Open Babel Warning  in ReadMolecule\n",
      "  Failed to kekulize aromatic bonds in MOL2 file (title is 1a1e_ligand)\n",
      "\n",
      "1 molecule converted\n",
      "==============================\n",
      "*** Open Babel Warning  in ParseSmiles\n",
      "  Failed to kekulize aromatic SMILES (title is 1a1e_ligand)\n",
      "\n",
      "1 molecule converted\n",
      "1 molecule converted\n",
      "1 molecule converted\n",
      "==============================\n",
      "*** Open Babel Warning  in ReadMolecule\n",
      "  Failed to kekulize aromatic bonds in MOL2 file (title is 2v2h_ligand)\n",
      "\n",
      "1 molecule converted\n",
      "==============================\n",
      "*** Open Babel Warning  in ParseSmiles\n",
      "  Failed to kekulize aromatic SMILES (title is 2v2h_ligand)\n",
      "\n",
      "1 molecule converted\n",
      "1 molecule converted\n",
      "1 molecule converted\n",
      "1 molecule converted\n",
      "1 molecule converted\n",
      "1 molecule converted\n",
      "1 molecule converted\n",
      "1 molecule converted\n",
      "1 molecule converted\n",
      "1 molecule converted\n",
      "1 molecule converted\n",
      "1 molecule converted\n",
      "1 molecule converted\n",
      "==============================\n",
      "*** Open Babel Warning  in ReadMolecule\n",
      "  Failed to kekulize aromatic bonds in MOL2 file (title is 1y3v_ligand)\n",
      "\n",
      "1 molecule converted\n",
      "==============================\n",
      "*** Open Babel Warning  in ParseSmiles\n",
      "  Failed to kekulize aromatic SMILES (title is 1y3v_ligand)\n",
      "\n",
      "1 molecule converted\n",
      "1 molecule converted\n",
      "1 molecule converted\n",
      "1 molecule converted\n",
      "1 molecule converted\n",
      "==============================\n",
      "*** Open Babel Warning  in ReadMolecule\n",
      "  Failed to kekulize aromatic bonds in MOL2 file (title is 4dcs_ligand)\n",
      "\n",
      "1 molecule converted\n",
      "==============================\n",
      "*** Open Babel Warning  in ParseSmiles\n",
      "  Failed to kekulize aromatic SMILES (title is 4dcs_ligand)\n",
      "\n",
      "1 molecule converted\n",
      "1 molecule converted\n",
      "1 molecule converted\n",
      "1 molecule converted\n",
      "1 molecule converted\n",
      "1 molecule converted\n",
      "1 molecule converted\n",
      "1 molecule converted\n",
      "1 molecule converted\n",
      "==============================\n",
      "*** Open Babel Warning  in ReadMolecule\n",
      "  Failed to kekulize aromatic bonds in MOL2 file (title is 1qb9_ligand)\n",
      "\n",
      "1 molecule converted\n",
      "==============================\n",
      "*** Open Babel Warning  in ParseSmiles\n",
      "  Failed to kekulize aromatic SMILES (title is 1qb9_ligand)\n",
      "\n",
      "1 molecule converted\n",
      "1 molecule converted\n",
      "1 molecule converted\n",
      "1 molecule converted\n",
      "1 molecule converted\n",
      "==============================\n",
      "*** Open Babel Warning  in ReadMolecule\n",
      "  Failed to kekulize aromatic bonds in MOL2 file (title is 4zj6_ligand)\n",
      "\n",
      "1 molecule converted\n",
      "==============================\n",
      "*** Open Babel Warning  in ParseSmiles\n",
      "  Failed to kekulize aromatic SMILES (title is 4zj6_ligand)\n",
      "\n",
      "1 molecule converted\n",
      "1 molecule converted\n",
      "1 molecule converted\n",
      "1 molecule converted\n",
      "1 molecule converted\n",
      "1 molecule converted\n",
      "1 molecule converted\n",
      "1 molecule converted\n",
      "1 molecule converted\n",
      "1 molecule converted\n",
      "1 molecule converted\n",
      "1 molecule converted\n",
      "1 molecule converted\n",
      "==============================\n",
      "*** Open Babel Warning  in ReadMolecule\n",
      "  Failed to kekulize aromatic bonds in MOL2 file (title is 1yfz_ligand)\n",
      "\n",
      "1 molecule converted\n",
      "==============================\n",
      "*** Open Babel Warning  in ParseSmiles\n",
      "  Failed to kekulize aromatic SMILES (title is 1yfz_ligand)\n",
      "\n",
      "1 molecule converted\n",
      "1 molecule converted\n",
      "1 molecule converted\n",
      "1 molecule converted\n",
      "1 molecule converted\n",
      "1 molecule converted\n",
      "1 molecule converted\n",
      "[09:32:27] Explicit valence for atom # 6 N, 4, is greater than permitted\n"
     ]
    },
    {
     "name": "stdout",
     "output_type": "stream",
     "text": [
      "2vwm Python argument types in\n",
      "    rdkit.Chem.rdmolfiles.MolToSmiles(NoneType)\n",
      "did not match C++ signature:\n",
      "    MolToSmiles(RDKit::ROMol mol, bool isomericSmiles=True, bool kekuleSmiles=False, int rootedAtAtom=-1, bool canonical=True, bool allBondsExplicit=False, bool allHsExplicit=False, bool doRandom=False)\n",
      "    MolToSmiles(RDKit::ROMol mol, RDKit::SmilesWriteParams params)\n"
     ]
    },
    {
     "name": "stderr",
     "output_type": "stream",
     "text": [
      "1 molecule converted\n",
      "1 molecule converted\n",
      "1 molecule converted\n",
      "1 molecule converted\n",
      "==============================\n",
      "*** Open Babel Warning  in ReadMolecule\n",
      "  Failed to kekulize aromatic bonds in MOL2 file (title is 3wqm_ligand)\n",
      "\n",
      "1 molecule converted\n",
      "==============================\n",
      "*** Open Babel Warning  in ParseSmiles\n",
      "  Failed to kekulize aromatic SMILES (title is 3wqm_ligand)\n",
      "\n",
      "1 molecule converted\n",
      "1 molecule converted\n",
      "1 molecule converted\n",
      "==============================\n",
      "*** Open Babel Warning  in ReadMolecule\n",
      "  Failed to kekulize aromatic bonds in MOL2 file (title is 1aj7_ligand)\n",
      "\n",
      "1 molecule converted\n",
      "==============================\n",
      "*** Open Babel Warning  in ParseSmiles\n",
      "  Failed to kekulize aromatic SMILES (title is 1aj7_ligand)\n",
      "\n",
      "1 molecule converted\n",
      "1 molecule converted\n",
      "1 molecule converted\n",
      "1 molecule converted\n",
      "1 molecule converted\n",
      "1 molecule converted\n",
      "1 molecule converted\n",
      "1 molecule converted\n",
      "1 molecule converted\n",
      "1 molecule converted\n",
      "1 molecule converted\n",
      "1 molecule converted\n",
      "1 molecule converted\n",
      "1 molecule converted\n",
      "1 molecule converted\n",
      "1 molecule converted\n",
      "1 molecule converted\n",
      "==============================\n",
      "*** Open Babel Warning  in ReadMolecule\n",
      "  Failed to kekulize aromatic bonds in MOL2 file (title is 4qpl_ligand)\n",
      "\n",
      "1 molecule converted\n",
      "==============================\n",
      "*** Open Babel Warning  in ParseSmiles\n",
      "  Failed to kekulize aromatic SMILES (title is 4qpl_ligand)\n",
      "\n",
      "1 molecule converted\n",
      "1 molecule converted\n",
      "1 molecule converted\n",
      "1 molecule converted\n",
      "1 molecule converted\n",
      "==============================\n",
      "*** Open Babel Warning  in ReadMolecule\n",
      "  Failed to kekulize aromatic bonds in MOL2 file (title is 1s5z_ligand)\n",
      "\n",
      "1 molecule converted\n",
      "==============================\n",
      "*** Open Babel Warning  in ParseSmiles\n",
      "  Failed to kekulize aromatic SMILES (title is 1s5z_ligand)\n",
      "\n",
      "1 molecule converted\n",
      "1 molecule converted\n",
      "1 molecule converted\n",
      "==============================\n",
      "*** Open Babel Warning  in ReadMolecule\n",
      "  Failed to kekulize aromatic bonds in MOL2 file (title is 1pph_ligand)\n",
      "\n",
      "1 molecule converted\n",
      "==============================\n",
      "*** Open Babel Warning  in ParseSmiles\n",
      "  Failed to kekulize aromatic SMILES (title is 1pph_ligand)\n",
      "\n",
      "1 molecule converted\n",
      "==============================\n",
      "*** Open Babel Warning  in ReadMolecule\n",
      "  Failed to kekulize aromatic bonds in MOL2 file (title is 1dl7_ligand)\n",
      "\n",
      "1 molecule converted\n",
      "==============================\n",
      "*** Open Babel Warning  in ParseSmiles\n",
      "  Failed to kekulize aromatic SMILES (title is 1dl7_ligand)\n",
      "\n",
      "1 molecule converted\n",
      "1 molecule converted\n",
      "1 molecule converted\n",
      "==============================\n",
      "*** Open Babel Warning  in ReadMolecule\n",
      "  Failed to kekulize aromatic bonds in MOL2 file (title is 3s8n_ligand)\n",
      "\n",
      "1 molecule converted\n",
      "==============================\n",
      "*** Open Babel Warning  in ParseSmiles\n",
      "  Failed to kekulize aromatic SMILES (title is 3s8n_ligand)\n",
      "\n",
      "1 molecule converted\n",
      "1 molecule converted\n",
      "1 molecule converted\n",
      "1 molecule converted\n",
      "1 molecule converted\n",
      "1 molecule converted\n",
      "1 molecule converted\n",
      "1 molecule converted\n",
      "1 molecule converted\n",
      "1 molecule converted\n",
      "1 molecule converted\n",
      "1 molecule converted\n",
      "1 molecule converted\n",
      "1 molecule converted\n",
      "1 molecule converted\n",
      "1 molecule converted\n",
      "1 molecule converted\n",
      "==============================\n",
      "*** Open Babel Warning  in ReadMolecule\n",
      "  Failed to kekulize aromatic bonds in MOL2 file (title is 4l4z_ligand)\n",
      "\n",
      "1 molecule converted\n",
      "==============================\n",
      "*** Open Babel Warning  in ParseSmiles\n",
      "  Failed to kekulize aromatic SMILES (title is 4l4z_ligand)\n",
      "\n",
      "1 molecule converted\n",
      "1 molecule converted\n",
      "1 molecule converted\n",
      "1 molecule converted\n",
      "1 molecule converted\n",
      "1 molecule converted\n",
      "1 molecule converted\n",
      "1 molecule converted\n",
      "1 molecule converted\n",
      "==============================\n",
      "*** Open Babel Warning  in ReadMolecule\n",
      "  Failed to kekulize aromatic bonds in MOL2 file (title is 1o5a_ligand)\n",
      "\n",
      "1 molecule converted\n",
      "==============================\n",
      "*** Open Babel Warning  in ParseSmiles\n",
      "  Failed to kekulize aromatic SMILES (title is 1o5a_ligand)\n",
      "\n",
      "1 molecule converted\n",
      "1 molecule converted\n",
      "1 molecule converted\n",
      "1 molecule converted\n",
      "1 molecule converted\n",
      "==============================\n",
      "*** Open Babel Warning  in ReadMolecule\n",
      "  Failed to kekulize aromatic bonds in MOL2 file (title is 4eb8_ligand)\n",
      "\n",
      "1 molecule converted\n",
      "==============================\n",
      "*** Open Babel Warning  in ParseSmiles\n",
      "  Failed to kekulize aromatic SMILES (title is 4eb8_ligand)\n",
      "\n",
      "1 molecule converted\n",
      "1 molecule converted\n",
      "1 molecule converted\n",
      "1 molecule converted\n",
      "1 molecule converted\n",
      "1 molecule converted\n",
      "1 molecule converted\n",
      "1 molecule converted\n",
      "1 molecule converted\n",
      "1 molecule converted\n",
      "1 molecule converted\n",
      "1 molecule converted\n",
      "1 molecule converted\n",
      "1 molecule converted\n",
      "1 molecule converted\n",
      "1 molecule converted\n",
      "1 molecule converted\n",
      "1 molecule converted\n",
      "1 molecule converted\n",
      "1 molecule converted\n",
      "1 molecule converted\n",
      "1 molecule converted\n",
      "1 molecule converted\n",
      "==============================\n",
      "*** Open Babel Warning  in ReadMolecule\n",
      "  Failed to kekulize aromatic bonds in MOL2 file (title is 3s8o_ligand)\n",
      "\n",
      "1 molecule converted\n",
      "==============================\n",
      "*** Open Babel Warning  in ParseSmiles\n",
      "  Failed to kekulize aromatic SMILES (title is 3s8o_ligand)\n",
      "\n",
      "1 molecule converted\n",
      "1 molecule converted\n",
      "1 molecule converted\n",
      "1 molecule converted\n",
      "1 molecule converted\n",
      "==============================\n",
      "*** Open Babel Warning  in ReadMolecule\n",
      "  Failed to kekulize aromatic bonds in MOL2 file (title is 3ujc_ligand)\n",
      "\n",
      "1 molecule converted\n",
      "==============================\n",
      "*** Open Babel Warning  in ParseSmiles\n",
      "  Failed to kekulize aromatic SMILES (title is 3ujc_ligand)\n",
      "\n",
      "1 molecule converted\n",
      "1 molecule converted\n",
      "1 molecule converted\n",
      "==============================\n",
      "*** Open Babel Warning  in ReadMolecule\n",
      "  Failed to kekulize aromatic bonds in MOL2 file (title is 1hyo_ligand)\n",
      "\n",
      "1 molecule converted\n",
      "==============================\n",
      "*** Open Babel Warning  in ParseSmiles\n",
      "  Failed to kekulize aromatic SMILES (title is 1hyo_ligand)\n",
      "\n",
      "1 molecule converted\n",
      "1 molecule converted\n",
      "1 molecule converted\n",
      "1 molecule converted\n",
      "1 molecule converted\n",
      "==============================\n",
      "*** Open Babel Warning  in ReadMolecule\n",
      "  Failed to kekulize aromatic bonds in MOL2 file (title is 1z4o_ligand)\n",
      "\n",
      "1 molecule converted\n",
      "==============================\n",
      "*** Open Babel Warning  in ParseSmiles\n",
      "  Failed to kekulize aromatic SMILES (title is 1z4o_ligand)\n",
      "\n",
      "1 molecule converted\n",
      "1 molecule converted\n",
      "1 molecule converted\n",
      "1 molecule converted\n",
      "1 molecule converted\n",
      "1 molecule converted\n",
      "1 molecule converted\n",
      "1 molecule converted\n",
      "1 molecule converted\n",
      "==============================\n",
      "*** Open Babel Warning  in ReadMolecule\n",
      "  Failed to kekulize aromatic bonds in MOL2 file (title is 1ols_ligand)\n",
      "\n",
      "1 molecule converted\n",
      "==============================\n",
      "*** Open Babel Warning  in ParseSmiles\n",
      "  Failed to kekulize aromatic SMILES (title is 1ols_ligand)\n",
      "\n",
      "1 molecule converted\n",
      "[09:32:32] Explicit valence for atom # 7 N, 4, is greater than permitted\n"
     ]
    },
    {
     "name": "stdout",
     "output_type": "stream",
     "text": [
      "1ols Python argument types in\n",
      "    rdkit.Chem.rdmolfiles.MolToSmiles(NoneType)\n",
      "did not match C++ signature:\n",
      "    MolToSmiles(RDKit::ROMol mol, bool isomericSmiles=True, bool kekuleSmiles=False, int rootedAtAtom=-1, bool canonical=True, bool allBondsExplicit=False, bool allHsExplicit=False, bool doRandom=False)\n",
      "    MolToSmiles(RDKit::ROMol mol, RDKit::SmilesWriteParams params)\n"
     ]
    },
    {
     "name": "stderr",
     "output_type": "stream",
     "text": [
      "1 molecule converted\n",
      "1 molecule converted\n",
      "1 molecule converted\n",
      "1 molecule converted\n",
      "1 molecule converted\n",
      "1 molecule converted\n",
      "1 molecule converted\n",
      "1 molecule converted\n",
      "1 molecule converted\n",
      "1 molecule converted\n",
      "1 molecule converted\n",
      "1 molecule converted\n",
      "==============================\n",
      "*** Open Babel Warning  in ReadMolecule\n",
      "  Failed to kekulize aromatic bonds in MOL2 file (title is 3q71_ligand)\n",
      "\n",
      "1 molecule converted\n",
      "==============================\n",
      "*** Open Babel Warning  in ParseSmiles\n",
      "  Failed to kekulize aromatic SMILES (title is 3q71_ligand)\n",
      "\n",
      "1 molecule converted\n",
      "1 molecule converted\n",
      "1 molecule converted\n",
      "1 molecule converted\n",
      "1 molecule converted\n",
      "1 molecule converted\n",
      "1 molecule converted\n",
      "1 molecule converted\n",
      "1 molecule converted\n",
      "1 molecule converted\n",
      "1 molecule converted\n",
      "1 molecule converted\n",
      "1 molecule converted\n",
      "1 molecule converted\n",
      "1 molecule converted\n",
      "1 molecule converted\n",
      "1 molecule converted\n",
      "==============================\n",
      "*** Open Babel Warning  in ReadMolecule\n",
      "  Failed to kekulize aromatic bonds in MOL2 file (title is 1jcx_ligand)\n",
      "\n",
      "1 molecule converted\n",
      "==============================\n",
      "*** Open Babel Warning  in ParseSmiles\n",
      "  Failed to kekulize aromatic SMILES (title is 1jcx_ligand)\n",
      "\n",
      "1 molecule converted\n",
      "1 molecule converted\n",
      "1 molecule converted\n",
      "1 molecule converted\n",
      "1 molecule converted\n",
      "1 molecule converted\n",
      "1 molecule converted\n",
      "1 molecule converted\n",
      "1 molecule converted\n",
      "1 molecule converted\n",
      "1 molecule converted\n",
      "1 molecule converted\n",
      "1 molecule converted\n",
      "1 molecule converted\n",
      "1 molecule converted\n",
      "1 molecule converted\n",
      "1 molecule converted\n",
      "1 molecule converted\n",
      "1 molecule converted\n",
      "==============================\n",
      "*** Open Babel Warning  in ReadMolecule\n",
      "  Failed to kekulize aromatic bonds in MOL2 file (title is 3kqr_ligand)\n",
      "\n",
      "1 molecule converted\n",
      "==============================\n",
      "*** Open Babel Warning  in ParseSmiles\n",
      "  Failed to kekulize aromatic SMILES (title is 3kqr_ligand)\n",
      "\n",
      "1 molecule converted\n",
      "==============================\n",
      "*** Open Babel Warning  in ReadMolecule\n",
      "  Failed to kekulize aromatic bonds in MOL2 file (title is 4gah_ligand)\n",
      "\n",
      "1 molecule converted\n",
      "==============================\n",
      "*** Open Babel Warning  in ParseSmiles\n",
      "  Failed to kekulize aromatic SMILES (title is 4gah_ligand)\n",
      "\n",
      "1 molecule converted\n",
      "1 molecule converted\n",
      "1 molecule converted\n",
      "==============================\n",
      "*** Open Babel Warning  in ReadMolecule\n",
      "  Failed to kekulize aromatic bonds in MOL2 file (title is 4umb_ligand)\n",
      "\n",
      "1 molecule converted\n",
      "==============================\n",
      "*** Open Babel Warning  in ParseSmiles\n",
      "  Failed to kekulize aromatic SMILES (title is 4umb_ligand)\n",
      "\n",
      "1 molecule converted\n",
      "==============================\n",
      "*** Open Babel Warning  in ReadMolecule\n",
      "  Failed to kekulize aromatic bonds in MOL2 file (title is 3jzg_ligand)\n",
      "\n",
      "1 molecule converted\n",
      "==============================\n",
      "*** Open Babel Warning  in ParseSmiles\n",
      "  Failed to kekulize aromatic SMILES (title is 3jzg_ligand)\n",
      "\n",
      "1 molecule converted\n",
      "1 molecule converted\n",
      "1 molecule converted\n",
      "1 molecule converted\n",
      "1 molecule converted\n",
      "1 molecule converted\n",
      "1 molecule converted\n",
      "1 molecule converted\n",
      "1 molecule converted\n",
      "1 molecule converted\n",
      "1 molecule converted\n",
      "==============================\n",
      "*** Open Babel Warning  in ReadMolecule\n",
      "  Failed to kekulize aromatic bonds in MOL2 file (title is 1afk_ligand)\n",
      "\n",
      "1 molecule converted\n",
      "==============================\n",
      "*** Open Babel Warning  in ParseSmiles\n",
      "  Failed to kekulize aromatic SMILES (title is 1afk_ligand)\n",
      "\n",
      "1 molecule converted\n",
      "1 molecule converted\n",
      "1 molecule converted\n",
      "1 molecule converted\n",
      "1 molecule converted\n",
      "1 molecule converted\n",
      "1 molecule converted\n",
      "1 molecule converted\n",
      "1 molecule converted\n",
      "1 molecule converted\n",
      "1 molecule converted\n",
      "1 molecule converted\n",
      "1 molecule converted\n",
      "==============================\n",
      "*** Open Babel Warning  in ReadMolecule\n",
      "  Failed to kekulize aromatic bonds in MOL2 file (title is 3cr5_ligand)\n",
      "\n",
      "1 molecule converted\n",
      "==============================\n",
      "*** Open Babel Warning  in ParseSmiles\n",
      "  Failed to kekulize aromatic SMILES (title is 3cr5_ligand)\n",
      "\n",
      "1 molecule converted\n",
      "1 molecule converted\n",
      "1 molecule converted\n",
      "1 molecule converted\n",
      "1 molecule converted\n",
      "==============================\n",
      "*** Open Babel Warning  in ReadMolecule\n",
      "  Failed to kekulize aromatic bonds in MOL2 file (title is 2qrk_ligand)\n",
      "\n",
      "1 molecule converted\n",
      "==============================\n",
      "*** Open Babel Warning  in ParseSmiles\n",
      "  Failed to kekulize aromatic SMILES (title is 2qrk_ligand)\n",
      "\n",
      "1 molecule converted\n",
      "1 molecule converted\n",
      "1 molecule converted\n",
      "1 molecule converted\n",
      "1 molecule converted\n",
      "1 molecule converted\n",
      "1 molecule converted\n",
      "1 molecule converted\n",
      "1 molecule converted\n",
      "1 molecule converted\n",
      "1 molecule converted\n",
      "1 molecule converted\n",
      "1 molecule converted\n",
      "==============================\n",
      "*** Open Babel Warning  in ReadMolecule\n",
      "  Failed to kekulize aromatic bonds in MOL2 file (title is 1ex8_ligand)\n",
      "\n",
      "1 molecule converted\n",
      "==============================\n",
      "*** Open Babel Warning  in ParseSmiles\n",
      "  Failed to kekulize aromatic SMILES (title is 1ex8_ligand)\n",
      "\n",
      "1 molecule converted\n",
      "1 molecule converted\n",
      "1 molecule converted\n",
      "==============================\n",
      "*** Open Babel Warning  in ReadMolecule\n",
      "  Failed to kekulize aromatic bonds in MOL2 file (title is 4emr_ligand)\n",
      "\n",
      "1 molecule converted\n",
      "==============================\n",
      "*** Open Babel Warning  in ParseSmiles\n",
      "  Failed to kekulize aromatic SMILES (title is 4emr_ligand)\n",
      "\n",
      "1 molecule converted\n",
      "[09:32:36] Explicit valence for atom # 9 N, 4, is greater than permitted\n",
      "==============================\n",
      "*** Open Babel Warning  in ReadMolecule\n",
      "  Failed to kekulize aromatic bonds in MOL2 file (title is 3ip8_ligand)\n",
      "\n",
      "1 molecule converted\n",
      "==============================\n",
      "*** Open Babel Warning  in ParseSmiles\n",
      "  Failed to kekulize aromatic SMILES (title is 3ip8_ligand)\n",
      "\n",
      "1 molecule converted\n"
     ]
    },
    {
     "name": "stdout",
     "output_type": "stream",
     "text": [
      "4emr Python argument types in\n",
      "    rdkit.Chem.rdmolfiles.MolToSmiles(NoneType)\n",
      "did not match C++ signature:\n",
      "    MolToSmiles(RDKit::ROMol mol, bool isomericSmiles=True, bool kekuleSmiles=False, int rootedAtAtom=-1, bool canonical=True, bool allBondsExplicit=False, bool allHsExplicit=False, bool doRandom=False)\n",
      "    MolToSmiles(RDKit::ROMol mol, RDKit::SmilesWriteParams params)\n"
     ]
    },
    {
     "name": "stderr",
     "output_type": "stream",
     "text": [
      "1 molecule converted\n",
      "1 molecule converted\n",
      "==============================\n",
      "*** Open Babel Warning  in ReadMolecule\n",
      "  Failed to kekulize aromatic bonds in MOL2 file (title is 1j14_ligand)\n",
      "\n",
      "1 molecule converted\n",
      "==============================\n",
      "*** Open Babel Warning  in ParseSmiles\n",
      "  Failed to kekulize aromatic SMILES (title is 1j14_ligand)\n",
      "\n",
      "1 molecule converted\n",
      "1 molecule converted\n",
      "1 molecule converted\n",
      "1 molecule converted\n",
      "1 molecule converted\n",
      "1 molecule converted\n",
      "1 molecule converted\n",
      "==============================\n",
      "*** Open Babel Warning  in ReadMolecule\n",
      "  Failed to kekulize aromatic bonds in MOL2 file (title is 1ado_ligand)\n",
      "\n",
      "1 molecule converted\n",
      "==============================\n",
      "*** Open Babel Warning  in ParseSmiles\n",
      "  Failed to kekulize aromatic SMILES (title is 1ado_ligand)\n",
      "\n",
      "1 molecule converted\n",
      "1 molecule converted\n",
      "1 molecule converted\n",
      "1 molecule converted\n",
      "1 molecule converted\n",
      "1 molecule converted\n",
      "1 molecule converted\n",
      "==============================\n",
      "*** Open Babel Warning  in ReadMolecule\n",
      "  Failed to kekulize aromatic bonds in MOL2 file (title is 4k55_ligand)\n",
      "\n",
      "1 molecule converted\n",
      "==============================\n",
      "*** Open Babel Warning  in ParseSmiles\n",
      "  Failed to kekulize aromatic SMILES (title is 4k55_ligand)\n",
      "\n",
      "1 molecule converted\n",
      "==============================\n",
      "*** Open Babel Warning  in ReadMolecule\n",
      "  Failed to kekulize aromatic bonds in MOL2 file (title is 4dy6_ligand)\n",
      "\n",
      "1 molecule converted\n",
      "==============================\n",
      "*** Open Babel Warning  in ParseSmiles\n",
      "  Failed to kekulize aromatic SMILES (title is 4dy6_ligand)\n",
      "\n",
      "1 molecule converted\n",
      "1 molecule converted\n",
      "1 molecule converted\n",
      "1 molecule converted\n",
      "1 molecule converted\n",
      "==============================\n",
      "*** Open Babel Warning  in ReadMolecule\n",
      "  Failed to kekulize aromatic bonds in MOL2 file (title is 2zgx_ligand)\n",
      "\n",
      "1 molecule converted\n",
      "==============================\n",
      "*** Open Babel Warning  in ParseSmiles\n",
      "  Failed to kekulize aromatic SMILES (title is 2zgx_ligand)\n",
      "\n",
      "1 molecule converted\n",
      "==============================\n",
      "*** Open Babel Warning  in ReadMolecule\n",
      "  Failed to kekulize aromatic bonds in MOL2 file (title is 3l4v_ligand)\n",
      "\n",
      "1 molecule converted\n",
      "==============================\n",
      "*** Open Babel Warning  in ParseSmiles\n",
      "  Failed to kekulize aromatic SMILES (title is 3l4v_ligand)\n",
      "\n",
      "1 molecule converted\n",
      "1 molecule converted\n",
      "1 molecule converted\n",
      "1 molecule converted\n",
      "1 molecule converted\n",
      "==============================\n",
      "*** Open Babel Warning  in ReadMolecule\n",
      "  Failed to kekulize aromatic bonds in MOL2 file (title is 1x8r_ligand)\n",
      "\n",
      "1 molecule converted\n",
      "==============================\n",
      "*** Open Babel Warning  in ParseSmiles\n",
      "  Failed to kekulize aromatic SMILES (title is 1x8r_ligand)\n",
      "\n",
      "1 molecule converted\n",
      "1 molecule converted\n",
      "1 molecule converted\n",
      "1 molecule converted\n",
      "1 molecule converted\n",
      "==============================\n",
      "*** Open Babel Warning  in ReadMolecule\n",
      "  Failed to kekulize aromatic bonds in MOL2 file (title is 4zl4_ligand)\n",
      "\n",
      "1 molecule converted\n",
      "==============================\n",
      "*** Open Babel Warning  in ParseSmiles\n",
      "  Failed to kekulize aromatic SMILES (title is 4zl4_ligand)\n",
      "\n",
      "1 molecule converted\n",
      "1 molecule converted\n",
      "1 molecule converted\n",
      "1 molecule converted\n",
      "1 molecule converted\n",
      "1 molecule converted\n",
      "1 molecule converted\n",
      "1 molecule converted\n",
      "1 molecule converted\n",
      "1 molecule converted\n",
      "1 molecule converted\n",
      "1 molecule converted\n",
      "1 molecule converted\n",
      "==============================\n",
      "*** Open Babel Warning  in ReadMolecule\n",
      "  Failed to kekulize aromatic bonds in MOL2 file (title is 1ksn_ligand)\n",
      "\n",
      "1 molecule converted\n",
      "==============================\n",
      "*** Open Babel Warning  in ParseSmiles\n",
      "  Failed to kekulize aromatic SMILES (title is 1ksn_ligand)\n",
      "\n",
      "1 molecule converted\n",
      "1 molecule converted\n",
      "1 molecule converted\n",
      "==============================\n",
      "*** Open Babel Warning  in ReadMolecule\n",
      "  Failed to kekulize aromatic bonds in MOL2 file (title is 1h0a_ligand)\n",
      "\n",
      "1 molecule converted\n",
      "==============================\n",
      "*** Open Babel Warning  in ParseSmiles\n",
      "  Failed to kekulize aromatic SMILES (title is 1h0a_ligand)\n",
      "\n",
      "1 molecule converted\n",
      "==============================\n",
      "*** Open Babel Warning  in ReadMolecule\n",
      "  Failed to kekulize aromatic bonds in MOL2 file (title is 2i4d_ligand)\n",
      "\n",
      "1 molecule converted\n",
      "==============================\n",
      "*** Open Babel Warning  in ParseSmiles\n",
      "  Failed to kekulize aromatic SMILES (title is 2i4d_ligand)\n",
      "\n",
      "1 molecule converted\n",
      "1 molecule converted\n",
      "1 molecule converted\n",
      "==============================\n",
      "*** Open Babel Warning  in ReadMolecule\n",
      "  Failed to kekulize aromatic bonds in MOL2 file (title is 5ct2_ligand)\n",
      "\n",
      "1 molecule converted\n",
      "==============================\n",
      "*** Open Babel Warning  in ParseSmiles\n",
      "  Failed to kekulize aromatic SMILES (title is 5ct2_ligand)\n",
      "\n",
      "1 molecule converted\n",
      "==============================\n",
      "*** Open Babel Warning  in ReadMolecule\n",
      "  Failed to kekulize aromatic bonds in MOL2 file (title is 6rnt_ligand)\n",
      "\n",
      "1 molecule converted\n",
      "==============================\n",
      "*** Open Babel Warning  in ParseSmiles\n",
      "  Failed to kekulize aromatic SMILES (title is 6rnt_ligand)\n",
      "\n",
      "1 molecule converted\n",
      "1 molecule converted\n",
      "1 molecule converted\n",
      "1 molecule converted\n",
      "1 molecule converted\n",
      "1 molecule converted\n",
      "1 molecule converted\n",
      "1 molecule converted\n",
      "1 molecule converted\n",
      "1 molecule converted\n",
      "1 molecule converted\n",
      "1 molecule converted\n",
      "1 molecule converted\n",
      "1 molecule converted\n",
      "1 molecule converted\n",
      "1 molecule converted\n",
      "1 molecule converted\n",
      "1 molecule converted\n",
      "1 molecule converted\n",
      "==============================\n",
      "*** Open Babel Warning  in ReadMolecule\n",
      "  Failed to kekulize aromatic bonds in MOL2 file (title is 4dju_ligand)\n",
      "\n",
      "1 molecule converted\n",
      "==============================\n",
      "*** Open Babel Warning  in ParseSmiles\n",
      "  Failed to kekulize aromatic SMILES (title is 4dju_ligand)\n",
      "\n",
      "1 molecule converted\n",
      "1 molecule converted\n",
      "1 molecule converted\n",
      "1 molecule converted\n",
      "1 molecule converted\n",
      "==============================\n",
      "*** Open Babel Warning  in ReadMolecule\n",
      "  Failed to kekulize aromatic bonds in MOL2 file (title is 1loq_ligand)\n",
      "\n",
      "1 molecule converted\n",
      "==============================\n",
      "*** Open Babel Warning  in ParseSmiles\n",
      "  Failed to kekulize aromatic SMILES (title is 1loq_ligand)\n",
      "\n",
      "1 molecule converted\n",
      "1 molecule converted\n",
      "1 molecule converted\n",
      "1 molecule converted\n",
      "1 molecule converted\n",
      "1 molecule converted\n",
      "1 molecule converted\n",
      "1 molecule converted\n",
      "1 molecule converted\n",
      "1 molecule converted\n",
      "1 molecule converted\n",
      "1 molecule converted\n",
      "1 molecule converted\n",
      "1 molecule converted\n",
      "1 molecule converted\n",
      "1 molecule converted\n",
      "1 molecule converted\n",
      "==============================\n",
      "*** Open Babel Warning  in ReadMolecule\n",
      "  Failed to kekulize aromatic bonds in MOL2 file (title is 1gj7_ligand)\n",
      "\n",
      "1 molecule converted\n",
      "==============================\n",
      "*** Open Babel Warning  in ParseSmiles\n",
      "  Failed to kekulize aromatic SMILES (title is 1gj7_ligand)\n",
      "\n",
      "1 molecule converted\n",
      "1 molecule converted\n",
      "1 molecule converted\n",
      "==============================\n",
      "*** Open Babel Warning  in ReadMolecule\n",
      "  Failed to kekulize aromatic bonds in MOL2 file (title is 1yq7_ligand)\n",
      "\n",
      "1 molecule converted\n",
      "==============================\n",
      "*** Open Babel Warning  in ParseSmiles\n",
      "  Failed to kekulize aromatic SMILES (title is 1yq7_ligand)\n",
      "\n",
      "1 molecule converted\n",
      "1 molecule converted\n",
      "1 molecule converted\n",
      "1 molecule converted\n",
      "1 molecule converted\n",
      "1 molecule converted\n",
      "1 molecule converted\n",
      "1 molecule converted\n",
      "1 molecule converted\n",
      "1 molecule converted\n",
      "1 molecule converted\n",
      "1 molecule converted\n",
      "1 molecule converted\n",
      "1 molecule converted\n",
      "1 molecule converted\n",
      "1 molecule converted\n",
      "1 molecule converted\n",
      "1 molecule converted\n",
      "1 molecule converted\n",
      "==============================\n",
      "*** Open Babel Warning  in ReadMolecule\n",
      "  Failed to kekulize aromatic bonds in MOL2 file (title is 1tx7_ligand)\n",
      "\n",
      "1 molecule converted\n",
      "==============================\n",
      "*** Open Babel Warning  in ParseSmiles\n",
      "  Failed to kekulize aromatic SMILES (title is 1tx7_ligand)\n",
      "\n",
      "1 molecule converted\n",
      "==============================\n",
      "*** Open Babel Warning  in ReadMolecule\n",
      "  Failed to kekulize aromatic bonds in MOL2 file (title is 1s89_ligand)\n",
      "\n",
      "1 molecule converted\n",
      "==============================\n",
      "*** Open Babel Warning  in ParseSmiles\n",
      "  Failed to kekulize aromatic SMILES (title is 1s89_ligand)\n",
      "\n",
      "1 molecule converted\n",
      "==============================\n",
      "*** Open Babel Warning  in ReadMolecule\n",
      "  Failed to kekulize aromatic bonds in MOL2 file (title is 2c92_ligand)\n",
      "\n",
      "1 molecule converted\n",
      "==============================\n",
      "*** Open Babel Warning  in ParseSmiles\n",
      "  Failed to kekulize aromatic SMILES (title is 2c92_ligand)\n",
      "\n",
      "1 molecule converted\n",
      "1 molecule converted\n",
      "1 molecule converted\n",
      "1 molecule converted\n",
      "1 molecule converted\n",
      "1 molecule converted\n",
      "1 molecule converted\n",
      "1 molecule converted\n",
      "1 molecule converted\n",
      "1 molecule converted\n",
      "1 molecule converted\n",
      "1 molecule converted\n",
      "1 molecule converted\n",
      "1 molecule converted\n",
      "1 molecule converted\n",
      "1 molecule converted\n",
      "1 molecule converted\n",
      "1 molecule converted\n",
      "1 molecule converted\n",
      "1 molecule converted\n",
      "1 molecule converted\n",
      "1 molecule converted\n",
      "1 molecule converted\n",
      "1 molecule converted\n",
      "1 molecule converted\n",
      "1 molecule converted\n",
      "1 molecule converted\n",
      "[09:32:42] Explicit valence for atom # 2 N, 4, is greater than permitted\n",
      "1 molecule converted\n",
      "1 molecule converted\n"
     ]
    },
    {
     "name": "stdout",
     "output_type": "stream",
     "text": [
      "1sbr Python argument types in\n",
      "    rdkit.Chem.rdmolfiles.MolToSmiles(NoneType)\n",
      "did not match C++ signature:\n",
      "    MolToSmiles(RDKit::ROMol mol, bool isomericSmiles=True, bool kekuleSmiles=False, int rootedAtAtom=-1, bool canonical=True, bool allBondsExplicit=False, bool allHsExplicit=False, bool doRandom=False)\n",
      "    MolToSmiles(RDKit::ROMol mol, RDKit::SmilesWriteParams params)\n"
     ]
    },
    {
     "name": "stderr",
     "output_type": "stream",
     "text": [
      "==============================\n",
      "*** Open Babel Warning  in ReadMolecule\n",
      "  Failed to kekulize aromatic bonds in MOL2 file (title is 3k5i_ligand)\n",
      "\n",
      "1 molecule converted\n",
      "==============================\n",
      "*** Open Babel Warning  in ParseSmiles\n",
      "  Failed to kekulize aromatic SMILES (title is 3k5i_ligand)\n",
      "\n",
      "1 molecule converted\n",
      "1 molecule converted\n",
      "1 molecule converted\n",
      "1 molecule converted\n",
      "1 molecule converted\n",
      "==============================\n",
      "*** Open Babel Warning  in ReadMolecule\n",
      "  Failed to kekulize aromatic bonds in MOL2 file (title is 4na9_ligand)\n",
      "\n",
      "1 molecule converted\n",
      "==============================\n",
      "*** Open Babel Warning  in ParseSmiles\n",
      "  Failed to kekulize aromatic SMILES (title is 4na9_ligand)\n",
      "\n",
      "1 molecule converted\n"
     ]
    }
   ],
   "source": [
    "SMILES = data_df.apply(convert_smiles, axis = 1)"
   ]
  },
  {
   "cell_type": "code",
   "execution_count": 32,
   "id": "5c10e7a0-0efa-4fe9-8426-ba93892185ee",
   "metadata": {},
   "outputs": [],
   "source": [
    "data_df[\"SMILES\"] = SMILES"
   ]
  },
  {
   "cell_type": "code",
   "execution_count": 33,
   "id": "76cf78e1-80ff-4693-a499-260ac9a7f431",
   "metadata": {},
   "outputs": [
    {
     "data": {
      "text/html": [
       "<div>\n",
       "<style scoped>\n",
       "    .dataframe tbody tr th:only-of-type {\n",
       "        vertical-align: middle;\n",
       "    }\n",
       "\n",
       "    .dataframe tbody tr th {\n",
       "        vertical-align: top;\n",
       "    }\n",
       "\n",
       "    .dataframe thead th {\n",
       "        text-align: right;\n",
       "    }\n",
       "</style>\n",
       "<table border=\"1\" class=\"dataframe\">\n",
       "  <thead>\n",
       "    <tr style=\"text-align: right;\">\n",
       "      <th></th>\n",
       "      <th>PDB</th>\n",
       "      <th>Chain</th>\n",
       "      <th>Sequence</th>\n",
       "      <th>Total_seq_lengths</th>\n",
       "      <th>Chain_seq_lengths</th>\n",
       "      <th>BS</th>\n",
       "      <th>Affinity_nM</th>\n",
       "      <th>pAff</th>\n",
       "      <th>loaKa</th>\n",
       "      <th>SMILES</th>\n",
       "    </tr>\n",
       "  </thead>\n",
       "  <tbody>\n",
       "    <tr>\n",
       "      <th>0</th>\n",
       "      <td>4u73</td>\n",
       "      <td>A</td>\n",
       "      <td>YRYTGKLRPHYPLMPTRPVPSYIQRPDYADHPLGMSESEQALKGTS...</td>\n",
       "      <td>304</td>\n",
       "      <td>304</td>\n",
       "      <td>27,100,101,102,103,104,105,106,108,110,111,112...</td>\n",
       "      <td>6600.00</td>\n",
       "      <td>5.180456</td>\n",
       "      <td>5.18</td>\n",
       "      <td>[NH3+]C(C1=CC=CC=C1)P([O])([O])=O</td>\n",
       "    </tr>\n",
       "    <tr>\n",
       "      <th>1</th>\n",
       "      <td>2b7d</td>\n",
       "      <td>L,H,T</td>\n",
       "      <td>QCASSPCQNGGSCKDQLQSYICFCLPAFEGRNCETHKDDQLICVNE...</td>\n",
       "      <td>497</td>\n",
       "      <td>94,254,149</td>\n",
       "      <td>94,95,117,118,119,120,132,133,134,135,136,137,...</td>\n",
       "      <td>2.00</td>\n",
       "      <td>8.698970</td>\n",
       "      <td>8.70</td>\n",
       "      <td>NC(=O)NCC1=CC=C(O)C(C2=CC(C(CC(=O)[O-])C(=O)[O...</td>\n",
       "    </tr>\n",
       "    <tr>\n",
       "      <th>2</th>\n",
       "      <td>5am6</td>\n",
       "      <td>A</td>\n",
       "      <td>VAGVSEYELPEDPRWELPRDRLVLGKPLGEGQVVLAEAIGLDKDKP...</td>\n",
       "      <td>295</td>\n",
       "      <td>295</td>\n",
       "      <td>25,26,27,28,29,31,32,33,34,35,50,51,52,53,54,7...</td>\n",
       "      <td>185.00</td>\n",
       "      <td>6.732828</td>\n",
       "      <td>6.73</td>\n",
       "      <td>C[NH+]1CCN(C2=CC3=C(C=C2)N=C(C2=C(N)C4=C(F)C=C...</td>\n",
       "    </tr>\n",
       "    <tr>\n",
       "      <th>3</th>\n",
       "      <td>4pop</td>\n",
       "      <td>A</td>\n",
       "      <td>FNVRLLTEIAFMAALAFIISLIPNTVYGWIIVEIACIPILLLSLRR...</td>\n",
       "      <td>177</td>\n",
       "      <td>177</td>\n",
       "      <td>23,27,28,29,30,32,35,57,61,66,67,68,69,70,74,7...</td>\n",
       "      <td>7.44</td>\n",
       "      <td>8.128427</td>\n",
       "      <td>8.13</td>\n",
       "      <td>CC1=NC(N)=C(CC2=CSC(CO)=C2C)C=N1</td>\n",
       "    </tr>\n",
       "    <tr>\n",
       "      <th>4</th>\n",
       "      <td>2cbz</td>\n",
       "      <td>A</td>\n",
       "      <td>NSITVRNATFTWARSDPPTLNGITFSIPEGALVAVVGQVGCGKSSL...</td>\n",
       "      <td>231</td>\n",
       "      <td>231</td>\n",
       "      <td>10,11,12,17,18,19,34,35,36,37,38,39,40,41,42,4...</td>\n",
       "      <td>118000.00</td>\n",
       "      <td>3.928118</td>\n",
       "      <td>3.93</td>\n",
       "      <td>NC1=C2N=CN(C3OC(COP([O])(=O)OP([O])(=O)OP([O])...</td>\n",
       "    </tr>\n",
       "    <tr>\n",
       "      <th>...</th>\n",
       "      <td>...</td>\n",
       "      <td>...</td>\n",
       "      <td>...</td>\n",
       "      <td>...</td>\n",
       "      <td>...</td>\n",
       "      <td>...</td>\n",
       "      <td>...</td>\n",
       "      <td>...</td>\n",
       "      <td>...</td>\n",
       "      <td>...</td>\n",
       "    </tr>\n",
       "    <tr>\n",
       "      <th>936</th>\n",
       "      <td>4d8z</td>\n",
       "      <td>A,B</td>\n",
       "      <td>KWDYDLRCGEYTLNLNEKTLIMGILNTPDSFSDGGSYNEVDAAVRH...</td>\n",
       "      <td>526</td>\n",
       "      <td>263,263</td>\n",
       "      <td>21,23,24,58,60,87,88,89,90,107,108,109,110,111...</td>\n",
       "      <td>510.00</td>\n",
       "      <td>6.292430</td>\n",
       "      <td>6.29</td>\n",
       "      <td>CC(CC(=O)[O-])C1=NN=C2N=C(N)NC(=O)C2=C1O</td>\n",
       "    </tr>\n",
       "    <tr>\n",
       "      <th>937</th>\n",
       "      <td>3k5i</td>\n",
       "      <td>A,B</td>\n",
       "      <td>MWNSRKVGVLGGGQLGRMLVESANRLNIQVNVLDADNSPAKQISAH...</td>\n",
       "      <td>757</td>\n",
       "      <td>381,376</td>\n",
       "      <td>390,391,392,393,394,395,396,397,398,399,414,41...</td>\n",
       "      <td>20000.00</td>\n",
       "      <td>4.698970</td>\n",
       "      <td>4.70</td>\n",
       "      <td>NC1=CN=CN1C1OC(COP([O])([O])=O)C(O)C1O</td>\n",
       "    </tr>\n",
       "    <tr>\n",
       "      <th>938</th>\n",
       "      <td>3hl7</td>\n",
       "      <td>A</td>\n",
       "      <td>PTFYRQELNKTIWEVPERYQNLSPVGSGAYGSVCAAFDTKTGLRVA...</td>\n",
       "      <td>336</td>\n",
       "      <td>336</td>\n",
       "      <td>23,24,25,26,27,28,29,30,31,32,33,34,35,43,44,4...</td>\n",
       "      <td>23.00</td>\n",
       "      <td>7.638272</td>\n",
       "      <td>7.64</td>\n",
       "      <td>O=C(CO)N1CCC(C2=C(C3=NC=NC=C3)C(C3=CC=C(Cl)C=C...</td>\n",
       "    </tr>\n",
       "    <tr>\n",
       "      <th>939</th>\n",
       "      <td>1qyg</td>\n",
       "      <td>L,H</td>\n",
       "      <td>DIVMTQAAPSVPVTPGESVSISCRSSKSLLHSNGYTYLHWFLQRPG...</td>\n",
       "      <td>438</td>\n",
       "      <td>218,220</td>\n",
       "      <td>28,30,31,32,34,35,36,38,54,93,94,95,96,97,98,1...</td>\n",
       "      <td>140.00</td>\n",
       "      <td>6.853872</td>\n",
       "      <td>6.85</td>\n",
       "      <td>C[NH+]1C2CCC1C(C(=O)[O-])C(OC(=O)C1=CC=CC=C1)C2</td>\n",
       "    </tr>\n",
       "    <tr>\n",
       "      <th>940</th>\n",
       "      <td>4na9</td>\n",
       "      <td>H,L</td>\n",
       "      <td>IVGGKVCPKGECPWQVLLLVNGAQLCGGTLINTIWVVSAAHCFDKI...</td>\n",
       "      <td>309</td>\n",
       "      <td>254,55</td>\n",
       "      <td>0,1,23,24,25,26,38,39,40,41,42,43,44,81,83,84,...</td>\n",
       "      <td>41.00</td>\n",
       "      <td>7.387216</td>\n",
       "      <td>7.39</td>\n",
       "      <td>NC(N)=C1[CH]C2=C(C=C1)NC(C1=CC(C3=C(C(=O)[O-])...</td>\n",
       "    </tr>\n",
       "  </tbody>\n",
       "</table>\n",
       "<p>941 rows × 10 columns</p>\n",
       "</div>"
      ],
      "text/plain": [
       "      PDB  Chain                                           Sequence  \\\n",
       "0    4u73      A  YRYTGKLRPHYPLMPTRPVPSYIQRPDYADHPLGMSESEQALKGTS...   \n",
       "1    2b7d  L,H,T  QCASSPCQNGGSCKDQLQSYICFCLPAFEGRNCETHKDDQLICVNE...   \n",
       "2    5am6      A  VAGVSEYELPEDPRWELPRDRLVLGKPLGEGQVVLAEAIGLDKDKP...   \n",
       "3    4pop      A  FNVRLLTEIAFMAALAFIISLIPNTVYGWIIVEIACIPILLLSLRR...   \n",
       "4    2cbz      A  NSITVRNATFTWARSDPPTLNGITFSIPEGALVAVVGQVGCGKSSL...   \n",
       "..    ...    ...                                                ...   \n",
       "936  4d8z    A,B  KWDYDLRCGEYTLNLNEKTLIMGILNTPDSFSDGGSYNEVDAAVRH...   \n",
       "937  3k5i    A,B  MWNSRKVGVLGGGQLGRMLVESANRLNIQVNVLDADNSPAKQISAH...   \n",
       "938  3hl7      A  PTFYRQELNKTIWEVPERYQNLSPVGSGAYGSVCAAFDTKTGLRVA...   \n",
       "939  1qyg    L,H  DIVMTQAAPSVPVTPGESVSISCRSSKSLLHSNGYTYLHWFLQRPG...   \n",
       "940  4na9    H,L  IVGGKVCPKGECPWQVLLLVNGAQLCGGTLINTIWVVSAAHCFDKI...   \n",
       "\n",
       "     Total_seq_lengths Chain_seq_lengths  \\\n",
       "0                  304               304   \n",
       "1                  497        94,254,149   \n",
       "2                  295               295   \n",
       "3                  177               177   \n",
       "4                  231               231   \n",
       "..                 ...               ...   \n",
       "936                526           263,263   \n",
       "937                757           381,376   \n",
       "938                336               336   \n",
       "939                438           218,220   \n",
       "940                309            254,55   \n",
       "\n",
       "                                                    BS  Affinity_nM      pAff  \\\n",
       "0    27,100,101,102,103,104,105,106,108,110,111,112...      6600.00  5.180456   \n",
       "1    94,95,117,118,119,120,132,133,134,135,136,137,...         2.00  8.698970   \n",
       "2    25,26,27,28,29,31,32,33,34,35,50,51,52,53,54,7...       185.00  6.732828   \n",
       "3    23,27,28,29,30,32,35,57,61,66,67,68,69,70,74,7...         7.44  8.128427   \n",
       "4    10,11,12,17,18,19,34,35,36,37,38,39,40,41,42,4...    118000.00  3.928118   \n",
       "..                                                 ...          ...       ...   \n",
       "936  21,23,24,58,60,87,88,89,90,107,108,109,110,111...       510.00  6.292430   \n",
       "937  390,391,392,393,394,395,396,397,398,399,414,41...     20000.00  4.698970   \n",
       "938  23,24,25,26,27,28,29,30,31,32,33,34,35,43,44,4...        23.00  7.638272   \n",
       "939  28,30,31,32,34,35,36,38,54,93,94,95,96,97,98,1...       140.00  6.853872   \n",
       "940  0,1,23,24,25,26,38,39,40,41,42,43,44,81,83,84,...        41.00  7.387216   \n",
       "\n",
       "     loaKa                                             SMILES  \n",
       "0     5.18                  [NH3+]C(C1=CC=CC=C1)P([O])([O])=O  \n",
       "1     8.70  NC(=O)NCC1=CC=C(O)C(C2=CC(C(CC(=O)[O-])C(=O)[O...  \n",
       "2     6.73  C[NH+]1CCN(C2=CC3=C(C=C2)N=C(C2=C(N)C4=C(F)C=C...  \n",
       "3     8.13                   CC1=NC(N)=C(CC2=CSC(CO)=C2C)C=N1  \n",
       "4     3.93  NC1=C2N=CN(C3OC(COP([O])(=O)OP([O])(=O)OP([O])...  \n",
       "..     ...                                                ...  \n",
       "936   6.29           CC(CC(=O)[O-])C1=NN=C2N=C(N)NC(=O)C2=C1O  \n",
       "937   4.70             NC1=CN=CN1C1OC(COP([O])([O])=O)C(O)C1O  \n",
       "938   7.64  O=C(CO)N1CCC(C2=C(C3=NC=NC=C3)C(C3=CC=C(Cl)C=C...  \n",
       "939   6.85    C[NH+]1C2CCC1C(C(=O)[O-])C(OC(=O)C1=CC=CC=C1)C2  \n",
       "940   7.39  NC(N)=C1[CH]C2=C(C=C1)NC(C1=CC(C3=C(C(=O)[O-])...  \n",
       "\n",
       "[941 rows x 10 columns]"
      ]
     },
     "execution_count": 33,
     "metadata": {},
     "output_type": "execute_result"
    }
   ],
   "source": [
    "data_df = data_df.loc[data_df.SMILES.isna()==False].reset_index(drop=True)\n",
    "data_df"
   ]
  },
  {
   "cell_type": "code",
   "execution_count": 34,
   "id": "37c0dabf-9630-46a0-9049-ceb6f3028e3c",
   "metadata": {},
   "outputs": [],
   "source": [
    "def get_SMILES_length(df):\n",
    "    index = [True if len(smi) <= 150 else False for smi in df.SMILES.values]\n",
    "    return index"
   ]
  },
  {
   "cell_type": "code",
   "execution_count": 35,
   "id": "ea3ded62-f931-4280-a54d-7a38c98c04a8",
   "metadata": {},
   "outputs": [],
   "source": [
    "smiles_index = get_SMILES_length(data_df)"
   ]
  },
  {
   "cell_type": "code",
   "execution_count": 36,
   "id": "ab356593-ea47-419d-a600-a30477992725",
   "metadata": {},
   "outputs": [],
   "source": [
    "data_df = data_df.loc[smiles_index].reset_index(drop=True)"
   ]
  },
  {
   "cell_type": "code",
   "execution_count": 37,
   "id": "9863f058-f254-42d1-b053-89a9559b1b05",
   "metadata": {},
   "outputs": [
    {
     "data": {
      "text/html": [
       "<div>\n",
       "<style scoped>\n",
       "    .dataframe tbody tr th:only-of-type {\n",
       "        vertical-align: middle;\n",
       "    }\n",
       "\n",
       "    .dataframe tbody tr th {\n",
       "        vertical-align: top;\n",
       "    }\n",
       "\n",
       "    .dataframe thead th {\n",
       "        text-align: right;\n",
       "    }\n",
       "</style>\n",
       "<table border=\"1\" class=\"dataframe\">\n",
       "  <thead>\n",
       "    <tr style=\"text-align: right;\">\n",
       "      <th></th>\n",
       "      <th>PDB</th>\n",
       "      <th>Chain</th>\n",
       "      <th>Sequence</th>\n",
       "      <th>Total_seq_lengths</th>\n",
       "      <th>Chain_seq_lengths</th>\n",
       "      <th>BS</th>\n",
       "      <th>Affinity_nM</th>\n",
       "      <th>pAff</th>\n",
       "      <th>loaKa</th>\n",
       "      <th>SMILES</th>\n",
       "    </tr>\n",
       "  </thead>\n",
       "  <tbody>\n",
       "    <tr>\n",
       "      <th>0</th>\n",
       "      <td>4u73</td>\n",
       "      <td>A</td>\n",
       "      <td>YRYTGKLRPHYPLMPTRPVPSYIQRPDYADHPLGMSESEQALKGTS...</td>\n",
       "      <td>304</td>\n",
       "      <td>304</td>\n",
       "      <td>27,100,101,102,103,104,105,106,108,110,111,112...</td>\n",
       "      <td>6600.00</td>\n",
       "      <td>5.180456</td>\n",
       "      <td>5.18</td>\n",
       "      <td>[NH3+]C(C1=CC=CC=C1)P([O])([O])=O</td>\n",
       "    </tr>\n",
       "    <tr>\n",
       "      <th>1</th>\n",
       "      <td>2b7d</td>\n",
       "      <td>L,H,T</td>\n",
       "      <td>QCASSPCQNGGSCKDQLQSYICFCLPAFEGRNCETHKDDQLICVNE...</td>\n",
       "      <td>497</td>\n",
       "      <td>94,254,149</td>\n",
       "      <td>94,95,117,118,119,120,132,133,134,135,136,137,...</td>\n",
       "      <td>2.00</td>\n",
       "      <td>8.698970</td>\n",
       "      <td>8.70</td>\n",
       "      <td>NC(=O)NCC1=CC=C(O)C(C2=CC(C(CC(=O)[O-])C(=O)[O...</td>\n",
       "    </tr>\n",
       "    <tr>\n",
       "      <th>2</th>\n",
       "      <td>5am6</td>\n",
       "      <td>A</td>\n",
       "      <td>VAGVSEYELPEDPRWELPRDRLVLGKPLGEGQVVLAEAIGLDKDKP...</td>\n",
       "      <td>295</td>\n",
       "      <td>295</td>\n",
       "      <td>25,26,27,28,29,31,32,33,34,35,50,51,52,53,54,7...</td>\n",
       "      <td>185.00</td>\n",
       "      <td>6.732828</td>\n",
       "      <td>6.73</td>\n",
       "      <td>C[NH+]1CCN(C2=CC3=C(C=C2)N=C(C2=C(N)C4=C(F)C=C...</td>\n",
       "    </tr>\n",
       "    <tr>\n",
       "      <th>3</th>\n",
       "      <td>4pop</td>\n",
       "      <td>A</td>\n",
       "      <td>FNVRLLTEIAFMAALAFIISLIPNTVYGWIIVEIACIPILLLSLRR...</td>\n",
       "      <td>177</td>\n",
       "      <td>177</td>\n",
       "      <td>23,27,28,29,30,32,35,57,61,66,67,68,69,70,74,7...</td>\n",
       "      <td>7.44</td>\n",
       "      <td>8.128427</td>\n",
       "      <td>8.13</td>\n",
       "      <td>CC1=NC(N)=C(CC2=CSC(CO)=C2C)C=N1</td>\n",
       "    </tr>\n",
       "    <tr>\n",
       "      <th>4</th>\n",
       "      <td>2cbz</td>\n",
       "      <td>A</td>\n",
       "      <td>NSITVRNATFTWARSDPPTLNGITFSIPEGALVAVVGQVGCGKSSL...</td>\n",
       "      <td>231</td>\n",
       "      <td>231</td>\n",
       "      <td>10,11,12,17,18,19,34,35,36,37,38,39,40,41,42,4...</td>\n",
       "      <td>118000.00</td>\n",
       "      <td>3.928118</td>\n",
       "      <td>3.93</td>\n",
       "      <td>NC1=C2N=CN(C3OC(COP([O])(=O)OP([O])(=O)OP([O])...</td>\n",
       "    </tr>\n",
       "    <tr>\n",
       "      <th>...</th>\n",
       "      <td>...</td>\n",
       "      <td>...</td>\n",
       "      <td>...</td>\n",
       "      <td>...</td>\n",
       "      <td>...</td>\n",
       "      <td>...</td>\n",
       "      <td>...</td>\n",
       "      <td>...</td>\n",
       "      <td>...</td>\n",
       "      <td>...</td>\n",
       "    </tr>\n",
       "    <tr>\n",
       "      <th>935</th>\n",
       "      <td>4d8z</td>\n",
       "      <td>A,B</td>\n",
       "      <td>KWDYDLRCGEYTLNLNEKTLIMGILNTPDSFSDGGSYNEVDAAVRH...</td>\n",
       "      <td>526</td>\n",
       "      <td>263,263</td>\n",
       "      <td>21,23,24,58,60,87,88,89,90,107,108,109,110,111...</td>\n",
       "      <td>510.00</td>\n",
       "      <td>6.292430</td>\n",
       "      <td>6.29</td>\n",
       "      <td>CC(CC(=O)[O-])C1=NN=C2N=C(N)NC(=O)C2=C1O</td>\n",
       "    </tr>\n",
       "    <tr>\n",
       "      <th>936</th>\n",
       "      <td>3k5i</td>\n",
       "      <td>A,B</td>\n",
       "      <td>MWNSRKVGVLGGGQLGRMLVESANRLNIQVNVLDADNSPAKQISAH...</td>\n",
       "      <td>757</td>\n",
       "      <td>381,376</td>\n",
       "      <td>390,391,392,393,394,395,396,397,398,399,414,41...</td>\n",
       "      <td>20000.00</td>\n",
       "      <td>4.698970</td>\n",
       "      <td>4.70</td>\n",
       "      <td>NC1=CN=CN1C1OC(COP([O])([O])=O)C(O)C1O</td>\n",
       "    </tr>\n",
       "    <tr>\n",
       "      <th>937</th>\n",
       "      <td>3hl7</td>\n",
       "      <td>A</td>\n",
       "      <td>PTFYRQELNKTIWEVPERYQNLSPVGSGAYGSVCAAFDTKTGLRVA...</td>\n",
       "      <td>336</td>\n",
       "      <td>336</td>\n",
       "      <td>23,24,25,26,27,28,29,30,31,32,33,34,35,43,44,4...</td>\n",
       "      <td>23.00</td>\n",
       "      <td>7.638272</td>\n",
       "      <td>7.64</td>\n",
       "      <td>O=C(CO)N1CCC(C2=C(C3=NC=NC=C3)C(C3=CC=C(Cl)C=C...</td>\n",
       "    </tr>\n",
       "    <tr>\n",
       "      <th>938</th>\n",
       "      <td>1qyg</td>\n",
       "      <td>L,H</td>\n",
       "      <td>DIVMTQAAPSVPVTPGESVSISCRSSKSLLHSNGYTYLHWFLQRPG...</td>\n",
       "      <td>438</td>\n",
       "      <td>218,220</td>\n",
       "      <td>28,30,31,32,34,35,36,38,54,93,94,95,96,97,98,1...</td>\n",
       "      <td>140.00</td>\n",
       "      <td>6.853872</td>\n",
       "      <td>6.85</td>\n",
       "      <td>C[NH+]1C2CCC1C(C(=O)[O-])C(OC(=O)C1=CC=CC=C1)C2</td>\n",
       "    </tr>\n",
       "    <tr>\n",
       "      <th>939</th>\n",
       "      <td>4na9</td>\n",
       "      <td>H,L</td>\n",
       "      <td>IVGGKVCPKGECPWQVLLLVNGAQLCGGTLINTIWVVSAAHCFDKI...</td>\n",
       "      <td>309</td>\n",
       "      <td>254,55</td>\n",
       "      <td>0,1,23,24,25,26,38,39,40,41,42,43,44,81,83,84,...</td>\n",
       "      <td>41.00</td>\n",
       "      <td>7.387216</td>\n",
       "      <td>7.39</td>\n",
       "      <td>NC(N)=C1[CH]C2=C(C=C1)NC(C1=CC(C3=C(C(=O)[O-])...</td>\n",
       "    </tr>\n",
       "  </tbody>\n",
       "</table>\n",
       "<p>940 rows × 10 columns</p>\n",
       "</div>"
      ],
      "text/plain": [
       "      PDB  Chain                                           Sequence  \\\n",
       "0    4u73      A  YRYTGKLRPHYPLMPTRPVPSYIQRPDYADHPLGMSESEQALKGTS...   \n",
       "1    2b7d  L,H,T  QCASSPCQNGGSCKDQLQSYICFCLPAFEGRNCETHKDDQLICVNE...   \n",
       "2    5am6      A  VAGVSEYELPEDPRWELPRDRLVLGKPLGEGQVVLAEAIGLDKDKP...   \n",
       "3    4pop      A  FNVRLLTEIAFMAALAFIISLIPNTVYGWIIVEIACIPILLLSLRR...   \n",
       "4    2cbz      A  NSITVRNATFTWARSDPPTLNGITFSIPEGALVAVVGQVGCGKSSL...   \n",
       "..    ...    ...                                                ...   \n",
       "935  4d8z    A,B  KWDYDLRCGEYTLNLNEKTLIMGILNTPDSFSDGGSYNEVDAAVRH...   \n",
       "936  3k5i    A,B  MWNSRKVGVLGGGQLGRMLVESANRLNIQVNVLDADNSPAKQISAH...   \n",
       "937  3hl7      A  PTFYRQELNKTIWEVPERYQNLSPVGSGAYGSVCAAFDTKTGLRVA...   \n",
       "938  1qyg    L,H  DIVMTQAAPSVPVTPGESVSISCRSSKSLLHSNGYTYLHWFLQRPG...   \n",
       "939  4na9    H,L  IVGGKVCPKGECPWQVLLLVNGAQLCGGTLINTIWVVSAAHCFDKI...   \n",
       "\n",
       "     Total_seq_lengths Chain_seq_lengths  \\\n",
       "0                  304               304   \n",
       "1                  497        94,254,149   \n",
       "2                  295               295   \n",
       "3                  177               177   \n",
       "4                  231               231   \n",
       "..                 ...               ...   \n",
       "935                526           263,263   \n",
       "936                757           381,376   \n",
       "937                336               336   \n",
       "938                438           218,220   \n",
       "939                309            254,55   \n",
       "\n",
       "                                                    BS  Affinity_nM      pAff  \\\n",
       "0    27,100,101,102,103,104,105,106,108,110,111,112...      6600.00  5.180456   \n",
       "1    94,95,117,118,119,120,132,133,134,135,136,137,...         2.00  8.698970   \n",
       "2    25,26,27,28,29,31,32,33,34,35,50,51,52,53,54,7...       185.00  6.732828   \n",
       "3    23,27,28,29,30,32,35,57,61,66,67,68,69,70,74,7...         7.44  8.128427   \n",
       "4    10,11,12,17,18,19,34,35,36,37,38,39,40,41,42,4...    118000.00  3.928118   \n",
       "..                                                 ...          ...       ...   \n",
       "935  21,23,24,58,60,87,88,89,90,107,108,109,110,111...       510.00  6.292430   \n",
       "936  390,391,392,393,394,395,396,397,398,399,414,41...     20000.00  4.698970   \n",
       "937  23,24,25,26,27,28,29,30,31,32,33,34,35,43,44,4...        23.00  7.638272   \n",
       "938  28,30,31,32,34,35,36,38,54,93,94,95,96,97,98,1...       140.00  6.853872   \n",
       "939  0,1,23,24,25,26,38,39,40,41,42,43,44,81,83,84,...        41.00  7.387216   \n",
       "\n",
       "     loaKa                                             SMILES  \n",
       "0     5.18                  [NH3+]C(C1=CC=CC=C1)P([O])([O])=O  \n",
       "1     8.70  NC(=O)NCC1=CC=C(O)C(C2=CC(C(CC(=O)[O-])C(=O)[O...  \n",
       "2     6.73  C[NH+]1CCN(C2=CC3=C(C=C2)N=C(C2=C(N)C4=C(F)C=C...  \n",
       "3     8.13                   CC1=NC(N)=C(CC2=CSC(CO)=C2C)C=N1  \n",
       "4     3.93  NC1=C2N=CN(C3OC(COP([O])(=O)OP([O])(=O)OP([O])...  \n",
       "..     ...                                                ...  \n",
       "935   6.29           CC(CC(=O)[O-])C1=NN=C2N=C(N)NC(=O)C2=C1O  \n",
       "936   4.70             NC1=CN=CN1C1OC(COP([O])([O])=O)C(O)C1O  \n",
       "937   7.64  O=C(CO)N1CCC(C2=C(C3=NC=NC=C3)C(C3=CC=C(Cl)C=C...  \n",
       "938   6.85    C[NH+]1C2CCC1C(C(=O)[O-])C(OC(=O)C1=CC=CC=C1)C2  \n",
       "939   7.39  NC(N)=C1[CH]C2=C(C=C1)NC(C1=CC(C3=C(C(=O)[O-])...  \n",
       "\n",
       "[940 rows x 10 columns]"
      ]
     },
     "execution_count": 37,
     "metadata": {},
     "output_type": "execute_result"
    }
   ],
   "source": [
    "data_df"
   ]
  },
  {
   "cell_type": "code",
   "execution_count": 38,
   "id": "2fae08b8-cbba-42d0-875d-e0548523cecc",
   "metadata": {},
   "outputs": [
    {
     "data": {
      "text/html": [
       "<div>\n",
       "<style scoped>\n",
       "    .dataframe tbody tr th:only-of-type {\n",
       "        vertical-align: middle;\n",
       "    }\n",
       "\n",
       "    .dataframe tbody tr th {\n",
       "        vertical-align: top;\n",
       "    }\n",
       "\n",
       "    .dataframe thead th {\n",
       "        text-align: right;\n",
       "    }\n",
       "</style>\n",
       "<table border=\"1\" class=\"dataframe\">\n",
       "  <thead>\n",
       "    <tr style=\"text-align: right;\">\n",
       "      <th></th>\n",
       "      <th>PDB</th>\n",
       "      <th>Chain</th>\n",
       "      <th>Sequence</th>\n",
       "      <th>BS</th>\n",
       "      <th>Affinity_nM</th>\n",
       "      <th>pAff</th>\n",
       "      <th>SMILES</th>\n",
       "    </tr>\n",
       "  </thead>\n",
       "  <tbody>\n",
       "    <tr>\n",
       "      <th>0</th>\n",
       "      <td>4u73</td>\n",
       "      <td>A</td>\n",
       "      <td>YRYTGKLRPHYPLMPTRPVPSYIQRPDYADHPLGMSESEQALKGTS...</td>\n",
       "      <td>27,100,101,102,103,104,105,106,108,110,111,112...</td>\n",
       "      <td>6600.00</td>\n",
       "      <td>5.180456</td>\n",
       "      <td>[NH3+]C(C1=CC=CC=C1)P([O])([O])=O</td>\n",
       "    </tr>\n",
       "    <tr>\n",
       "      <th>1</th>\n",
       "      <td>2b7d</td>\n",
       "      <td>L,H,T</td>\n",
       "      <td>QCASSPCQNGGSCKDQLQSYICFCLPAFEGRNCETHKDDQLICVNE...</td>\n",
       "      <td>94,95,117,118,119,120,132,133,134,135,136,137,...</td>\n",
       "      <td>2.00</td>\n",
       "      <td>8.698970</td>\n",
       "      <td>NC(=O)NCC1=CC=C(O)C(C2=CC(C(CC(=O)[O-])C(=O)[O...</td>\n",
       "    </tr>\n",
       "    <tr>\n",
       "      <th>2</th>\n",
       "      <td>5am6</td>\n",
       "      <td>A</td>\n",
       "      <td>VAGVSEYELPEDPRWELPRDRLVLGKPLGEGQVVLAEAIGLDKDKP...</td>\n",
       "      <td>25,26,27,28,29,31,32,33,34,35,50,51,52,53,54,7...</td>\n",
       "      <td>185.00</td>\n",
       "      <td>6.732828</td>\n",
       "      <td>C[NH+]1CCN(C2=CC3=C(C=C2)N=C(C2=C(N)C4=C(F)C=C...</td>\n",
       "    </tr>\n",
       "    <tr>\n",
       "      <th>3</th>\n",
       "      <td>4pop</td>\n",
       "      <td>A</td>\n",
       "      <td>FNVRLLTEIAFMAALAFIISLIPNTVYGWIIVEIACIPILLLSLRR...</td>\n",
       "      <td>23,27,28,29,30,32,35,57,61,66,67,68,69,70,74,7...</td>\n",
       "      <td>7.44</td>\n",
       "      <td>8.128427</td>\n",
       "      <td>CC1=NC(N)=C(CC2=CSC(CO)=C2C)C=N1</td>\n",
       "    </tr>\n",
       "    <tr>\n",
       "      <th>4</th>\n",
       "      <td>2cbz</td>\n",
       "      <td>A</td>\n",
       "      <td>NSITVRNATFTWARSDPPTLNGITFSIPEGALVAVVGQVGCGKSSL...</td>\n",
       "      <td>10,11,12,17,18,19,34,35,36,37,38,39,40,41,42,4...</td>\n",
       "      <td>118000.00</td>\n",
       "      <td>3.928118</td>\n",
       "      <td>NC1=C2N=CN(C3OC(COP([O])(=O)OP([O])(=O)OP([O])...</td>\n",
       "    </tr>\n",
       "    <tr>\n",
       "      <th>...</th>\n",
       "      <td>...</td>\n",
       "      <td>...</td>\n",
       "      <td>...</td>\n",
       "      <td>...</td>\n",
       "      <td>...</td>\n",
       "      <td>...</td>\n",
       "      <td>...</td>\n",
       "    </tr>\n",
       "    <tr>\n",
       "      <th>935</th>\n",
       "      <td>4d8z</td>\n",
       "      <td>A,B</td>\n",
       "      <td>KWDYDLRCGEYTLNLNEKTLIMGILNTPDSFSDGGSYNEVDAAVRH...</td>\n",
       "      <td>21,23,24,58,60,87,88,89,90,107,108,109,110,111...</td>\n",
       "      <td>510.00</td>\n",
       "      <td>6.292430</td>\n",
       "      <td>CC(CC(=O)[O-])C1=NN=C2N=C(N)NC(=O)C2=C1O</td>\n",
       "    </tr>\n",
       "    <tr>\n",
       "      <th>936</th>\n",
       "      <td>3k5i</td>\n",
       "      <td>A,B</td>\n",
       "      <td>MWNSRKVGVLGGGQLGRMLVESANRLNIQVNVLDADNSPAKQISAH...</td>\n",
       "      <td>390,391,392,393,394,395,396,397,398,399,414,41...</td>\n",
       "      <td>20000.00</td>\n",
       "      <td>4.698970</td>\n",
       "      <td>NC1=CN=CN1C1OC(COP([O])([O])=O)C(O)C1O</td>\n",
       "    </tr>\n",
       "    <tr>\n",
       "      <th>937</th>\n",
       "      <td>3hl7</td>\n",
       "      <td>A</td>\n",
       "      <td>PTFYRQELNKTIWEVPERYQNLSPVGSGAYGSVCAAFDTKTGLRVA...</td>\n",
       "      <td>23,24,25,26,27,28,29,30,31,32,33,34,35,43,44,4...</td>\n",
       "      <td>23.00</td>\n",
       "      <td>7.638272</td>\n",
       "      <td>O=C(CO)N1CCC(C2=C(C3=NC=NC=C3)C(C3=CC=C(Cl)C=C...</td>\n",
       "    </tr>\n",
       "    <tr>\n",
       "      <th>938</th>\n",
       "      <td>1qyg</td>\n",
       "      <td>L,H</td>\n",
       "      <td>DIVMTQAAPSVPVTPGESVSISCRSSKSLLHSNGYTYLHWFLQRPG...</td>\n",
       "      <td>28,30,31,32,34,35,36,38,54,93,94,95,96,97,98,1...</td>\n",
       "      <td>140.00</td>\n",
       "      <td>6.853872</td>\n",
       "      <td>C[NH+]1C2CCC1C(C(=O)[O-])C(OC(=O)C1=CC=CC=C1)C2</td>\n",
       "    </tr>\n",
       "    <tr>\n",
       "      <th>939</th>\n",
       "      <td>4na9</td>\n",
       "      <td>H,L</td>\n",
       "      <td>IVGGKVCPKGECPWQVLLLVNGAQLCGGTLINTIWVVSAAHCFDKI...</td>\n",
       "      <td>0,1,23,24,25,26,38,39,40,41,42,43,44,81,83,84,...</td>\n",
       "      <td>41.00</td>\n",
       "      <td>7.387216</td>\n",
       "      <td>NC(N)=C1[CH]C2=C(C=C1)NC(C1=CC(C3=C(C(=O)[O-])...</td>\n",
       "    </tr>\n",
       "  </tbody>\n",
       "</table>\n",
       "<p>940 rows × 7 columns</p>\n",
       "</div>"
      ],
      "text/plain": [
       "      PDB  Chain                                           Sequence  \\\n",
       "0    4u73      A  YRYTGKLRPHYPLMPTRPVPSYIQRPDYADHPLGMSESEQALKGTS...   \n",
       "1    2b7d  L,H,T  QCASSPCQNGGSCKDQLQSYICFCLPAFEGRNCETHKDDQLICVNE...   \n",
       "2    5am6      A  VAGVSEYELPEDPRWELPRDRLVLGKPLGEGQVVLAEAIGLDKDKP...   \n",
       "3    4pop      A  FNVRLLTEIAFMAALAFIISLIPNTVYGWIIVEIACIPILLLSLRR...   \n",
       "4    2cbz      A  NSITVRNATFTWARSDPPTLNGITFSIPEGALVAVVGQVGCGKSSL...   \n",
       "..    ...    ...                                                ...   \n",
       "935  4d8z    A,B  KWDYDLRCGEYTLNLNEKTLIMGILNTPDSFSDGGSYNEVDAAVRH...   \n",
       "936  3k5i    A,B  MWNSRKVGVLGGGQLGRMLVESANRLNIQVNVLDADNSPAKQISAH...   \n",
       "937  3hl7      A  PTFYRQELNKTIWEVPERYQNLSPVGSGAYGSVCAAFDTKTGLRVA...   \n",
       "938  1qyg    L,H  DIVMTQAAPSVPVTPGESVSISCRSSKSLLHSNGYTYLHWFLQRPG...   \n",
       "939  4na9    H,L  IVGGKVCPKGECPWQVLLLVNGAQLCGGTLINTIWVVSAAHCFDKI...   \n",
       "\n",
       "                                                    BS  Affinity_nM      pAff  \\\n",
       "0    27,100,101,102,103,104,105,106,108,110,111,112...      6600.00  5.180456   \n",
       "1    94,95,117,118,119,120,132,133,134,135,136,137,...         2.00  8.698970   \n",
       "2    25,26,27,28,29,31,32,33,34,35,50,51,52,53,54,7...       185.00  6.732828   \n",
       "3    23,27,28,29,30,32,35,57,61,66,67,68,69,70,74,7...         7.44  8.128427   \n",
       "4    10,11,12,17,18,19,34,35,36,37,38,39,40,41,42,4...    118000.00  3.928118   \n",
       "..                                                 ...          ...       ...   \n",
       "935  21,23,24,58,60,87,88,89,90,107,108,109,110,111...       510.00  6.292430   \n",
       "936  390,391,392,393,394,395,396,397,398,399,414,41...     20000.00  4.698970   \n",
       "937  23,24,25,26,27,28,29,30,31,32,33,34,35,43,44,4...        23.00  7.638272   \n",
       "938  28,30,31,32,34,35,36,38,54,93,94,95,96,97,98,1...       140.00  6.853872   \n",
       "939  0,1,23,24,25,26,38,39,40,41,42,43,44,81,83,84,...        41.00  7.387216   \n",
       "\n",
       "                                                SMILES  \n",
       "0                    [NH3+]C(C1=CC=CC=C1)P([O])([O])=O  \n",
       "1    NC(=O)NCC1=CC=C(O)C(C2=CC(C(CC(=O)[O-])C(=O)[O...  \n",
       "2    C[NH+]1CCN(C2=CC3=C(C=C2)N=C(C2=C(N)C4=C(F)C=C...  \n",
       "3                     CC1=NC(N)=C(CC2=CSC(CO)=C2C)C=N1  \n",
       "4    NC1=C2N=CN(C3OC(COP([O])(=O)OP([O])(=O)OP([O])...  \n",
       "..                                                 ...  \n",
       "935           CC(CC(=O)[O-])C1=NN=C2N=C(N)NC(=O)C2=C1O  \n",
       "936             NC1=CN=CN1C1OC(COP([O])([O])=O)C(O)C1O  \n",
       "937  O=C(CO)N1CCC(C2=C(C3=NC=NC=C3)C(C3=CC=C(Cl)C=C...  \n",
       "938    C[NH+]1C2CCC1C(C(=O)[O-])C(OC(=O)C1=CC=CC=C1)C2  \n",
       "939  NC(N)=C1[CH]C2=C(C=C1)NC(C1=CC(C3=C(C(=O)[O-])...  \n",
       "\n",
       "[940 rows x 7 columns]"
      ]
     },
     "execution_count": 38,
     "metadata": {},
     "output_type": "execute_result"
    }
   ],
   "source": [
    "data_df.to_csv(\"/workspace/binding_affinity/datasets/validation2016/validation2016.tsv\", sep=\"\\t\", index=False)\n",
    "data_dff = data_df.iloc[:, [0, 1, 2, 5, 6, 7, 9]]\n",
    "data_dff"
   ]
  },
  {
   "cell_type": "code",
   "execution_count": 39,
   "id": "dc0a6740-6793-4c33-a427-93a2d7b834ca",
   "metadata": {},
   "outputs": [
    {
     "data": {
      "text/html": [
       "<div>\n",
       "<style scoped>\n",
       "    .dataframe tbody tr th:only-of-type {\n",
       "        vertical-align: middle;\n",
       "    }\n",
       "\n",
       "    .dataframe tbody tr th {\n",
       "        vertical-align: top;\n",
       "    }\n",
       "\n",
       "    .dataframe thead th {\n",
       "        text-align: right;\n",
       "    }\n",
       "</style>\n",
       "<table border=\"1\" class=\"dataframe\">\n",
       "  <thead>\n",
       "    <tr style=\"text-align: right;\">\n",
       "      <th></th>\n",
       "      <th>PDB</th>\n",
       "      <th>Chain</th>\n",
       "      <th>Sequence</th>\n",
       "      <th>BS</th>\n",
       "      <th>Affinity_nM</th>\n",
       "      <th>pAff</th>\n",
       "      <th>SMILES</th>\n",
       "    </tr>\n",
       "  </thead>\n",
       "  <tbody>\n",
       "    <tr>\n",
       "      <th>0</th>\n",
       "      <td>4u73</td>\n",
       "      <td>A</td>\n",
       "      <td>YRYTGKLRPHYPLMPTRPVPSYIQRPDYADHPLGMSESEQALKGTS...</td>\n",
       "      <td>27,100,101,102,103,104,105,106,108,110,111,112...</td>\n",
       "      <td>6600.00</td>\n",
       "      <td>5.180456</td>\n",
       "      <td>[NH3+]C(C1=CC=CC=C1)P([O])([O])=O</td>\n",
       "    </tr>\n",
       "    <tr>\n",
       "      <th>1</th>\n",
       "      <td>2b7d</td>\n",
       "      <td>L,H,T</td>\n",
       "      <td>QCASSPCQNGGSCKDQLQSYICFCLPAFEGRNCETHKDDQLICVNE...</td>\n",
       "      <td>94,95,117,118,119,120,132,133,134,135,136,137,...</td>\n",
       "      <td>2.00</td>\n",
       "      <td>8.698970</td>\n",
       "      <td>NC(=O)NCC1=CC=C(O)C(C2=CC(C(CC(=O)[O-])C(=O)[O...</td>\n",
       "    </tr>\n",
       "    <tr>\n",
       "      <th>2</th>\n",
       "      <td>5am6</td>\n",
       "      <td>A</td>\n",
       "      <td>VAGVSEYELPEDPRWELPRDRLVLGKPLGEGQVVLAEAIGLDKDKP...</td>\n",
       "      <td>25,26,27,28,29,31,32,33,34,35,50,51,52,53,54,7...</td>\n",
       "      <td>185.00</td>\n",
       "      <td>6.732828</td>\n",
       "      <td>C[NH+]1CCN(C2=CC3=C(C=C2)N=C(C2=C(N)C4=C(F)C=C...</td>\n",
       "    </tr>\n",
       "    <tr>\n",
       "      <th>3</th>\n",
       "      <td>4pop</td>\n",
       "      <td>A</td>\n",
       "      <td>FNVRLLTEIAFMAALAFIISLIPNTVYGWIIVEIACIPILLLSLRR...</td>\n",
       "      <td>23,27,28,29,30,32,35,57,61,66,67,68,69,70,74,7...</td>\n",
       "      <td>7.44</td>\n",
       "      <td>8.128427</td>\n",
       "      <td>CC1=NC(N)=C(CC2=CSC(CO)=C2C)C=N1</td>\n",
       "    </tr>\n",
       "    <tr>\n",
       "      <th>4</th>\n",
       "      <td>2cbz</td>\n",
       "      <td>A</td>\n",
       "      <td>NSITVRNATFTWARSDPPTLNGITFSIPEGALVAVVGQVGCGKSSL...</td>\n",
       "      <td>10,11,12,17,18,19,34,35,36,37,38,39,40,41,42,4...</td>\n",
       "      <td>118000.00</td>\n",
       "      <td>3.928118</td>\n",
       "      <td>NC1=C2N=CN(C3OC(COP([O])(=O)OP([O])(=O)OP([O])...</td>\n",
       "    </tr>\n",
       "    <tr>\n",
       "      <th>...</th>\n",
       "      <td>...</td>\n",
       "      <td>...</td>\n",
       "      <td>...</td>\n",
       "      <td>...</td>\n",
       "      <td>...</td>\n",
       "      <td>...</td>\n",
       "      <td>...</td>\n",
       "    </tr>\n",
       "    <tr>\n",
       "      <th>935</th>\n",
       "      <td>4d8z</td>\n",
       "      <td>A,B</td>\n",
       "      <td>KWDYDLRCGEYTLNLNEKTLIMGILNTPDSFSDGGSYNEVDAAVRH...</td>\n",
       "      <td>21,23,24,58,60,87,88,89,90,107,108,109,110,111...</td>\n",
       "      <td>510.00</td>\n",
       "      <td>6.292430</td>\n",
       "      <td>CC(CC(=O)[O-])C1=NN=C2N=C(N)NC(=O)C2=C1O</td>\n",
       "    </tr>\n",
       "    <tr>\n",
       "      <th>936</th>\n",
       "      <td>3k5i</td>\n",
       "      <td>A,B</td>\n",
       "      <td>MWNSRKVGVLGGGQLGRMLVESANRLNIQVNVLDADNSPAKQISAH...</td>\n",
       "      <td>390,391,392,393,394,395,396,397,398,399,414,41...</td>\n",
       "      <td>20000.00</td>\n",
       "      <td>4.698970</td>\n",
       "      <td>NC1=CN=CN1C1OC(COP([O])([O])=O)C(O)C1O</td>\n",
       "    </tr>\n",
       "    <tr>\n",
       "      <th>937</th>\n",
       "      <td>3hl7</td>\n",
       "      <td>A</td>\n",
       "      <td>PTFYRQELNKTIWEVPERYQNLSPVGSGAYGSVCAAFDTKTGLRVA...</td>\n",
       "      <td>23,24,25,26,27,28,29,30,31,32,33,34,35,43,44,4...</td>\n",
       "      <td>23.00</td>\n",
       "      <td>7.638272</td>\n",
       "      <td>O=C(CO)N1CCC(C2=C(C3=NC=NC=C3)C(C3=CC=C(Cl)C=C...</td>\n",
       "    </tr>\n",
       "    <tr>\n",
       "      <th>938</th>\n",
       "      <td>1qyg</td>\n",
       "      <td>L,H</td>\n",
       "      <td>DIVMTQAAPSVPVTPGESVSISCRSSKSLLHSNGYTYLHWFLQRPG...</td>\n",
       "      <td>28,30,31,32,34,35,36,38,54,93,94,95,96,97,98,1...</td>\n",
       "      <td>140.00</td>\n",
       "      <td>6.853872</td>\n",
       "      <td>C[NH+]1C2CCC1C(C(=O)[O-])C(OC(=O)C1=CC=CC=C1)C2</td>\n",
       "    </tr>\n",
       "    <tr>\n",
       "      <th>939</th>\n",
       "      <td>4na9</td>\n",
       "      <td>H,L</td>\n",
       "      <td>IVGGKVCPKGECPWQVLLLVNGAQLCGGTLINTIWVVSAAHCFDKI...</td>\n",
       "      <td>0,1,23,24,25,26,38,39,40,41,42,43,44,81,83,84,...</td>\n",
       "      <td>41.00</td>\n",
       "      <td>7.387216</td>\n",
       "      <td>NC(N)=C1[CH]C2=C(C=C1)NC(C1=CC(C3=C(C(=O)[O-])...</td>\n",
       "    </tr>\n",
       "  </tbody>\n",
       "</table>\n",
       "<p>940 rows × 7 columns</p>\n",
       "</div>"
      ],
      "text/plain": [
       "      PDB  Chain                                           Sequence  \\\n",
       "0    4u73      A  YRYTGKLRPHYPLMPTRPVPSYIQRPDYADHPLGMSESEQALKGTS...   \n",
       "1    2b7d  L,H,T  QCASSPCQNGGSCKDQLQSYICFCLPAFEGRNCETHKDDQLICVNE...   \n",
       "2    5am6      A  VAGVSEYELPEDPRWELPRDRLVLGKPLGEGQVVLAEAIGLDKDKP...   \n",
       "3    4pop      A  FNVRLLTEIAFMAALAFIISLIPNTVYGWIIVEIACIPILLLSLRR...   \n",
       "4    2cbz      A  NSITVRNATFTWARSDPPTLNGITFSIPEGALVAVVGQVGCGKSSL...   \n",
       "..    ...    ...                                                ...   \n",
       "935  4d8z    A,B  KWDYDLRCGEYTLNLNEKTLIMGILNTPDSFSDGGSYNEVDAAVRH...   \n",
       "936  3k5i    A,B  MWNSRKVGVLGGGQLGRMLVESANRLNIQVNVLDADNSPAKQISAH...   \n",
       "937  3hl7      A  PTFYRQELNKTIWEVPERYQNLSPVGSGAYGSVCAAFDTKTGLRVA...   \n",
       "938  1qyg    L,H  DIVMTQAAPSVPVTPGESVSISCRSSKSLLHSNGYTYLHWFLQRPG...   \n",
       "939  4na9    H,L  IVGGKVCPKGECPWQVLLLVNGAQLCGGTLINTIWVVSAAHCFDKI...   \n",
       "\n",
       "                                                    BS  Affinity_nM      pAff  \\\n",
       "0    27,100,101,102,103,104,105,106,108,110,111,112...      6600.00  5.180456   \n",
       "1    94,95,117,118,119,120,132,133,134,135,136,137,...         2.00  8.698970   \n",
       "2    25,26,27,28,29,31,32,33,34,35,50,51,52,53,54,7...       185.00  6.732828   \n",
       "3    23,27,28,29,30,32,35,57,61,66,67,68,69,70,74,7...         7.44  8.128427   \n",
       "4    10,11,12,17,18,19,34,35,36,37,38,39,40,41,42,4...    118000.00  3.928118   \n",
       "..                                                 ...          ...       ...   \n",
       "935  21,23,24,58,60,87,88,89,90,107,108,109,110,111...       510.00  6.292430   \n",
       "936  390,391,392,393,394,395,396,397,398,399,414,41...     20000.00  4.698970   \n",
       "937  23,24,25,26,27,28,29,30,31,32,33,34,35,43,44,4...        23.00  7.638272   \n",
       "938  28,30,31,32,34,35,36,38,54,93,94,95,96,97,98,1...       140.00  6.853872   \n",
       "939  0,1,23,24,25,26,38,39,40,41,42,43,44,81,83,84,...        41.00  7.387216   \n",
       "\n",
       "                                                SMILES  \n",
       "0                    [NH3+]C(C1=CC=CC=C1)P([O])([O])=O  \n",
       "1    NC(=O)NCC1=CC=C(O)C(C2=CC(C(CC(=O)[O-])C(=O)[O...  \n",
       "2    C[NH+]1CCN(C2=CC3=C(C=C2)N=C(C2=C(N)C4=C(F)C=C...  \n",
       "3                     CC1=NC(N)=C(CC2=CSC(CO)=C2C)C=N1  \n",
       "4    NC1=C2N=CN(C3OC(COP([O])(=O)OP([O])(=O)OP([O])...  \n",
       "..                                                 ...  \n",
       "935           CC(CC(=O)[O-])C1=NN=C2N=C(N)NC(=O)C2=C1O  \n",
       "936             NC1=CN=CN1C1OC(COP([O])([O])=O)C(O)C1O  \n",
       "937  O=C(CO)N1CCC(C2=C(C3=NC=NC=C3)C(C3=CC=C(Cl)C=C...  \n",
       "938    C[NH+]1C2CCC1C(C(=O)[O-])C(OC(=O)C1=CC=CC=C1)C2  \n",
       "939  NC(N)=C1[CH]C2=C(C=C1)NC(C1=CC(C3=C(C(=O)[O-])...  \n",
       "\n",
       "[940 rows x 7 columns]"
      ]
     },
     "execution_count": 39,
     "metadata": {},
     "output_type": "execute_result"
    }
   ],
   "source": [
    "df = data_dff[data_df[\"pAff\"].notna()].reset_index(drop=True)\n",
    "df"
   ]
  },
  {
   "cell_type": "code",
   "execution_count": 40,
   "id": "37e2b016-4f79-4609-8068-d16edb6accf6",
   "metadata": {},
   "outputs": [],
   "source": [
    "df.to_csv(\"/workspace/binding_affinity/datasets/validation2016/validation2016.tsv\", sep=\"\\t\", index=False)"
   ]
  },
  {
   "cell_type": "code",
   "execution_count": null,
   "id": "b512f4f4-997a-4648-86d0-2a41d5e2a42d",
   "metadata": {},
   "outputs": [],
   "source": []
  }
 ],
 "metadata": {
  "kernelspec": {
   "display_name": "Python (team05)",
   "language": "python",
   "name": "team05"
  },
  "language_info": {
   "codemirror_mode": {
    "name": "ipython",
    "version": 3
   },
   "file_extension": ".py",
   "mimetype": "text/x-python",
   "name": "python",
   "nbconvert_exporter": "python",
   "pygments_lexer": "ipython3",
   "version": "3.10.18"
  }
 },
 "nbformat": 4,
 "nbformat_minor": 5
}
