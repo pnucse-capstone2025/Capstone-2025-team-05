{
 "cells": [
  {
   "cell_type": "code",
   "execution_count": 1,
   "id": "3a453ad9-7557-4d52-a125-320c76b7366f",
   "metadata": {},
   "outputs": [],
   "source": [
    "import os\n",
    "os.environ[\"PATH\"] += os.pathsep + \"/opt/conda/envs/team05/bin\"\n",
    "os.environ[\"PATH\"] += os.pathsep + \"/workspace/chimera/bin\"\n",
    "from glob import glob\n",
    "import pandas as pd\n",
    "import numpy as np\n",
    "from Bio import PDB\n",
    "import os\n",
    "from rdkit.Chem.rdmolfiles import MolFromSmiles, MolToSmiles\n",
    "from Bio.PDB import Select, PDBIO\n",
    "from Bio.PDB.PDBParser import PDBParser\n",
    "from biopandas.mol2 import PandasMol2"
   ]
  },
  {
   "cell_type": "code",
   "execution_count": 2,
   "id": "266392c4-a882-4c09-8434-1e516eaa00fb",
   "metadata": {},
   "outputs": [],
   "source": [
    "pdb_path = os.path.abspath(\"datasets/scPDB/\")\n",
    "info_path = os.path.abspath(\"datasets/\")\n",
    "\n",
    "complex_list = [name for name in os.listdir(pdb_path) if not name.startswith(\".\")]"
   ]
  },
  {
   "cell_type": "code",
   "execution_count": null,
   "id": "91e27529-5a5e-4aca-9da6-6d3f972790ca",
   "metadata": {},
   "outputs": [
    {
     "name": "stdout",
     "output_type": "stream",
     "text": [
      "> Opening /workspace/datasets/scPDB/10mh_1/protein.mol2...\n",
      "Opening VRML model in 10mh_SAH_1_protein - Nucleotides...\n",
      "Model 0 (10mh_SAH_1_protein) appears to be a protein without secondary structure assignments.\n",
      "Automatically computing assignments using 'ksdssp' and parameter values:\n",
      "  energy cutoff -0.5\n",
      "  minimum helix length 3\n",
      "  minimum strand length 3\n",
      "Use command 'help ksdssp' for more information.\n",
      "\n",
      "Computing secondary structure assignments...\n",
      "Computed secondary structure assignments (see reply log)\n",
      "10mh_SAH_1_protein opened\n",
      "Opening VRML model in 10mh_SAH_1_protein - Nucleotides...\n",
      "> Wrote /workspace/datasets/scPDB/10mh_1/protein.pdb\n",
      "> > Opening /workspace/datasets/scPDB/11bg_2/protein.mol2...\n",
      "Model 0 (11bg_U2G_2_protein) appears to be a protein without secondary structure assignments.\n",
      "Automatically computing assignments using 'ksdssp' and parameter values:\n",
      "  energy cutoff -0.5\n",
      "  minimum helix length 3\n",
      "  minimum strand length 3\n",
      "Use command 'help ksdssp' for more information.\n",
      "\n",
      "Computing secondary structure assignments...\n",
      "Computed secondary structure assignments (see reply log)\n",
      "11bg_U2G_2_protein opened\n",
      "> Wrote /workspace/datasets/scPDB/11bg_2/protein.pdb\n",
      "> > Opening /workspace/datasets/scPDB/12gs_1/protein.mol2...\n",
      "Model 0 (12gs_0HH_1_protein) appears to be a protein without secondary structure assignments.\n",
      "Automatically computing assignments using 'ksdssp' and parameter values:\n",
      "  energy cutoff -0.5\n",
      "  minimum helix length 3\n",
      "  minimum strand length 3\n",
      "Use command 'help ksdssp' for more information.\n",
      "\n",
      "Computing secondary structure assignments...\n",
      "Computed secondary structure assignments (see reply log)\n",
      "12gs_0HH_1_protein opened\n",
      "> Wrote /workspace/datasets/scPDB/12gs_1/protein.pdb\n",
      "> > Opening /workspace/datasets/scPDB/13gs_1/protein.mol2...\n",
      "Model 0 (13gs_SAS_1_protein) appears to be a protein without secondary structure assignments.\n",
      "Automatically computing assignments using 'ksdssp' and parameter values:\n",
      "  energy cutoff -0.5\n",
      "  minimum helix length 3\n",
      "  minimum strand length 3\n",
      "Use command 'help ksdssp' for more information.\n",
      "\n",
      "Computing secondary structure assignments...\n",
      "Computed secondary structure assignments (see reply log)\n",
      "13gs_SAS_1_protein opened\n",
      "> Wrote /workspace/datasets/scPDB/13gs_1/protein.pdb\n",
      "> > Opening /workspace/datasets/scPDB/17gs_1/protein.mol2...\n",
      "Model 0 (17gs_GTX_1_protein) appears to be a protein without secondary structure assignments.\n",
      "Automatically computing assignments using 'ksdssp' and parameter values:\n",
      "  energy cutoff -0.5\n",
      "  minimum helix length 3\n",
      "  minimum strand length 3\n",
      "Use command 'help ksdssp' for more information.\n",
      "\n",
      "Computing secondary structure assignments...\n",
      "Computed secondary structure assignments (see reply log)\n",
      "17gs_GTX_1_protein opened\n",
      "> Wrote /workspace/datasets/scPDB/17gs_1/protein.pdb\n",
      "> > Opening /workspace/datasets/scPDB/19gs_1/protein.mol2...\n",
      "Model 0 (19gs_BSP_1_protein) appears to be a protein without secondary structure assignments.\n",
      "Automatically computing assignments using 'ksdssp' and parameter values:\n",
      "  energy cutoff -0.5\n",
      "  minimum helix length 3\n",
      "  minimum strand length 3\n",
      "Use command 'help ksdssp' for more information.\n",
      "\n",
      "Computing secondary structure assignments...\n",
      "Computed secondary structure assignments (see reply log)\n",
      "19gs_BSP_1_protein opened\n",
      "> Wrote /workspace/datasets/scPDB/19gs_1/protein.pdb\n",
      "> > Opening /workspace/datasets/scPDB/1a26_1/protein.mol2...\n",
      "Model 0 (1a26_CNA_1_protein) appears to be a protein without secondary structure assignments.\n",
      "Automatically computing assignments using 'ksdssp' and parameter values:\n",
      "  energy cutoff -0.5\n",
      "  minimum helix length 3\n",
      "  minimum strand length 3\n",
      "Use command 'help ksdssp' for more information.\n",
      "\n",
      "Computing secondary structure assignments...\n",
      "Computed secondary structure assignments (see reply log)\n",
      "1a26_CNA_1_protein opened\n",
      "> Wrote /workspace/datasets/scPDB/1a26_1/protein.pdb\n",
      "> > Opening /workspace/datasets/scPDB/1a27_1/protein.mol2...\n",
      "Model 0 (1a27_EST_1_protein) appears to be a protein without secondary structure assignments.\n",
      "Automatically computing assignments using 'ksdssp' and parameter values:\n",
      "  energy cutoff -0.5\n",
      "  minimum helix length 3\n",
      "  minimum strand length 3\n",
      "Use command 'help ksdssp' for more information.\n",
      "\n",
      "Computing secondary structure assignments...\n",
      "Computed secondary structure assignments (see reply log)\n",
      "1a27_EST_1_protein opened\n",
      "> Wrote /workspace/datasets/scPDB/1a27_1/protein.pdb\n",
      "> > Opening /workspace/datasets/scPDB/1a29_1/protein.mol2...\n",
      "Model 0 (1a29_TFP_1_protein) appears to be a protein without secondary structure assignments.\n",
      "Automatically computing assignments using 'ksdssp' and parameter values:\n",
      "  energy cutoff -0.5\n",
      "  minimum helix length 3\n",
      "  minimum strand length 3\n",
      "Use command 'help ksdssp' for more information.\n",
      "\n",
      "Computing secondary structure assignments...\n",
      "Computed secondary structure assignments (see reply log)\n",
      "1a29_TFP_1_protein opened\n",
      "> Wrote /workspace/datasets/scPDB/1a29_1/protein.pdb\n"
     ]
    }
   ],
   "source": [
    "%%bash -s $pdb_path\n",
    "export PATH=\"/opt/conda/envs/team05/bin:/workspace/chimera/bin:$PATH\"\n",
    "\n",
    "path=$1\n",
    "\n",
    "for file in $path/*/protein.mol2; do\n",
    "    output_path=${file%.mol2}.pdb\n",
    "    echo -e \"open $file \\n write format pdb 0 $output_path \\n stop\" | chimera --nogui\n",
    "done"
   ]
  },
  {
   "cell_type": "code",
   "execution_count": null,
   "id": "9c0ea154-2f36-4704-954e-c503709216a3",
   "metadata": {},
   "outputs": [],
   "source": [
    "def remove_HEATM_PDBbind(input_list, path):\n",
    "\n",
    "    class NonHetSelect(Select):\n",
    "        def accept_residue(self, residue):\n",
    "            return 1 if residue.id[0] == \" \" else 0\n",
    "    \n",
    "    for pdb in input_list:\n",
    "\n",
    "        src_file = f\"{pdb_path}/{pdb}/protein.pdb\"\n",
    "        des_file = f\"{pdb_path}/{pdb}/remove_HEATM_protein.pdb\"\n",
    "        \n",
    "        pdb = PDBParser().get_structure(pdb, src_file)\n",
    "        io = PDBIO()\n",
    "        io.set_structure(pdb)\n",
    "        io.save(des_file, NonHetSelect()) "
   ]
  },
  {
   "cell_type": "code",
   "execution_count": null,
   "id": "7968384f-1361-4365-a6cd-af3ced00a244",
   "metadata": {},
   "outputs": [],
   "source": [
    "remove_HEATM_PDBbind(complex_list, pdb_path)"
   ]
  },
  {
   "cell_type": "code",
   "execution_count": null,
   "id": "5943cede-9e97-4157-ab94-ccd2f614c2e2",
   "metadata": {},
   "outputs": [],
   "source": [
    "from scipy.spatial import distance_matrix\n",
    "from multiprocessing import Process, Queue, Pool"
   ]
  },
  {
   "cell_type": "code",
   "execution_count": null,
   "id": "8c0eb69e-afc2-4e5d-b2f4-7365d16b1d65",
   "metadata": {},
   "outputs": [],
   "source": [
    "pdb_parser = PDB.PDBParser(QUIET=True)"
   ]
  },
  {
   "cell_type": "code",
   "execution_count": null,
   "id": "47e9ef67-423b-4369-a417-240b3db9e049",
   "metadata": {},
   "outputs": [],
   "source": [
    "amino_acids_short = {\"ALA\":\"A\", \"ARG\":\"R\", \"ASN\":\"N\", \"ASP\":\"D\", \"CYS\":\"C\", \"GLU\":\"E\", \"GLN\":\"Q\", \"GLY\":\"G\", \"HIS\":\"H\", \"ILE\":\"I\", \"LEU\":\"L\", \"LYS\":\"K\", \"MET\":\"M\", \"PHE\":\"F\", \"PRO\":\"P\", \"SER\":\"S\", \"THR\":\"T\", \"TRP\":\"W\", \"TYR\":\"Y\", \"VAL\":\"V\", \"SEC\":\"U\", \"PYL\":\"O\"}"
   ]
  },
  {
   "cell_type": "code",
   "execution_count": null,
   "id": "7d6b7f0f-dc07-4958-a540-08efa8cf8930",
   "metadata": {},
   "outputs": [],
   "source": [
    "def parallelize_dataframe(df, func, num_partitions=10):\n",
    "    df_split = np.array_split(df, num_partitions)\n",
    "    pool = Pool(num_partitions)\n",
    "    results = pool.map(func, df_split)\n",
    "    pool.close()\n",
    "    pool.join()\n",
    "    return results"
   ]
  },
  {
   "cell_type": "code",
   "execution_count": null,
   "id": "c524fa93-b47b-4bdc-be61-696bf5a7bff7",
   "metadata": {},
   "outputs": [],
   "source": [
    "def get_protein(scpdb):\n",
    "    try:\n",
    "        \"\"\" Load protein info \"\"\"\n",
    "        # remove_HEATM_protein.pdb 파일을 불러옴\n",
    "        structure = pdb_parser.get_structure(scpdb, f\"{pdb_path}/{scpdb}/remove_HEATM_protein.pdb\")\n",
    "        # 초기화: 결과 저장용 리스트 및 인덱스\n",
    "        chain_name_list, pdb_sequence_list, seq_lengths_list, protein_atom_coords, protein_residue_list, reindex = list(), list(), list(), list(), list(), 0\n",
    "\n",
    "        for chain_name in list(structure[0].child_dict.keys()):\n",
    "            chain = structure[0][chain_name]\n",
    "\n",
    "            residue_number, pdb_sequence = list(), \"\"\n",
    "            for residue in chain.get_residues():\n",
    "                # 아미노산 이름이 3-letter → 1-letter 딕셔너리에 있는 경우만 처리\n",
    "                if residue.resname in amino_acids_short.keys():\n",
    "                    residue_number.append(reindex)\n",
    "                    pdb_sequence += amino_acids_short[residue.resname]\n",
    "\n",
    "                    for atom in residue:\n",
    "                        # 원자 좌표 저장\n",
    "                        protein_atom_coords.append(atom.get_coord())\n",
    "                        # 어떤 residue에 속하는지 저장\n",
    "                        protein_residue_list.append(reindex)\n",
    "                    reindex += 1\n",
    "\n",
    "            if len(pdb_sequence) != 0:\n",
    "                chain_name_list.append(chain_name)\n",
    "                pdb_sequence_list.append(pdb_sequence)\n",
    "                seq_lengths_list.append(len(pdb_sequence)) \n",
    "                #residue_number_list.append(\",\".join(map(str, residue_number)))\n",
    "\n",
    "        \"\"\" Load pocket info \"\"\"\n",
    "        bi_df = PandasMol2().read_mol2(f\"{pdb_path}/{scpdb}/site.mol2\").df\n",
    "        bi_df = bi_df.drop_duplicates(\"subst_name\")\n",
    "        bi_df = bi_df.loc[bi_df.subst_name.map(lambda a: a[:3] in amino_acids_short.keys())]\n",
    "        bi_xyz_coordi = bi_df.iloc[:, [2,3,4]].values\n",
    "        bi_x, bi_y, bi_z = bi_xyz_coordi[:, 0], bi_xyz_coordi[:, 1], bi_xyz_coordi[:, 2] \n",
    "\n",
    "        protein_atom_coords, binding_index = np.array(protein_atom_coords), list()\n",
    "\n",
    "        for i, j, k in zip(bi_x, bi_y, bi_z):\n",
    "\n",
    "            tmp_coordi = np.array([i, j, k], dtype = np.float32)\n",
    "\n",
    "            # 정확히 일치하는 좌표를 단백질 원자 좌표에서 찾음\n",
    "            ind = np.where((protein_atom_coords == tmp_coordi).all(axis = 1))[0][0]\n",
    "            binding_index.append(protein_residue_list[ind])\n",
    "\n",
    "        binding_index = list(map(str, binding_index))\n",
    "\n",
    "        total_seq_lengths = np.sum(np.array(seq_lengths_list))\n",
    "        seq_lengths_list = list(map(str, seq_lengths_list))        \n",
    "        \n",
    "        return \",\".join(chain_name_list), \",\".join(pdb_sequence_list), total_seq_lengths, \",\".join(seq_lengths_list), \",\".join(binding_index)\n",
    "    \n",
    "    except Exception as e:\n",
    "        print(scpdb, e)\n",
    "        return None"
   ]
  },
  {
   "cell_type": "code",
   "execution_count": null,
   "id": "cae88464-24e5-4cec-b996-af7fe539760d",
   "metadata": {},
   "outputs": [],
   "source": [
    "def get_raw_protein_info_bulk(df):\n",
    "    return df.scPDB.map(get_protein)"
   ]
  },
  {
   "cell_type": "code",
   "execution_count": null,
   "id": "7b54635f-f107-4037-988f-c4a789cc9d87",
   "metadata": {},
   "outputs": [],
   "source": [
    "pdb = [scpdb[:-2] for scpdb in complex_list]"
   ]
  },
  {
   "cell_type": "code",
   "execution_count": null,
   "id": "e90788fc-28d0-4bba-9b83-cea77d7411e1",
   "metadata": {},
   "outputs": [],
   "source": [
    "data_df = pd.DataFrame({\"scPDB\":complex_list, \"PDB\":pdb})\n",
    "data_df"
   ]
  },
  {
   "cell_type": "code",
   "execution_count": null,
   "id": "2fca1fc8-d4be-4ae6-9ef3-90a1f0b1175f",
   "metadata": {},
   "outputs": [],
   "source": [
    "info_results = parallelize_dataframe(data_df, get_raw_protein_info_bulk, num_partitions = 5)"
   ]
  },
  {
   "cell_type": "code",
   "execution_count": null,
   "id": "2beafb78-4d5c-428b-97cd-cfc76ad94139",
   "metadata": {},
   "outputs": [],
   "source": [
    "info_results = pd.concat(info_results)"
   ]
  },
  {
   "cell_type": "code",
   "execution_count": null,
   "id": "ed0d6fb9-199b-4e33-8e25-ed46ec9bbb77",
   "metadata": {},
   "outputs": [],
   "source": [
    "data_df[\"Chain\"] = info_results.map(lambda a: a[0] if a is not None else None)"
   ]
  },
  {
   "cell_type": "code",
   "execution_count": null,
   "id": "38aff7ef-7637-43a6-a9fb-795e4bae43b5",
   "metadata": {},
   "outputs": [],
   "source": [
    "data_df[\"Sequence\"] = info_results.map(lambda a: a[1] if a is not None else None)"
   ]
  },
  {
   "cell_type": "code",
   "execution_count": null,
   "id": "8c32ef08-80a2-470f-965e-d5aac23d0448",
   "metadata": {},
   "outputs": [],
   "source": [
    "data_df[\"Total_seq_lengths\"] = info_results.map(lambda a: a[2] if a is not None else None)"
   ]
  },
  {
   "cell_type": "code",
   "execution_count": null,
   "id": "599aad38-3d3e-4fc7-a20f-a90f4b9e9d6e",
   "metadata": {},
   "outputs": [],
   "source": [
    "data_df[\"Chain_seq_lengths\"] = info_results.map(lambda a: a[3] if a is not None else None)"
   ]
  },
  {
   "cell_type": "code",
   "execution_count": null,
   "id": "f2d41499-9a94-4fe4-9e54-e0c9976a29fa",
   "metadata": {},
   "outputs": [],
   "source": [
    "data_df[\"BS\"] = info_results.map(lambda a: a[4] if a is not None else None)"
   ]
  },
  {
   "cell_type": "code",
   "execution_count": null,
   "id": "fec69ce4-58ea-4509-9a3b-76cddf0e6936",
   "metadata": {},
   "outputs": [],
   "source": [
    "data_df = data_df.loc[data_df.Sequence.isna()==False].reset_index(drop=True)\n",
    "data_df = data_df.loc[data_df.Chain != \" \"].reset_index(drop=True)\n",
    "\n",
    "data_df"
   ]
  },
  {
   "cell_type": "code",
   "execution_count": null,
   "id": "c25dcc16-2b51-409b-ae64-8aa80e69d209",
   "metadata": {},
   "outputs": [],
   "source": [
    "lengths = data_df.Total_seq_lengths.values\n",
    "\n",
    "data_df = data_df[lengths <= 1500].reset_index(drop=True)\n",
    "data_df"
   ]
  },
  {
   "cell_type": "code",
   "execution_count": null,
   "id": "a4b7686d-46fc-4361-bf48-395350eb02e2",
   "metadata": {},
   "outputs": [],
   "source": [
    "from rdkit.Chem.rdmolfiles import MolFromSmiles, MolToSmiles\n",
    "def read_file(file):\n",
    "    return file.readlines()\n",
    "\n",
    "def add_ligand(scpdb):\n",
    "\n",
    "    mol = f\"{pdb_path}/{scpdb}/ligand.mol2\"\n",
    "\n",
    "    #command = f\"obabel -imol2 {mol} -osmi -O tmp.smi\"\n",
    "    command = f\"obabel -imol2 {mol} -osmi -xC | obabel -ismi -osmi -xk -O tmp.smi\"\n",
    "    os.system(command)\n",
    "\n",
    "    smiles = read_file(open(\"tmp.smi\"))[0].split('\\t')[0].strip()\n",
    "    \n",
    "    try:\n",
    "        smiles = MolToSmiles(MolFromSmiles(smiles),isomericSmiles = False, kekuleSmiles = True)\n",
    "        return smiles\n",
    "    \n",
    "    except Exception as e:\n",
    "        print(scpdb, e)\n",
    "        return None "
   ]
  },
  {
   "cell_type": "code",
   "execution_count": null,
   "id": "854829ca-c476-43c6-9683-fca0de03eb87",
   "metadata": {},
   "outputs": [],
   "source": [
    "SMILES = data_df.scPDB.map(add_ligand)"
   ]
  },
  {
   "cell_type": "code",
   "execution_count": null,
   "id": "da5e2a63-79a4-4c1f-9c74-2e550b342f4c",
   "metadata": {},
   "outputs": [],
   "source": [
    "data_df[\"SMILES\"] = SMILES"
   ]
  },
  {
   "cell_type": "code",
   "execution_count": null,
   "id": "86e4fc17-536e-4794-b82b-2cb7a9e3632a",
   "metadata": {},
   "outputs": [],
   "source": [
    "data_df = data_df.loc[data_df.SMILES.isna()==False].reset_index(drop=True)\n",
    "data_df"
   ]
  },
  {
   "cell_type": "code",
   "execution_count": null,
   "id": "bf0732ab-8eaf-4909-9789-f5c5df1e6731",
   "metadata": {},
   "outputs": [],
   "source": [
    "def get_SMILES_length(df):\n",
    "    index = [True if len(smi) <= 160 else False for smi in df.SMILES.values]\n",
    "    return index"
   ]
  },
  {
   "cell_type": "code",
   "execution_count": null,
   "id": "96c5faa6-3ef7-498b-b84e-c20aeb71814f",
   "metadata": {},
   "outputs": [],
   "source": [
    "smiles_index = get_SMILES_length(data_df)"
   ]
  },
  {
   "cell_type": "code",
   "execution_count": null,
   "id": "7f0541cd-2593-4858-b106-6f5354ac469e",
   "metadata": {},
   "outputs": [],
   "source": [
    "data_df = data_df.loc[smiles_index].reset_index(drop=True)\n",
    "data_df"
   ]
  },
  {
   "cell_type": "code",
   "execution_count": null,
   "id": "288d5643-c39a-47bb-9653-547f1419416b",
   "metadata": {},
   "outputs": [],
   "source": [
    "data_df = data_df.iloc[:, [0, 3, 6]]"
   ]
  },
  {
   "cell_type": "code",
   "execution_count": null,
   "id": "d3e43d52-043e-4145-a1b3-9aeffa13ff39",
   "metadata": {},
   "outputs": [],
   "source": [
    "data_df[\"scPDB\"] = data_df[\"scPDB\"].apply(lambda x: x[:-2] if \"_\" in x and x[-2] == \"_\" else x)\n",
    "data_df.to_csv(\"datasets/scPDB_data.tsv\", sep = \"\\t\", index = False)"
   ]
  }
 ],
 "metadata": {
  "kernelspec": {
   "display_name": "Python (team05)",
   "language": "python",
   "name": "team05"
  },
  "language_info": {
   "codemirror_mode": {
    "name": "ipython",
    "version": 3
   },
   "file_extension": ".py",
   "mimetype": "text/x-python",
   "name": "python",
   "nbconvert_exporter": "python",
   "pygments_lexer": "ipython3",
   "version": "3.10.18"
  }
 },
 "nbformat": 4,
 "nbformat_minor": 5
}
